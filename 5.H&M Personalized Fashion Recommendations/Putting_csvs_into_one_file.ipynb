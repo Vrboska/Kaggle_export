{
 "cells": [
  {
   "cell_type": "code",
   "execution_count": 14,
   "metadata": {
    "ExecuteTime": {
     "end_time": "2022-11-06T18:49:13.526776Z",
     "start_time": "2022-11-06T18:49:13.512967Z"
    }
   },
   "outputs": [],
   "source": [
    "import pandas as pd\n",
    "import numpy as np"
   ]
  },
  {
   "cell_type": "code",
   "execution_count": 15,
   "metadata": {
    "ExecuteTime": {
     "end_time": "2022-11-06T18:49:27.324198Z",
     "start_time": "2022-11-06T18:49:22.028930Z"
    }
   },
   "outputs": [
    {
     "name": "stderr",
     "output_type": "stream",
     "text": [
      "C:\\Users\\hp\\Anaconda3\\lib\\site-packages\\IPython\\core\\interactiveshell.py:3296: DtypeWarning: Columns (6,26,46,58,70,76) have mixed types.Specify dtype option on import or set low_memory=False.\n",
      "  exec(code_obj, self.user_global_ns, self.user_ns)\n"
     ]
    }
   ],
   "source": [
    "df=pd.read_csv('data_0_0_0.csv.gz', na_values='\\\\\\\\N')\n",
    "df.to_csv('model_submission_base.csv')"
   ]
  },
  {
   "cell_type": "code",
   "execution_count": 16,
   "metadata": {
    "ExecuteTime": {
     "end_time": "2022-11-06T18:50:27.014731Z",
     "start_time": "2022-11-06T18:49:37.637448Z"
    }
   },
   "outputs": [
    {
     "name": "stdout",
     "output_type": "stream",
     "text": [
      "0 0\n",
      "1 0\n"
     ]
    },
    {
     "name": "stderr",
     "output_type": "stream",
     "text": [
      "C:\\Users\\hp\\Anaconda3\\lib\\site-packages\\IPython\\core\\interactiveshell.py:3296: DtypeWarning: Columns (6,26,46,58,70,76) have mixed types.Specify dtype option on import or set low_memory=False.\n",
      "  exec(code_obj, self.user_global_ns, self.user_ns)\n"
     ]
    },
    {
     "name": "stdout",
     "output_type": "stream",
     "text": [
      "2 0\n",
      "3 0\n",
      "4 0\n",
      "5 0\n",
      "6 0\n",
      "7 0\n"
     ]
    }
   ],
   "source": [
    "for x in range(8):\n",
    "    for y in range(1):\n",
    "        print(x,y)\n",
    "        if (x,y)==(0,0):\n",
    "            continue\n",
    "        df=pd.read_csv('data_0_'+str(x)+'_'+str(y)+'.csv.gz', na_values='\\\\\\\\N')\n",
    "        df.to_csv('model_submission_base.csv', mode = 'a',\n",
    "                   header = False)"
   ]
  },
  {
   "cell_type": "code",
   "execution_count": 17,
   "metadata": {
    "ExecuteTime": {
     "end_time": "2022-11-06T18:50:27.713976Z",
     "start_time": "2022-11-06T18:50:27.665115Z"
    }
   },
   "outputs": [
    {
     "data": {
      "text/html": [
       "<div>\n",
       "<style scoped>\n",
       "    .dataframe tbody tr th:only-of-type {\n",
       "        vertical-align: middle;\n",
       "    }\n",
       "\n",
       "    .dataframe tbody tr th {\n",
       "        vertical-align: top;\n",
       "    }\n",
       "\n",
       "    .dataframe thead th {\n",
       "        text-align: right;\n",
       "    }\n",
       "</style>\n",
       "<table border=\"1\" class=\"dataframe\">\n",
       "  <thead>\n",
       "    <tr style=\"text-align: right;\">\n",
       "      <th></th>\n",
       "      <th>SNAP_DATE</th>\n",
       "      <th>CUSTOMER_ID</th>\n",
       "      <th>ACTIVE</th>\n",
       "      <th>CLUB_MEMBER_STATUS</th>\n",
       "      <th>FASHION_NEWS_FREQUENCY</th>\n",
       "      <th>AGE</th>\n",
       "      <th>CUSTOMER_ID5</th>\n",
       "      <th>QUANT_PG_ACCESSORIES_1M</th>\n",
       "      <th>QUANT_PG_BAGS_1M</th>\n",
       "      <th>QUANT_PG_COSMETIC_1M</th>\n",
       "      <th>...</th>\n",
       "      <th>QUANT_INDEX_DIVIDED_1M</th>\n",
       "      <th>QUANT_INDEX_LADIESWEAR_1M</th>\n",
       "      <th>QUANT_INDEX_MENSWEAR_1M</th>\n",
       "      <th>QUANT_INDEX_SPORT_1M</th>\n",
       "      <th>CUSTOMER_ID4</th>\n",
       "      <th>QUANT_INDEX_BABYCHILDREN_12M</th>\n",
       "      <th>QUANT_INDEX_DIVIDED_12M</th>\n",
       "      <th>QUANT_INDEX_LADIESWEAR_12M</th>\n",
       "      <th>QUANT_INDEX_MENSWEAR_12M</th>\n",
       "      <th>QUANT_INDEX_SPORT_12M</th>\n",
       "    </tr>\n",
       "  </thead>\n",
       "  <tbody>\n",
       "    <tr>\n",
       "      <th>0</th>\n",
       "      <td>2020-09-22</td>\n",
       "      <td>fe929a1fa7e1e3112e4666c075f0c166c8b9ecbd0bb65b...</td>\n",
       "      <td>NaN</td>\n",
       "      <td>ACTIVE</td>\n",
       "      <td>NONE</td>\n",
       "      <td>52.0</td>\n",
       "      <td>NaN</td>\n",
       "      <td>NaN</td>\n",
       "      <td>NaN</td>\n",
       "      <td>NaN</td>\n",
       "      <td>...</td>\n",
       "      <td>NaN</td>\n",
       "      <td>NaN</td>\n",
       "      <td>NaN</td>\n",
       "      <td>NaN</td>\n",
       "      <td>fe929a1fa7e1e3112e4666c075f0c166c8b9ecbd0bb65b...</td>\n",
       "      <td>NaN</td>\n",
       "      <td>9.0</td>\n",
       "      <td>19.0</td>\n",
       "      <td>NaN</td>\n",
       "      <td>4.0</td>\n",
       "    </tr>\n",
       "    <tr>\n",
       "      <th>1</th>\n",
       "      <td>2020-09-22</td>\n",
       "      <td>54e381612d069559636908c6350a5fbaee6ad670002189...</td>\n",
       "      <td>NaN</td>\n",
       "      <td>ACTIVE</td>\n",
       "      <td>NONE</td>\n",
       "      <td>20.0</td>\n",
       "      <td>54e381612d069559636908c6350a5fbaee6ad670002189...</td>\n",
       "      <td>NaN</td>\n",
       "      <td>NaN</td>\n",
       "      <td>NaN</td>\n",
       "      <td>...</td>\n",
       "      <td>NaN</td>\n",
       "      <td>NaN</td>\n",
       "      <td>3.0</td>\n",
       "      <td>NaN</td>\n",
       "      <td>54e381612d069559636908c6350a5fbaee6ad670002189...</td>\n",
       "      <td>NaN</td>\n",
       "      <td>NaN</td>\n",
       "      <td>NaN</td>\n",
       "      <td>3.0</td>\n",
       "      <td>NaN</td>\n",
       "    </tr>\n",
       "    <tr>\n",
       "      <th>2</th>\n",
       "      <td>2020-09-22</td>\n",
       "      <td>72cdeb85eadf07d194d5aa9db6647ede5de0432c470bdf...</td>\n",
       "      <td>NaN</td>\n",
       "      <td>ACTIVE</td>\n",
       "      <td>NONE</td>\n",
       "      <td>39.0</td>\n",
       "      <td>NaN</td>\n",
       "      <td>NaN</td>\n",
       "      <td>NaN</td>\n",
       "      <td>NaN</td>\n",
       "      <td>...</td>\n",
       "      <td>NaN</td>\n",
       "      <td>NaN</td>\n",
       "      <td>NaN</td>\n",
       "      <td>NaN</td>\n",
       "      <td>72cdeb85eadf07d194d5aa9db6647ede5de0432c470bdf...</td>\n",
       "      <td>NaN</td>\n",
       "      <td>7.0</td>\n",
       "      <td>4.0</td>\n",
       "      <td>NaN</td>\n",
       "      <td>NaN</td>\n",
       "    </tr>\n",
       "    <tr>\n",
       "      <th>3</th>\n",
       "      <td>2020-09-22</td>\n",
       "      <td>1f2f5e61d1cd5582329bc96cf1fc916cc1fdd159700b7e...</td>\n",
       "      <td>1.0</td>\n",
       "      <td>ACTIVE</td>\n",
       "      <td>Regularly</td>\n",
       "      <td>18.0</td>\n",
       "      <td>1f2f5e61d1cd5582329bc96cf1fc916cc1fdd159700b7e...</td>\n",
       "      <td>NaN</td>\n",
       "      <td>NaN</td>\n",
       "      <td>NaN</td>\n",
       "      <td>...</td>\n",
       "      <td>NaN</td>\n",
       "      <td>1.0</td>\n",
       "      <td>1.0</td>\n",
       "      <td>NaN</td>\n",
       "      <td>1f2f5e61d1cd5582329bc96cf1fc916cc1fdd159700b7e...</td>\n",
       "      <td>1.0</td>\n",
       "      <td>NaN</td>\n",
       "      <td>3.0</td>\n",
       "      <td>8.0</td>\n",
       "      <td>NaN</td>\n",
       "    </tr>\n",
       "    <tr>\n",
       "      <th>4</th>\n",
       "      <td>2020-09-22</td>\n",
       "      <td>3e48ae13d18921dfd6fe0fdd70c52a73119ea5b05ee60c...</td>\n",
       "      <td>NaN</td>\n",
       "      <td>ACTIVE</td>\n",
       "      <td>NONE</td>\n",
       "      <td>32.0</td>\n",
       "      <td>3e48ae13d18921dfd6fe0fdd70c52a73119ea5b05ee60c...</td>\n",
       "      <td>NaN</td>\n",
       "      <td>NaN</td>\n",
       "      <td>NaN</td>\n",
       "      <td>...</td>\n",
       "      <td>1.0</td>\n",
       "      <td>4.0</td>\n",
       "      <td>NaN</td>\n",
       "      <td>NaN</td>\n",
       "      <td>3e48ae13d18921dfd6fe0fdd70c52a73119ea5b05ee60c...</td>\n",
       "      <td>1.0</td>\n",
       "      <td>28.0</td>\n",
       "      <td>31.0</td>\n",
       "      <td>1.0</td>\n",
       "      <td>4.0</td>\n",
       "    </tr>\n",
       "  </tbody>\n",
       "</table>\n",
       "<p>5 rows × 82 columns</p>\n",
       "</div>"
      ],
      "text/plain": [
       "    SNAP_DATE                                        CUSTOMER_ID  ACTIVE  \\\n",
       "0  2020-09-22  fe929a1fa7e1e3112e4666c075f0c166c8b9ecbd0bb65b...     NaN   \n",
       "1  2020-09-22  54e381612d069559636908c6350a5fbaee6ad670002189...     NaN   \n",
       "2  2020-09-22  72cdeb85eadf07d194d5aa9db6647ede5de0432c470bdf...     NaN   \n",
       "3  2020-09-22  1f2f5e61d1cd5582329bc96cf1fc916cc1fdd159700b7e...     1.0   \n",
       "4  2020-09-22  3e48ae13d18921dfd6fe0fdd70c52a73119ea5b05ee60c...     NaN   \n",
       "\n",
       "  CLUB_MEMBER_STATUS FASHION_NEWS_FREQUENCY   AGE  \\\n",
       "0             ACTIVE                   NONE  52.0   \n",
       "1             ACTIVE                   NONE  20.0   \n",
       "2             ACTIVE                   NONE  39.0   \n",
       "3             ACTIVE              Regularly  18.0   \n",
       "4             ACTIVE                   NONE  32.0   \n",
       "\n",
       "                                        CUSTOMER_ID5  QUANT_PG_ACCESSORIES_1M  \\\n",
       "0                                                NaN                      NaN   \n",
       "1  54e381612d069559636908c6350a5fbaee6ad670002189...                      NaN   \n",
       "2                                                NaN                      NaN   \n",
       "3  1f2f5e61d1cd5582329bc96cf1fc916cc1fdd159700b7e...                      NaN   \n",
       "4  3e48ae13d18921dfd6fe0fdd70c52a73119ea5b05ee60c...                      NaN   \n",
       "\n",
       "   QUANT_PG_BAGS_1M  QUANT_PG_COSMETIC_1M  ...  QUANT_INDEX_DIVIDED_1M  \\\n",
       "0               NaN                   NaN  ...                     NaN   \n",
       "1               NaN                   NaN  ...                     NaN   \n",
       "2               NaN                   NaN  ...                     NaN   \n",
       "3               NaN                   NaN  ...                     NaN   \n",
       "4               NaN                   NaN  ...                     1.0   \n",
       "\n",
       "   QUANT_INDEX_LADIESWEAR_1M  QUANT_INDEX_MENSWEAR_1M  QUANT_INDEX_SPORT_1M  \\\n",
       "0                        NaN                      NaN                   NaN   \n",
       "1                        NaN                      3.0                   NaN   \n",
       "2                        NaN                      NaN                   NaN   \n",
       "3                        1.0                      1.0                   NaN   \n",
       "4                        4.0                      NaN                   NaN   \n",
       "\n",
       "                                        CUSTOMER_ID4  \\\n",
       "0  fe929a1fa7e1e3112e4666c075f0c166c8b9ecbd0bb65b...   \n",
       "1  54e381612d069559636908c6350a5fbaee6ad670002189...   \n",
       "2  72cdeb85eadf07d194d5aa9db6647ede5de0432c470bdf...   \n",
       "3  1f2f5e61d1cd5582329bc96cf1fc916cc1fdd159700b7e...   \n",
       "4  3e48ae13d18921dfd6fe0fdd70c52a73119ea5b05ee60c...   \n",
       "\n",
       "   QUANT_INDEX_BABYCHILDREN_12M  QUANT_INDEX_DIVIDED_12M  \\\n",
       "0                           NaN                      9.0   \n",
       "1                           NaN                      NaN   \n",
       "2                           NaN                      7.0   \n",
       "3                           1.0                      NaN   \n",
       "4                           1.0                     28.0   \n",
       "\n",
       "   QUANT_INDEX_LADIESWEAR_12M  QUANT_INDEX_MENSWEAR_12M  QUANT_INDEX_SPORT_12M  \n",
       "0                        19.0                       NaN                    4.0  \n",
       "1                         NaN                       3.0                    NaN  \n",
       "2                         4.0                       NaN                    NaN  \n",
       "3                         3.0                       8.0                    NaN  \n",
       "4                        31.0                       1.0                    4.0  \n",
       "\n",
       "[5 rows x 82 columns]"
      ]
     },
     "execution_count": 17,
     "metadata": {},
     "output_type": "execute_result"
    }
   ],
   "source": [
    "df.head()"
   ]
  },
  {
   "cell_type": "code",
   "execution_count": 18,
   "metadata": {
    "ExecuteTime": {
     "end_time": "2022-11-06T18:50:28.480832Z",
     "start_time": "2022-11-06T18:50:28.349760Z"
    }
   },
   "outputs": [
    {
     "name": "stdout",
     "output_type": "stream",
     "text": [
      "<class 'pandas.core.frame.DataFrame'>\n",
      "RangeIndex: 196608 entries, 0 to 196607\n",
      "Data columns (total 82 columns):\n",
      " #   Column                           Non-Null Count   Dtype  \n",
      "---  ------                           --------------   -----  \n",
      " 0   SNAP_DATE                        196608 non-null  object \n",
      " 1   CUSTOMER_ID                      196608 non-null  object \n",
      " 2   ACTIVE                           75821 non-null   float64\n",
      " 3   CLUB_MEMBER_STATUS               196169 non-null  object \n",
      " 4   FASHION_NEWS_FREQUENCY           194721 non-null  object \n",
      " 5   AGE                              195301 non-null  float64\n",
      " 6   CUSTOMER_ID5                     62699 non-null   object \n",
      " 7   QUANT_PG_ACCESSORIES_1M          9980 non-null    float64\n",
      " 8   QUANT_PG_BAGS_1M                 182 non-null     float64\n",
      " 9   QUANT_PG_COSMETIC_1M             5 non-null       float64\n",
      " 10  QUANT_PG_FUN_1M                  1 non-null       float64\n",
      " 11  QUANT_PG_FURNITURE_1M            0 non-null       float64\n",
      " 12  QUANT_PG_GFB_1M                  12277 non-null   float64\n",
      " 13  QUANT_PG_GUB_1M                  46463 non-null   float64\n",
      " 14  QUANT_PG_GLB_1M                  30209 non-null   float64\n",
      " 15  QUANT_PG_GSC_1M                  2 non-null       float64\n",
      " 16  QUANT_PG_IT_1M                   0 non-null       float64\n",
      " 17  QUANT_PG_ITEMS_1M                207 non-null     float64\n",
      " 18  QUANT_PG_NIGHTWEAR_1M            2368 non-null    float64\n",
      " 19  QUANT_PG_SHOES_1M                3982 non-null    float64\n",
      " 20  QUANT_PG_ST_1M                   4390 non-null    float64\n",
      " 21  QUANT_PG_STATIONERY_1M           1 non-null       float64\n",
      " 22  QUANT_PG_SWIMWEAR_1M             2255 non-null    float64\n",
      " 23  QUANT_PG_UNDERWEAR_1M            11738 non-null   float64\n",
      " 24  QUANT_PG_UNDERWEARNIGHTWEAR_1M   3 non-null       float64\n",
      " 25  QUANT_PG_UNKNOWN_1M              3292 non-null    float64\n",
      " 26  CUSTOMER_ID6                     196608 non-null  object \n",
      " 27  QUANT_PG_ACCESSORIES_12M         75925 non-null   float64\n",
      " 28  QUANT_PG_BAGS_12M                1335 non-null    float64\n",
      " 29  QUANT_PG_COSMETIC_12M            74 non-null      float64\n",
      " 30  QUANT_PG_FUN_12M                 1 non-null       float64\n",
      " 31  QUANT_PG_FURNITURE_12M           80 non-null      float64\n",
      " 32  QUANT_PG_GFB_12M                 101163 non-null  float64\n",
      " 33  QUANT_PG_GUB_12M                 168951 non-null  float64\n",
      " 34  QUANT_PG_GLB_12M                 145216 non-null  float64\n",
      " 35  QUANT_PG_GSC_12M                 75 non-null      float64\n",
      " 36  QUANT_PG_IT_12M                  6 non-null       float64\n",
      " 37  QUANT_PG_ITEMS_12M               976 non-null     float64\n",
      " 38  QUANT_PG_NIGHTWEAR_12M           25354 non-null   float64\n",
      " 39  QUANT_PG_SHOES_12M               37623 non-null   float64\n",
      " 40  QUANT_PG_ST_12M                  38710 non-null   float64\n",
      " 41  QUANT_PG_STATIONERY_12M          25 non-null      float64\n",
      " 42  QUANT_PG_SWIMWEAR_12M            59681 non-null   float64\n",
      " 43  QUANT_PG_UNDERWEAR_12M           86168 non-null   float64\n",
      " 44  QUANT_PG_UNDERWEARNIGHTWEAR_12M  26 non-null      float64\n",
      " 45  QUANT_PG_UNKNOWN_12M             13829 non-null   float64\n",
      " 46  CUSTOMER_ID1                     62699 non-null   object \n",
      " 47  QUANT_BLACK_1M                   43299 non-null   float64\n",
      " 48  QUANT_WHITE_1M                   22322 non-null   float64\n",
      " 49  QUANT_GREY_1M                    16439 non-null   float64\n",
      " 50  QUANT_BLUE_1M                    17956 non-null   float64\n",
      " 51  QUANT_PINK_1M                    11033 non-null   float64\n",
      " 52  QUANT_PURPLE_1M                  3921 non-null    float64\n",
      " 53  QUANT_RED_1M                     3497 non-null    float64\n",
      " 54  QUANT_ORANGE_1M                  6588 non-null    float64\n",
      " 55  QUANT_BROWN_1M                   2966 non-null    float64\n",
      " 56  QUANT_YELLOW_1M                  2851 non-null    float64\n",
      " 57  QUANT_GREEN_1M                   11269 non-null   float64\n",
      " 58  CUSTOMER_ID2                     196608 non-null  object \n",
      " 59  QUANT_BLACK_12M                  173591 non-null  float64\n",
      " 60  QUANT_WHITE_12M                  129378 non-null  float64\n",
      " 61  QUANT_GREY_12M                   93848 non-null   float64\n",
      " 62  QUANT_BLUE_12M                   117455 non-null  float64\n",
      " 63  QUANT_PINK_12M                   85700 non-null   float64\n",
      " 64  QUANT_PURPLE_12M                 20994 non-null   float64\n",
      " 65  QUANT_RED_12M                    66033 non-null   float64\n",
      " 66  QUANT_ORANGE_12M                 58341 non-null   float64\n",
      " 67  QUANT_BROWN_12M                  34538 non-null   float64\n",
      " 68  QUANT_YELLOW_12M                 48819 non-null   float64\n",
      " 69  QUANT_GREEN_12M                  93956 non-null   float64\n",
      " 70  CUSTOMER_ID3                     62699 non-null   object \n",
      " 71  QUANT_INDEX_BABYCHILDREN_1M      3215 non-null    float64\n",
      " 72  QUANT_INDEX_DIVIDED_1M           28280 non-null   float64\n",
      " 73  QUANT_INDEX_LADIESWEAR_1M        51285 non-null   float64\n",
      " 74  QUANT_INDEX_MENSWEAR_1M          7367 non-null    float64\n",
      " 75  QUANT_INDEX_SPORT_1M             7658 non-null    float64\n",
      " 76  CUSTOMER_ID4                     196608 non-null  object \n",
      " 77  QUANT_INDEX_BABYCHILDREN_12M     24112 non-null   float64\n",
      " 78  QUANT_INDEX_DIVIDED_12M          139628 non-null  float64\n",
      " 79  QUANT_INDEX_LADIESWEAR_12M       186110 non-null  float64\n",
      " 80  QUANT_INDEX_MENSWEAR_12M         50602 non-null   float64\n",
      " 81  QUANT_INDEX_SPORT_12M            49475 non-null   float64\n",
      "dtypes: float64(72), object(10)\n",
      "memory usage: 123.0+ MB\n"
     ]
    }
   ],
   "source": [
    "df.info()"
   ]
  }
 ],
 "metadata": {
  "kernelspec": {
   "display_name": "Python 3",
   "language": "python",
   "name": "python3"
  },
  "language_info": {
   "codemirror_mode": {
    "name": "ipython",
    "version": 3
   },
   "file_extension": ".py",
   "mimetype": "text/x-python",
   "name": "python",
   "nbconvert_exporter": "python",
   "pygments_lexer": "ipython3",
   "version": "3.7.3"
  },
  "toc": {
   "base_numbering": 1,
   "nav_menu": {},
   "number_sections": true,
   "sideBar": true,
   "skip_h1_title": false,
   "title_cell": "Table of Contents",
   "title_sidebar": "Contents",
   "toc_cell": false,
   "toc_position": {},
   "toc_section_display": true,
   "toc_window_display": false
  },
  "varInspector": {
   "cols": {
    "lenName": 16,
    "lenType": 16,
    "lenVar": 40
   },
   "kernels_config": {
    "python": {
     "delete_cmd_postfix": "",
     "delete_cmd_prefix": "del ",
     "library": "var_list.py",
     "varRefreshCmd": "print(var_dic_list())"
    },
    "r": {
     "delete_cmd_postfix": ") ",
     "delete_cmd_prefix": "rm(",
     "library": "var_list.r",
     "varRefreshCmd": "cat(var_dic_list()) "
    }
   },
   "types_to_exclude": [
    "module",
    "function",
    "builtin_function_or_method",
    "instance",
    "_Feature"
   ],
   "window_display": false
  }
 },
 "nbformat": 4,
 "nbformat_minor": 2
}
