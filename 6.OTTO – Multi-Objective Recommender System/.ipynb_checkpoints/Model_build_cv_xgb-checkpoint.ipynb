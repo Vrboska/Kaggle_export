{
 "cells": [
  {
   "cell_type": "markdown",
   "id": "5d8af747",
   "metadata": {
    "toc": true
   },
   "source": [
    "<h1>Table of Contents<span class=\"tocSkip\"></span></h1>\n",
    "<div class=\"toc\"><ul class=\"toc-item\"><li><span><a href=\"#Data-exploration\" data-toc-modified-id=\"Data-exploration-1\"><span class=\"toc-item-num\">1&nbsp;&nbsp;</span>Data exploration</a></span></li><li><span><a href=\"#XGBoost-model\" data-toc-modified-id=\"XGBoost-model-2\"><span class=\"toc-item-num\">2&nbsp;&nbsp;</span>XGBoost model</a></span><ul class=\"toc-item\"><li><span><a href=\"#Hyperparameter-tuning-with-Hyperopt\" data-toc-modified-id=\"Hyperparameter-tuning-with-Hyperopt-2.1\"><span class=\"toc-item-num\">2.1&nbsp;&nbsp;</span>Hyperparameter tuning with Hyperopt</a></span></li><li><span><a href=\"#Model-fitting\" data-toc-modified-id=\"Model-fitting-2.2\"><span class=\"toc-item-num\">2.2&nbsp;&nbsp;</span>Model fitting</a></span></li></ul></li><li><span><a href=\"#Saving-the-model\" data-toc-modified-id=\"Saving-the-model-3\"><span class=\"toc-item-num\">3&nbsp;&nbsp;</span>Saving the model</a></span></li><li><span><a href=\"#SHAP-values\" data-toc-modified-id=\"SHAP-values-4\"><span class=\"toc-item-num\">4&nbsp;&nbsp;</span>SHAP values</a></span></li><li><span><a href=\"#Fitting-additional-logistic-regression\" data-toc-modified-id=\"Fitting-additional-logistic-regression-5\"><span class=\"toc-item-num\">5&nbsp;&nbsp;</span>Fitting additional logistic regression</a></span></li><li><span><a href=\"#Validation-check\" data-toc-modified-id=\"Validation-check-6\"><span class=\"toc-item-num\">6&nbsp;&nbsp;</span>Validation check</a></span><ul class=\"toc-item\"><li><span><a href=\"#Submission-XGB-SCORE\" data-toc-modified-id=\"Submission-XGB-SCORE-6.1\"><span class=\"toc-item-num\">6.1&nbsp;&nbsp;</span>Submission XGB SCORE</a></span></li><li><span><a href=\"#Submission-combined-strategy\" data-toc-modified-id=\"Submission-combined-strategy-6.2\"><span class=\"toc-item-num\">6.2&nbsp;&nbsp;</span>Submission combined strategy</a></span></li></ul></li><li><span><a href=\"#Misc\" data-toc-modified-id=\"Misc-7\"><span class=\"toc-item-num\">7&nbsp;&nbsp;</span>Misc</a></span></li></ul></div>"
   ]
  },
  {
   "cell_type": "code",
   "execution_count": 1,
   "id": "fe6e2a02",
   "metadata": {
    "ExecuteTime": {
     "end_time": "2022-11-25T18:55:41.614863Z",
     "start_time": "2022-11-25T18:55:41.593951Z"
    }
   },
   "outputs": [],
   "source": [
    "import warnings\n",
    "warnings.filterwarnings('ignore')"
   ]
  },
  {
   "cell_type": "code",
   "execution_count": 2,
   "id": "daec666a",
   "metadata": {
    "ExecuteTime": {
     "end_time": "2022-11-25T18:55:44.688518Z",
     "start_time": "2022-11-25T18:55:41.615876Z"
    }
   },
   "outputs": [],
   "source": [
    "import pandas as pd\n",
    "import numpy as np\n",
    "import random\n",
    "import mofr\n",
    "import matplotlib.pyplot as plt\n",
    "import seaborn as sns\n",
    "from sklearn.model_selection import train_test_split\n",
    "from xgboost import XGBClassifier, plot_tree\n",
    "from lightgbm import LGBMClassifier, plot_tree #LGBMRanker\n",
    "import math\n",
    "import pickle\n",
    "import statsmodels.api as sm\n",
    "\n",
    "\n",
    "import xgboost as xgb"
   ]
  },
  {
   "cell_type": "code",
   "execution_count": 3,
   "id": "f7a31fce",
   "metadata": {
    "ExecuteTime": {
     "end_time": "2022-11-25T18:55:44.709929Z",
     "start_time": "2022-11-25T18:55:44.688518Z"
    }
   },
   "outputs": [],
   "source": [
    "seed=1234"
   ]
  },
  {
   "cell_type": "code",
   "execution_count": 4,
   "id": "dcfa2f92",
   "metadata": {
    "ExecuteTime": {
     "end_time": "2022-11-25T18:55:44.725140Z",
     "start_time": "2022-11-25T18:55:44.712127Z"
    }
   },
   "outputs": [],
   "source": [
    "# file = open(\"type2id.pkl\",'rb')\n",
    "# object_file = pickle.load(file)"
   ]
  },
  {
   "cell_type": "code",
   "execution_count": 5,
   "id": "2f4ff81c",
   "metadata": {
    "ExecuteTime": {
     "end_time": "2022-11-25T18:55:44.741140Z",
     "start_time": "2022-11-25T18:55:44.726140Z"
    }
   },
   "outputs": [],
   "source": [
    "file_name = \"otto_xgb_model_13_cv.pkl\""
   ]
  },
  {
   "cell_type": "code",
   "execution_count": 6,
   "id": "fe3c0294",
   "metadata": {
    "ExecuteTime": {
     "end_time": "2022-11-25T18:55:47.672716Z",
     "start_time": "2022-11-25T18:55:44.742140Z"
    }
   },
   "outputs": [],
   "source": [
    "df=pd.read_parquet('train_sample_full_cv.parquet')#train_sample_full_cv_hidden_targets_float\n",
    "valid=pd.read_parquet('valid_sample_full_cv.parquet')"
   ]
  },
  {
   "cell_type": "code",
   "execution_count": 7,
   "id": "7cea7946",
   "metadata": {
    "ExecuteTime": {
     "end_time": "2022-11-25T18:55:47.688105Z",
     "start_time": "2022-11-25T18:55:47.672716Z"
    }
   },
   "outputs": [],
   "source": [
    "# df=pd.concat([df,valid])"
   ]
  },
  {
   "cell_type": "code",
   "execution_count": 8,
   "id": "f3f3eb9f",
   "metadata": {
    "ExecuteTime": {
     "end_time": "2022-11-25T18:55:47.704107Z",
     "start_time": "2022-11-25T18:55:47.692117Z"
    }
   },
   "outputs": [],
   "source": [
    "df.columns=[x.lower() for x in df.columns]\n",
    "valid.columns=[x.lower() for x in valid.columns]"
   ]
  },
  {
   "cell_type": "code",
   "execution_count": 9,
   "id": "2546e003",
   "metadata": {
    "ExecuteTime": {
     "end_time": "2022-11-25T18:55:47.720108Z",
     "start_time": "2022-11-25T18:55:47.706106Z"
    }
   },
   "outputs": [],
   "source": [
    "# sessions_with_orders=pd.DataFrame(df.groupby('session_id')['target'].sum()).reset_index()\n",
    "# sessions_with_orders=sessions_with_orders[sessions_with_orders['target']>0]\n",
    "# df=df.merge(sessions_with_orders['session_id'], how='inner', on='session_id')"
   ]
  },
  {
   "cell_type": "code",
   "execution_count": 10,
   "id": "54bfc461",
   "metadata": {
    "ExecuteTime": {
     "end_time": "2022-11-25T18:55:47.751508Z",
     "start_time": "2022-11-25T18:55:47.723106Z"
    }
   },
   "outputs": [
    {
     "name": "stdout",
     "output_type": "stream",
     "text": [
      "<class 'pandas.core.frame.DataFrame'>\n",
      "RangeIndex: 16016090 entries, 0 to 16016089\n",
      "Data columns (total 40 columns):\n",
      " #   Column                          Dtype  \n",
      "---  ------                          -----  \n",
      " 0   target                          float64\n",
      " 1   session_id                      float64\n",
      " 2   aid                             float64\n",
      " 3   in_session                      float64\n",
      " 4   in_session_clicked              float64\n",
      " 5   in_session_carted               float64\n",
      " 6   in_session_ordered              float64\n",
      " 7   in_session_score                float64\n",
      " 8   in_session_score_time_weighted  float64\n",
      " 9   times_in_top20                  float64\n",
      " 10  times_in_top20_last_week        float64\n",
      " 11  min_order_hours_from_click_avg  float64\n",
      " 12  avg_order_hours_from_click_avg  float64\n",
      " 13  avg_num_sessions_ordered        float64\n",
      " 14  sum_num_sessions_ordered        float64\n",
      " 15  avg_num_occured_overall         float64\n",
      " 16  sum_num_occured_overall         float64\n",
      " 17  last_num_sessions_ordered       float64\n",
      " 18  last_hour_num_sessions_ordered  float64\n",
      " 19  num_times_ordered_overall       float64\n",
      " 20  sess_num_events                 float64\n",
      " 21  sess_num_clicks                 float64\n",
      " 22  sess_num_carts                  float64\n",
      " 23  sess_num_orders                 float64\n",
      " 24  sess_num_clicks_last_hour       float64\n",
      " 25  sess_num_carts_last_hour        float64\n",
      " 26  sess_num_orders_last_hour       float64\n",
      " 27  sess_duration                   float64\n",
      " 28  sess_days_till_test             float64\n",
      " 29  sess_minute                     float64\n",
      " 30  sess_hour                       float64\n",
      " 31  sess_dayofweek                  float64\n",
      " 32  sess_dayofmonth                 float64\n",
      " 33  number_carts_orders             float64\n",
      " 34  number_carts                    float64\n",
      " 35  number_orders                   float64\n",
      " 36  last_seen                       float64\n",
      " 37  last_bought                     float64\n",
      " 38  bought_overall                  float64\n",
      " 39  seen_overall                    float64\n",
      "dtypes: float64(40)\n",
      "memory usage: 4.8 GB\n"
     ]
    }
   ],
   "source": [
    "df.info()"
   ]
  },
  {
   "cell_type": "code",
   "execution_count": 11,
   "id": "55a008cf",
   "metadata": {
    "ExecuteTime": {
     "end_time": "2022-11-25T18:55:47.781734Z",
     "start_time": "2022-11-25T18:55:47.753502Z"
    }
   },
   "outputs": [
    {
     "data": {
      "text/html": [
       "<div>\n",
       "<style scoped>\n",
       "    .dataframe tbody tr th:only-of-type {\n",
       "        vertical-align: middle;\n",
       "    }\n",
       "\n",
       "    .dataframe tbody tr th {\n",
       "        vertical-align: top;\n",
       "    }\n",
       "\n",
       "    .dataframe thead th {\n",
       "        text-align: right;\n",
       "    }\n",
       "</style>\n",
       "<table border=\"1\" class=\"dataframe\">\n",
       "  <thead>\n",
       "    <tr style=\"text-align: right;\">\n",
       "      <th></th>\n",
       "      <th>target</th>\n",
       "      <th>session_id</th>\n",
       "      <th>aid</th>\n",
       "      <th>in_session</th>\n",
       "      <th>in_session_clicked</th>\n",
       "      <th>in_session_carted</th>\n",
       "      <th>in_session_ordered</th>\n",
       "      <th>in_session_score</th>\n",
       "      <th>in_session_score_time_weighted</th>\n",
       "      <th>times_in_top20</th>\n",
       "      <th>...</th>\n",
       "      <th>sess_hour</th>\n",
       "      <th>sess_dayofweek</th>\n",
       "      <th>sess_dayofmonth</th>\n",
       "      <th>number_carts_orders</th>\n",
       "      <th>number_carts</th>\n",
       "      <th>number_orders</th>\n",
       "      <th>last_seen</th>\n",
       "      <th>last_bought</th>\n",
       "      <th>bought_overall</th>\n",
       "      <th>seen_overall</th>\n",
       "    </tr>\n",
       "  </thead>\n",
       "  <tbody>\n",
       "    <tr>\n",
       "      <th>0</th>\n",
       "      <td>0.0</td>\n",
       "      <td>9489516.0</td>\n",
       "      <td>233164.0</td>\n",
       "      <td>0.0</td>\n",
       "      <td>0.0</td>\n",
       "      <td>0.0</td>\n",
       "      <td>0.0</td>\n",
       "      <td>0.0</td>\n",
       "      <td>0.0</td>\n",
       "      <td>1.0</td>\n",
       "      <td>...</td>\n",
       "      <td>8.0</td>\n",
       "      <td>3.0</td>\n",
       "      <td>17.0</td>\n",
       "      <td>4.0</td>\n",
       "      <td>4.0</td>\n",
       "      <td>0.0</td>\n",
       "      <td>1.482124</td>\n",
       "      <td>60.349619</td>\n",
       "      <td>57.0</td>\n",
       "      <td>861.0</td>\n",
       "    </tr>\n",
       "    <tr>\n",
       "      <th>1</th>\n",
       "      <td>0.0</td>\n",
       "      <td>9489516.0</td>\n",
       "      <td>234450.0</td>\n",
       "      <td>0.0</td>\n",
       "      <td>0.0</td>\n",
       "      <td>0.0</td>\n",
       "      <td>0.0</td>\n",
       "      <td>0.0</td>\n",
       "      <td>0.0</td>\n",
       "      <td>1.0</td>\n",
       "      <td>...</td>\n",
       "      <td>8.0</td>\n",
       "      <td>3.0</td>\n",
       "      <td>17.0</td>\n",
       "      <td>4.0</td>\n",
       "      <td>4.0</td>\n",
       "      <td>0.0</td>\n",
       "      <td>2.253752</td>\n",
       "      <td>6.167958</td>\n",
       "      <td>547.0</td>\n",
       "      <td>3228.0</td>\n",
       "    </tr>\n",
       "    <tr>\n",
       "      <th>2</th>\n",
       "      <td>0.0</td>\n",
       "      <td>9489516.0</td>\n",
       "      <td>236091.0</td>\n",
       "      <td>0.0</td>\n",
       "      <td>0.0</td>\n",
       "      <td>0.0</td>\n",
       "      <td>0.0</td>\n",
       "      <td>0.0</td>\n",
       "      <td>0.0</td>\n",
       "      <td>0.0</td>\n",
       "      <td>...</td>\n",
       "      <td>8.0</td>\n",
       "      <td>3.0</td>\n",
       "      <td>17.0</td>\n",
       "      <td>4.0</td>\n",
       "      <td>4.0</td>\n",
       "      <td>0.0</td>\n",
       "      <td>8.632612</td>\n",
       "      <td>494.168694</td>\n",
       "      <td>1.0</td>\n",
       "      <td>11.0</td>\n",
       "    </tr>\n",
       "    <tr>\n",
       "      <th>3</th>\n",
       "      <td>0.0</td>\n",
       "      <td>9489516.0</td>\n",
       "      <td>238912.0</td>\n",
       "      <td>0.0</td>\n",
       "      <td>0.0</td>\n",
       "      <td>0.0</td>\n",
       "      <td>0.0</td>\n",
       "      <td>0.0</td>\n",
       "      <td>0.0</td>\n",
       "      <td>0.0</td>\n",
       "      <td>...</td>\n",
       "      <td>8.0</td>\n",
       "      <td>3.0</td>\n",
       "      <td>17.0</td>\n",
       "      <td>4.0</td>\n",
       "      <td>4.0</td>\n",
       "      <td>0.0</td>\n",
       "      <td>8.214399</td>\n",
       "      <td>8.214399</td>\n",
       "      <td>1.0</td>\n",
       "      <td>22.0</td>\n",
       "    </tr>\n",
       "    <tr>\n",
       "      <th>4</th>\n",
       "      <td>0.0</td>\n",
       "      <td>9489516.0</td>\n",
       "      <td>239613.0</td>\n",
       "      <td>0.0</td>\n",
       "      <td>0.0</td>\n",
       "      <td>0.0</td>\n",
       "      <td>0.0</td>\n",
       "      <td>0.0</td>\n",
       "      <td>0.0</td>\n",
       "      <td>0.0</td>\n",
       "      <td>...</td>\n",
       "      <td>8.0</td>\n",
       "      <td>3.0</td>\n",
       "      <td>17.0</td>\n",
       "      <td>4.0</td>\n",
       "      <td>4.0</td>\n",
       "      <td>0.0</td>\n",
       "      <td>8.308145</td>\n",
       "      <td>8.308145</td>\n",
       "      <td>8.0</td>\n",
       "      <td>39.0</td>\n",
       "    </tr>\n",
       "  </tbody>\n",
       "</table>\n",
       "<p>5 rows × 40 columns</p>\n",
       "</div>"
      ],
      "text/plain": [
       "   target  session_id       aid  in_session  in_session_clicked  \\\n",
       "0     0.0   9489516.0  233164.0         0.0                 0.0   \n",
       "1     0.0   9489516.0  234450.0         0.0                 0.0   \n",
       "2     0.0   9489516.0  236091.0         0.0                 0.0   \n",
       "3     0.0   9489516.0  238912.0         0.0                 0.0   \n",
       "4     0.0   9489516.0  239613.0         0.0                 0.0   \n",
       "\n",
       "   in_session_carted  in_session_ordered  in_session_score  \\\n",
       "0                0.0                 0.0               0.0   \n",
       "1                0.0                 0.0               0.0   \n",
       "2                0.0                 0.0               0.0   \n",
       "3                0.0                 0.0               0.0   \n",
       "4                0.0                 0.0               0.0   \n",
       "\n",
       "   in_session_score_time_weighted  times_in_top20  ...  sess_hour  \\\n",
       "0                             0.0             1.0  ...        8.0   \n",
       "1                             0.0             1.0  ...        8.0   \n",
       "2                             0.0             0.0  ...        8.0   \n",
       "3                             0.0             0.0  ...        8.0   \n",
       "4                             0.0             0.0  ...        8.0   \n",
       "\n",
       "   sess_dayofweek  sess_dayofmonth  number_carts_orders  number_carts  \\\n",
       "0             3.0             17.0                  4.0           4.0   \n",
       "1             3.0             17.0                  4.0           4.0   \n",
       "2             3.0             17.0                  4.0           4.0   \n",
       "3             3.0             17.0                  4.0           4.0   \n",
       "4             3.0             17.0                  4.0           4.0   \n",
       "\n",
       "   number_orders  last_seen  last_bought  bought_overall  seen_overall  \n",
       "0            0.0   1.482124    60.349619            57.0         861.0  \n",
       "1            0.0   2.253752     6.167958           547.0        3228.0  \n",
       "2            0.0   8.632612   494.168694             1.0          11.0  \n",
       "3            0.0   8.214399     8.214399             1.0          22.0  \n",
       "4            0.0   8.308145     8.308145             8.0          39.0  \n",
       "\n",
       "[5 rows x 40 columns]"
      ]
     },
     "execution_count": 11,
     "metadata": {},
     "output_type": "execute_result"
    }
   ],
   "source": [
    "df.head()"
   ]
  },
  {
   "cell_type": "code",
   "execution_count": 12,
   "id": "d66062f6",
   "metadata": {
    "ExecuteTime": {
     "end_time": "2022-11-25T18:56:01.972692Z",
     "start_time": "2022-11-25T18:55:47.783718Z"
    }
   },
   "outputs": [],
   "source": [
    "df['null_flag']=(df['avg_order_hours_from_click_avg']<99999).apply(int)\n",
    "df['in_session_carted_not_ordered']=((df['in_session_carted']>0)&(df['in_session_ordered']==0)).apply(int)\n",
    "df['in_session_clicked_not_carted']=((df['in_session_clicked']>0)&(df['in_session_carted']==0)).apply(int)\n",
    "valid['null_flag']=(valid['avg_order_hours_from_click_avg']<99999).apply(int)\n",
    "valid['in_session_carted_not_ordered']=((valid['in_session_carted']>0)&(valid['in_session_ordered']==0)).apply(int)"
   ]
  },
  {
   "cell_type": "code",
   "execution_count": 13,
   "id": "9726a4f1",
   "metadata": {
    "ExecuteTime": {
     "end_time": "2022-11-25T18:56:02.067794Z",
     "start_time": "2022-11-25T18:56:01.972692Z"
    }
   },
   "outputs": [
    {
     "data": {
      "text/plain": [
       "1    0.752698\n",
       "0    0.247302\n",
       "Name: null_flag, dtype: float64"
      ]
     },
     "execution_count": 13,
     "metadata": {},
     "output_type": "execute_result"
    }
   ],
   "source": [
    "df['null_flag'].value_counts(normalize=True)"
   ]
  },
  {
   "cell_type": "code",
   "execution_count": 14,
   "id": "a46ae7eb",
   "metadata": {
    "ExecuteTime": {
     "end_time": "2022-11-25T18:56:02.160509Z",
     "start_time": "2022-11-25T18:56:02.068803Z"
    }
   },
   "outputs": [
    {
     "data": {
      "text/plain": [
       "0.0    15989660\n",
       "1.0       26430\n",
       "Name: target, dtype: int64"
      ]
     },
     "execution_count": 14,
     "metadata": {},
     "output_type": "execute_result"
    }
   ],
   "source": [
    "df['target'].value_counts()"
   ]
  },
  {
   "cell_type": "code",
   "execution_count": 15,
   "id": "c43946b8",
   "metadata": {
    "ExecuteTime": {
     "end_time": "2022-11-25T18:56:02.175660Z",
     "start_time": "2022-11-25T18:56:02.160509Z"
    }
   },
   "outputs": [],
   "source": [
    "#df=df[df['null_flag']==1].reset_index()\n",
    "#valid=valid[valid['null_flag']==1].reset_index()"
   ]
  },
  {
   "cell_type": "code",
   "execution_count": 16,
   "id": "7e20d220",
   "metadata": {
    "ExecuteTime": {
     "end_time": "2022-11-25T18:56:02.254499Z",
     "start_time": "2022-11-25T18:56:02.176660Z"
    }
   },
   "outputs": [
    {
     "data": {
      "text/plain": [
       "0.0    15989660\n",
       "1.0       26430\n",
       "Name: target, dtype: int64"
      ]
     },
     "execution_count": 16,
     "metadata": {},
     "output_type": "execute_result"
    }
   ],
   "source": [
    "df['target'].value_counts()"
   ]
  },
  {
   "cell_type": "code",
   "execution_count": 17,
   "id": "14bd5920",
   "metadata": {
    "ExecuteTime": {
     "end_time": "2022-11-25T18:56:02.604267Z",
     "start_time": "2022-11-25T18:56:02.256501Z"
    }
   },
   "outputs": [],
   "source": [
    "rand=np.random.randint(1, 11, df.shape[0])\n",
    "\n",
    "train_mask=(df['sess_days_till_test']+df['sess_duration']/24)>0#rand<=8\n",
    "valid_mask=(df['sess_days_till_test']+df['sess_duration']/24)>0#rand>8"
   ]
  },
  {
   "cell_type": "code",
   "execution_count": 18,
   "id": "bd81e8e4",
   "metadata": {
    "ExecuteTime": {
     "end_time": "2022-11-25T18:56:04.970669Z",
     "start_time": "2022-11-25T18:56:02.605258Z"
    }
   },
   "outputs": [
    {
     "data": {
      "text/plain": [
       "0.0    15989660\n",
       "1.0       26430\n",
       "Name: target, dtype: int64"
      ]
     },
     "execution_count": 18,
     "metadata": {},
     "output_type": "execute_result"
    }
   ],
   "source": [
    "df[train_mask]['target'].value_counts()"
   ]
  },
  {
   "cell_type": "code",
   "execution_count": 19,
   "id": "ae9c452a",
   "metadata": {
    "ExecuteTime": {
     "end_time": "2022-11-25T18:56:06.846119Z",
     "start_time": "2022-11-25T18:56:04.972687Z"
    }
   },
   "outputs": [
    {
     "data": {
      "text/plain": [
       "0.0    15989660\n",
       "1.0       26430\n",
       "Name: target, dtype: int64"
      ]
     },
     "execution_count": 19,
     "metadata": {},
     "output_type": "execute_result"
    }
   ],
   "source": [
    "df[valid_mask]['target'].value_counts()"
   ]
  },
  {
   "cell_type": "code",
   "execution_count": 20,
   "id": "a0108774",
   "metadata": {
    "ExecuteTime": {
     "end_time": "2022-11-25T18:56:06.862069Z",
     "start_time": "2022-11-25T18:56:06.848070Z"
    }
   },
   "outputs": [],
   "source": [
    "col_target='target'\n",
    "col_exclude=[\n",
    "'session_id',\n",
    "'aid',\n",
    "# 'num_times_ordered_overall',\n",
    "'number_carts_orders',\n",
    "'number_carts',\n",
    "'number_orders',\n",
    "'sess_days_till_test',\n",
    "'sess_dayofmonth',\n",
    "# 'in_session',\n",
    "# 'in_session_clicked',\n",
    "# 'in_session_carted',\n",
    "#  'in_session_ordered',\n",
    "#  'in_session_score',\n",
    "\n",
    "col_target,]"
   ]
  },
  {
   "cell_type": "code",
   "execution_count": 21,
   "id": "c9bc904b",
   "metadata": {
    "ExecuteTime": {
     "end_time": "2022-11-25T18:56:06.877443Z",
     "start_time": "2022-11-25T18:56:06.864066Z"
    }
   },
   "outputs": [],
   "source": [
    "# df[col_target]=df[col_target].apply(int)"
   ]
  },
  {
   "cell_type": "markdown",
   "id": "4f79568a",
   "metadata": {},
   "source": [
    "# Data exploration"
   ]
  },
  {
   "cell_type": "code",
   "execution_count": 22,
   "id": "eb8c02e9",
   "metadata": {
    "ExecuteTime": {
     "end_time": "2022-11-25T18:56:06.892920Z",
     "start_time": "2022-11-25T18:56:06.878434Z"
    }
   },
   "outputs": [],
   "source": [
    "col_preds=[col for col in df.columns[3:] if col not in col_exclude]"
   ]
  },
  {
   "cell_type": "code",
   "execution_count": 23,
   "id": "28f51914",
   "metadata": {
    "ExecuteTime": {
     "end_time": "2022-11-25T18:56:06.907939Z",
     "start_time": "2022-11-25T18:56:06.895019Z"
    }
   },
   "outputs": [
    {
     "data": {
      "text/plain": [
       "35"
      ]
     },
     "execution_count": 23,
     "metadata": {},
     "output_type": "execute_result"
    }
   ],
   "source": [
    "len(col_preds)"
   ]
  },
  {
   "cell_type": "code",
   "execution_count": 24,
   "id": "a8399d9b",
   "metadata": {
    "ExecuteTime": {
     "end_time": "2022-11-25T18:56:06.923952Z",
     "start_time": "2022-11-25T18:56:06.908951Z"
    }
   },
   "outputs": [
    {
     "data": {
      "text/plain": [
       "['in_session',\n",
       " 'in_session_clicked',\n",
       " 'in_session_carted',\n",
       " 'in_session_ordered',\n",
       " 'in_session_score',\n",
       " 'in_session_score_time_weighted',\n",
       " 'times_in_top20',\n",
       " 'times_in_top20_last_week',\n",
       " 'min_order_hours_from_click_avg',\n",
       " 'avg_order_hours_from_click_avg',\n",
       " 'avg_num_sessions_ordered',\n",
       " 'sum_num_sessions_ordered',\n",
       " 'avg_num_occured_overall',\n",
       " 'sum_num_occured_overall',\n",
       " 'last_num_sessions_ordered',\n",
       " 'last_hour_num_sessions_ordered',\n",
       " 'num_times_ordered_overall',\n",
       " 'sess_num_events',\n",
       " 'sess_num_clicks',\n",
       " 'sess_num_carts',\n",
       " 'sess_num_orders',\n",
       " 'sess_num_clicks_last_hour',\n",
       " 'sess_num_carts_last_hour',\n",
       " 'sess_num_orders_last_hour',\n",
       " 'sess_duration',\n",
       " 'sess_minute',\n",
       " 'sess_hour',\n",
       " 'sess_dayofweek',\n",
       " 'last_seen',\n",
       " 'last_bought',\n",
       " 'bought_overall',\n",
       " 'seen_overall',\n",
       " 'null_flag',\n",
       " 'in_session_carted_not_ordered',\n",
       " 'in_session_clicked_not_carted']"
      ]
     },
     "execution_count": 24,
     "metadata": {},
     "output_type": "execute_result"
    }
   ],
   "source": [
    "col_preds"
   ]
  },
  {
   "cell_type": "markdown",
   "id": "cddd700f",
   "metadata": {
    "ExecuteTime": {
     "end_time": "2022-11-16T09:07:24.490773Z",
     "start_time": "2022-11-16T09:07:24.490773Z"
    }
   },
   "source": [
    "# XGBoost model"
   ]
  },
  {
   "cell_type": "markdown",
   "id": "a2fcaa42",
   "metadata": {},
   "source": [
    "## Hyperparameter tuning with Hyperopt"
   ]
  },
  {
   "cell_type": "code",
   "execution_count": 25,
   "id": "c3cb903d",
   "metadata": {
    "ExecuteTime": {
     "end_time": "2022-11-25T18:56:06.939140Z",
     "start_time": "2022-11-25T18:56:06.924954Z"
    },
    "code_folding": [
     5,
     23
    ],
    "hide_input": false,
    "scrolled": true
   },
   "outputs": [],
   "source": [
    "# from hyperopt import fmin, tpe, hp, anneal, Trials, STATUS_OK\n",
    "\n",
    "# sample_train=df[train_mask].sample(250000)\n",
    "# sample_valid=df[valid_mask].sample(100000)\n",
    "\n",
    "# space={'max_depth': hp.quniform(\"max_depth\", 3, 6, 1),\n",
    "#         'gamma': hp.uniform ('gamma', 1,9),\n",
    "#         'reg_alpha' : hp.quniform('reg_alpha', 40,180,1),\n",
    "#         'reg_lambda' : hp.uniform('reg_lambda', 0,1),\n",
    "#         'colsample_bytree' : hp.uniform('colsample_bytree', 0.5,1),\n",
    "#         'min_child_weight' : hp.quniform('min_child_weight', 0, 10, 1),\n",
    "#         'n_estimators': 100,\n",
    "#         'seed': 0\n",
    "#     }\n",
    "\n",
    "# def objective(space):\n",
    "#     clf=xgb.XGBClassifier(\n",
    "#                     n_estimators =space['n_estimators'], max_depth = int(space['max_depth']), gamma = space['gamma'],\n",
    "#                     reg_alpha = int(space['reg_alpha']),min_child_weight=int(space['min_child_weight']),\n",
    "#                     colsample_bytree=int(space['colsample_bytree']))\n",
    "    \n",
    "#     evaluation = [( sample_train[col_preds], sample_train[col_target]), ( sample_valid[col_preds], sample_valid[col_target])]\n",
    "    \n",
    "#     clf.fit(sample_train[col_preds], sample_train[col_target],\n",
    "#             eval_set=evaluation, eval_metric=\"auc\",\n",
    "#             early_stopping_rounds=10,verbose=False)\n",
    "    \n",
    "\n",
    "#     pred = clf.predict_proba(sample_valid[col_preds])[:, 1]\n",
    "#     gini = mofr.metrics.gini(sample_valid[col_target], pred)\n",
    "#     print (\"SCORE:\", gini)\n",
    "#     return {'loss': -gini, 'status': STATUS_OK }\n",
    "\n",
    "# trials = Trials()\n",
    "\n",
    "# best_hyperparams = fmin(fn = objective,\n",
    "#                         space = space,\n",
    "#                         algo = tpe.suggest,\n",
    "#                         max_evals = 33,\n",
    "#                         trials = trials)\n",
    "\n",
    "# del sample_train\n",
    "# del sample_valid\n",
    "\n",
    "# hyperparams_name = \"best_hyperparams_cv.pkl\"\n",
    "\n",
    "# # save\n",
    "# pickle.dump(best_hyperparams, open(hyperparams_name, \"wb\"))"
   ]
  },
  {
   "cell_type": "markdown",
   "id": "df29fbd8",
   "metadata": {},
   "source": [
    "## Model fitting"
   ]
  },
  {
   "cell_type": "code",
   "execution_count": 26,
   "id": "6d0be5de",
   "metadata": {
    "ExecuteTime": {
     "end_time": "2022-11-25T18:56:06.954431Z",
     "start_time": "2022-11-25T18:56:06.940157Z"
    }
   },
   "outputs": [],
   "source": [
    "hyperparams_name = \"best_hyperparams_cv.pkl\"\n",
    "best_hyperparams= pickle.load(open(hyperparams_name, \"rb\"))"
   ]
  },
  {
   "cell_type": "code",
   "execution_count": 27,
   "id": "6f9ba88d",
   "metadata": {
    "ExecuteTime": {
     "end_time": "2022-11-25T18:56:06.970440Z",
     "start_time": "2022-11-25T18:56:06.955435Z"
    }
   },
   "outputs": [
    {
     "data": {
      "text/plain": [
       "{'colsample_bytree': 0.5378782340350697,\n",
       " 'gamma': 3.938413440616859,\n",
       " 'max_depth': 4,\n",
       " 'min_child_weight': 6.0,\n",
       " 'reg_alpha': 46.0,\n",
       " 'reg_lambda': 0.4149847395970465}"
      ]
     },
     "execution_count": 27,
     "metadata": {},
     "output_type": "execute_result"
    }
   ],
   "source": [
    "best_hyperparams['max_depth']=int(best_hyperparams['max_depth'])\n",
    "best_hyperparams['max_depth']=4\n",
    "best_hyperparams"
   ]
  },
  {
   "cell_type": "code",
   "execution_count": 28,
   "id": "b4ad4343",
   "metadata": {
    "ExecuteTime": {
     "end_time": "2022-11-25T18:56:08.634956Z",
     "start_time": "2022-11-25T18:56:06.978430Z"
    }
   },
   "outputs": [
    {
     "name": "stdout",
     "output_type": "stream",
     "text": [
      "11098470.0\n"
     ]
    },
    {
     "data": {
      "text/plain": [
       "0.0    15989660\n",
       "1.0       26430\n",
       "Name: target, dtype: int64"
      ]
     },
     "execution_count": 28,
     "metadata": {},
     "output_type": "execute_result"
    }
   ],
   "source": [
    "train=df[train_mask]#&(df['null_flag']==1)\n",
    "print(train['session_id'].max())\n",
    "train[col_target].value_counts()"
   ]
  },
  {
   "cell_type": "code",
   "execution_count": null,
   "id": "6386fa59",
   "metadata": {
    "ExecuteTime": {
     "start_time": "2022-11-25T18:55:41.623Z"
    },
    "scrolled": false
   },
   "outputs": [],
   "source": [
    "xgb_model = XGBClassifier(max_depth=4, seed=seed, colsample_bytree=0.5, gamma=1, min_child_weight=5, n_estimators=100)##**best_hyperparams\n",
    "xgb_model.fit(train.loc[:, col_preds], train[col_target], verbose=0, eval_metric='auc')"
   ]
  },
  {
   "cell_type": "code",
   "execution_count": null,
   "id": "681848e9",
   "metadata": {
    "ExecuteTime": {
     "start_time": "2022-11-25T18:55:41.624Z"
    }
   },
   "outputs": [],
   "source": [
    "df['XGB_SCORE']=xgb_model.predict_proba(df[col_preds])[:, 1]\n",
    "train['XGB_SCORE']=xgb_model.predict_proba(train[col_preds])[:, 1]\n",
    "valid['XGB_SCORE']=xgb_model.predict_proba(valid[col_preds])[:, 1]"
   ]
  },
  {
   "cell_type": "code",
   "execution_count": null,
   "id": "2de71a52",
   "metadata": {
    "ExecuteTime": {
     "start_time": "2022-11-25T18:55:41.625Z"
    },
    "hide_input": false
   },
   "outputs": [],
   "source": [
    "print('The Lift on the train set is: '+ str(mofr.metrics.lift(train[col_target], train['XGB_SCORE'])))\n",
    "print('The gini on the train set is: '+ str(mofr.metrics.gini(train[col_target].apply(int), train['XGB_SCORE'])))\n",
    "# print('The accuracy on the train set is: '+ str(mofr.metrics.accuracy_score(train[col_target].apply(int), train['XGB_SCORE'].apply(lambda x: int(x>0.5)))))\n",
    "print('\\n')\n",
    "print('The Lift on the valid set is: '+ str(mofr.metrics.lift(valid[col_target], valid['XGB_SCORE'])))\n",
    "print('The gini on the valid set is: '+ str(mofr.metrics.gini(valid[col_target].apply(int), valid['XGB_SCORE'])))\n",
    "# print('The accuracy on the valid set is: '+ str(mofr.metrics.accuracy_score(df[valid_mask][col_target].apply(int), df[valid_mask]['XGB_SCORE'].apply(lambda x: int(x>0.5)))))\n",
    "print('\\n')"
   ]
  },
  {
   "cell_type": "code",
   "execution_count": null,
   "id": "a806c730",
   "metadata": {
    "ExecuteTime": {
     "start_time": "2022-11-25T18:55:41.626Z"
    },
    "hide_input": true
   },
   "outputs": [],
   "source": [
    "from mofr.basic_evaluators.ROCCurve import ROCCurveEvaluator\n",
    "df['one']=1\n",
    "\n",
    "rce=ROCCurveEvaluator()\n",
    "rce.d(df[valid_mask]).t([(col_target,'one')]).s(['XGB_SCORE'])\n",
    "rce.get_graph()\n",
    "\n",
    "del df['one']"
   ]
  },
  {
   "cell_type": "code",
   "execution_count": null,
   "id": "a6877e5e",
   "metadata": {
    "ExecuteTime": {
     "start_time": "2022-11-25T18:55:41.627Z"
    },
    "hide_input": true,
    "scrolled": false
   },
   "outputs": [],
   "source": [
    "sorted_idx = xgb_model.feature_importances_.argsort()\n",
    "order_ = []\n",
    "for i in sorted_idx:\n",
    "  order_.append(xgb_model.feature_names_in_[i])\n",
    "plt.figure(figsize=(10, 10))\n",
    "fig = plt.barh(order_, xgb_model.feature_importances_[sorted_idx])\n",
    "plt.xlabel(\"Xgboost Feature Importance\")\n",
    "plt.show()"
   ]
  },
  {
   "cell_type": "code",
   "execution_count": null,
   "id": "94553bef",
   "metadata": {
    "ExecuteTime": {
     "start_time": "2022-11-25T18:55:41.628Z"
    },
    "hide_input": true
   },
   "outputs": [],
   "source": [
    "import os\n",
    "os.environ[\"PATH\"] += os.pathsep + 'c:/Program Files/Graphviz/bin/'\n",
    "\n",
    "from xgboost import plot_tree\n",
    "plt.rcParams[\"figure.figsize\"] = (40,40)\n",
    "plot_tree(xgb_model)\n",
    "plt.show()"
   ]
  },
  {
   "cell_type": "code",
   "execution_count": null,
   "id": "0eacf0b5",
   "metadata": {
    "ExecuteTime": {
     "start_time": "2022-11-25T18:55:41.629Z"
    },
    "hide_input": true
   },
   "outputs": [],
   "source": [
    "# results=[]\n",
    "# for col in col_preds:\n",
    "#     results.append((col, np.abs(mofr.metrics.gini(df[valid_mask][col_target], df[valid_mask][col]))))\n",
    "  \n",
    "# pd.DataFrame(results, columns=['Predictor', 'GINI']).sort_values(by='GINI', ascending=False)[0:30]"
   ]
  },
  {
   "cell_type": "markdown",
   "id": "79e777cb",
   "metadata": {},
   "source": [
    "# Saving the model"
   ]
  },
  {
   "cell_type": "code",
   "execution_count": null,
   "id": "09e05bb0",
   "metadata": {
    "ExecuteTime": {
     "start_time": "2022-11-25T18:55:41.631Z"
    }
   },
   "outputs": [],
   "source": [
    "#file_name = \"otto_xgb_model_10_3weeks_no_nulls.pkl\"\n",
    "\n",
    "# save\n",
    "pickle.dump(xgb_model, open(file_name, \"wb\"))\n",
    "\n",
    "# # load\n",
    "# #xgb_model= pickle.load(open(file_name, \"rb\"))"
   ]
  },
  {
   "cell_type": "markdown",
   "id": "464802c1",
   "metadata": {},
   "source": [
    "# SHAP values"
   ]
  },
  {
   "cell_type": "code",
   "execution_count": null,
   "id": "6c29ea61",
   "metadata": {
    "ExecuteTime": {
     "start_time": "2022-11-25T18:55:41.632Z"
    },
    "hide_input": true,
    "scrolled": true
   },
   "outputs": [],
   "source": [
    "import shap  # package used to calculate Shap values\n",
    "row_to_show = 1\n",
    "data_for_prediction = train[col_preds].iloc[row_to_show]  # use 1 row of data here. Could use multiple rows if desired\n",
    "data_for_prediction_array = data_for_prediction.values.reshape(1, -1)\n",
    "\n",
    "# Create object that can calculate shap values\n",
    "explainer = shap.TreeExplainer(xgb_model)\n",
    "\n",
    "# Calculate Shap values\n",
    "shap_values = explainer.shap_values(data_for_prediction_array)\n",
    "shap.initjs()\n",
    "shap.force_plot(explainer.expected_value, shap_values, data_for_prediction)"
   ]
  },
  {
   "cell_type": "code",
   "execution_count": null,
   "id": "a795cf37",
   "metadata": {
    "ExecuteTime": {
     "start_time": "2022-11-25T18:55:41.633Z"
    },
    "hide_input": true,
    "scrolled": false
   },
   "outputs": [],
   "source": [
    "sample=train[col_preds].sample(100000)\n",
    "shap_values = explainer.shap_values(sample)\n",
    "shap.summary_plot(shap_values, sample[col_preds])"
   ]
  },
  {
   "cell_type": "code",
   "execution_count": null,
   "id": "46628255",
   "metadata": {
    "ExecuteTime": {
     "start_time": "2022-11-25T18:55:41.634Z"
    }
   },
   "outputs": [],
   "source": [
    "sample=train.sample(100000)\n",
    "results=[]\n",
    "for col in col_preds:\n",
    "    results.append((col, mofr.metrics.gini(sample[col_target], sample[col].fillna(-999))))\n",
    "\n",
    "pd.DataFrame(results, columns=['Predictor', 'GINI']).sort_values(by='GINI', ascending=False)"
   ]
  },
  {
   "cell_type": "code",
   "execution_count": null,
   "id": "e6bf4dab",
   "metadata": {
    "ExecuteTime": {
     "start_time": "2022-11-25T18:55:41.635Z"
    }
   },
   "outputs": [],
   "source": [
    "del sample"
   ]
  },
  {
   "cell_type": "markdown",
   "id": "1bf5594e",
   "metadata": {},
   "source": [
    "# Validation check"
   ]
  },
  {
   "cell_type": "code",
   "execution_count": null,
   "id": "f8bf9003",
   "metadata": {
    "ExecuteTime": {
     "start_time": "2022-11-25T18:55:41.637Z"
    },
    "hide_input": true
   },
   "outputs": [],
   "source": [
    "# del df\n",
    "# del train"
   ]
  },
  {
   "cell_type": "code",
   "execution_count": null,
   "id": "f8e91196",
   "metadata": {
    "ExecuteTime": {
     "start_time": "2022-11-25T18:55:41.638Z"
    },
    "hide_input": true
   },
   "outputs": [],
   "source": [
    "import pandas as pd\n",
    "import numpy as np\n",
    "import random\n",
    "import mofr\n",
    "import matplotlib.pyplot as plt\n",
    "import seaborn as sns\n",
    "from xgboost import XGBClassifier, plot_tree\n",
    "import math\n",
    "import pickle\n",
    "\n",
    "\n",
    "import xgboost as xgb"
   ]
  },
  {
   "cell_type": "code",
   "execution_count": null,
   "id": "3089bba7",
   "metadata": {
    "ExecuteTime": {
     "start_time": "2022-11-25T18:55:41.639Z"
    }
   },
   "outputs": [],
   "source": [
    "#file_name = \"otto_xgb_model_10_3weeks_no_nulls.pkl\"\n",
    "\n",
    "#load\n",
    "xgb_model= pickle.load(open(file_name, \"rb\"))"
   ]
  },
  {
   "cell_type": "code",
   "execution_count": null,
   "id": "f837bc0b",
   "metadata": {
    "ExecuteTime": {
     "start_time": "2022-11-25T18:55:41.640Z"
    },
    "hide_input": true
   },
   "outputs": [],
   "source": [
    "col_target='target'"
   ]
  },
  {
   "cell_type": "code",
   "execution_count": null,
   "id": "39c9dccf",
   "metadata": {
    "ExecuteTime": {
     "start_time": "2022-11-25T18:55:41.641Z"
    },
    "hide_input": true
   },
   "outputs": [],
   "source": [
    "valid.head()"
   ]
  },
  {
   "cell_type": "code",
   "execution_count": null,
   "id": "af31e5c9",
   "metadata": {
    "ExecuteTime": {
     "start_time": "2022-11-25T18:55:41.642Z"
    }
   },
   "outputs": [],
   "source": [
    "valid[col_target].value_counts()"
   ]
  },
  {
   "cell_type": "code",
   "execution_count": null,
   "id": "943ad1ad",
   "metadata": {
    "ExecuteTime": {
     "start_time": "2022-11-25T18:55:41.643Z"
    }
   },
   "outputs": [],
   "source": [
    "coverage=(pd.DataFrame(df.groupby('session_id')[col_target].apply(np.sum)).reset_index()).merge(df.groupby('session_id')[['number_carts_orders','number_carts', 'number_orders']].apply(np.mean), how='inner', on='session_id')\n",
    "target_coverage=np.sum(coverage[coverage['number_carts_orders']>0]['target'])/np.sum(coverage[coverage['number_carts_orders']>0]['number_carts_orders'].apply(lambda x: min([20,x])))\n",
    "# target_avg_coverage=np.sum(coverage[coverage['number_carts_orders']>0]['target']/coverage[coverage['number_carts_orders']>0]['number_carts_orders'])\n",
    "target_avg_coverage_carts=np.sum(coverage[coverage['number_carts']>0]['target'])/np.sum(coverage[coverage['number_carts']>0]['number_carts'].apply(lambda x: min([20,x])))\n",
    "target_avg_coverage_orders=np.sum(coverage[coverage['number_orders']>0]['target'])/np.sum(coverage[coverage['number_orders']>0]['number_orders'].apply(lambda x: min([20,x])))\n",
    "\n",
    "print(f'The coverage of the target on the train set is: {target_coverage}')\n",
    "print(f'The mean coverage of carts on the train set is: {target_avg_coverage_carts}')\n",
    "print(f'The mean coverage of orders on the train set is: {target_avg_coverage_orders}')\n",
    "print(f'Max score possible with this set is: {0.1*0.5+0.3*target_avg_coverage_carts+0.6*target_avg_coverage_orders}')"
   ]
  },
  {
   "cell_type": "code",
   "execution_count": null,
   "id": "fd5d39ee",
   "metadata": {
    "ExecuteTime": {
     "start_time": "2022-11-25T18:55:41.644Z"
    }
   },
   "outputs": [],
   "source": [
    "coverage=(pd.DataFrame(valid.groupby('session_id')[col_target].apply(np.sum)).reset_index()).merge(valid.groupby('session_id')[['number_carts_orders','number_carts', 'number_orders']].apply(np.mean), how='inner', on='session_id')\n",
    "target_coverage=np.sum(coverage[coverage['number_carts_orders']>0]['target'])/np.sum(coverage[coverage['number_carts_orders']>0]['number_carts_orders'].apply(lambda x: min([20,x])))\n",
    "# target_avg_coverage=np.sum(coverage[coverage['number_carts_orders']>0]['target']/coverage[coverage['number_carts_orders']>0]['number_carts_orders'])\n",
    "target_avg_coverage_carts=np.sum(coverage[coverage['number_carts']>0]['target'])/np.sum(coverage[coverage['number_carts']>0]['number_carts'].apply(lambda x: min([20,x])))\n",
    "target_avg_coverage_orders=np.sum(coverage[coverage['number_orders']>0]['target'])/np.sum(coverage[coverage['number_orders']>0]['number_orders'].apply(lambda x: min([20,x])))\n",
    "\n",
    "print(f'The coverage of the target on the valid set is: {target_coverage}')\n",
    "print(f'The mean coverage of carts on the valid set is: {target_avg_coverage_carts}')\n",
    "print(f'The mean coverage of orders on the valid set is: {target_avg_coverage_orders}')\n",
    "print(f'Max score possible with this set is: {0.1*0.5+0.3*target_avg_coverage_carts+0.6*target_avg_coverage_orders}')"
   ]
  },
  {
   "cell_type": "markdown",
   "id": "ebfdfe65",
   "metadata": {
    "ExecuteTime": {
     "end_time": "2022-11-20T12:44:42.896737Z",
     "start_time": "2022-11-20T12:44:42.882040Z"
    }
   },
   "source": [
    "## Submission XGB SCORE"
   ]
  },
  {
   "cell_type": "code",
   "execution_count": null,
   "id": "bb79eb82",
   "metadata": {
    "ExecuteTime": {
     "start_time": "2022-11-25T18:55:41.645Z"
    },
    "hide_input": false
   },
   "outputs": [],
   "source": [
    "a=valid.groupby('session_id').apply(lambda x : x.sort_values(by = ['XGB_SCORE'], ascending = [False]).head(20).reset_index(drop = True)).reset_index(drop = True)\n",
    "a['session_id']=a['session_id'].apply(lambda x: str(int(x)))\n",
    "a['aid']=a['aid'].apply(lambda x: str(int(x)))\n",
    "    \n",
    "pred_df=pd.DataFrame(a.groupby('session_id')['aid'].apply(list).apply(' '.join)).reset_index(drop=False).rename(columns={'aid':'labels'})"
   ]
  },
  {
   "cell_type": "code",
   "execution_count": null,
   "id": "608d8d84",
   "metadata": {
    "ExecuteTime": {
     "start_time": "2022-11-25T18:55:41.646Z"
    },
    "hide_input": false
   },
   "outputs": [],
   "source": [
    "# a=valid.groupby('session_id').apply(lambda x : x.sort_values(by = ['in_session','times_in_top20','XGB_SCORE'], ascending = [False,False,False]).head(20).reset_index(drop = True)).reset_index(drop = True)\n",
    "# a['session_id']=a['session_id'].apply(lambda x: str(int(x)))\n",
    "# a['aid']=a['aid'].apply(lambda x: str(int(x)))\n",
    "    \n",
    "# pred_df=pd.DataFrame(a.groupby('session_id')['aid'].apply(list).apply(' '.join)).reset_index(drop=False).rename(columns={'aid':'labels'})"
   ]
  },
  {
   "cell_type": "code",
   "execution_count": null,
   "id": "333b1746",
   "metadata": {
    "ExecuteTime": {
     "start_time": "2022-11-25T18:55:41.647Z"
    }
   },
   "outputs": [],
   "source": [
    "# TOP CLICKS AND ORDERS IN TEST\n",
    "top_clicks = ['485256', '1460571','108125','1551213','33343','613493','876493','152547','184976','1236775'\n",
    "              ,'1406660','836852','331708','1531805','29735','554660','634452','986164','959208','832192']\n",
    "\n",
    "top_carts = ['485256', '33343','613493','152547','876493','1406660','1736857','166037','1460571','1236775'\n",
    "             ,'554660','660655','1531805','1022566','231487','122983','1562705','923948','332654','544144']\n",
    "\n",
    "top_orders = ['876493', '1406660','1236775','166037','1460571','1531805','836852','634452','923948','1043508'\n",
    "             ,'832192','258353','801774','332654','1596897','29735','544144','1581568','1462420','1006198']"
   ]
  },
  {
   "cell_type": "code",
   "execution_count": null,
   "id": "45645d8e",
   "metadata": {
    "ExecuteTime": {
     "start_time": "2022-11-25T18:55:41.648Z"
    },
    "hide_input": true
   },
   "outputs": [],
   "source": [
    "submission_clicks_valid=pred_df.copy()\n",
    "submission_carts_valid=pred_df.copy()\n",
    "submission_orders_valid=pred_df.copy()\n",
    "\n",
    "submission_clicks_valid['session_type']=submission_clicks_valid['session_id'].apply(lambda x: x+'_clicks')\n",
    "submission_carts_valid['session_type']=submission_carts_valid['session_id'].apply(lambda x: x+'_carts')\n",
    "submission_orders_valid['session_type']=submission_orders_valid['session_id'].apply(lambda x: x+'_orders')     "
   ]
  },
  {
   "cell_type": "code",
   "execution_count": null,
   "id": "2283a5d9",
   "metadata": {
    "ExecuteTime": {
     "start_time": "2022-11-25T18:55:41.649Z"
    },
    "hide_input": true
   },
   "outputs": [],
   "source": [
    "submission_clicks_valid['labels']=submission_clicks_valid['labels'].apply(lambda x: list(x.split(' ')) + top_clicks).apply(lambda x: ' '.join(list(dict.fromkeys(x))[0:20]))\n",
    "submission_carts_valid['labels']=submission_carts_valid['labels'].apply(lambda x: list(x.split(' ')) + top_carts).apply(lambda x: ' '.join(list(dict.fromkeys(x))[0:20]))\n",
    "submission_orders_valid['labels']=submission_orders_valid['labels'].apply(lambda x: list(x.split(' ')) + top_carts).apply(lambda x: ' '.join(list(dict.fromkeys(x))[0:20]))"
   ]
  },
  {
   "cell_type": "code",
   "execution_count": null,
   "id": "a6e3a72a",
   "metadata": {
    "ExecuteTime": {
     "start_time": "2022-11-25T18:55:41.650Z"
    },
    "hide_input": true
   },
   "outputs": [],
   "source": [
    "submission_final_valid=pd.concat([submission_clicks_valid[['session_type', 'labels']],submission_carts_valid[['session_type', 'labels']],submission_orders_valid[['session_type', 'labels']]])"
   ]
  },
  {
   "cell_type": "code",
   "execution_count": null,
   "id": "4d79747f",
   "metadata": {
    "ExecuteTime": {
     "start_time": "2022-11-25T18:55:41.651Z"
    }
   },
   "outputs": [],
   "source": [
    "# COMPUTE METRIC\n",
    "score = 0\n",
    "weights = {'clicks': 0.10, 'carts': 0.30, 'orders': 0.60}\n",
    "for t in ['clicks','carts','orders']:\n",
    "    sub = submission_final_valid.loc[submission_final_valid.session_type.str.contains(t)].copy()\n",
    "    sub['session'] = sub.session_type.apply(lambda x: int(x.split('_')[0]))\n",
    "    sub.labels = sub.labels.apply(lambda x: [int(i) for i in x.split(' ')[:20]])\n",
    "    test_labels = pd.read_parquet('test_cv_labels.parquet')\n",
    "    test_labels = test_labels.loc[test_labels['type']==t]\n",
    "    test_labels = test_labels.merge(sub, how='inner', on=['session'])\n",
    "    test_labels['hits'] = test_labels.apply(lambda df: len(set(df.ground_truth).intersection(set(df.labels))), axis=1)\n",
    "    test_labels['gt_count'] = test_labels.ground_truth.str.len().clip(0,20)\n",
    "    recall = test_labels['hits'].sum() / test_labels['gt_count'].sum()\n",
    "    score += weights[t]*recall\n",
    "    print(f'{t} recall =',recall)\n",
    "    \n",
    "print('=============')\n",
    "print('Overall Recall =',score)\n",
    "print('=============')"
   ]
  },
  {
   "cell_type": "markdown",
   "id": "a350e793",
   "metadata": {
    "ExecuteTime": {
     "end_time": "2022-11-20T14:47:53.897232Z",
     "start_time": "2022-11-20T14:47:53.887223Z"
    }
   },
   "source": [
    "# Misc"
   ]
  }
 ],
 "metadata": {
  "hide_input": false,
  "kernelspec": {
   "display_name": "Python 3 (ipykernel)",
   "language": "python",
   "name": "python3"
  },
  "language_info": {
   "codemirror_mode": {
    "name": "ipython",
    "version": 3
   },
   "file_extension": ".py",
   "mimetype": "text/x-python",
   "name": "python",
   "nbconvert_exporter": "python",
   "pygments_lexer": "ipython3",
   "version": "3.9.13"
  },
  "toc": {
   "base_numbering": 1,
   "nav_menu": {},
   "number_sections": true,
   "sideBar": true,
   "skip_h1_title": false,
   "title_cell": "Table of Contents",
   "title_sidebar": "Contents",
   "toc_cell": true,
   "toc_position": {
    "height": "calc(100% - 180px)",
    "left": "10px",
    "top": "150px",
    "width": "341.594px"
   },
   "toc_section_display": false,
   "toc_window_display": true
  },
  "varInspector": {
   "cols": {
    "lenName": 16,
    "lenType": 16,
    "lenVar": 40
   },
   "kernels_config": {
    "python": {
     "delete_cmd_postfix": "",
     "delete_cmd_prefix": "del ",
     "library": "var_list.py",
     "varRefreshCmd": "print(var_dic_list())"
    },
    "r": {
     "delete_cmd_postfix": ") ",
     "delete_cmd_prefix": "rm(",
     "library": "var_list.r",
     "varRefreshCmd": "cat(var_dic_list()) "
    }
   },
   "oldHeight": 122.844,
   "position": {
    "height": "144.844px",
    "left": "1503px",
    "right": "20px",
    "top": "120px",
    "width": "350px"
   },
   "types_to_exclude": [
    "module",
    "function",
    "builtin_function_or_method",
    "instance",
    "_Feature"
   ],
   "varInspector_section_display": "block",
   "window_display": false
  }
 },
 "nbformat": 4,
 "nbformat_minor": 5
}
