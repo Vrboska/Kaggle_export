{
 "cells": [
  {
   "cell_type": "markdown",
   "id": "5d8af747",
   "metadata": {
    "toc": true
   },
   "source": [
    "<h1>Table of Contents<span class=\"tocSkip\"></span></h1>\n",
    "<div class=\"toc\"><ul class=\"toc-item\"><li><span><a href=\"#Data-exploration\" data-toc-modified-id=\"Data-exploration-1\"><span class=\"toc-item-num\">1&nbsp;&nbsp;</span>Data exploration</a></span></li><li><span><a href=\"#XGBoost-model\" data-toc-modified-id=\"XGBoost-model-2\"><span class=\"toc-item-num\">2&nbsp;&nbsp;</span>XGBoost model</a></span><ul class=\"toc-item\"><li><span><a href=\"#Hyperparameter-tuning-with-Hyperopt\" data-toc-modified-id=\"Hyperparameter-tuning-with-Hyperopt-2.1\"><span class=\"toc-item-num\">2.1&nbsp;&nbsp;</span>Hyperparameter tuning with Hyperopt</a></span></li><li><span><a href=\"#Model-fitting\" data-toc-modified-id=\"Model-fitting-2.2\"><span class=\"toc-item-num\">2.2&nbsp;&nbsp;</span>Model fitting</a></span></li></ul></li><li><span><a href=\"#Saving-the-model\" data-toc-modified-id=\"Saving-the-model-3\"><span class=\"toc-item-num\">3&nbsp;&nbsp;</span>Saving the model</a></span></li><li><span><a href=\"#SHAP-values\" data-toc-modified-id=\"SHAP-values-4\"><span class=\"toc-item-num\">4&nbsp;&nbsp;</span>SHAP values</a></span></li><li><span><a href=\"#Validation-check\" data-toc-modified-id=\"Validation-check-5\"><span class=\"toc-item-num\">5&nbsp;&nbsp;</span>Validation check</a></span><ul class=\"toc-item\"><li><span><a href=\"#Submission-XGB-SCORE\" data-toc-modified-id=\"Submission-XGB-SCORE-5.1\"><span class=\"toc-item-num\">5.1&nbsp;&nbsp;</span>Submission XGB SCORE</a></span></li></ul></li><li><span><a href=\"#Misc\" data-toc-modified-id=\"Misc-6\"><span class=\"toc-item-num\">6&nbsp;&nbsp;</span>Misc</a></span></li></ul></div>"
   ]
  },
  {
   "cell_type": "code",
   "execution_count": 1,
   "id": "fe6e2a02",
   "metadata": {
    "ExecuteTime": {
     "end_time": "2022-11-30T14:49:20.741626Z",
     "start_time": "2022-11-30T14:49:20.729548Z"
    }
   },
   "outputs": [],
   "source": [
    "import warnings\n",
    "warnings.filterwarnings('ignore')"
   ]
  },
  {
   "cell_type": "code",
   "execution_count": 2,
   "id": "daec666a",
   "metadata": {
    "ExecuteTime": {
     "end_time": "2022-11-30T14:49:23.594681Z",
     "start_time": "2022-11-30T14:49:20.742932Z"
    }
   },
   "outputs": [],
   "source": [
    "import pandas as pd\n",
    "import numpy as np\n",
    "import random\n",
    "import mofr\n",
    "import matplotlib.pyplot as plt\n",
    "import seaborn as sns\n",
    "from sklearn.model_selection import train_test_split\n",
    "from xgboost import XGBClassifier, plot_tree\n",
    "from lightgbm import LGBMClassifier, plot_tree #LGBMRanker\n",
    "import math\n",
    "import pickle\n",
    "import statsmodels.api as sm\n",
    "\n",
    "\n",
    "import xgboost as xgb"
   ]
  },
  {
   "cell_type": "code",
   "execution_count": 3,
   "id": "f7a31fce",
   "metadata": {
    "ExecuteTime": {
     "end_time": "2022-11-30T14:49:23.609856Z",
     "start_time": "2022-11-30T14:49:23.594681Z"
    }
   },
   "outputs": [],
   "source": [
    "seed=1234"
   ]
  },
  {
   "cell_type": "code",
   "execution_count": 4,
   "id": "dcfa2f92",
   "metadata": {
    "ExecuteTime": {
     "end_time": "2022-11-30T14:49:23.624854Z",
     "start_time": "2022-11-30T14:49:23.611853Z"
    }
   },
   "outputs": [],
   "source": [
    "# file = open(\"type2id.pkl\",'rb')\n",
    "# object_file = pickle.load(file)"
   ]
  },
  {
   "cell_type": "code",
   "execution_count": 5,
   "id": "2f4ff81c",
   "metadata": {
    "ExecuteTime": {
     "end_time": "2022-11-30T14:49:23.640852Z",
     "start_time": "2022-11-30T14:49:23.625855Z"
    }
   },
   "outputs": [],
   "source": [
    "file_name = \"otto_xgb_model_13_lb.pkl\""
   ]
  },
  {
   "cell_type": "code",
   "execution_count": 6,
   "id": "fe3c0294",
   "metadata": {
    "ExecuteTime": {
     "end_time": "2022-11-30T14:50:03.929239Z",
     "start_time": "2022-11-30T14:49:23.641852Z"
    }
   },
   "outputs": [],
   "source": [
    "df=pd.read_parquet('train_sample_full_cv_3targets_experimental.parquet')#train_sample_full_cv_hidden_targets_float\n",
    "valid=pd.read_parquet('valid_sample_full_cv_3targets_experimental.parquet')"
   ]
  },
  {
   "cell_type": "code",
   "execution_count": null,
   "id": "78d048eb",
   "metadata": {
    "ExecuteTime": {
     "start_time": "2022-11-30T14:49:20.734Z"
    },
    "scrolled": true
   },
   "outputs": [],
   "source": [
    "df=df[df['MIN_TOP20']<=30]\n",
    "valid=valid[valid['MIN_TOP20']<=30]"
   ]
  },
  {
   "cell_type": "code",
   "execution_count": 8,
   "id": "82cfc048",
   "metadata": {
    "ExecuteTime": {
     "end_time": "2022-11-28T18:40:07.593263Z",
     "start_time": "2022-11-28T18:39:43.438454Z"
    }
   },
   "outputs": [],
   "source": [
    "# df=pd.concat([df,valid])"
   ]
  },
  {
   "cell_type": "code",
   "execution_count": 9,
   "id": "f3f3eb9f",
   "metadata": {
    "ExecuteTime": {
     "end_time": "2022-11-28T18:40:07.764385Z",
     "start_time": "2022-11-28T18:40:07.599828Z"
    }
   },
   "outputs": [],
   "source": [
    "df.columns=[x.lower() for x in df.columns]\n",
    "valid.columns=[x.lower() for x in valid.columns]"
   ]
  },
  {
   "cell_type": "code",
   "execution_count": 10,
   "id": "2546e003",
   "metadata": {
    "ExecuteTime": {
     "end_time": "2022-11-28T18:40:07.779154Z",
     "start_time": "2022-11-28T18:40:07.773028Z"
    }
   },
   "outputs": [],
   "source": [
    "# sessions_with_orders=pd.DataFrame(df.groupby('session_id')['target'].sum()).reset_index()\n",
    "# sessions_with_orders=sessions_with_orders[sessions_with_orders['target']>0]\n",
    "# df=df.merge(sessions_with_orders['session_id'], how='inner', on='session_id')"
   ]
  },
  {
   "cell_type": "code",
   "execution_count": 11,
   "id": "54bfc461",
   "metadata": {
    "ExecuteTime": {
     "end_time": "2022-11-28T18:40:07.870560Z",
     "start_time": "2022-11-28T18:40:07.780147Z"
    }
   },
   "outputs": [
    {
     "name": "stdout",
     "output_type": "stream",
     "text": [
      "<class 'pandas.core.frame.DataFrame'>\n",
      "Int64Index: 39576258 entries, 1 to 28808543\n",
      "Data columns (total 51 columns):\n",
      " #   Column                          Dtype  \n",
      "---  ------                          -----  \n",
      " 0   target                          float64\n",
      " 1   target_clicks                   float64\n",
      " 2   target_carts                    float64\n",
      " 3   target_orders                   float64\n",
      " 4   session_id                      float64\n",
      " 5   aid                             float64\n",
      " 6   min_top20                       float64\n",
      " 7   avg_top20                       float64\n",
      " 8   max_top20                       float64\n",
      " 9   in_session                      float64\n",
      " 10  in_session_clicked              float64\n",
      " 11  in_session_carted               float64\n",
      " 12  in_session_ordered              float64\n",
      " 13  in_session_score                float64\n",
      " 14  in_session_score_time_weighted  float64\n",
      " 15  times_in_top20                  float64\n",
      " 16  times_in_top20_last_week        float64\n",
      " 17  min_order_hours_from_click_avg  float64\n",
      " 18  avg_order_hours_from_click_avg  float64\n",
      " 19  avg_num_sessions_ordered        float64\n",
      " 20  sum_num_sessions_ordered        float64\n",
      " 21  avg_num_occured_overall         float64\n",
      " 22  sum_num_occured_overall         float64\n",
      " 23  last_num_sessions_ordered       float64\n",
      " 24  last_hour_num_sessions_ordered  float64\n",
      " 25  num_times_ordered_overall       float64\n",
      " 26  sess_num_events                 float64\n",
      " 27  sess_num_clicks                 float64\n",
      " 28  sess_num_carts                  float64\n",
      " 29  sess_num_orders                 float64\n",
      " 30  sess_num_clicks_last_hour       float64\n",
      " 31  sess_num_carts_last_hour        float64\n",
      " 32  sess_num_orders_last_hour       float64\n",
      " 33  sess_duration                   float64\n",
      " 34  sess_days_till_test             float64\n",
      " 35  sess_minute                     float64\n",
      " 36  sess_hour                       float64\n",
      " 37  sess_dayofweek                  float64\n",
      " 38  sess_dayofmonth                 float64\n",
      " 39  number_carts_orders             float64\n",
      " 40  number_carts                    float64\n",
      " 41  number_orders                   float64\n",
      " 42  first_seen                      float64\n",
      " 43  last_seen                       float64\n",
      " 44  first_bought                    float64\n",
      " 45  last_bought                     float64\n",
      " 46  bought_overall                  float64\n",
      " 47  seen_overall                    float64\n",
      " 48  num_clicks_same_day             float64\n",
      " 49  num_carts_same_day              float64\n",
      " 50  num_orders_same_day             float64\n",
      "dtypes: float64(51)\n",
      "memory usage: 15.3 GB\n"
     ]
    }
   ],
   "source": [
    "df.info()"
   ]
  },
  {
   "cell_type": "code",
   "execution_count": 12,
   "id": "55a008cf",
   "metadata": {
    "ExecuteTime": {
     "end_time": "2022-11-28T18:40:07.949818Z",
     "start_time": "2022-11-28T18:40:07.871549Z"
    }
   },
   "outputs": [
    {
     "data": {
      "text/html": [
       "<div>\n",
       "<style scoped>\n",
       "    .dataframe tbody tr th:only-of-type {\n",
       "        vertical-align: middle;\n",
       "    }\n",
       "\n",
       "    .dataframe tbody tr th {\n",
       "        vertical-align: top;\n",
       "    }\n",
       "\n",
       "    .dataframe thead th {\n",
       "        text-align: right;\n",
       "    }\n",
       "</style>\n",
       "<table border=\"1\" class=\"dataframe\">\n",
       "  <thead>\n",
       "    <tr style=\"text-align: right;\">\n",
       "      <th></th>\n",
       "      <th>target</th>\n",
       "      <th>target_clicks</th>\n",
       "      <th>target_carts</th>\n",
       "      <th>target_orders</th>\n",
       "      <th>session_id</th>\n",
       "      <th>aid</th>\n",
       "      <th>min_top20</th>\n",
       "      <th>avg_top20</th>\n",
       "      <th>max_top20</th>\n",
       "      <th>in_session</th>\n",
       "      <th>...</th>\n",
       "      <th>number_orders</th>\n",
       "      <th>first_seen</th>\n",
       "      <th>last_seen</th>\n",
       "      <th>first_bought</th>\n",
       "      <th>last_bought</th>\n",
       "      <th>bought_overall</th>\n",
       "      <th>seen_overall</th>\n",
       "      <th>num_clicks_same_day</th>\n",
       "      <th>num_carts_same_day</th>\n",
       "      <th>num_orders_same_day</th>\n",
       "    </tr>\n",
       "  </thead>\n",
       "  <tbody>\n",
       "    <tr>\n",
       "      <th>1</th>\n",
       "      <td>0.0</td>\n",
       "      <td>0.0</td>\n",
       "      <td>0.0</td>\n",
       "      <td>0.0</td>\n",
       "      <td>10096508.0</td>\n",
       "      <td>1662207.0</td>\n",
       "      <td>38.0</td>\n",
       "      <td>51.000000</td>\n",
       "      <td>64.0</td>\n",
       "      <td>0.0</td>\n",
       "      <td>...</td>\n",
       "      <td>0.0</td>\n",
       "      <td>482.900077</td>\n",
       "      <td>102.934701</td>\n",
       "      <td>NaN</td>\n",
       "      <td>NaN</td>\n",
       "      <td>0.0</td>\n",
       "      <td>118.0</td>\n",
       "      <td>NaN</td>\n",
       "      <td>NaN</td>\n",
       "      <td>NaN</td>\n",
       "    </tr>\n",
       "    <tr>\n",
       "      <th>2</th>\n",
       "      <td>0.0</td>\n",
       "      <td>0.0</td>\n",
       "      <td>0.0</td>\n",
       "      <td>0.0</td>\n",
       "      <td>10096508.0</td>\n",
       "      <td>1662799.0</td>\n",
       "      <td>31.0</td>\n",
       "      <td>31.000000</td>\n",
       "      <td>31.0</td>\n",
       "      <td>0.0</td>\n",
       "      <td>...</td>\n",
       "      <td>0.0</td>\n",
       "      <td>485.097319</td>\n",
       "      <td>154.847848</td>\n",
       "      <td>485.097319</td>\n",
       "      <td>179.171330</td>\n",
       "      <td>3.0</td>\n",
       "      <td>24.0</td>\n",
       "      <td>NaN</td>\n",
       "      <td>NaN</td>\n",
       "      <td>NaN</td>\n",
       "    </tr>\n",
       "    <tr>\n",
       "      <th>4</th>\n",
       "      <td>0.0</td>\n",
       "      <td>0.0</td>\n",
       "      <td>0.0</td>\n",
       "      <td>0.0</td>\n",
       "      <td>10096508.0</td>\n",
       "      <td>1672174.0</td>\n",
       "      <td>54.0</td>\n",
       "      <td>54.000000</td>\n",
       "      <td>54.0</td>\n",
       "      <td>0.0</td>\n",
       "      <td>...</td>\n",
       "      <td>0.0</td>\n",
       "      <td>503.362728</td>\n",
       "      <td>2.192727</td>\n",
       "      <td>463.477754</td>\n",
       "      <td>183.506358</td>\n",
       "      <td>23.0</td>\n",
       "      <td>193.0</td>\n",
       "      <td>2.0</td>\n",
       "      <td>0.0</td>\n",
       "      <td>0.0</td>\n",
       "    </tr>\n",
       "    <tr>\n",
       "      <th>5</th>\n",
       "      <td>0.0</td>\n",
       "      <td>0.0</td>\n",
       "      <td>0.0</td>\n",
       "      <td>0.0</td>\n",
       "      <td>10096508.0</td>\n",
       "      <td>1672375.0</td>\n",
       "      <td>55.0</td>\n",
       "      <td>72.333333</td>\n",
       "      <td>86.0</td>\n",
       "      <td>0.0</td>\n",
       "      <td>...</td>\n",
       "      <td>0.0</td>\n",
       "      <td>494.203968</td>\n",
       "      <td>38.148596</td>\n",
       "      <td>458.256078</td>\n",
       "      <td>85.250872</td>\n",
       "      <td>25.0</td>\n",
       "      <td>159.0</td>\n",
       "      <td>1.0</td>\n",
       "      <td>3.0</td>\n",
       "      <td>0.0</td>\n",
       "    </tr>\n",
       "    <tr>\n",
       "      <th>6</th>\n",
       "      <td>0.0</td>\n",
       "      <td>0.0</td>\n",
       "      <td>0.0</td>\n",
       "      <td>0.0</td>\n",
       "      <td>10096508.0</td>\n",
       "      <td>1673641.0</td>\n",
       "      <td>52.0</td>\n",
       "      <td>52.000000</td>\n",
       "      <td>52.0</td>\n",
       "      <td>0.0</td>\n",
       "      <td>...</td>\n",
       "      <td>0.0</td>\n",
       "      <td>503.877597</td>\n",
       "      <td>0.853893</td>\n",
       "      <td>502.479240</td>\n",
       "      <td>3.431158</td>\n",
       "      <td>395.0</td>\n",
       "      <td>8519.0</td>\n",
       "      <td>121.0</td>\n",
       "      <td>10.0</td>\n",
       "      <td>0.0</td>\n",
       "    </tr>\n",
       "  </tbody>\n",
       "</table>\n",
       "<p>5 rows × 51 columns</p>\n",
       "</div>"
      ],
      "text/plain": [
       "   target  target_clicks  target_carts  target_orders  session_id        aid  \\\n",
       "1     0.0            0.0           0.0            0.0  10096508.0  1662207.0   \n",
       "2     0.0            0.0           0.0            0.0  10096508.0  1662799.0   \n",
       "4     0.0            0.0           0.0            0.0  10096508.0  1672174.0   \n",
       "5     0.0            0.0           0.0            0.0  10096508.0  1672375.0   \n",
       "6     0.0            0.0           0.0            0.0  10096508.0  1673641.0   \n",
       "\n",
       "   min_top20  avg_top20  max_top20  in_session  ...  number_orders  \\\n",
       "1       38.0  51.000000       64.0         0.0  ...            0.0   \n",
       "2       31.0  31.000000       31.0         0.0  ...            0.0   \n",
       "4       54.0  54.000000       54.0         0.0  ...            0.0   \n",
       "5       55.0  72.333333       86.0         0.0  ...            0.0   \n",
       "6       52.0  52.000000       52.0         0.0  ...            0.0   \n",
       "\n",
       "   first_seen   last_seen  first_bought  last_bought  bought_overall  \\\n",
       "1  482.900077  102.934701           NaN          NaN             0.0   \n",
       "2  485.097319  154.847848    485.097319   179.171330             3.0   \n",
       "4  503.362728    2.192727    463.477754   183.506358            23.0   \n",
       "5  494.203968   38.148596    458.256078    85.250872            25.0   \n",
       "6  503.877597    0.853893    502.479240     3.431158           395.0   \n",
       "\n",
       "   seen_overall  num_clicks_same_day  num_carts_same_day  num_orders_same_day  \n",
       "1         118.0                  NaN                 NaN                  NaN  \n",
       "2          24.0                  NaN                 NaN                  NaN  \n",
       "4         193.0                  2.0                 0.0                  0.0  \n",
       "5         159.0                  1.0                 3.0                  0.0  \n",
       "6        8519.0                121.0                10.0                  0.0  \n",
       "\n",
       "[5 rows x 51 columns]"
      ]
     },
     "execution_count": 12,
     "metadata": {},
     "output_type": "execute_result"
    }
   ],
   "source": [
    "df.head()"
   ]
  },
  {
   "cell_type": "code",
   "execution_count": 13,
   "id": "d66062f6",
   "metadata": {
    "ExecuteTime": {
     "end_time": "2022-11-28T18:40:41.694162Z",
     "start_time": "2022-11-28T18:40:07.950817Z"
    }
   },
   "outputs": [],
   "source": [
    "df['null_flag']=(df['avg_order_hours_from_click_avg']<99999).apply(int)\n",
    "df['in_session_carted_not_ordered']=((df['in_session_carted']>0)&(df['in_session_ordered']==0)).apply(int)\n",
    "df['in_session_clicked_not_carted']=((df['in_session_clicked']>0)&(df['in_session_carted']==0)).apply(int)\n",
    "valid['null_flag']=(valid['avg_order_hours_from_click_avg']<99999).apply(int)\n",
    "valid['in_session_carted_not_ordered']=((valid['in_session_carted']>0)&(valid['in_session_ordered']==0)).apply(int)\n",
    "valid['in_session_clicked_not_carted']=((valid['in_session_clicked']>0)&(valid['in_session_carted']==0)).apply(int)"
   ]
  },
  {
   "cell_type": "code",
   "execution_count": 14,
   "id": "9726a4f1",
   "metadata": {
    "ExecuteTime": {
     "end_time": "2022-11-28T18:40:41.852888Z",
     "start_time": "2022-11-28T18:40:41.695157Z"
    }
   },
   "outputs": [
    {
     "data": {
      "text/plain": [
       "1    0.760103\n",
       "0    0.239897\n",
       "Name: null_flag, dtype: float64"
      ]
     },
     "execution_count": 14,
     "metadata": {},
     "output_type": "execute_result"
    }
   ],
   "source": [
    "df['null_flag'].value_counts(normalize=True)"
   ]
  },
  {
   "cell_type": "code",
   "execution_count": 15,
   "id": "a46ae7eb",
   "metadata": {
    "ExecuteTime": {
     "end_time": "2022-11-28T18:40:42.258877Z",
     "start_time": "2022-11-28T18:40:41.854898Z"
    }
   },
   "outputs": [
    {
     "data": {
      "text/plain": [
       "0.0    39501063\n",
       "1.0       75195\n",
       "Name: target, dtype: int64"
      ]
     },
     "execution_count": 15,
     "metadata": {},
     "output_type": "execute_result"
    }
   ],
   "source": [
    "df['target'].value_counts()"
   ]
  },
  {
   "cell_type": "code",
   "execution_count": 16,
   "id": "c43946b8",
   "metadata": {
    "ExecuteTime": {
     "end_time": "2022-11-28T18:40:42.274540Z",
     "start_time": "2022-11-28T18:40:42.259877Z"
    }
   },
   "outputs": [],
   "source": [
    "#df=df[df['null_flag']==1].reset_index()\n",
    "#valid=valid[valid['null_flag']==1].reset_index()"
   ]
  },
  {
   "cell_type": "code",
   "execution_count": 17,
   "id": "7e20d220",
   "metadata": {
    "ExecuteTime": {
     "end_time": "2022-11-28T18:40:42.445532Z",
     "start_time": "2022-11-28T18:40:42.275540Z"
    }
   },
   "outputs": [
    {
     "data": {
      "text/plain": [
       "0.0    39501063\n",
       "1.0       75195\n",
       "Name: target, dtype: int64"
      ]
     },
     "execution_count": 17,
     "metadata": {},
     "output_type": "execute_result"
    }
   ],
   "source": [
    "df['target'].value_counts()"
   ]
  },
  {
   "cell_type": "code",
   "execution_count": 18,
   "id": "14bd5920",
   "metadata": {
    "ExecuteTime": {
     "end_time": "2022-11-28T18:40:42.460545Z",
     "start_time": "2022-11-28T18:40:42.448553Z"
    }
   },
   "outputs": [],
   "source": [
    "# rand=np.random.randint(1, 11, df.shape[0])\n",
    "\n",
    "# train_mask=(df['sess_days_till_test']+df['sess_duration']/24)>0#rand<=8\n",
    "# valid_mask=(df['sess_days_till_test']+df['sess_duration']/24)>0#rand>8"
   ]
  },
  {
   "cell_type": "code",
   "execution_count": 19,
   "id": "bd81e8e4",
   "metadata": {
    "ExecuteTime": {
     "end_time": "2022-11-28T18:40:42.475870Z",
     "start_time": "2022-11-28T18:40:42.462567Z"
    }
   },
   "outputs": [],
   "source": [
    "# df[train_mask]['target'].value_counts()"
   ]
  },
  {
   "cell_type": "code",
   "execution_count": 20,
   "id": "ae9c452a",
   "metadata": {
    "ExecuteTime": {
     "end_time": "2022-11-28T18:40:42.491623Z",
     "start_time": "2022-11-28T18:40:42.477862Z"
    }
   },
   "outputs": [],
   "source": [
    "# df[valid_mask]['target'].value_counts()"
   ]
  },
  {
   "cell_type": "code",
   "execution_count": 21,
   "id": "a0108774",
   "metadata": {
    "ExecuteTime": {
     "end_time": "2022-11-28T18:40:42.507395Z",
     "start_time": "2022-11-28T18:40:42.493436Z"
    }
   },
   "outputs": [],
   "source": [
    "col_target='target'\n",
    "col_exclude=[\n",
    "'session_id',\n",
    "'aid',\n",
    "# 'num_times_ordered_overall',\n",
    "'number_carts_orders',\n",
    "'number_carts',\n",
    "'number_orders',\n",
    "'sess_days_till_test',\n",
    "'sess_dayofmonth',\n",
    "# 'in_session',\n",
    "# 'in_session_clicked',\n",
    "# 'in_session_carted',\n",
    "#  'in_session_ordered',\n",
    "#  'in_session_score',\n",
    "'first_seen',\n",
    "'first_bought',\n",
    "\n",
    "'target_clicks',\n",
    "'target_carts',\n",
    "'target_orders',\n",
    "col_target,]"
   ]
  },
  {
   "cell_type": "code",
   "execution_count": 22,
   "id": "c9bc904b",
   "metadata": {
    "ExecuteTime": {
     "end_time": "2022-11-28T18:40:42.523222Z",
     "start_time": "2022-11-28T18:40:42.508395Z"
    }
   },
   "outputs": [],
   "source": [
    "# df[col_target]=df[col_target].apply(int)"
   ]
  },
  {
   "cell_type": "markdown",
   "id": "4f79568a",
   "metadata": {},
   "source": [
    "# Data exploration"
   ]
  },
  {
   "cell_type": "code",
   "execution_count": 23,
   "id": "eb8c02e9",
   "metadata": {
    "ExecuteTime": {
     "end_time": "2022-11-28T18:40:42.539233Z",
     "start_time": "2022-11-28T18:40:42.524222Z"
    }
   },
   "outputs": [],
   "source": [
    "col_preds=[col for col in df.columns[3:] if col not in col_exclude]"
   ]
  },
  {
   "cell_type": "code",
   "execution_count": 24,
   "id": "28f51914",
   "metadata": {
    "ExecuteTime": {
     "end_time": "2022-11-28T18:40:42.554378Z",
     "start_time": "2022-11-28T18:40:42.541222Z"
    }
   },
   "outputs": [
    {
     "data": {
      "text/plain": [
       "41"
      ]
     },
     "execution_count": 24,
     "metadata": {},
     "output_type": "execute_result"
    }
   ],
   "source": [
    "len(col_preds)"
   ]
  },
  {
   "cell_type": "code",
   "execution_count": 25,
   "id": "f2ec960c",
   "metadata": {
    "ExecuteTime": {
     "end_time": "2022-11-28T18:40:42.569371Z",
     "start_time": "2022-11-28T18:40:42.555369Z"
    }
   },
   "outputs": [
    {
     "data": {
      "text/plain": [
       "['min_top20',\n",
       " 'avg_top20',\n",
       " 'max_top20',\n",
       " 'in_session',\n",
       " 'in_session_clicked',\n",
       " 'in_session_carted',\n",
       " 'in_session_ordered',\n",
       " 'in_session_score',\n",
       " 'in_session_score_time_weighted',\n",
       " 'times_in_top20',\n",
       " 'times_in_top20_last_week',\n",
       " 'min_order_hours_from_click_avg',\n",
       " 'avg_order_hours_from_click_avg',\n",
       " 'avg_num_sessions_ordered',\n",
       " 'sum_num_sessions_ordered',\n",
       " 'avg_num_occured_overall',\n",
       " 'sum_num_occured_overall',\n",
       " 'last_num_sessions_ordered',\n",
       " 'last_hour_num_sessions_ordered',\n",
       " 'num_times_ordered_overall',\n",
       " 'sess_num_events',\n",
       " 'sess_num_clicks',\n",
       " 'sess_num_carts',\n",
       " 'sess_num_orders',\n",
       " 'sess_num_clicks_last_hour',\n",
       " 'sess_num_carts_last_hour',\n",
       " 'sess_num_orders_last_hour',\n",
       " 'sess_duration',\n",
       " 'sess_minute',\n",
       " 'sess_hour',\n",
       " 'sess_dayofweek',\n",
       " 'last_seen',\n",
       " 'last_bought',\n",
       " 'bought_overall',\n",
       " 'seen_overall',\n",
       " 'num_clicks_same_day',\n",
       " 'num_carts_same_day',\n",
       " 'num_orders_same_day',\n",
       " 'null_flag',\n",
       " 'in_session_carted_not_ordered',\n",
       " 'in_session_clicked_not_carted']"
      ]
     },
     "execution_count": 25,
     "metadata": {},
     "output_type": "execute_result"
    }
   ],
   "source": [
    "col_preds"
   ]
  },
  {
   "cell_type": "markdown",
   "id": "cddd700f",
   "metadata": {
    "ExecuteTime": {
     "end_time": "2022-11-16T09:07:24.490773Z",
     "start_time": "2022-11-16T09:07:24.490773Z"
    }
   },
   "source": [
    "# XGBoost model"
   ]
  },
  {
   "cell_type": "markdown",
   "id": "a2fcaa42",
   "metadata": {},
   "source": [
    "## Hyperparameter tuning with Hyperopt"
   ]
  },
  {
   "cell_type": "code",
   "execution_count": 26,
   "id": "c3cb903d",
   "metadata": {
    "ExecuteTime": {
     "end_time": "2022-11-28T18:40:42.585414Z",
     "start_time": "2022-11-28T18:40:42.571664Z"
    },
    "code_folding": [
     5,
     23
    ],
    "hide_input": false,
    "scrolled": true
   },
   "outputs": [],
   "source": [
    "# from hyperopt import fmin, tpe, hp, anneal, Trials, STATUS_OK\n",
    "\n",
    "# sample_train=valid.sample(250000)\n",
    "# sample_valid=valid.sample(100000)\n",
    "\n",
    "# space={'max_depth': hp.quniform(\"max_depth\", 3, 6, 1),\n",
    "#         'gamma': hp.uniform ('gamma', 1,9),\n",
    "#         'reg_alpha' : hp.quniform('reg_alpha', 40,180,1),\n",
    "#         'reg_lambda' : hp.uniform('reg_lambda', 0,1),\n",
    "#         'colsample_bytree' : hp.uniform('colsample_bytree', 0.5,1),\n",
    "#         'min_child_weight' : hp.quniform('min_child_weight', 0, 10, 1),\n",
    "#         'n_estimators': 100,\n",
    "#         'seed': 0\n",
    "#     }\n",
    "\n",
    "# def objective(space):\n",
    "#     clf=xgb.XGBClassifier(\n",
    "#                     n_estimators =space['n_estimators'], max_depth = int(space['max_depth']), gamma = space['gamma'],\n",
    "#                     reg_alpha = int(space['reg_alpha']),min_child_weight=int(space['min_child_weight']),\n",
    "#                     colsample_bytree=int(space['colsample_bytree']))\n",
    "    \n",
    "#     evaluation = [( sample_train[col_preds], sample_train[col_target]), ( sample_valid[col_preds], sample_valid[col_target])]\n",
    "    \n",
    "#     clf.fit(sample_train[col_preds], sample_train[col_target],\n",
    "#             eval_set=evaluation, eval_metric=\"auc\",\n",
    "#             early_stopping_rounds=10,verbose=False)\n",
    "    \n",
    "\n",
    "#     pred = clf.predict_proba(sample_valid[col_preds])[:, 1]\n",
    "#     gini = mofr.metrics.gini(sample_valid[col_target], pred)\n",
    "#     print (\"SCORE:\", gini)\n",
    "#     return {'loss': -gini, 'status': STATUS_OK }\n",
    "\n",
    "# trials = Trials()\n",
    "\n",
    "# best_hyperparams = fmin(fn = objective,\n",
    "#                         space = space,\n",
    "#                         algo = tpe.suggest,\n",
    "#                         max_evals = 33,\n",
    "#                         trials = trials)\n",
    "\n",
    "# del sample_train\n",
    "# del sample_valid\n",
    "\n",
    "# hyperparams_name = \"best_hyperparams_cv.pkl\"\n",
    "\n",
    "# # save\n",
    "# pickle.dump(best_hyperparams, open(hyperparams_name, \"wb\"))"
   ]
  },
  {
   "cell_type": "markdown",
   "id": "df29fbd8",
   "metadata": {},
   "source": [
    "## Model fitting"
   ]
  },
  {
   "cell_type": "code",
   "execution_count": 27,
   "id": "6d0be5de",
   "metadata": {
    "ExecuteTime": {
     "end_time": "2022-11-28T18:40:42.601359Z",
     "start_time": "2022-11-28T18:40:42.587415Z"
    }
   },
   "outputs": [],
   "source": [
    "hyperparams_name = \"best_hyperparams_cv.pkl\"\n",
    "best_hyperparams= pickle.load(open(hyperparams_name, \"rb\"))"
   ]
  },
  {
   "cell_type": "code",
   "execution_count": 28,
   "id": "6f9ba88d",
   "metadata": {
    "ExecuteTime": {
     "end_time": "2022-11-28T18:40:42.617348Z",
     "start_time": "2022-11-28T18:40:42.610358Z"
    }
   },
   "outputs": [
    {
     "data": {
      "text/plain": [
       "{'colsample_bytree': 0.8596699122022836,\n",
       " 'gamma': 5.146165770806661,\n",
       " 'max_depth': 4,\n",
       " 'min_child_weight': 1.0,\n",
       " 'reg_alpha': 95.0,\n",
       " 'reg_lambda': 0.364982772037508}"
      ]
     },
     "execution_count": 28,
     "metadata": {},
     "output_type": "execute_result"
    }
   ],
   "source": [
    "best_hyperparams['max_depth']=int(best_hyperparams['max_depth'])\n",
    "best_hyperparams['max_depth']=4\n",
    "best_hyperparams"
   ]
  },
  {
   "cell_type": "code",
   "execution_count": 29,
   "id": "b4ad4343",
   "metadata": {
    "ExecuteTime": {
     "end_time": "2022-11-28T18:40:42.632374Z",
     "start_time": "2022-11-28T18:40:42.618349Z"
    }
   },
   "outputs": [],
   "source": [
    "# train=df[train_mask]#&(df['null_flag']==1)\n",
    "# print(train['session_id'].max())\n",
    "# train[col_target].value_counts()"
   ]
  },
  {
   "cell_type": "code",
   "execution_count": 30,
   "id": "6386fa59",
   "metadata": {
    "ExecuteTime": {
     "end_time": "2022-11-28T20:03:58.678887Z",
     "start_time": "2022-11-28T18:40:42.634349Z"
    },
    "scrolled": false
   },
   "outputs": [
    {
     "data": {
      "text/plain": [
       "XGBClassifier(base_score=0.5, booster='gbtree', callbacks=None,\n",
       "              colsample_bylevel=1, colsample_bynode=1, colsample_bytree=0.5,\n",
       "              early_stopping_rounds=None, enable_categorical=False,\n",
       "              eval_metric=None, feature_types=None, gamma=1, gpu_id=-1,\n",
       "              grow_policy='depthwise', importance_type=None,\n",
       "              interaction_constraints='', learning_rate=0.300000012,\n",
       "              max_bin=256, max_cat_threshold=64, max_cat_to_onehot=4,\n",
       "              max_delta_step=0, max_depth=4, max_leaves=0, min_child_weight=5,\n",
       "              missing=nan, monotone_constraints='()', n_estimators=100,\n",
       "              n_jobs=0, num_parallel_tree=1, predictor='auto',\n",
       "              random_state=1234, ...)"
      ]
     },
     "execution_count": 30,
     "metadata": {},
     "output_type": "execute_result"
    }
   ],
   "source": [
    "xgb_model = XGBClassifier(max_depth=4, seed=seed, colsample_bytree=0.5, gamma=1, min_child_weight=5, n_estimators=100)\n",
    "# xgb_model = XGBClassifier(**best_hyperparams)##\n",
    "\n",
    "xgb_model.fit(df.loc[:, col_preds], df[col_target], verbose=0, eval_metric='auc')"
   ]
  },
  {
   "cell_type": "code",
   "execution_count": 31,
   "id": "681848e9",
   "metadata": {
    "ExecuteTime": {
     "end_time": "2022-11-28T20:05:20.061125Z",
     "start_time": "2022-11-28T20:03:58.678887Z"
    }
   },
   "outputs": [],
   "source": [
    "df['XGB_SCORE']=xgb_model.predict_proba(df[col_preds])[:, 1]\n",
    "# train['XGB_SCORE']=xgb_model.predict_proba(train[col_preds])[:, 1]\n",
    "valid['XGB_SCORE']=xgb_model.predict_proba(valid[col_preds])[:, 1]"
   ]
  },
  {
   "cell_type": "code",
   "execution_count": 33,
   "id": "2de71a52",
   "metadata": {
    "ExecuteTime": {
     "end_time": "2022-11-28T20:28:32.440092Z",
     "start_time": "2022-11-28T20:28:01.414887Z"
    },
    "hide_input": false
   },
   "outputs": [
    {
     "name": "stdout",
     "output_type": "stream",
     "text": [
      "The Lift on the train set is: 8.900061643475425\n",
      "The gini on the train set is: 0.9223643659729011\n",
      "\n",
      "\n",
      "The Lift on the valid set is: 9.014410808159091\n",
      "The gini on the valid set is: 0.9300401304515638\n",
      "\n",
      "\n"
     ]
    }
   ],
   "source": [
    "print('The Lift on the train set is: '+ str(mofr.metrics.lift(df[col_target], df['XGB_SCORE'])))\n",
    "print('The gini on the train set is: '+ str(mofr.metrics.gini(df[col_target].apply(int), df['XGB_SCORE'])))\n",
    "# print('The accuracy on the train set is: '+ str(mofr.metrics.accuracy_score(train[col_target].apply(int), train['XGB_SCORE'].apply(lambda x: int(x>0.5)))))\n",
    "print('\\n')\n",
    "print('The Lift on the valid set is: '+ str(mofr.metrics.lift(valid[col_target], valid['XGB_SCORE'])))\n",
    "print('The gini on the valid set is: '+ str(mofr.metrics.gini(valid[col_target].apply(int), valid['XGB_SCORE'])))\n",
    "# print('The accuracy on the valid set is: '+ str(mofr.metrics.accuracy_score(df[valid_mask][col_target].apply(int), df[valid_mask]['XGB_SCORE'].apply(lambda x: int(x>0.5)))))\n",
    "print('\\n')"
   ]
  },
  {
   "cell_type": "code",
   "execution_count": null,
   "id": "a806c730",
   "metadata": {
    "ExecuteTime": {
     "end_time": "2022-11-28T20:05:22.624386Z",
     "start_time": "2022-11-28T20:05:22.624386Z"
    },
    "hide_input": true
   },
   "outputs": [],
   "source": [
    "# from mofr.basic_evaluators.ROCCurve import ROCCurveEvaluator\n",
    "# df['one']=1\n",
    "\n",
    "# rce=ROCCurveEvaluator()\n",
    "# rce.d(df[valid_mask]).t([(col_target,'one')]).s(['XGB_SCORE'])\n",
    "# rce.get_graph()\n",
    "\n",
    "# del df['one']"
   ]
  },
  {
   "cell_type": "code",
   "execution_count": 34,
   "id": "a6877e5e",
   "metadata": {
    "ExecuteTime": {
     "end_time": "2022-11-28T20:28:44.139421Z",
     "start_time": "2022-11-28T20:28:43.676800Z"
    },
    "hide_input": true,
    "scrolled": false
   },
   "outputs": [
    {
     "data": {
      "image/png": "[encoded data removed]",
      "text/plain": [
       "<Figure size 1000x1000 with 1 Axes>"
      ]
     },
     "metadata": {},
     "output_type": "display_data"
    }
   ],
   "source": [
    "sorted_idx = xgb_model.feature_importances_.argsort()\n",
    "order_ = []\n",
    "for i in sorted_idx:\n",
    "  order_.append(xgb_model.feature_names_in_[i])\n",
    "plt.figure(figsize=(10, 10))\n",
    "fig = plt.barh(order_, xgb_model.feature_importances_[sorted_idx])\n",
    "plt.xlabel(\"Xgboost Feature Importance\")\n",
    "plt.show()"
   ]
  },
  {
   "cell_type": "code",
   "execution_count": null,
   "id": "94553bef",
   "metadata": {
    "ExecuteTime": {
     "end_time": "2022-11-28T20:05:22.628127Z",
     "start_time": "2022-11-28T20:05:22.628127Z"
    },
    "hide_input": true
   },
   "outputs": [],
   "source": [
    "import os\n",
    "os.environ[\"PATH\"] += os.pathsep + 'c:/Program Files/Graphviz/bin/'\n",
    "\n",
    "from xgboost import plot_tree\n",
    "plt.rcParams[\"figure.figsize\"] = (40,40)\n",
    "plot_tree(xgb_model)\n",
    "plt.show()"
   ]
  },
  {
   "cell_type": "code",
   "execution_count": null,
   "id": "0eacf0b5",
   "metadata": {
    "ExecuteTime": {
     "end_time": "2022-11-28T20:05:22.629124Z",
     "start_time": "2022-11-28T20:05:22.629124Z"
    },
    "hide_input": true
   },
   "outputs": [],
   "source": [
    "# results=[]\n",
    "# for col in col_preds:\n",
    "#     results.append((col, np.abs(mofr.metrics.gini(df[valid_mask][col_target], df[valid_mask][col]))))\n",
    "  \n",
    "# pd.DataFrame(results, columns=['Predictor', 'GINI']).sort_values(by='GINI', ascending=False)[0:30]"
   ]
  },
  {
   "cell_type": "markdown",
   "id": "79e777cb",
   "metadata": {},
   "source": [
    "# Saving the model"
   ]
  },
  {
   "cell_type": "code",
   "execution_count": 35,
   "id": "09e05bb0",
   "metadata": {
    "ExecuteTime": {
     "end_time": "2022-11-28T20:28:48.123668Z",
     "start_time": "2022-11-28T20:28:48.102662Z"
    }
   },
   "outputs": [],
   "source": [
    "#file_name = \"otto_xgb_model_10_3weeks_no_nulls.pkl\"\n",
    "\n",
    "# save\n",
    "pickle.dump(xgb_model, open(file_name, \"wb\"))\n",
    "\n",
    "# # load\n",
    "# #xgb_model= pickle.load(open(file_name, \"rb\"))"
   ]
  },
  {
   "cell_type": "markdown",
   "id": "464802c1",
   "metadata": {},
   "source": [
    "# SHAP values"
   ]
  },
  {
   "cell_type": "code",
   "execution_count": null,
   "id": "6c29ea61",
   "metadata": {
    "ExecuteTime": {
     "end_time": "2022-11-28T20:05:22.631123Z",
     "start_time": "2022-11-28T20:05:22.631123Z"
    },
    "hide_input": true,
    "scrolled": true
   },
   "outputs": [],
   "source": [
    "import shap  # package used to calculate Shap values\n",
    "row_to_show = 1\n",
    "data_for_prediction = train[col_preds].iloc[row_to_show]  # use 1 row of data here. Could use multiple rows if desired\n",
    "data_for_prediction_array = data_for_prediction.values.reshape(1, -1)\n",
    "\n",
    "# Create object that can calculate shap values\n",
    "explainer = shap.TreeExplainer(xgb_model)\n",
    "\n",
    "# Calculate Shap values\n",
    "shap_values = explainer.shap_values(data_for_prediction_array)\n",
    "shap.initjs()\n",
    "shap.force_plot(explainer.expected_value, shap_values, data_for_prediction)"
   ]
  },
  {
   "cell_type": "code",
   "execution_count": null,
   "id": "a795cf37",
   "metadata": {
    "ExecuteTime": {
     "end_time": "2022-11-28T20:05:22.633126Z",
     "start_time": "2022-11-28T20:05:22.633126Z"
    },
    "hide_input": true,
    "scrolled": false
   },
   "outputs": [],
   "source": [
    "sample=train[col_preds].sample(100000)\n",
    "shap_values = explainer.shap_values(sample)\n",
    "shap.summary_plot(shap_values, sample[col_preds])"
   ]
  },
  {
   "cell_type": "code",
   "execution_count": null,
   "id": "46628255",
   "metadata": {
    "ExecuteTime": {
     "end_time": "2022-11-28T20:05:22.634122Z",
     "start_time": "2022-11-28T20:05:22.634122Z"
    }
   },
   "outputs": [],
   "source": [
    "sample=train.sample(100000)\n",
    "results=[]\n",
    "for col in col_preds:\n",
    "    results.append((col, mofr.metrics.gini(sample[col_target], sample[col].fillna(-999))))\n",
    "\n",
    "pd.DataFrame(results, columns=['Predictor', 'GINI']).sort_values(by='GINI', ascending=False)"
   ]
  },
  {
   "cell_type": "code",
   "execution_count": null,
   "id": "55cd28fb",
   "metadata": {
    "ExecuteTime": {
     "end_time": "2022-11-28T20:05:22.635121Z",
     "start_time": "2022-11-28T20:05:22.635121Z"
    }
   },
   "outputs": [],
   "source": [
    "del sample"
   ]
  },
  {
   "cell_type": "markdown",
   "id": "1bf5594e",
   "metadata": {},
   "source": [
    "# Validation check"
   ]
  },
  {
   "cell_type": "code",
   "execution_count": null,
   "id": "f8bf9003",
   "metadata": {
    "ExecuteTime": {
     "end_time": "2022-11-28T20:05:22.636135Z",
     "start_time": "2022-11-28T20:05:22.636135Z"
    },
    "hide_input": true
   },
   "outputs": [],
   "source": [
    "del df\n",
    "# del train"
   ]
  },
  {
   "cell_type": "code",
   "execution_count": 36,
   "id": "f8e91196",
   "metadata": {
    "ExecuteTime": {
     "end_time": "2022-11-28T20:28:55.509711Z",
     "start_time": "2022-11-28T20:28:55.499710Z"
    },
    "hide_input": true
   },
   "outputs": [],
   "source": [
    "import pandas as pd\n",
    "import numpy as np\n",
    "import random\n",
    "import mofr\n",
    "import matplotlib.pyplot as plt\n",
    "import seaborn as sns\n",
    "from xgboost import XGBClassifier, plot_tree\n",
    "import math\n",
    "import pickle\n",
    "\n",
    "\n",
    "import xgboost as xgb"
   ]
  },
  {
   "cell_type": "code",
   "execution_count": 37,
   "id": "3089bba7",
   "metadata": {
    "ExecuteTime": {
     "end_time": "2022-11-28T20:28:55.525712Z",
     "start_time": "2022-11-28T20:28:55.510714Z"
    }
   },
   "outputs": [],
   "source": [
    "# file_name = \"otto_xgb_model_12_cv_571.pkl\"\n",
    "\n",
    "# #load\n",
    "# xgb_model= pickle.load(open(file_name, \"rb\"))"
   ]
  },
  {
   "cell_type": "code",
   "execution_count": 38,
   "id": "f837bc0b",
   "metadata": {
    "ExecuteTime": {
     "end_time": "2022-11-28T20:28:55.541755Z",
     "start_time": "2022-11-28T20:28:55.526703Z"
    },
    "hide_input": true
   },
   "outputs": [],
   "source": [
    "col_target='target'"
   ]
  },
  {
   "cell_type": "code",
   "execution_count": 39,
   "id": "fa7d81a1",
   "metadata": {
    "ExecuteTime": {
     "end_time": "2022-11-28T20:29:49.177114Z",
     "start_time": "2022-11-28T20:28:55.543758Z"
    }
   },
   "outputs": [],
   "source": [
    "valid=pd.read_parquet('valid_sample_full_cv_3targets_experimental.parquet')\n",
    "valid.columns=[x.lower() for x in valid.columns]\n",
    "valid['null_flag']=(valid['avg_order_hours_from_click_avg']<99999).apply(int)\n",
    "valid['in_session_carted_not_ordered']=((valid['in_session_carted']>0)&(valid['in_session_ordered']==0)).apply(int)\n",
    "valid['in_session_clicked_not_carted']=((valid['in_session_clicked']>0)&(valid['in_session_carted']==0)).apply(int)\n",
    "valid['XGB_SCORE']=xgb_model.predict_proba(valid[xgb_model.feature_names_in_])[:, 1]"
   ]
  },
  {
   "cell_type": "code",
   "execution_count": 41,
   "id": "0431ef09",
   "metadata": {
    "ExecuteTime": {
     "end_time": "2022-11-28T20:40:19.692260Z",
     "start_time": "2022-11-28T20:31:15.089580Z"
    }
   },
   "outputs": [
    {
     "name": "stdout",
     "output_type": "stream",
     "text": [
      "100 0.9307867150854874 32802.0\n",
      "90 0.9307102523149249 32800.0\n",
      "80 0.9304858125374535 32787.0\n",
      "70 0.930075974376519 32782.0\n"
     ]
    },
    {
     "ename": "KeyboardInterrupt",
     "evalue": "",
     "output_type": "error",
     "traceback": [
      "\u001b[1;31m---------------------------------------------------------------------------\u001b[0m",
      "\u001b[1;31mKeyboardInterrupt\u001b[0m                         Traceback (most recent call last)",
      "\u001b[1;32m~\\AppData\\Local\\Temp\\ipykernel_3992\\2535630339.py\u001b[0m in \u001b[0;36m<module>\u001b[1;34m\u001b[0m\n\u001b[0;32m      2\u001b[0m \u001b[1;32mfor\u001b[0m \u001b[0mi\u001b[0m \u001b[1;32min\u001b[0m \u001b[1;33m[\u001b[0m\u001b[1;36m100\u001b[0m\u001b[1;33m,\u001b[0m\u001b[1;36m90\u001b[0m\u001b[1;33m,\u001b[0m\u001b[1;36m80\u001b[0m\u001b[1;33m,\u001b[0m\u001b[1;36m70\u001b[0m\u001b[1;33m,\u001b[0m\u001b[1;36m60\u001b[0m\u001b[1;33m,\u001b[0m\u001b[1;36m50\u001b[0m\u001b[1;33m,\u001b[0m\u001b[1;36m40\u001b[0m\u001b[1;33m,\u001b[0m\u001b[1;36m30\u001b[0m\u001b[1;33m]\u001b[0m\u001b[1;33m:\u001b[0m\u001b[1;33m\u001b[0m\u001b[1;33m\u001b[0m\u001b[0m\n\u001b[0;32m      3\u001b[0m     \u001b[0mvalid_\u001b[0m\u001b[1;33m=\u001b[0m\u001b[0mvalid\u001b[0m\u001b[1;33m[\u001b[0m\u001b[0mvalid\u001b[0m\u001b[1;33m[\u001b[0m\u001b[1;34m'min_top20'\u001b[0m\u001b[1;33m]\u001b[0m\u001b[1;33m<=\u001b[0m\u001b[0mi\u001b[0m\u001b[1;33m]\u001b[0m\u001b[1;33m\u001b[0m\u001b[1;33m\u001b[0m\u001b[0m\n\u001b[1;32m----> 4\u001b[1;33m     \u001b[0mgini\u001b[0m\u001b[1;33m=\u001b[0m\u001b[0mmofr\u001b[0m\u001b[1;33m.\u001b[0m\u001b[0mmetrics\u001b[0m\u001b[1;33m.\u001b[0m\u001b[0mgini\u001b[0m\u001b[1;33m(\u001b[0m\u001b[0mvalid_\u001b[0m\u001b[1;33m[\u001b[0m\u001b[0mcol_target\u001b[0m\u001b[1;33m]\u001b[0m\u001b[1;33m,\u001b[0m \u001b[0mvalid_\u001b[0m\u001b[1;33m[\u001b[0m\u001b[1;34m'XGB_SCORE'\u001b[0m\u001b[1;33m]\u001b[0m\u001b[1;33m)\u001b[0m\u001b[1;33m\u001b[0m\u001b[1;33m\u001b[0m\u001b[0m\n\u001b[0m\u001b[0;32m      5\u001b[0m     \u001b[0ma\u001b[0m\u001b[1;33m=\u001b[0m\u001b[0mvalid_\u001b[0m\u001b[1;33m[\u001b[0m\u001b[1;33m[\u001b[0m\u001b[1;34m'session_id'\u001b[0m\u001b[1;33m,\u001b[0m \u001b[1;34m'aid'\u001b[0m\u001b[1;33m,\u001b[0m \u001b[1;34m'XGB_SCORE'\u001b[0m\u001b[1;33m,\u001b[0m\u001b[0mcol_target\u001b[0m\u001b[1;33m]\u001b[0m\u001b[1;33m]\u001b[0m\u001b[1;33m.\u001b[0m\u001b[0mgroupby\u001b[0m\u001b[1;33m(\u001b[0m\u001b[1;34m'session_id'\u001b[0m\u001b[1;33m)\u001b[0m\u001b[1;33m.\u001b[0m\u001b[0mapply\u001b[0m\u001b[1;33m(\u001b[0m\u001b[1;32mlambda\u001b[0m \u001b[0mx\u001b[0m \u001b[1;33m:\u001b[0m \u001b[0mx\u001b[0m\u001b[1;33m.\u001b[0m\u001b[0msort_values\u001b[0m\u001b[1;33m(\u001b[0m\u001b[0mby\u001b[0m \u001b[1;33m=\u001b[0m \u001b[1;33m[\u001b[0m\u001b[1;34m'XGB_SCORE'\u001b[0m\u001b[1;33m]\u001b[0m\u001b[1;33m,\u001b[0m \u001b[0mascending\u001b[0m \u001b[1;33m=\u001b[0m \u001b[1;33m[\u001b[0m\u001b[1;32mFalse\u001b[0m\u001b[1;33m]\u001b[0m\u001b[1;33m)\u001b[0m\u001b[1;33m.\u001b[0m\u001b[0mhead\u001b[0m\u001b[1;33m(\u001b[0m\u001b[1;36m20\u001b[0m\u001b[1;33m)\u001b[0m\u001b[1;33m.\u001b[0m\u001b[0mreset_index\u001b[0m\u001b[1;33m(\u001b[0m\u001b[0mdrop\u001b[0m \u001b[1;33m=\u001b[0m \u001b[1;32mTrue\u001b[0m\u001b[1;33m)\u001b[0m\u001b[1;33m)\u001b[0m\u001b[1;33m.\u001b[0m\u001b[0mreset_index\u001b[0m\u001b[1;33m(\u001b[0m\u001b[0mdrop\u001b[0m \u001b[1;33m=\u001b[0m \u001b[1;32mTrue\u001b[0m\u001b[1;33m)\u001b[0m\u001b[1;33m\u001b[0m\u001b[1;33m\u001b[0m\u001b[0m\n\u001b[0;32m      6\u001b[0m     \u001b[0mnum_captured\u001b[0m\u001b[1;33m=\u001b[0m\u001b[0mnp\u001b[0m\u001b[1;33m.\u001b[0m\u001b[0msum\u001b[0m\u001b[1;33m(\u001b[0m\u001b[0ma\u001b[0m\u001b[1;33m[\u001b[0m\u001b[0mcol_target\u001b[0m\u001b[1;33m]\u001b[0m\u001b[1;33m)\u001b[0m\u001b[1;33m\u001b[0m\u001b[1;33m\u001b[0m\u001b[0m\n",
      "\u001b[1;32m~\\anaconda3\\lib\\site-packages\\mofr\\metrics.py\u001b[0m in \u001b[0;36mgini\u001b[1;34m(y_true, y_score, *args, **kwargs)\u001b[0m\n\u001b[0;32m     31\u001b[0m     roc_auc_score in a way that the result is between -1 and 1.\"\"\"\n\u001b[0;32m     32\u001b[0m \u001b[1;33m\u001b[0m\u001b[0m\n\u001b[1;32m---> 33\u001b[1;33m     \u001b[1;32mreturn\u001b[0m \u001b[1;36m2\u001b[0m\u001b[1;33m*\u001b[0m\u001b[0mroc_auc_score\u001b[0m\u001b[1;33m(\u001b[0m\u001b[0my_true\u001b[0m\u001b[1;33m,\u001b[0m \u001b[0my_score\u001b[0m\u001b[1;33m,\u001b[0m \u001b[1;33m*\u001b[0m\u001b[0margs\u001b[0m\u001b[1;33m,\u001b[0m \u001b[1;33m**\u001b[0m\u001b[0mkwargs\u001b[0m\u001b[1;33m)\u001b[0m\u001b[1;33m-\u001b[0m\u001b[1;36m1\u001b[0m\u001b[1;33m\u001b[0m\u001b[1;33m\u001b[0m\u001b[0m\n\u001b[0m\u001b[0;32m     34\u001b[0m \u001b[1;33m\u001b[0m\u001b[0m\n\u001b[0;32m     35\u001b[0m \u001b[1;32mdef\u001b[0m \u001b[0mliftN\u001b[0m\u001b[1;33m(\u001b[0m\u001b[0my_true\u001b[0m\u001b[1;33m,\u001b[0m \u001b[0my_score\u001b[0m\u001b[1;33m,\u001b[0m \u001b[0mp\u001b[0m\u001b[1;33m)\u001b[0m\u001b[1;33m:\u001b[0m\u001b[1;33m\u001b[0m\u001b[1;33m\u001b[0m\u001b[0m\n",
      "\u001b[1;32m~\\anaconda3\\lib\\site-packages\\sklearn\\metrics\\_ranking.py\u001b[0m in \u001b[0;36mroc_auc_score\u001b[1;34m(y_true, y_score, average, sample_weight, max_fpr, multi_class, labels)\u001b[0m\n\u001b[0;32m    565\u001b[0m         \u001b[0mlabels\u001b[0m \u001b[1;33m=\u001b[0m \u001b[0mnp\u001b[0m\u001b[1;33m.\u001b[0m\u001b[0munique\u001b[0m\u001b[1;33m(\u001b[0m\u001b[0my_true\u001b[0m\u001b[1;33m)\u001b[0m\u001b[1;33m\u001b[0m\u001b[1;33m\u001b[0m\u001b[0m\n\u001b[0;32m    566\u001b[0m         \u001b[0my_true\u001b[0m \u001b[1;33m=\u001b[0m \u001b[0mlabel_binarize\u001b[0m\u001b[1;33m(\u001b[0m\u001b[0my_true\u001b[0m\u001b[1;33m,\u001b[0m \u001b[0mclasses\u001b[0m\u001b[1;33m=\u001b[0m\u001b[0mlabels\u001b[0m\u001b[1;33m)\u001b[0m\u001b[1;33m[\u001b[0m\u001b[1;33m:\u001b[0m\u001b[1;33m,\u001b[0m \u001b[1;36m0\u001b[0m\u001b[1;33m]\u001b[0m\u001b[1;33m\u001b[0m\u001b[1;33m\u001b[0m\u001b[0m\n\u001b[1;32m--> 567\u001b[1;33m         return _average_binary_score(\n\u001b[0m\u001b[0;32m    568\u001b[0m             \u001b[0mpartial\u001b[0m\u001b[1;33m(\u001b[0m\u001b[0m_binary_roc_auc_score\u001b[0m\u001b[1;33m,\u001b[0m \u001b[0mmax_fpr\u001b[0m\u001b[1;33m=\u001b[0m\u001b[0mmax_fpr\u001b[0m\u001b[1;33m)\u001b[0m\u001b[1;33m,\u001b[0m\u001b[1;33m\u001b[0m\u001b[1;33m\u001b[0m\u001b[0m\n\u001b[0;32m    569\u001b[0m             \u001b[0my_true\u001b[0m\u001b[1;33m,\u001b[0m\u001b[1;33m\u001b[0m\u001b[1;33m\u001b[0m\u001b[0m\n",
      "\u001b[1;32m~\\anaconda3\\lib\\site-packages\\sklearn\\metrics\\_base.py\u001b[0m in \u001b[0;36m_average_binary_score\u001b[1;34m(binary_metric, y_true, y_score, average, sample_weight)\u001b[0m\n\u001b[0;32m     73\u001b[0m \u001b[1;33m\u001b[0m\u001b[0m\n\u001b[0;32m     74\u001b[0m     \u001b[1;32mif\u001b[0m \u001b[0my_type\u001b[0m \u001b[1;33m==\u001b[0m \u001b[1;34m\"binary\"\u001b[0m\u001b[1;33m:\u001b[0m\u001b[1;33m\u001b[0m\u001b[1;33m\u001b[0m\u001b[0m\n\u001b[1;32m---> 75\u001b[1;33m         \u001b[1;32mreturn\u001b[0m \u001b[0mbinary_metric\u001b[0m\u001b[1;33m(\u001b[0m\u001b[0my_true\u001b[0m\u001b[1;33m,\u001b[0m \u001b[0my_score\u001b[0m\u001b[1;33m,\u001b[0m \u001b[0msample_weight\u001b[0m\u001b[1;33m=\u001b[0m\u001b[0msample_weight\u001b[0m\u001b[1;33m)\u001b[0m\u001b[1;33m\u001b[0m\u001b[1;33m\u001b[0m\u001b[0m\n\u001b[0m\u001b[0;32m     76\u001b[0m \u001b[1;33m\u001b[0m\u001b[0m\n\u001b[0;32m     77\u001b[0m     \u001b[0mcheck_consistent_length\u001b[0m\u001b[1;33m(\u001b[0m\u001b[0my_true\u001b[0m\u001b[1;33m,\u001b[0m \u001b[0my_score\u001b[0m\u001b[1;33m,\u001b[0m \u001b[0msample_weight\u001b[0m\u001b[1;33m)\u001b[0m\u001b[1;33m\u001b[0m\u001b[1;33m\u001b[0m\u001b[0m\n",
      "\u001b[1;32m~\\anaconda3\\lib\\site-packages\\sklearn\\metrics\\_ranking.py\u001b[0m in \u001b[0;36m_binary_roc_auc_score\u001b[1;34m(y_true, y_score, sample_weight, max_fpr)\u001b[0m\n\u001b[0;32m    340\u001b[0m         )\n\u001b[0;32m    341\u001b[0m \u001b[1;33m\u001b[0m\u001b[0m\n\u001b[1;32m--> 342\u001b[1;33m     \u001b[0mfpr\u001b[0m\u001b[1;33m,\u001b[0m \u001b[0mtpr\u001b[0m\u001b[1;33m,\u001b[0m \u001b[0m_\u001b[0m \u001b[1;33m=\u001b[0m \u001b[0mroc_curve\u001b[0m\u001b[1;33m(\u001b[0m\u001b[0my_true\u001b[0m\u001b[1;33m,\u001b[0m \u001b[0my_score\u001b[0m\u001b[1;33m,\u001b[0m \u001b[0msample_weight\u001b[0m\u001b[1;33m=\u001b[0m\u001b[0msample_weight\u001b[0m\u001b[1;33m)\u001b[0m\u001b[1;33m\u001b[0m\u001b[1;33m\u001b[0m\u001b[0m\n\u001b[0m\u001b[0;32m    343\u001b[0m     \u001b[1;32mif\u001b[0m \u001b[0mmax_fpr\u001b[0m \u001b[1;32mis\u001b[0m \u001b[1;32mNone\u001b[0m \u001b[1;32mor\u001b[0m \u001b[0mmax_fpr\u001b[0m \u001b[1;33m==\u001b[0m \u001b[1;36m1\u001b[0m\u001b[1;33m:\u001b[0m\u001b[1;33m\u001b[0m\u001b[1;33m\u001b[0m\u001b[0m\n\u001b[0;32m    344\u001b[0m         \u001b[1;32mreturn\u001b[0m \u001b[0mauc\u001b[0m\u001b[1;33m(\u001b[0m\u001b[0mfpr\u001b[0m\u001b[1;33m,\u001b[0m \u001b[0mtpr\u001b[0m\u001b[1;33m)\u001b[0m\u001b[1;33m\u001b[0m\u001b[1;33m\u001b[0m\u001b[0m\n",
      "\u001b[1;32m~\\anaconda3\\lib\\site-packages\\sklearn\\metrics\\_ranking.py\u001b[0m in \u001b[0;36mroc_curve\u001b[1;34m(y_true, y_score, pos_label, sample_weight, drop_intermediate)\u001b[0m\n\u001b[0;32m    975\u001b[0m     \u001b[1;32mif\u001b[0m \u001b[0mdrop_intermediate\u001b[0m \u001b[1;32mand\u001b[0m \u001b[0mlen\u001b[0m\u001b[1;33m(\u001b[0m\u001b[0mfps\u001b[0m\u001b[1;33m)\u001b[0m \u001b[1;33m>\u001b[0m \u001b[1;36m2\u001b[0m\u001b[1;33m:\u001b[0m\u001b[1;33m\u001b[0m\u001b[1;33m\u001b[0m\u001b[0m\n\u001b[0;32m    976\u001b[0m         optimal_idxs = np.where(\n\u001b[1;32m--> 977\u001b[1;33m             \u001b[0mnp\u001b[0m\u001b[1;33m.\u001b[0m\u001b[0mr_\u001b[0m\u001b[1;33m[\u001b[0m\u001b[1;32mTrue\u001b[0m\u001b[1;33m,\u001b[0m \u001b[0mnp\u001b[0m\u001b[1;33m.\u001b[0m\u001b[0mlogical_or\u001b[0m\u001b[1;33m(\u001b[0m\u001b[0mnp\u001b[0m\u001b[1;33m.\u001b[0m\u001b[0mdiff\u001b[0m\u001b[1;33m(\u001b[0m\u001b[0mfps\u001b[0m\u001b[1;33m,\u001b[0m \u001b[1;36m2\u001b[0m\u001b[1;33m)\u001b[0m\u001b[1;33m,\u001b[0m \u001b[0mnp\u001b[0m\u001b[1;33m.\u001b[0m\u001b[0mdiff\u001b[0m\u001b[1;33m(\u001b[0m\u001b[0mtps\u001b[0m\u001b[1;33m,\u001b[0m \u001b[1;36m2\u001b[0m\u001b[1;33m)\u001b[0m\u001b[1;33m)\u001b[0m\u001b[1;33m,\u001b[0m \u001b[1;32mTrue\u001b[0m\u001b[1;33m]\u001b[0m\u001b[1;33m\u001b[0m\u001b[1;33m\u001b[0m\u001b[0m\n\u001b[0m\u001b[0;32m    978\u001b[0m         )[0]\n\u001b[0;32m    979\u001b[0m         \u001b[0mfps\u001b[0m \u001b[1;33m=\u001b[0m \u001b[0mfps\u001b[0m\u001b[1;33m[\u001b[0m\u001b[0moptimal_idxs\u001b[0m\u001b[1;33m]\u001b[0m\u001b[1;33m\u001b[0m\u001b[1;33m\u001b[0m\u001b[0m\n",
      "\u001b[1;32m<__array_function__ internals>\u001b[0m in \u001b[0;36mdiff\u001b[1;34m(*args, **kwargs)\u001b[0m\n",
      "\u001b[1;32m~\\anaconda3\\lib\\site-packages\\numpy\\lib\\function_base.py\u001b[0m in \u001b[0;36mdiff\u001b[1;34m(a, n, axis, prepend, append)\u001b[0m\n\u001b[0;32m   1290\u001b[0m     \u001b[0mop\u001b[0m \u001b[1;33m=\u001b[0m \u001b[0mnot_equal\u001b[0m \u001b[1;32mif\u001b[0m \u001b[0ma\u001b[0m\u001b[1;33m.\u001b[0m\u001b[0mdtype\u001b[0m \u001b[1;33m==\u001b[0m \u001b[0mnp\u001b[0m\u001b[1;33m.\u001b[0m\u001b[0mbool_\u001b[0m \u001b[1;32melse\u001b[0m \u001b[0msubtract\u001b[0m\u001b[1;33m\u001b[0m\u001b[1;33m\u001b[0m\u001b[0m\n\u001b[0;32m   1291\u001b[0m     \u001b[1;32mfor\u001b[0m \u001b[0m_\u001b[0m \u001b[1;32min\u001b[0m \u001b[0mrange\u001b[0m\u001b[1;33m(\u001b[0m\u001b[0mn\u001b[0m\u001b[1;33m)\u001b[0m\u001b[1;33m:\u001b[0m\u001b[1;33m\u001b[0m\u001b[1;33m\u001b[0m\u001b[0m\n\u001b[1;32m-> 1292\u001b[1;33m         \u001b[0ma\u001b[0m \u001b[1;33m=\u001b[0m \u001b[0mop\u001b[0m\u001b[1;33m(\u001b[0m\u001b[0ma\u001b[0m\u001b[1;33m[\u001b[0m\u001b[0mslice1\u001b[0m\u001b[1;33m]\u001b[0m\u001b[1;33m,\u001b[0m \u001b[0ma\u001b[0m\u001b[1;33m[\u001b[0m\u001b[0mslice2\u001b[0m\u001b[1;33m]\u001b[0m\u001b[1;33m)\u001b[0m\u001b[1;33m\u001b[0m\u001b[1;33m\u001b[0m\u001b[0m\n\u001b[0m\u001b[0;32m   1293\u001b[0m \u001b[1;33m\u001b[0m\u001b[0m\n\u001b[0;32m   1294\u001b[0m     \u001b[1;32mreturn\u001b[0m \u001b[0ma\u001b[0m\u001b[1;33m\u001b[0m\u001b[1;33m\u001b[0m\u001b[0m\n",
      "\u001b[1;31mKeyboardInterrupt\u001b[0m: "
     ]
    }
   ],
   "source": [
    "result=[]\n",
    "for i in [100,90,80,70,60,50,40,30]:\n",
    "    valid_=valid[valid['min_top20']<=i]\n",
    "    gini=mofr.metrics.gini(valid_[col_target], valid_['XGB_SCORE'])\n",
    "    a=valid_[['session_id', 'aid', 'XGB_SCORE',col_target]].groupby('session_id').apply(lambda x : x.sort_values(by = ['XGB_SCORE'], ascending = [False]).head(20).reset_index(drop = True)).reset_index(drop = True)\n",
    "    num_captured=np.sum(a[col_target])\n",
    "    print (i,gini, num_captured)\n",
    "    result.append((i,gini, num_captured))\n",
    "    \n",
    "pd.DataFrame(result)"
   ]
  },
  {
   "cell_type": "code",
   "execution_count": 42,
   "id": "39c9dccf",
   "metadata": {
    "ExecuteTime": {
     "end_time": "2022-11-28T20:40:23.822402Z",
     "start_time": "2022-11-28T20:40:23.775042Z"
    },
    "hide_input": true
   },
   "outputs": [
    {
     "data": {
      "text/html": [
       "<div>\n",
       "<style scoped>\n",
       "    .dataframe tbody tr th:only-of-type {\n",
       "        vertical-align: middle;\n",
       "    }\n",
       "\n",
       "    .dataframe tbody tr th {\n",
       "        vertical-align: top;\n",
       "    }\n",
       "\n",
       "    .dataframe thead th {\n",
       "        text-align: right;\n",
       "    }\n",
       "</style>\n",
       "<table border=\"1\" class=\"dataframe\">\n",
       "  <thead>\n",
       "    <tr style=\"text-align: right;\">\n",
       "      <th></th>\n",
       "      <th>target</th>\n",
       "      <th>target_clicks</th>\n",
       "      <th>target_carts</th>\n",
       "      <th>target_orders</th>\n",
       "      <th>session_id</th>\n",
       "      <th>aid</th>\n",
       "      <th>min_top20</th>\n",
       "      <th>avg_top20</th>\n",
       "      <th>max_top20</th>\n",
       "      <th>in_session</th>\n",
       "      <th>...</th>\n",
       "      <th>last_bought</th>\n",
       "      <th>bought_overall</th>\n",
       "      <th>seen_overall</th>\n",
       "      <th>num_clicks_same_day</th>\n",
       "      <th>num_carts_same_day</th>\n",
       "      <th>num_orders_same_day</th>\n",
       "      <th>null_flag</th>\n",
       "      <th>in_session_carted_not_ordered</th>\n",
       "      <th>in_session_clicked_not_carted</th>\n",
       "      <th>XGB_SCORE</th>\n",
       "    </tr>\n",
       "  </thead>\n",
       "  <tbody>\n",
       "    <tr>\n",
       "      <th>0</th>\n",
       "      <td>0.0</td>\n",
       "      <td>0.0</td>\n",
       "      <td>0.0</td>\n",
       "      <td>0.0</td>\n",
       "      <td>11098546.0</td>\n",
       "      <td>605.0</td>\n",
       "      <td>9.0</td>\n",
       "      <td>50.000000</td>\n",
       "      <td>91.0</td>\n",
       "      <td>0.0</td>\n",
       "      <td>...</td>\n",
       "      <td>5.625833</td>\n",
       "      <td>255.0</td>\n",
       "      <td>3004.0</td>\n",
       "      <td>9.0</td>\n",
       "      <td>1.0</td>\n",
       "      <td>1.0</td>\n",
       "      <td>1</td>\n",
       "      <td>0</td>\n",
       "      <td>0</td>\n",
       "      <td>0.000231</td>\n",
       "    </tr>\n",
       "    <tr>\n",
       "      <th>1</th>\n",
       "      <td>0.0</td>\n",
       "      <td>0.0</td>\n",
       "      <td>0.0</td>\n",
       "      <td>0.0</td>\n",
       "      <td>11098546.0</td>\n",
       "      <td>665.0</td>\n",
       "      <td>71.0</td>\n",
       "      <td>71.000000</td>\n",
       "      <td>71.0</td>\n",
       "      <td>0.0</td>\n",
       "      <td>...</td>\n",
       "      <td>171.533104</td>\n",
       "      <td>3.0</td>\n",
       "      <td>31.0</td>\n",
       "      <td>1.0</td>\n",
       "      <td>0.0</td>\n",
       "      <td>0.0</td>\n",
       "      <td>0</td>\n",
       "      <td>0</td>\n",
       "      <td>0</td>\n",
       "      <td>0.000102</td>\n",
       "    </tr>\n",
       "    <tr>\n",
       "      <th>2</th>\n",
       "      <td>0.0</td>\n",
       "      <td>0.0</td>\n",
       "      <td>0.0</td>\n",
       "      <td>0.0</td>\n",
       "      <td>11098546.0</td>\n",
       "      <td>1089.0</td>\n",
       "      <td>16.0</td>\n",
       "      <td>45.666667</td>\n",
       "      <td>82.0</td>\n",
       "      <td>0.0</td>\n",
       "      <td>...</td>\n",
       "      <td>1.657222</td>\n",
       "      <td>864.0</td>\n",
       "      <td>15026.0</td>\n",
       "      <td>127.0</td>\n",
       "      <td>1.0</td>\n",
       "      <td>0.0</td>\n",
       "      <td>1</td>\n",
       "      <td>0</td>\n",
       "      <td>0</td>\n",
       "      <td>0.000112</td>\n",
       "    </tr>\n",
       "    <tr>\n",
       "      <th>3</th>\n",
       "      <td>0.0</td>\n",
       "      <td>0.0</td>\n",
       "      <td>0.0</td>\n",
       "      <td>0.0</td>\n",
       "      <td>11098546.0</td>\n",
       "      <td>1303.0</td>\n",
       "      <td>35.0</td>\n",
       "      <td>60.500000</td>\n",
       "      <td>87.0</td>\n",
       "      <td>0.0</td>\n",
       "      <td>...</td>\n",
       "      <td>28.698889</td>\n",
       "      <td>464.0</td>\n",
       "      <td>4974.0</td>\n",
       "      <td>32.0</td>\n",
       "      <td>5.0</td>\n",
       "      <td>0.0</td>\n",
       "      <td>1</td>\n",
       "      <td>0</td>\n",
       "      <td>0</td>\n",
       "      <td>0.000176</td>\n",
       "    </tr>\n",
       "    <tr>\n",
       "      <th>4</th>\n",
       "      <td>0.0</td>\n",
       "      <td>0.0</td>\n",
       "      <td>0.0</td>\n",
       "      <td>0.0</td>\n",
       "      <td>11098546.0</td>\n",
       "      <td>1398.0</td>\n",
       "      <td>15.0</td>\n",
       "      <td>15.000000</td>\n",
       "      <td>15.0</td>\n",
       "      <td>0.0</td>\n",
       "      <td>...</td>\n",
       "      <td>NaN</td>\n",
       "      <td>0.0</td>\n",
       "      <td>11.0</td>\n",
       "      <td>NaN</td>\n",
       "      <td>NaN</td>\n",
       "      <td>NaN</td>\n",
       "      <td>0</td>\n",
       "      <td>0</td>\n",
       "      <td>0</td>\n",
       "      <td>0.002202</td>\n",
       "    </tr>\n",
       "  </tbody>\n",
       "</table>\n",
       "<p>5 rows × 55 columns</p>\n",
       "</div>"
      ],
      "text/plain": [
       "   target  target_clicks  target_carts  target_orders  session_id     aid  \\\n",
       "0     0.0            0.0           0.0            0.0  11098546.0   605.0   \n",
       "1     0.0            0.0           0.0            0.0  11098546.0   665.0   \n",
       "2     0.0            0.0           0.0            0.0  11098546.0  1089.0   \n",
       "3     0.0            0.0           0.0            0.0  11098546.0  1303.0   \n",
       "4     0.0            0.0           0.0            0.0  11098546.0  1398.0   \n",
       "\n",
       "   min_top20  avg_top20  max_top20  in_session  ...  last_bought  \\\n",
       "0        9.0  50.000000       91.0         0.0  ...     5.625833   \n",
       "1       71.0  71.000000       71.0         0.0  ...   171.533104   \n",
       "2       16.0  45.666667       82.0         0.0  ...     1.657222   \n",
       "3       35.0  60.500000       87.0         0.0  ...    28.698889   \n",
       "4       15.0  15.000000       15.0         0.0  ...          NaN   \n",
       "\n",
       "   bought_overall  seen_overall  num_clicks_same_day  num_carts_same_day  \\\n",
       "0           255.0        3004.0                  9.0                 1.0   \n",
       "1             3.0          31.0                  1.0                 0.0   \n",
       "2           864.0       15026.0                127.0                 1.0   \n",
       "3           464.0        4974.0                 32.0                 5.0   \n",
       "4             0.0          11.0                  NaN                 NaN   \n",
       "\n",
       "   num_orders_same_day  null_flag  in_session_carted_not_ordered  \\\n",
       "0                  1.0          1                              0   \n",
       "1                  0.0          0                              0   \n",
       "2                  0.0          1                              0   \n",
       "3                  0.0          1                              0   \n",
       "4                  NaN          0                              0   \n",
       "\n",
       "   in_session_clicked_not_carted  XGB_SCORE  \n",
       "0                              0   0.000231  \n",
       "1                              0   0.000102  \n",
       "2                              0   0.000112  \n",
       "3                              0   0.000176  \n",
       "4                              0   0.002202  \n",
       "\n",
       "[5 rows x 55 columns]"
      ]
     },
     "execution_count": 42,
     "metadata": {},
     "output_type": "execute_result"
    }
   ],
   "source": [
    "valid.head()"
   ]
  },
  {
   "cell_type": "code",
   "execution_count": 43,
   "id": "af31e5c9",
   "metadata": {
    "ExecuteTime": {
     "end_time": "2022-11-28T20:40:24.122513Z",
     "start_time": "2022-11-28T20:40:23.824396Z"
    }
   },
   "outputs": [
    {
     "data": {
      "text/plain": [
       "0.0    28769561\n",
       "1.0       38983\n",
       "Name: target, dtype: int64"
      ]
     },
     "execution_count": 43,
     "metadata": {},
     "output_type": "execute_result"
    }
   ],
   "source": [
    "valid[col_target].value_counts()"
   ]
  },
  {
   "cell_type": "code",
   "execution_count": 44,
   "id": "a952b9b0",
   "metadata": {
    "ExecuteTime": {
     "end_time": "2022-11-28T20:42:01.169585Z",
     "start_time": "2022-11-28T20:40:24.123500Z"
    }
   },
   "outputs": [
    {
     "name": "stdout",
     "output_type": "stream",
     "text": [
      "The coverage of the target on the train set is: 0.6245846601135262\n",
      "The mean coverage of carts on the train set is: 0.6714171233025059\n",
      "The mean coverage of orders on the train set is: 0.8147332936744002\n",
      "Max score possible with this set is: 0.7402651131953919\n"
     ]
    }
   ],
   "source": [
    "coverage=(pd.DataFrame(df.groupby('session_id')[col_target].apply(np.sum)).reset_index()).merge(df.groupby('session_id')[['number_carts_orders','number_carts', 'number_orders']].apply(np.mean), how='inner', on='session_id')\n",
    "target_coverage=np.sum(coverage[coverage['number_carts_orders']>0]['target'])/np.sum(coverage[coverage['number_carts_orders']>0]['number_carts_orders'].apply(lambda x: min([20,x])))\n",
    "# target_avg_coverage=np.sum(coverage[coverage['number_carts_orders']>0]['target']/coverage[coverage['number_carts_orders']>0]['number_carts_orders'])\n",
    "target_avg_coverage_carts=np.sum(coverage[coverage['number_carts']>0]['target'])/np.sum(coverage[coverage['number_carts']>0]['number_carts'].apply(lambda x: min([20,x])))\n",
    "target_avg_coverage_orders=np.sum(coverage[coverage['number_orders']>0]['target'])/np.sum(coverage[coverage['number_orders']>0]['number_orders'].apply(lambda x: min([20,x])))\n",
    "\n",
    "print(f'The coverage of the target on the train set is: {target_coverage}')\n",
    "print(f'The mean coverage of carts on the train set is: {target_avg_coverage_carts}')\n",
    "print(f'The mean coverage of orders on the train set is: {target_avg_coverage_orders}')\n",
    "print(f'Max score possible with this set is: {0.1*0.5+0.3*target_avg_coverage_carts+0.6*target_avg_coverage_orders}')"
   ]
  },
  {
   "cell_type": "code",
   "execution_count": 45,
   "id": "fd5d39ee",
   "metadata": {
    "ExecuteTime": {
     "end_time": "2022-11-28T20:42:43.565349Z",
     "start_time": "2022-11-28T20:42:01.171018Z"
    }
   },
   "outputs": [
    {
     "name": "stdout",
     "output_type": "stream",
     "text": [
      "The coverage of the target on the valid set is: 0.7093974953160438\n",
      "The mean coverage of carts on the valid set is: 0.7493473883101708\n",
      "The mean coverage of orders on the valid set is: 0.910228802153432\n",
      "Max score possible with this set is: 0.8209414977851104\n"
     ]
    }
   ],
   "source": [
    "coverage=(pd.DataFrame(valid.groupby('session_id')[col_target].apply(np.sum)).reset_index()).merge(valid.groupby('session_id')[['number_carts_orders','number_carts', 'number_orders']].apply(np.mean), how='inner', on='session_id')\n",
    "target_coverage=np.sum(coverage[coverage['number_carts_orders']>0]['target'])/np.sum(coverage[coverage['number_carts_orders']>0]['number_carts_orders'].apply(lambda x: min([20,x])))\n",
    "# target_avg_coverage=np.sum(coverage[coverage['number_carts_orders']>0]['target']/coverage[coverage['number_carts_orders']>0]['number_carts_orders'])\n",
    "target_avg_coverage_carts=np.sum(coverage[coverage['number_carts']>0]['target'])/np.sum(coverage[coverage['number_carts']>0]['number_carts'].apply(lambda x: min([20,x])))\n",
    "target_avg_coverage_orders=np.sum(coverage[coverage['number_orders']>0]['target'])/np.sum(coverage[coverage['number_orders']>0]['number_orders'].apply(lambda x: min([20,x])))\n",
    "\n",
    "print(f'The coverage of the target on the valid set is: {target_coverage}')\n",
    "print(f'The mean coverage of carts on the valid set is: {target_avg_coverage_carts}')\n",
    "print(f'The mean coverage of orders on the valid set is: {target_avg_coverage_orders}')\n",
    "print(f'Max score possible with this set is: {0.1*0.5+0.3*target_avg_coverage_carts+0.6*target_avg_coverage_orders}')"
   ]
  },
  {
   "cell_type": "markdown",
   "id": "ebfdfe65",
   "metadata": {
    "ExecuteTime": {
     "end_time": "2022-11-20T12:44:42.896737Z",
     "start_time": "2022-11-20T12:44:42.882040Z"
    }
   },
   "source": [
    "## Submission XGB SCORE"
   ]
  },
  {
   "cell_type": "code",
   "execution_count": 46,
   "id": "bb79eb82",
   "metadata": {
    "ExecuteTime": {
     "end_time": "2022-11-28T20:44:55.649882Z",
     "start_time": "2022-11-28T20:42:43.565349Z"
    },
    "hide_input": false
   },
   "outputs": [],
   "source": [
    "a=valid.groupby('session_id').apply(lambda x : x.sort_values(by = ['XGB_SCORE'], ascending = [False]).head(20).reset_index(drop = True)).reset_index(drop = True)\n",
    "a['session_id']=a['session_id'].apply(lambda x: str(int(x)))\n",
    "a['aid']=a['aid'].apply(lambda x: str(int(x)))\n",
    "    \n",
    "pred_df=pd.DataFrame(a.groupby('session_id')['aid'].apply(list).apply(' '.join)).reset_index(drop=False).rename(columns={'aid':'labels'})"
   ]
  },
  {
   "cell_type": "code",
   "execution_count": 47,
   "id": "608d8d84",
   "metadata": {
    "ExecuteTime": {
     "end_time": "2022-11-28T20:44:55.665689Z",
     "start_time": "2022-11-28T20:44:55.649882Z"
    },
    "hide_input": false
   },
   "outputs": [],
   "source": [
    "# a=valid.groupby('session_id').apply(lambda x : x.sort_values(by = ['in_session','times_in_top20','XGB_SCORE'], ascending = [False,False,False]).head(20).reset_index(drop = True)).reset_index(drop = True)\n",
    "# a['session_id']=a['session_id'].apply(lambda x: str(int(x)))\n",
    "# a['aid']=a['aid'].apply(lambda x: str(int(x)))\n",
    "    \n",
    "# pred_df=pd.DataFrame(a.groupby('session_id')['aid'].apply(list).apply(' '.join)).reset_index(drop=False).rename(columns={'aid':'labels'})"
   ]
  },
  {
   "cell_type": "code",
   "execution_count": 48,
   "id": "333b1746",
   "metadata": {
    "ExecuteTime": {
     "end_time": "2022-11-28T20:44:55.696690Z",
     "start_time": "2022-11-28T20:44:55.667690Z"
    }
   },
   "outputs": [],
   "source": [
    "# TOP CLICKS AND ORDERS IN TEST\n",
    "top_clicks = ['485256', '1460571','108125','1551213','33343','613493','876493','152547','184976','1236775'\n",
    "              ,'1406660','836852','331708','1531805','29735','554660','634452','986164','959208','832192']\n",
    "\n",
    "top_carts = ['485256', '33343','613493','152547','876493','1406660','1736857','166037','1460571','1236775'\n",
    "             ,'554660','660655','1531805','1022566','231487','122983','1562705','923948','332654','544144']\n",
    "\n",
    "top_orders = ['876493', '1406660','1236775','166037','1460571','1531805','836852','634452','923948','1043508'\n",
    "             ,'832192','258353','801774','332654','1596897','29735','544144','1581568','1462420','1006198']"
   ]
  },
  {
   "cell_type": "code",
   "execution_count": 49,
   "id": "45645d8e",
   "metadata": {
    "ExecuteTime": {
     "end_time": "2022-11-28T20:44:55.789698Z",
     "start_time": "2022-11-28T20:44:55.698690Z"
    },
    "hide_input": true
   },
   "outputs": [],
   "source": [
    "submission_clicks_valid=pred_df.copy()\n",
    "submission_carts_valid=pred_df.copy()\n",
    "submission_orders_valid=pred_df.copy()\n",
    "\n",
    "submission_clicks_valid['session_type']=submission_clicks_valid['session_id'].apply(lambda x: x+'_clicks')\n",
    "submission_carts_valid['session_type']=submission_carts_valid['session_id'].apply(lambda x: x+'_carts')\n",
    "submission_orders_valid['session_type']=submission_orders_valid['session_id'].apply(lambda x: x+'_orders')     "
   ]
  },
  {
   "cell_type": "code",
   "execution_count": 50,
   "id": "2283a5d9",
   "metadata": {
    "ExecuteTime": {
     "end_time": "2022-11-28T20:44:58.500101Z",
     "start_time": "2022-11-28T20:44:55.791690Z"
    },
    "hide_input": true
   },
   "outputs": [],
   "source": [
    "submission_clicks_valid['labels']=submission_clicks_valid['labels'].apply(lambda x: list(x.split(' ')) + top_clicks).apply(lambda x: ' '.join(list(dict.fromkeys(x))[0:20]))\n",
    "submission_carts_valid['labels']=submission_carts_valid['labels'].apply(lambda x: list(x.split(' ')) + top_carts).apply(lambda x: ' '.join(list(dict.fromkeys(x))[0:20]))\n",
    "submission_orders_valid['labels']=submission_orders_valid['labels'].apply(lambda x: list(x.split(' ')) + top_carts).apply(lambda x: ' '.join(list(dict.fromkeys(x))[0:20]))"
   ]
  },
  {
   "cell_type": "code",
   "execution_count": 51,
   "id": "a6e3a72a",
   "metadata": {
    "ExecuteTime": {
     "end_time": "2022-11-28T20:44:58.594676Z",
     "start_time": "2022-11-28T20:44:58.505613Z"
    },
    "hide_input": true
   },
   "outputs": [],
   "source": [
    "submission_final_valid=pd.concat([submission_clicks_valid[['session_type', 'labels']],submission_carts_valid[['session_type', 'labels']],submission_orders_valid[['session_type', 'labels']]])"
   ]
  },
  {
   "cell_type": "code",
   "execution_count": 52,
   "id": "4d79747f",
   "metadata": {
    "ExecuteTime": {
     "end_time": "2022-11-28T20:45:08.959291Z",
     "start_time": "2022-11-28T20:44:58.595672Z"
    }
   },
   "outputs": [
    {
     "name": "stdout",
     "output_type": "stream",
     "text": [
      "clicks recall = 0.4973738388963639\n",
      "carts recall = 0.4372219045961868\n",
      "orders recall = 0.6619642857142857\n",
      "=============\n",
      "Overall Recall = 0.5780825266970638\n",
      "=============\n"
     ]
    }
   ],
   "source": [
    "# COMPUTE METRIC\n",
    "score = 0\n",
    "weights = {'clicks': 0.10, 'carts': 0.30, 'orders': 0.60}\n",
    "for t in ['clicks','carts','orders']:\n",
    "    sub = submission_final_valid.loc[submission_final_valid.session_type.str.contains(t)].copy()\n",
    "    sub['session'] = sub.session_type.apply(lambda x: int(x.split('_')[0]))\n",
    "    sub.labels = sub.labels.apply(lambda x: [int(i) for i in x.split(' ')[:20]])\n",
    "    test_labels = pd.read_parquet('test_cv_labels.parquet')\n",
    "    test_labels = test_labels.loc[test_labels['type']==t]\n",
    "    test_labels = test_labels.merge(sub, how='inner', on=['session'])\n",
    "    test_labels['hits'] = test_labels.apply(lambda df: len(set(df.ground_truth).intersection(set(df.labels))), axis=1)\n",
    "    test_labels['gt_count'] = test_labels.ground_truth.str.len().clip(0,20)\n",
    "    recall = test_labels['hits'].sum() / test_labels['gt_count'].sum()\n",
    "    score += weights[t]*recall\n",
    "    print(f'{t} recall =',recall)\n",
    "    \n",
    "print('=============')\n",
    "print('Overall Recall =',score)\n",
    "print('=============')"
   ]
  },
  {
   "cell_type": "markdown",
   "id": "a350e793",
   "metadata": {
    "ExecuteTime": {
     "end_time": "2022-11-20T14:47:53.897232Z",
     "start_time": "2022-11-20T14:47:53.887223Z"
    }
   },
   "source": [
    "# Misc"
   ]
  },
  {
   "cell_type": "code",
   "execution_count": 53,
   "id": "1eaea1f5",
   "metadata": {
    "ExecuteTime": {
     "end_time": "2022-11-29T17:50:50.115327Z",
     "start_time": "2022-11-29T17:50:45.705169Z"
    }
   },
   "outputs": [
    {
     "name": "stdout",
     "output_type": "stream",
     "text": [
      "ref                                             deadline             category            reward  teamCount  userHasEntered  \n",
      "----------------------------------------------  -------------------  ---------------  ---------  ---------  --------------  \n",
      "contradictory-my-dear-watson                    2030-07-01 23:59:00  Getting Started     Prizes         60           False  \n",
      "gan-getting-started                             2030-07-01 23:59:00  Getting Started     Prizes         92           False  \n",
      "store-sales-time-series-forecasting             2030-06-30 23:59:00  Getting Started  Knowledge        719           False  \n",
      "tpu-getting-started                             2030-06-03 23:59:00  Getting Started  Knowledge        138           False  \n",
      "digit-recognizer                                2030-01-01 00:00:00  Getting Started  Knowledge       1239           False  \n",
      "titanic                                         2030-01-01 00:00:00  Getting Started  Knowledge      13944            True  \n",
      "house-prices-advanced-regression-techniques     2030-01-01 00:00:00  Getting Started  Knowledge       4490            True  \n",
      "connectx                                        2030-01-01 00:00:00  Getting Started  Knowledge        203           False  \n",
      "nlp-getting-started                             2030-01-01 00:00:00  Getting Started  Knowledge        856           False  \n",
      "spaceship-titanic                               2030-01-01 00:00:00  Getting Started  Knowledge       2530           False  \n",
      "rsna-breast-cancer-detection                    2023-02-27 23:59:00  Featured           $50,000         24           False  \n",
      "otto-recommender-system                         2023-01-31 23:59:00  Featured           $30,000        963            True  \n",
      "nfl-big-data-bowl-2023                          2023-01-09 23:59:00  Analytics         $100,000          0           False  \n",
      "g2net-detecting-continuous-gravitational-waves  2023-01-03 23:59:00  Research           $25,000        709           False  \n",
      "novozymes-enzyme-stability-prediction           2023-01-03 23:59:00  Featured           $25,000       1662            True  \n",
      "competitive-data-science-predict-future-sales   2022-12-31 23:59:00  Playground           Kudos      15821           False  \n",
      "dfl-bundesliga-data-shootout                    2022-12-20 23:59:00  Featured           $25,000        530           False  \n",
      "scrabble-player-rating                          2022-12-15 23:59:00  Playground           Kudos        112           False  \n",
      "lux-ai-2022-beta                                2022-12-06 23:59:00  Playground            Swag         68           False  \n",
      "tabular-playground-series-nov-2022              2022-11-30 23:59:00  Playground            Swag        668           False  \n"
     ]
    }
   ],
   "source": [
    "!kaggle competitions list"
   ]
  },
  {
   "cell_type": "code",
   "execution_count": 59,
   "id": "f67a1915",
   "metadata": {
    "ExecuteTime": {
     "end_time": "2022-11-29T17:54:02.518582Z",
     "start_time": "2022-11-29T17:54:02.472140Z"
    }
   },
   "outputs": [
    {
     "name": "stdout",
     "output_type": "stream",
     "text": [
      " Volume in drive C is Acer\n",
      " Volume Serial Number is E814-08E6\n",
      "\n",
      " Directory of C:\\Users\\AZUBA\\Documents\\Data_science\\Kaggle\\6.OTTO - Multi-Objective Recommender System\n",
      "\n",
      "29. 11. 2022  18:52    <DIR>          .\n",
      "25. 11. 2022  23:34    <DIR>          ..\n",
      "25. 11. 2022  22:11    <DIR>          .ipynb_checkpoints\n",
      "24. 11. 2022  22:46         1ÿ102ÿ412 Aid_analysis.ipynb\n",
      "24. 11. 2022  22:45       135ÿ187ÿ839 aid_analysis_base.parquet\n",
      "24. 11. 2022  22:46           173ÿ339 aid_model.pkl\n",
      "28. 11. 2022  19:23    <DIR>          Archive\n",
      "18. 11. 2022  16:24               298 best_hyperparams.pkl\n",
      "25. 11. 2022  23:38               298 best_hyperparams_cv.pkl\n",
      "28. 11. 2022  21:49         1ÿ198ÿ870 Full_test_calculation.ipynb\n",
      "26. 11. 2022  17:59         1ÿ205ÿ954 Full_test_calculation_3targets.ipynb\n",
      "25. 11. 2022  21:55            23ÿ835 Full_validation_check.ipynb\n",
      "29. 11. 2022  18:22            59ÿ502 Misc.ipynb\n",
      "16. 11. 2022  16:06           131ÿ008 Model_build-checkpoint.ipynb\n",
      "19. 11. 2022  09:59         1ÿ371ÿ469 Model_build.ipynb\n",
      "29. 11. 2022  18:52           220ÿ485 Model_build_cv.ipynb\n",
      "26. 11. 2022  16:44         1ÿ768ÿ173 Model_build_cv_3targets.ipynb\n",
      "25. 11. 2022  20:00            50ÿ369 Model_build_cv_582checkpoint.ipynb\n",
      "19. 11. 2022  09:59         1ÿ371ÿ469 Model_build_lb.ipynb\n",
      "25. 11. 2022  17:41           353ÿ755 otto_lgbm_model_12_cv.pkl\n",
      "25. 11. 2022  19:49           254ÿ305 otto_xgb_model_12_cv.pkl\n",
      "25. 11. 2022  16:23           167ÿ970 otto_xgb_model_12_cv_571.pkl\n",
      "21. 11. 2022  21:54           166ÿ475 otto_xgb_model_12_cv_overfitted_train_and_valid_590.pkl\n",
      "21. 11. 2022  22:46           161ÿ850 otto_xgb_model_12_cv_train_overfitted_543.pkl\n",
      "25. 11. 2022  17:29           171ÿ345 otto_xgb_model_12_lb_582.pkl\n",
      "26. 11. 2022  16:18           168ÿ230 otto_xgb_model_13_carts.pkl\n",
      "26. 11. 2022  16:02           174ÿ078 otto_xgb_model_13_clicks.pkl\n",
      "26. 11. 2022  14:37           172ÿ990 otto_xgb_model_13_cv_576.pkl\n",
      "28. 11. 2022  21:28           175ÿ030 otto_xgb_model_13_lb.pkl\n",
      "26. 11. 2022  16:33           171ÿ834 otto_xgb_model_13_orders.pkl\n",
      "16. 11. 2022  11:47           108ÿ605 Putting_csvs_into_one_file-checkpoint.ipynb\n",
      "20. 11. 2022  10:34         2ÿ459ÿ112 recall.csv\n",
      "20. 11. 2022  22:44    <DIR>          recsys-dataset-main\n",
      "20. 11. 2022  22:43           169ÿ907 recsys-dataset-main.zip\n",
      "18. 11. 2022  15:19           126ÿ827 scored_session_11133806_model10.csv\n",
      "17. 11. 2022  17:07             5ÿ279 scored_session_12905800.csv\n",
      "17. 11. 2022  17:07            14ÿ976 scored_session_12905800.xlsx\n",
      "18. 11. 2022  15:03           126ÿ741 scored_session_12905800_11133806.csv\n",
      "18. 11. 2022  15:03            11ÿ296 scored_session_12905800_model4.csv\n",
      "18. 11. 2022  15:04             9ÿ885 scored_session_12905800_model6.csv\n",
      "18. 11. 2022  15:04            13ÿ427 scored_session_12905800_model9.csv\n",
      "18. 11. 2022  00:54            57ÿ648 Screenshot 2022-11-18 005402.png\n",
      "19. 11. 2022  13:22       767ÿ770ÿ516 submission_best.csv\n",
      "28. 11. 2022  21:48       825ÿ887ÿ313 submission_final.csv\n",
      "25. 11. 2022  18:50       824ÿ759ÿ336 submission_model12_combined.csv\n",
      "25. 11. 2022  18:51       360ÿ201ÿ654 submission_model12_combined.csv.gz\n",
      "26. 11. 2022  18:00       362ÿ229ÿ020 submission_model13_3targets.csv.gz\n",
      "26. 11. 2022  16:53       824ÿ828ÿ894 submission_model13_combined.csv\n",
      "26. 11. 2022  16:54       360ÿ172ÿ053 submission_model13_combined.csv.gz\n",
      "26. 11. 2022  18:09       825ÿ817ÿ661 submission_model13_hybrid.csv\n",
      "26. 11. 2022  18:10       361ÿ763ÿ403 submission_model13_hybrid.csv.gz\n",
      "28. 11. 2022  21:50       825ÿ789ÿ119 submission_model13_lb.csv\n",
      "28. 11. 2022  21:51       362ÿ577ÿ104 submission_model13_lb.csv.gz\n",
      "18. 11. 2022  00:03       333ÿ179ÿ489 submission_model9.csv.gz\n",
      "07. 11. 2022  03:53        62ÿ195ÿ644 test_cv.parquet\n",
      "07. 11. 2022  03:53        20ÿ665ÿ237 test_cv_labels.parquet\n",
      "17. 11. 2022  18:15    <DIR>          test_sample_final_parquets\n",
      "21. 11. 2022  23:26             8ÿ095 test_Script.txt\n",
      "25. 11. 2022  19:52            13ÿ919 test_script_full.txt\n",
      "19. 11. 2022  14:28       190ÿ209ÿ464 top_20_buy2buy_cv.csv\n",
      "19. 11. 2022  14:25        72ÿ643ÿ235 top_20_buy2buy_cv.pkl\n",
      "19. 11. 2022  14:27       404ÿ097ÿ869 top_20_buys_cv.csv\n",
      "19. 11. 2022  14:24       149ÿ133ÿ429 top_20_buys_cv.pkl\n",
      "21. 11. 2022  20:54       274ÿ295ÿ631 train_12899780.csv\n",
      "25. 11. 2022  16:13       736ÿ575ÿ866 train_sample_full_cv.parquet\n",
      "25. 11. 2022  23:34     1ÿ019ÿ397ÿ897 train_sample_full_cv_3targets.parquet\n",
      "26. 11. 2022  12:06     2ÿ395ÿ436ÿ282 train_sample_full_cv_3targets_experimental.parquet\n",
      "21. 11. 2022  23:26            21ÿ170 train_script_with_matrices_at_bottom.txt\n",
      "21. 11. 2022  20:27       361ÿ643ÿ118 valid_radek2.csv\n",
      "21. 11. 2022  20:04       614ÿ280ÿ166 valid_radek2.jsonl\n",
      "25. 11. 2022  15:39       717ÿ352ÿ110 valid_sample_full_cv.parquet\n",
      "25. 11. 2022  23:07     1ÿ010ÿ776ÿ574 valid_sample_full_cv_3targets.parquet\n",
      "26. 11. 2022  12:37     1ÿ737ÿ407ÿ656 valid_sample_full_cv_3targets_experimental.parquet\n",
      "23. 11. 2022  21:16       529ÿ634ÿ416 valid_sample_full_cv_overfitted.parquet\n",
      "21. 11. 2022  23:25            11ÿ050 valid_Script.txt\n",
      "25. 11. 2022  19:52            19ÿ041 valid_script_full.txt\n",
      "              70 File(s) 17ÿ479ÿ900ÿ316 bytes\n",
      "               6 Dir(s)  727ÿ927ÿ951ÿ360 bytes free\n"
     ]
    }
   ],
   "source": [
    "!dir"
   ]
  },
  {
   "cell_type": "code",
   "execution_count": 77,
   "id": "6ff2e835",
   "metadata": {
    "ExecuteTime": {
     "end_time": "2022-11-29T18:06:14.521634Z",
     "start_time": "2022-11-29T18:02:46.551985Z"
    }
   },
   "outputs": [
    {
     "name": "stdout",
     "output_type": "stream",
     "text": [
      "^C\n"
     ]
    }
   ],
   "source": [
    "!kaggle competitions submit -c otto-recommender-system -f submission_model13_lb.csv.gz -m 'submission_api'"
   ]
  },
  {
   "cell_type": "code",
   "execution_count": 64,
   "id": "cfacf021",
   "metadata": {
    "ExecuteTime": {
     "end_time": "2022-11-29T17:55:59.806466Z",
     "start_time": "2022-11-29T17:55:59.797896Z"
    }
   },
   "outputs": [],
   "source": [
    "import os"
   ]
  }
 ],
 "metadata": {
  "hide_input": false,
  "kernelspec": {
   "display_name": "Python 3 (ipykernel)",
   "language": "python",
   "name": "python3"
  },
  "language_info": {
   "codemirror_mode": {
    "name": "ipython",
    "version": 3
   },
   "file_extension": ".py",
   "mimetype": "text/x-python",
   "name": "python",
   "nbconvert_exporter": "python",
   "pygments_lexer": "ipython3",
   "version": "3.9.13"
  },
  "toc": {
   "base_numbering": 1,
   "nav_menu": {},
   "number_sections": true,
   "sideBar": true,
   "skip_h1_title": false,
   "title_cell": "Table of Contents",
   "title_sidebar": "Contents",
   "toc_cell": true,
   "toc_position": {
    "height": "calc(100% - 180px)",
    "left": "10px",
    "top": "150px",
    "width": "341.594px"
   },
   "toc_section_display": false,
   "toc_window_display": true
  },
  "varInspector": {
   "cols": {
    "lenName": 16,
    "lenType": 16,
    "lenVar": 40
   },
   "kernels_config": {
    "python": {
     "delete_cmd_postfix": "",
     "delete_cmd_prefix": "del ",
     "library": "var_list.py",
     "varRefreshCmd": "print(var_dic_list())"
    },
    "r": {
     "delete_cmd_postfix": ") ",
     "delete_cmd_prefix": "rm(",
     "library": "var_list.r",
     "varRefreshCmd": "cat(var_dic_list()) "
    }
   },
   "oldHeight": 122.844,
   "position": {
    "height": "144.844px",
    "left": "1503px",
    "right": "20px",
    "top": "120px",
    "width": "350px"
   },
   "types_to_exclude": [
    "module",
    "function",
    "builtin_function_or_method",
    "instance",
    "_Feature"
   ],
   "varInspector_section_display": "block",
   "window_display": false
  }
 },
 "nbformat": 4,
 "nbformat_minor": 5
}
