{
 "cells": [
  {
   "cell_type": "markdown",
   "id": "5d8af747",
   "metadata": {
    "toc": true
   },
   "source": [
    "<h1>Table of Contents<span class=\"tocSkip\"></span></h1>\n",
    "<div class=\"toc\"><ul class=\"toc-item\"><li><span><a href=\"#Data-exploration\" data-toc-modified-id=\"Data-exploration-1\"><span class=\"toc-item-num\">1&nbsp;&nbsp;</span>Data exploration</a></span></li><li><span><a href=\"#LGBM-model\" data-toc-modified-id=\"LGBM-model-2\"><span class=\"toc-item-num\">2&nbsp;&nbsp;</span>LGBM model</a></span><ul class=\"toc-item\"><li><span><a href=\"#Hyperparameter-tuning\" data-toc-modified-id=\"Hyperparameter-tuning-2.1\"><span class=\"toc-item-num\">2.1&nbsp;&nbsp;</span>Hyperparameter tuning</a></span></li><li><span><a href=\"#Model-fitting\" data-toc-modified-id=\"Model-fitting-2.2\"><span class=\"toc-item-num\">2.2&nbsp;&nbsp;</span>Model fitting</a></span></li></ul></li><li><span><a href=\"#Saving-the-model\" data-toc-modified-id=\"Saving-the-model-3\"><span class=\"toc-item-num\">3&nbsp;&nbsp;</span>Saving the model</a></span></li><li><span><a href=\"#Validation-check\" data-toc-modified-id=\"Validation-check-4\"><span class=\"toc-item-num\">4&nbsp;&nbsp;</span>Validation check</a></span><ul class=\"toc-item\"><li><span><a href=\"#Submission-XGB-SCORE\" data-toc-modified-id=\"Submission-XGB-SCORE-4.1\"><span class=\"toc-item-num\">4.1&nbsp;&nbsp;</span>Submission XGB SCORE</a></span></li></ul></li><li><span><a href=\"#Misc\" data-toc-modified-id=\"Misc-5\"><span class=\"toc-item-num\">5&nbsp;&nbsp;</span>Misc</a></span></li></ul></div>"
   ]
  },
  {
   "cell_type": "code",
   "execution_count": 1,
   "id": "fe6e2a02",
   "metadata": {
    "ExecuteTime": {
     "end_time": "2022-11-30T14:49:20.741626Z",
     "start_time": "2022-11-30T14:49:20.729548Z"
    }
   },
   "outputs": [],
   "source": [
    "import warnings\n",
    "warnings.filterwarnings('ignore')"
   ]
  },
  {
   "cell_type": "code",
   "execution_count": 2,
   "id": "daec666a",
   "metadata": {
    "ExecuteTime": {
     "end_time": "2022-11-30T14:49:23.594681Z",
     "start_time": "2022-11-30T14:49:20.742932Z"
    }
   },
   "outputs": [],
   "source": [
    "import pandas as pd\n",
    "import numpy as np\n",
    "import random\n",
    "import mofr\n",
    "import matplotlib.pyplot as plt\n",
    "import seaborn as sns\n",
    "from sklearn.model_selection import train_test_split\n",
    "from xgboost import XGBClassifier, plot_tree\n",
    "from lightgbm import LGBMClassifier, plot_tree #LGBMRanker\n",
    "import math\n",
    "import pickle\n",
    "import statsmodels.api as sm\n",
    "\n",
    "\n",
    "import xgboost as xgb"
   ]
  },
  {
   "cell_type": "code",
   "execution_count": 3,
   "id": "f7a31fce",
   "metadata": {
    "ExecuteTime": {
     "end_time": "2022-11-30T14:49:23.609856Z",
     "start_time": "2022-11-30T14:49:23.594681Z"
    }
   },
   "outputs": [],
   "source": [
    "seed=1234"
   ]
  },
  {
   "cell_type": "code",
   "execution_count": 4,
   "id": "dcfa2f92",
   "metadata": {
    "ExecuteTime": {
     "end_time": "2022-11-30T14:49:23.624854Z",
     "start_time": "2022-11-30T14:49:23.611853Z"
    }
   },
   "outputs": [],
   "source": [
    "# file = open(\"type2id.pkl\",'rb')\n",
    "# object_file = pickle.load(file)"
   ]
  },
  {
   "cell_type": "code",
   "execution_count": 38,
   "id": "2f4ff81c",
   "metadata": {
    "ExecuteTime": {
     "end_time": "2022-11-30T15:25:53.439968Z",
     "start_time": "2022-11-30T15:25:53.425969Z"
    }
   },
   "outputs": [],
   "source": [
    "file_name = \"otto_lgb_model_13_cv.pkl\""
   ]
  },
  {
   "cell_type": "code",
   "execution_count": 6,
   "id": "fe3c0294",
   "metadata": {
    "ExecuteTime": {
     "end_time": "2022-11-30T14:50:03.929239Z",
     "start_time": "2022-11-30T14:49:23.641852Z"
    }
   },
   "outputs": [],
   "source": [
    "df=pd.read_parquet('train_sample_full_cv_3targets_experimental.parquet')#train_sample_full_cv_hidden_targets_float\n",
    "valid=pd.read_parquet('valid_sample_full_cv_3targets_experimental.parquet')"
   ]
  },
  {
   "cell_type": "code",
   "execution_count": 7,
   "id": "78d048eb",
   "metadata": {
    "ExecuteTime": {
     "end_time": "2022-11-30T14:51:16.532579Z",
     "start_time": "2022-11-30T14:50:04.006672Z"
    },
    "scrolled": true
   },
   "outputs": [],
   "source": [
    "df=df[df['MIN_TOP20']<=30]\n",
    "valid=valid[valid['MIN_TOP20']<=30]"
   ]
  },
  {
   "cell_type": "code",
   "execution_count": 8,
   "id": "82cfc048",
   "metadata": {
    "ExecuteTime": {
     "end_time": "2022-11-30T14:51:55.032349Z",
     "start_time": "2022-11-30T14:51:55.022920Z"
    }
   },
   "outputs": [],
   "source": [
    "# df=pd.concat([df,valid])"
   ]
  },
  {
   "cell_type": "code",
   "execution_count": 9,
   "id": "f3f3eb9f",
   "metadata": {
    "ExecuteTime": {
     "end_time": "2022-11-30T14:51:55.297461Z",
     "start_time": "2022-11-30T14:51:55.285465Z"
    }
   },
   "outputs": [],
   "source": [
    "df.columns=[x.lower() for x in df.columns]\n",
    "valid.columns=[x.lower() for x in valid.columns]"
   ]
  },
  {
   "cell_type": "code",
   "execution_count": 10,
   "id": "2546e003",
   "metadata": {
    "ExecuteTime": {
     "end_time": "2022-11-30T14:51:56.105763Z",
     "start_time": "2022-11-30T14:51:56.088672Z"
    }
   },
   "outputs": [],
   "source": [
    "# sessions_with_orders=pd.DataFrame(df.groupby('session_id')['target'].sum()).reset_index()\n",
    "# sessions_with_orders=sessions_with_orders[sessions_with_orders['target']>0]\n",
    "# df=df.merge(sessions_with_orders['session_id'], how='inner', on='session_id')"
   ]
  },
  {
   "cell_type": "code",
   "execution_count": 11,
   "id": "54bfc461",
   "metadata": {
    "ExecuteTime": {
     "end_time": "2022-11-30T14:51:56.577746Z",
     "start_time": "2022-11-30T14:51:56.548220Z"
    }
   },
   "outputs": [
    {
     "name": "stdout",
     "output_type": "stream",
     "text": [
      "<class 'pandas.core.frame.DataFrame'>\n",
      "Int64Index: 11253440 entries, 7 to 36070694\n",
      "Data columns (total 51 columns):\n",
      " #   Column                          Dtype  \n",
      "---  ------                          -----  \n",
      " 0   target                          float64\n",
      " 1   target_clicks                   float64\n",
      " 2   target_carts                    float64\n",
      " 3   target_orders                   float64\n",
      " 4   session_id                      float64\n",
      " 5   aid                             float64\n",
      " 6   min_top20                       float64\n",
      " 7   avg_top20                       float64\n",
      " 8   max_top20                       float64\n",
      " 9   in_session                      float64\n",
      " 10  in_session_clicked              float64\n",
      " 11  in_session_carted               float64\n",
      " 12  in_session_ordered              float64\n",
      " 13  in_session_score                float64\n",
      " 14  in_session_score_time_weighted  float64\n",
      " 15  times_in_top20                  float64\n",
      " 16  times_in_top20_last_week        float64\n",
      " 17  min_order_hours_from_click_avg  float64\n",
      " 18  avg_order_hours_from_click_avg  float64\n",
      " 19  avg_num_sessions_ordered        float64\n",
      " 20  sum_num_sessions_ordered        float64\n",
      " 21  avg_num_occured_overall         float64\n",
      " 22  sum_num_occured_overall         float64\n",
      " 23  last_num_sessions_ordered       float64\n",
      " 24  last_hour_num_sessions_ordered  float64\n",
      " 25  num_times_ordered_overall       float64\n",
      " 26  sess_num_events                 float64\n",
      " 27  sess_num_clicks                 float64\n",
      " 28  sess_num_carts                  float64\n",
      " 29  sess_num_orders                 float64\n",
      " 30  sess_num_clicks_last_hour       float64\n",
      " 31  sess_num_carts_last_hour        float64\n",
      " 32  sess_num_orders_last_hour       float64\n",
      " 33  sess_duration                   float64\n",
      " 34  sess_days_till_test             float64\n",
      " 35  sess_minute                     float64\n",
      " 36  sess_hour                       float64\n",
      " 37  sess_dayofweek                  float64\n",
      " 38  sess_dayofmonth                 float64\n",
      " 39  number_carts_orders             float64\n",
      " 40  number_carts                    float64\n",
      " 41  number_orders                   float64\n",
      " 42  first_seen                      float64\n",
      " 43  last_seen                       float64\n",
      " 44  first_bought                    float64\n",
      " 45  last_bought                     float64\n",
      " 46  bought_overall                  float64\n",
      " 47  seen_overall                    float64\n",
      " 48  num_clicks_same_day             float64\n",
      " 49  num_carts_same_day              float64\n",
      " 50  num_orders_same_day             float64\n",
      "dtypes: float64(51)\n",
      "memory usage: 4.4 GB\n"
     ]
    }
   ],
   "source": [
    "df.info()"
   ]
  },
  {
   "cell_type": "code",
   "execution_count": 12,
   "id": "55a008cf",
   "metadata": {
    "ExecuteTime": {
     "end_time": "2022-11-30T14:51:59.901539Z",
     "start_time": "2022-11-30T14:51:59.856147Z"
    }
   },
   "outputs": [
    {
     "data": {
      "text/html": [
       "<div>\n",
       "<style scoped>\n",
       "    .dataframe tbody tr th:only-of-type {\n",
       "        vertical-align: middle;\n",
       "    }\n",
       "\n",
       "    .dataframe tbody tr th {\n",
       "        vertical-align: top;\n",
       "    }\n",
       "\n",
       "    .dataframe thead th {\n",
       "        text-align: right;\n",
       "    }\n",
       "</style>\n",
       "<table border=\"1\" class=\"dataframe\">\n",
       "  <thead>\n",
       "    <tr style=\"text-align: right;\">\n",
       "      <th></th>\n",
       "      <th>target</th>\n",
       "      <th>target_clicks</th>\n",
       "      <th>target_carts</th>\n",
       "      <th>target_orders</th>\n",
       "      <th>session_id</th>\n",
       "      <th>aid</th>\n",
       "      <th>min_top20</th>\n",
       "      <th>avg_top20</th>\n",
       "      <th>max_top20</th>\n",
       "      <th>in_session</th>\n",
       "      <th>...</th>\n",
       "      <th>number_orders</th>\n",
       "      <th>first_seen</th>\n",
       "      <th>last_seen</th>\n",
       "      <th>first_bought</th>\n",
       "      <th>last_bought</th>\n",
       "      <th>bought_overall</th>\n",
       "      <th>seen_overall</th>\n",
       "      <th>num_clicks_same_day</th>\n",
       "      <th>num_carts_same_day</th>\n",
       "      <th>num_orders_same_day</th>\n",
       "    </tr>\n",
       "  </thead>\n",
       "  <tbody>\n",
       "    <tr>\n",
       "      <th>7</th>\n",
       "      <td>0.0</td>\n",
       "      <td>0.0</td>\n",
       "      <td>0.0</td>\n",
       "      <td>0.0</td>\n",
       "      <td>10096508.0</td>\n",
       "      <td>1675134.0</td>\n",
       "      <td>9.0</td>\n",
       "      <td>29.666667</td>\n",
       "      <td>63.0</td>\n",
       "      <td>0.0</td>\n",
       "      <td>...</td>\n",
       "      <td>0.0</td>\n",
       "      <td>503.520511</td>\n",
       "      <td>3.174456</td>\n",
       "      <td>495.170533</td>\n",
       "      <td>3.192372</td>\n",
       "      <td>45.0</td>\n",
       "      <td>529.0</td>\n",
       "      <td>11.0</td>\n",
       "      <td>1.0</td>\n",
       "      <td>0.0</td>\n",
       "    </tr>\n",
       "    <tr>\n",
       "      <th>12</th>\n",
       "      <td>0.0</td>\n",
       "      <td>0.0</td>\n",
       "      <td>0.0</td>\n",
       "      <td>0.0</td>\n",
       "      <td>10096508.0</td>\n",
       "      <td>1688833.0</td>\n",
       "      <td>5.0</td>\n",
       "      <td>5.000000</td>\n",
       "      <td>5.0</td>\n",
       "      <td>0.0</td>\n",
       "      <td>...</td>\n",
       "      <td>0.0</td>\n",
       "      <td>502.762118</td>\n",
       "      <td>53.403083</td>\n",
       "      <td>441.261063</td>\n",
       "      <td>171.018500</td>\n",
       "      <td>8.0</td>\n",
       "      <td>77.0</td>\n",
       "      <td>1.0</td>\n",
       "      <td>0.0</td>\n",
       "      <td>0.0</td>\n",
       "    </tr>\n",
       "    <tr>\n",
       "      <th>14</th>\n",
       "      <td>0.0</td>\n",
       "      <td>1.0</td>\n",
       "      <td>0.0</td>\n",
       "      <td>0.0</td>\n",
       "      <td>10096508.0</td>\n",
       "      <td>1694435.0</td>\n",
       "      <td>0.0</td>\n",
       "      <td>15.583334</td>\n",
       "      <td>67.0</td>\n",
       "      <td>1.0</td>\n",
       "      <td>...</td>\n",
       "      <td>0.0</td>\n",
       "      <td>494.134778</td>\n",
       "      <td>5.688380</td>\n",
       "      <td>484.306720</td>\n",
       "      <td>9.460102</td>\n",
       "      <td>10.0</td>\n",
       "      <td>147.0</td>\n",
       "      <td>2.0</td>\n",
       "      <td>0.0</td>\n",
       "      <td>0.0</td>\n",
       "    </tr>\n",
       "    <tr>\n",
       "      <th>18</th>\n",
       "      <td>0.0</td>\n",
       "      <td>0.0</td>\n",
       "      <td>0.0</td>\n",
       "      <td>0.0</td>\n",
       "      <td>10096508.0</td>\n",
       "      <td>1726896.0</td>\n",
       "      <td>6.0</td>\n",
       "      <td>31.400000</td>\n",
       "      <td>65.0</td>\n",
       "      <td>0.0</td>\n",
       "      <td>...</td>\n",
       "      <td>0.0</td>\n",
       "      <td>503.933419</td>\n",
       "      <td>1.289536</td>\n",
       "      <td>503.492406</td>\n",
       "      <td>26.693573</td>\n",
       "      <td>56.0</td>\n",
       "      <td>795.0</td>\n",
       "      <td>12.0</td>\n",
       "      <td>1.0</td>\n",
       "      <td>1.0</td>\n",
       "    </tr>\n",
       "    <tr>\n",
       "      <th>19</th>\n",
       "      <td>0.0</td>\n",
       "      <td>0.0</td>\n",
       "      <td>0.0</td>\n",
       "      <td>0.0</td>\n",
       "      <td>10096508.0</td>\n",
       "      <td>1727038.0</td>\n",
       "      <td>17.0</td>\n",
       "      <td>17.000000</td>\n",
       "      <td>17.0</td>\n",
       "      <td>0.0</td>\n",
       "      <td>...</td>\n",
       "      <td>0.0</td>\n",
       "      <td>501.372991</td>\n",
       "      <td>2.536446</td>\n",
       "      <td>486.404204</td>\n",
       "      <td>179.400855</td>\n",
       "      <td>11.0</td>\n",
       "      <td>205.0</td>\n",
       "      <td>1.0</td>\n",
       "      <td>0.0</td>\n",
       "      <td>0.0</td>\n",
       "    </tr>\n",
       "  </tbody>\n",
       "</table>\n",
       "<p>5 rows × 51 columns</p>\n",
       "</div>"
      ],
      "text/plain": [
       "    target  target_clicks  target_carts  target_orders  session_id        aid  \\\n",
       "7      0.0            0.0           0.0            0.0  10096508.0  1675134.0   \n",
       "12     0.0            0.0           0.0            0.0  10096508.0  1688833.0   \n",
       "14     0.0            1.0           0.0            0.0  10096508.0  1694435.0   \n",
       "18     0.0            0.0           0.0            0.0  10096508.0  1726896.0   \n",
       "19     0.0            0.0           0.0            0.0  10096508.0  1727038.0   \n",
       "\n",
       "    min_top20  avg_top20  max_top20  in_session  ...  number_orders  \\\n",
       "7         9.0  29.666667       63.0         0.0  ...            0.0   \n",
       "12        5.0   5.000000        5.0         0.0  ...            0.0   \n",
       "14        0.0  15.583334       67.0         1.0  ...            0.0   \n",
       "18        6.0  31.400000       65.0         0.0  ...            0.0   \n",
       "19       17.0  17.000000       17.0         0.0  ...            0.0   \n",
       "\n",
       "    first_seen  last_seen  first_bought  last_bought  bought_overall  \\\n",
       "7   503.520511   3.174456    495.170533     3.192372            45.0   \n",
       "12  502.762118  53.403083    441.261063   171.018500             8.0   \n",
       "14  494.134778   5.688380    484.306720     9.460102            10.0   \n",
       "18  503.933419   1.289536    503.492406    26.693573            56.0   \n",
       "19  501.372991   2.536446    486.404204   179.400855            11.0   \n",
       "\n",
       "    seen_overall  num_clicks_same_day  num_carts_same_day  num_orders_same_day  \n",
       "7          529.0                 11.0                 1.0                  0.0  \n",
       "12          77.0                  1.0                 0.0                  0.0  \n",
       "14         147.0                  2.0                 0.0                  0.0  \n",
       "18         795.0                 12.0                 1.0                  1.0  \n",
       "19         205.0                  1.0                 0.0                  0.0  \n",
       "\n",
       "[5 rows x 51 columns]"
      ]
     },
     "execution_count": 12,
     "metadata": {},
     "output_type": "execute_result"
    }
   ],
   "source": [
    "df.head()"
   ]
  },
  {
   "cell_type": "code",
   "execution_count": 13,
   "id": "d66062f6",
   "metadata": {
    "ExecuteTime": {
     "end_time": "2022-11-30T14:52:10.286672Z",
     "start_time": "2022-11-30T14:52:00.478212Z"
    }
   },
   "outputs": [],
   "source": [
    "df['null_flag']=(df['avg_order_hours_from_click_avg']<99999).apply(int)\n",
    "df['in_session_carted_not_ordered']=((df['in_session_carted']>0)&(df['in_session_ordered']==0)).apply(int)\n",
    "df['in_session_clicked_not_carted']=((df['in_session_clicked']>0)&(df['in_session_carted']==0)).apply(int)\n",
    "valid['null_flag']=(valid['avg_order_hours_from_click_avg']<99999).apply(int)\n",
    "valid['in_session_carted_not_ordered']=((valid['in_session_carted']>0)&(valid['in_session_ordered']==0)).apply(int)\n",
    "valid['in_session_clicked_not_carted']=((valid['in_session_clicked']>0)&(valid['in_session_carted']==0)).apply(int)"
   ]
  },
  {
   "cell_type": "code",
   "execution_count": 14,
   "id": "9726a4f1",
   "metadata": {
    "ExecuteTime": {
     "end_time": "2022-11-30T14:52:14.933295Z",
     "start_time": "2022-11-30T14:52:14.865191Z"
    }
   },
   "outputs": [
    {
     "data": {
      "text/plain": [
       "1    0.851498\n",
       "0    0.148502\n",
       "Name: null_flag, dtype: float64"
      ]
     },
     "execution_count": 14,
     "metadata": {},
     "output_type": "execute_result"
    }
   ],
   "source": [
    "df['null_flag'].value_counts(normalize=True)"
   ]
  },
  {
   "cell_type": "code",
   "execution_count": 15,
   "id": "a46ae7eb",
   "metadata": {
    "ExecuteTime": {
     "end_time": "2022-11-30T14:52:15.614241Z",
     "start_time": "2022-11-30T14:52:15.520048Z"
    }
   },
   "outputs": [
    {
     "data": {
      "text/plain": [
       "0.0    11218178\n",
       "1.0       35262\n",
       "Name: target, dtype: int64"
      ]
     },
     "execution_count": 15,
     "metadata": {},
     "output_type": "execute_result"
    }
   ],
   "source": [
    "df['target'].value_counts()"
   ]
  },
  {
   "cell_type": "code",
   "execution_count": 16,
   "id": "c43946b8",
   "metadata": {
    "ExecuteTime": {
     "end_time": "2022-11-30T14:52:16.284035Z",
     "start_time": "2022-11-30T14:52:16.266641Z"
    }
   },
   "outputs": [],
   "source": [
    "#df=df[df['null_flag']==1].reset_index()\n",
    "#valid=valid[valid['null_flag']==1].reset_index()"
   ]
  },
  {
   "cell_type": "code",
   "execution_count": 17,
   "id": "7e20d220",
   "metadata": {
    "ExecuteTime": {
     "end_time": "2022-11-30T14:52:17.375513Z",
     "start_time": "2022-11-30T14:52:17.323752Z"
    }
   },
   "outputs": [
    {
     "data": {
      "text/plain": [
       "0.0    11218178\n",
       "1.0       35262\n",
       "Name: target, dtype: int64"
      ]
     },
     "execution_count": 17,
     "metadata": {},
     "output_type": "execute_result"
    }
   ],
   "source": [
    "df['target'].value_counts()"
   ]
  },
  {
   "cell_type": "code",
   "execution_count": 18,
   "id": "14bd5920",
   "metadata": {
    "ExecuteTime": {
     "end_time": "2022-11-30T14:52:18.010768Z",
     "start_time": "2022-11-30T14:52:18.000756Z"
    }
   },
   "outputs": [],
   "source": [
    "# rand=np.random.randint(1, 11, df.shape[0])\n",
    "\n",
    "# train_mask=(df['sess_days_till_test']+df['sess_duration']/24)>0#rand<=8\n",
    "# valid_mask=(df['sess_days_till_test']+df['sess_duration']/24)>0#rand>8"
   ]
  },
  {
   "cell_type": "code",
   "execution_count": 19,
   "id": "bd81e8e4",
   "metadata": {
    "ExecuteTime": {
     "end_time": "2022-11-30T14:52:18.754761Z",
     "start_time": "2022-11-30T14:52:18.742588Z"
    }
   },
   "outputs": [],
   "source": [
    "# df[train_mask]['target'].value_counts()"
   ]
  },
  {
   "cell_type": "code",
   "execution_count": 20,
   "id": "ae9c452a",
   "metadata": {
    "ExecuteTime": {
     "end_time": "2022-11-30T14:52:19.258281Z",
     "start_time": "2022-11-30T14:52:19.243268Z"
    }
   },
   "outputs": [],
   "source": [
    "# df[valid_mask]['target'].value_counts()"
   ]
  },
  {
   "cell_type": "code",
   "execution_count": 21,
   "id": "a0108774",
   "metadata": {
    "ExecuteTime": {
     "end_time": "2022-11-30T14:52:19.694165Z",
     "start_time": "2022-11-30T14:52:19.680158Z"
    }
   },
   "outputs": [],
   "source": [
    "col_target='target'\n",
    "col_exclude=[\n",
    "'session_id',\n",
    "'aid',\n",
    "# 'num_times_ordered_overall',\n",
    "'number_carts_orders',\n",
    "'number_carts',\n",
    "'number_orders',\n",
    "'sess_days_till_test',\n",
    "'sess_dayofmonth',\n",
    "# 'in_session',\n",
    "# 'in_session_clicked',\n",
    "# 'in_session_carted',\n",
    "#  'in_session_ordered',\n",
    "#  'in_session_score',\n",
    "'first_seen',\n",
    "'first_bought',\n",
    "\n",
    "'target_clicks',\n",
    "'target_carts',\n",
    "'target_orders',\n",
    "col_target,]"
   ]
  },
  {
   "cell_type": "code",
   "execution_count": 22,
   "id": "c9bc904b",
   "metadata": {
    "ExecuteTime": {
     "end_time": "2022-11-30T14:52:20.306917Z",
     "start_time": "2022-11-30T14:52:20.301918Z"
    }
   },
   "outputs": [],
   "source": [
    "# df[col_target]=df[col_target].apply(int)"
   ]
  },
  {
   "cell_type": "markdown",
   "id": "4f79568a",
   "metadata": {},
   "source": [
    "# Data exploration"
   ]
  },
  {
   "cell_type": "code",
   "execution_count": 23,
   "id": "eb8c02e9",
   "metadata": {
    "ExecuteTime": {
     "end_time": "2022-11-30T14:52:20.987730Z",
     "start_time": "2022-11-30T14:52:20.975699Z"
    }
   },
   "outputs": [],
   "source": [
    "col_preds=[col for col in df.columns[3:] if col not in col_exclude]"
   ]
  },
  {
   "cell_type": "code",
   "execution_count": 24,
   "id": "28f51914",
   "metadata": {
    "ExecuteTime": {
     "end_time": "2022-11-30T14:52:21.380787Z",
     "start_time": "2022-11-30T14:52:21.365796Z"
    }
   },
   "outputs": [
    {
     "data": {
      "text/plain": [
       "41"
      ]
     },
     "execution_count": 24,
     "metadata": {},
     "output_type": "execute_result"
    }
   ],
   "source": [
    "len(col_preds)"
   ]
  },
  {
   "cell_type": "code",
   "execution_count": 25,
   "id": "f2ec960c",
   "metadata": {
    "ExecuteTime": {
     "end_time": "2022-11-30T14:52:21.817739Z",
     "start_time": "2022-11-30T14:52:21.808730Z"
    }
   },
   "outputs": [
    {
     "data": {
      "text/plain": [
       "['min_top20',\n",
       " 'avg_top20',\n",
       " 'max_top20',\n",
       " 'in_session',\n",
       " 'in_session_clicked',\n",
       " 'in_session_carted',\n",
       " 'in_session_ordered',\n",
       " 'in_session_score',\n",
       " 'in_session_score_time_weighted',\n",
       " 'times_in_top20',\n",
       " 'times_in_top20_last_week',\n",
       " 'min_order_hours_from_click_avg',\n",
       " 'avg_order_hours_from_click_avg',\n",
       " 'avg_num_sessions_ordered',\n",
       " 'sum_num_sessions_ordered',\n",
       " 'avg_num_occured_overall',\n",
       " 'sum_num_occured_overall',\n",
       " 'last_num_sessions_ordered',\n",
       " 'last_hour_num_sessions_ordered',\n",
       " 'num_times_ordered_overall',\n",
       " 'sess_num_events',\n",
       " 'sess_num_clicks',\n",
       " 'sess_num_carts',\n",
       " 'sess_num_orders',\n",
       " 'sess_num_clicks_last_hour',\n",
       " 'sess_num_carts_last_hour',\n",
       " 'sess_num_orders_last_hour',\n",
       " 'sess_duration',\n",
       " 'sess_minute',\n",
       " 'sess_hour',\n",
       " 'sess_dayofweek',\n",
       " 'last_seen',\n",
       " 'last_bought',\n",
       " 'bought_overall',\n",
       " 'seen_overall',\n",
       " 'num_clicks_same_day',\n",
       " 'num_carts_same_day',\n",
       " 'num_orders_same_day',\n",
       " 'null_flag',\n",
       " 'in_session_carted_not_ordered',\n",
       " 'in_session_clicked_not_carted']"
      ]
     },
     "execution_count": 25,
     "metadata": {},
     "output_type": "execute_result"
    }
   ],
   "source": [
    "col_preds"
   ]
  },
  {
   "cell_type": "code",
   "execution_count": 31,
   "id": "24c41109",
   "metadata": {
    "ExecuteTime": {
     "end_time": "2022-11-30T15:15:35.288645Z",
     "start_time": "2022-11-30T15:09:47.636306Z"
    },
    "hide_input": false
   },
   "outputs": [
    {
     "name": "stdout",
     "output_type": "stream",
     "text": [
      "['LinearRegression', 0.9061513084605819]\n",
      "['Ridge', 0.9240952572944774]\n",
      "['BayesianRidge', 0.9068548883121231]\n",
      "['Lasso', 0.5]\n",
      "['RandomForest', 0.8583255697111994]\n",
      "['GradientBoosting', 0.8596705809264462]\n",
      "['XGBoost', 0.9235008687184688]\n",
      "Wall time: 5min 47s\n"
     ]
    },
    {
     "data": {
      "text/html": [
       "<div>\n",
       "<style scoped>\n",
       "    .dataframe tbody tr th:only-of-type {\n",
       "        vertical-align: middle;\n",
       "    }\n",
       "\n",
       "    .dataframe tbody tr th {\n",
       "        vertical-align: top;\n",
       "    }\n",
       "\n",
       "    .dataframe thead th {\n",
       "        text-align: right;\n",
       "    }\n",
       "</style>\n",
       "<table border=\"1\" class=\"dataframe\">\n",
       "  <thead>\n",
       "    <tr style=\"text-align: right;\">\n",
       "      <th></th>\n",
       "      <th>model</th>\n",
       "      <th>roc_auc</th>\n",
       "    </tr>\n",
       "  </thead>\n",
       "  <tbody>\n",
       "    <tr>\n",
       "      <th>1</th>\n",
       "      <td>Ridge</td>\n",
       "      <td>0.924095</td>\n",
       "    </tr>\n",
       "    <tr>\n",
       "      <th>6</th>\n",
       "      <td>XGBoost</td>\n",
       "      <td>0.923501</td>\n",
       "    </tr>\n",
       "    <tr>\n",
       "      <th>2</th>\n",
       "      <td>BayesianRidge</td>\n",
       "      <td>0.906855</td>\n",
       "    </tr>\n",
       "    <tr>\n",
       "      <th>0</th>\n",
       "      <td>LinearRegression</td>\n",
       "      <td>0.906151</td>\n",
       "    </tr>\n",
       "    <tr>\n",
       "      <th>5</th>\n",
       "      <td>GradientBoosting</td>\n",
       "      <td>0.859671</td>\n",
       "    </tr>\n",
       "    <tr>\n",
       "      <th>4</th>\n",
       "      <td>RandomForest</td>\n",
       "      <td>0.858326</td>\n",
       "    </tr>\n",
       "    <tr>\n",
       "      <th>7</th>\n",
       "      <td>LGBM</td>\n",
       "      <td>0.810744</td>\n",
       "    </tr>\n",
       "    <tr>\n",
       "      <th>3</th>\n",
       "      <td>Lasso</td>\n",
       "      <td>0.500000</td>\n",
       "    </tr>\n",
       "  </tbody>\n",
       "</table>\n",
       "</div>"
      ],
      "text/plain": [
       "              model   roc_auc\n",
       "1             Ridge  0.924095\n",
       "6           XGBoost  0.923501\n",
       "2     BayesianRidge  0.906855\n",
       "0  LinearRegression  0.906151\n",
       "5  GradientBoosting  0.859671\n",
       "4      RandomForest  0.858326\n",
       "7              LGBM  0.810744\n",
       "3             Lasso  0.500000"
      ]
     },
     "execution_count": 31,
     "metadata": {},
     "output_type": "execute_result"
    }
   ],
   "source": [
    "# %%time\n",
    "# # Basic test to identify more attractive classificator\n",
    "# # Models\n",
    "# import lightgbm as lgb\n",
    "# from xgboost import XGBClassifier\n",
    "# from sklearn.ensemble import RandomForestClassifier, GradientBoostingClassifier\n",
    "# from sklearn import linear_model\n",
    "\n",
    "# from sklearn.pipeline import Pipeline\n",
    "# from sklearn.model_selection import StratifiedKFold, cross_val_score\n",
    "\n",
    "# # Metrics\n",
    "# from sklearn.metrics import roc_curve, roc_auc_score\n",
    "\n",
    "# sample=df.sample(100000)\n",
    "\n",
    "# # train cross validation set\n",
    "# X_cv = sample[col_preds].fillna(0).reset_index(drop=True)\n",
    "# y_cv =sample[col_target].reset_index(drop=True)\n",
    "\n",
    "# BM_DATA = []\n",
    "# # crossvalidation type StratifiedKFold\n",
    "# SKF = StratifiedKFold(n_splits=5, shuffle=True, random_state=seed)\n",
    "\n",
    "# # fit the models from the list\n",
    "# for model_name, model in [\n",
    "#         ('LinearRegression', linear_model.LinearRegression()),\n",
    "#         ('Ridge', linear_model.RidgeClassifier(normalize=True, random_state=seed)),\n",
    "#         ('BayesianRidge', linear_model.BayesianRidge()),\n",
    "#         ('Lasso', linear_model.LassoLars(random_state=seed)),\n",
    "#         ('RandomForest', RandomForestClassifier(random_state=seed)),\n",
    "#         ('GradientBoosting', GradientBoostingClassifier(random_state=seed)),\n",
    "#         ('XGBoost', XGBClassifier(eval_metric='auc',\n",
    "#                               use_label_encoder=False,\n",
    "#                               random_state=seed))\n",
    "         \n",
    "# ]:\n",
    "#     CLF_MODEL = Pipeline([(model_name, model)])\n",
    "#     # Cross validation score\n",
    "#     print([model_name, cross_val_score(CLF_MODEL,\n",
    "#                                                 X_cv,\n",
    "#                                                 y_cv,\n",
    "#                                                 scoring='roc_auc',\n",
    "#                                                 cv=SKF).mean()])\n",
    "#     BM_DATA.append([model_name, cross_val_score(CLF_MODEL,\n",
    "#                                                 X_cv,\n",
    "#                                                 y_cv,\n",
    "#                                                 scoring='roc_auc',\n",
    "#                                                 cv=SKF).mean()])\n",
    "# # Cross validation score for lgb\n",
    "# BM_DATA.append(['LGBM', lgb.cv(params = {\n",
    "#         'task': 'train',\n",
    "#         'boosting_type': 'gbdt',\n",
    "#         'objective':'binary',\n",
    "#         'metric':'auc',\n",
    "#         'force_row_wise':True,\n",
    "#         'verbose':-1\n",
    "#         }, train_set=lgb.Dataset(X_cv, y_cv), folds=SKF)['auc-mean'][-1]])\n",
    "\n",
    "# del sample\n",
    "\n",
    "# # Result of the models\n",
    "# pd.DataFrame.from_records(BM_DATA, columns=['model', 'roc_auc']).sort_values(by='roc_auc', ascending=False).head(10)"
   ]
  },
  {
   "cell_type": "markdown",
   "id": "cddd700f",
   "metadata": {
    "ExecuteTime": {
     "end_time": "2022-11-16T09:07:24.490773Z",
     "start_time": "2022-11-16T09:07:24.490773Z"
    }
   },
   "source": [
    "# LGBM model"
   ]
  },
  {
   "cell_type": "markdown",
   "id": "a2fcaa42",
   "metadata": {},
   "source": [
    "## Hyperparameter tuning"
   ]
  },
  {
   "cell_type": "markdown",
   "id": "df29fbd8",
   "metadata": {},
   "source": [
    "## Model fitting"
   ]
  },
  {
   "cell_type": "code",
   "execution_count": 37,
   "id": "b4ad4343",
   "metadata": {
    "ExecuteTime": {
     "end_time": "2022-11-30T15:25:40.817420Z",
     "start_time": "2022-11-30T15:19:40.057188Z"
    },
    "code_folding": []
   },
   "outputs": [
    {
     "name": "stdout",
     "output_type": "stream",
     "text": [
      "[LightGBM] [Warning] bagging_fraction is set=0.65, subsample=0.46 will be ignored. Current value: bagging_fraction=0.65\n",
      "[LightGBM] [Warning] Auto-choosing row-wise multi-threading, the overhead of testing was 0.362521 seconds.\n",
      "You can set `force_row_wise=true` to remove the overhead.\n",
      "And if memory is not enough, you can set `force_col_wise=true`.\n",
      "[LightGBM] [Warning] bagging_fraction is set=0.65, subsample=0.46 will be ignored. Current value: bagging_fraction=0.65\n",
      "[1]\tvalid_0's auc: 0.923877\n",
      "Training until validation scores don't improve for 100 rounds\n",
      "[2]\tvalid_0's auc: 0.936992\n",
      "[3]\tvalid_0's auc: 0.941708\n",
      "[4]\tvalid_0's auc: 0.941935\n",
      "[5]\tvalid_0's auc: 0.942367\n",
      "[6]\tvalid_0's auc: 0.943548\n",
      "[7]\tvalid_0's auc: 0.943416\n",
      "[8]\tvalid_0's auc: 0.944131\n",
      "[9]\tvalid_0's auc: 0.944599\n",
      "[10]\tvalid_0's auc: 0.945564\n",
      "[11]\tvalid_0's auc: 0.945726\n",
      "[12]\tvalid_0's auc: 0.945898\n",
      "[13]\tvalid_0's auc: 0.946157\n",
      "[14]\tvalid_0's auc: 0.946347\n",
      "[15]\tvalid_0's auc: 0.946544\n",
      "[16]\tvalid_0's auc: 0.946672\n",
      "[17]\tvalid_0's auc: 0.946815\n",
      "[18]\tvalid_0's auc: 0.946951\n",
      "[19]\tvalid_0's auc: 0.947153\n",
      "[20]\tvalid_0's auc: 0.94729\n",
      "[21]\tvalid_0's auc: 0.947625\n",
      "[22]\tvalid_0's auc: 0.947679\n",
      "[23]\tvalid_0's auc: 0.947767\n",
      "[24]\tvalid_0's auc: 0.947849\n",
      "[25]\tvalid_0's auc: 0.948153\n",
      "[26]\tvalid_0's auc: 0.948327\n",
      "[27]\tvalid_0's auc: 0.948531\n",
      "[28]\tvalid_0's auc: 0.948611\n",
      "[29]\tvalid_0's auc: 0.948759\n",
      "[30]\tvalid_0's auc: 0.948841\n",
      "[31]\tvalid_0's auc: 0.948963\n",
      "[32]\tvalid_0's auc: 0.949051\n",
      "[33]\tvalid_0's auc: 0.949169\n",
      "[34]\tvalid_0's auc: 0.949269\n",
      "[35]\tvalid_0's auc: 0.949386\n",
      "[36]\tvalid_0's auc: 0.949449\n",
      "[37]\tvalid_0's auc: 0.949477\n",
      "[38]\tvalid_0's auc: 0.949517\n",
      "[39]\tvalid_0's auc: 0.949555\n",
      "[40]\tvalid_0's auc: 0.949621\n",
      "[41]\tvalid_0's auc: 0.949629\n",
      "[42]\tvalid_0's auc: 0.949661\n",
      "[43]\tvalid_0's auc: 0.949714\n",
      "[44]\tvalid_0's auc: 0.949762\n",
      "[45]\tvalid_0's auc: 0.949804\n",
      "[46]\tvalid_0's auc: 0.949865\n",
      "[47]\tvalid_0's auc: 0.9499\n",
      "[48]\tvalid_0's auc: 0.949979\n",
      "[49]\tvalid_0's auc: 0.950007\n",
      "[50]\tvalid_0's auc: 0.950045\n",
      "[51]\tvalid_0's auc: 0.950089\n",
      "[52]\tvalid_0's auc: 0.95011\n",
      "[53]\tvalid_0's auc: 0.950145\n",
      "[54]\tvalid_0's auc: 0.950178\n",
      "[55]\tvalid_0's auc: 0.950225\n",
      "[56]\tvalid_0's auc: 0.950261\n",
      "[57]\tvalid_0's auc: 0.950287\n",
      "[58]\tvalid_0's auc: 0.950315\n",
      "[59]\tvalid_0's auc: 0.95034\n",
      "[60]\tvalid_0's auc: 0.950371\n",
      "[61]\tvalid_0's auc: 0.95043\n",
      "[62]\tvalid_0's auc: 0.950461\n",
      "[63]\tvalid_0's auc: 0.950484\n",
      "[64]\tvalid_0's auc: 0.950508\n",
      "[65]\tvalid_0's auc: 0.950569\n",
      "[66]\tvalid_0's auc: 0.950617\n",
      "[67]\tvalid_0's auc: 0.950667\n",
      "[68]\tvalid_0's auc: 0.950703\n",
      "[69]\tvalid_0's auc: 0.95073\n",
      "[70]\tvalid_0's auc: 0.950763\n",
      "[71]\tvalid_0's auc: 0.950785\n",
      "[72]\tvalid_0's auc: 0.950826\n",
      "[73]\tvalid_0's auc: 0.950855\n",
      "[74]\tvalid_0's auc: 0.950884\n",
      "[75]\tvalid_0's auc: 0.950918\n",
      "[76]\tvalid_0's auc: 0.950943\n",
      "[77]\tvalid_0's auc: 0.950972\n",
      "[78]\tvalid_0's auc: 0.950997\n",
      "[79]\tvalid_0's auc: 0.951028\n",
      "[80]\tvalid_0's auc: 0.951061\n",
      "[81]\tvalid_0's auc: 0.95109\n",
      "[82]\tvalid_0's auc: 0.951115\n",
      "[83]\tvalid_0's auc: 0.951153\n",
      "[84]\tvalid_0's auc: 0.95118\n",
      "[85]\tvalid_0's auc: 0.9512\n",
      "[86]\tvalid_0's auc: 0.951234\n",
      "[87]\tvalid_0's auc: 0.951262\n",
      "[88]\tvalid_0's auc: 0.951287\n",
      "[89]\tvalid_0's auc: 0.951312\n",
      "[90]\tvalid_0's auc: 0.951333\n",
      "[91]\tvalid_0's auc: 0.95135\n",
      "[92]\tvalid_0's auc: 0.951367\n",
      "[93]\tvalid_0's auc: 0.951393\n",
      "[94]\tvalid_0's auc: 0.951411\n",
      "[95]\tvalid_0's auc: 0.951431\n",
      "[96]\tvalid_0's auc: 0.951453\n",
      "[97]\tvalid_0's auc: 0.951467\n",
      "[98]\tvalid_0's auc: 0.951495\n",
      "[99]\tvalid_0's auc: 0.95151\n",
      "[100]\tvalid_0's auc: 0.951529\n",
      "[101]\tvalid_0's auc: 0.95154\n",
      "[102]\tvalid_0's auc: 0.951548\n",
      "[103]\tvalid_0's auc: 0.95156\n",
      "[104]\tvalid_0's auc: 0.951573\n",
      "[105]\tvalid_0's auc: 0.951581\n",
      "[106]\tvalid_0's auc: 0.95158\n",
      "[107]\tvalid_0's auc: 0.951591\n",
      "[108]\tvalid_0's auc: 0.951606\n",
      "[109]\tvalid_0's auc: 0.951611\n",
      "[110]\tvalid_0's auc: 0.95163\n",
      "[111]\tvalid_0's auc: 0.951634\n",
      "[112]\tvalid_0's auc: 0.951648\n",
      "[113]\tvalid_0's auc: 0.951661\n",
      "[114]\tvalid_0's auc: 0.951668\n",
      "[115]\tvalid_0's auc: 0.951677\n",
      "[116]\tvalid_0's auc: 0.951686\n",
      "[117]\tvalid_0's auc: 0.951701\n",
      "[118]\tvalid_0's auc: 0.951714\n",
      "[119]\tvalid_0's auc: 0.951726\n",
      "[120]\tvalid_0's auc: 0.951737\n",
      "[121]\tvalid_0's auc: 0.951741\n",
      "[122]\tvalid_0's auc: 0.951753\n",
      "[123]\tvalid_0's auc: 0.951766\n",
      "[124]\tvalid_0's auc: 0.951781\n",
      "[125]\tvalid_0's auc: 0.951786\n",
      "[126]\tvalid_0's auc: 0.951793\n",
      "[127]\tvalid_0's auc: 0.9518\n",
      "[128]\tvalid_0's auc: 0.951813\n",
      "[129]\tvalid_0's auc: 0.951819\n",
      "[130]\tvalid_0's auc: 0.95183\n",
      "[131]\tvalid_0's auc: 0.951836\n",
      "[132]\tvalid_0's auc: 0.951847\n",
      "[133]\tvalid_0's auc: 0.951852\n",
      "[134]\tvalid_0's auc: 0.951881\n",
      "[135]\tvalid_0's auc: 0.951888\n",
      "[136]\tvalid_0's auc: 0.951894\n",
      "[137]\tvalid_0's auc: 0.951904\n",
      "[138]\tvalid_0's auc: 0.951909\n",
      "[139]\tvalid_0's auc: 0.951912\n",
      "[140]\tvalid_0's auc: 0.951918\n",
      "[141]\tvalid_0's auc: 0.951929\n",
      "[142]\tvalid_0's auc: 0.951943\n",
      "[143]\tvalid_0's auc: 0.951955\n",
      "[144]\tvalid_0's auc: 0.951957\n",
      "[145]\tvalid_0's auc: 0.951967\n",
      "[146]\tvalid_0's auc: 0.951978\n",
      "[147]\tvalid_0's auc: 0.951988\n",
      "[148]\tvalid_0's auc: 0.951992\n",
      "[149]\tvalid_0's auc: 0.952002\n",
      "[150]\tvalid_0's auc: 0.952009\n",
      "[151]\tvalid_0's auc: 0.952012\n",
      "[152]\tvalid_0's auc: 0.952018\n",
      "[153]\tvalid_0's auc: 0.952034\n",
      "[154]\tvalid_0's auc: 0.952037\n",
      "[155]\tvalid_0's auc: 0.952049\n",
      "[156]\tvalid_0's auc: 0.952049\n",
      "[157]\tvalid_0's auc: 0.952054\n",
      "[158]\tvalid_0's auc: 0.952063\n",
      "[159]\tvalid_0's auc: 0.952073\n",
      "[160]\tvalid_0's auc: 0.952079\n",
      "[161]\tvalid_0's auc: 0.95209\n",
      "[162]\tvalid_0's auc: 0.952093\n",
      "[163]\tvalid_0's auc: 0.952097\n",
      "[164]\tvalid_0's auc: 0.952112\n",
      "[165]\tvalid_0's auc: 0.952122\n",
      "[166]\tvalid_0's auc: 0.952129\n",
      "[167]\tvalid_0's auc: 0.95214\n",
      "[168]\tvalid_0's auc: 0.952148\n",
      "[169]\tvalid_0's auc: 0.952149\n",
      "[170]\tvalid_0's auc: 0.952155\n",
      "[171]\tvalid_0's auc: 0.952161\n",
      "[172]\tvalid_0's auc: 0.952164\n",
      "[173]\tvalid_0's auc: 0.952168\n",
      "[174]\tvalid_0's auc: 0.952179\n",
      "[175]\tvalid_0's auc: 0.952179\n",
      "[176]\tvalid_0's auc: 0.952187\n",
      "[177]\tvalid_0's auc: 0.952195\n",
      "[178]\tvalid_0's auc: 0.952196\n",
      "[179]\tvalid_0's auc: 0.952204\n",
      "[180]\tvalid_0's auc: 0.952211\n",
      "[181]\tvalid_0's auc: 0.952213\n",
      "[182]\tvalid_0's auc: 0.952214\n",
      "[183]\tvalid_0's auc: 0.952228\n",
      "[184]\tvalid_0's auc: 0.952236\n",
      "[185]\tvalid_0's auc: 0.95224\n",
      "[186]\tvalid_0's auc: 0.952243\n",
      "[187]\tvalid_0's auc: 0.952248\n",
      "[188]\tvalid_0's auc: 0.952251\n",
      "[189]\tvalid_0's auc: 0.952257\n",
      "[190]\tvalid_0's auc: 0.952259\n",
      "[191]\tvalid_0's auc: 0.952271\n",
      "[192]\tvalid_0's auc: 0.952271\n",
      "[193]\tvalid_0's auc: 0.952279\n",
      "[194]\tvalid_0's auc: 0.952283\n",
      "[195]\tvalid_0's auc: 0.95232\n",
      "[196]\tvalid_0's auc: 0.952331\n",
      "[197]\tvalid_0's auc: 0.952335\n",
      "[198]\tvalid_0's auc: 0.952344\n",
      "[199]\tvalid_0's auc: 0.952349\n",
      "[200]\tvalid_0's auc: 0.95236\n",
      "[201]\tvalid_0's auc: 0.952363\n",
      "[202]\tvalid_0's auc: 0.952367\n",
      "[203]\tvalid_0's auc: 0.952368\n",
      "[204]\tvalid_0's auc: 0.952375\n",
      "[205]\tvalid_0's auc: 0.952393\n",
      "[206]\tvalid_0's auc: 0.952397\n",
      "[207]\tvalid_0's auc: 0.9524\n",
      "[208]\tvalid_0's auc: 0.952403\n",
      "[209]\tvalid_0's auc: 0.952408\n",
      "[210]\tvalid_0's auc: 0.95241\n",
      "[211]\tvalid_0's auc: 0.952414\n",
      "[212]\tvalid_0's auc: 0.952414\n",
      "[213]\tvalid_0's auc: 0.952421\n",
      "[214]\tvalid_0's auc: 0.952427\n",
      "[215]\tvalid_0's auc: 0.952433\n",
      "[216]\tvalid_0's auc: 0.952442\n",
      "[217]\tvalid_0's auc: 0.952444\n",
      "[218]\tvalid_0's auc: 0.952463\n",
      "[219]\tvalid_0's auc: 0.952475\n",
      "[220]\tvalid_0's auc: 0.952476\n",
      "[221]\tvalid_0's auc: 0.9525\n",
      "[222]\tvalid_0's auc: 0.952508\n",
      "[223]\tvalid_0's auc: 0.952518\n",
      "[224]\tvalid_0's auc: 0.952526\n",
      "[225]\tvalid_0's auc: 0.952527\n",
      "[226]\tvalid_0's auc: 0.95253\n",
      "[227]\tvalid_0's auc: 0.952535\n",
      "[228]\tvalid_0's auc: 0.952538\n",
      "[229]\tvalid_0's auc: 0.952545\n",
      "[230]\tvalid_0's auc: 0.95255\n",
      "[231]\tvalid_0's auc: 0.952549\n",
      "[232]\tvalid_0's auc: 0.952549\n",
      "[233]\tvalid_0's auc: 0.952554\n",
      "[234]\tvalid_0's auc: 0.95256\n",
      "[235]\tvalid_0's auc: 0.952564\n",
      "[236]\tvalid_0's auc: 0.952567\n",
      "[237]\tvalid_0's auc: 0.952575\n",
      "[238]\tvalid_0's auc: 0.952581\n",
      "[239]\tvalid_0's auc: 0.952586\n",
      "[240]\tvalid_0's auc: 0.952589\n",
      "[241]\tvalid_0's auc: 0.952591\n",
      "[242]\tvalid_0's auc: 0.952593\n",
      "[243]\tvalid_0's auc: 0.952595\n",
      "[244]\tvalid_0's auc: 0.952595\n",
      "[245]\tvalid_0's auc: 0.9526\n",
      "[246]\tvalid_0's auc: 0.952604\n",
      "[247]\tvalid_0's auc: 0.952607\n",
      "[248]\tvalid_0's auc: 0.952608\n",
      "[249]\tvalid_0's auc: 0.952612\n",
      "[250]\tvalid_0's auc: 0.952625\n",
      "[251]\tvalid_0's auc: 0.952628\n",
      "[252]\tvalid_0's auc: 0.952632\n",
      "[253]\tvalid_0's auc: 0.952637\n",
      "[254]\tvalid_0's auc: 0.952648\n",
      "[255]\tvalid_0's auc: 0.952651\n",
      "[256]\tvalid_0's auc: 0.952654\n",
      "[257]\tvalid_0's auc: 0.952661\n",
      "[258]\tvalid_0's auc: 0.952668\n",
      "[259]\tvalid_0's auc: 0.952669\n",
      "[260]\tvalid_0's auc: 0.952684\n",
      "[261]\tvalid_0's auc: 0.952687\n"
     ]
    },
    {
     "name": "stdout",
     "output_type": "stream",
     "text": [
      "[262]\tvalid_0's auc: 0.952693\n",
      "[263]\tvalid_0's auc: 0.952699\n",
      "[264]\tvalid_0's auc: 0.9527\n",
      "[265]\tvalid_0's auc: 0.952703\n",
      "[266]\tvalid_0's auc: 0.952705\n",
      "[267]\tvalid_0's auc: 0.952714\n",
      "[268]\tvalid_0's auc: 0.952718\n",
      "[269]\tvalid_0's auc: 0.952722\n",
      "[270]\tvalid_0's auc: 0.952727\n",
      "[271]\tvalid_0's auc: 0.952732\n",
      "[272]\tvalid_0's auc: 0.952744\n",
      "[273]\tvalid_0's auc: 0.952746\n",
      "[274]\tvalid_0's auc: 0.95275\n",
      "[275]\tvalid_0's auc: 0.952753\n",
      "[276]\tvalid_0's auc: 0.952756\n",
      "[277]\tvalid_0's auc: 0.952758\n",
      "[278]\tvalid_0's auc: 0.952762\n",
      "[279]\tvalid_0's auc: 0.952764\n",
      "[280]\tvalid_0's auc: 0.952771\n",
      "[281]\tvalid_0's auc: 0.952781\n",
      "[282]\tvalid_0's auc: 0.952786\n",
      "[283]\tvalid_0's auc: 0.95279\n",
      "[284]\tvalid_0's auc: 0.952793\n",
      "[285]\tvalid_0's auc: 0.952797\n",
      "[286]\tvalid_0's auc: 0.952797\n",
      "[287]\tvalid_0's auc: 0.952803\n",
      "[288]\tvalid_0's auc: 0.952804\n",
      "[289]\tvalid_0's auc: 0.952806\n",
      "[290]\tvalid_0's auc: 0.952807\n",
      "[291]\tvalid_0's auc: 0.952812\n",
      "[292]\tvalid_0's auc: 0.952813\n",
      "[293]\tvalid_0's auc: 0.952817\n",
      "[294]\tvalid_0's auc: 0.952821\n",
      "[295]\tvalid_0's auc: 0.952826\n",
      "[296]\tvalid_0's auc: 0.95283\n",
      "[297]\tvalid_0's auc: 0.95284\n",
      "[298]\tvalid_0's auc: 0.952846\n",
      "[299]\tvalid_0's auc: 0.952851\n",
      "[300]\tvalid_0's auc: 0.952855\n",
      "[301]\tvalid_0's auc: 0.952857\n",
      "[302]\tvalid_0's auc: 0.952861\n",
      "[303]\tvalid_0's auc: 0.952867\n",
      "[304]\tvalid_0's auc: 0.952868\n",
      "[305]\tvalid_0's auc: 0.952871\n",
      "[306]\tvalid_0's auc: 0.952874\n",
      "[307]\tvalid_0's auc: 0.952877\n",
      "[308]\tvalid_0's auc: 0.95288\n",
      "[309]\tvalid_0's auc: 0.952883\n",
      "[310]\tvalid_0's auc: 0.952887\n",
      "[311]\tvalid_0's auc: 0.952891\n",
      "[312]\tvalid_0's auc: 0.952894\n",
      "[313]\tvalid_0's auc: 0.952897\n",
      "[314]\tvalid_0's auc: 0.952901\n",
      "[315]\tvalid_0's auc: 0.952921\n",
      "[316]\tvalid_0's auc: 0.952923\n",
      "[317]\tvalid_0's auc: 0.952925\n",
      "[318]\tvalid_0's auc: 0.952932\n",
      "[319]\tvalid_0's auc: 0.952934\n",
      "[320]\tvalid_0's auc: 0.952939\n",
      "[321]\tvalid_0's auc: 0.952955\n",
      "[322]\tvalid_0's auc: 0.952958\n",
      "[323]\tvalid_0's auc: 0.952962\n",
      "[324]\tvalid_0's auc: 0.952966\n",
      "[325]\tvalid_0's auc: 0.952968\n",
      "[326]\tvalid_0's auc: 0.952993\n",
      "[327]\tvalid_0's auc: 0.952997\n",
      "[328]\tvalid_0's auc: 0.953002\n",
      "[329]\tvalid_0's auc: 0.953007\n",
      "[330]\tvalid_0's auc: 0.953015\n",
      "[331]\tvalid_0's auc: 0.953019\n",
      "[332]\tvalid_0's auc: 0.95304\n",
      "[333]\tvalid_0's auc: 0.953042\n",
      "[334]\tvalid_0's auc: 0.953048\n",
      "[335]\tvalid_0's auc: 0.953053\n",
      "[336]\tvalid_0's auc: 0.953057\n",
      "[337]\tvalid_0's auc: 0.95306\n",
      "[338]\tvalid_0's auc: 0.95306\n",
      "[339]\tvalid_0's auc: 0.953067\n",
      "[340]\tvalid_0's auc: 0.953079\n",
      "[341]\tvalid_0's auc: 0.953082\n",
      "[342]\tvalid_0's auc: 0.953085\n",
      "[343]\tvalid_0's auc: 0.953088\n",
      "[344]\tvalid_0's auc: 0.953091\n",
      "[345]\tvalid_0's auc: 0.953092\n",
      "[346]\tvalid_0's auc: 0.953097\n",
      "[347]\tvalid_0's auc: 0.953106\n",
      "[348]\tvalid_0's auc: 0.953137\n",
      "[349]\tvalid_0's auc: 0.953138\n",
      "[350]\tvalid_0's auc: 0.953139\n",
      "[351]\tvalid_0's auc: 0.95315\n",
      "[352]\tvalid_0's auc: 0.953161\n",
      "[353]\tvalid_0's auc: 0.953161\n",
      "[354]\tvalid_0's auc: 0.953181\n",
      "[355]\tvalid_0's auc: 0.953189\n",
      "[356]\tvalid_0's auc: 0.9532\n",
      "[357]\tvalid_0's auc: 0.953209\n",
      "[358]\tvalid_0's auc: 0.953219\n",
      "[359]\tvalid_0's auc: 0.953222\n",
      "[360]\tvalid_0's auc: 0.953228\n",
      "[361]\tvalid_0's auc: 0.953235\n",
      "[362]\tvalid_0's auc: 0.953238\n",
      "[363]\tvalid_0's auc: 0.95324\n",
      "[364]\tvalid_0's auc: 0.95325\n",
      "[365]\tvalid_0's auc: 0.953249\n",
      "[366]\tvalid_0's auc: 0.953253\n",
      "[367]\tvalid_0's auc: 0.953259\n",
      "[368]\tvalid_0's auc: 0.95326\n",
      "[369]\tvalid_0's auc: 0.953263\n",
      "[370]\tvalid_0's auc: 0.953268\n",
      "[371]\tvalid_0's auc: 0.953269\n",
      "[372]\tvalid_0's auc: 0.95327\n",
      "[373]\tvalid_0's auc: 0.953275\n",
      "[374]\tvalid_0's auc: 0.953276\n",
      "[375]\tvalid_0's auc: 0.953278\n",
      "[376]\tvalid_0's auc: 0.953282\n",
      "[377]\tvalid_0's auc: 0.953285\n",
      "[378]\tvalid_0's auc: 0.95329\n",
      "[379]\tvalid_0's auc: 0.953295\n",
      "[380]\tvalid_0's auc: 0.953294\n",
      "[381]\tvalid_0's auc: 0.953294\n",
      "[382]\tvalid_0's auc: 0.953301\n",
      "[383]\tvalid_0's auc: 0.953301\n",
      "[384]\tvalid_0's auc: 0.953311\n",
      "[385]\tvalid_0's auc: 0.953312\n",
      "[386]\tvalid_0's auc: 0.953326\n",
      "[387]\tvalid_0's auc: 0.95333\n",
      "[388]\tvalid_0's auc: 0.953337\n",
      "[389]\tvalid_0's auc: 0.953343\n",
      "[390]\tvalid_0's auc: 0.953343\n",
      "[391]\tvalid_0's auc: 0.953343\n",
      "[392]\tvalid_0's auc: 0.953348\n",
      "[393]\tvalid_0's auc: 0.953355\n",
      "[394]\tvalid_0's auc: 0.953357\n",
      "[395]\tvalid_0's auc: 0.953359\n",
      "[396]\tvalid_0's auc: 0.95336\n",
      "[397]\tvalid_0's auc: 0.953367\n",
      "[398]\tvalid_0's auc: 0.953372\n",
      "[399]\tvalid_0's auc: 0.953378\n",
      "[400]\tvalid_0's auc: 0.953384\n",
      "[401]\tvalid_0's auc: 0.953386\n",
      "[402]\tvalid_0's auc: 0.953387\n",
      "[403]\tvalid_0's auc: 0.953388\n",
      "[404]\tvalid_0's auc: 0.953397\n",
      "[405]\tvalid_0's auc: 0.953399\n",
      "[406]\tvalid_0's auc: 0.953404\n",
      "[407]\tvalid_0's auc: 0.95341\n",
      "[408]\tvalid_0's auc: 0.953412\n",
      "[409]\tvalid_0's auc: 0.953417\n",
      "[410]\tvalid_0's auc: 0.953415\n",
      "[411]\tvalid_0's auc: 0.953416\n",
      "[412]\tvalid_0's auc: 0.953419\n",
      "[413]\tvalid_0's auc: 0.953419\n",
      "[414]\tvalid_0's auc: 0.953435\n",
      "[415]\tvalid_0's auc: 0.953437\n",
      "[416]\tvalid_0's auc: 0.953436\n",
      "[417]\tvalid_0's auc: 0.953446\n",
      "[418]\tvalid_0's auc: 0.953446\n",
      "[419]\tvalid_0's auc: 0.953451\n",
      "[420]\tvalid_0's auc: 0.953457\n",
      "[421]\tvalid_0's auc: 0.953457\n",
      "[422]\tvalid_0's auc: 0.953459\n",
      "[423]\tvalid_0's auc: 0.953462\n",
      "[424]\tvalid_0's auc: 0.953466\n",
      "[425]\tvalid_0's auc: 0.953471\n",
      "[426]\tvalid_0's auc: 0.95347\n",
      "[427]\tvalid_0's auc: 0.953473\n",
      "[428]\tvalid_0's auc: 0.953481\n",
      "[429]\tvalid_0's auc: 0.953483\n",
      "[430]\tvalid_0's auc: 0.953487\n",
      "[431]\tvalid_0's auc: 0.953491\n",
      "[432]\tvalid_0's auc: 0.953494\n",
      "[433]\tvalid_0's auc: 0.953496\n",
      "[434]\tvalid_0's auc: 0.953499\n",
      "[435]\tvalid_0's auc: 0.953503\n",
      "[436]\tvalid_0's auc: 0.953503\n",
      "[437]\tvalid_0's auc: 0.953508\n",
      "[438]\tvalid_0's auc: 0.953516\n",
      "[439]\tvalid_0's auc: 0.953519\n",
      "[440]\tvalid_0's auc: 0.953523\n",
      "[441]\tvalid_0's auc: 0.953526\n",
      "[442]\tvalid_0's auc: 0.95353\n",
      "[443]\tvalid_0's auc: 0.953534\n",
      "[444]\tvalid_0's auc: 0.953542\n",
      "[445]\tvalid_0's auc: 0.953548\n",
      "[446]\tvalid_0's auc: 0.953553\n",
      "[447]\tvalid_0's auc: 0.953559\n",
      "[448]\tvalid_0's auc: 0.953565\n",
      "[449]\tvalid_0's auc: 0.953573\n",
      "[450]\tvalid_0's auc: 0.953581\n",
      "[451]\tvalid_0's auc: 0.953587\n",
      "[452]\tvalid_0's auc: 0.9536\n",
      "[453]\tvalid_0's auc: 0.953603\n",
      "[454]\tvalid_0's auc: 0.953603\n",
      "[455]\tvalid_0's auc: 0.953604\n",
      "[456]\tvalid_0's auc: 0.953613\n",
      "[457]\tvalid_0's auc: 0.953617\n",
      "[458]\tvalid_0's auc: 0.953622\n",
      "[459]\tvalid_0's auc: 0.95363\n",
      "[460]\tvalid_0's auc: 0.95363\n",
      "[461]\tvalid_0's auc: 0.953634\n",
      "[462]\tvalid_0's auc: 0.953639\n",
      "[463]\tvalid_0's auc: 0.953643\n",
      "[464]\tvalid_0's auc: 0.95365\n",
      "[465]\tvalid_0's auc: 0.953654\n",
      "[466]\tvalid_0's auc: 0.953656\n",
      "[467]\tvalid_0's auc: 0.953663\n",
      "[468]\tvalid_0's auc: 0.95367\n",
      "[469]\tvalid_0's auc: 0.953672\n",
      "[470]\tvalid_0's auc: 0.953676\n",
      "[471]\tvalid_0's auc: 0.953681\n",
      "[472]\tvalid_0's auc: 0.953682\n",
      "[473]\tvalid_0's auc: 0.953686\n",
      "[474]\tvalid_0's auc: 0.953692\n",
      "[475]\tvalid_0's auc: 0.953692\n",
      "[476]\tvalid_0's auc: 0.953693\n",
      "[477]\tvalid_0's auc: 0.953699\n",
      "[478]\tvalid_0's auc: 0.953706\n",
      "[479]\tvalid_0's auc: 0.953713\n",
      "[480]\tvalid_0's auc: 0.953718\n",
      "[481]\tvalid_0's auc: 0.953724\n",
      "[482]\tvalid_0's auc: 0.953731\n",
      "[483]\tvalid_0's auc: 0.953737\n",
      "[484]\tvalid_0's auc: 0.953742\n",
      "[485]\tvalid_0's auc: 0.953743\n",
      "[486]\tvalid_0's auc: 0.953748\n",
      "[487]\tvalid_0's auc: 0.953754\n",
      "[488]\tvalid_0's auc: 0.95376\n",
      "[489]\tvalid_0's auc: 0.953762\n",
      "[490]\tvalid_0's auc: 0.953765\n",
      "[491]\tvalid_0's auc: 0.953767\n",
      "[492]\tvalid_0's auc: 0.953775\n",
      "[493]\tvalid_0's auc: 0.953776\n",
      "[494]\tvalid_0's auc: 0.953784\n",
      "[495]\tvalid_0's auc: 0.953788\n",
      "[496]\tvalid_0's auc: 0.953796\n",
      "[497]\tvalid_0's auc: 0.953798\n",
      "[498]\tvalid_0's auc: 0.953806\n",
      "[499]\tvalid_0's auc: 0.953808\n",
      "[500]\tvalid_0's auc: 0.953816\n",
      "Did not meet early stopping. Best iteration is:\n",
      "[500]\tvalid_0's auc: 0.953816\n"
     ]
    }
   ],
   "source": [
    "train_data = lgb.Dataset(df[col_preds], label=df[col_target])\n",
    "valid_data = lgb.Dataset(valid[col_preds], label=valid[col_target])\n",
    "\n",
    "parameters = {'objective': 'binary',\n",
    "              'metric': 'auc',\n",
    "              'is_unbalance': 'true',\n",
    "              'boosting': 'gbdt',\n",
    "              'verbose': 0,}\n",
    "\n",
    "parameters[\"num_leaves\"] = int(round(9.725236104028639))\n",
    "parameters['max_depth'] = int(round( 7.532898415585816))\n",
    "parameters['max_bin'] = int(round(5.169796606672757))\n",
    "parameters['learning_rate'] = round(0.004575693231283588,3)\n",
    "parameters['feature_fraction'] = round( 0.8110328360295611,2)\n",
    "parameters['bagging_fraction'] = round(0.6496238764162328,2)\n",
    "parameters['subsample'] = round(0.4561955508284766,2)\n",
    "\n",
    "\n",
    "xgb_model = lgb.train(parameters,\n",
    "                 train_data,\n",
    "                 valid_sets = valid_data, \n",
    "                 num_boost_round=500,\n",
    "                 early_stopping_rounds=100)\n",
    "  \n"
   ]
  },
  {
   "cell_type": "code",
   "execution_count": 40,
   "id": "681848e9",
   "metadata": {
    "ExecuteTime": {
     "end_time": "2022-11-30T15:26:48.466753Z",
     "start_time": "2022-11-30T15:26:11.341404Z"
    }
   },
   "outputs": [],
   "source": [
    "df['XGB_SCORE']=xgb_model.predict(df[col_preds])\n",
    "# train['XGB_SCORE']=xgb_model.predict_proba(train[col_preds])[:, 1]\n",
    "valid['XGB_SCORE']=xgb_model.predict(valid[col_preds])"
   ]
  },
  {
   "cell_type": "code",
   "execution_count": 41,
   "id": "2de71a52",
   "metadata": {
    "ExecuteTime": {
     "end_time": "2022-11-30T15:27:00.083376Z",
     "start_time": "2022-11-30T15:26:50.273419Z"
    },
    "hide_input": false
   },
   "outputs": [
    {
     "name": "stdout",
     "output_type": "stream",
     "text": [
      "The Lift on the train set is: 8.517406859054407\n",
      "The gini on the train set is: 0.8917079278907061\n",
      "\n",
      "\n",
      "The Lift on the valid set is: 8.76746493275904\n",
      "The gini on the valid set is: 0.9076327580778079\n",
      "\n",
      "\n"
     ]
    }
   ],
   "source": [
    "print('The Lift on the train set is: '+ str(mofr.metrics.lift(df[col_target], df['XGB_SCORE'])))\n",
    "print('The gini on the train set is: '+ str(mofr.metrics.gini(df[col_target].apply(int), df['XGB_SCORE'])))\n",
    "# print('The accuracy on the train set is: '+ str(mofr.metrics.accuracy_score(train[col_target].apply(int), train['XGB_SCORE'].apply(lambda x: int(x>0.5)))))\n",
    "print('\\n')\n",
    "print('The Lift on the valid set is: '+ str(mofr.metrics.lift(valid[col_target], valid['XGB_SCORE'])))\n",
    "print('The gini on the valid set is: '+ str(mofr.metrics.gini(valid[col_target].apply(int), valid['XGB_SCORE'])))\n",
    "# print('The accuracy on the valid set is: '+ str(mofr.metrics.accuracy_score(df[valid_mask][col_target].apply(int), df[valid_mask]['XGB_SCORE'].apply(lambda x: int(x>0.5)))))\n",
    "print('\\n')"
   ]
  },
  {
   "cell_type": "code",
   "execution_count": 55,
   "id": "461bd958",
   "metadata": {
    "ExecuteTime": {
     "end_time": "2022-11-30T15:29:37.037008Z",
     "start_time": "2022-11-30T15:29:36.683696Z"
    }
   },
   "outputs": [
    {
     "data": {
      "text/plain": [
       "<AxesSubplot:title={'center':'Feature importance'}, xlabel='Feature importance', ylabel='Features'>"
      ]
     },
     "execution_count": 55,
     "metadata": {},
     "output_type": "execute_result"
    },
    {
     "data": {
      "image/png": "[encoded data removed]",
      "text/plain": [
       "<Figure size 640x480 with 1 Axes>"
      ]
     },
     "metadata": {},
     "output_type": "display_data"
    }
   ],
   "source": [
    "lgb.plot_importance(xgb_model)"
   ]
  },
  {
   "cell_type": "markdown",
   "id": "79e777cb",
   "metadata": {},
   "source": [
    "# Saving the model"
   ]
  },
  {
   "cell_type": "code",
   "execution_count": 42,
   "id": "09e05bb0",
   "metadata": {
    "ExecuteTime": {
     "end_time": "2022-11-30T15:27:12.308960Z",
     "start_time": "2022-11-30T15:27:12.289915Z"
    }
   },
   "outputs": [],
   "source": [
    "#file_name = \"otto_xgb_model_10_3weeks_no_nulls.pkl\"\n",
    "\n",
    "# save\n",
    "pickle.dump(xgb_model, open(file_name, \"wb\"))\n",
    "\n",
    "# # load\n",
    "# #xgb_model= pickle.load(open(file_name, \"rb\"))"
   ]
  },
  {
   "cell_type": "markdown",
   "id": "1bf5594e",
   "metadata": {},
   "source": [
    "# Validation check"
   ]
  },
  {
   "cell_type": "code",
   "execution_count": 45,
   "id": "f8bf9003",
   "metadata": {
    "ExecuteTime": {
     "end_time": "2022-11-30T15:27:51.009123Z",
     "start_time": "2022-11-30T15:27:50.863465Z"
    },
    "hide_input": true
   },
   "outputs": [],
   "source": [
    "del df\n",
    "# del train"
   ]
  },
  {
   "cell_type": "code",
   "execution_count": 46,
   "id": "f8e91196",
   "metadata": {
    "ExecuteTime": {
     "end_time": "2022-11-30T15:27:51.479901Z",
     "start_time": "2022-11-30T15:27:51.464304Z"
    },
    "hide_input": true
   },
   "outputs": [],
   "source": [
    "import pandas as pd\n",
    "import numpy as np\n",
    "import random\n",
    "import mofr\n",
    "import matplotlib.pyplot as plt\n",
    "import seaborn as sns\n",
    "from xgboost import XGBClassifier, plot_tree\n",
    "import math\n",
    "import pickle\n",
    "\n",
    "\n",
    "import xgboost as xgb"
   ]
  },
  {
   "cell_type": "code",
   "execution_count": 47,
   "id": "3089bba7",
   "metadata": {
    "ExecuteTime": {
     "end_time": "2022-11-30T15:27:51.855424Z",
     "start_time": "2022-11-30T15:27:51.845418Z"
    }
   },
   "outputs": [],
   "source": [
    "# file_name = \"otto_xgb_model_12_cv_571.pkl\"\n",
    "\n",
    "# #load\n",
    "# xgb_model= pickle.load(open(file_name, \"rb\"))"
   ]
  },
  {
   "cell_type": "code",
   "execution_count": 48,
   "id": "f837bc0b",
   "metadata": {
    "ExecuteTime": {
     "end_time": "2022-11-30T15:27:52.380414Z",
     "start_time": "2022-11-30T15:27:52.363884Z"
    },
    "hide_input": true
   },
   "outputs": [],
   "source": [
    "col_target='target'"
   ]
  },
  {
   "cell_type": "code",
   "execution_count": 58,
   "id": "fa7d81a1",
   "metadata": {
    "ExecuteTime": {
     "end_time": "2022-11-30T15:32:32.772357Z",
     "start_time": "2022-11-30T15:30:34.393987Z"
    }
   },
   "outputs": [],
   "source": [
    "valid=pd.read_parquet('valid_sample_full_cv_3targets_experimental.parquet')\n",
    "valid.columns=[x.lower() for x in valid.columns]\n",
    "valid['null_flag']=(valid['avg_order_hours_from_click_avg']<99999).apply(int)\n",
    "valid['in_session_carted_not_ordered']=((valid['in_session_carted']>0)&(valid['in_session_ordered']==0)).apply(int)\n",
    "valid['in_session_clicked_not_carted']=((valid['in_session_clicked']>0)&(valid['in_session_carted']==0)).apply(int)\n",
    "valid['XGB_SCORE']=xgb_model.predict(valid[xgb_model.feature_name()])"
   ]
  },
  {
   "cell_type": "code",
   "execution_count": 59,
   "id": "0431ef09",
   "metadata": {
    "ExecuteTime": {
     "end_time": "2022-11-30T15:36:41.806681Z",
     "start_time": "2022-11-30T15:32:35.405174Z"
    }
   },
   "outputs": [
    {
     "name": "stdout",
     "output_type": "stream",
     "text": [
      "100 0.912507065746208 32285.0\n",
      "90 0.9124116169862653 32295.0\n",
      "80 0.9123600858507379 32283.0\n"
     ]
    },
    {
     "ename": "KeyboardInterrupt",
     "evalue": "",
     "output_type": "error",
     "traceback": [
      "\u001b[1;31m---------------------------------------------------------------------------\u001b[0m",
      "\u001b[1;31mKeyboardInterrupt\u001b[0m                         Traceback (most recent call last)",
      "    \u001b[1;31m[... skipping hidden 1 frame]\u001b[0m\n",
      "\u001b[1;32m~\\AppData\\Local\\Temp\\ipykernel_3020\\2535630339.py\u001b[0m in \u001b[0;36m<module>\u001b[1;34m\u001b[0m\n\u001b[0;32m      2\u001b[0m \u001b[1;32mfor\u001b[0m \u001b[0mi\u001b[0m \u001b[1;32min\u001b[0m \u001b[1;33m[\u001b[0m\u001b[1;36m100\u001b[0m\u001b[1;33m,\u001b[0m\u001b[1;36m90\u001b[0m\u001b[1;33m,\u001b[0m\u001b[1;36m80\u001b[0m\u001b[1;33m,\u001b[0m\u001b[1;36m70\u001b[0m\u001b[1;33m,\u001b[0m\u001b[1;36m60\u001b[0m\u001b[1;33m,\u001b[0m\u001b[1;36m50\u001b[0m\u001b[1;33m,\u001b[0m\u001b[1;36m40\u001b[0m\u001b[1;33m,\u001b[0m\u001b[1;36m30\u001b[0m\u001b[1;33m]\u001b[0m\u001b[1;33m:\u001b[0m\u001b[1;33m\u001b[0m\u001b[1;33m\u001b[0m\u001b[0m\n\u001b[1;32m----> 3\u001b[1;33m     \u001b[0mvalid_\u001b[0m\u001b[1;33m=\u001b[0m\u001b[0mvalid\u001b[0m\u001b[1;33m[\u001b[0m\u001b[0mvalid\u001b[0m\u001b[1;33m[\u001b[0m\u001b[1;34m'min_top20'\u001b[0m\u001b[1;33m]\u001b[0m\u001b[1;33m<=\u001b[0m\u001b[0mi\u001b[0m\u001b[1;33m]\u001b[0m\u001b[1;33m\u001b[0m\u001b[1;33m\u001b[0m\u001b[0m\n\u001b[0m\u001b[0;32m      4\u001b[0m     \u001b[0mgini\u001b[0m\u001b[1;33m=\u001b[0m\u001b[0mmofr\u001b[0m\u001b[1;33m.\u001b[0m\u001b[0mmetrics\u001b[0m\u001b[1;33m.\u001b[0m\u001b[0mgini\u001b[0m\u001b[1;33m(\u001b[0m\u001b[0mvalid_\u001b[0m\u001b[1;33m[\u001b[0m\u001b[0mcol_target\u001b[0m\u001b[1;33m]\u001b[0m\u001b[1;33m,\u001b[0m \u001b[0mvalid_\u001b[0m\u001b[1;33m[\u001b[0m\u001b[1;34m'XGB_SCORE'\u001b[0m\u001b[1;33m]\u001b[0m\u001b[1;33m)\u001b[0m\u001b[1;33m\u001b[0m\u001b[1;33m\u001b[0m\u001b[0m\n",
      "\u001b[1;32m~\\anaconda3\\lib\\site-packages\\pandas\\core\\frame.py\u001b[0m in \u001b[0;36m__getitem__\u001b[1;34m(self, key)\u001b[0m\n\u001b[0;32m   3495\u001b[0m         \u001b[1;32mif\u001b[0m \u001b[0mcom\u001b[0m\u001b[1;33m.\u001b[0m\u001b[0mis_bool_indexer\u001b[0m\u001b[1;33m(\u001b[0m\u001b[0mkey\u001b[0m\u001b[1;33m)\u001b[0m\u001b[1;33m:\u001b[0m\u001b[1;33m\u001b[0m\u001b[1;33m\u001b[0m\u001b[0m\n\u001b[1;32m-> 3496\u001b[1;33m             \u001b[1;32mreturn\u001b[0m \u001b[0mself\u001b[0m\u001b[1;33m.\u001b[0m\u001b[0m_getitem_bool_array\u001b[0m\u001b[1;33m(\u001b[0m\u001b[0mkey\u001b[0m\u001b[1;33m)\u001b[0m\u001b[1;33m\u001b[0m\u001b[1;33m\u001b[0m\u001b[0m\n\u001b[0m\u001b[0;32m   3497\u001b[0m \u001b[1;33m\u001b[0m\u001b[0m\n",
      "\u001b[1;32m~\\anaconda3\\lib\\site-packages\\pandas\\core\\frame.py\u001b[0m in \u001b[0;36m_getitem_bool_array\u001b[1;34m(self, key)\u001b[0m\n\u001b[0;32m   3550\u001b[0m         \u001b[0mindexer\u001b[0m \u001b[1;33m=\u001b[0m \u001b[0mkey\u001b[0m\u001b[1;33m.\u001b[0m\u001b[0mnonzero\u001b[0m\u001b[1;33m(\u001b[0m\u001b[1;33m)\u001b[0m\u001b[1;33m[\u001b[0m\u001b[1;36m0\u001b[0m\u001b[1;33m]\u001b[0m\u001b[1;33m\u001b[0m\u001b[1;33m\u001b[0m\u001b[0m\n\u001b[1;32m-> 3551\u001b[1;33m         \u001b[1;32mreturn\u001b[0m \u001b[0mself\u001b[0m\u001b[1;33m.\u001b[0m\u001b[0m_take_with_is_copy\u001b[0m\u001b[1;33m(\u001b[0m\u001b[0mindexer\u001b[0m\u001b[1;33m,\u001b[0m \u001b[0maxis\u001b[0m\u001b[1;33m=\u001b[0m\u001b[1;36m0\u001b[0m\u001b[1;33m)\u001b[0m\u001b[1;33m\u001b[0m\u001b[1;33m\u001b[0m\u001b[0m\n\u001b[0m\u001b[0;32m   3552\u001b[0m \u001b[1;33m\u001b[0m\u001b[0m\n",
      "\u001b[1;32m~\\anaconda3\\lib\\site-packages\\pandas\\core\\generic.py\u001b[0m in \u001b[0;36m_take_with_is_copy\u001b[1;34m(self, indices, axis)\u001b[0m\n\u001b[0;32m   3715\u001b[0m         \"\"\"\n\u001b[1;32m-> 3716\u001b[1;33m         \u001b[0mresult\u001b[0m \u001b[1;33m=\u001b[0m \u001b[0mself\u001b[0m\u001b[1;33m.\u001b[0m\u001b[0mtake\u001b[0m\u001b[1;33m(\u001b[0m\u001b[0mindices\u001b[0m\u001b[1;33m=\u001b[0m\u001b[0mindices\u001b[0m\u001b[1;33m,\u001b[0m \u001b[0maxis\u001b[0m\u001b[1;33m=\u001b[0m\u001b[0maxis\u001b[0m\u001b[1;33m)\u001b[0m\u001b[1;33m\u001b[0m\u001b[1;33m\u001b[0m\u001b[0m\n\u001b[0m\u001b[0;32m   3717\u001b[0m         \u001b[1;31m# Maybe set copy if we didn't actually change the index.\u001b[0m\u001b[1;33m\u001b[0m\u001b[1;33m\u001b[0m\u001b[0m\n",
      "\u001b[1;32m~\\anaconda3\\lib\\site-packages\\pandas\\core\\generic.py\u001b[0m in \u001b[0;36mtake\u001b[1;34m(self, indices, axis, is_copy, **kwargs)\u001b[0m\n\u001b[0;32m   3702\u001b[0m \u001b[1;33m\u001b[0m\u001b[0m\n\u001b[1;32m-> 3703\u001b[1;33m         new_data = self._mgr.take(\n\u001b[0m\u001b[0;32m   3704\u001b[0m             \u001b[0mindices\u001b[0m\u001b[1;33m,\u001b[0m \u001b[0maxis\u001b[0m\u001b[1;33m=\u001b[0m\u001b[0mself\u001b[0m\u001b[1;33m.\u001b[0m\u001b[0m_get_block_manager_axis\u001b[0m\u001b[1;33m(\u001b[0m\u001b[0maxis\u001b[0m\u001b[1;33m)\u001b[0m\u001b[1;33m,\u001b[0m \u001b[0mverify\u001b[0m\u001b[1;33m=\u001b[0m\u001b[1;32mTrue\u001b[0m\u001b[1;33m\u001b[0m\u001b[1;33m\u001b[0m\u001b[0m\n",
      "\u001b[1;32m~\\anaconda3\\lib\\site-packages\\pandas\\core\\internals\\managers.py\u001b[0m in \u001b[0;36mtake\u001b[1;34m(self, indexer, axis, verify)\u001b[0m\n\u001b[0;32m    896\u001b[0m         \u001b[0mnew_labels\u001b[0m \u001b[1;33m=\u001b[0m \u001b[0mself\u001b[0m\u001b[1;33m.\u001b[0m\u001b[0maxes\u001b[0m\u001b[1;33m[\u001b[0m\u001b[0maxis\u001b[0m\u001b[1;33m]\u001b[0m\u001b[1;33m.\u001b[0m\u001b[0mtake\u001b[0m\u001b[1;33m(\u001b[0m\u001b[0mindexer\u001b[0m\u001b[1;33m)\u001b[0m\u001b[1;33m\u001b[0m\u001b[1;33m\u001b[0m\u001b[0m\n\u001b[1;32m--> 897\u001b[1;33m         return self.reindex_indexer(\n\u001b[0m\u001b[0;32m    898\u001b[0m             \u001b[0mnew_axis\u001b[0m\u001b[1;33m=\u001b[0m\u001b[0mnew_labels\u001b[0m\u001b[1;33m,\u001b[0m\u001b[1;33m\u001b[0m\u001b[1;33m\u001b[0m\u001b[0m\n",
      "\u001b[1;32m~\\anaconda3\\lib\\site-packages\\pandas\\core\\internals\\managers.py\u001b[0m in \u001b[0;36mreindex_indexer\u001b[1;34m(self, new_axis, indexer, axis, fill_value, allow_dups, copy, consolidate, only_slice, use_na_proxy)\u001b[0m\n\u001b[0;32m    688\u001b[0m         \u001b[1;32melse\u001b[0m\u001b[1;33m:\u001b[0m\u001b[1;33m\u001b[0m\u001b[1;33m\u001b[0m\u001b[0m\n\u001b[1;32m--> 689\u001b[1;33m             new_blocks = [\n\u001b[0m\u001b[0;32m    690\u001b[0m                 blk.take_nd(\n",
      "\u001b[1;32m~\\anaconda3\\lib\\site-packages\\pandas\\core\\internals\\managers.py\u001b[0m in \u001b[0;36m<listcomp>\u001b[1;34m(.0)\u001b[0m\n\u001b[0;32m    689\u001b[0m             new_blocks = [\n\u001b[1;32m--> 690\u001b[1;33m                 blk.take_nd(\n\u001b[0m\u001b[0;32m    691\u001b[0m                     \u001b[0mindexer\u001b[0m\u001b[1;33m,\u001b[0m\u001b[1;33m\u001b[0m\u001b[1;33m\u001b[0m\u001b[0m\n",
      "\u001b[1;32m~\\anaconda3\\lib\\site-packages\\pandas\\core\\internals\\blocks.py\u001b[0m in \u001b[0;36mtake_nd\u001b[1;34m(self, indexer, axis, new_mgr_locs, fill_value)\u001b[0m\n\u001b[0;32m   1138\u001b[0m \u001b[1;33m\u001b[0m\u001b[0m\n\u001b[1;32m-> 1139\u001b[1;33m         new_values = algos.take_nd(\n\u001b[0m\u001b[0;32m   1140\u001b[0m             \u001b[0mvalues\u001b[0m\u001b[1;33m,\u001b[0m \u001b[0mindexer\u001b[0m\u001b[1;33m,\u001b[0m \u001b[0maxis\u001b[0m\u001b[1;33m=\u001b[0m\u001b[0maxis\u001b[0m\u001b[1;33m,\u001b[0m \u001b[0mallow_fill\u001b[0m\u001b[1;33m=\u001b[0m\u001b[0mallow_fill\u001b[0m\u001b[1;33m,\u001b[0m \u001b[0mfill_value\u001b[0m\u001b[1;33m=\u001b[0m\u001b[0mfill_value\u001b[0m\u001b[1;33m\u001b[0m\u001b[1;33m\u001b[0m\u001b[0m\n",
      "\u001b[1;32m~\\anaconda3\\lib\\site-packages\\pandas\\core\\array_algos\\take.py\u001b[0m in \u001b[0;36mtake_nd\u001b[1;34m(arr, indexer, axis, fill_value, allow_fill)\u001b[0m\n\u001b[0;32m    116\u001b[0m     \u001b[0marr\u001b[0m \u001b[1;33m=\u001b[0m \u001b[0mnp\u001b[0m\u001b[1;33m.\u001b[0m\u001b[0masarray\u001b[0m\u001b[1;33m(\u001b[0m\u001b[0marr\u001b[0m\u001b[1;33m)\u001b[0m\u001b[1;33m\u001b[0m\u001b[1;33m\u001b[0m\u001b[0m\n\u001b[1;32m--> 117\u001b[1;33m     \u001b[1;32mreturn\u001b[0m \u001b[0m_take_nd_ndarray\u001b[0m\u001b[1;33m(\u001b[0m\u001b[0marr\u001b[0m\u001b[1;33m,\u001b[0m \u001b[0mindexer\u001b[0m\u001b[1;33m,\u001b[0m \u001b[0maxis\u001b[0m\u001b[1;33m,\u001b[0m \u001b[0mfill_value\u001b[0m\u001b[1;33m,\u001b[0m \u001b[0mallow_fill\u001b[0m\u001b[1;33m)\u001b[0m\u001b[1;33m\u001b[0m\u001b[1;33m\u001b[0m\u001b[0m\n\u001b[0m\u001b[0;32m    118\u001b[0m \u001b[1;33m\u001b[0m\u001b[0m\n",
      "\u001b[1;31mKeyboardInterrupt\u001b[0m: ",
      "\nDuring handling of the above exception, another exception occurred:\n",
      "\u001b[1;31mKeyboardInterrupt\u001b[0m                         Traceback (most recent call last)",
      "\u001b[1;31mKeyboardInterrupt\u001b[0m: "
     ]
    }
   ],
   "source": [
    "result=[]\n",
    "for i in [100,90,80,70,60,50,40,30]:\n",
    "    valid_=valid[valid['min_top20']<=i]\n",
    "    gini=mofr.metrics.gini(valid_[col_target], valid_['XGB_SCORE'])\n",
    "    a=valid_[['session_id', 'aid', 'XGB_SCORE',col_target]].groupby('session_id').apply(lambda x : x.sort_values(by = ['XGB_SCORE'], ascending = [False]).head(20).reset_index(drop = True)).reset_index(drop = True)\n",
    "    num_captured=np.sum(a[col_target])\n",
    "    print (i,gini, num_captured)\n",
    "    result.append((i,gini, num_captured))\n",
    "    \n",
    "pd.DataFrame(result)"
   ]
  },
  {
   "cell_type": "code",
   "execution_count": 60,
   "id": "39c9dccf",
   "metadata": {
    "ExecuteTime": {
     "end_time": "2022-11-30T15:36:44.187564Z",
     "start_time": "2022-11-30T15:36:44.150311Z"
    },
    "hide_input": true
   },
   "outputs": [
    {
     "data": {
      "text/html": [
       "<div>\n",
       "<style scoped>\n",
       "    .dataframe tbody tr th:only-of-type {\n",
       "        vertical-align: middle;\n",
       "    }\n",
       "\n",
       "    .dataframe tbody tr th {\n",
       "        vertical-align: top;\n",
       "    }\n",
       "\n",
       "    .dataframe thead th {\n",
       "        text-align: right;\n",
       "    }\n",
       "</style>\n",
       "<table border=\"1\" class=\"dataframe\">\n",
       "  <thead>\n",
       "    <tr style=\"text-align: right;\">\n",
       "      <th></th>\n",
       "      <th>target</th>\n",
       "      <th>target_clicks</th>\n",
       "      <th>target_carts</th>\n",
       "      <th>target_orders</th>\n",
       "      <th>session_id</th>\n",
       "      <th>aid</th>\n",
       "      <th>min_top20</th>\n",
       "      <th>avg_top20</th>\n",
       "      <th>max_top20</th>\n",
       "      <th>in_session</th>\n",
       "      <th>...</th>\n",
       "      <th>last_bought</th>\n",
       "      <th>bought_overall</th>\n",
       "      <th>seen_overall</th>\n",
       "      <th>num_clicks_same_day</th>\n",
       "      <th>num_carts_same_day</th>\n",
       "      <th>num_orders_same_day</th>\n",
       "      <th>null_flag</th>\n",
       "      <th>in_session_carted_not_ordered</th>\n",
       "      <th>in_session_clicked_not_carted</th>\n",
       "      <th>XGB_SCORE</th>\n",
       "    </tr>\n",
       "  </thead>\n",
       "  <tbody>\n",
       "    <tr>\n",
       "      <th>0</th>\n",
       "      <td>0.0</td>\n",
       "      <td>0.0</td>\n",
       "      <td>0.0</td>\n",
       "      <td>0.0</td>\n",
       "      <td>11098546.0</td>\n",
       "      <td>605.0</td>\n",
       "      <td>9.0</td>\n",
       "      <td>50.000000</td>\n",
       "      <td>91.0</td>\n",
       "      <td>0.0</td>\n",
       "      <td>...</td>\n",
       "      <td>5.625833</td>\n",
       "      <td>255.0</td>\n",
       "      <td>3004.0</td>\n",
       "      <td>9.0</td>\n",
       "      <td>1.0</td>\n",
       "      <td>1.0</td>\n",
       "      <td>1</td>\n",
       "      <td>0</td>\n",
       "      <td>0</td>\n",
       "      <td>0.069986</td>\n",
       "    </tr>\n",
       "    <tr>\n",
       "      <th>1</th>\n",
       "      <td>0.0</td>\n",
       "      <td>0.0</td>\n",
       "      <td>0.0</td>\n",
       "      <td>0.0</td>\n",
       "      <td>11098546.0</td>\n",
       "      <td>665.0</td>\n",
       "      <td>71.0</td>\n",
       "      <td>71.000000</td>\n",
       "      <td>71.0</td>\n",
       "      <td>0.0</td>\n",
       "      <td>...</td>\n",
       "      <td>171.533104</td>\n",
       "      <td>3.0</td>\n",
       "      <td>31.0</td>\n",
       "      <td>1.0</td>\n",
       "      <td>0.0</td>\n",
       "      <td>0.0</td>\n",
       "      <td>0</td>\n",
       "      <td>0</td>\n",
       "      <td>0</td>\n",
       "      <td>0.030844</td>\n",
       "    </tr>\n",
       "    <tr>\n",
       "      <th>2</th>\n",
       "      <td>0.0</td>\n",
       "      <td>0.0</td>\n",
       "      <td>0.0</td>\n",
       "      <td>0.0</td>\n",
       "      <td>11098546.0</td>\n",
       "      <td>1089.0</td>\n",
       "      <td>16.0</td>\n",
       "      <td>45.666667</td>\n",
       "      <td>82.0</td>\n",
       "      <td>0.0</td>\n",
       "      <td>...</td>\n",
       "      <td>1.657222</td>\n",
       "      <td>864.0</td>\n",
       "      <td>15026.0</td>\n",
       "      <td>127.0</td>\n",
       "      <td>1.0</td>\n",
       "      <td>0.0</td>\n",
       "      <td>1</td>\n",
       "      <td>0</td>\n",
       "      <td>0</td>\n",
       "      <td>0.036485</td>\n",
       "    </tr>\n",
       "    <tr>\n",
       "      <th>3</th>\n",
       "      <td>0.0</td>\n",
       "      <td>0.0</td>\n",
       "      <td>0.0</td>\n",
       "      <td>0.0</td>\n",
       "      <td>11098546.0</td>\n",
       "      <td>1303.0</td>\n",
       "      <td>35.0</td>\n",
       "      <td>60.500000</td>\n",
       "      <td>87.0</td>\n",
       "      <td>0.0</td>\n",
       "      <td>...</td>\n",
       "      <td>28.698889</td>\n",
       "      <td>464.0</td>\n",
       "      <td>4974.0</td>\n",
       "      <td>32.0</td>\n",
       "      <td>5.0</td>\n",
       "      <td>0.0</td>\n",
       "      <td>1</td>\n",
       "      <td>0</td>\n",
       "      <td>0</td>\n",
       "      <td>0.040843</td>\n",
       "    </tr>\n",
       "    <tr>\n",
       "      <th>4</th>\n",
       "      <td>0.0</td>\n",
       "      <td>0.0</td>\n",
       "      <td>0.0</td>\n",
       "      <td>0.0</td>\n",
       "      <td>11098546.0</td>\n",
       "      <td>1398.0</td>\n",
       "      <td>15.0</td>\n",
       "      <td>15.000000</td>\n",
       "      <td>15.0</td>\n",
       "      <td>0.0</td>\n",
       "      <td>...</td>\n",
       "      <td>NaN</td>\n",
       "      <td>0.0</td>\n",
       "      <td>11.0</td>\n",
       "      <td>NaN</td>\n",
       "      <td>NaN</td>\n",
       "      <td>NaN</td>\n",
       "      <td>0</td>\n",
       "      <td>0</td>\n",
       "      <td>0</td>\n",
       "      <td>0.059775</td>\n",
       "    </tr>\n",
       "  </tbody>\n",
       "</table>\n",
       "<p>5 rows × 55 columns</p>\n",
       "</div>"
      ],
      "text/plain": [
       "   target  target_clicks  target_carts  target_orders  session_id     aid  \\\n",
       "0     0.0            0.0           0.0            0.0  11098546.0   605.0   \n",
       "1     0.0            0.0           0.0            0.0  11098546.0   665.0   \n",
       "2     0.0            0.0           0.0            0.0  11098546.0  1089.0   \n",
       "3     0.0            0.0           0.0            0.0  11098546.0  1303.0   \n",
       "4     0.0            0.0           0.0            0.0  11098546.0  1398.0   \n",
       "\n",
       "   min_top20  avg_top20  max_top20  in_session  ...  last_bought  \\\n",
       "0        9.0  50.000000       91.0         0.0  ...     5.625833   \n",
       "1       71.0  71.000000       71.0         0.0  ...   171.533104   \n",
       "2       16.0  45.666667       82.0         0.0  ...     1.657222   \n",
       "3       35.0  60.500000       87.0         0.0  ...    28.698889   \n",
       "4       15.0  15.000000       15.0         0.0  ...          NaN   \n",
       "\n",
       "   bought_overall  seen_overall  num_clicks_same_day  num_carts_same_day  \\\n",
       "0           255.0        3004.0                  9.0                 1.0   \n",
       "1             3.0          31.0                  1.0                 0.0   \n",
       "2           864.0       15026.0                127.0                 1.0   \n",
       "3           464.0        4974.0                 32.0                 5.0   \n",
       "4             0.0          11.0                  NaN                 NaN   \n",
       "\n",
       "   num_orders_same_day  null_flag  in_session_carted_not_ordered  \\\n",
       "0                  1.0          1                              0   \n",
       "1                  0.0          0                              0   \n",
       "2                  0.0          1                              0   \n",
       "3                  0.0          1                              0   \n",
       "4                  NaN          0                              0   \n",
       "\n",
       "   in_session_clicked_not_carted  XGB_SCORE  \n",
       "0                              0   0.069986  \n",
       "1                              0   0.030844  \n",
       "2                              0   0.036485  \n",
       "3                              0   0.040843  \n",
       "4                              0   0.059775  \n",
       "\n",
       "[5 rows x 55 columns]"
      ]
     },
     "execution_count": 60,
     "metadata": {},
     "output_type": "execute_result"
    }
   ],
   "source": [
    "valid.head()"
   ]
  },
  {
   "cell_type": "code",
   "execution_count": 61,
   "id": "af31e5c9",
   "metadata": {
    "ExecuteTime": {
     "end_time": "2022-11-30T15:36:44.846967Z",
     "start_time": "2022-11-30T15:36:44.695099Z"
    }
   },
   "outputs": [
    {
     "data": {
      "text/plain": [
       "0.0    28769561\n",
       "1.0       38983\n",
       "Name: target, dtype: int64"
      ]
     },
     "execution_count": 61,
     "metadata": {},
     "output_type": "execute_result"
    }
   ],
   "source": [
    "valid[col_target].value_counts()"
   ]
  },
  {
   "cell_type": "code",
   "execution_count": 62,
   "id": "a952b9b0",
   "metadata": {
    "ExecuteTime": {
     "end_time": "2022-11-30T15:36:46.486084Z",
     "start_time": "2022-11-30T15:36:46.451023Z"
    }
   },
   "outputs": [
    {
     "ename": "NameError",
     "evalue": "name 'df' is not defined",
     "output_type": "error",
     "traceback": [
      "\u001b[1;31m---------------------------------------------------------------------------\u001b[0m",
      "\u001b[1;31mNameError\u001b[0m                                 Traceback (most recent call last)",
      "\u001b[1;32m~\\AppData\\Local\\Temp\\ipykernel_3020\\3312903398.py\u001b[0m in \u001b[0;36m<module>\u001b[1;34m\u001b[0m\n\u001b[1;32m----> 1\u001b[1;33m \u001b[0mcoverage\u001b[0m\u001b[1;33m=\u001b[0m\u001b[1;33m(\u001b[0m\u001b[0mpd\u001b[0m\u001b[1;33m.\u001b[0m\u001b[0mDataFrame\u001b[0m\u001b[1;33m(\u001b[0m\u001b[0mdf\u001b[0m\u001b[1;33m.\u001b[0m\u001b[0mgroupby\u001b[0m\u001b[1;33m(\u001b[0m\u001b[1;34m'session_id'\u001b[0m\u001b[1;33m)\u001b[0m\u001b[1;33m[\u001b[0m\u001b[0mcol_target\u001b[0m\u001b[1;33m]\u001b[0m\u001b[1;33m.\u001b[0m\u001b[0mapply\u001b[0m\u001b[1;33m(\u001b[0m\u001b[0mnp\u001b[0m\u001b[1;33m.\u001b[0m\u001b[0msum\u001b[0m\u001b[1;33m)\u001b[0m\u001b[1;33m)\u001b[0m\u001b[1;33m.\u001b[0m\u001b[0mreset_index\u001b[0m\u001b[1;33m(\u001b[0m\u001b[1;33m)\u001b[0m\u001b[1;33m)\u001b[0m\u001b[1;33m.\u001b[0m\u001b[0mmerge\u001b[0m\u001b[1;33m(\u001b[0m\u001b[0mdf\u001b[0m\u001b[1;33m.\u001b[0m\u001b[0mgroupby\u001b[0m\u001b[1;33m(\u001b[0m\u001b[1;34m'session_id'\u001b[0m\u001b[1;33m)\u001b[0m\u001b[1;33m[\u001b[0m\u001b[1;33m[\u001b[0m\u001b[1;34m'number_carts_orders'\u001b[0m\u001b[1;33m,\u001b[0m\u001b[1;34m'number_carts'\u001b[0m\u001b[1;33m,\u001b[0m \u001b[1;34m'number_orders'\u001b[0m\u001b[1;33m]\u001b[0m\u001b[1;33m]\u001b[0m\u001b[1;33m.\u001b[0m\u001b[0mapply\u001b[0m\u001b[1;33m(\u001b[0m\u001b[0mnp\u001b[0m\u001b[1;33m.\u001b[0m\u001b[0mmean\u001b[0m\u001b[1;33m)\u001b[0m\u001b[1;33m,\u001b[0m \u001b[0mhow\u001b[0m\u001b[1;33m=\u001b[0m\u001b[1;34m'inner'\u001b[0m\u001b[1;33m,\u001b[0m \u001b[0mon\u001b[0m\u001b[1;33m=\u001b[0m\u001b[1;34m'session_id'\u001b[0m\u001b[1;33m)\u001b[0m\u001b[1;33m\u001b[0m\u001b[1;33m\u001b[0m\u001b[0m\n\u001b[0m\u001b[0;32m      2\u001b[0m \u001b[0mtarget_coverage\u001b[0m\u001b[1;33m=\u001b[0m\u001b[0mnp\u001b[0m\u001b[1;33m.\u001b[0m\u001b[0msum\u001b[0m\u001b[1;33m(\u001b[0m\u001b[0mcoverage\u001b[0m\u001b[1;33m[\u001b[0m\u001b[0mcoverage\u001b[0m\u001b[1;33m[\u001b[0m\u001b[1;34m'number_carts_orders'\u001b[0m\u001b[1;33m]\u001b[0m\u001b[1;33m>\u001b[0m\u001b[1;36m0\u001b[0m\u001b[1;33m]\u001b[0m\u001b[1;33m[\u001b[0m\u001b[1;34m'target'\u001b[0m\u001b[1;33m]\u001b[0m\u001b[1;33m)\u001b[0m\u001b[1;33m/\u001b[0m\u001b[0mnp\u001b[0m\u001b[1;33m.\u001b[0m\u001b[0msum\u001b[0m\u001b[1;33m(\u001b[0m\u001b[0mcoverage\u001b[0m\u001b[1;33m[\u001b[0m\u001b[0mcoverage\u001b[0m\u001b[1;33m[\u001b[0m\u001b[1;34m'number_carts_orders'\u001b[0m\u001b[1;33m]\u001b[0m\u001b[1;33m>\u001b[0m\u001b[1;36m0\u001b[0m\u001b[1;33m]\u001b[0m\u001b[1;33m[\u001b[0m\u001b[1;34m'number_carts_orders'\u001b[0m\u001b[1;33m]\u001b[0m\u001b[1;33m.\u001b[0m\u001b[0mapply\u001b[0m\u001b[1;33m(\u001b[0m\u001b[1;32mlambda\u001b[0m \u001b[0mx\u001b[0m\u001b[1;33m:\u001b[0m \u001b[0mmin\u001b[0m\u001b[1;33m(\u001b[0m\u001b[1;33m[\u001b[0m\u001b[1;36m20\u001b[0m\u001b[1;33m,\u001b[0m\u001b[0mx\u001b[0m\u001b[1;33m]\u001b[0m\u001b[1;33m)\u001b[0m\u001b[1;33m)\u001b[0m\u001b[1;33m)\u001b[0m\u001b[1;33m\u001b[0m\u001b[1;33m\u001b[0m\u001b[0m\n\u001b[0;32m      3\u001b[0m \u001b[1;31m# target_avg_coverage=np.sum(coverage[coverage['number_carts_orders']>0]['target']/coverage[coverage['number_carts_orders']>0]['number_carts_orders'])\u001b[0m\u001b[1;33m\u001b[0m\u001b[1;33m\u001b[0m\u001b[0m\n\u001b[0;32m      4\u001b[0m \u001b[0mtarget_avg_coverage_carts\u001b[0m\u001b[1;33m=\u001b[0m\u001b[0mnp\u001b[0m\u001b[1;33m.\u001b[0m\u001b[0msum\u001b[0m\u001b[1;33m(\u001b[0m\u001b[0mcoverage\u001b[0m\u001b[1;33m[\u001b[0m\u001b[0mcoverage\u001b[0m\u001b[1;33m[\u001b[0m\u001b[1;34m'number_carts'\u001b[0m\u001b[1;33m]\u001b[0m\u001b[1;33m>\u001b[0m\u001b[1;36m0\u001b[0m\u001b[1;33m]\u001b[0m\u001b[1;33m[\u001b[0m\u001b[1;34m'target'\u001b[0m\u001b[1;33m]\u001b[0m\u001b[1;33m)\u001b[0m\u001b[1;33m/\u001b[0m\u001b[0mnp\u001b[0m\u001b[1;33m.\u001b[0m\u001b[0msum\u001b[0m\u001b[1;33m(\u001b[0m\u001b[0mcoverage\u001b[0m\u001b[1;33m[\u001b[0m\u001b[0mcoverage\u001b[0m\u001b[1;33m[\u001b[0m\u001b[1;34m'number_carts'\u001b[0m\u001b[1;33m]\u001b[0m\u001b[1;33m>\u001b[0m\u001b[1;36m0\u001b[0m\u001b[1;33m]\u001b[0m\u001b[1;33m[\u001b[0m\u001b[1;34m'number_carts'\u001b[0m\u001b[1;33m]\u001b[0m\u001b[1;33m.\u001b[0m\u001b[0mapply\u001b[0m\u001b[1;33m(\u001b[0m\u001b[1;32mlambda\u001b[0m \u001b[0mx\u001b[0m\u001b[1;33m:\u001b[0m \u001b[0mmin\u001b[0m\u001b[1;33m(\u001b[0m\u001b[1;33m[\u001b[0m\u001b[1;36m20\u001b[0m\u001b[1;33m,\u001b[0m\u001b[0mx\u001b[0m\u001b[1;33m]\u001b[0m\u001b[1;33m)\u001b[0m\u001b[1;33m)\u001b[0m\u001b[1;33m)\u001b[0m\u001b[1;33m\u001b[0m\u001b[1;33m\u001b[0m\u001b[0m\n\u001b[0;32m      5\u001b[0m \u001b[0mtarget_avg_coverage_orders\u001b[0m\u001b[1;33m=\u001b[0m\u001b[0mnp\u001b[0m\u001b[1;33m.\u001b[0m\u001b[0msum\u001b[0m\u001b[1;33m(\u001b[0m\u001b[0mcoverage\u001b[0m\u001b[1;33m[\u001b[0m\u001b[0mcoverage\u001b[0m\u001b[1;33m[\u001b[0m\u001b[1;34m'number_orders'\u001b[0m\u001b[1;33m]\u001b[0m\u001b[1;33m>\u001b[0m\u001b[1;36m0\u001b[0m\u001b[1;33m]\u001b[0m\u001b[1;33m[\u001b[0m\u001b[1;34m'target'\u001b[0m\u001b[1;33m]\u001b[0m\u001b[1;33m)\u001b[0m\u001b[1;33m/\u001b[0m\u001b[0mnp\u001b[0m\u001b[1;33m.\u001b[0m\u001b[0msum\u001b[0m\u001b[1;33m(\u001b[0m\u001b[0mcoverage\u001b[0m\u001b[1;33m[\u001b[0m\u001b[0mcoverage\u001b[0m\u001b[1;33m[\u001b[0m\u001b[1;34m'number_orders'\u001b[0m\u001b[1;33m]\u001b[0m\u001b[1;33m>\u001b[0m\u001b[1;36m0\u001b[0m\u001b[1;33m]\u001b[0m\u001b[1;33m[\u001b[0m\u001b[1;34m'number_orders'\u001b[0m\u001b[1;33m]\u001b[0m\u001b[1;33m.\u001b[0m\u001b[0mapply\u001b[0m\u001b[1;33m(\u001b[0m\u001b[1;32mlambda\u001b[0m \u001b[0mx\u001b[0m\u001b[1;33m:\u001b[0m \u001b[0mmin\u001b[0m\u001b[1;33m(\u001b[0m\u001b[1;33m[\u001b[0m\u001b[1;36m20\u001b[0m\u001b[1;33m,\u001b[0m\u001b[0mx\u001b[0m\u001b[1;33m]\u001b[0m\u001b[1;33m)\u001b[0m\u001b[1;33m)\u001b[0m\u001b[1;33m)\u001b[0m\u001b[1;33m\u001b[0m\u001b[1;33m\u001b[0m\u001b[0m\n",
      "\u001b[1;31mNameError\u001b[0m: name 'df' is not defined"
     ]
    }
   ],
   "source": [
    "coverage=(pd.DataFrame(df.groupby('session_id')[col_target].apply(np.sum)).reset_index()).merge(df.groupby('session_id')[['number_carts_orders','number_carts', 'number_orders']].apply(np.mean), how='inner', on='session_id')\n",
    "target_coverage=np.sum(coverage[coverage['number_carts_orders']>0]['target'])/np.sum(coverage[coverage['number_carts_orders']>0]['number_carts_orders'].apply(lambda x: min([20,x])))\n",
    "# target_avg_coverage=np.sum(coverage[coverage['number_carts_orders']>0]['target']/coverage[coverage['number_carts_orders']>0]['number_carts_orders'])\n",
    "target_avg_coverage_carts=np.sum(coverage[coverage['number_carts']>0]['target'])/np.sum(coverage[coverage['number_carts']>0]['number_carts'].apply(lambda x: min([20,x])))\n",
    "target_avg_coverage_orders=np.sum(coverage[coverage['number_orders']>0]['target'])/np.sum(coverage[coverage['number_orders']>0]['number_orders'].apply(lambda x: min([20,x])))\n",
    "\n",
    "print(f'The coverage of the target on the train set is: {target_coverage}')\n",
    "print(f'The mean coverage of carts on the train set is: {target_avg_coverage_carts}')\n",
    "print(f'The mean coverage of orders on the train set is: {target_avg_coverage_orders}')\n",
    "print(f'Max score possible with this set is: {0.1*0.5+0.3*target_avg_coverage_carts+0.6*target_avg_coverage_orders}')"
   ]
  },
  {
   "cell_type": "code",
   "execution_count": 63,
   "id": "fd5d39ee",
   "metadata": {
    "ExecuteTime": {
     "end_time": "2022-11-30T15:37:17.388770Z",
     "start_time": "2022-11-30T15:36:46.690597Z"
    }
   },
   "outputs": [
    {
     "name": "stdout",
     "output_type": "stream",
     "text": [
      "The coverage of the target on the valid set is: 0.7093974953160438\n",
      "The mean coverage of carts on the valid set is: 0.7493473883101708\n",
      "The mean coverage of orders on the valid set is: 0.910228802153432\n",
      "Max score possible with this set is: 0.8209414977851104\n"
     ]
    }
   ],
   "source": [
    "coverage=(pd.DataFrame(valid.groupby('session_id')[col_target].apply(np.sum)).reset_index()).merge(valid.groupby('session_id')[['number_carts_orders','number_carts', 'number_orders']].apply(np.mean), how='inner', on='session_id')\n",
    "target_coverage=np.sum(coverage[coverage['number_carts_orders']>0]['target'])/np.sum(coverage[coverage['number_carts_orders']>0]['number_carts_orders'].apply(lambda x: min([20,x])))\n",
    "# target_avg_coverage=np.sum(coverage[coverage['number_carts_orders']>0]['target']/coverage[coverage['number_carts_orders']>0]['number_carts_orders'])\n",
    "target_avg_coverage_carts=np.sum(coverage[coverage['number_carts']>0]['target'])/np.sum(coverage[coverage['number_carts']>0]['number_carts'].apply(lambda x: min([20,x])))\n",
    "target_avg_coverage_orders=np.sum(coverage[coverage['number_orders']>0]['target'])/np.sum(coverage[coverage['number_orders']>0]['number_orders'].apply(lambda x: min([20,x])))\n",
    "\n",
    "print(f'The coverage of the target on the valid set is: {target_coverage}')\n",
    "print(f'The mean coverage of carts on the valid set is: {target_avg_coverage_carts}')\n",
    "print(f'The mean coverage of orders on the valid set is: {target_avg_coverage_orders}')\n",
    "print(f'Max score possible with this set is: {0.1*0.5+0.3*target_avg_coverage_carts+0.6*target_avg_coverage_orders}')"
   ]
  },
  {
   "cell_type": "markdown",
   "id": "ebfdfe65",
   "metadata": {
    "ExecuteTime": {
     "end_time": "2022-11-20T12:44:42.896737Z",
     "start_time": "2022-11-20T12:44:42.882040Z"
    }
   },
   "source": [
    "## Submission XGB SCORE"
   ]
  },
  {
   "cell_type": "code",
   "execution_count": null,
   "id": "bb79eb82",
   "metadata": {
    "ExecuteTime": {
     "start_time": "2022-11-30T15:37:39.204Z"
    },
    "hide_input": false
   },
   "outputs": [],
   "source": [
    "a=valid.groupby('session_id').apply(lambda x : x.sort_values(by = ['XGB_SCORE'], ascending = [False]).head(20).reset_index(drop = True)).reset_index(drop = True)\n",
    "a['session_id']=a['session_id'].apply(lambda x: str(int(x)))\n",
    "a['aid']=a['aid'].apply(lambda x: str(int(x)))\n",
    "    \n",
    "pred_df=pd.DataFrame(a.groupby('session_id')['aid'].apply(list).apply(' '.join)).reset_index(drop=False).rename(columns={'aid':'labels'})"
   ]
  },
  {
   "cell_type": "code",
   "execution_count": null,
   "id": "608d8d84",
   "metadata": {
    "ExecuteTime": {
     "start_time": "2022-11-30T15:37:39.205Z"
    },
    "hide_input": false
   },
   "outputs": [],
   "source": [
    "# a=valid.groupby('session_id').apply(lambda x : x.sort_values(by = ['in_session','times_in_top20','XGB_SCORE'], ascending = [False,False,False]).head(20).reset_index(drop = True)).reset_index(drop = True)\n",
    "# a['session_id']=a['session_id'].apply(lambda x: str(int(x)))\n",
    "# a['aid']=a['aid'].apply(lambda x: str(int(x)))\n",
    "    \n",
    "# pred_df=pd.DataFrame(a.groupby('session_id')['aid'].apply(list).apply(' '.join)).reset_index(drop=False).rename(columns={'aid':'labels'})"
   ]
  },
  {
   "cell_type": "code",
   "execution_count": null,
   "id": "333b1746",
   "metadata": {
    "ExecuteTime": {
     "start_time": "2022-11-30T15:37:39.206Z"
    }
   },
   "outputs": [],
   "source": [
    "# TOP CLICKS AND ORDERS IN TEST\n",
    "top_clicks = ['485256', '1460571','108125','1551213','33343','613493','876493','152547','184976','1236775'\n",
    "              ,'1406660','836852','331708','1531805','29735','554660','634452','986164','959208','832192']\n",
    "\n",
    "top_carts = ['485256', '33343','613493','152547','876493','1406660','1736857','166037','1460571','1236775'\n",
    "             ,'554660','660655','1531805','1022566','231487','122983','1562705','923948','332654','544144']\n",
    "\n",
    "top_orders = ['876493', '1406660','1236775','166037','1460571','1531805','836852','634452','923948','1043508'\n",
    "             ,'832192','258353','801774','332654','1596897','29735','544144','1581568','1462420','1006198']"
   ]
  },
  {
   "cell_type": "code",
   "execution_count": null,
   "id": "45645d8e",
   "metadata": {
    "ExecuteTime": {
     "start_time": "2022-11-30T15:37:39.207Z"
    },
    "hide_input": true
   },
   "outputs": [],
   "source": [
    "submission_clicks_valid=pred_df.copy()\n",
    "submission_carts_valid=pred_df.copy()\n",
    "submission_orders_valid=pred_df.copy()\n",
    "\n",
    "submission_clicks_valid['session_type']=submission_clicks_valid['session_id'].apply(lambda x: x+'_clicks')\n",
    "submission_carts_valid['session_type']=submission_carts_valid['session_id'].apply(lambda x: x+'_carts')\n",
    "submission_orders_valid['session_type']=submission_orders_valid['session_id'].apply(lambda x: x+'_orders')     "
   ]
  },
  {
   "cell_type": "code",
   "execution_count": null,
   "id": "2283a5d9",
   "metadata": {
    "ExecuteTime": {
     "start_time": "2022-11-30T15:37:39.208Z"
    },
    "hide_input": true
   },
   "outputs": [],
   "source": [
    "submission_clicks_valid['labels']=submission_clicks_valid['labels'].apply(lambda x: list(x.split(' ')) + top_clicks).apply(lambda x: ' '.join(list(dict.fromkeys(x))[0:20]))\n",
    "submission_carts_valid['labels']=submission_carts_valid['labels'].apply(lambda x: list(x.split(' ')) + top_carts).apply(lambda x: ' '.join(list(dict.fromkeys(x))[0:20]))\n",
    "submission_orders_valid['labels']=submission_orders_valid['labels'].apply(lambda x: list(x.split(' ')) + top_carts).apply(lambda x: ' '.join(list(dict.fromkeys(x))[0:20]))"
   ]
  },
  {
   "cell_type": "code",
   "execution_count": null,
   "id": "a6e3a72a",
   "metadata": {
    "ExecuteTime": {
     "start_time": "2022-11-30T15:37:39.209Z"
    },
    "hide_input": true
   },
   "outputs": [],
   "source": [
    "submission_final_valid=pd.concat([submission_clicks_valid[['session_type', 'labels']],submission_carts_valid[['session_type', 'labels']],submission_orders_valid[['session_type', 'labels']]])"
   ]
  },
  {
   "cell_type": "code",
   "execution_count": null,
   "id": "4d79747f",
   "metadata": {
    "ExecuteTime": {
     "start_time": "2022-11-30T15:37:39.210Z"
    }
   },
   "outputs": [],
   "source": [
    "# COMPUTE METRIC\n",
    "score = 0\n",
    "weights = {'clicks': 0.10, 'carts': 0.30, 'orders': 0.60}\n",
    "for t in ['clicks','carts','orders']:\n",
    "    sub = submission_final_valid.loc[submission_final_valid.session_type.str.contains(t)].copy()\n",
    "    sub['session'] = sub.session_type.apply(lambda x: int(x.split('_')[0]))\n",
    "    sub.labels = sub.labels.apply(lambda x: [int(i) for i in x.split(' ')[:20]])\n",
    "    test_labels = pd.read_parquet('test_cv_labels.parquet')\n",
    "    test_labels = test_labels.loc[test_labels['type']==t]\n",
    "    test_labels = test_labels.merge(sub, how='inner', on=['session'])\n",
    "    test_labels['hits'] = test_labels.apply(lambda df: len(set(df.ground_truth).intersection(set(df.labels))), axis=1)\n",
    "    test_labels['gt_count'] = test_labels.ground_truth.str.len().clip(0,20)\n",
    "    recall = test_labels['hits'].sum() / test_labels['gt_count'].sum()\n",
    "    score += weights[t]*recall\n",
    "    print(f'{t} recall =',recall)\n",
    "    \n",
    "print('=============')\n",
    "print('Overall Recall =',score)\n",
    "print('=============')"
   ]
  },
  {
   "cell_type": "markdown",
   "id": "a350e793",
   "metadata": {
    "ExecuteTime": {
     "end_time": "2022-11-20T14:47:53.897232Z",
     "start_time": "2022-11-20T14:47:53.887223Z"
    }
   },
   "source": [
    "# Misc"
   ]
  }
 ],
 "metadata": {
  "hide_input": false,
  "kernelspec": {
   "display_name": "Python 3 (ipykernel)",
   "language": "python",
   "name": "python3"
  },
  "language_info": {
   "codemirror_mode": {
    "name": "ipython",
    "version": 3
   },
   "file_extension": ".py",
   "mimetype": "text/x-python",
   "name": "python",
   "nbconvert_exporter": "python",
   "pygments_lexer": "ipython3",
   "version": "3.9.13"
  },
  "toc": {
   "base_numbering": 1,
   "nav_menu": {},
   "number_sections": true,
   "sideBar": true,
   "skip_h1_title": false,
   "title_cell": "Table of Contents",
   "title_sidebar": "Contents",
   "toc_cell": true,
   "toc_position": {
    "height": "calc(100% - 180px)",
    "left": "10px",
    "top": "150px",
    "width": "341.594px"
   },
   "toc_section_display": false,
   "toc_window_display": true
  },
  "varInspector": {
   "cols": {
    "lenName": 16,
    "lenType": 16,
    "lenVar": 40
   },
   "kernels_config": {
    "python": {
     "delete_cmd_postfix": "",
     "delete_cmd_prefix": "del ",
     "library": "var_list.py",
     "varRefreshCmd": "print(var_dic_list())"
    },
    "r": {
     "delete_cmd_postfix": ") ",
     "delete_cmd_prefix": "rm(",
     "library": "var_list.r",
     "varRefreshCmd": "cat(var_dic_list()) "
    }
   },
   "oldHeight": 122.844,
   "position": {
    "height": "144.844px",
    "left": "1503px",
    "right": "20px",
    "top": "120px",
    "width": "350px"
   },
   "types_to_exclude": [
    "module",
    "function",
    "builtin_function_or_method",
    "instance",
    "_Feature"
   ],
   "varInspector_section_display": "block",
   "window_display": false
  }
 },
 "nbformat": 4,
 "nbformat_minor": 5
}
