{
 "cells": [
  {
   "cell_type": "markdown",
   "id": "5d8af747",
   "metadata": {
    "toc": true
   },
   "source": [
    "<h1>Table of Contents<span class=\"tocSkip\"></span></h1>\n",
    "<div class=\"toc\"><ul class=\"toc-item\"><li><span><a href=\"#Data-exploration\" data-toc-modified-id=\"Data-exploration-1\"><span class=\"toc-item-num\">1&nbsp;&nbsp;</span>Data exploration</a></span></li><li><span><a href=\"#Ridge-Regression-model\" data-toc-modified-id=\"Ridge-Regression-model-2\"><span class=\"toc-item-num\">2&nbsp;&nbsp;</span>Ridge Regression model</a></span><ul class=\"toc-item\"><li><span><a href=\"#Hyperparameter-tuning\" data-toc-modified-id=\"Hyperparameter-tuning-2.1\"><span class=\"toc-item-num\">2.1&nbsp;&nbsp;</span>Hyperparameter tuning</a></span></li><li><span><a href=\"#Model-fitting\" data-toc-modified-id=\"Model-fitting-2.2\"><span class=\"toc-item-num\">2.2&nbsp;&nbsp;</span>Model fitting</a></span></li></ul></li><li><span><a href=\"#Saving-the-model\" data-toc-modified-id=\"Saving-the-model-3\"><span class=\"toc-item-num\">3&nbsp;&nbsp;</span>Saving the model</a></span></li><li><span><a href=\"#Validation-check\" data-toc-modified-id=\"Validation-check-4\"><span class=\"toc-item-num\">4&nbsp;&nbsp;</span>Validation check</a></span><ul class=\"toc-item\"><li><span><a href=\"#Submission-XGB-SCORE\" data-toc-modified-id=\"Submission-XGB-SCORE-4.1\"><span class=\"toc-item-num\">4.1&nbsp;&nbsp;</span>Submission XGB SCORE</a></span></li></ul></li><li><span><a href=\"#Misc\" data-toc-modified-id=\"Misc-5\"><span class=\"toc-item-num\">5&nbsp;&nbsp;</span>Misc</a></span></li></ul></div>"
   ]
  },
  {
   "cell_type": "code",
   "execution_count": 29,
   "id": "fe6e2a02",
   "metadata": {
    "ExecuteTime": {
     "end_time": "2022-12-01T17:28:43.354734Z",
     "start_time": "2022-12-01T17:28:43.347739Z"
    }
   },
   "outputs": [],
   "source": [
    "import warnings\n",
    "warnings.filterwarnings('ignore')"
   ]
  },
  {
   "cell_type": "code",
   "execution_count": 30,
   "id": "daec666a",
   "metadata": {
    "ExecuteTime": {
     "end_time": "2022-12-01T17:28:43.370734Z",
     "start_time": "2022-12-01T17:28:43.355734Z"
    }
   },
   "outputs": [],
   "source": [
    "import pandas as pd\n",
    "import numpy as np\n",
    "import random\n",
    "import mofr\n",
    "import matplotlib.pyplot as plt\n",
    "import seaborn as sns\n",
    "from sklearn.model_selection import train_test_split\n",
    "from xgboost import XGBClassifier, plot_tree\n",
    "from lightgbm import LGBMClassifier, plot_tree #LGBMRanker\n",
    "import math\n",
    "import pickle\n",
    "import statsmodels.api as sm\n",
    "\n",
    "\n",
    "import xgboost as xgb"
   ]
  },
  {
   "cell_type": "code",
   "execution_count": 31,
   "id": "f7a31fce",
   "metadata": {
    "ExecuteTime": {
     "end_time": "2022-12-01T17:28:43.386734Z",
     "start_time": "2022-12-01T17:28:43.371733Z"
    }
   },
   "outputs": [],
   "source": [
    "seed=1234"
   ]
  },
  {
   "cell_type": "code",
   "execution_count": 32,
   "id": "dcfa2f92",
   "metadata": {
    "ExecuteTime": {
     "end_time": "2022-12-01T17:28:43.402529Z",
     "start_time": "2022-12-01T17:28:43.388746Z"
    }
   },
   "outputs": [],
   "source": [
    "# file = open(\"type2id.pkl\",'rb')\n",
    "# object_file = pickle.load(file)"
   ]
  },
  {
   "cell_type": "code",
   "execution_count": 33,
   "id": "2f4ff81c",
   "metadata": {
    "ExecuteTime": {
     "end_time": "2022-12-01T17:28:43.418605Z",
     "start_time": "2022-12-01T17:28:43.403530Z"
    }
   },
   "outputs": [],
   "source": [
    "file_name = \"otto_ridgeregression_model_13_cv.pkl\""
   ]
  },
  {
   "cell_type": "code",
   "execution_count": 34,
   "id": "fe3c0294",
   "metadata": {
    "ExecuteTime": {
     "end_time": "2022-12-01T17:29:01.092370Z",
     "start_time": "2022-12-01T17:28:43.420599Z"
    }
   },
   "outputs": [],
   "source": [
    "df=pd.read_parquet('train_sample_full_cv_3targets_experimental.parquet')#train_sample_full_cv_hidden_targets_float\n",
    "# valid=pd.read_parquet('valid_sample_full_cv_3targets_experimental.parquet')"
   ]
  },
  {
   "cell_type": "code",
   "execution_count": 35,
   "id": "78d048eb",
   "metadata": {
    "ExecuteTime": {
     "end_time": "2022-12-01T17:29:01.108371Z",
     "start_time": "2022-12-01T17:29:01.094370Z"
    },
    "scrolled": true
   },
   "outputs": [],
   "source": [
    "# df=df[df['MIN_TOP20']<=30]\n",
    "# valid=valid[valid['MIN_TOP20']<=30]"
   ]
  },
  {
   "cell_type": "code",
   "execution_count": 36,
   "id": "82cfc048",
   "metadata": {
    "ExecuteTime": {
     "end_time": "2022-12-01T17:29:01.124380Z",
     "start_time": "2022-12-01T17:29:01.109372Z"
    }
   },
   "outputs": [],
   "source": [
    "# df=pd.concat([df,valid])"
   ]
  },
  {
   "cell_type": "code",
   "execution_count": 37,
   "id": "f3f3eb9f",
   "metadata": {
    "ExecuteTime": {
     "end_time": "2022-12-01T17:29:01.156384Z",
     "start_time": "2022-12-01T17:29:01.125373Z"
    }
   },
   "outputs": [],
   "source": [
    "df.columns=[x.lower() for x in df.columns]\n",
    "# valid.columns=[x.lower() for x in valid.columns]"
   ]
  },
  {
   "cell_type": "code",
   "execution_count": 38,
   "id": "2546e003",
   "metadata": {
    "ExecuteTime": {
     "end_time": "2022-12-01T17:29:01.714372Z",
     "start_time": "2022-12-01T17:29:01.159373Z"
    }
   },
   "outputs": [],
   "source": [
    "# sessions_with_orders=pd.DataFrame(df.groupby('session_id')['target'].sum()).reset_index()\n",
    "# sessions_with_orders=sessions_with_orders[sessions_with_orders['target']>0]\n",
    "# df=df.merge(sessions_with_orders['session_id'], how='inner', on='session_id')"
   ]
  },
  {
   "cell_type": "code",
   "execution_count": 39,
   "id": "54bfc461",
   "metadata": {
    "ExecuteTime": {
     "end_time": "2022-12-01T17:29:01.840599Z",
     "start_time": "2022-12-01T17:29:01.715373Z"
    }
   },
   "outputs": [
    {
     "name": "stdout",
     "output_type": "stream",
     "text": [
      "<class 'pandas.core.frame.DataFrame'>\n",
      "RangeIndex: 36070696 entries, 0 to 36070695\n",
      "Data columns (total 51 columns):\n",
      " #   Column                          Dtype  \n",
      "---  ------                          -----  \n",
      " 0   target                          float64\n",
      " 1   target_clicks                   float64\n",
      " 2   target_carts                    float64\n",
      " 3   target_orders                   float64\n",
      " 4   session_id                      float64\n",
      " 5   aid                             float64\n",
      " 6   min_top20                       float64\n",
      " 7   avg_top20                       float64\n",
      " 8   max_top20                       float64\n",
      " 9   in_session                      float64\n",
      " 10  in_session_clicked              float64\n",
      " 11  in_session_carted               float64\n",
      " 12  in_session_ordered              float64\n",
      " 13  in_session_score                float64\n",
      " 14  in_session_score_time_weighted  float64\n",
      " 15  times_in_top20                  float64\n",
      " 16  times_in_top20_last_week        float64\n",
      " 17  min_order_hours_from_click_avg  float64\n",
      " 18  avg_order_hours_from_click_avg  float64\n",
      " 19  avg_num_sessions_ordered        float64\n",
      " 20  sum_num_sessions_ordered        float64\n",
      " 21  avg_num_occured_overall         float64\n",
      " 22  sum_num_occured_overall         float64\n",
      " 23  last_num_sessions_ordered       float64\n",
      " 24  last_hour_num_sessions_ordered  float64\n",
      " 25  num_times_ordered_overall       float64\n",
      " 26  sess_num_events                 float64\n",
      " 27  sess_num_clicks                 float64\n",
      " 28  sess_num_carts                  float64\n",
      " 29  sess_num_orders                 float64\n",
      " 30  sess_num_clicks_last_hour       float64\n",
      " 31  sess_num_carts_last_hour        float64\n",
      " 32  sess_num_orders_last_hour       float64\n",
      " 33  sess_duration                   float64\n",
      " 34  sess_days_till_test             float64\n",
      " 35  sess_minute                     float64\n",
      " 36  sess_hour                       float64\n",
      " 37  sess_dayofweek                  float64\n",
      " 38  sess_dayofmonth                 float64\n",
      " 39  number_carts_orders             float64\n",
      " 40  number_carts                    float64\n",
      " 41  number_orders                   float64\n",
      " 42  first_seen                      float64\n",
      " 43  last_seen                       float64\n",
      " 44  first_bought                    float64\n",
      " 45  last_bought                     float64\n",
      " 46  bought_overall                  float64\n",
      " 47  seen_overall                    float64\n",
      " 48  num_clicks_same_day             float64\n",
      " 49  num_carts_same_day              float64\n",
      " 50  num_orders_same_day             float64\n",
      "dtypes: float64(51)\n",
      "memory usage: 13.7 GB\n"
     ]
    }
   ],
   "source": [
    "df.info()"
   ]
  },
  {
   "cell_type": "code",
   "execution_count": 40,
   "id": "55a008cf",
   "metadata": {
    "ExecuteTime": {
     "end_time": "2022-12-01T17:29:01.936726Z",
     "start_time": "2022-12-01T17:29:01.841619Z"
    }
   },
   "outputs": [
    {
     "data": {
      "text/html": [
       "<div>\n",
       "<style scoped>\n",
       "    .dataframe tbody tr th:only-of-type {\n",
       "        vertical-align: middle;\n",
       "    }\n",
       "\n",
       "    .dataframe tbody tr th {\n",
       "        vertical-align: top;\n",
       "    }\n",
       "\n",
       "    .dataframe thead th {\n",
       "        text-align: right;\n",
       "    }\n",
       "</style>\n",
       "<table border=\"1\" class=\"dataframe\">\n",
       "  <thead>\n",
       "    <tr style=\"text-align: right;\">\n",
       "      <th></th>\n",
       "      <th>target</th>\n",
       "      <th>target_clicks</th>\n",
       "      <th>target_carts</th>\n",
       "      <th>target_orders</th>\n",
       "      <th>session_id</th>\n",
       "      <th>aid</th>\n",
       "      <th>min_top20</th>\n",
       "      <th>avg_top20</th>\n",
       "      <th>max_top20</th>\n",
       "      <th>in_session</th>\n",
       "      <th>...</th>\n",
       "      <th>number_orders</th>\n",
       "      <th>first_seen</th>\n",
       "      <th>last_seen</th>\n",
       "      <th>first_bought</th>\n",
       "      <th>last_bought</th>\n",
       "      <th>bought_overall</th>\n",
       "      <th>seen_overall</th>\n",
       "      <th>num_clicks_same_day</th>\n",
       "      <th>num_carts_same_day</th>\n",
       "      <th>num_orders_same_day</th>\n",
       "    </tr>\n",
       "  </thead>\n",
       "  <tbody>\n",
       "    <tr>\n",
       "      <th>0</th>\n",
       "      <td>0.0</td>\n",
       "      <td>0.0</td>\n",
       "      <td>0.0</td>\n",
       "      <td>0.0</td>\n",
       "      <td>10096508.0</td>\n",
       "      <td>1658869.0</td>\n",
       "      <td>83.0</td>\n",
       "      <td>83.0</td>\n",
       "      <td>83.0</td>\n",
       "      <td>0.0</td>\n",
       "      <td>...</td>\n",
       "      <td>0.0</td>\n",
       "      <td>503.275254</td>\n",
       "      <td>0.267939</td>\n",
       "      <td>503.275254</td>\n",
       "      <td>82.948090</td>\n",
       "      <td>41.0</td>\n",
       "      <td>215.0</td>\n",
       "      <td>1.0</td>\n",
       "      <td>1.0</td>\n",
       "      <td>0.0</td>\n",
       "    </tr>\n",
       "    <tr>\n",
       "      <th>1</th>\n",
       "      <td>0.0</td>\n",
       "      <td>0.0</td>\n",
       "      <td>0.0</td>\n",
       "      <td>0.0</td>\n",
       "      <td>10096508.0</td>\n",
       "      <td>1662207.0</td>\n",
       "      <td>38.0</td>\n",
       "      <td>51.0</td>\n",
       "      <td>64.0</td>\n",
       "      <td>0.0</td>\n",
       "      <td>...</td>\n",
       "      <td>0.0</td>\n",
       "      <td>482.900077</td>\n",
       "      <td>102.934701</td>\n",
       "      <td>NaN</td>\n",
       "      <td>NaN</td>\n",
       "      <td>0.0</td>\n",
       "      <td>118.0</td>\n",
       "      <td>NaN</td>\n",
       "      <td>NaN</td>\n",
       "      <td>NaN</td>\n",
       "    </tr>\n",
       "    <tr>\n",
       "      <th>2</th>\n",
       "      <td>0.0</td>\n",
       "      <td>0.0</td>\n",
       "      <td>0.0</td>\n",
       "      <td>0.0</td>\n",
       "      <td>10096508.0</td>\n",
       "      <td>1662799.0</td>\n",
       "      <td>31.0</td>\n",
       "      <td>31.0</td>\n",
       "      <td>31.0</td>\n",
       "      <td>0.0</td>\n",
       "      <td>...</td>\n",
       "      <td>0.0</td>\n",
       "      <td>485.097319</td>\n",
       "      <td>154.847848</td>\n",
       "      <td>485.097319</td>\n",
       "      <td>179.171330</td>\n",
       "      <td>3.0</td>\n",
       "      <td>24.0</td>\n",
       "      <td>NaN</td>\n",
       "      <td>NaN</td>\n",
       "      <td>NaN</td>\n",
       "    </tr>\n",
       "    <tr>\n",
       "      <th>3</th>\n",
       "      <td>0.0</td>\n",
       "      <td>0.0</td>\n",
       "      <td>0.0</td>\n",
       "      <td>0.0</td>\n",
       "      <td>10096508.0</td>\n",
       "      <td>1666231.0</td>\n",
       "      <td>70.0</td>\n",
       "      <td>78.0</td>\n",
       "      <td>82.0</td>\n",
       "      <td>0.0</td>\n",
       "      <td>...</td>\n",
       "      <td>0.0</td>\n",
       "      <td>503.217558</td>\n",
       "      <td>1.789421</td>\n",
       "      <td>420.395221</td>\n",
       "      <td>35.984462</td>\n",
       "      <td>13.0</td>\n",
       "      <td>1346.0</td>\n",
       "      <td>19.0</td>\n",
       "      <td>0.0</td>\n",
       "      <td>0.0</td>\n",
       "    </tr>\n",
       "    <tr>\n",
       "      <th>4</th>\n",
       "      <td>0.0</td>\n",
       "      <td>0.0</td>\n",
       "      <td>0.0</td>\n",
       "      <td>0.0</td>\n",
       "      <td>10096508.0</td>\n",
       "      <td>1672174.0</td>\n",
       "      <td>54.0</td>\n",
       "      <td>54.0</td>\n",
       "      <td>54.0</td>\n",
       "      <td>0.0</td>\n",
       "      <td>...</td>\n",
       "      <td>0.0</td>\n",
       "      <td>503.362728</td>\n",
       "      <td>2.192727</td>\n",
       "      <td>463.477754</td>\n",
       "      <td>183.506358</td>\n",
       "      <td>23.0</td>\n",
       "      <td>193.0</td>\n",
       "      <td>2.0</td>\n",
       "      <td>0.0</td>\n",
       "      <td>0.0</td>\n",
       "    </tr>\n",
       "  </tbody>\n",
       "</table>\n",
       "<p>5 rows × 51 columns</p>\n",
       "</div>"
      ],
      "text/plain": [
       "   target  target_clicks  target_carts  target_orders  session_id        aid  \\\n",
       "0     0.0            0.0           0.0            0.0  10096508.0  1658869.0   \n",
       "1     0.0            0.0           0.0            0.0  10096508.0  1662207.0   \n",
       "2     0.0            0.0           0.0            0.0  10096508.0  1662799.0   \n",
       "3     0.0            0.0           0.0            0.0  10096508.0  1666231.0   \n",
       "4     0.0            0.0           0.0            0.0  10096508.0  1672174.0   \n",
       "\n",
       "   min_top20  avg_top20  max_top20  in_session  ...  number_orders  \\\n",
       "0       83.0       83.0       83.0         0.0  ...            0.0   \n",
       "1       38.0       51.0       64.0         0.0  ...            0.0   \n",
       "2       31.0       31.0       31.0         0.0  ...            0.0   \n",
       "3       70.0       78.0       82.0         0.0  ...            0.0   \n",
       "4       54.0       54.0       54.0         0.0  ...            0.0   \n",
       "\n",
       "   first_seen   last_seen  first_bought  last_bought  bought_overall  \\\n",
       "0  503.275254    0.267939    503.275254    82.948090            41.0   \n",
       "1  482.900077  102.934701           NaN          NaN             0.0   \n",
       "2  485.097319  154.847848    485.097319   179.171330             3.0   \n",
       "3  503.217558    1.789421    420.395221    35.984462            13.0   \n",
       "4  503.362728    2.192727    463.477754   183.506358            23.0   \n",
       "\n",
       "   seen_overall  num_clicks_same_day  num_carts_same_day  num_orders_same_day  \n",
       "0         215.0                  1.0                 1.0                  0.0  \n",
       "1         118.0                  NaN                 NaN                  NaN  \n",
       "2          24.0                  NaN                 NaN                  NaN  \n",
       "3        1346.0                 19.0                 0.0                  0.0  \n",
       "4         193.0                  2.0                 0.0                  0.0  \n",
       "\n",
       "[5 rows x 51 columns]"
      ]
     },
     "execution_count": 40,
     "metadata": {},
     "output_type": "execute_result"
    }
   ],
   "source": [
    "df.head()"
   ]
  },
  {
   "cell_type": "code",
   "execution_count": 41,
   "id": "d66062f6",
   "metadata": {
    "ExecuteTime": {
     "end_time": "2022-12-01T17:29:20.571462Z",
     "start_time": "2022-12-01T17:29:01.939710Z"
    }
   },
   "outputs": [],
   "source": [
    "df['null_flag']=(df['avg_order_hours_from_click_avg']<99999).apply(int)\n",
    "df['in_session_carted_not_ordered']=((df['in_session_carted']>0)&(df['in_session_ordered']==0)).apply(int)\n",
    "df['in_session_clicked_not_carted']=((df['in_session_clicked']>0)&(df['in_session_carted']==0)).apply(int)\n",
    "# valid['null_flag']=(valid['avg_order_hours_from_click_avg']<99999).apply(int)\n",
    "# valid['in_session_carted_not_ordered']=((valid['in_session_carted']>0)&(valid['in_session_ordered']==0)).apply(int)\n",
    "# valid['in_session_clicked_not_carted']=((valid['in_session_clicked']>0)&(valid['in_session_carted']==0)).apply(int)"
   ]
  },
  {
   "cell_type": "code",
   "execution_count": 42,
   "id": "9726a4f1",
   "metadata": {
    "ExecuteTime": {
     "end_time": "2022-12-01T17:29:20.762474Z",
     "start_time": "2022-12-01T17:29:20.573461Z"
    }
   },
   "outputs": [
    {
     "data": {
      "text/plain": [
       "1    0.753876\n",
       "0    0.246124\n",
       "Name: null_flag, dtype: float64"
      ]
     },
     "execution_count": 42,
     "metadata": {},
     "output_type": "execute_result"
    }
   ],
   "source": [
    "df['null_flag'].value_counts(normalize=True)"
   ]
  },
  {
   "cell_type": "code",
   "execution_count": 43,
   "id": "a46ae7eb",
   "metadata": {
    "ExecuteTime": {
     "end_time": "2022-12-01T17:29:21.638680Z",
     "start_time": "2022-12-01T17:29:20.764465Z"
    }
   },
   "outputs": [
    {
     "data": {
      "text/plain": [
       "0.0    36031474\n",
       "1.0       39222\n",
       "Name: target, dtype: int64"
      ]
     },
     "execution_count": 43,
     "metadata": {},
     "output_type": "execute_result"
    }
   ],
   "source": [
    "df['target'].value_counts()"
   ]
  },
  {
   "cell_type": "code",
   "execution_count": 44,
   "id": "c43946b8",
   "metadata": {
    "ExecuteTime": {
     "end_time": "2022-12-01T17:29:21.654680Z",
     "start_time": "2022-12-01T17:29:21.639680Z"
    }
   },
   "outputs": [],
   "source": [
    "#df=df[df['null_flag']==1].reset_index()\n",
    "#valid=valid[valid['null_flag']==1].reset_index()"
   ]
  },
  {
   "cell_type": "code",
   "execution_count": 45,
   "id": "7e20d220",
   "metadata": {
    "ExecuteTime": {
     "end_time": "2022-12-01T17:29:21.814747Z",
     "start_time": "2022-12-01T17:29:21.656679Z"
    }
   },
   "outputs": [
    {
     "data": {
      "text/plain": [
       "0.0    36031474\n",
       "1.0       39222\n",
       "Name: target, dtype: int64"
      ]
     },
     "execution_count": 45,
     "metadata": {},
     "output_type": "execute_result"
    }
   ],
   "source": [
    "df['target'].value_counts()"
   ]
  },
  {
   "cell_type": "code",
   "execution_count": 46,
   "id": "14bd5920",
   "metadata": {
    "ExecuteTime": {
     "end_time": "2022-12-01T17:29:21.830725Z",
     "start_time": "2022-12-01T17:29:21.816680Z"
    }
   },
   "outputs": [],
   "source": [
    "# rand=np.random.randint(1, 11, df.shape[0])\n",
    "\n",
    "# train_mask=(df['sess_days_till_test']+df['sess_duration']/24)>0#rand<=8\n",
    "# valid_mask=(df['sess_days_till_test']+df['sess_duration']/24)>0#rand>8"
   ]
  },
  {
   "cell_type": "code",
   "execution_count": 47,
   "id": "bd81e8e4",
   "metadata": {
    "ExecuteTime": {
     "end_time": "2022-12-01T17:29:21.846682Z",
     "start_time": "2022-12-01T17:29:21.831682Z"
    }
   },
   "outputs": [],
   "source": [
    "# df[train_mask]['target'].value_counts()"
   ]
  },
  {
   "cell_type": "code",
   "execution_count": 48,
   "id": "ae9c452a",
   "metadata": {
    "ExecuteTime": {
     "end_time": "2022-12-01T17:29:21.862680Z",
     "start_time": "2022-12-01T17:29:21.848682Z"
    }
   },
   "outputs": [],
   "source": [
    "# df[valid_mask]['target'].value_counts()"
   ]
  },
  {
   "cell_type": "code",
   "execution_count": 49,
   "id": "a0108774",
   "metadata": {
    "ExecuteTime": {
     "end_time": "2022-12-01T17:29:21.894681Z",
     "start_time": "2022-12-01T17:29:21.863680Z"
    }
   },
   "outputs": [],
   "source": [
    "col_target='target'\n",
    "col_exclude=[\n",
    "'session_id',\n",
    "'aid',\n",
    "# 'num_times_ordered_overall',\n",
    "'number_carts_orders',\n",
    "'number_carts',\n",
    "'number_orders',\n",
    "'sess_days_till_test',\n",
    "'sess_dayofmonth',\n",
    "# 'in_session',\n",
    "# 'in_session_clicked',\n",
    "# 'in_session_carted',\n",
    "#  'in_session_ordered',\n",
    "#  'in_session_score',\n",
    "'first_seen',\n",
    "'first_bought',\n",
    "\n",
    "'target_clicks',\n",
    "'target_carts',\n",
    "'target_orders',\n",
    "col_target,]"
   ]
  },
  {
   "cell_type": "code",
   "execution_count": 50,
   "id": "c9bc904b",
   "metadata": {
    "ExecuteTime": {
     "end_time": "2022-12-01T17:29:21.910599Z",
     "start_time": "2022-12-01T17:29:21.895680Z"
    }
   },
   "outputs": [],
   "source": [
    "# df[col_target]=df[col_target].apply(int)"
   ]
  },
  {
   "cell_type": "markdown",
   "id": "4f79568a",
   "metadata": {},
   "source": [
    "# Data exploration"
   ]
  },
  {
   "cell_type": "code",
   "execution_count": 51,
   "id": "eb8c02e9",
   "metadata": {
    "ExecuteTime": {
     "end_time": "2022-12-01T17:29:21.925612Z",
     "start_time": "2022-12-01T17:29:21.912598Z"
    }
   },
   "outputs": [],
   "source": [
    "col_preds=[col for col in df.columns[3:] if col not in col_exclude]"
   ]
  },
  {
   "cell_type": "code",
   "execution_count": 52,
   "id": "28f51914",
   "metadata": {
    "ExecuteTime": {
     "end_time": "2022-12-01T17:29:21.941611Z",
     "start_time": "2022-12-01T17:29:21.926599Z"
    }
   },
   "outputs": [
    {
     "data": {
      "text/plain": [
       "41"
      ]
     },
     "execution_count": 52,
     "metadata": {},
     "output_type": "execute_result"
    }
   ],
   "source": [
    "len(col_preds)"
   ]
  },
  {
   "cell_type": "code",
   "execution_count": 53,
   "id": "f2ec960c",
   "metadata": {
    "ExecuteTime": {
     "end_time": "2022-12-01T17:29:21.956598Z",
     "start_time": "2022-12-01T17:29:21.943599Z"
    }
   },
   "outputs": [
    {
     "data": {
      "text/plain": [
       "['min_top20',\n",
       " 'avg_top20',\n",
       " 'max_top20',\n",
       " 'in_session',\n",
       " 'in_session_clicked',\n",
       " 'in_session_carted',\n",
       " 'in_session_ordered',\n",
       " 'in_session_score',\n",
       " 'in_session_score_time_weighted',\n",
       " 'times_in_top20',\n",
       " 'times_in_top20_last_week',\n",
       " 'min_order_hours_from_click_avg',\n",
       " 'avg_order_hours_from_click_avg',\n",
       " 'avg_num_sessions_ordered',\n",
       " 'sum_num_sessions_ordered',\n",
       " 'avg_num_occured_overall',\n",
       " 'sum_num_occured_overall',\n",
       " 'last_num_sessions_ordered',\n",
       " 'last_hour_num_sessions_ordered',\n",
       " 'num_times_ordered_overall',\n",
       " 'sess_num_events',\n",
       " 'sess_num_clicks',\n",
       " 'sess_num_carts',\n",
       " 'sess_num_orders',\n",
       " 'sess_num_clicks_last_hour',\n",
       " 'sess_num_carts_last_hour',\n",
       " 'sess_num_orders_last_hour',\n",
       " 'sess_duration',\n",
       " 'sess_minute',\n",
       " 'sess_hour',\n",
       " 'sess_dayofweek',\n",
       " 'last_seen',\n",
       " 'last_bought',\n",
       " 'bought_overall',\n",
       " 'seen_overall',\n",
       " 'num_clicks_same_day',\n",
       " 'num_carts_same_day',\n",
       " 'num_orders_same_day',\n",
       " 'null_flag',\n",
       " 'in_session_carted_not_ordered',\n",
       " 'in_session_clicked_not_carted']"
      ]
     },
     "execution_count": 53,
     "metadata": {},
     "output_type": "execute_result"
    }
   ],
   "source": [
    "col_preds"
   ]
  },
  {
   "cell_type": "code",
   "execution_count": 54,
   "id": "24c41109",
   "metadata": {
    "ExecuteTime": {
     "end_time": "2022-12-01T17:29:22.003566Z",
     "start_time": "2022-12-01T17:29:21.961598Z"
    },
    "hide_input": false
   },
   "outputs": [],
   "source": [
    "# %%time\n",
    "# # Basic test to identify more attractive classificator\n",
    "# # Models\n",
    "# import lightgbm as lgb\n",
    "# from xgboost import XGBClassifier\n",
    "# from sklearn.ensemble import RandomForestClassifier, GradientBoostingClassifier\n",
    "# from sklearn import linear_model\n",
    "\n",
    "# from sklearn.pipeline import Pipeline\n",
    "# from sklearn.model_selection import StratifiedKFold, cross_val_score\n",
    "\n",
    "# # Metrics\n",
    "# from sklearn.metrics import roc_curve, roc_auc_score\n",
    "\n",
    "# sample=df.sample(100000)\n",
    "\n",
    "# # train cross validation set\n",
    "# X_cv = sample[col_preds].fillna(0).reset_index(drop=True)\n",
    "# y_cv =sample[col_target].reset_index(drop=True)\n",
    "\n",
    "# BM_DATA = []\n",
    "# # crossvalidation type StratifiedKFold\n",
    "# SKF = StratifiedKFold(n_splits=5, shuffle=True, random_state=seed)\n",
    "\n",
    "# # fit the models from the list\n",
    "# for model_name, model in [\n",
    "#         ('LinearRegression', linear_model.LinearRegression()),\n",
    "#         ('Ridge', linear_model.RidgeClassifier(normalize=True, random_state=seed)),\n",
    "#         ('BayesianRidge', linear_model.BayesianRidge()),\n",
    "#         ('Lasso', linear_model.LassoLars(random_state=seed)),\n",
    "#         ('RandomForest', RandomForestClassifier(random_state=seed)),\n",
    "#         ('GradientBoosting', GradientBoostingClassifier(random_state=seed)),\n",
    "#         ('XGBoost', XGBClassifier(eval_metric='auc',\n",
    "#                               use_label_encoder=False,\n",
    "#                               random_state=seed))\n",
    "         \n",
    "# ]:\n",
    "#     CLF_MODEL = Pipeline([(model_name, model)])\n",
    "#     # Cross validation score\n",
    "#     print([model_name, cross_val_score(CLF_MODEL,\n",
    "#                                                 X_cv,\n",
    "#                                                 y_cv,\n",
    "#                                                 scoring='roc_auc',\n",
    "#                                                 cv=SKF).mean()])\n",
    "#     BM_DATA.append([model_name, cross_val_score(CLF_MODEL,\n",
    "#                                                 X_cv,\n",
    "#                                                 y_cv,\n",
    "#                                                 scoring='roc_auc',\n",
    "#                                                 cv=SKF).mean()])\n",
    "# # Cross validation score for lgb\n",
    "# BM_DATA.append(['LGBM', lgb.cv(params = {\n",
    "#         'task': 'train',\n",
    "#         'boosting_type': 'gbdt',\n",
    "#         'objective':'binary',\n",
    "#         'metric':'auc',\n",
    "#         'force_row_wise':True,\n",
    "#         'verbose':-1\n",
    "#         }, train_set=lgb.Dataset(X_cv, y_cv), folds=SKF)['auc-mean'][-1]])\n",
    "\n",
    "# del sample\n",
    "\n",
    "# # Result of the models\n",
    "# pd.DataFrame.from_records(BM_DATA, columns=['model', 'roc_auc']).sort_values(by='roc_auc', ascending=False).head(10)"
   ]
  },
  {
   "cell_type": "markdown",
   "id": "cddd700f",
   "metadata": {
    "ExecuteTime": {
     "end_time": "2022-11-16T09:07:24.490773Z",
     "start_time": "2022-11-16T09:07:24.490773Z"
    }
   },
   "source": [
    "# Ridge Regression model"
   ]
  },
  {
   "cell_type": "markdown",
   "id": "a2fcaa42",
   "metadata": {},
   "source": [
    "## Hyperparameter tuning"
   ]
  },
  {
   "cell_type": "markdown",
   "id": "df29fbd8",
   "metadata": {},
   "source": [
    "## Model fitting"
   ]
  },
  {
   "cell_type": "code",
   "execution_count": 55,
   "id": "b4ad4343",
   "metadata": {
    "ExecuteTime": {
     "end_time": "2022-12-01T17:32:35.720434Z",
     "start_time": "2022-12-01T17:29:22.004566Z"
    },
    "code_folding": []
   },
   "outputs": [
    {
     "data": {
      "text/plain": [
       "RidgeClassifier(normalize=True, random_state=1234)"
      ]
     },
     "execution_count": 55,
     "metadata": {},
     "output_type": "execute_result"
    }
   ],
   "source": [
    "from sklearn import linear_model\n",
    "xgb_model=linear_model.RidgeClassifier(normalize=True, random_state=seed)\n",
    "\n",
    "xgb_model.fit(df[col_preds].fillna(0), df[col_target])"
   ]
  },
  {
   "cell_type": "code",
   "execution_count": 71,
   "id": "681848e9",
   "metadata": {
    "ExecuteTime": {
     "end_time": "2022-12-01T17:42:52.716251Z",
     "start_time": "2022-12-01T17:42:01.275444Z"
    }
   },
   "outputs": [],
   "source": [
    "df['XGB_SCORE']=xgb_model.decision_function(df[col_preds].fillna(0))\n",
    "df['XGB_SCORE']=np.exp(df['XGB_SCORE']) / np.sum(np.exp(df['XGB_SCORE']))\n",
    "\n",
    "# train['XGB_SCORE']=xgb_model.predict_proba(train[col_preds])[:, 1]\n",
    "# valid['XGB_SCORE']=xgb_model.predict(valid[col_preds])"
   ]
  },
  {
   "cell_type": "code",
   "execution_count": 72,
   "id": "2de71a52",
   "metadata": {
    "ExecuteTime": {
     "end_time": "2022-12-01T17:43:16.133705Z",
     "start_time": "2022-12-01T17:42:56.255471Z"
    },
    "hide_input": false
   },
   "outputs": [
    {
     "name": "stdout",
     "output_type": "stream",
     "text": [
      "The Lift on the train set is: 8.064860662949929\n",
      "The gini on the train set is: 0.8363056938392932\n",
      "\n",
      "\n"
     ]
    }
   ],
   "source": [
    "print('The Lift on the train set is: '+ str(mofr.metrics.lift(df[col_target], df['XGB_SCORE'])))\n",
    "print('The gini on the train set is: '+ str(mofr.metrics.gini(df[col_target].apply(int), df['XGB_SCORE'])))\n",
    "# print('The accuracy on the train set is: '+ str(mofr.metrics.accuracy_score(train[col_target].apply(int), train['XGB_SCORE'].apply(lambda x: int(x>0.5)))))\n",
    "print('\\n')\n",
    "# print('The Lift on the valid set is: '+ str(mofr.metrics.lift(valid[col_target], valid['XGB_SCORE'])))\n",
    "# print('The gini on the valid set is: '+ str(mofr.metrics.gini(valid[col_target].apply(int), valid['XGB_SCORE'])))\n",
    "# # print('The accuracy on the valid set is: '+ str(mofr.metrics.accuracy_score(df[valid_mask][col_target].apply(int), df[valid_mask]['XGB_SCORE'].apply(lambda x: int(x>0.5)))))\n",
    "# print('\\n')"
   ]
  },
  {
   "cell_type": "markdown",
   "id": "79e777cb",
   "metadata": {},
   "source": [
    "# Saving the model"
   ]
  },
  {
   "cell_type": "code",
   "execution_count": 69,
   "id": "09e05bb0",
   "metadata": {
    "ExecuteTime": {
     "end_time": "2022-12-01T17:38:43.881112Z",
     "start_time": "2022-12-01T17:38:43.845229Z"
    }
   },
   "outputs": [],
   "source": [
    "#file_name = \"otto_xgb_model_10_3weeks_no_nulls.pkl\"\n",
    "\n",
    "# save\n",
    "pickle.dump(xgb_model, open(file_name, \"wb\"))\n",
    "\n",
    "# # load\n",
    "# #xgb_model= pickle.load(open(file_name, \"rb\"))"
   ]
  },
  {
   "cell_type": "markdown",
   "id": "1bf5594e",
   "metadata": {},
   "source": [
    "# Validation check"
   ]
  },
  {
   "cell_type": "code",
   "execution_count": 45,
   "id": "f8bf9003",
   "metadata": {
    "ExecuteTime": {
     "end_time": "2022-11-30T15:27:51.009123Z",
     "start_time": "2022-11-30T15:27:50.863465Z"
    },
    "hide_input": true
   },
   "outputs": [],
   "source": [
    "del df\n",
    "# del train"
   ]
  },
  {
   "cell_type": "code",
   "execution_count": 73,
   "id": "f8e91196",
   "metadata": {
    "ExecuteTime": {
     "end_time": "2022-12-01T17:45:07.283526Z",
     "start_time": "2022-12-01T17:45:07.271168Z"
    },
    "hide_input": true
   },
   "outputs": [],
   "source": [
    "import pandas as pd\n",
    "import numpy as np\n",
    "import random\n",
    "import mofr\n",
    "import matplotlib.pyplot as plt\n",
    "import seaborn as sns\n",
    "from xgboost import XGBClassifier, plot_tree\n",
    "import math\n",
    "import pickle\n",
    "\n",
    "\n",
    "import xgboost as xgb"
   ]
  },
  {
   "cell_type": "code",
   "execution_count": 74,
   "id": "3089bba7",
   "metadata": {
    "ExecuteTime": {
     "end_time": "2022-12-01T17:45:07.299526Z",
     "start_time": "2022-12-01T17:45:07.284525Z"
    }
   },
   "outputs": [],
   "source": [
    "# file_name = \"otto_xgb_model_12_cv_571.pkl\"\n",
    "\n",
    "# #load\n",
    "# xgb_model= pickle.load(open(file_name, \"rb\"))"
   ]
  },
  {
   "cell_type": "code",
   "execution_count": 75,
   "id": "f837bc0b",
   "metadata": {
    "ExecuteTime": {
     "end_time": "2022-12-01T17:45:07.315589Z",
     "start_time": "2022-12-01T17:45:07.300527Z"
    },
    "hide_input": true
   },
   "outputs": [],
   "source": [
    "col_target='target'"
   ]
  },
  {
   "cell_type": "code",
   "execution_count": 76,
   "id": "fa7d81a1",
   "metadata": {
    "ExecuteTime": {
     "end_time": "2022-12-01T17:46:17.420369Z",
     "start_time": "2022-12-01T17:45:07.317577Z"
    }
   },
   "outputs": [],
   "source": [
    "valid=pd.read_parquet('valid_sample_full_cv_3targets_experimental.parquet')\n",
    "valid.columns=[x.lower() for x in valid.columns]\n",
    "valid['null_flag']=(valid['avg_order_hours_from_click_avg']<99999).apply(int)\n",
    "valid['in_session_carted_not_ordered']=((valid['in_session_carted']>0)&(valid['in_session_ordered']==0)).apply(int)\n",
    "valid['in_session_clicked_not_carted']=((valid['in_session_clicked']>0)&(valid['in_session_carted']==0)).apply(int)\n",
    "valid['XGB_SCORE']=xgb_model.decision_function(valid[col_preds].fillna(0))\n",
    "valid['XGB_SCORE']=np.exp(valid['XGB_SCORE']) / np.sum(np.exp(valid['XGB_SCORE']))"
   ]
  },
  {
   "cell_type": "code",
   "execution_count": 77,
   "id": "0431ef09",
   "metadata": {
    "ExecuteTime": {
     "end_time": "2022-12-01T17:46:17.446943Z",
     "start_time": "2022-12-01T17:46:17.429830Z"
    }
   },
   "outputs": [],
   "source": [
    "# result=[]\n",
    "# for i in [100,90,80,70,60,50,40,30]:\n",
    "#     valid_=valid[valid['min_top20']<=i]\n",
    "#     gini=mofr.metrics.gini(valid_[col_target], valid_['XGB_SCORE'])\n",
    "#     a=valid_[['session_id', 'aid', 'XGB_SCORE',col_target]].groupby('session_id').apply(lambda x : x.sort_values(by = ['XGB_SCORE'], ascending = [False]).head(20).reset_index(drop = True)).reset_index(drop = True)\n",
    "#     num_captured=np.sum(a[col_target])\n",
    "#     print (i,gini, num_captured)\n",
    "#     result.append((i,gini, num_captured))\n",
    "    \n",
    "# pd.DataFrame(result)"
   ]
  },
  {
   "cell_type": "code",
   "execution_count": 78,
   "id": "39c9dccf",
   "metadata": {
    "ExecuteTime": {
     "end_time": "2022-12-01T17:46:17.509942Z",
     "start_time": "2022-12-01T17:46:17.448952Z"
    },
    "hide_input": true
   },
   "outputs": [
    {
     "data": {
      "text/html": [
       "<div>\n",
       "<style scoped>\n",
       "    .dataframe tbody tr th:only-of-type {\n",
       "        vertical-align: middle;\n",
       "    }\n",
       "\n",
       "    .dataframe tbody tr th {\n",
       "        vertical-align: top;\n",
       "    }\n",
       "\n",
       "    .dataframe thead th {\n",
       "        text-align: right;\n",
       "    }\n",
       "</style>\n",
       "<table border=\"1\" class=\"dataframe\">\n",
       "  <thead>\n",
       "    <tr style=\"text-align: right;\">\n",
       "      <th></th>\n",
       "      <th>target</th>\n",
       "      <th>target_clicks</th>\n",
       "      <th>target_carts</th>\n",
       "      <th>target_orders</th>\n",
       "      <th>session_id</th>\n",
       "      <th>aid</th>\n",
       "      <th>min_top20</th>\n",
       "      <th>avg_top20</th>\n",
       "      <th>max_top20</th>\n",
       "      <th>in_session</th>\n",
       "      <th>...</th>\n",
       "      <th>last_bought</th>\n",
       "      <th>bought_overall</th>\n",
       "      <th>seen_overall</th>\n",
       "      <th>num_clicks_same_day</th>\n",
       "      <th>num_carts_same_day</th>\n",
       "      <th>num_orders_same_day</th>\n",
       "      <th>null_flag</th>\n",
       "      <th>in_session_carted_not_ordered</th>\n",
       "      <th>in_session_clicked_not_carted</th>\n",
       "      <th>XGB_SCORE</th>\n",
       "    </tr>\n",
       "  </thead>\n",
       "  <tbody>\n",
       "    <tr>\n",
       "      <th>0</th>\n",
       "      <td>0.0</td>\n",
       "      <td>0.0</td>\n",
       "      <td>0.0</td>\n",
       "      <td>0.0</td>\n",
       "      <td>11098546.0</td>\n",
       "      <td>605.0</td>\n",
       "      <td>9.0</td>\n",
       "      <td>50.000000</td>\n",
       "      <td>91.0</td>\n",
       "      <td>0.0</td>\n",
       "      <td>...</td>\n",
       "      <td>5.625833</td>\n",
       "      <td>255.0</td>\n",
       "      <td>3004.0</td>\n",
       "      <td>9.0</td>\n",
       "      <td>1.0</td>\n",
       "      <td>1.0</td>\n",
       "      <td>1</td>\n",
       "      <td>0</td>\n",
       "      <td>0</td>\n",
       "      <td>3.465870e-08</td>\n",
       "    </tr>\n",
       "    <tr>\n",
       "      <th>1</th>\n",
       "      <td>0.0</td>\n",
       "      <td>0.0</td>\n",
       "      <td>0.0</td>\n",
       "      <td>0.0</td>\n",
       "      <td>11098546.0</td>\n",
       "      <td>665.0</td>\n",
       "      <td>71.0</td>\n",
       "      <td>71.000000</td>\n",
       "      <td>71.0</td>\n",
       "      <td>0.0</td>\n",
       "      <td>...</td>\n",
       "      <td>171.533104</td>\n",
       "      <td>3.0</td>\n",
       "      <td>31.0</td>\n",
       "      <td>1.0</td>\n",
       "      <td>0.0</td>\n",
       "      <td>0.0</td>\n",
       "      <td>0</td>\n",
       "      <td>0</td>\n",
       "      <td>0</td>\n",
       "      <td>3.462064e-08</td>\n",
       "    </tr>\n",
       "    <tr>\n",
       "      <th>2</th>\n",
       "      <td>0.0</td>\n",
       "      <td>0.0</td>\n",
       "      <td>0.0</td>\n",
       "      <td>0.0</td>\n",
       "      <td>11098546.0</td>\n",
       "      <td>1089.0</td>\n",
       "      <td>16.0</td>\n",
       "      <td>45.666667</td>\n",
       "      <td>82.0</td>\n",
       "      <td>0.0</td>\n",
       "      <td>...</td>\n",
       "      <td>1.657222</td>\n",
       "      <td>864.0</td>\n",
       "      <td>15026.0</td>\n",
       "      <td>127.0</td>\n",
       "      <td>1.0</td>\n",
       "      <td>0.0</td>\n",
       "      <td>1</td>\n",
       "      <td>0</td>\n",
       "      <td>0</td>\n",
       "      <td>3.463923e-08</td>\n",
       "    </tr>\n",
       "    <tr>\n",
       "      <th>3</th>\n",
       "      <td>0.0</td>\n",
       "      <td>0.0</td>\n",
       "      <td>0.0</td>\n",
       "      <td>0.0</td>\n",
       "      <td>11098546.0</td>\n",
       "      <td>1303.0</td>\n",
       "      <td>35.0</td>\n",
       "      <td>60.500000</td>\n",
       "      <td>87.0</td>\n",
       "      <td>0.0</td>\n",
       "      <td>...</td>\n",
       "      <td>28.698889</td>\n",
       "      <td>464.0</td>\n",
       "      <td>4974.0</td>\n",
       "      <td>32.0</td>\n",
       "      <td>5.0</td>\n",
       "      <td>0.0</td>\n",
       "      <td>1</td>\n",
       "      <td>0</td>\n",
       "      <td>0</td>\n",
       "      <td>3.465171e-08</td>\n",
       "    </tr>\n",
       "    <tr>\n",
       "      <th>4</th>\n",
       "      <td>0.0</td>\n",
       "      <td>0.0</td>\n",
       "      <td>0.0</td>\n",
       "      <td>0.0</td>\n",
       "      <td>11098546.0</td>\n",
       "      <td>1398.0</td>\n",
       "      <td>15.0</td>\n",
       "      <td>15.000000</td>\n",
       "      <td>15.0</td>\n",
       "      <td>0.0</td>\n",
       "      <td>...</td>\n",
       "      <td>NaN</td>\n",
       "      <td>0.0</td>\n",
       "      <td>11.0</td>\n",
       "      <td>NaN</td>\n",
       "      <td>NaN</td>\n",
       "      <td>NaN</td>\n",
       "      <td>0</td>\n",
       "      <td>0</td>\n",
       "      <td>0</td>\n",
       "      <td>3.466962e-08</td>\n",
       "    </tr>\n",
       "  </tbody>\n",
       "</table>\n",
       "<p>5 rows × 55 columns</p>\n",
       "</div>"
      ],
      "text/plain": [
       "   target  target_clicks  target_carts  target_orders  session_id     aid  \\\n",
       "0     0.0            0.0           0.0            0.0  11098546.0   605.0   \n",
       "1     0.0            0.0           0.0            0.0  11098546.0   665.0   \n",
       "2     0.0            0.0           0.0            0.0  11098546.0  1089.0   \n",
       "3     0.0            0.0           0.0            0.0  11098546.0  1303.0   \n",
       "4     0.0            0.0           0.0            0.0  11098546.0  1398.0   \n",
       "\n",
       "   min_top20  avg_top20  max_top20  in_session  ...  last_bought  \\\n",
       "0        9.0  50.000000       91.0         0.0  ...     5.625833   \n",
       "1       71.0  71.000000       71.0         0.0  ...   171.533104   \n",
       "2       16.0  45.666667       82.0         0.0  ...     1.657222   \n",
       "3       35.0  60.500000       87.0         0.0  ...    28.698889   \n",
       "4       15.0  15.000000       15.0         0.0  ...          NaN   \n",
       "\n",
       "   bought_overall  seen_overall  num_clicks_same_day  num_carts_same_day  \\\n",
       "0           255.0        3004.0                  9.0                 1.0   \n",
       "1             3.0          31.0                  1.0                 0.0   \n",
       "2           864.0       15026.0                127.0                 1.0   \n",
       "3           464.0        4974.0                 32.0                 5.0   \n",
       "4             0.0          11.0                  NaN                 NaN   \n",
       "\n",
       "   num_orders_same_day  null_flag  in_session_carted_not_ordered  \\\n",
       "0                  1.0          1                              0   \n",
       "1                  0.0          0                              0   \n",
       "2                  0.0          1                              0   \n",
       "3                  0.0          1                              0   \n",
       "4                  NaN          0                              0   \n",
       "\n",
       "   in_session_clicked_not_carted     XGB_SCORE  \n",
       "0                              0  3.465870e-08  \n",
       "1                              0  3.462064e-08  \n",
       "2                              0  3.463923e-08  \n",
       "3                              0  3.465171e-08  \n",
       "4                              0  3.466962e-08  \n",
       "\n",
       "[5 rows x 55 columns]"
      ]
     },
     "execution_count": 78,
     "metadata": {},
     "output_type": "execute_result"
    }
   ],
   "source": [
    "valid.head()"
   ]
  },
  {
   "cell_type": "code",
   "execution_count": 79,
   "id": "af31e5c9",
   "metadata": {
    "ExecuteTime": {
     "end_time": "2022-12-01T17:46:17.791218Z",
     "start_time": "2022-12-01T17:46:17.511939Z"
    }
   },
   "outputs": [
    {
     "data": {
      "text/plain": [
       "0.0    28769561\n",
       "1.0       38983\n",
       "Name: target, dtype: int64"
      ]
     },
     "execution_count": 79,
     "metadata": {},
     "output_type": "execute_result"
    }
   ],
   "source": [
    "valid[col_target].value_counts()"
   ]
  },
  {
   "cell_type": "code",
   "execution_count": 80,
   "id": "a952b9b0",
   "metadata": {
    "ExecuteTime": {
     "end_time": "2022-12-01T17:46:17.807219Z",
     "start_time": "2022-12-01T17:46:17.796219Z"
    }
   },
   "outputs": [],
   "source": [
    "# coverage=(pd.DataFrame(df.groupby('session_id')[col_target].apply(np.sum)).reset_index()).merge(df.groupby('session_id')[['number_carts_orders','number_carts', 'number_orders']].apply(np.mean), how='inner', on='session_id')\n",
    "# target_coverage=np.sum(coverage[coverage['number_carts_orders']>0]['target'])/np.sum(coverage[coverage['number_carts_orders']>0]['number_carts_orders'].apply(lambda x: min([20,x])))\n",
    "# # target_avg_coverage=np.sum(coverage[coverage['number_carts_orders']>0]['target']/coverage[coverage['number_carts_orders']>0]['number_carts_orders'])\n",
    "# target_avg_coverage_carts=np.sum(coverage[coverage['number_carts']>0]['target'])/np.sum(coverage[coverage['number_carts']>0]['number_carts'].apply(lambda x: min([20,x])))\n",
    "# target_avg_coverage_orders=np.sum(coverage[coverage['number_orders']>0]['target'])/np.sum(coverage[coverage['number_orders']>0]['number_orders'].apply(lambda x: min([20,x])))\n",
    "\n",
    "# print(f'The coverage of the target on the train set is: {target_coverage}')\n",
    "# print(f'The mean coverage of carts on the train set is: {target_avg_coverage_carts}')\n",
    "# print(f'The mean coverage of orders on the train set is: {target_avg_coverage_orders}')\n",
    "# print(f'Max score possible with this set is: {0.1*0.5+0.3*target_avg_coverage_carts+0.6*target_avg_coverage_orders}')"
   ]
  },
  {
   "cell_type": "code",
   "execution_count": 81,
   "id": "fd5d39ee",
   "metadata": {
    "ExecuteTime": {
     "end_time": "2022-12-01T17:46:17.823252Z",
     "start_time": "2022-12-01T17:46:17.811222Z"
    }
   },
   "outputs": [],
   "source": [
    "# coverage=(pd.DataFrame(valid.groupby('session_id')[col_target].apply(np.sum)).reset_index()).merge(valid.groupby('session_id')[['number_carts_orders','number_carts', 'number_orders']].apply(np.mean), how='inner', on='session_id')\n",
    "# target_coverage=np.sum(coverage[coverage['number_carts_orders']>0]['target'])/np.sum(coverage[coverage['number_carts_orders']>0]['number_carts_orders'].apply(lambda x: min([20,x])))\n",
    "# # target_avg_coverage=np.sum(coverage[coverage['number_carts_orders']>0]['target']/coverage[coverage['number_carts_orders']>0]['number_carts_orders'])\n",
    "# target_avg_coverage_carts=np.sum(coverage[coverage['number_carts']>0]['target'])/np.sum(coverage[coverage['number_carts']>0]['number_carts'].apply(lambda x: min([20,x])))\n",
    "# target_avg_coverage_orders=np.sum(coverage[coverage['number_orders']>0]['target'])/np.sum(coverage[coverage['number_orders']>0]['number_orders'].apply(lambda x: min([20,x])))\n",
    "\n",
    "# print(f'The coverage of the target on the valid set is: {target_coverage}')\n",
    "# print(f'The mean coverage of carts on the valid set is: {target_avg_coverage_carts}')\n",
    "# print(f'The mean coverage of orders on the valid set is: {target_avg_coverage_orders}')\n",
    "# print(f'Max score possible with this set is: {0.1*0.5+0.3*target_avg_coverage_carts+0.6*target_avg_coverage_orders}')"
   ]
  },
  {
   "cell_type": "markdown",
   "id": "ebfdfe65",
   "metadata": {
    "ExecuteTime": {
     "end_time": "2022-11-20T12:44:42.896737Z",
     "start_time": "2022-11-20T12:44:42.882040Z"
    }
   },
   "source": [
    "## Submission XGB SCORE"
   ]
  },
  {
   "cell_type": "code",
   "execution_count": null,
   "id": "bb79eb82",
   "metadata": {
    "ExecuteTime": {
     "start_time": "2022-12-01T17:45:07.269Z"
    },
    "hide_input": false
   },
   "outputs": [],
   "source": [
    "a=valid.groupby('session_id').apply(lambda x : x.sort_values(by = ['XGB_SCORE'], ascending = [False]).head(20).reset_index(drop = True)).reset_index(drop = True)\n",
    "a['session_id']=a['session_id'].apply(lambda x: str(int(x)))\n",
    "a['aid']=a['aid'].apply(lambda x: str(int(x)))\n",
    "    \n",
    "pred_df=pd.DataFrame(a.groupby('session_id')['aid'].apply(list).apply(' '.join)).reset_index(drop=False).rename(columns={'aid':'labels'})"
   ]
  },
  {
   "cell_type": "code",
   "execution_count": null,
   "id": "608d8d84",
   "metadata": {
    "ExecuteTime": {
     "start_time": "2022-12-01T17:45:07.270Z"
    },
    "hide_input": false
   },
   "outputs": [],
   "source": [
    "# a=valid.groupby('session_id').apply(lambda x : x.sort_values(by = ['in_session','times_in_top20','XGB_SCORE'], ascending = [False,False,False]).head(20).reset_index(drop = True)).reset_index(drop = True)\n",
    "# a['session_id']=a['session_id'].apply(lambda x: str(int(x)))\n",
    "# a['aid']=a['aid'].apply(lambda x: str(int(x)))\n",
    "    \n",
    "# pred_df=pd.DataFrame(a.groupby('session_id')['aid'].apply(list).apply(' '.join)).reset_index(drop=False).rename(columns={'aid':'labels'})"
   ]
  },
  {
   "cell_type": "code",
   "execution_count": null,
   "id": "333b1746",
   "metadata": {
    "ExecuteTime": {
     "start_time": "2022-12-01T17:45:07.271Z"
    }
   },
   "outputs": [],
   "source": [
    "# TOP CLICKS AND ORDERS IN TEST\n",
    "top_clicks = ['485256', '1460571','108125','1551213','33343','613493','876493','152547','184976','1236775'\n",
    "              ,'1406660','836852','331708','1531805','29735','554660','634452','986164','959208','832192']\n",
    "\n",
    "top_carts = ['485256', '33343','613493','152547','876493','1406660','1736857','166037','1460571','1236775'\n",
    "             ,'554660','660655','1531805','1022566','231487','122983','1562705','923948','332654','544144']\n",
    "\n",
    "top_orders = ['876493', '1406660','1236775','166037','1460571','1531805','836852','634452','923948','1043508'\n",
    "             ,'832192','258353','801774','332654','1596897','29735','544144','1581568','1462420','1006198']"
   ]
  },
  {
   "cell_type": "code",
   "execution_count": null,
   "id": "45645d8e",
   "metadata": {
    "ExecuteTime": {
     "start_time": "2022-12-01T17:45:07.272Z"
    },
    "hide_input": true
   },
   "outputs": [],
   "source": [
    "submission_clicks_valid=pred_df.copy()\n",
    "submission_carts_valid=pred_df.copy()\n",
    "submission_orders_valid=pred_df.copy()\n",
    "\n",
    "submission_clicks_valid['session_type']=submission_clicks_valid['session_id'].apply(lambda x: x+'_clicks')\n",
    "submission_carts_valid['session_type']=submission_carts_valid['session_id'].apply(lambda x: x+'_carts')\n",
    "submission_orders_valid['session_type']=submission_orders_valid['session_id'].apply(lambda x: x+'_orders')     "
   ]
  },
  {
   "cell_type": "code",
   "execution_count": null,
   "id": "2283a5d9",
   "metadata": {
    "ExecuteTime": {
     "start_time": "2022-12-01T17:45:07.273Z"
    },
    "hide_input": true
   },
   "outputs": [],
   "source": [
    "submission_clicks_valid['labels']=submission_clicks_valid['labels'].apply(lambda x: list(x.split(' ')) + top_clicks).apply(lambda x: ' '.join(list(dict.fromkeys(x))[0:20]))\n",
    "submission_carts_valid['labels']=submission_carts_valid['labels'].apply(lambda x: list(x.split(' ')) + top_carts).apply(lambda x: ' '.join(list(dict.fromkeys(x))[0:20]))\n",
    "submission_orders_valid['labels']=submission_orders_valid['labels'].apply(lambda x: list(x.split(' ')) + top_carts).apply(lambda x: ' '.join(list(dict.fromkeys(x))[0:20]))"
   ]
  },
  {
   "cell_type": "code",
   "execution_count": null,
   "id": "a6e3a72a",
   "metadata": {
    "ExecuteTime": {
     "start_time": "2022-12-01T17:45:07.275Z"
    },
    "hide_input": true
   },
   "outputs": [],
   "source": [
    "submission_final_valid=pd.concat([submission_clicks_valid[['session_type', 'labels']],submission_carts_valid[['session_type', 'labels']],submission_orders_valid[['session_type', 'labels']]])"
   ]
  },
  {
   "cell_type": "code",
   "execution_count": null,
   "id": "4d79747f",
   "metadata": {
    "ExecuteTime": {
     "start_time": "2022-12-01T17:45:07.276Z"
    }
   },
   "outputs": [],
   "source": [
    "# COMPUTE METRIC\n",
    "score = 0\n",
    "weights = {'clicks': 0.10, 'carts': 0.30, 'orders': 0.60}\n",
    "for t in ['clicks','carts','orders']:\n",
    "    sub = submission_final_valid.loc[submission_final_valid.session_type.str.contains(t)].copy()\n",
    "    sub['session'] = sub.session_type.apply(lambda x: int(x.split('_')[0]))\n",
    "    sub.labels = sub.labels.apply(lambda x: [int(i) for i in x.split(' ')[:20]])\n",
    "    test_labels = pd.read_parquet('test_cv_labels.parquet')\n",
    "    test_labels = test_labels.loc[test_labels['type']==t]\n",
    "    test_labels = test_labels.merge(sub, how='inner', on=['session'])\n",
    "    test_labels['hits'] = test_labels.apply(lambda df: len(set(df.ground_truth).intersection(set(df.labels))), axis=1)\n",
    "    test_labels['gt_count'] = test_labels.ground_truth.str.len().clip(0,20)\n",
    "    recall = test_labels['hits'].sum() / test_labels['gt_count'].sum()\n",
    "    score += weights[t]*recall\n",
    "    print(f'{t} recall =',recall)\n",
    "    \n",
    "print('=============')\n",
    "print('Overall Recall =',score)\n",
    "print('=============')"
   ]
  },
  {
   "cell_type": "markdown",
   "id": "a350e793",
   "metadata": {
    "ExecuteTime": {
     "end_time": "2022-11-20T14:47:53.897232Z",
     "start_time": "2022-11-20T14:47:53.887223Z"
    }
   },
   "source": [
    "# Misc"
   ]
  }
 ],
 "metadata": {
  "hide_input": false,
  "kernelspec": {
   "display_name": "Python 3 (ipykernel)",
   "language": "python",
   "name": "python3"
  },
  "language_info": {
   "codemirror_mode": {
    "name": "ipython",
    "version": 3
   },
   "file_extension": ".py",
   "mimetype": "text/x-python",
   "name": "python",
   "nbconvert_exporter": "python",
   "pygments_lexer": "ipython3",
   "version": "3.9.13"
  },
  "toc": {
   "base_numbering": 1,
   "nav_menu": {},
   "number_sections": true,
   "sideBar": true,
   "skip_h1_title": false,
   "title_cell": "Table of Contents",
   "title_sidebar": "Contents",
   "toc_cell": true,
   "toc_position": {
    "height": "calc(100% - 180px)",
    "left": "10px",
    "top": "150px",
    "width": "341.594px"
   },
   "toc_section_display": false,
   "toc_window_display": true
  },
  "varInspector": {
   "cols": {
    "lenName": 16,
    "lenType": 16,
    "lenVar": 40
   },
   "kernels_config": {
    "python": {
     "delete_cmd_postfix": "",
     "delete_cmd_prefix": "del ",
     "library": "var_list.py",
     "varRefreshCmd": "print(var_dic_list())"
    },
    "r": {
     "delete_cmd_postfix": ") ",
     "delete_cmd_prefix": "rm(",
     "library": "var_list.r",
     "varRefreshCmd": "cat(var_dic_list()) "
    }
   },
   "oldHeight": 122.844,
   "position": {
    "height": "144.844px",
    "left": "1503px",
    "right": "20px",
    "top": "120px",
    "width": "350px"
   },
   "types_to_exclude": [
    "module",
    "function",
    "builtin_function_or_method",
    "instance",
    "_Feature"
   ],
   "varInspector_section_display": "block",
   "window_display": false
  }
 },
 "nbformat": 4,
 "nbformat_minor": 5
}
