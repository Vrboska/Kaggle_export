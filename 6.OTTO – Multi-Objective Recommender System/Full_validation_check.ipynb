{
 "cells": [
  {
   "cell_type": "code",
   "execution_count": 1,
   "id": "a410a8e1",
   "metadata": {
    "ExecuteTime": {
     "end_time": "2022-11-21T21:11:42.008459Z",
     "start_time": "2022-11-21T21:11:41.977206Z"
    }
   },
   "outputs": [],
   "source": [
    "import warnings\n",
    "warnings.filterwarnings('ignore')"
   ]
  },
  {
   "cell_type": "code",
   "execution_count": 2,
   "id": "2ad24548",
   "metadata": {
    "ExecuteTime": {
     "end_time": "2022-11-21T21:11:43.742631Z",
     "start_time": "2022-11-21T21:11:42.008459Z"
    }
   },
   "outputs": [],
   "source": [
    "import pandas as pd\n",
    "import numpy as np\n",
    "import random\n",
    "import mofr\n",
    "import matplotlib.pyplot as plt\n",
    "import seaborn as sns\n",
    "from xgboost import XGBClassifier, plot_tree\n",
    "import math\n",
    "import pickle\n",
    "\n",
    "\n",
    "import xgboost as xgb"
   ]
  },
  {
   "cell_type": "code",
   "execution_count": 3,
   "id": "0262fa33",
   "metadata": {
    "ExecuteTime": {
     "end_time": "2022-11-21T21:11:43.789494Z",
     "start_time": "2022-11-21T21:11:43.742631Z"
    }
   },
   "outputs": [],
   "source": [
    "file_name = \"otto_xgb_model_12_cv.pkl\"\n",
    "\n",
    "#load\n",
    "xgb_model= pickle.load(open(file_name, \"rb\"))"
   ]
  },
  {
   "cell_type": "code",
   "execution_count": 4,
   "id": "c32a012c",
   "metadata": {
    "ExecuteTime": {
     "end_time": "2022-11-21T21:11:43.805395Z",
     "start_time": "2022-11-21T21:11:43.789494Z"
    }
   },
   "outputs": [],
   "source": [
    "col_target='target'"
   ]
  },
  {
   "cell_type": "code",
   "execution_count": 5,
   "id": "bff117dd",
   "metadata": {
    "ExecuteTime": {
     "end_time": "2022-11-21T21:11:43.821210Z",
     "start_time": "2022-11-21T21:11:43.805395Z"
    }
   },
   "outputs": [],
   "source": [
    "def process_chunk(chunk):   \n",
    "    chunk['null_flag']=(chunk['avg_order_hours_from_click_avg']<99999).apply(int)\n",
    "    chunk['XGB_SCORE']=xgb_model.predict_proba(chunk[xgb_model.feature_names_in_])[:, 1]\n",
    "\n",
    "    a=chunk[['session_id', 'aid', 'XGB_SCORE']].groupby('session_id').apply(lambda x : x.sort_values(by = ['XGB_SCORE'], ascending = [False]).head(20).reset_index(drop = True)).reset_index(drop = True)\n",
    "    a['session_id']=a['session_id'].apply(str)\n",
    "    a['aid']=a['aid'].apply(lambda x: str(int(x)))\n",
    "    \n",
    "    b=pd.DataFrame(a.groupby('session_id')['aid'].apply(list).apply(' '.join)).reset_index(drop=False).rename(columns={'aid':'labels'})\n",
    "    return b"
   ]
  },
  {
   "cell_type": "code",
   "execution_count": 6,
   "id": "d5f6ae09",
   "metadata": {
    "ExecuteTime": {
     "end_time": "2022-11-21T21:24:55.368870Z",
     "start_time": "2022-11-21T21:11:43.822431Z"
    }
   },
   "outputs": [
    {
     "name": "stdout",
     "output_type": "stream",
     "text": [
      "0 0 0\n",
      "File number 0 being processed\n",
      "File read.\n",
      "0 0 1\n",
      "File number 1 being processed\n",
      "File read.\n",
      "0 0 2\n",
      "File number 2 being processed\n",
      "File read.\n",
      "0 0 3\n",
      "File number 3 being processed\n",
      "File valid_0_0_3.csv.gz not processed\n",
      "0 0 4\n",
      "File number 3 being processed\n",
      "File valid_0_0_4.csv.gz not processed\n",
      "0 0 5\n",
      "File number 3 being processed\n",
      "File valid_0_0_5.csv.gz not processed\n",
      "0 0 6\n",
      "File number 3 being processed\n",
      "File valid_0_0_6.csv.gz not processed\n",
      "0 0 7\n",
      "File number 3 being processed\n",
      "File valid_0_0_7.csv.gz not processed\n",
      "0 0 8\n",
      "File number 3 being processed\n",
      "File valid_0_0_8.csv.gz not processed\n",
      "0 0 9\n",
      "File number 3 being processed\n",
      "File valid_0_0_9.csv.gz not processed\n",
      "0 1 0\n",
      "File number 3 being processed\n",
      "File read.\n",
      "0 1 1\n",
      "File number 4 being processed\n",
      "File read.\n",
      "0 1 2\n",
      "File number 5 being processed\n",
      "File read.\n",
      "0 1 3\n",
      "File number 6 being processed\n",
      "File valid_0_1_3.csv.gz not processed\n",
      "0 1 4\n",
      "File number 6 being processed\n",
      "File valid_0_1_4.csv.gz not processed\n",
      "0 1 5\n",
      "File number 6 being processed\n",
      "File valid_0_1_5.csv.gz not processed\n",
      "0 1 6\n",
      "File number 6 being processed\n",
      "File valid_0_1_6.csv.gz not processed\n",
      "0 1 7\n",
      "File number 6 being processed\n",
      "File valid_0_1_7.csv.gz not processed\n",
      "0 1 8\n",
      "File number 6 being processed\n",
      "File valid_0_1_8.csv.gz not processed\n",
      "0 1 9\n",
      "File number 6 being processed\n",
      "File valid_0_1_9.csv.gz not processed\n",
      "0 2 0\n",
      "File number 6 being processed\n",
      "File read.\n",
      "0 2 1\n",
      "File number 7 being processed\n",
      "File read.\n",
      "0 2 2\n",
      "File number 8 being processed\n",
      "File read.\n",
      "0 2 3\n",
      "File number 9 being processed\n",
      "File valid_0_2_3.csv.gz not processed\n",
      "0 2 4\n",
      "File number 9 being processed\n",
      "File valid_0_2_4.csv.gz not processed\n",
      "0 2 5\n",
      "File number 9 being processed\n",
      "File valid_0_2_5.csv.gz not processed\n",
      "0 2 6\n",
      "File number 9 being processed\n",
      "File valid_0_2_6.csv.gz not processed\n",
      "0 2 7\n",
      "File number 9 being processed\n",
      "File valid_0_2_7.csv.gz not processed\n",
      "0 2 8\n",
      "File number 9 being processed\n",
      "File valid_0_2_8.csv.gz not processed\n",
      "0 2 9\n",
      "File number 9 being processed\n",
      "File valid_0_2_9.csv.gz not processed\n",
      "0 3 0\n",
      "File number 9 being processed\n",
      "File read.\n",
      "0 3 1\n",
      "File number 10 being processed\n",
      "File read.\n",
      "0 3 2\n",
      "File number 11 being processed\n",
      "File read.\n",
      "0 3 3\n",
      "File number 12 being processed\n",
      "File valid_0_3_3.csv.gz not processed\n",
      "0 3 4\n",
      "File number 12 being processed\n",
      "File valid_0_3_4.csv.gz not processed\n",
      "0 3 5\n",
      "File number 12 being processed\n",
      "File valid_0_3_5.csv.gz not processed\n",
      "0 3 6\n",
      "File number 12 being processed\n",
      "File valid_0_3_6.csv.gz not processed\n",
      "0 3 7\n",
      "File number 12 being processed\n",
      "File valid_0_3_7.csv.gz not processed\n",
      "0 3 8\n",
      "File number 12 being processed\n",
      "File valid_0_3_8.csv.gz not processed\n",
      "0 3 9\n",
      "File number 12 being processed\n",
      "File valid_0_3_9.csv.gz not processed\n",
      "0 4 0\n",
      "File number 12 being processed\n",
      "File read.\n",
      "0 4 1\n",
      "File number 13 being processed\n",
      "File read.\n",
      "0 4 2\n",
      "File number 14 being processed\n",
      "File read.\n",
      "0 4 3\n",
      "File number 15 being processed\n",
      "File valid_0_4_3.csv.gz not processed\n",
      "0 4 4\n",
      "File number 15 being processed\n",
      "File valid_0_4_4.csv.gz not processed\n",
      "0 4 5\n",
      "File number 15 being processed\n",
      "File valid_0_4_5.csv.gz not processed\n",
      "0 4 6\n",
      "File number 15 being processed\n",
      "File valid_0_4_6.csv.gz not processed\n",
      "0 4 7\n",
      "File number 15 being processed\n",
      "File valid_0_4_7.csv.gz not processed\n",
      "0 4 8\n",
      "File number 15 being processed\n",
      "File valid_0_4_8.csv.gz not processed\n",
      "0 4 9\n",
      "File number 15 being processed\n",
      "File valid_0_4_9.csv.gz not processed\n",
      "0 5 0\n",
      "File number 15 being processed\n",
      "File read.\n",
      "0 5 1\n",
      "File number 16 being processed\n",
      "File read.\n",
      "0 5 2\n",
      "File number 17 being processed\n",
      "File read.\n",
      "0 5 3\n",
      "File number 18 being processed\n",
      "File valid_0_5_3.csv.gz not processed\n",
      "0 5 4\n",
      "File number 18 being processed\n",
      "File valid_0_5_4.csv.gz not processed\n",
      "0 5 5\n",
      "File number 18 being processed\n",
      "File valid_0_5_5.csv.gz not processed\n",
      "0 5 6\n",
      "File number 18 being processed\n",
      "File valid_0_5_6.csv.gz not processed\n",
      "0 5 7\n",
      "File number 18 being processed\n",
      "File valid_0_5_7.csv.gz not processed\n",
      "0 5 8\n",
      "File number 18 being processed\n",
      "File valid_0_5_8.csv.gz not processed\n",
      "0 5 9\n",
      "File number 18 being processed\n",
      "File valid_0_5_9.csv.gz not processed\n",
      "0 6 0\n",
      "File number 18 being processed\n",
      "File read.\n",
      "0 6 1\n",
      "File number 19 being processed\n",
      "File read.\n",
      "0 6 2\n",
      "File number 20 being processed\n",
      "File read.\n",
      "0 6 3\n",
      "File number 21 being processed\n",
      "File valid_0_6_3.csv.gz not processed\n",
      "0 6 4\n",
      "File number 21 being processed\n",
      "File valid_0_6_4.csv.gz not processed\n",
      "0 6 5\n",
      "File number 21 being processed\n",
      "File valid_0_6_5.csv.gz not processed\n",
      "0 6 6\n",
      "File number 21 being processed\n",
      "File valid_0_6_6.csv.gz not processed\n",
      "0 6 7\n",
      "File number 21 being processed\n",
      "File valid_0_6_7.csv.gz not processed\n",
      "0 6 8\n",
      "File number 21 being processed\n",
      "File valid_0_6_8.csv.gz not processed\n",
      "0 6 9\n",
      "File number 21 being processed\n",
      "File valid_0_6_9.csv.gz not processed\n",
      "0 7 0\n",
      "File number 21 being processed\n",
      "File read.\n",
      "0 7 1\n",
      "File number 22 being processed\n",
      "File read.\n",
      "0 7 2\n",
      "File number 23 being processed\n",
      "File read.\n",
      "0 7 3\n",
      "File number 24 being processed\n",
      "File valid_0_7_3.csv.gz not processed\n",
      "0 7 4\n",
      "File number 24 being processed\n",
      "File valid_0_7_4.csv.gz not processed\n",
      "0 7 5\n",
      "File number 24 being processed\n",
      "File valid_0_7_5.csv.gz not processed\n",
      "0 7 6\n",
      "File number 24 being processed\n",
      "File valid_0_7_6.csv.gz not processed\n",
      "0 7 7\n",
      "File number 24 being processed\n",
      "File valid_0_7_7.csv.gz not processed\n",
      "0 7 8\n",
      "File number 24 being processed\n",
      "File valid_0_7_8.csv.gz not processed\n",
      "0 7 9\n",
      "File number 24 being processed\n",
      "File valid_0_7_9.csv.gz not processed\n",
      "0 8 0\n",
      "File number 24 being processed\n",
      "File valid_0_8_0.csv.gz not processed\n",
      "0 8 1\n",
      "File number 24 being processed\n",
      "File valid_0_8_1.csv.gz not processed\n",
      "0 8 2\n",
      "File number 24 being processed\n",
      "File valid_0_8_2.csv.gz not processed\n",
      "0 8 3\n",
      "File number 24 being processed\n",
      "File valid_0_8_3.csv.gz not processed\n",
      "0 8 4\n",
      "File number 24 being processed\n",
      "File valid_0_8_4.csv.gz not processed\n",
      "0 8 5\n",
      "File number 24 being processed\n",
      "File valid_0_8_5.csv.gz not processed\n",
      "0 8 6\n",
      "File number 24 being processed\n",
      "File valid_0_8_6.csv.gz not processed\n",
      "0 8 7\n",
      "File number 24 being processed\n",
      "File valid_0_8_7.csv.gz not processed\n",
      "0 8 8\n",
      "File number 24 being processed\n",
      "File valid_0_8_8.csv.gz not processed\n",
      "0 8 9\n",
      "File number 24 being processed\n",
      "File valid_0_8_9.csv.gz not processed\n",
      "0 9 0\n",
      "File number 24 being processed\n",
      "File valid_0_9_0.csv.gz not processed\n",
      "0 9 1\n",
      "File number 24 being processed\n",
      "File valid_0_9_1.csv.gz not processed\n",
      "0 9 2\n",
      "File number 24 being processed\n",
      "File valid_0_9_2.csv.gz not processed\n",
      "0 9 3\n",
      "File number 24 being processed\n",
      "File valid_0_9_3.csv.gz not processed\n",
      "0 9 4\n",
      "File number 24 being processed\n",
      "File valid_0_9_4.csv.gz not processed\n",
      "0 9 5\n",
      "File number 24 being processed\n",
      "File valid_0_9_5.csv.gz not processed\n",
      "0 9 6\n",
      "File number 24 being processed\n",
      "File valid_0_9_6.csv.gz not processed\n",
      "0 9 7\n",
      "File number 24 being processed\n",
      "File valid_0_9_7.csv.gz not processed\n",
      "0 9 8\n",
      "File number 24 being processed\n",
      "File valid_0_9_8.csv.gz not processed\n",
      "0 9 9\n",
      "File number 24 being processed\n",
      "File valid_0_9_9.csv.gz not processed\n"
     ]
    }
   ],
   "source": [
    "n=0\n",
    "submission=pd.DataFrame()\n",
    "\n",
    "for x in range(1):\n",
    "    for y in range(10):\n",
    "        for z in range (10):\n",
    "            print(x,y,z)\n",
    "            print(f'File number {n} being processed')\n",
    "            #print(f'{n}: {round(n/0.45,2)} % files done')\n",
    "            try: \n",
    "                df=pd.read_csv(r'c:\\Users\\AZUBA\\Downloads\\valid_'+str(x)+'_'+str(y)+'_'+str(z)+'.csv.gz')\n",
    "                print('File read.')\n",
    "                df.columns=[x.lower() for x in df.columns]\n",
    "                submission=pd.concat([submission,process_chunk(df)])\n",
    "                n+=1\n",
    "            except:\n",
    "                print(f'File valid_{str(x)}_{str(y)}_{str(z)}.csv.gz not processed')"
   ]
  },
  {
   "cell_type": "code",
   "execution_count": 7,
   "id": "88533c14",
   "metadata": {
    "ExecuteTime": {
     "end_time": "2022-11-21T21:24:55.383872Z",
     "start_time": "2022-11-21T21:24:55.369870Z"
    }
   },
   "outputs": [
    {
     "data": {
      "text/plain": [
       "1801266"
      ]
     },
     "execution_count": 7,
     "metadata": {},
     "output_type": "execute_result"
    }
   ],
   "source": [
    "len(submission)"
   ]
  },
  {
   "cell_type": "code",
   "execution_count": 8,
   "id": "2ff210fe",
   "metadata": {
    "ExecuteTime": {
     "end_time": "2022-11-21T21:24:56.319594Z",
     "start_time": "2022-11-21T21:24:55.385872Z"
    }
   },
   "outputs": [],
   "source": [
    "submission.drop_duplicates(subset='session_id',keep='first', inplace=True, ignore_index=False)"
   ]
  },
  {
   "cell_type": "code",
   "execution_count": 9,
   "id": "ca703418",
   "metadata": {
    "ExecuteTime": {
     "end_time": "2022-11-21T21:24:56.336400Z",
     "start_time": "2022-11-21T21:24:56.319594Z"
    }
   },
   "outputs": [
    {
     "data": {
      "text/plain": [
       "1801251"
      ]
     },
     "execution_count": 9,
     "metadata": {},
     "output_type": "execute_result"
    }
   ],
   "source": [
    "len(submission)"
   ]
  },
  {
   "cell_type": "code",
   "execution_count": 10,
   "id": "69163bdd",
   "metadata": {
    "ExecuteTime": {
     "end_time": "2022-11-21T21:24:56.352415Z",
     "start_time": "2022-11-21T21:24:56.339414Z"
    }
   },
   "outputs": [
    {
     "data": {
      "text/html": [
       "<div>\n",
       "<style scoped>\n",
       "    .dataframe tbody tr th:only-of-type {\n",
       "        vertical-align: middle;\n",
       "    }\n",
       "\n",
       "    .dataframe tbody tr th {\n",
       "        vertical-align: top;\n",
       "    }\n",
       "\n",
       "    .dataframe thead th {\n",
       "        text-align: right;\n",
       "    }\n",
       "</style>\n",
       "<table border=\"1\" class=\"dataframe\">\n",
       "  <thead>\n",
       "    <tr style=\"text-align: right;\">\n",
       "      <th></th>\n",
       "      <th>session_id</th>\n",
       "      <th>labels</th>\n",
       "    </tr>\n",
       "  </thead>\n",
       "  <tbody>\n",
       "    <tr>\n",
       "      <th>0</th>\n",
       "      <td>12799349</td>\n",
       "      <td>824531 1083665 498067 114709 172295 690107 402...</td>\n",
       "    </tr>\n",
       "    <tr>\n",
       "      <th>1</th>\n",
       "      <td>12799350</td>\n",
       "      <td>484432 687266 269280 495602 1123749 93961 3728...</td>\n",
       "    </tr>\n",
       "    <tr>\n",
       "      <th>2</th>\n",
       "      <td>12799351</td>\n",
       "      <td>123775 1402917 1272259 52257 437615 1495328 32...</td>\n",
       "    </tr>\n",
       "    <tr>\n",
       "      <th>3</th>\n",
       "      <td>12799352</td>\n",
       "      <td>290137 1386923 341102 1536592 1290293 524717 8...</td>\n",
       "    </tr>\n",
       "    <tr>\n",
       "      <th>4</th>\n",
       "      <td>12799353</td>\n",
       "      <td>1640479 1483106 1105481 1567550 397621 394898 ...</td>\n",
       "    </tr>\n",
       "  </tbody>\n",
       "</table>\n",
       "</div>"
      ],
      "text/plain": [
       "  session_id                                             labels\n",
       "0   12799349  824531 1083665 498067 114709 172295 690107 402...\n",
       "1   12799350  484432 687266 269280 495602 1123749 93961 3728...\n",
       "2   12799351  123775 1402917 1272259 52257 437615 1495328 32...\n",
       "3   12799352  290137 1386923 341102 1536592 1290293 524717 8...\n",
       "4   12799353  1640479 1483106 1105481 1567550 397621 394898 ..."
      ]
     },
     "execution_count": 10,
     "metadata": {},
     "output_type": "execute_result"
    }
   ],
   "source": [
    "submission.head()"
   ]
  },
  {
   "cell_type": "code",
   "execution_count": 11,
   "id": "101cca9f",
   "metadata": {
    "ExecuteTime": {
     "end_time": "2022-11-21T21:24:56.367433Z",
     "start_time": "2022-11-21T21:24:56.353406Z"
    }
   },
   "outputs": [],
   "source": [
    "# TOP CLICKS AND ORDERS IN VALID\n",
    "top_clicks = ['485256', '1460571','108125','1551213','33343','613493','876493','152547','184976','1236775'\n",
    "              ,'1406660','836852','331708','1531805','29735','554660','634452','986164','959208','832192']\n",
    "top_carts = ['485256', '33343','613493','152547','876493','1406660','1736857','166037','1460571','1236775'\n",
    "             ,'554660','660655','1531805','1022566','231487','122983','1562705','923948','332654','544144']\n",
    "\n",
    "top_orders = ['876493', '1406660','1236775','166037','1460571','1531805','836852','634452','923948','1043508'\n",
    "             ,'832192','258353','801774','332654','1596897','29735','544144','1581568','1462420','1006198']"
   ]
  },
  {
   "cell_type": "code",
   "execution_count": 12,
   "id": "5ea2c69c",
   "metadata": {
    "ExecuteTime": {
     "end_time": "2022-11-21T21:24:57.668617Z",
     "start_time": "2022-11-21T21:24:56.369264Z"
    }
   },
   "outputs": [],
   "source": [
    "submission_clicks=submission.copy()\n",
    "submission_carts=submission.copy()\n",
    "submission_orders=submission.copy()\n",
    "\n",
    "submission_clicks['session_type']=submission_clicks['session_id'].apply(lambda x: x+'_clicks')\n",
    "submission_carts['session_type']=submission_carts['session_id'].apply(lambda x: x+'_carts')\n",
    "submission_orders['session_type']=submission_orders['session_id'].apply(lambda x: x+'_orders')                                                                        "
   ]
  },
  {
   "cell_type": "code",
   "execution_count": 13,
   "id": "5284a529",
   "metadata": {
    "ExecuteTime": {
     "end_time": "2022-11-21T21:25:20.340631Z",
     "start_time": "2022-11-21T21:24:57.669618Z"
    }
   },
   "outputs": [],
   "source": [
    "submission_clicks['labels']=submission_clicks['labels'].apply(lambda x: list(x.split(' ')) + top_clicks).apply(lambda x: ' '.join(x[0:20]))\n",
    "submission_carts['labels']=submission_carts['labels'].apply(lambda x: list(x.split(' ')) + top_carts).apply(lambda x: ' '.join(x[0:20]))\n",
    "submission_orders['labels']=submission_orders['labels'].apply(lambda x: list(x.split(' ')) + top_carts).apply(lambda x: ' '.join(x[0:20]))"
   ]
  },
  {
   "cell_type": "code",
   "execution_count": 14,
   "id": "f39a90d4",
   "metadata": {
    "ExecuteTime": {
     "end_time": "2022-11-21T21:25:21.176927Z",
     "start_time": "2022-11-21T21:25:20.340631Z"
    }
   },
   "outputs": [],
   "source": [
    "submission_final=pd.concat([submission_clicks[['session_type', 'labels']],submission_carts[['session_type', 'labels']],submission_orders[['session_type', 'labels']]])"
   ]
  },
  {
   "cell_type": "code",
   "execution_count": 15,
   "id": "eec3d2d9",
   "metadata": {
    "ExecuteTime": {
     "end_time": "2022-11-21T21:26:21.737310Z",
     "start_time": "2022-11-21T21:25:21.177111Z"
    }
   },
   "outputs": [
    {
     "name": "stdout",
     "output_type": "stream",
     "text": [
      "clicks recall = 0.49018646178313835\n",
      "carts recall = 0.44743634666823945\n",
      "orders recall = 0.6785316450847901\n",
      "=============\n",
      "Overall Recall = 0.5903685372296598\n",
      "=============\n"
     ]
    }
   ],
   "source": [
    "# COMPUTE METRIC\n",
    "score = 0\n",
    "weights = {'clicks': 0.10, 'carts': 0.30, 'orders': 0.60}\n",
    "for t in ['clicks','carts','orders']:\n",
    "    sub = submission_final.loc[submission_final.session_type.str.contains(t)].copy()\n",
    "    sub['session'] = sub.session_type.apply(lambda x: int(x.split('_')[0]))\n",
    "    sub.labels = sub.labels.apply(lambda x: [int(i) for i in x.split(' ')[:20]])\n",
    "    test_labels = pd.read_parquet('test_cv_labels.parquet')\n",
    "    test_labels = test_labels.loc[test_labels['type']==t]\n",
    "    test_labels = test_labels.merge(sub, how='inner', on=['session'])\n",
    "    test_labels['hits'] = test_labels.apply(lambda df: len(set(df.ground_truth).intersection(set(df.labels))), axis=1)\n",
    "    test_labels['gt_count'] = test_labels.ground_truth.str.len().clip(0,20)\n",
    "    recall = test_labels['hits'].sum() / test_labels['gt_count'].sum()\n",
    "    score += weights[t]*recall\n",
    "    print(f'{t} recall =',recall)\n",
    "    \n",
    "print('=============')\n",
    "print('Overall Recall =',score)\n",
    "print('=============')"
   ]
  }
 ],
 "metadata": {
  "hide_input": false,
  "kernelspec": {
   "display_name": "Python 3 (ipykernel)",
   "language": "python",
   "name": "python3"
  },
  "language_info": {
   "codemirror_mode": {
    "name": "ipython",
    "version": 3
   },
   "file_extension": ".py",
   "mimetype": "text/x-python",
   "name": "python",
   "nbconvert_exporter": "python",
   "pygments_lexer": "ipython3",
   "version": "3.9.13"
  },
  "toc": {
   "base_numbering": 1,
   "nav_menu": {},
   "number_sections": true,
   "sideBar": true,
   "skip_h1_title": false,
   "title_cell": "Table of Contents",
   "title_sidebar": "Contents",
   "toc_cell": false,
   "toc_position": {},
   "toc_section_display": true,
   "toc_window_display": false
  },
  "varInspector": {
   "cols": {
    "lenName": 16,
    "lenType": 16,
    "lenVar": 40
   },
   "kernels_config": {
    "python": {
     "delete_cmd_postfix": "",
     "delete_cmd_prefix": "del ",
     "library": "var_list.py",
     "varRefreshCmd": "print(var_dic_list())"
    },
    "r": {
     "delete_cmd_postfix": ") ",
     "delete_cmd_prefix": "rm(",
     "library": "var_list.r",
     "varRefreshCmd": "cat(var_dic_list()) "
    }
   },
   "types_to_exclude": [
    "module",
    "function",
    "builtin_function_or_method",
    "instance",
    "_Feature"
   ],
   "window_display": false
  }
 },
 "nbformat": 4,
 "nbformat_minor": 5
}
