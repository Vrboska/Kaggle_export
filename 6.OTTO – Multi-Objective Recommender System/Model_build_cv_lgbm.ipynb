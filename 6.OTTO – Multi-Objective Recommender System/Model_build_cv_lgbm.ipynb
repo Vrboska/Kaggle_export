{
 "cells": [
  {
   "cell_type": "markdown",
   "id": "5d8af747",
   "metadata": {
    "toc": true
   },
   "source": [
    "<h1>Table of Contents<span class=\"tocSkip\"></span></h1>\n",
    "<div class=\"toc\"><ul class=\"toc-item\"><li><span><a href=\"#Data-exploration\" data-toc-modified-id=\"Data-exploration-1\"><span class=\"toc-item-num\">1&nbsp;&nbsp;</span>Data exploration</a></span></li><li><span><a href=\"#LGBM-model\" data-toc-modified-id=\"LGBM-model-2\"><span class=\"toc-item-num\">2&nbsp;&nbsp;</span>LGBM model</a></span><ul class=\"toc-item\"><li><span><a href=\"#Hyperparameter-tuning\" data-toc-modified-id=\"Hyperparameter-tuning-2.1\"><span class=\"toc-item-num\">2.1&nbsp;&nbsp;</span>Hyperparameter tuning</a></span></li><li><span><a href=\"#Model-fitting\" data-toc-modified-id=\"Model-fitting-2.2\"><span class=\"toc-item-num\">2.2&nbsp;&nbsp;</span>Model fitting</a></span></li></ul></li><li><span><a href=\"#Saving-the-model\" data-toc-modified-id=\"Saving-the-model-3\"><span class=\"toc-item-num\">3&nbsp;&nbsp;</span>Saving the model</a></span></li><li><span><a href=\"#Validation-check\" data-toc-modified-id=\"Validation-check-4\"><span class=\"toc-item-num\">4&nbsp;&nbsp;</span>Validation check</a></span><ul class=\"toc-item\"><li><span><a href=\"#Submission-XGB-SCORE\" data-toc-modified-id=\"Submission-XGB-SCORE-4.1\"><span class=\"toc-item-num\">4.1&nbsp;&nbsp;</span>Submission XGB SCORE</a></span></li></ul></li><li><span><a href=\"#Misc\" data-toc-modified-id=\"Misc-5\"><span class=\"toc-item-num\">5&nbsp;&nbsp;</span>Misc</a></span></li></ul></div>"
   ]
  },
  {
   "cell_type": "code",
   "execution_count": 1,
   "id": "fe6e2a02",
   "metadata": {
    "ExecuteTime": {
     "end_time": "2022-12-01T17:55:58.740379Z",
     "start_time": "2022-12-01T17:55:58.714379Z"
    }
   },
   "outputs": [],
   "source": [
    "import warnings\n",
    "warnings.filterwarnings('ignore')"
   ]
  },
  {
   "cell_type": "code",
   "execution_count": 2,
   "id": "daec666a",
   "metadata": {
    "ExecuteTime": {
     "end_time": "2022-12-01T17:56:01.467187Z",
     "start_time": "2022-12-01T17:55:58.742384Z"
    }
   },
   "outputs": [],
   "source": [
    "import pandas as pd\n",
    "import numpy as np\n",
    "import random\n",
    "import mofr\n",
    "import matplotlib.pyplot as plt\n",
    "import seaborn as sns\n",
    "from sklearn.model_selection import train_test_split\n",
    "from xgboost import XGBClassifier, plot_tree\n",
    "from lightgbm import LGBMClassifier, plot_tree #LGBMRanker\n",
    "import math\n",
    "import pickle\n",
    "import statsmodels.api as sm\n",
    "\n",
    "\n",
    "import xgboost as xgb"
   ]
  },
  {
   "cell_type": "code",
   "execution_count": 3,
   "id": "f7a31fce",
   "metadata": {
    "ExecuteTime": {
     "end_time": "2022-12-01T17:56:01.482475Z",
     "start_time": "2022-12-01T17:56:01.469179Z"
    }
   },
   "outputs": [],
   "source": [
    "seed=1234"
   ]
  },
  {
   "cell_type": "code",
   "execution_count": 4,
   "id": "dcfa2f92",
   "metadata": {
    "ExecuteTime": {
     "end_time": "2022-12-01T17:56:01.497666Z",
     "start_time": "2022-12-01T17:56:01.483565Z"
    }
   },
   "outputs": [],
   "source": [
    "# file = open(\"type2id.pkl\",'rb')\n",
    "# object_file = pickle.load(file)"
   ]
  },
  {
   "cell_type": "code",
   "execution_count": 5,
   "id": "2f4ff81c",
   "metadata": {
    "ExecuteTime": {
     "end_time": "2022-12-01T17:56:01.512843Z",
     "start_time": "2022-12-01T17:56:01.499594Z"
    }
   },
   "outputs": [],
   "source": [
    "file_name = \"otto_lgb_model_13_cv.pkl\""
   ]
  },
  {
   "cell_type": "code",
   "execution_count": 6,
   "id": "fe3c0294",
   "metadata": {
    "ExecuteTime": {
     "end_time": "2022-12-01T17:56:26.790084Z",
     "start_time": "2022-12-01T17:56:01.513774Z"
    }
   },
   "outputs": [],
   "source": [
    "df=pd.read_parquet('train_sample_full_cv_3targets_experimental.parquet')#train_sample_full_cv_hidden_targets_float\n",
    "# valid=pd.read_parquet('valid_sample_full_cv_3targets_experimental.parquet')"
   ]
  },
  {
   "cell_type": "code",
   "execution_count": 7,
   "id": "78d048eb",
   "metadata": {
    "ExecuteTime": {
     "end_time": "2022-12-01T17:56:27.132255Z",
     "start_time": "2022-12-01T17:56:27.003254Z"
    },
    "scrolled": true
   },
   "outputs": [],
   "source": [
    "# df=df[df['MIN_TOP20']<=30]\n",
    "# valid=valid[valid['MIN_TOP20']<=30]"
   ]
  },
  {
   "cell_type": "code",
   "execution_count": 8,
   "id": "82cfc048",
   "metadata": {
    "ExecuteTime": {
     "end_time": "2022-12-01T17:56:27.195264Z",
     "start_time": "2022-12-01T17:56:27.146255Z"
    }
   },
   "outputs": [],
   "source": [
    "# df=pd.concat([df,valid])"
   ]
  },
  {
   "cell_type": "code",
   "execution_count": 9,
   "id": "f3f3eb9f",
   "metadata": {
    "ExecuteTime": {
     "end_time": "2022-12-01T17:56:27.401265Z",
     "start_time": "2022-12-01T17:56:27.206255Z"
    }
   },
   "outputs": [],
   "source": [
    "df.columns=[x.lower() for x in df.columns]\n",
    "# valid.columns=[x.lower() for x in valid.columns]"
   ]
  },
  {
   "cell_type": "code",
   "execution_count": 10,
   "id": "2546e003",
   "metadata": {
    "ExecuteTime": {
     "end_time": "2022-12-01T17:56:27.417264Z",
     "start_time": "2022-12-01T17:56:27.410256Z"
    }
   },
   "outputs": [],
   "source": [
    "# sessions_with_orders=pd.DataFrame(df.groupby('session_id')['target'].sum()).reset_index()\n",
    "# sessions_with_orders=sessions_with_orders[sessions_with_orders['target']>0]\n",
    "# df=df.merge(sessions_with_orders['session_id'], how='inner', on='session_id')"
   ]
  },
  {
   "cell_type": "code",
   "execution_count": 11,
   "id": "54bfc461",
   "metadata": {
    "ExecuteTime": {
     "end_time": "2022-12-01T17:56:27.926958Z",
     "start_time": "2022-12-01T17:56:27.424256Z"
    }
   },
   "outputs": [
    {
     "name": "stdout",
     "output_type": "stream",
     "text": [
      "<class 'pandas.core.frame.DataFrame'>\n",
      "RangeIndex: 36070696 entries, 0 to 36070695\n",
      "Data columns (total 51 columns):\n",
      " #   Column                          Dtype  \n",
      "---  ------                          -----  \n",
      " 0   target                          float64\n",
      " 1   target_clicks                   float64\n",
      " 2   target_carts                    float64\n",
      " 3   target_orders                   float64\n",
      " 4   session_id                      float64\n",
      " 5   aid                             float64\n",
      " 6   min_top20                       float64\n",
      " 7   avg_top20                       float64\n",
      " 8   max_top20                       float64\n",
      " 9   in_session                      float64\n",
      " 10  in_session_clicked              float64\n",
      " 11  in_session_carted               float64\n",
      " 12  in_session_ordered              float64\n",
      " 13  in_session_score                float64\n",
      " 14  in_session_score_time_weighted  float64\n",
      " 15  times_in_top20                  float64\n",
      " 16  times_in_top20_last_week        float64\n",
      " 17  min_order_hours_from_click_avg  float64\n",
      " 18  avg_order_hours_from_click_avg  float64\n",
      " 19  avg_num_sessions_ordered        float64\n",
      " 20  sum_num_sessions_ordered        float64\n",
      " 21  avg_num_occured_overall         float64\n",
      " 22  sum_num_occured_overall         float64\n",
      " 23  last_num_sessions_ordered       float64\n",
      " 24  last_hour_num_sessions_ordered  float64\n",
      " 25  num_times_ordered_overall       float64\n",
      " 26  sess_num_events                 float64\n",
      " 27  sess_num_clicks                 float64\n",
      " 28  sess_num_carts                  float64\n",
      " 29  sess_num_orders                 float64\n",
      " 30  sess_num_clicks_last_hour       float64\n",
      " 31  sess_num_carts_last_hour        float64\n",
      " 32  sess_num_orders_last_hour       float64\n",
      " 33  sess_duration                   float64\n",
      " 34  sess_days_till_test             float64\n",
      " 35  sess_minute                     float64\n",
      " 36  sess_hour                       float64\n",
      " 37  sess_dayofweek                  float64\n",
      " 38  sess_dayofmonth                 float64\n",
      " 39  number_carts_orders             float64\n",
      " 40  number_carts                    float64\n",
      " 41  number_orders                   float64\n",
      " 42  first_seen                      float64\n",
      " 43  last_seen                       float64\n",
      " 44  first_bought                    float64\n",
      " 45  last_bought                     float64\n",
      " 46  bought_overall                  float64\n",
      " 47  seen_overall                    float64\n",
      " 48  num_clicks_same_day             float64\n",
      " 49  num_carts_same_day              float64\n",
      " 50  num_orders_same_day             float64\n",
      "dtypes: float64(51)\n",
      "memory usage: 13.7 GB\n"
     ]
    }
   ],
   "source": [
    "df.info()"
   ]
  },
  {
   "cell_type": "code",
   "execution_count": 12,
   "id": "55a008cf",
   "metadata": {
    "ExecuteTime": {
     "end_time": "2022-12-01T17:56:28.658898Z",
     "start_time": "2022-12-01T17:56:27.930942Z"
    }
   },
   "outputs": [
    {
     "data": {
      "text/html": [
       "<div>\n",
       "<style scoped>\n",
       "    .dataframe tbody tr th:only-of-type {\n",
       "        vertical-align: middle;\n",
       "    }\n",
       "\n",
       "    .dataframe tbody tr th {\n",
       "        vertical-align: top;\n",
       "    }\n",
       "\n",
       "    .dataframe thead th {\n",
       "        text-align: right;\n",
       "    }\n",
       "</style>\n",
       "<table border=\"1\" class=\"dataframe\">\n",
       "  <thead>\n",
       "    <tr style=\"text-align: right;\">\n",
       "      <th></th>\n",
       "      <th>target</th>\n",
       "      <th>target_clicks</th>\n",
       "      <th>target_carts</th>\n",
       "      <th>target_orders</th>\n",
       "      <th>session_id</th>\n",
       "      <th>aid</th>\n",
       "      <th>min_top20</th>\n",
       "      <th>avg_top20</th>\n",
       "      <th>max_top20</th>\n",
       "      <th>in_session</th>\n",
       "      <th>...</th>\n",
       "      <th>number_orders</th>\n",
       "      <th>first_seen</th>\n",
       "      <th>last_seen</th>\n",
       "      <th>first_bought</th>\n",
       "      <th>last_bought</th>\n",
       "      <th>bought_overall</th>\n",
       "      <th>seen_overall</th>\n",
       "      <th>num_clicks_same_day</th>\n",
       "      <th>num_carts_same_day</th>\n",
       "      <th>num_orders_same_day</th>\n",
       "    </tr>\n",
       "  </thead>\n",
       "  <tbody>\n",
       "    <tr>\n",
       "      <th>0</th>\n",
       "      <td>0.0</td>\n",
       "      <td>0.0</td>\n",
       "      <td>0.0</td>\n",
       "      <td>0.0</td>\n",
       "      <td>10096508.0</td>\n",
       "      <td>1658869.0</td>\n",
       "      <td>83.0</td>\n",
       "      <td>83.0</td>\n",
       "      <td>83.0</td>\n",
       "      <td>0.0</td>\n",
       "      <td>...</td>\n",
       "      <td>0.0</td>\n",
       "      <td>503.275254</td>\n",
       "      <td>0.267939</td>\n",
       "      <td>503.275254</td>\n",
       "      <td>82.948090</td>\n",
       "      <td>41.0</td>\n",
       "      <td>215.0</td>\n",
       "      <td>1.0</td>\n",
       "      <td>1.0</td>\n",
       "      <td>0.0</td>\n",
       "    </tr>\n",
       "    <tr>\n",
       "      <th>1</th>\n",
       "      <td>0.0</td>\n",
       "      <td>0.0</td>\n",
       "      <td>0.0</td>\n",
       "      <td>0.0</td>\n",
       "      <td>10096508.0</td>\n",
       "      <td>1662207.0</td>\n",
       "      <td>38.0</td>\n",
       "      <td>51.0</td>\n",
       "      <td>64.0</td>\n",
       "      <td>0.0</td>\n",
       "      <td>...</td>\n",
       "      <td>0.0</td>\n",
       "      <td>482.900077</td>\n",
       "      <td>102.934701</td>\n",
       "      <td>NaN</td>\n",
       "      <td>NaN</td>\n",
       "      <td>0.0</td>\n",
       "      <td>118.0</td>\n",
       "      <td>NaN</td>\n",
       "      <td>NaN</td>\n",
       "      <td>NaN</td>\n",
       "    </tr>\n",
       "    <tr>\n",
       "      <th>2</th>\n",
       "      <td>0.0</td>\n",
       "      <td>0.0</td>\n",
       "      <td>0.0</td>\n",
       "      <td>0.0</td>\n",
       "      <td>10096508.0</td>\n",
       "      <td>1662799.0</td>\n",
       "      <td>31.0</td>\n",
       "      <td>31.0</td>\n",
       "      <td>31.0</td>\n",
       "      <td>0.0</td>\n",
       "      <td>...</td>\n",
       "      <td>0.0</td>\n",
       "      <td>485.097319</td>\n",
       "      <td>154.847848</td>\n",
       "      <td>485.097319</td>\n",
       "      <td>179.171330</td>\n",
       "      <td>3.0</td>\n",
       "      <td>24.0</td>\n",
       "      <td>NaN</td>\n",
       "      <td>NaN</td>\n",
       "      <td>NaN</td>\n",
       "    </tr>\n",
       "    <tr>\n",
       "      <th>3</th>\n",
       "      <td>0.0</td>\n",
       "      <td>0.0</td>\n",
       "      <td>0.0</td>\n",
       "      <td>0.0</td>\n",
       "      <td>10096508.0</td>\n",
       "      <td>1666231.0</td>\n",
       "      <td>70.0</td>\n",
       "      <td>78.0</td>\n",
       "      <td>82.0</td>\n",
       "      <td>0.0</td>\n",
       "      <td>...</td>\n",
       "      <td>0.0</td>\n",
       "      <td>503.217558</td>\n",
       "      <td>1.789421</td>\n",
       "      <td>420.395221</td>\n",
       "      <td>35.984462</td>\n",
       "      <td>13.0</td>\n",
       "      <td>1346.0</td>\n",
       "      <td>19.0</td>\n",
       "      <td>0.0</td>\n",
       "      <td>0.0</td>\n",
       "    </tr>\n",
       "    <tr>\n",
       "      <th>4</th>\n",
       "      <td>0.0</td>\n",
       "      <td>0.0</td>\n",
       "      <td>0.0</td>\n",
       "      <td>0.0</td>\n",
       "      <td>10096508.0</td>\n",
       "      <td>1672174.0</td>\n",
       "      <td>54.0</td>\n",
       "      <td>54.0</td>\n",
       "      <td>54.0</td>\n",
       "      <td>0.0</td>\n",
       "      <td>...</td>\n",
       "      <td>0.0</td>\n",
       "      <td>503.362728</td>\n",
       "      <td>2.192727</td>\n",
       "      <td>463.477754</td>\n",
       "      <td>183.506358</td>\n",
       "      <td>23.0</td>\n",
       "      <td>193.0</td>\n",
       "      <td>2.0</td>\n",
       "      <td>0.0</td>\n",
       "      <td>0.0</td>\n",
       "    </tr>\n",
       "  </tbody>\n",
       "</table>\n",
       "<p>5 rows × 51 columns</p>\n",
       "</div>"
      ],
      "text/plain": [
       "   target  target_clicks  target_carts  target_orders  session_id        aid  \\\n",
       "0     0.0            0.0           0.0            0.0  10096508.0  1658869.0   \n",
       "1     0.0            0.0           0.0            0.0  10096508.0  1662207.0   \n",
       "2     0.0            0.0           0.0            0.0  10096508.0  1662799.0   \n",
       "3     0.0            0.0           0.0            0.0  10096508.0  1666231.0   \n",
       "4     0.0            0.0           0.0            0.0  10096508.0  1672174.0   \n",
       "\n",
       "   min_top20  avg_top20  max_top20  in_session  ...  number_orders  \\\n",
       "0       83.0       83.0       83.0         0.0  ...            0.0   \n",
       "1       38.0       51.0       64.0         0.0  ...            0.0   \n",
       "2       31.0       31.0       31.0         0.0  ...            0.0   \n",
       "3       70.0       78.0       82.0         0.0  ...            0.0   \n",
       "4       54.0       54.0       54.0         0.0  ...            0.0   \n",
       "\n",
       "   first_seen   last_seen  first_bought  last_bought  bought_overall  \\\n",
       "0  503.275254    0.267939    503.275254    82.948090            41.0   \n",
       "1  482.900077  102.934701           NaN          NaN             0.0   \n",
       "2  485.097319  154.847848    485.097319   179.171330             3.0   \n",
       "3  503.217558    1.789421    420.395221    35.984462            13.0   \n",
       "4  503.362728    2.192727    463.477754   183.506358            23.0   \n",
       "\n",
       "   seen_overall  num_clicks_same_day  num_carts_same_day  num_orders_same_day  \n",
       "0         215.0                  1.0                 1.0                  0.0  \n",
       "1         118.0                  NaN                 NaN                  NaN  \n",
       "2          24.0                  NaN                 NaN                  NaN  \n",
       "3        1346.0                 19.0                 0.0                  0.0  \n",
       "4         193.0                  2.0                 0.0                  0.0  \n",
       "\n",
       "[5 rows x 51 columns]"
      ]
     },
     "execution_count": 12,
     "metadata": {},
     "output_type": "execute_result"
    }
   ],
   "source": [
    "df.head()"
   ]
  },
  {
   "cell_type": "code",
   "execution_count": 13,
   "id": "d66062f6",
   "metadata": {
    "ExecuteTime": {
     "end_time": "2022-12-01T17:56:47.596961Z",
     "start_time": "2022-12-01T17:56:28.663887Z"
    }
   },
   "outputs": [],
   "source": [
    "df['null_flag']=(df['avg_order_hours_from_click_avg']<99999).apply(int)\n",
    "df['in_session_carted_not_ordered']=((df['in_session_carted']>0)&(df['in_session_ordered']==0)).apply(int)\n",
    "df['in_session_clicked_not_carted']=((df['in_session_clicked']>0)&(df['in_session_carted']==0)).apply(int)\n",
    "# valid['null_flag']=(valid['avg_order_hours_from_click_avg']<99999).apply(int)\n",
    "# valid['in_session_carted_not_ordered']=((valid['in_session_carted']>0)&(valid['in_session_ordered']==0)).apply(int)\n",
    "# valid['in_session_clicked_not_carted']=((valid['in_session_clicked']>0)&(valid['in_session_carted']==0)).apply(int)"
   ]
  },
  {
   "cell_type": "code",
   "execution_count": 14,
   "id": "9726a4f1",
   "metadata": {
    "ExecuteTime": {
     "end_time": "2022-12-01T17:56:47.754970Z",
     "start_time": "2022-12-01T17:56:47.602971Z"
    }
   },
   "outputs": [
    {
     "data": {
      "text/plain": [
       "1    0.753876\n",
       "0    0.246124\n",
       "Name: null_flag, dtype: float64"
      ]
     },
     "execution_count": 14,
     "metadata": {},
     "output_type": "execute_result"
    }
   ],
   "source": [
    "df['null_flag'].value_counts(normalize=True)"
   ]
  },
  {
   "cell_type": "code",
   "execution_count": 15,
   "id": "a46ae7eb",
   "metadata": {
    "ExecuteTime": {
     "end_time": "2022-12-01T17:56:48.040129Z",
     "start_time": "2022-12-01T17:56:47.755966Z"
    }
   },
   "outputs": [
    {
     "data": {
      "text/plain": [
       "0.0    36031474\n",
       "1.0       39222\n",
       "Name: target, dtype: int64"
      ]
     },
     "execution_count": 15,
     "metadata": {},
     "output_type": "execute_result"
    }
   ],
   "source": [
    "df['target'].value_counts()"
   ]
  },
  {
   "cell_type": "code",
   "execution_count": 16,
   "id": "c43946b8",
   "metadata": {
    "ExecuteTime": {
     "end_time": "2022-12-01T17:56:48.055712Z",
     "start_time": "2022-12-01T17:56:48.041136Z"
    }
   },
   "outputs": [],
   "source": [
    "#df=df[df['null_flag']==1].reset_index()\n",
    "#valid=valid[valid['null_flag']==1].reset_index()"
   ]
  },
  {
   "cell_type": "code",
   "execution_count": 17,
   "id": "7e20d220",
   "metadata": {
    "ExecuteTime": {
     "end_time": "2022-12-01T17:56:48.213722Z",
     "start_time": "2022-12-01T17:56:48.057723Z"
    }
   },
   "outputs": [
    {
     "data": {
      "text/plain": [
       "0.0    36031474\n",
       "1.0       39222\n",
       "Name: target, dtype: int64"
      ]
     },
     "execution_count": 17,
     "metadata": {},
     "output_type": "execute_result"
    }
   ],
   "source": [
    "df['target'].value_counts()"
   ]
  },
  {
   "cell_type": "code",
   "execution_count": 18,
   "id": "14bd5920",
   "metadata": {
    "ExecuteTime": {
     "end_time": "2022-12-01T17:56:48.229458Z",
     "start_time": "2022-12-01T17:56:48.214723Z"
    }
   },
   "outputs": [],
   "source": [
    "# rand=np.random.randint(1, 11, df.shape[0])\n",
    "\n",
    "# train_mask=(df['sess_days_till_test']+df['sess_duration']/24)>0#rand<=8\n",
    "# valid_mask=(df['sess_days_till_test']+df['sess_duration']/24)>0#rand>8"
   ]
  },
  {
   "cell_type": "code",
   "execution_count": 19,
   "id": "bd81e8e4",
   "metadata": {
    "ExecuteTime": {
     "end_time": "2022-12-01T17:56:48.245448Z",
     "start_time": "2022-12-01T17:56:48.230461Z"
    }
   },
   "outputs": [],
   "source": [
    "# df[train_mask]['target'].value_counts()"
   ]
  },
  {
   "cell_type": "code",
   "execution_count": 20,
   "id": "ae9c452a",
   "metadata": {
    "ExecuteTime": {
     "end_time": "2022-12-01T17:56:48.261334Z",
     "start_time": "2022-12-01T17:56:48.246447Z"
    }
   },
   "outputs": [],
   "source": [
    "# df[valid_mask]['target'].value_counts()"
   ]
  },
  {
   "cell_type": "code",
   "execution_count": 21,
   "id": "a0108774",
   "metadata": {
    "ExecuteTime": {
     "end_time": "2022-12-01T17:56:48.276343Z",
     "start_time": "2022-12-01T17:56:48.262342Z"
    }
   },
   "outputs": [],
   "source": [
    "col_target='target'\n",
    "col_exclude=[\n",
    "'session_id',\n",
    "'aid',\n",
    "# 'num_times_ordered_overall',\n",
    "'number_carts_orders',\n",
    "'number_carts',\n",
    "'number_orders',\n",
    "'sess_days_till_test',\n",
    "'sess_dayofmonth',\n",
    "# 'in_session',\n",
    "# 'in_session_clicked',\n",
    "# 'in_session_carted',\n",
    "#  'in_session_ordered',\n",
    "#  'in_session_score',\n",
    "'first_seen',\n",
    "'first_bought',\n",
    "\n",
    "'target_clicks',\n",
    "'target_carts',\n",
    "'target_orders',\n",
    "col_target,]"
   ]
  },
  {
   "cell_type": "code",
   "execution_count": 22,
   "id": "c9bc904b",
   "metadata": {
    "ExecuteTime": {
     "end_time": "2022-12-01T17:56:48.292333Z",
     "start_time": "2022-12-01T17:56:48.277341Z"
    }
   },
   "outputs": [],
   "source": [
    "# df[col_target]=df[col_target].apply(int)"
   ]
  },
  {
   "cell_type": "markdown",
   "id": "4f79568a",
   "metadata": {},
   "source": [
    "# Data exploration"
   ]
  },
  {
   "cell_type": "code",
   "execution_count": 23,
   "id": "eb8c02e9",
   "metadata": {
    "ExecuteTime": {
     "end_time": "2022-12-01T17:56:48.307832Z",
     "start_time": "2022-12-01T17:56:48.293343Z"
    }
   },
   "outputs": [],
   "source": [
    "col_preds=[col for col in df.columns[3:] if col not in col_exclude]"
   ]
  },
  {
   "cell_type": "code",
   "execution_count": 24,
   "id": "28f51914",
   "metadata": {
    "ExecuteTime": {
     "end_time": "2022-12-01T17:56:48.323833Z",
     "start_time": "2022-12-01T17:56:48.308824Z"
    }
   },
   "outputs": [
    {
     "data": {
      "text/plain": [
       "41"
      ]
     },
     "execution_count": 24,
     "metadata": {},
     "output_type": "execute_result"
    }
   ],
   "source": [
    "len(col_preds)"
   ]
  },
  {
   "cell_type": "code",
   "execution_count": 25,
   "id": "f2ec960c",
   "metadata": {
    "ExecuteTime": {
     "end_time": "2022-12-01T17:56:48.339831Z",
     "start_time": "2022-12-01T17:56:48.324826Z"
    }
   },
   "outputs": [
    {
     "data": {
      "text/plain": [
       "['min_top20',\n",
       " 'avg_top20',\n",
       " 'max_top20',\n",
       " 'in_session',\n",
       " 'in_session_clicked',\n",
       " 'in_session_carted',\n",
       " 'in_session_ordered',\n",
       " 'in_session_score',\n",
       " 'in_session_score_time_weighted',\n",
       " 'times_in_top20',\n",
       " 'times_in_top20_last_week',\n",
       " 'min_order_hours_from_click_avg',\n",
       " 'avg_order_hours_from_click_avg',\n",
       " 'avg_num_sessions_ordered',\n",
       " 'sum_num_sessions_ordered',\n",
       " 'avg_num_occured_overall',\n",
       " 'sum_num_occured_overall',\n",
       " 'last_num_sessions_ordered',\n",
       " 'last_hour_num_sessions_ordered',\n",
       " 'num_times_ordered_overall',\n",
       " 'sess_num_events',\n",
       " 'sess_num_clicks',\n",
       " 'sess_num_carts',\n",
       " 'sess_num_orders',\n",
       " 'sess_num_clicks_last_hour',\n",
       " 'sess_num_carts_last_hour',\n",
       " 'sess_num_orders_last_hour',\n",
       " 'sess_duration',\n",
       " 'sess_minute',\n",
       " 'sess_hour',\n",
       " 'sess_dayofweek',\n",
       " 'last_seen',\n",
       " 'last_bought',\n",
       " 'bought_overall',\n",
       " 'seen_overall',\n",
       " 'num_clicks_same_day',\n",
       " 'num_carts_same_day',\n",
       " 'num_orders_same_day',\n",
       " 'null_flag',\n",
       " 'in_session_carted_not_ordered',\n",
       " 'in_session_clicked_not_carted']"
      ]
     },
     "execution_count": 25,
     "metadata": {},
     "output_type": "execute_result"
    }
   ],
   "source": [
    "col_preds"
   ]
  },
  {
   "cell_type": "code",
   "execution_count": 26,
   "id": "449bf3ec",
   "metadata": {
    "ExecuteTime": {
     "end_time": "2022-12-01T17:56:48.354828Z",
     "start_time": "2022-12-01T17:56:48.341824Z"
    },
    "hide_input": false
   },
   "outputs": [],
   "source": [
    "# %%time\n",
    "# # Basic test to identify more attractive classificator\n",
    "# # Models\n",
    "# import lightgbm as lgb\n",
    "# from xgboost import XGBClassifier\n",
    "# from sklearn.ensemble import RandomForestClassifier, GradientBoostingClassifier\n",
    "# from sklearn import linear_model\n",
    "\n",
    "# from sklearn.pipeline import Pipeline\n",
    "# from sklearn.model_selection import StratifiedKFold, cross_val_score\n",
    "\n",
    "# # Metrics\n",
    "# from sklearn.metrics import roc_curve, roc_auc_score\n",
    "\n",
    "# sample=df.sample(100000)\n",
    "\n",
    "# # train cross validation set\n",
    "# X_cv = sample[col_preds].fillna(0).reset_index(drop=True)\n",
    "# y_cv =sample[col_target].reset_index(drop=True)\n",
    "\n",
    "# BM_DATA = []\n",
    "# # crossvalidation type StratifiedKFold\n",
    "# SKF = StratifiedKFold(n_splits=5, shuffle=True, random_state=seed)\n",
    "\n",
    "# # fit the models from the list\n",
    "# for model_name, model in [\n",
    "#         ('LinearRegression', linear_model.LinearRegression()),\n",
    "#         ('Ridge', linear_model.RidgeClassifier(normalize=True, random_state=seed)),\n",
    "#         ('BayesianRidge', linear_model.BayesianRidge()),\n",
    "#         ('Lasso', linear_model.LassoLars(random_state=seed)),\n",
    "#         ('RandomForest', RandomForestClassifier(random_state=seed)),\n",
    "#         ('GradientBoosting', GradientBoostingClassifier(random_state=seed)),\n",
    "#         ('XGBoost', XGBClassifier(eval_metric='auc',\n",
    "#                               use_label_encoder=False,\n",
    "#                               random_state=seed))\n",
    "         \n",
    "# ]:\n",
    "#     CLF_MODEL = Pipeline([(model_name, model)])\n",
    "#     # Cross validation score\n",
    "#     print([model_name, cross_val_score(CLF_MODEL,\n",
    "#                                                 X_cv,\n",
    "#                                                 y_cv,\n",
    "#                                                 scoring='roc_auc',\n",
    "#                                                 cv=SKF).mean()])\n",
    "#     BM_DATA.append([model_name, cross_val_score(CLF_MODEL,\n",
    "#                                                 X_cv,\n",
    "#                                                 y_cv,\n",
    "#                                                 scoring='roc_auc',\n",
    "#                                                 cv=SKF).mean()])\n",
    "# # Cross validation score for lgb\n",
    "# BM_DATA.append(['LGBM', lgb.cv(params = {\n",
    "#         'task': 'train',\n",
    "#         'boosting_type': 'gbdt',\n",
    "#         'objective':'binary',\n",
    "#         'metric':'auc',\n",
    "#         'force_row_wise':True,\n",
    "#         'verbose':-1\n",
    "#         }, train_set=lgb.Dataset(X_cv, y_cv), folds=SKF)['auc-mean'][-1]])\n",
    "\n",
    "# del sample\n",
    "\n",
    "# # Result of the models\n",
    "# pd.DataFrame.from_records(BM_DATA, columns=['model', 'roc_auc']).sort_values(by='roc_auc', ascending=False).head(10)"
   ]
  },
  {
   "cell_type": "markdown",
   "id": "cddd700f",
   "metadata": {
    "ExecuteTime": {
     "end_time": "2022-11-16T09:07:24.490773Z",
     "start_time": "2022-11-16T09:07:24.490773Z"
    }
   },
   "source": [
    "# LGBM model"
   ]
  },
  {
   "cell_type": "markdown",
   "id": "a2fcaa42",
   "metadata": {},
   "source": [
    "## Hyperparameter tuning"
   ]
  },
  {
   "cell_type": "markdown",
   "id": "df29fbd8",
   "metadata": {},
   "source": [
    "## Model fitting"
   ]
  },
  {
   "cell_type": "code",
   "execution_count": 30,
   "id": "b4ad4343",
   "metadata": {
    "ExecuteTime": {
     "end_time": "2022-12-01T18:25:37.602072Z",
     "start_time": "2022-12-01T17:58:50.187394Z"
    },
    "code_folding": []
   },
   "outputs": [
    {
     "name": "stdout",
     "output_type": "stream",
     "text": [
      "[LightGBM] [Warning] bagging_fraction is set=0.65, subsample=0.46 will be ignored. Current value: bagging_fraction=0.65\n",
      "[LightGBM] [Warning] bagging_fraction is set=0.65, subsample=0.46 will be ignored. Current value: bagging_fraction=0.65\n",
      "[LightGBM] [Warning] Auto-choosing row-wise multi-threading, the overhead of testing was 1.412251 seconds.\n",
      "You can set `force_row_wise=true` to remove the overhead.\n",
      "And if memory is not enough, you can set `force_col_wise=true`.\n",
      "[LightGBM] [Warning] bagging_fraction is set=0.65, subsample=0.46 will be ignored. Current value: bagging_fraction=0.65\n",
      "[1]\tvalid_0's auc: 0.92213\n",
      "Training until validation scores don't improve for 20 rounds\n",
      "[2]\tvalid_0's auc: 0.928467\n",
      "[3]\tvalid_0's auc: 0.930293\n",
      "[4]\tvalid_0's auc: 0.931544\n",
      "[5]\tvalid_0's auc: 0.933784\n",
      "[6]\tvalid_0's auc: 0.93465\n",
      "[7]\tvalid_0's auc: 0.93534\n",
      "[8]\tvalid_0's auc: 0.936056\n",
      "[9]\tvalid_0's auc: 0.936428\n",
      "[10]\tvalid_0's auc: 0.936979\n",
      "[11]\tvalid_0's auc: 0.937423\n",
      "[12]\tvalid_0's auc: 0.937722\n",
      "[13]\tvalid_0's auc: 0.938024\n",
      "[14]\tvalid_0's auc: 0.938352\n",
      "[15]\tvalid_0's auc: 0.93875\n",
      "[16]\tvalid_0's auc: 0.938917\n",
      "[17]\tvalid_0's auc: 0.939207\n",
      "[18]\tvalid_0's auc: 0.939404\n",
      "[19]\tvalid_0's auc: 0.939598\n",
      "[20]\tvalid_0's auc: 0.939778\n",
      "[21]\tvalid_0's auc: 0.939907\n",
      "[22]\tvalid_0's auc: 0.940064\n",
      "[23]\tvalid_0's auc: 0.940217\n",
      "[24]\tvalid_0's auc: 0.940362\n",
      "[25]\tvalid_0's auc: 0.940483\n",
      "[26]\tvalid_0's auc: 0.940589\n",
      "[27]\tvalid_0's auc: 0.940739\n",
      "[28]\tvalid_0's auc: 0.940824\n",
      "[29]\tvalid_0's auc: 0.940962\n",
      "[30]\tvalid_0's auc: 0.941073\n",
      "[31]\tvalid_0's auc: 0.941152\n",
      "[32]\tvalid_0's auc: 0.941226\n",
      "[33]\tvalid_0's auc: 0.941277\n",
      "[34]\tvalid_0's auc: 0.941374\n",
      "[35]\tvalid_0's auc: 0.941459\n",
      "[36]\tvalid_0's auc: 0.941526\n",
      "[37]\tvalid_0's auc: 0.941591\n",
      "[38]\tvalid_0's auc: 0.941631\n",
      "[39]\tvalid_0's auc: 0.941702\n",
      "[40]\tvalid_0's auc: 0.941757\n",
      "[41]\tvalid_0's auc: 0.941836\n",
      "[42]\tvalid_0's auc: 0.942141\n",
      "[43]\tvalid_0's auc: 0.942187\n",
      "[44]\tvalid_0's auc: 0.942228\n",
      "[45]\tvalid_0's auc: 0.942262\n",
      "[46]\tvalid_0's auc: 0.942303\n",
      "[47]\tvalid_0's auc: 0.942355\n",
      "[48]\tvalid_0's auc: 0.942402\n",
      "[49]\tvalid_0's auc: 0.942449\n",
      "[50]\tvalid_0's auc: 0.942493\n",
      "[51]\tvalid_0's auc: 0.941993\n",
      "[52]\tvalid_0's auc: 0.942033\n",
      "[53]\tvalid_0's auc: 0.943853\n",
      "[54]\tvalid_0's auc: 0.943906\n",
      "[55]\tvalid_0's auc: 0.943956\n",
      "[56]\tvalid_0's auc: 0.944002\n",
      "[57]\tvalid_0's auc: 0.94405\n",
      "[58]\tvalid_0's auc: 0.944092\n",
      "[59]\tvalid_0's auc: 0.944128\n",
      "[60]\tvalid_0's auc: 0.944161\n",
      "[61]\tvalid_0's auc: 0.944196\n",
      "[62]\tvalid_0's auc: 0.944232\n",
      "[63]\tvalid_0's auc: 0.944264\n",
      "[64]\tvalid_0's auc: 0.944294\n",
      "[65]\tvalid_0's auc: 0.944332\n",
      "[66]\tvalid_0's auc: 0.944363\n",
      "[67]\tvalid_0's auc: 0.944401\n",
      "[68]\tvalid_0's auc: 0.944429\n",
      "[69]\tvalid_0's auc: 0.94445\n",
      "[70]\tvalid_0's auc: 0.944475\n",
      "[71]\tvalid_0's auc: 0.944499\n",
      "[72]\tvalid_0's auc: 0.944528\n",
      "[73]\tvalid_0's auc: 0.944551\n",
      "[74]\tvalid_0's auc: 0.944577\n",
      "[75]\tvalid_0's auc: 0.94461\n",
      "[76]\tvalid_0's auc: 0.944641\n",
      "[77]\tvalid_0's auc: 0.944663\n",
      "[78]\tvalid_0's auc: 0.944689\n",
      "[79]\tvalid_0's auc: 0.944704\n",
      "[80]\tvalid_0's auc: 0.944728\n",
      "[81]\tvalid_0's auc: 0.944743\n",
      "[82]\tvalid_0's auc: 0.944768\n",
      "[83]\tvalid_0's auc: 0.944794\n",
      "[84]\tvalid_0's auc: 0.944879\n",
      "[85]\tvalid_0's auc: 0.944896\n",
      "[86]\tvalid_0's auc: 0.944918\n",
      "[87]\tvalid_0's auc: 0.94494\n",
      "[88]\tvalid_0's auc: 0.944956\n",
      "[89]\tvalid_0's auc: 0.944974\n",
      "[90]\tvalid_0's auc: 0.944989\n",
      "[91]\tvalid_0's auc: 0.945011\n",
      "[92]\tvalid_0's auc: 0.945026\n",
      "[93]\tvalid_0's auc: 0.945043\n",
      "[94]\tvalid_0's auc: 0.945069\n",
      "[95]\tvalid_0's auc: 0.945093\n",
      "[96]\tvalid_0's auc: 0.945113\n",
      "[97]\tvalid_0's auc: 0.945131\n",
      "[98]\tvalid_0's auc: 0.945146\n",
      "[99]\tvalid_0's auc: 0.945161\n",
      "[100]\tvalid_0's auc: 0.945177\n",
      "[101]\tvalid_0's auc: 0.945196\n",
      "[102]\tvalid_0's auc: 0.94521\n",
      "[103]\tvalid_0's auc: 0.945229\n",
      "[104]\tvalid_0's auc: 0.945668\n",
      "[105]\tvalid_0's auc: 0.945686\n",
      "[106]\tvalid_0's auc: 0.945702\n",
      "[107]\tvalid_0's auc: 0.945726\n",
      "[108]\tvalid_0's auc: 0.945744\n",
      "[109]\tvalid_0's auc: 0.945756\n",
      "[110]\tvalid_0's auc: 0.945784\n",
      "[111]\tvalid_0's auc: 0.945795\n",
      "[112]\tvalid_0's auc: 0.945821\n",
      "[113]\tvalid_0's auc: 0.945835\n",
      "[114]\tvalid_0's auc: 0.945849\n",
      "[115]\tvalid_0's auc: 0.945863\n",
      "[116]\tvalid_0's auc: 0.945894\n",
      "[117]\tvalid_0's auc: 0.945906\n",
      "[118]\tvalid_0's auc: 0.945918\n",
      "[119]\tvalid_0's auc: 0.945931\n",
      "[120]\tvalid_0's auc: 0.945955\n",
      "[121]\tvalid_0's auc: 0.945972\n",
      "[122]\tvalid_0's auc: 0.945992\n",
      "[123]\tvalid_0's auc: 0.946004\n",
      "[124]\tvalid_0's auc: 0.946024\n",
      "[125]\tvalid_0's auc: 0.946043\n",
      "[126]\tvalid_0's auc: 0.946057\n",
      "[127]\tvalid_0's auc: 0.94607\n",
      "[128]\tvalid_0's auc: 0.946083\n",
      "[129]\tvalid_0's auc: 0.9461\n",
      "[130]\tvalid_0's auc: 0.946116\n",
      "[131]\tvalid_0's auc: 0.946132\n",
      "[132]\tvalid_0's auc: 0.946147\n",
      "[133]\tvalid_0's auc: 0.946166\n",
      "[134]\tvalid_0's auc: 0.946178\n",
      "[135]\tvalid_0's auc: 0.946191\n",
      "[136]\tvalid_0's auc: 0.946206\n",
      "[137]\tvalid_0's auc: 0.946219\n",
      "[138]\tvalid_0's auc: 0.946234\n",
      "[139]\tvalid_0's auc: 0.946251\n",
      "[140]\tvalid_0's auc: 0.946266\n",
      "[141]\tvalid_0's auc: 0.946279\n",
      "[142]\tvalid_0's auc: 0.946295\n",
      "[143]\tvalid_0's auc: 0.946309\n",
      "[144]\tvalid_0's auc: 0.946324\n",
      "[145]\tvalid_0's auc: 0.946339\n",
      "[146]\tvalid_0's auc: 0.946351\n",
      "[147]\tvalid_0's auc: 0.946361\n",
      "[148]\tvalid_0's auc: 0.946377\n",
      "[149]\tvalid_0's auc: 0.946394\n",
      "[150]\tvalid_0's auc: 0.946403\n",
      "[151]\tvalid_0's auc: 0.946415\n",
      "[152]\tvalid_0's auc: 0.946424\n",
      "[153]\tvalid_0's auc: 0.946436\n",
      "[154]\tvalid_0's auc: 0.946445\n",
      "[155]\tvalid_0's auc: 0.94646\n",
      "[156]\tvalid_0's auc: 0.946474\n",
      "[157]\tvalid_0's auc: 0.946483\n",
      "[158]\tvalid_0's auc: 0.946496\n",
      "[159]\tvalid_0's auc: 0.946509\n",
      "[160]\tvalid_0's auc: 0.946519\n",
      "[161]\tvalid_0's auc: 0.946527\n",
      "[162]\tvalid_0's auc: 0.946535\n",
      "[163]\tvalid_0's auc: 0.946545\n",
      "[164]\tvalid_0's auc: 0.946555\n",
      "[165]\tvalid_0's auc: 0.946567\n",
      "[166]\tvalid_0's auc: 0.94658\n",
      "[167]\tvalid_0's auc: 0.946587\n",
      "[168]\tvalid_0's auc: 0.9466\n",
      "[169]\tvalid_0's auc: 0.946613\n",
      "[170]\tvalid_0's auc: 0.94662\n",
      "[171]\tvalid_0's auc: 0.94663\n",
      "[172]\tvalid_0's auc: 0.946642\n",
      "[173]\tvalid_0's auc: 0.946649\n",
      "[174]\tvalid_0's auc: 0.946661\n",
      "[175]\tvalid_0's auc: 0.946667\n",
      "[176]\tvalid_0's auc: 0.946679\n",
      "[177]\tvalid_0's auc: 0.946691\n",
      "[178]\tvalid_0's auc: 0.946698\n",
      "[179]\tvalid_0's auc: 0.946707\n",
      "[180]\tvalid_0's auc: 0.946715\n",
      "[181]\tvalid_0's auc: 0.946725\n",
      "[182]\tvalid_0's auc: 0.946732\n",
      "[183]\tvalid_0's auc: 0.946738\n",
      "[184]\tvalid_0's auc: 0.946749\n",
      "[185]\tvalid_0's auc: 0.946761\n",
      "[186]\tvalid_0's auc: 0.946774\n",
      "[187]\tvalid_0's auc: 0.946789\n",
      "[188]\tvalid_0's auc: 0.946795\n",
      "[189]\tvalid_0's auc: 0.94681\n",
      "[190]\tvalid_0's auc: 0.946819\n",
      "[191]\tvalid_0's auc: 0.946827\n",
      "[192]\tvalid_0's auc: 0.946838\n",
      "[193]\tvalid_0's auc: 0.946844\n",
      "[194]\tvalid_0's auc: 0.946851\n",
      "[195]\tvalid_0's auc: 0.946857\n",
      "[196]\tvalid_0's auc: 0.946868\n",
      "[197]\tvalid_0's auc: 0.946879\n",
      "[198]\tvalid_0's auc: 0.946886\n",
      "[199]\tvalid_0's auc: 0.946899\n",
      "[200]\tvalid_0's auc: 0.946908\n",
      "[201]\tvalid_0's auc: 0.946917\n",
      "[202]\tvalid_0's auc: 0.946922\n",
      "[203]\tvalid_0's auc: 0.946933\n",
      "[204]\tvalid_0's auc: 0.946939\n",
      "[205]\tvalid_0's auc: 0.946943\n",
      "[206]\tvalid_0's auc: 0.946954\n",
      "[207]\tvalid_0's auc: 0.946965\n",
      "[208]\tvalid_0's auc: 0.946972\n",
      "[209]\tvalid_0's auc: 0.946987\n",
      "[210]\tvalid_0's auc: 0.947005\n",
      "[211]\tvalid_0's auc: 0.947018\n",
      "[212]\tvalid_0's auc: 0.947026\n",
      "[213]\tvalid_0's auc: 0.947031\n",
      "[214]\tvalid_0's auc: 0.947042\n",
      "[215]\tvalid_0's auc: 0.947053\n",
      "[216]\tvalid_0's auc: 0.947062\n",
      "[217]\tvalid_0's auc: 0.947072\n",
      "[218]\tvalid_0's auc: 0.947082\n",
      "[219]\tvalid_0's auc: 0.94709\n",
      "[220]\tvalid_0's auc: 0.947098\n",
      "[221]\tvalid_0's auc: 0.947106\n",
      "[222]\tvalid_0's auc: 0.947113\n",
      "[223]\tvalid_0's auc: 0.947124\n",
      "[224]\tvalid_0's auc: 0.94713\n",
      "[225]\tvalid_0's auc: 0.947141\n",
      "[226]\tvalid_0's auc: 0.947151\n",
      "[227]\tvalid_0's auc: 0.947159\n",
      "[228]\tvalid_0's auc: 0.947169\n",
      "[229]\tvalid_0's auc: 0.947179\n",
      "[230]\tvalid_0's auc: 0.947186\n",
      "[231]\tvalid_0's auc: 0.947215\n",
      "[232]\tvalid_0's auc: 0.947216\n",
      "[233]\tvalid_0's auc: 0.947223\n",
      "[234]\tvalid_0's auc: 0.947229\n",
      "[235]\tvalid_0's auc: 0.947238\n",
      "[236]\tvalid_0's auc: 0.947245\n",
      "[237]\tvalid_0's auc: 0.947251\n",
      "[238]\tvalid_0's auc: 0.947258\n",
      "[239]\tvalid_0's auc: 0.947263\n",
      "[240]\tvalid_0's auc: 0.947273\n",
      "[241]\tvalid_0's auc: 0.947278\n",
      "[242]\tvalid_0's auc: 0.947284\n",
      "[243]\tvalid_0's auc: 0.947287\n",
      "[244]\tvalid_0's auc: 0.947295\n",
      "[245]\tvalid_0's auc: 0.947308\n",
      "[246]\tvalid_0's auc: 0.947318\n",
      "[247]\tvalid_0's auc: 0.947324\n",
      "[248]\tvalid_0's auc: 0.947332\n",
      "[249]\tvalid_0's auc: 0.947338\n",
      "[250]\tvalid_0's auc: 0.947344\n",
      "[251]\tvalid_0's auc: 0.947349\n",
      "[252]\tvalid_0's auc: 0.947358\n",
      "[253]\tvalid_0's auc: 0.947369\n",
      "[254]\tvalid_0's auc: 0.947376\n",
      "[255]\tvalid_0's auc: 0.947383\n",
      "[256]\tvalid_0's auc: 0.947391\n"
     ]
    },
    {
     "name": "stdout",
     "output_type": "stream",
     "text": [
      "[257]\tvalid_0's auc: 0.947399\n",
      "[258]\tvalid_0's auc: 0.947408\n",
      "[259]\tvalid_0's auc: 0.947412\n",
      "[260]\tvalid_0's auc: 0.947419\n",
      "[261]\tvalid_0's auc: 0.947431\n",
      "[262]\tvalid_0's auc: 0.947437\n",
      "[263]\tvalid_0's auc: 0.947443\n",
      "[264]\tvalid_0's auc: 0.947453\n",
      "[265]\tvalid_0's auc: 0.947463\n",
      "[266]\tvalid_0's auc: 0.947469\n",
      "[267]\tvalid_0's auc: 0.947475\n",
      "[268]\tvalid_0's auc: 0.947485\n",
      "[269]\tvalid_0's auc: 0.947489\n",
      "[270]\tvalid_0's auc: 0.947497\n",
      "[271]\tvalid_0's auc: 0.947505\n",
      "[272]\tvalid_0's auc: 0.947514\n",
      "[273]\tvalid_0's auc: 0.947522\n",
      "[274]\tvalid_0's auc: 0.947528\n",
      "[275]\tvalid_0's auc: 0.947535\n",
      "[276]\tvalid_0's auc: 0.947544\n",
      "[277]\tvalid_0's auc: 0.947548\n",
      "[278]\tvalid_0's auc: 0.947554\n",
      "[279]\tvalid_0's auc: 0.947561\n",
      "[280]\tvalid_0's auc: 0.947568\n",
      "[281]\tvalid_0's auc: 0.947578\n",
      "[282]\tvalid_0's auc: 0.947585\n",
      "[283]\tvalid_0's auc: 0.947589\n",
      "[284]\tvalid_0's auc: 0.947595\n",
      "[285]\tvalid_0's auc: 0.947602\n",
      "[286]\tvalid_0's auc: 0.94761\n",
      "[287]\tvalid_0's auc: 0.947615\n",
      "[288]\tvalid_0's auc: 0.947624\n",
      "[289]\tvalid_0's auc: 0.947631\n",
      "[290]\tvalid_0's auc: 0.947637\n",
      "[291]\tvalid_0's auc: 0.947643\n",
      "[292]\tvalid_0's auc: 0.94765\n",
      "[293]\tvalid_0's auc: 0.947658\n",
      "[294]\tvalid_0's auc: 0.947665\n",
      "[295]\tvalid_0's auc: 0.947674\n",
      "[296]\tvalid_0's auc: 0.94768\n",
      "[297]\tvalid_0's auc: 0.947687\n",
      "[298]\tvalid_0's auc: 0.947692\n",
      "[299]\tvalid_0's auc: 0.947699\n",
      "[300]\tvalid_0's auc: 0.947702\n",
      "[301]\tvalid_0's auc: 0.947709\n",
      "[302]\tvalid_0's auc: 0.947717\n",
      "[303]\tvalid_0's auc: 0.947724\n",
      "[304]\tvalid_0's auc: 0.947729\n",
      "[305]\tvalid_0's auc: 0.947733\n",
      "[306]\tvalid_0's auc: 0.947742\n",
      "[307]\tvalid_0's auc: 0.947748\n",
      "[308]\tvalid_0's auc: 0.947754\n",
      "[309]\tvalid_0's auc: 0.947759\n",
      "[310]\tvalid_0's auc: 0.947764\n",
      "[311]\tvalid_0's auc: 0.94777\n",
      "[312]\tvalid_0's auc: 0.947778\n",
      "[313]\tvalid_0's auc: 0.947783\n",
      "[314]\tvalid_0's auc: 0.947788\n",
      "[315]\tvalid_0's auc: 0.947792\n",
      "[316]\tvalid_0's auc: 0.947802\n",
      "[317]\tvalid_0's auc: 0.947806\n",
      "[318]\tvalid_0's auc: 0.94781\n",
      "[319]\tvalid_0's auc: 0.947815\n",
      "[320]\tvalid_0's auc: 0.947822\n",
      "[321]\tvalid_0's auc: 0.947827\n",
      "[322]\tvalid_0's auc: 0.947832\n",
      "[323]\tvalid_0's auc: 0.947839\n",
      "[324]\tvalid_0's auc: 0.947845\n",
      "[325]\tvalid_0's auc: 0.947849\n",
      "[326]\tvalid_0's auc: 0.947855\n",
      "[327]\tvalid_0's auc: 0.947859\n",
      "[328]\tvalid_0's auc: 0.947867\n",
      "[329]\tvalid_0's auc: 0.947872\n",
      "[330]\tvalid_0's auc: 0.947881\n",
      "[331]\tvalid_0's auc: 0.947886\n",
      "[332]\tvalid_0's auc: 0.947892\n",
      "[333]\tvalid_0's auc: 0.947896\n",
      "[334]\tvalid_0's auc: 0.947901\n",
      "[335]\tvalid_0's auc: 0.947906\n",
      "[336]\tvalid_0's auc: 0.947916\n",
      "[337]\tvalid_0's auc: 0.947922\n",
      "[338]\tvalid_0's auc: 0.947927\n",
      "[339]\tvalid_0's auc: 0.947936\n",
      "[340]\tvalid_0's auc: 0.947943\n",
      "[341]\tvalid_0's auc: 0.947948\n",
      "[342]\tvalid_0's auc: 0.947953\n",
      "[343]\tvalid_0's auc: 0.947957\n",
      "[344]\tvalid_0's auc: 0.947963\n",
      "[345]\tvalid_0's auc: 0.947968\n",
      "[346]\tvalid_0's auc: 0.947974\n",
      "[347]\tvalid_0's auc: 0.947982\n",
      "[348]\tvalid_0's auc: 0.947986\n",
      "[349]\tvalid_0's auc: 0.947991\n",
      "[350]\tvalid_0's auc: 0.947995\n",
      "[351]\tvalid_0's auc: 0.948\n",
      "[352]\tvalid_0's auc: 0.948003\n",
      "[353]\tvalid_0's auc: 0.94801\n",
      "[354]\tvalid_0's auc: 0.948017\n",
      "[355]\tvalid_0's auc: 0.948389\n",
      "[356]\tvalid_0's auc: 0.948396\n",
      "[357]\tvalid_0's auc: 0.948402\n",
      "[358]\tvalid_0's auc: 0.948407\n",
      "[359]\tvalid_0's auc: 0.948411\n",
      "[360]\tvalid_0's auc: 0.948416\n",
      "[361]\tvalid_0's auc: 0.948421\n",
      "[362]\tvalid_0's auc: 0.948428\n",
      "[363]\tvalid_0's auc: 0.948433\n",
      "[364]\tvalid_0's auc: 0.94844\n",
      "[365]\tvalid_0's auc: 0.948444\n",
      "[366]\tvalid_0's auc: 0.948447\n",
      "[367]\tvalid_0's auc: 0.948453\n",
      "[368]\tvalid_0's auc: 0.948459\n",
      "[369]\tvalid_0's auc: 0.948466\n",
      "[370]\tvalid_0's auc: 0.948469\n",
      "[371]\tvalid_0's auc: 0.948473\n",
      "[372]\tvalid_0's auc: 0.948478\n",
      "[373]\tvalid_0's auc: 0.948483\n",
      "[374]\tvalid_0's auc: 0.948486\n",
      "[375]\tvalid_0's auc: 0.948493\n",
      "[376]\tvalid_0's auc: 0.948495\n",
      "[377]\tvalid_0's auc: 0.948499\n",
      "[378]\tvalid_0's auc: 0.948506\n",
      "[379]\tvalid_0's auc: 0.94851\n",
      "[380]\tvalid_0's auc: 0.948514\n",
      "[381]\tvalid_0's auc: 0.948519\n",
      "[382]\tvalid_0's auc: 0.948526\n",
      "[383]\tvalid_0's auc: 0.94853\n",
      "[384]\tvalid_0's auc: 0.948534\n",
      "[385]\tvalid_0's auc: 0.94854\n",
      "[386]\tvalid_0's auc: 0.948546\n",
      "[387]\tvalid_0's auc: 0.948552\n",
      "[388]\tvalid_0's auc: 0.948555\n",
      "[389]\tvalid_0's auc: 0.948562\n",
      "[390]\tvalid_0's auc: 0.948565\n",
      "[391]\tvalid_0's auc: 0.948571\n",
      "[392]\tvalid_0's auc: 0.948576\n",
      "[393]\tvalid_0's auc: 0.948581\n",
      "[394]\tvalid_0's auc: 0.948587\n",
      "[395]\tvalid_0's auc: 0.948592\n",
      "[396]\tvalid_0's auc: 0.948596\n",
      "[397]\tvalid_0's auc: 0.948597\n",
      "[398]\tvalid_0's auc: 0.9486\n",
      "[399]\tvalid_0's auc: 0.948679\n",
      "[400]\tvalid_0's auc: 0.948685\n",
      "[401]\tvalid_0's auc: 0.94869\n",
      "[402]\tvalid_0's auc: 0.948694\n",
      "[403]\tvalid_0's auc: 0.948698\n",
      "[404]\tvalid_0's auc: 0.948705\n",
      "[405]\tvalid_0's auc: 0.948712\n",
      "[406]\tvalid_0's auc: 0.948718\n",
      "[407]\tvalid_0's auc: 0.94872\n",
      "[408]\tvalid_0's auc: 0.948726\n",
      "[409]\tvalid_0's auc: 0.948732\n",
      "[410]\tvalid_0's auc: 0.948739\n",
      "[411]\tvalid_0's auc: 0.948743\n",
      "[412]\tvalid_0's auc: 0.948749\n",
      "[413]\tvalid_0's auc: 0.948754\n",
      "[414]\tvalid_0's auc: 0.948757\n",
      "[415]\tvalid_0's auc: 0.948761\n",
      "[416]\tvalid_0's auc: 0.948764\n",
      "[417]\tvalid_0's auc: 0.948771\n",
      "[418]\tvalid_0's auc: 0.948776\n",
      "[419]\tvalid_0's auc: 0.948781\n",
      "[420]\tvalid_0's auc: 0.948786\n",
      "[421]\tvalid_0's auc: 0.94879\n",
      "[422]\tvalid_0's auc: 0.948792\n",
      "[423]\tvalid_0's auc: 0.948797\n",
      "[424]\tvalid_0's auc: 0.948802\n",
      "[425]\tvalid_0's auc: 0.948809\n",
      "[426]\tvalid_0's auc: 0.948813\n",
      "[427]\tvalid_0's auc: 0.948819\n",
      "[428]\tvalid_0's auc: 0.948823\n",
      "[429]\tvalid_0's auc: 0.948826\n",
      "[430]\tvalid_0's auc: 0.948831\n",
      "[431]\tvalid_0's auc: 0.948837\n",
      "[432]\tvalid_0's auc: 0.94884\n",
      "[433]\tvalid_0's auc: 0.948844\n",
      "[434]\tvalid_0's auc: 0.948849\n",
      "[435]\tvalid_0's auc: 0.948853\n",
      "[436]\tvalid_0's auc: 0.948857\n",
      "[437]\tvalid_0's auc: 0.948862\n",
      "[438]\tvalid_0's auc: 0.948867\n",
      "[439]\tvalid_0's auc: 0.948871\n",
      "[440]\tvalid_0's auc: 0.948875\n",
      "[441]\tvalid_0's auc: 0.948877\n",
      "[442]\tvalid_0's auc: 0.948882\n",
      "[443]\tvalid_0's auc: 0.948886\n",
      "[444]\tvalid_0's auc: 0.948891\n",
      "[445]\tvalid_0's auc: 0.948894\n",
      "[446]\tvalid_0's auc: 0.948896\n",
      "[447]\tvalid_0's auc: 0.9489\n",
      "[448]\tvalid_0's auc: 0.948907\n",
      "[449]\tvalid_0's auc: 0.94891\n",
      "[450]\tvalid_0's auc: 0.948914\n",
      "[451]\tvalid_0's auc: 0.948919\n",
      "[452]\tvalid_0's auc: 0.948924\n",
      "[453]\tvalid_0's auc: 0.948928\n",
      "[454]\tvalid_0's auc: 0.94893\n",
      "[455]\tvalid_0's auc: 0.948934\n",
      "[456]\tvalid_0's auc: 0.948938\n",
      "[457]\tvalid_0's auc: 0.948941\n",
      "[458]\tvalid_0's auc: 0.948946\n",
      "[459]\tvalid_0's auc: 0.94895\n",
      "[460]\tvalid_0's auc: 0.948954\n",
      "[461]\tvalid_0's auc: 0.948958\n",
      "[462]\tvalid_0's auc: 0.94896\n",
      "[463]\tvalid_0's auc: 0.948965\n",
      "[464]\tvalid_0's auc: 0.94897\n",
      "[465]\tvalid_0's auc: 0.948974\n",
      "[466]\tvalid_0's auc: 0.948976\n",
      "[467]\tvalid_0's auc: 0.948981\n",
      "[468]\tvalid_0's auc: 0.948985\n",
      "[469]\tvalid_0's auc: 0.948988\n",
      "[470]\tvalid_0's auc: 0.948993\n",
      "[471]\tvalid_0's auc: 0.948995\n",
      "[472]\tvalid_0's auc: 0.948997\n",
      "[473]\tvalid_0's auc: 0.949\n",
      "[474]\tvalid_0's auc: 0.949004\n",
      "[475]\tvalid_0's auc: 0.949007\n",
      "[476]\tvalid_0's auc: 0.949009\n",
      "[477]\tvalid_0's auc: 0.949015\n",
      "[478]\tvalid_0's auc: 0.949019\n",
      "[479]\tvalid_0's auc: 0.949025\n",
      "[480]\tvalid_0's auc: 0.949031\n",
      "[481]\tvalid_0's auc: 0.949034\n",
      "[482]\tvalid_0's auc: 0.949039\n",
      "[483]\tvalid_0's auc: 0.949043\n",
      "[484]\tvalid_0's auc: 0.949047\n",
      "[485]\tvalid_0's auc: 0.949051\n",
      "[486]\tvalid_0's auc: 0.949056\n",
      "[487]\tvalid_0's auc: 0.94906\n",
      "[488]\tvalid_0's auc: 0.949064\n",
      "[489]\tvalid_0's auc: 0.949071\n",
      "[490]\tvalid_0's auc: 0.949073\n",
      "[491]\tvalid_0's auc: 0.949079\n",
      "[492]\tvalid_0's auc: 0.949087\n",
      "[493]\tvalid_0's auc: 0.949094\n",
      "[494]\tvalid_0's auc: 0.949111\n",
      "[495]\tvalid_0's auc: 0.949117\n",
      "[496]\tvalid_0's auc: 0.949121\n",
      "[497]\tvalid_0's auc: 0.949126\n",
      "[498]\tvalid_0's auc: 0.94913\n",
      "[499]\tvalid_0's auc: 0.949135\n",
      "[500]\tvalid_0's auc: 0.949237\n",
      "Did not meet early stopping. Best iteration is:\n",
      "[500]\tvalid_0's auc: 0.949237\n"
     ]
    }
   ],
   "source": [
    "import lightgbm as lgb\n",
    "\n",
    "train_data = lgb.Dataset(df[col_preds], label=df[col_target])\n",
    "valid_data = lgb.Dataset(df[col_preds], label=df[col_target])\n",
    "\n",
    "parameters = {'objective': 'binary',\n",
    "              'metric': 'auc',\n",
    "              'is_unbalance': 'true',\n",
    "              'boosting': 'gbdt',\n",
    "              'verbose': 0,}\n",
    "\n",
    "parameters[\"num_leaves\"] = int(round(9.725236104028639))\n",
    "parameters['max_depth'] = int(round( 7.532898415585816))\n",
    "parameters['max_bin'] = int(round(5.169796606672757))\n",
    "parameters['learning_rate'] = round(0.004575693231283588,3)\n",
    "parameters['feature_fraction'] = round( 0.8110328360295611,2)\n",
    "parameters['bagging_fraction'] = round(0.6496238764162328,2)\n",
    "parameters['subsample'] = round(0.4561955508284766,2)\n",
    "\n",
    "\n",
    "xgb_model = lgb.train(parameters,\n",
    "                 train_data,\n",
    "                 valid_sets = valid_data, \n",
    "                 num_boost_round=500,\n",
    "                 early_stopping_rounds=20)\n",
    "  \n"
   ]
  },
  {
   "cell_type": "code",
   "execution_count": 31,
   "id": "681848e9",
   "metadata": {
    "ExecuteTime": {
     "end_time": "2022-12-01T18:27:48.109718Z",
     "start_time": "2022-12-01T18:25:37.615534Z"
    }
   },
   "outputs": [],
   "source": [
    "df['XGB_SCORE']=xgb_model.predict(df[col_preds])\n",
    "# train['XGB_SCORE']=xgb_model.predict_proba(train[col_preds])[:, 1]\n",
    "# valid['XGB_SCORE']=xgb_model.predict(valid[col_preds])"
   ]
  },
  {
   "cell_type": "code",
   "execution_count": 32,
   "id": "2de71a52",
   "metadata": {
    "ExecuteTime": {
     "end_time": "2022-12-01T18:28:06.981418Z",
     "start_time": "2022-12-01T18:27:48.123718Z"
    },
    "hide_input": false
   },
   "outputs": [
    {
     "name": "stdout",
     "output_type": "stream",
     "text": [
      "The Lift on the train set is: 8.600182092231103\n",
      "The gini on the train set is: 0.8984742309898339\n"
     ]
    }
   ],
   "source": [
    "print('The Lift on the train set is: '+ str(mofr.metrics.lift(df[col_target], df['XGB_SCORE'])))\n",
    "print('The gini on the train set is: '+ str(mofr.metrics.gini(df[col_target].apply(int), df['XGB_SCORE'])))\n",
    "# print('The accuracy on the train set is: '+ str(mofr.metrics.accuracy_score(train[col_target].apply(int), train['XGB_SCORE'].apply(lambda x: int(x>0.5)))))\n",
    "# print('\\n')\n",
    "# print('The Lift on the valid set is: '+ str(mofr.metrics.lift(valid[col_target], valid['XGB_SCORE'])))\n",
    "# print('The gini on the valid set is: '+ str(mofr.metrics.gini(valid[col_target].apply(int), valid['XGB_SCORE'])))\n",
    "# # print('The accuracy on the valid set is: '+ str(mofr.metrics.accuracy_score(df[valid_mask][col_target].apply(int), df[valid_mask]['XGB_SCORE'].apply(lambda x: int(x>0.5)))))\n",
    "# print('\\n')"
   ]
  },
  {
   "cell_type": "code",
   "execution_count": 33,
   "id": "0fdb1eb8",
   "metadata": {
    "ExecuteTime": {
     "end_time": "2022-12-01T18:28:07.798098Z",
     "start_time": "2022-12-01T18:28:06.982419Z"
    }
   },
   "outputs": [
    {
     "data": {
      "text/plain": [
       "<AxesSubplot:title={'center':'Feature importance'}, xlabel='Feature importance', ylabel='Features'>"
      ]
     },
     "execution_count": 33,
     "metadata": {},
     "output_type": "execute_result"
    },
    {
     "data": {
      "image/png": "[encoded data removed]",
      "text/plain": [
       "<Figure size 640x480 with 1 Axes>"
      ]
     },
     "metadata": {},
     "output_type": "display_data"
    }
   ],
   "source": [
    "lgb.plot_importance(xgb_model)"
   ]
  },
  {
   "cell_type": "markdown",
   "id": "79e777cb",
   "metadata": {},
   "source": [
    "# Saving the model"
   ]
  },
  {
   "cell_type": "code",
   "execution_count": 34,
   "id": "09e05bb0",
   "metadata": {
    "ExecuteTime": {
     "end_time": "2022-12-01T18:28:07.828926Z",
     "start_time": "2022-12-01T18:28:07.802102Z"
    }
   },
   "outputs": [],
   "source": [
    "#file_name = \"otto_xgb_model_10_3weeks_no_nulls.pkl\"\n",
    "\n",
    "# save\n",
    "pickle.dump(xgb_model, open(file_name, \"wb\"))\n",
    "\n",
    "# # load\n",
    "# #xgb_model= pickle.load(open(file_name, \"rb\"))"
   ]
  },
  {
   "cell_type": "markdown",
   "id": "1bf5594e",
   "metadata": {},
   "source": [
    "# Validation check"
   ]
  },
  {
   "cell_type": "code",
   "execution_count": 35,
   "id": "f8bf9003",
   "metadata": {
    "ExecuteTime": {
     "end_time": "2022-12-01T18:28:07.844919Z",
     "start_time": "2022-12-01T18:28:07.830926Z"
    },
    "hide_input": true
   },
   "outputs": [],
   "source": [
    "del df\n",
    "# del train"
   ]
  },
  {
   "cell_type": "code",
   "execution_count": 36,
   "id": "f8e91196",
   "metadata": {
    "ExecuteTime": {
     "end_time": "2022-12-01T18:28:07.860828Z",
     "start_time": "2022-12-01T18:28:07.847920Z"
    },
    "hide_input": true
   },
   "outputs": [],
   "source": [
    "import pandas as pd\n",
    "import numpy as np\n",
    "import random\n",
    "import mofr\n",
    "import matplotlib.pyplot as plt\n",
    "import seaborn as sns\n",
    "from xgboost import XGBClassifier, plot_tree\n",
    "import math\n",
    "import pickle\n",
    "\n",
    "\n",
    "import xgboost as xgb"
   ]
  },
  {
   "cell_type": "code",
   "execution_count": 37,
   "id": "3089bba7",
   "metadata": {
    "ExecuteTime": {
     "end_time": "2022-12-01T18:28:07.876715Z",
     "start_time": "2022-12-01T18:28:07.861834Z"
    }
   },
   "outputs": [],
   "source": [
    "# file_name = \"otto_xgb_model_12_cv_571.pkl\"\n",
    "\n",
    "# #load\n",
    "# xgb_model= pickle.load(open(file_name, \"rb\"))"
   ]
  },
  {
   "cell_type": "code",
   "execution_count": 38,
   "id": "f837bc0b",
   "metadata": {
    "ExecuteTime": {
     "end_time": "2022-12-01T18:28:07.892153Z",
     "start_time": "2022-12-01T18:28:07.879083Z"
    },
    "hide_input": true
   },
   "outputs": [],
   "source": [
    "col_target='target'"
   ]
  },
  {
   "cell_type": "code",
   "execution_count": 39,
   "id": "fa7d81a1",
   "metadata": {
    "ExecuteTime": {
     "end_time": "2022-12-01T18:30:02.949653Z",
     "start_time": "2022-12-01T18:28:07.893154Z"
    }
   },
   "outputs": [],
   "source": [
    "valid=pd.read_parquet('valid_sample_full_cv_3targets_experimental.parquet')\n",
    "valid.columns=[x.lower() for x in valid.columns]\n",
    "valid['null_flag']=(valid['avg_order_hours_from_click_avg']<99999).apply(int)\n",
    "valid['in_session_carted_not_ordered']=((valid['in_session_carted']>0)&(valid['in_session_ordered']==0)).apply(int)\n",
    "valid['in_session_clicked_not_carted']=((valid['in_session_clicked']>0)&(valid['in_session_carted']==0)).apply(int)\n",
    "valid['XGB_SCORE']=xgb_model.predict(valid[xgb_model.feature_name()])"
   ]
  },
  {
   "cell_type": "code",
   "execution_count": 40,
   "id": "0431ef09",
   "metadata": {
    "ExecuteTime": {
     "end_time": "2022-12-01T18:37:51.242220Z",
     "start_time": "2022-12-01T18:30:02.965644Z"
    }
   },
   "outputs": [
    {
     "name": "stdout",
     "output_type": "stream",
     "text": [
      "100 0.9115960172974613 32152.0\n",
      "90 0.9109290831476717 32143.0\n",
      "80 0.9101387923580773 32141.0\n",
      "70 0.9089343161628893 32131.0\n",
      "60 0.9078925635213553 32139.0\n",
      "50 0.9056110391723964 32142.0\n",
      "40 0.9024259039039622 32131.0\n",
      "30 0.8995606604100574 32117.0\n"
     ]
    },
    {
     "data": {
      "text/html": [
       "<div>\n",
       "<style scoped>\n",
       "    .dataframe tbody tr th:only-of-type {\n",
       "        vertical-align: middle;\n",
       "    }\n",
       "\n",
       "    .dataframe tbody tr th {\n",
       "        vertical-align: top;\n",
       "    }\n",
       "\n",
       "    .dataframe thead th {\n",
       "        text-align: right;\n",
       "    }\n",
       "</style>\n",
       "<table border=\"1\" class=\"dataframe\">\n",
       "  <thead>\n",
       "    <tr style=\"text-align: right;\">\n",
       "      <th></th>\n",
       "      <th>0</th>\n",
       "      <th>1</th>\n",
       "      <th>2</th>\n",
       "    </tr>\n",
       "  </thead>\n",
       "  <tbody>\n",
       "    <tr>\n",
       "      <th>0</th>\n",
       "      <td>100</td>\n",
       "      <td>0.911596</td>\n",
       "      <td>32152.0</td>\n",
       "    </tr>\n",
       "    <tr>\n",
       "      <th>1</th>\n",
       "      <td>90</td>\n",
       "      <td>0.910929</td>\n",
       "      <td>32143.0</td>\n",
       "    </tr>\n",
       "    <tr>\n",
       "      <th>2</th>\n",
       "      <td>80</td>\n",
       "      <td>0.910139</td>\n",
       "      <td>32141.0</td>\n",
       "    </tr>\n",
       "    <tr>\n",
       "      <th>3</th>\n",
       "      <td>70</td>\n",
       "      <td>0.908934</td>\n",
       "      <td>32131.0</td>\n",
       "    </tr>\n",
       "    <tr>\n",
       "      <th>4</th>\n",
       "      <td>60</td>\n",
       "      <td>0.907893</td>\n",
       "      <td>32139.0</td>\n",
       "    </tr>\n",
       "    <tr>\n",
       "      <th>5</th>\n",
       "      <td>50</td>\n",
       "      <td>0.905611</td>\n",
       "      <td>32142.0</td>\n",
       "    </tr>\n",
       "    <tr>\n",
       "      <th>6</th>\n",
       "      <td>40</td>\n",
       "      <td>0.902426</td>\n",
       "      <td>32131.0</td>\n",
       "    </tr>\n",
       "    <tr>\n",
       "      <th>7</th>\n",
       "      <td>30</td>\n",
       "      <td>0.899561</td>\n",
       "      <td>32117.0</td>\n",
       "    </tr>\n",
       "  </tbody>\n",
       "</table>\n",
       "</div>"
      ],
      "text/plain": [
       "     0         1        2\n",
       "0  100  0.911596  32152.0\n",
       "1   90  0.910929  32143.0\n",
       "2   80  0.910139  32141.0\n",
       "3   70  0.908934  32131.0\n",
       "4   60  0.907893  32139.0\n",
       "5   50  0.905611  32142.0\n",
       "6   40  0.902426  32131.0\n",
       "7   30  0.899561  32117.0"
      ]
     },
     "execution_count": 40,
     "metadata": {},
     "output_type": "execute_result"
    }
   ],
   "source": [
    "result=[]\n",
    "for i in [100,90,80,70,60,50,40,30]:\n",
    "    valid_=valid[valid['min_top20']<=i]\n",
    "    gini=mofr.metrics.gini(valid_[col_target], valid_['XGB_SCORE'])\n",
    "    a=valid_[['session_id', 'aid', 'XGB_SCORE',col_target]].groupby('session_id').apply(lambda x : x.sort_values(by = ['XGB_SCORE'], ascending = [False]).head(20).reset_index(drop = True)).reset_index(drop = True)\n",
    "    num_captured=np.sum(a[col_target])\n",
    "    print (i,gini, num_captured)\n",
    "    result.append((i,gini, num_captured))\n",
    "    \n",
    "pd.DataFrame(result)"
   ]
  },
  {
   "cell_type": "code",
   "execution_count": 41,
   "id": "39c9dccf",
   "metadata": {
    "ExecuteTime": {
     "end_time": "2022-12-01T18:37:51.272046Z",
     "start_time": "2022-12-01T18:37:51.246396Z"
    },
    "hide_input": true
   },
   "outputs": [
    {
     "data": {
      "text/html": [
       "<div>\n",
       "<style scoped>\n",
       "    .dataframe tbody tr th:only-of-type {\n",
       "        vertical-align: middle;\n",
       "    }\n",
       "\n",
       "    .dataframe tbody tr th {\n",
       "        vertical-align: top;\n",
       "    }\n",
       "\n",
       "    .dataframe thead th {\n",
       "        text-align: right;\n",
       "    }\n",
       "</style>\n",
       "<table border=\"1\" class=\"dataframe\">\n",
       "  <thead>\n",
       "    <tr style=\"text-align: right;\">\n",
       "      <th></th>\n",
       "      <th>target</th>\n",
       "      <th>target_clicks</th>\n",
       "      <th>target_carts</th>\n",
       "      <th>target_orders</th>\n",
       "      <th>session_id</th>\n",
       "      <th>aid</th>\n",
       "      <th>min_top20</th>\n",
       "      <th>avg_top20</th>\n",
       "      <th>max_top20</th>\n",
       "      <th>in_session</th>\n",
       "      <th>...</th>\n",
       "      <th>last_bought</th>\n",
       "      <th>bought_overall</th>\n",
       "      <th>seen_overall</th>\n",
       "      <th>num_clicks_same_day</th>\n",
       "      <th>num_carts_same_day</th>\n",
       "      <th>num_orders_same_day</th>\n",
       "      <th>null_flag</th>\n",
       "      <th>in_session_carted_not_ordered</th>\n",
       "      <th>in_session_clicked_not_carted</th>\n",
       "      <th>XGB_SCORE</th>\n",
       "    </tr>\n",
       "  </thead>\n",
       "  <tbody>\n",
       "    <tr>\n",
       "      <th>0</th>\n",
       "      <td>0.0</td>\n",
       "      <td>0.0</td>\n",
       "      <td>0.0</td>\n",
       "      <td>0.0</td>\n",
       "      <td>11098546.0</td>\n",
       "      <td>605.0</td>\n",
       "      <td>9.0</td>\n",
       "      <td>50.000000</td>\n",
       "      <td>91.0</td>\n",
       "      <td>0.0</td>\n",
       "      <td>...</td>\n",
       "      <td>5.625833</td>\n",
       "      <td>255.0</td>\n",
       "      <td>3004.0</td>\n",
       "      <td>9.0</td>\n",
       "      <td>1.0</td>\n",
       "      <td>1.0</td>\n",
       "      <td>1</td>\n",
       "      <td>0</td>\n",
       "      <td>0</td>\n",
       "      <td>0.152916</td>\n",
       "    </tr>\n",
       "    <tr>\n",
       "      <th>1</th>\n",
       "      <td>0.0</td>\n",
       "      <td>0.0</td>\n",
       "      <td>0.0</td>\n",
       "      <td>0.0</td>\n",
       "      <td>11098546.0</td>\n",
       "      <td>665.0</td>\n",
       "      <td>71.0</td>\n",
       "      <td>71.000000</td>\n",
       "      <td>71.0</td>\n",
       "      <td>0.0</td>\n",
       "      <td>...</td>\n",
       "      <td>171.533104</td>\n",
       "      <td>3.0</td>\n",
       "      <td>31.0</td>\n",
       "      <td>1.0</td>\n",
       "      <td>0.0</td>\n",
       "      <td>0.0</td>\n",
       "      <td>0</td>\n",
       "      <td>0</td>\n",
       "      <td>0</td>\n",
       "      <td>0.032125</td>\n",
       "    </tr>\n",
       "    <tr>\n",
       "      <th>2</th>\n",
       "      <td>0.0</td>\n",
       "      <td>0.0</td>\n",
       "      <td>0.0</td>\n",
       "      <td>0.0</td>\n",
       "      <td>11098546.0</td>\n",
       "      <td>1089.0</td>\n",
       "      <td>16.0</td>\n",
       "      <td>45.666667</td>\n",
       "      <td>82.0</td>\n",
       "      <td>0.0</td>\n",
       "      <td>...</td>\n",
       "      <td>1.657222</td>\n",
       "      <td>864.0</td>\n",
       "      <td>15026.0</td>\n",
       "      <td>127.0</td>\n",
       "      <td>1.0</td>\n",
       "      <td>0.0</td>\n",
       "      <td>1</td>\n",
       "      <td>0</td>\n",
       "      <td>0</td>\n",
       "      <td>0.099905</td>\n",
       "    </tr>\n",
       "    <tr>\n",
       "      <th>3</th>\n",
       "      <td>0.0</td>\n",
       "      <td>0.0</td>\n",
       "      <td>0.0</td>\n",
       "      <td>0.0</td>\n",
       "      <td>11098546.0</td>\n",
       "      <td>1303.0</td>\n",
       "      <td>35.0</td>\n",
       "      <td>60.500000</td>\n",
       "      <td>87.0</td>\n",
       "      <td>0.0</td>\n",
       "      <td>...</td>\n",
       "      <td>28.698889</td>\n",
       "      <td>464.0</td>\n",
       "      <td>4974.0</td>\n",
       "      <td>32.0</td>\n",
       "      <td>5.0</td>\n",
       "      <td>0.0</td>\n",
       "      <td>1</td>\n",
       "      <td>0</td>\n",
       "      <td>0</td>\n",
       "      <td>0.060689</td>\n",
       "    </tr>\n",
       "    <tr>\n",
       "      <th>4</th>\n",
       "      <td>0.0</td>\n",
       "      <td>0.0</td>\n",
       "      <td>0.0</td>\n",
       "      <td>0.0</td>\n",
       "      <td>11098546.0</td>\n",
       "      <td>1398.0</td>\n",
       "      <td>15.0</td>\n",
       "      <td>15.000000</td>\n",
       "      <td>15.0</td>\n",
       "      <td>0.0</td>\n",
       "      <td>...</td>\n",
       "      <td>NaN</td>\n",
       "      <td>0.0</td>\n",
       "      <td>11.0</td>\n",
       "      <td>NaN</td>\n",
       "      <td>NaN</td>\n",
       "      <td>NaN</td>\n",
       "      <td>0</td>\n",
       "      <td>0</td>\n",
       "      <td>0</td>\n",
       "      <td>0.183634</td>\n",
       "    </tr>\n",
       "  </tbody>\n",
       "</table>\n",
       "<p>5 rows × 55 columns</p>\n",
       "</div>"
      ],
      "text/plain": [
       "   target  target_clicks  target_carts  target_orders  session_id     aid  \\\n",
       "0     0.0            0.0           0.0            0.0  11098546.0   605.0   \n",
       "1     0.0            0.0           0.0            0.0  11098546.0   665.0   \n",
       "2     0.0            0.0           0.0            0.0  11098546.0  1089.0   \n",
       "3     0.0            0.0           0.0            0.0  11098546.0  1303.0   \n",
       "4     0.0            0.0           0.0            0.0  11098546.0  1398.0   \n",
       "\n",
       "   min_top20  avg_top20  max_top20  in_session  ...  last_bought  \\\n",
       "0        9.0  50.000000       91.0         0.0  ...     5.625833   \n",
       "1       71.0  71.000000       71.0         0.0  ...   171.533104   \n",
       "2       16.0  45.666667       82.0         0.0  ...     1.657222   \n",
       "3       35.0  60.500000       87.0         0.0  ...    28.698889   \n",
       "4       15.0  15.000000       15.0         0.0  ...          NaN   \n",
       "\n",
       "   bought_overall  seen_overall  num_clicks_same_day  num_carts_same_day  \\\n",
       "0           255.0        3004.0                  9.0                 1.0   \n",
       "1             3.0          31.0                  1.0                 0.0   \n",
       "2           864.0       15026.0                127.0                 1.0   \n",
       "3           464.0        4974.0                 32.0                 5.0   \n",
       "4             0.0          11.0                  NaN                 NaN   \n",
       "\n",
       "   num_orders_same_day  null_flag  in_session_carted_not_ordered  \\\n",
       "0                  1.0          1                              0   \n",
       "1                  0.0          0                              0   \n",
       "2                  0.0          1                              0   \n",
       "3                  0.0          1                              0   \n",
       "4                  NaN          0                              0   \n",
       "\n",
       "   in_session_clicked_not_carted  XGB_SCORE  \n",
       "0                              0   0.152916  \n",
       "1                              0   0.032125  \n",
       "2                              0   0.099905  \n",
       "3                              0   0.060689  \n",
       "4                              0   0.183634  \n",
       "\n",
       "[5 rows x 55 columns]"
      ]
     },
     "execution_count": 41,
     "metadata": {},
     "output_type": "execute_result"
    }
   ],
   "source": [
    "valid.head()"
   ]
  },
  {
   "cell_type": "code",
   "execution_count": 42,
   "id": "af31e5c9",
   "metadata": {
    "ExecuteTime": {
     "end_time": "2022-12-01T18:37:51.415036Z",
     "start_time": "2022-12-01T18:37:51.274046Z"
    }
   },
   "outputs": [
    {
     "data": {
      "text/plain": [
       "0.0    28769561\n",
       "1.0       38983\n",
       "Name: target, dtype: int64"
      ]
     },
     "execution_count": 42,
     "metadata": {},
     "output_type": "execute_result"
    }
   ],
   "source": [
    "valid[col_target].value_counts()"
   ]
  },
  {
   "cell_type": "code",
   "execution_count": 43,
   "id": "a952b9b0",
   "metadata": {
    "ExecuteTime": {
     "end_time": "2022-12-01T18:37:51.430875Z",
     "start_time": "2022-12-01T18:37:51.420812Z"
    }
   },
   "outputs": [],
   "source": [
    "# coverage=(pd.DataFrame(df.groupby('session_id')[col_target].apply(np.sum)).reset_index()).merge(df.groupby('session_id')[['number_carts_orders','number_carts', 'number_orders']].apply(np.mean), how='inner', on='session_id')\n",
    "# target_coverage=np.sum(coverage[coverage['number_carts_orders']>0]['target'])/np.sum(coverage[coverage['number_carts_orders']>0]['number_carts_orders'].apply(lambda x: min([20,x])))\n",
    "# # target_avg_coverage=np.sum(coverage[coverage['number_carts_orders']>0]['target']/coverage[coverage['number_carts_orders']>0]['number_carts_orders'])\n",
    "# target_avg_coverage_carts=np.sum(coverage[coverage['number_carts']>0]['target'])/np.sum(coverage[coverage['number_carts']>0]['number_carts'].apply(lambda x: min([20,x])))\n",
    "# target_avg_coverage_orders=np.sum(coverage[coverage['number_orders']>0]['target'])/np.sum(coverage[coverage['number_orders']>0]['number_orders'].apply(lambda x: min([20,x])))\n",
    "\n",
    "# print(f'The coverage of the target on the train set is: {target_coverage}')\n",
    "# print(f'The mean coverage of carts on the train set is: {target_avg_coverage_carts}')\n",
    "# print(f'The mean coverage of orders on the train set is: {target_avg_coverage_orders}')\n",
    "# print(f'Max score possible with this set is: {0.1*0.5+0.3*target_avg_coverage_carts+0.6*target_avg_coverage_orders}')"
   ]
  },
  {
   "cell_type": "code",
   "execution_count": 44,
   "id": "fd5d39ee",
   "metadata": {
    "ExecuteTime": {
     "end_time": "2022-12-01T18:37:51.446874Z",
     "start_time": "2022-12-01T18:37:51.431869Z"
    }
   },
   "outputs": [],
   "source": [
    "# coverage=(pd.DataFrame(valid.groupby('session_id')[col_target].apply(np.sum)).reset_index()).merge(valid.groupby('session_id')[['number_carts_orders','number_carts', 'number_orders']].apply(np.mean), how='inner', on='session_id')\n",
    "# target_coverage=np.sum(coverage[coverage['number_carts_orders']>0]['target'])/np.sum(coverage[coverage['number_carts_orders']>0]['number_carts_orders'].apply(lambda x: min([20,x])))\n",
    "# # target_avg_coverage=np.sum(coverage[coverage['number_carts_orders']>0]['target']/coverage[coverage['number_carts_orders']>0]['number_carts_orders'])\n",
    "# target_avg_coverage_carts=np.sum(coverage[coverage['number_carts']>0]['target'])/np.sum(coverage[coverage['number_carts']>0]['number_carts'].apply(lambda x: min([20,x])))\n",
    "# target_avg_coverage_orders=np.sum(coverage[coverage['number_orders']>0]['target'])/np.sum(coverage[coverage['number_orders']>0]['number_orders'].apply(lambda x: min([20,x])))\n",
    "\n",
    "# print(f'The coverage of the target on the valid set is: {target_coverage}')\n",
    "# print(f'The mean coverage of carts on the valid set is: {target_avg_coverage_carts}')\n",
    "# print(f'The mean coverage of orders on the valid set is: {target_avg_coverage_orders}')\n",
    "# print(f'Max score possible with this set is: {0.1*0.5+0.3*target_avg_coverage_carts+0.6*target_avg_coverage_orders}')"
   ]
  },
  {
   "cell_type": "markdown",
   "id": "ebfdfe65",
   "metadata": {
    "ExecuteTime": {
     "end_time": "2022-11-20T12:44:42.896737Z",
     "start_time": "2022-11-20T12:44:42.882040Z"
    }
   },
   "source": [
    "## Submission XGB SCORE"
   ]
  },
  {
   "cell_type": "code",
   "execution_count": 45,
   "id": "bb79eb82",
   "metadata": {
    "ExecuteTime": {
     "end_time": "2022-12-01T18:39:08.964946Z",
     "start_time": "2022-12-01T18:37:51.447873Z"
    },
    "hide_input": false
   },
   "outputs": [],
   "source": [
    "a=valid.groupby('session_id').apply(lambda x : x.sort_values(by = ['XGB_SCORE'], ascending = [False]).head(20).reset_index(drop = True)).reset_index(drop = True)\n",
    "a['session_id']=a['session_id'].apply(lambda x: str(int(x)))\n",
    "a['aid']=a['aid'].apply(lambda x: str(int(x)))\n",
    "    \n",
    "pred_df=pd.DataFrame(a.groupby('session_id')['aid'].apply(list).apply(' '.join)).reset_index(drop=False).rename(columns={'aid':'labels'})"
   ]
  },
  {
   "cell_type": "code",
   "execution_count": 46,
   "id": "608d8d84",
   "metadata": {
    "ExecuteTime": {
     "end_time": "2022-12-01T18:39:08.979977Z",
     "start_time": "2022-12-01T18:39:08.967970Z"
    },
    "hide_input": false
   },
   "outputs": [],
   "source": [
    "# a=valid.groupby('session_id').apply(lambda x : x.sort_values(by = ['in_session','times_in_top20','XGB_SCORE'], ascending = [False,False,False]).head(20).reset_index(drop = True)).reset_index(drop = True)\n",
    "# a['session_id']=a['session_id'].apply(lambda x: str(int(x)))\n",
    "# a['aid']=a['aid'].apply(lambda x: str(int(x)))\n",
    "    \n",
    "# pred_df=pd.DataFrame(a.groupby('session_id')['aid'].apply(list).apply(' '.join)).reset_index(drop=False).rename(columns={'aid':'labels'})"
   ]
  },
  {
   "cell_type": "code",
   "execution_count": 47,
   "id": "333b1746",
   "metadata": {
    "ExecuteTime": {
     "end_time": "2022-12-01T18:39:09.011417Z",
     "start_time": "2022-12-01T18:39:08.981971Z"
    }
   },
   "outputs": [],
   "source": [
    "# TOP CLICKS AND ORDERS IN TEST\n",
    "top_clicks = ['485256', '1460571','108125','1551213','33343','613493','876493','152547','184976','1236775'\n",
    "              ,'1406660','836852','331708','1531805','29735','554660','634452','986164','959208','832192']\n",
    "\n",
    "top_carts = ['485256', '33343','613493','152547','876493','1406660','1736857','166037','1460571','1236775'\n",
    "             ,'554660','660655','1531805','1022566','231487','122983','1562705','923948','332654','544144']\n",
    "\n",
    "top_orders = ['876493', '1406660','1236775','166037','1460571','1531805','836852','634452','923948','1043508'\n",
    "             ,'832192','258353','801774','332654','1596897','29735','544144','1581568','1462420','1006198']"
   ]
  },
  {
   "cell_type": "code",
   "execution_count": 48,
   "id": "45645d8e",
   "metadata": {
    "ExecuteTime": {
     "end_time": "2022-12-01T18:39:09.090863Z",
     "start_time": "2022-12-01T18:39:09.012433Z"
    },
    "hide_input": true
   },
   "outputs": [],
   "source": [
    "submission_clicks_valid=pred_df.copy()\n",
    "submission_carts_valid=pred_df.copy()\n",
    "submission_orders_valid=pred_df.copy()\n",
    "\n",
    "submission_clicks_valid['session_type']=submission_clicks_valid['session_id'].apply(lambda x: x+'_clicks')\n",
    "submission_carts_valid['session_type']=submission_carts_valid['session_id'].apply(lambda x: x+'_carts')\n",
    "submission_orders_valid['session_type']=submission_orders_valid['session_id'].apply(lambda x: x+'_orders')     "
   ]
  },
  {
   "cell_type": "code",
   "execution_count": 49,
   "id": "2283a5d9",
   "metadata": {
    "ExecuteTime": {
     "end_time": "2022-12-01T18:39:10.716516Z",
     "start_time": "2022-12-01T18:39:09.092856Z"
    },
    "hide_input": true
   },
   "outputs": [],
   "source": [
    "submission_clicks_valid['labels']=submission_clicks_valid['labels'].apply(lambda x: list(x.split(' ')) + top_clicks).apply(lambda x: ' '.join(list(dict.fromkeys(x))[0:20]))\n",
    "submission_carts_valid['labels']=submission_carts_valid['labels'].apply(lambda x: list(x.split(' ')) + top_carts).apply(lambda x: ' '.join(list(dict.fromkeys(x))[0:20]))\n",
    "submission_orders_valid['labels']=submission_orders_valid['labels'].apply(lambda x: list(x.split(' ')) + top_carts).apply(lambda x: ' '.join(list(dict.fromkeys(x))[0:20]))"
   ]
  },
  {
   "cell_type": "code",
   "execution_count": 50,
   "id": "a6e3a72a",
   "metadata": {
    "ExecuteTime": {
     "end_time": "2022-12-01T18:39:10.779578Z",
     "start_time": "2022-12-01T18:39:10.718519Z"
    },
    "hide_input": true
   },
   "outputs": [],
   "source": [
    "submission_final_valid=pd.concat([submission_clicks_valid[['session_type', 'labels']],submission_carts_valid[['session_type', 'labels']],submission_orders_valid[['session_type', 'labels']]])"
   ]
  },
  {
   "cell_type": "code",
   "execution_count": 51,
   "id": "4d79747f",
   "metadata": {
    "ExecuteTime": {
     "end_time": "2022-12-01T18:39:17.455623Z",
     "start_time": "2022-12-01T18:39:10.781455Z"
    }
   },
   "outputs": [
    {
     "name": "stdout",
     "output_type": "stream",
     "text": [
      "clicks recall = 0.5000567380485353\n",
      "carts recall = 0.42156156006860723\n",
      "orders recall = 0.6526785714285714\n",
      "=============\n",
      "Overall Recall = 0.5680812846825786\n",
      "=============\n"
     ]
    }
   ],
   "source": [
    "# COMPUTE METRIC\n",
    "score = 0\n",
    "weights = {'clicks': 0.10, 'carts': 0.30, 'orders': 0.60}\n",
    "for t in ['clicks','carts','orders']:\n",
    "    sub = submission_final_valid.loc[submission_final_valid.session_type.str.contains(t)].copy()\n",
    "    sub['session'] = sub.session_type.apply(lambda x: int(x.split('_')[0]))\n",
    "    sub.labels = sub.labels.apply(lambda x: [int(i) for i in x.split(' ')[:20]])\n",
    "    test_labels = pd.read_parquet('test_cv_labels.parquet')\n",
    "    test_labels = test_labels.loc[test_labels['type']==t]\n",
    "    test_labels = test_labels.merge(sub, how='inner', on=['session'])\n",
    "    test_labels['hits'] = test_labels.apply(lambda df: len(set(df.ground_truth).intersection(set(df.labels))), axis=1)\n",
    "    test_labels['gt_count'] = test_labels.ground_truth.str.len().clip(0,20)\n",
    "    recall = test_labels['hits'].sum() / test_labels['gt_count'].sum()\n",
    "    score += weights[t]*recall\n",
    "    print(f'{t} recall =',recall)\n",
    "    \n",
    "print('=============')\n",
    "print('Overall Recall =',score)\n",
    "print('=============')"
   ]
  },
  {
   "cell_type": "markdown",
   "id": "a350e793",
   "metadata": {
    "ExecuteTime": {
     "end_time": "2022-11-20T14:47:53.897232Z",
     "start_time": "2022-11-20T14:47:53.887223Z"
    }
   },
   "source": [
    "# Misc"
   ]
  }
 ],
 "metadata": {
  "hide_input": false,
  "kernelspec": {
   "display_name": "Python 3 (ipykernel)",
   "language": "python",
   "name": "python3"
  },
  "language_info": {
   "codemirror_mode": {
    "name": "ipython",
    "version": 3
   },
   "file_extension": ".py",
   "mimetype": "text/x-python",
   "name": "python",
   "nbconvert_exporter": "python",
   "pygments_lexer": "ipython3",
   "version": "3.9.13"
  },
  "toc": {
   "base_numbering": 1,
   "nav_menu": {},
   "number_sections": true,
   "sideBar": true,
   "skip_h1_title": false,
   "title_cell": "Table of Contents",
   "title_sidebar": "Contents",
   "toc_cell": true,
   "toc_position": {
    "height": "calc(100% - 180px)",
    "left": "10px",
    "top": "150px",
    "width": "341.594px"
   },
   "toc_section_display": false,
   "toc_window_display": true
  },
  "varInspector": {
   "cols": {
    "lenName": 16,
    "lenType": 16,
    "lenVar": 40
   },
   "kernels_config": {
    "python": {
     "delete_cmd_postfix": "",
     "delete_cmd_prefix": "del ",
     "library": "var_list.py",
     "varRefreshCmd": "print(var_dic_list())"
    },
    "r": {
     "delete_cmd_postfix": ") ",
     "delete_cmd_prefix": "rm(",
     "library": "var_list.r",
     "varRefreshCmd": "cat(var_dic_list()) "
    }
   },
   "oldHeight": 122.844,
   "position": {
    "height": "144.844px",
    "left": "1503px",
    "right": "20px",
    "top": "120px",
    "width": "350px"
   },
   "types_to_exclude": [
    "module",
    "function",
    "builtin_function_or_method",
    "instance",
    "_Feature"
   ],
   "varInspector_section_display": "block",
   "window_display": false
  }
 },
 "nbformat": 4,
 "nbformat_minor": 5
}
