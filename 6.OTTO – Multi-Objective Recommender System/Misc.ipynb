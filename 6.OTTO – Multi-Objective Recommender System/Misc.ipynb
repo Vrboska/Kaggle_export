{
 "cells": [
  {
   "cell_type": "code",
   "execution_count": 2,
   "metadata": {
    "ExecuteTime": {
     "end_time": "2022-12-10T12:22:30.701271Z",
     "start_time": "2022-12-10T12:22:30.696256Z"
    }
   },
   "outputs": [],
   "source": [
    "import pandas as pd\n",
    "import numpy as np\n",
    "import pickle\n",
    "import math"
   ]
  },
  {
   "cell_type": "code",
   "execution_count": 3,
   "metadata": {
    "ExecuteTime": {
     "end_time": "2022-12-10T12:22:31.421048Z",
     "start_time": "2022-12-10T12:22:31.192698Z"
    },
    "scrolled": true
   },
   "outputs": [],
   "source": [
    "df=pd.read_parquet('valid_radek.parquet')"
   ]
  },
  {
   "cell_type": "code",
   "execution_count": 4,
   "metadata": {
    "ExecuteTime": {
     "end_time": "2022-12-10T12:22:31.970249Z",
     "start_time": "2022-12-10T12:22:31.947348Z"
    }
   },
   "outputs": [
    {
     "data": {
      "text/html": [
       "<div>\n",
       "<style scoped>\n",
       "    .dataframe tbody tr th:only-of-type {\n",
       "        vertical-align: middle;\n",
       "    }\n",
       "\n",
       "    .dataframe tbody tr th {\n",
       "        vertical-align: top;\n",
       "    }\n",
       "\n",
       "    .dataframe thead th {\n",
       "        text-align: right;\n",
       "    }\n",
       "</style>\n",
       "<table border=\"1\" class=\"dataframe\">\n",
       "  <thead>\n",
       "    <tr style=\"text-align: right;\">\n",
       "      <th></th>\n",
       "      <th>session</th>\n",
       "      <th>aid</th>\n",
       "      <th>ts</th>\n",
       "      <th>type</th>\n",
       "    </tr>\n",
       "  </thead>\n",
       "  <tbody>\n",
       "    <tr>\n",
       "      <th>0</th>\n",
       "      <td>11098528</td>\n",
       "      <td>11830</td>\n",
       "      <td>1661119200</td>\n",
       "      <td>0</td>\n",
       "    </tr>\n",
       "    <tr>\n",
       "      <th>1</th>\n",
       "      <td>11098529</td>\n",
       "      <td>1105029</td>\n",
       "      <td>1661119200</td>\n",
       "      <td>0</td>\n",
       "    </tr>\n",
       "    <tr>\n",
       "      <th>2</th>\n",
       "      <td>11098530</td>\n",
       "      <td>264500</td>\n",
       "      <td>1661119200</td>\n",
       "      <td>0</td>\n",
       "    </tr>\n",
       "    <tr>\n",
       "      <th>3</th>\n",
       "      <td>11098530</td>\n",
       "      <td>264500</td>\n",
       "      <td>1661119288</td>\n",
       "      <td>0</td>\n",
       "    </tr>\n",
       "    <tr>\n",
       "      <th>4</th>\n",
       "      <td>11098530</td>\n",
       "      <td>409236</td>\n",
       "      <td>1661119369</td>\n",
       "      <td>0</td>\n",
       "    </tr>\n",
       "  </tbody>\n",
       "</table>\n",
       "</div>"
      ],
      "text/plain": [
       "    session      aid          ts  type\n",
       "0  11098528    11830  1661119200     0\n",
       "1  11098529  1105029  1661119200     0\n",
       "2  11098530   264500  1661119200     0\n",
       "3  11098530   264500  1661119288     0\n",
       "4  11098530   409236  1661119369     0"
      ]
     },
     "execution_count": 4,
     "metadata": {},
     "output_type": "execute_result"
    }
   ],
   "source": [
    "df.head()"
   ]
  },
  {
   "cell_type": "code",
   "execution_count": 5,
   "metadata": {
    "ExecuteTime": {
     "end_time": "2022-12-10T12:22:32.767187Z",
     "start_time": "2022-12-10T12:22:32.749172Z"
    },
    "scrolled": false
   },
   "outputs": [
    {
     "name": "stdout",
     "output_type": "stream",
     "text": [
      "<class 'pandas.core.frame.DataFrame'>\n",
      "RangeIndex: 7683577 entries, 0 to 7683576\n",
      "Data columns (total 4 columns):\n",
      " #   Column   Dtype\n",
      "---  ------   -----\n",
      " 0   session  int32\n",
      " 1   aid      int32\n",
      " 2   ts       int32\n",
      " 3   type     uint8\n",
      "dtypes: int32(3), uint8(1)\n",
      "memory usage: 95.3 MB\n"
     ]
    }
   ],
   "source": [
    "df.info()"
   ]
  },
  {
   "cell_type": "code",
   "execution_count": 6,
   "metadata": {
    "ExecuteTime": {
     "end_time": "2022-12-10T12:22:36.493030Z",
     "start_time": "2022-12-10T12:22:36.480030Z"
    }
   },
   "outputs": [
    {
     "data": {
      "text/plain": [
       "7683577"
      ]
     },
     "execution_count": 6,
     "metadata": {},
     "output_type": "execute_result"
    }
   ],
   "source": [
    "len(df)"
   ]
  },
  {
   "cell_type": "code",
   "execution_count": 7,
   "metadata": {
    "ExecuteTime": {
     "end_time": "2022-12-10T12:22:40.339902Z",
     "start_time": "2022-12-10T12:22:40.321807Z"
    }
   },
   "outputs": [],
   "source": [
    "df.columns=[x.lower() for x in df.columns]"
   ]
  },
  {
   "cell_type": "code",
   "execution_count": 17,
   "metadata": {
    "ExecuteTime": {
     "end_time": "2022-11-22T23:30:22.046716Z",
     "start_time": "2022-11-22T23:25:13.785944Z"
    }
   },
   "outputs": [],
   "source": [
    "df=df.apply(pd.to_numeric)"
   ]
  },
  {
   "cell_type": "code",
   "execution_count": 18,
   "metadata": {
    "ExecuteTime": {
     "end_time": "2022-11-22T23:30:28.550218Z",
     "start_time": "2022-11-22T23:30:22.060720Z"
    }
   },
   "outputs": [],
   "source": [
    "df.to_parquet('valid_sample_full_cv_lastweek_cands_float.parquet')"
   ]
  },
  {
   "cell_type": "code",
   "execution_count": 8,
   "metadata": {
    "ExecuteTime": {
     "end_time": "2022-12-10T12:23:18.161707Z",
     "start_time": "2022-12-10T12:23:06.687470Z"
    }
   },
   "outputs": [],
   "source": [
    "df.to_csv('valid_radek.csv', index=False)"
   ]
  },
  {
   "cell_type": "markdown",
   "metadata": {
    "ExecuteTime": {
     "end_time": "2022-11-17T12:51:39.578121Z",
     "start_time": "2022-11-17T12:51:39.562494Z"
    }
   },
   "source": [
    "# Covisitation matrices from Chris Deotte"
   ]
  },
  {
   "cell_type": "code",
   "execution_count": 33,
   "metadata": {
    "ExecuteTime": {
     "end_time": "2022-11-22T22:17:38.535966Z",
     "start_time": "2022-11-22T22:17:36.999233Z"
    }
   },
   "outputs": [],
   "source": [
    "file_name = \"top_20_buy2buy_cv.pkl\"\n",
    "\n",
    "top_20_buy2buy= pickle.load(open(file_name, \"rb\"))"
   ]
  },
  {
   "cell_type": "code",
   "execution_count": 34,
   "metadata": {
    "ExecuteTime": {
     "end_time": "2022-11-22T22:17:39.153805Z",
     "start_time": "2022-11-22T22:17:38.538086Z"
    }
   },
   "outputs": [
    {
     "ename": "KeyboardInterrupt",
     "evalue": "",
     "output_type": "error",
     "traceback": [
      "\u001b[1;31m---------------------------------------------------------------------------\u001b[0m",
      "\u001b[1;31mKeyboardInterrupt\u001b[0m                         Traceback (most recent call last)",
      "\u001b[1;32m~\\AppData\\Local\\Temp\\ipykernel_14240\\2929998224.py\u001b[0m in \u001b[0;36m<module>\u001b[1;34m\u001b[0m\n\u001b[0;32m      2\u001b[0m \u001b[1;32mfor\u001b[0m \u001b[0mkey\u001b[0m\u001b[1;33m,\u001b[0m\u001b[0mitems\u001b[0m \u001b[1;32min\u001b[0m \u001b[0mtop_20_buy2buy\u001b[0m\u001b[1;33m.\u001b[0m\u001b[0mitems\u001b[0m\u001b[1;33m(\u001b[0m\u001b[1;33m)\u001b[0m\u001b[1;33m:\u001b[0m\u001b[1;33m\u001b[0m\u001b[1;33m\u001b[0m\u001b[0m\n\u001b[0;32m      3\u001b[0m     \u001b[1;32mfor\u001b[0m \u001b[0mitem\u001b[0m \u001b[1;32min\u001b[0m \u001b[0mitems\u001b[0m\u001b[1;33m:\u001b[0m\u001b[1;33m\u001b[0m\u001b[1;33m\u001b[0m\u001b[0m\n\u001b[1;32m----> 4\u001b[1;33m         \u001b[0mresult\u001b[0m\u001b[1;33m.\u001b[0m\u001b[0mappend\u001b[0m\u001b[1;33m(\u001b[0m\u001b[1;33m(\u001b[0m\u001b[0mkey\u001b[0m\u001b[1;33m,\u001b[0m\u001b[0mitem\u001b[0m\u001b[1;33m)\u001b[0m\u001b[1;33m)\u001b[0m\u001b[1;33m\u001b[0m\u001b[1;33m\u001b[0m\u001b[0m\n\u001b[0m",
      "\u001b[1;31mKeyboardInterrupt\u001b[0m: "
     ]
    }
   ],
   "source": [
    "result=[]\n",
    "for key,items in top_20_buy2buy.items():\n",
    "    for item in items:\n",
    "        result.append((key,item))"
   ]
  },
  {
   "cell_type": "code",
   "execution_count": null,
   "metadata": {
    "ExecuteTime": {
     "end_time": "2022-11-22T22:17:39.199757Z",
     "start_time": "2022-11-22T22:17:39.199757Z"
    }
   },
   "outputs": [],
   "source": [
    "result=pd.DataFrame(result, columns=['aid_click', 'aid_order'])"
   ]
  },
  {
   "cell_type": "code",
   "execution_count": null,
   "metadata": {
    "ExecuteTime": {
     "end_time": "2022-11-22T22:17:39.200758Z",
     "start_time": "2022-11-22T22:17:39.200758Z"
    }
   },
   "outputs": [],
   "source": [
    "len(result)"
   ]
  },
  {
   "cell_type": "code",
   "execution_count": null,
   "metadata": {
    "ExecuteTime": {
     "end_time": "2022-11-22T22:17:39.200758Z",
     "start_time": "2022-11-22T22:17:39.200758Z"
    }
   },
   "outputs": [],
   "source": [
    "result.to_csv('top_20_buy2buy_cv.csv', index=False)"
   ]
  },
  {
   "cell_type": "code",
   "execution_count": 2,
   "metadata": {
    "ExecuteTime": {
     "end_time": "2022-12-13T19:53:18.128398Z",
     "start_time": "2022-12-13T19:53:17.782184Z"
    }
   },
   "outputs": [],
   "source": [
    "import pandas as pd"
   ]
  },
  {
   "cell_type": "code",
   "execution_count": 3,
   "metadata": {
    "ExecuteTime": {
     "end_time": "2022-12-13T19:53:34.807064Z",
     "start_time": "2022-12-13T19:53:18.289139Z"
    }
   },
   "outputs": [],
   "source": [
    "df=pd.read_csv(r'submission_best.csv')\n",
    "df2=pd.read_csv(r'submission_final.csv')"
   ]
  },
  {
   "cell_type": "code",
   "execution_count": 4,
   "metadata": {
    "ExecuteTime": {
     "end_time": "2022-12-13T19:53:35.364318Z",
     "start_time": "2022-12-13T19:53:34.873717Z"
    }
   },
   "outputs": [
    {
     "data": {
      "text/plain": [
       "['749621 1321077 717616 1058210 881244 507572 568129 954732 746385 620804 448188 223067 926524 21429 297109 1563360 1617588 1113627 1731285 852172']"
      ]
     },
     "execution_count": 4,
     "metadata": {},
     "output_type": "execute_result"
    }
   ],
   "source": [
    "list(df[df['session_type'].apply(lambda x: x=='12905800_orders')]['labels'])"
   ]
  },
  {
   "cell_type": "code",
   "execution_count": 5,
   "metadata": {
    "ExecuteTime": {
     "end_time": "2022-12-13T19:53:35.917278Z",
     "start_time": "2022-12-13T19:53:35.428479Z"
    }
   },
   "outputs": [
    {
     "data": {
      "text/plain": [
       "['749621 1321077 717616 1058210 507572 881244 568129 746385 620804 223067 448188 954732 21429 926524 1394967 821889 1731285 278961 852172 1563360']"
      ]
     },
     "execution_count": 5,
     "metadata": {},
     "output_type": "execute_result"
    }
   ],
   "source": [
    "list(df2[df2['session_type'].apply(lambda x: x=='12905800_orders')]['labels'])"
   ]
  },
  {
   "cell_type": "code",
   "execution_count": 6,
   "metadata": {
    "ExecuteTime": {
     "end_time": "2022-12-13T19:53:36.565802Z",
     "start_time": "2022-12-13T19:53:35.981410Z"
    }
   },
   "outputs": [],
   "source": [
    "df_new=df[df['session_type'].apply(lambda x: 'clicks' in x)]"
   ]
  },
  {
   "cell_type": "code",
   "execution_count": 7,
   "metadata": {
    "ExecuteTime": {
     "end_time": "2022-12-13T19:53:37.386168Z",
     "start_time": "2022-12-13T19:53:36.629257Z"
    }
   },
   "outputs": [],
   "source": [
    "df_new=pd.concat([df_new, df2[df2['session_type'].apply(lambda x: 'clicks' not in x)]])"
   ]
  },
  {
   "cell_type": "code",
   "execution_count": 8,
   "metadata": {
    "ExecuteTime": {
     "end_time": "2022-12-13T19:53:37.462608Z",
     "start_time": "2022-12-13T19:53:37.448607Z"
    }
   },
   "outputs": [
    {
     "data": {
      "text/html": [
       "<div>\n",
       "<style scoped>\n",
       "    .dataframe tbody tr th:only-of-type {\n",
       "        vertical-align: middle;\n",
       "    }\n",
       "\n",
       "    .dataframe tbody tr th {\n",
       "        vertical-align: top;\n",
       "    }\n",
       "\n",
       "    .dataframe thead th {\n",
       "        text-align: right;\n",
       "    }\n",
       "</style>\n",
       "<table border=\"1\" class=\"dataframe\">\n",
       "  <thead>\n",
       "    <tr style=\"text-align: right;\">\n",
       "      <th></th>\n",
       "      <th>session_type</th>\n",
       "      <th>labels</th>\n",
       "    </tr>\n",
       "  </thead>\n",
       "  <tbody>\n",
       "    <tr>\n",
       "      <th>0</th>\n",
       "      <td>14564465_clicks</td>\n",
       "      <td>1411864 1768983 1264588 1585568 1466856 176444...</td>\n",
       "    </tr>\n",
       "    <tr>\n",
       "      <th>1</th>\n",
       "      <td>14564466_clicks</td>\n",
       "      <td>1207659 1853605 522206 1276297 15820 743992 16...</td>\n",
       "    </tr>\n",
       "    <tr>\n",
       "      <th>2</th>\n",
       "      <td>14564467_clicks</td>\n",
       "      <td>595052 1068921 1407136 781183 1851604 280328 1...</td>\n",
       "    </tr>\n",
       "    <tr>\n",
       "      <th>3</th>\n",
       "      <td>14564468_clicks</td>\n",
       "      <td>107579 507863 1430806 1640266 1502110 735394 1...</td>\n",
       "    </tr>\n",
       "    <tr>\n",
       "      <th>4</th>\n",
       "      <td>14564469_clicks</td>\n",
       "      <td>826556 1037628 77392 1453190 889659 242327 338...</td>\n",
       "    </tr>\n",
       "  </tbody>\n",
       "</table>\n",
       "</div>"
      ],
      "text/plain": [
       "      session_type                                             labels\n",
       "0  14564465_clicks  1411864 1768983 1264588 1585568 1466856 176444...\n",
       "1  14564466_clicks  1207659 1853605 522206 1276297 15820 743992 16...\n",
       "2  14564467_clicks  595052 1068921 1407136 781183 1851604 280328 1...\n",
       "3  14564468_clicks  107579 507863 1430806 1640266 1502110 735394 1...\n",
       "4  14564469_clicks  826556 1037628 77392 1453190 889659 242327 338..."
      ]
     },
     "execution_count": 8,
     "metadata": {},
     "output_type": "execute_result"
    }
   ],
   "source": [
    "df_new.head()"
   ]
  },
  {
   "cell_type": "code",
   "execution_count": 9,
   "metadata": {
    "ExecuteTime": {
     "end_time": "2022-12-13T19:53:52.309911Z",
     "start_time": "2022-12-13T19:53:37.526526Z"
    }
   },
   "outputs": [],
   "source": [
    "df_new.to_csv('submission_79models_7best.csv', index=False)"
   ]
  },
  {
   "cell_type": "code",
   "execution_count": 12,
   "metadata": {
    "ExecuteTime": {
     "end_time": "2022-12-13T16:55:26.515128Z",
     "start_time": "2022-12-13T16:55:26.509126Z"
    }
   },
   "outputs": [
    {
     "data": {
      "text/html": [
       "<div>\n",
       "<style scoped>\n",
       "    .dataframe tbody tr th:only-of-type {\n",
       "        vertical-align: middle;\n",
       "    }\n",
       "\n",
       "    .dataframe tbody tr th {\n",
       "        vertical-align: top;\n",
       "    }\n",
       "\n",
       "    .dataframe thead th {\n",
       "        text-align: right;\n",
       "    }\n",
       "</style>\n",
       "<table border=\"1\" class=\"dataframe\">\n",
       "  <thead>\n",
       "    <tr style=\"text-align: right;\">\n",
       "      <th></th>\n",
       "      <th>session_type</th>\n",
       "      <th>labels</th>\n",
       "    </tr>\n",
       "  </thead>\n",
       "  <tbody>\n",
       "    <tr>\n",
       "      <th>0</th>\n",
       "      <td>14564465_clicks</td>\n",
       "      <td>1411864 1768983 1264588 1585568 1466856 176444...</td>\n",
       "    </tr>\n",
       "    <tr>\n",
       "      <th>1</th>\n",
       "      <td>14564466_clicks</td>\n",
       "      <td>1207659 1853605 522206 1276297 15820 743992 16...</td>\n",
       "    </tr>\n",
       "    <tr>\n",
       "      <th>2</th>\n",
       "      <td>14564467_clicks</td>\n",
       "      <td>595052 1068921 1407136 781183 1851604 280328 1...</td>\n",
       "    </tr>\n",
       "    <tr>\n",
       "      <th>3</th>\n",
       "      <td>14564468_clicks</td>\n",
       "      <td>107579 507863 1430806 1640266 1502110 735394 1...</td>\n",
       "    </tr>\n",
       "    <tr>\n",
       "      <th>4</th>\n",
       "      <td>14564469_clicks</td>\n",
       "      <td>826556 1037628 77392 1453190 889659 242327 338...</td>\n",
       "    </tr>\n",
       "    <tr>\n",
       "      <th>...</th>\n",
       "      <td>...</td>\n",
       "      <td>...</td>\n",
       "    </tr>\n",
       "    <tr>\n",
       "      <th>5015404</th>\n",
       "      <td>12901459_orders</td>\n",
       "      <td>1197632 1796103 620545 226413 102345 1271034 1...</td>\n",
       "    </tr>\n",
       "    <tr>\n",
       "      <th>5015405</th>\n",
       "      <td>12901460_orders</td>\n",
       "      <td>1254228 642635 1853056 403683 1370026 56934 13...</td>\n",
       "    </tr>\n",
       "    <tr>\n",
       "      <th>5015406</th>\n",
       "      <td>12901461_orders</td>\n",
       "      <td>1039352 1048554 909871 333973 702714 824989 13...</td>\n",
       "    </tr>\n",
       "    <tr>\n",
       "      <th>5015407</th>\n",
       "      <td>12901462_orders</td>\n",
       "      <td>75686 1170894 807569 824946 1580498 155079 133...</td>\n",
       "    </tr>\n",
       "    <tr>\n",
       "      <th>5015408</th>\n",
       "      <td>12901463_orders</td>\n",
       "      <td>116611 873891 332196 428798 809767 1552842 155...</td>\n",
       "    </tr>\n",
       "  </tbody>\n",
       "</table>\n",
       "<p>5015409 rows × 2 columns</p>\n",
       "</div>"
      ],
      "text/plain": [
       "            session_type                                             labels\n",
       "0        14564465_clicks  1411864 1768983 1264588 1585568 1466856 176444...\n",
       "1        14564466_clicks  1207659 1853605 522206 1276297 15820 743992 16...\n",
       "2        14564467_clicks  595052 1068921 1407136 781183 1851604 280328 1...\n",
       "3        14564468_clicks  107579 507863 1430806 1640266 1502110 735394 1...\n",
       "4        14564469_clicks  826556 1037628 77392 1453190 889659 242327 338...\n",
       "...                  ...                                                ...\n",
       "5015404  12901459_orders  1197632 1796103 620545 226413 102345 1271034 1...\n",
       "5015405  12901460_orders  1254228 642635 1853056 403683 1370026 56934 13...\n",
       "5015406  12901461_orders  1039352 1048554 909871 333973 702714 824989 13...\n",
       "5015407  12901462_orders  75686 1170894 807569 824946 1580498 155079 133...\n",
       "5015408  12901463_orders  116611 873891 332196 428798 809767 1552842 155...\n",
       "\n",
       "[5015409 rows x 2 columns]"
      ]
     },
     "execution_count": 12,
     "metadata": {},
     "output_type": "execute_result"
    }
   ],
   "source": [
    "df_new"
   ]
  },
  {
   "cell_type": "markdown",
   "metadata": {},
   "source": [
    "# Scoring single session for manual check"
   ]
  },
  {
   "cell_type": "code",
   "execution_count": null,
   "metadata": {
    "ExecuteTime": {
     "end_time": "2022-11-22T22:17:39.209762Z",
     "start_time": "2022-11-22T22:17:39.209762Z"
    }
   },
   "outputs": [],
   "source": [
    "import pandas as pd\n",
    "import pickle"
   ]
  },
  {
   "cell_type": "code",
   "execution_count": null,
   "metadata": {
    "ExecuteTime": {
     "end_time": "2022-11-22T22:17:39.210757Z",
     "start_time": "2022-11-22T22:17:39.210757Z"
    }
   },
   "outputs": [],
   "source": [
    "df=pd.read_csv(r'c:\\Users\\AZUBA\\Downloads\\valid_0_7_3.csv.gz')\n",
    "print('File read.')\n",
    "df.columns=[x.lower() for x in df.columns]"
   ]
  },
  {
   "cell_type": "code",
   "execution_count": null,
   "metadata": {
    "ExecuteTime": {
     "end_time": "2022-11-22T22:17:39.211764Z",
     "start_time": "2022-11-22T22:17:39.211764Z"
    }
   },
   "outputs": [],
   "source": [
    "df[(df['session_id']==11133806)]"
   ]
  },
  {
   "cell_type": "code",
   "execution_count": null,
   "metadata": {
    "ExecuteTime": {
     "end_time": "2022-11-22T22:17:39.212763Z",
     "start_time": "2022-11-22T22:17:39.212763Z"
    }
   },
   "outputs": [],
   "source": [
    "file_name = \"otto_xgb_model_10_3weeks_no_nulls.pkl\"\n",
    "\n",
    "#load\n",
    "xgb_model= pickle.load(open(file_name, \"rb\"))"
   ]
  },
  {
   "cell_type": "code",
   "execution_count": null,
   "metadata": {
    "ExecuteTime": {
     "end_time": "2022-11-22T22:17:39.213757Z",
     "start_time": "2022-11-22T22:17:39.213757Z"
    }
   },
   "outputs": [],
   "source": [
    "a=df[(df['session_id']==11133806)]"
   ]
  },
  {
   "cell_type": "code",
   "execution_count": null,
   "metadata": {
    "ExecuteTime": {
     "end_time": "2022-11-22T22:17:39.214757Z",
     "start_time": "2022-11-22T22:17:39.214757Z"
    }
   },
   "outputs": [],
   "source": [
    "a['null_flag']=(a['avg_order_hours_from_click_avg']<99999).apply(int)"
   ]
  },
  {
   "cell_type": "code",
   "execution_count": null,
   "metadata": {
    "ExecuteTime": {
     "end_time": "2022-11-22T22:17:39.214757Z",
     "start_time": "2022-11-22T22:17:39.214757Z"
    },
    "scrolled": true
   },
   "outputs": [],
   "source": [
    "a['XGB_SCORE']=xgb_model.predict_proba(a[xgb_model.feature_names_in_])[:, 1]"
   ]
  },
  {
   "cell_type": "code",
   "execution_count": null,
   "metadata": {
    "ExecuteTime": {
     "end_time": "2022-11-22T22:17:39.215757Z",
     "start_time": "2022-11-22T22:17:39.215757Z"
    }
   },
   "outputs": [],
   "source": [
    "a.to_csv('scored_session_11133806.csv')"
   ]
  },
  {
   "cell_type": "markdown",
   "metadata": {
    "ExecuteTime": {
     "end_time": "2022-11-18T16:44:08.433534Z",
     "start_time": "2022-11-18T16:44:08.424073Z"
    }
   },
   "source": [
    "# Valid analysis"
   ]
  },
  {
   "cell_type": "code",
   "execution_count": null,
   "metadata": {
    "ExecuteTime": {
     "end_time": "2022-11-22T22:17:39.217773Z",
     "start_time": "2022-11-22T22:17:39.217773Z"
    }
   },
   "outputs": [],
   "source": [
    "import pandas as pd\n",
    "import numpy as np\n",
    "import random\n",
    "import mofr\n",
    "import matplotlib.pyplot as plt\n",
    "import seaborn as sns\n",
    "from xgboost import XGBClassifier, plot_tree\n",
    "import math\n",
    "import pickle\n",
    "\n",
    "\n",
    "import xgboost as xgb"
   ]
  },
  {
   "cell_type": "code",
   "execution_count": null,
   "metadata": {
    "ExecuteTime": {
     "end_time": "2022-11-22T22:17:39.218761Z",
     "start_time": "2022-11-22T22:17:39.217773Z"
    }
   },
   "outputs": [],
   "source": [
    "file_name = \"otto_xgb_model_10_sessions_with_purchase.pkl\"\n",
    "\n",
    "#load\n",
    "xgb_model= pickle.load(open(file_name, \"rb\"))"
   ]
  },
  {
   "cell_type": "code",
   "execution_count": null,
   "metadata": {
    "ExecuteTime": {
     "end_time": "2022-11-22T22:17:39.218761Z",
     "start_time": "2022-11-22T22:17:39.218761Z"
    }
   },
   "outputs": [],
   "source": [
    "col_target='target'"
   ]
  },
  {
   "cell_type": "code",
   "execution_count": null,
   "metadata": {
    "ExecuteTime": {
     "end_time": "2022-11-22T22:17:39.219758Z",
     "start_time": "2022-11-22T22:17:39.219758Z"
    }
   },
   "outputs": [],
   "source": [
    "valid=pd.read_parquet('valid_sample_full_float.parquet') "
   ]
  },
  {
   "cell_type": "code",
   "execution_count": null,
   "metadata": {
    "ExecuteTime": {
     "end_time": "2022-11-22T22:17:39.220758Z",
     "start_time": "2022-11-22T22:17:39.220758Z"
    }
   },
   "outputs": [],
   "source": [
    "valid['null_flag']=(valid['avg_order_hours_from_click_avg']<99999).apply(int)"
   ]
  },
  {
   "cell_type": "code",
   "execution_count": null,
   "metadata": {
    "ExecuteTime": {
     "end_time": "2022-11-22T22:17:39.221759Z",
     "start_time": "2022-11-22T22:17:39.221759Z"
    }
   },
   "outputs": [],
   "source": [
    "valid['null_flag'].value_counts(normalize=True)"
   ]
  },
  {
   "cell_type": "code",
   "execution_count": null,
   "metadata": {
    "ExecuteTime": {
     "end_time": "2022-11-22T22:17:39.222762Z",
     "start_time": "2022-11-22T22:17:39.222762Z"
    }
   },
   "outputs": [],
   "source": [
    "valid['XGB_SCORE']=xgb_model.predict_proba(valid[xgb_model.feature_names_in_])[:, 1]"
   ]
  },
  {
   "cell_type": "code",
   "execution_count": null,
   "metadata": {
    "ExecuteTime": {
     "end_time": "2022-11-22T22:17:39.222762Z",
     "start_time": "2022-11-22T22:17:39.222762Z"
    }
   },
   "outputs": [],
   "source": [
    "print('The Lift on the valid set is: '+ str(mofr.metrics.lift(valid[col_target], valid['XGB_SCORE'])))\n",
    "print('The gini on the valid set is: '+ str(mofr.metrics.gini(valid[col_target].apply(int), valid['XGB_SCORE'])))\n",
    "print('The accuracy on the valid set is: '+ str(mofr.metrics.accuracy_score(valid[col_target].apply(int), valid['XGB_SCORE'].apply(lambda x: int(x>0.5)))))\n",
    "print('\\n')"
   ]
  },
  {
   "cell_type": "code",
   "execution_count": null,
   "metadata": {},
   "outputs": [],
   "source": []
  },
  {
   "cell_type": "code",
   "execution_count": null,
   "metadata": {
    "ExecuteTime": {
     "end_time": "2022-11-22T22:17:39.223760Z",
     "start_time": "2022-11-22T22:17:39.223760Z"
    }
   },
   "outputs": [],
   "source": [
    "top20_valid=valid.groupby('session_id').apply(lambda x : x.sort_values(by = ['XGB_SCORE'], ascending = [False]).head(20).reset_index(drop = True)).reset_index(drop = True)\n",
    "precision=pd.DataFrame(top20_valid.groupby('session_id')[col_target].apply(np.mean)).rename(columns={ col_target:'PRECISION'}).reset_index()\n",
    "mean_precision=np.mean(precision['PRECISION'])\n",
    "print(f'The mean precision on valid set is: {mean_precision}')"
   ]
  },
  {
   "cell_type": "code",
   "execution_count": null,
   "metadata": {
    "ExecuteTime": {
     "end_time": "2022-11-22T22:17:39.224763Z",
     "start_time": "2022-11-22T22:17:39.224763Z"
    }
   },
   "outputs": [],
   "source": [
    "recall=pd.DataFrame(top20_valid.groupby('session_id')[col_target].apply(np.sum)).merge(valid.groupby('session_id')['number_carts_orders'].apply(np.mean), how='inner', on='session_id')\n",
    "mean_recall=np.mean(recall[recall['number_carts_orders']>0]['target']/recall[recall['number_carts_orders']>0]['number_carts_orders'])\n",
    "print(f'The mean recall on valid set is: {mean_recall}')"
   ]
  },
  {
   "cell_type": "code",
   "execution_count": null,
   "metadata": {
    "ExecuteTime": {
     "end_time": "2022-11-22T22:17:39.225763Z",
     "start_time": "2022-11-22T22:17:39.225763Z"
    }
   },
   "outputs": [],
   "source": [
    "top20_valid=valid.groupby('session_id').apply(lambda x : x.sort_values(by = ['in_session','times_in_top20','XGB_SCORE'], ascending = [False, False,False]).head(20).reset_index(drop = True)).reset_index(drop = True)\n",
    "precision=pd.DataFrame(top20_valid.groupby('session_id')[col_target].apply(np.mean)).rename(columns={ col_target:'PRECISION'}).reset_index()\n",
    "mean_precision=np.mean(precision['PRECISION'])\n",
    "print(f'The mean precision on valid set is: {mean_precision}')"
   ]
  },
  {
   "cell_type": "code",
   "execution_count": null,
   "metadata": {
    "ExecuteTime": {
     "end_time": "2022-11-22T22:17:39.226762Z",
     "start_time": "2022-11-22T22:17:39.226762Z"
    }
   },
   "outputs": [],
   "source": [
    "recall=pd.DataFrame(top20_valid.groupby('session_id')[col_target].apply(np.sum)).merge(valid.groupby('session_id')['number_carts_orders'].apply(np.mean), how='inner', on='session_id')\n",
    "mean_recall=np.mean(recall[recall['number_carts_orders']>0]['target']/recall[recall['number_carts_orders']>0]['number_carts_orders'])\n",
    "print(f'The mean recall on valid set is: {mean_recall}')"
   ]
  },
  {
   "cell_type": "code",
   "execution_count": null,
   "metadata": {
    "ExecuteTime": {
     "end_time": "2022-11-22T22:17:39.227757Z",
     "start_time": "2022-11-22T22:17:39.227757Z"
    }
   },
   "outputs": [],
   "source": [
    "valid['num_times_ordered_overall']=valid['num_times_ordered_overall'].fillna(0)"
   ]
  },
  {
   "cell_type": "code",
   "execution_count": null,
   "metadata": {
    "ExecuteTime": {
     "end_time": "2022-11-22T22:17:39.228757Z",
     "start_time": "2022-11-22T22:17:39.227757Z"
    }
   },
   "outputs": [],
   "source": [
    "# results=[]\n",
    "# for col in xgb_model.feature_names_in_:\n",
    "# #     print(col)\n",
    "#     results.append((col, np.abs(mofr.metrics.gini(valid[col_target], valid[col]))))\n",
    "  \n",
    "# pd.DataFrame(results, columns=['Predictor', 'GINI']).sort_values(by='GINI', ascending=False)[0:30]"
   ]
  },
  {
   "cell_type": "code",
   "execution_count": null,
   "metadata": {
    "ExecuteTime": {
     "end_time": "2022-11-22T22:17:39.228757Z",
     "start_time": "2022-11-22T22:17:39.228757Z"
    }
   },
   "outputs": [],
   "source": [
    "cols=[\n",
    "'sum_prob_order',\n",
    " 'in_session',\n",
    " 'avg_prob_order',\n",
    " 'sum_num_sessions_ordered',\n",
    " #'min_order_hours_from_click_avg',\n",
    " 'avg_num_sessions_ordered',\n",
    " #'avg_order_hours_from_click_avg',\n",
    " 'num_times_ordered_overall',\n",
    " 'sess_num_carts',\n",
    " #'max_order_hours_from_click_avg',\n",
    " #'sess_dayofmonth',\n",
    " 'times_in_top20',\n",
    "]"
   ]
  },
  {
   "cell_type": "code",
   "execution_count": null,
   "metadata": {
    "ExecuteTime": {
     "end_time": "2022-11-22T22:17:39.229759Z",
     "start_time": "2022-11-22T22:17:39.229759Z"
    }
   },
   "outputs": [],
   "source": [
    "result=[]\n",
    "for col in cols:\n",
    "    print(col)\n",
    "    top20_valid=valid.groupby('session_id').apply(lambda x : x.sort_values(by = [col,'XGB_SCORE'], ascending = [ False,False]).head(20).reset_index(drop = True)).reset_index(drop = True)\n",
    "    precision=pd.DataFrame(top20_valid.groupby('session_id')[col_target].apply(np.mean)).rename(columns={ col_target:'PRECISION'}).reset_index()\n",
    "    mean_precision=np.mean(precision['PRECISION'])\n",
    "    print(f'The mean precision on valid set is: {mean_precision}')\n",
    "    recall=pd.DataFrame(top20_valid.groupby('session_id')[col_target].apply(np.sum)).merge(valid.groupby('session_id')['number_carts_orders'].apply(np.mean), how='inner', on='session_id')\n",
    "    mean_recall=np.mean(recall[recall['number_carts_orders']>0]['target']/recall[recall['number_carts_orders']>0]['number_carts_orders'])\n",
    "    print(f'The mean recall on valid set is: {mean_recall}')\n",
    "    result.append((col,mean_precision, mean_recall))\n",
    "    print('\\n')\n",
    "\n",
    "pd.DataFrame(result, columns=['pred', 'precision', 'recall']).sort_values(by = ['recall'], ascending = [False])"
   ]
  },
  {
   "cell_type": "code",
   "execution_count": null,
   "metadata": {
    "ExecuteTime": {
     "end_time": "2022-11-17T19:45:57.287272Z",
     "start_time": "2022-11-17T19:45:57.280263Z"
    }
   },
   "outputs": [],
   "source": []
  },
  {
   "cell_type": "code",
   "execution_count": null,
   "metadata": {
    "ExecuteTime": {
     "end_time": "2022-11-22T22:17:39.230757Z",
     "start_time": "2022-11-22T22:17:39.230757Z"
    }
   },
   "outputs": [],
   "source": [
    "result=[]\n",
    "for col in cols:\n",
    "    for col2 in cols:\n",
    "        print(col,col2)\n",
    "        top20_valid=valid.groupby('session_id').apply(lambda x : x.sort_values(by = [col, col2,'XGB_SCORE'], ascending = [ False,False,False]).head(20).reset_index(drop = True)).reset_index(drop = True)\n",
    "        precision=pd.DataFrame(top20_valid.groupby('session_id')[col_target].apply(np.mean)).rename(columns={ col_target:'PRECISION'}).reset_index()\n",
    "        mean_precision=np.mean(precision['PRECISION'])\n",
    "    #     print(f'The mean precision on valid set is: {mean_precision}')\n",
    "        recall=pd.DataFrame(top20_valid.groupby('session_id')[col_target].apply(np.sum)).merge(valid.groupby('session_id')['number_carts_orders'].apply(np.mean), how='inner', on='session_id')\n",
    "        mean_recall=np.mean(recall[recall['number_carts_orders']>0]['target']/recall[recall['number_carts_orders']>0]['number_carts_orders'])\n",
    "    #     print(f'The mean recall on valid set is: {mean_recall}')\n",
    "        result.append((col,col2,mean_precision, mean_recall))\n",
    "    #     print('\\n')\n",
    "\n",
    "pd.DataFrame(result, columns=['pred1', 'pred2', 'precision', 'recall']).sort_values(by = ['recall'], ascending = [False])"
   ]
  },
  {
   "cell_type": "code",
   "execution_count": null,
   "metadata": {
    "ExecuteTime": {
     "end_time": "2022-11-22T22:17:39.231757Z",
     "start_time": "2022-11-22T22:17:39.231757Z"
    }
   },
   "outputs": [],
   "source": [
    "from sklearn.model_selection import train_test_split\n",
    "X_train, X_valid, y_train, y_valid= train_test_split(train, train[col_target], test_size=0.2, random_state=seed)"
   ]
  },
  {
   "cell_type": "markdown",
   "metadata": {},
   "source": [
    "# Simple model experiment"
   ]
  },
  {
   "cell_type": "code",
   "execution_count": null,
   "metadata": {
    "ExecuteTime": {
     "end_time": "2022-11-22T22:17:39.232757Z",
     "start_time": "2022-11-22T22:17:39.232757Z"
    }
   },
   "outputs": [],
   "source": [
    "from sklearn.model_selection import train_test_split\n",
    "X_train, X_valid, y_train, y_valid= train_test_split(valid, valid[col_target], test_size=0.5, random_state=1234)"
   ]
  },
  {
   "cell_type": "code",
   "execution_count": null,
   "metadata": {},
   "outputs": [],
   "source": []
  },
  {
   "cell_type": "code",
   "execution_count": null,
   "metadata": {
    "ExecuteTime": {
     "end_time": "2022-11-22T22:17:39.233757Z",
     "start_time": "2022-11-22T22:17:39.233757Z"
    }
   },
   "outputs": [],
   "source": [
    "simple_model = XGBClassifier(c)\n",
    "simple_model.fit(X_train.loc[:, cols], y_train, verbose=0, eval_metric='auc')"
   ]
  },
  {
   "cell_type": "code",
   "execution_count": null,
   "metadata": {
    "ExecuteTime": {
     "end_time": "2022-11-22T22:17:39.233757Z",
     "start_time": "2022-11-22T22:17:39.233757Z"
    }
   },
   "outputs": [],
   "source": [
    "valid['SIMPLE_SCORE']=simple_model.predict_proba(valid[simple_model.feature_names_in_])[:, 1]"
   ]
  },
  {
   "cell_type": "code",
   "execution_count": null,
   "metadata": {
    "ExecuteTime": {
     "end_time": "2022-11-22T22:17:39.234757Z",
     "start_time": "2022-11-22T22:17:39.234757Z"
    }
   },
   "outputs": [],
   "source": [
    "print('The Lift on the valid set is: '+ str(mofr.metrics.lift(X_valid[col_target], X_valid['SIMPLE_SCORE'])))\n",
    "print('The gini on the valid set is: '+ str(mofr.metrics.gini(X_valid[col_target].apply(int), X_valid['SIMPLE_SCORE'])))\n",
    "print('The accuracy on the valid set is: '+ str(mofr.metrics.accuracy_score(X_valid[col_target].apply(int), X_valid['SIMPLE_SCORE'].apply(lambda x: int(x>0.5)))))\n",
    "print('\\n')"
   ]
  },
  {
   "cell_type": "code",
   "execution_count": null,
   "metadata": {
    "ExecuteTime": {
     "end_time": "2022-11-22T22:17:39.235760Z",
     "start_time": "2022-11-22T22:17:39.235760Z"
    },
    "scrolled": false
   },
   "outputs": [],
   "source": [
    "from xgboost import plot_tree\n",
    "plot_tree(simple_model)\n",
    "plt.show()"
   ]
  },
  {
   "cell_type": "code",
   "execution_count": null,
   "metadata": {
    "ExecuteTime": {
     "end_time": "2022-11-22T22:17:39.236758Z",
     "start_time": "2022-11-22T22:17:39.236758Z"
    }
   },
   "outputs": [],
   "source": [
    "top20_valid=X_train.groupby('session_id').apply(lambda x : x.sort_values(by = ['SIMPLE_SCORE'], ascending = [ False]).head(20).reset_index(drop = True)).reset_index(drop = True)\n",
    "precision=pd.DataFrame(top20_valid.groupby('session_id')[col_target].apply(np.mean)).rename(columns={ col_target:'PRECISION'}).reset_index()\n",
    "mean_precision=np.mean(precision['PRECISION'])\n",
    "print(f'The mean precision on valid set is: {mean_precision}')"
   ]
  },
  {
   "cell_type": "code",
   "execution_count": null,
   "metadata": {
    "ExecuteTime": {
     "end_time": "2022-11-22T22:17:39.237758Z",
     "start_time": "2022-11-22T22:17:39.237758Z"
    }
   },
   "outputs": [],
   "source": [
    "print('The Lift on the valid set is: '+ str(mofr.metrics.lift(valid[col_target], valid['SIMPLE_SCORE'])))\n",
    "print('The gini on the valid set is: '+ str(mofr.metrics.gini(valid[col_target].apply(int), valid['SIMPLE_SCORE'])))\n",
    "print('The accuracy on the valid set is: '+ str(mofr.metrics.accuracy_score(valid[col_target].apply(int), valid['SIMPLE_SCORE'].apply(lambda x: int(x>0.5)))))\n",
    "print('\\n')"
   ]
  },
  {
   "cell_type": "code",
   "execution_count": null,
   "metadata": {},
   "outputs": [],
   "source": []
  },
  {
   "cell_type": "code",
   "execution_count": null,
   "metadata": {
    "ExecuteTime": {
     "end_time": "2022-11-22T22:17:39.238763Z",
     "start_time": "2022-11-22T22:17:39.238763Z"
    }
   },
   "outputs": [],
   "source": [
    "recall=pd.DataFrame(top20_valid.groupby('session_id')[col_target].apply(np.sum)).merge(valid.groupby('session_id')['number_carts_orders'].apply(np.mean), how='inner', on='session_id')\n",
    "mean_recall=np.mean(recall[recall['number_carts_orders']>0]['target']/recall[recall['number_carts_orders']>0]['number_carts_orders'])\n",
    "print(f'The mean recall on valid set is: {mean_recall}')"
   ]
  },
  {
   "cell_type": "markdown",
   "metadata": {},
   "source": [
    "# Evaluating metrics on valid sample"
   ]
  },
  {
   "cell_type": "code",
   "execution_count": null,
   "metadata": {
    "ExecuteTime": {
     "end_time": "2022-11-22T22:17:39.239762Z",
     "start_time": "2022-11-22T22:17:39.239762Z"
    }
   },
   "outputs": [],
   "source": [
    "import pandas as pd\n",
    "import numpy as np\n",
    "import random\n",
    "import mofr\n",
    "import matplotlib.pyplot as plt\n",
    "import seaborn as sns\n",
    "from xgboost import XGBClassifier, plot_tree\n",
    "import math\n",
    "import pickle\n",
    "\n",
    "\n",
    "import xgboost as xgb"
   ]
  },
  {
   "cell_type": "code",
   "execution_count": null,
   "metadata": {
    "ExecuteTime": {
     "end_time": "2022-11-22T22:17:39.239762Z",
     "start_time": "2022-11-22T22:17:39.239762Z"
    }
   },
   "outputs": [],
   "source": [
    "file_name = \"otto_xgb_model_10_4weeks_no_nulls.pkl\"\n",
    "#load\n",
    "xgb_model= pickle.load(open(file_name, \"rb\"))"
   ]
  },
  {
   "cell_type": "code",
   "execution_count": null,
   "metadata": {
    "ExecuteTime": {
     "end_time": "2022-11-22T22:17:39.240763Z",
     "start_time": "2022-11-22T22:17:39.240763Z"
    }
   },
   "outputs": [],
   "source": [
    "col_target='target'"
   ]
  },
  {
   "cell_type": "code",
   "execution_count": null,
   "metadata": {
    "ExecuteTime": {
     "end_time": "2022-11-22T22:17:39.241758Z",
     "start_time": "2022-11-22T22:17:39.241758Z"
    }
   },
   "outputs": [],
   "source": [
    "valid=pd.read_parquet('valid_sample_full_float.parquet') "
   ]
  },
  {
   "cell_type": "code",
   "execution_count": null,
   "metadata": {
    "ExecuteTime": {
     "end_time": "2022-11-22T22:17:39.242763Z",
     "start_time": "2022-11-22T22:17:39.242763Z"
    }
   },
   "outputs": [],
   "source": [
    "valid=pd.read_parquet('valid_sample_full_float.parquet')"
   ]
  },
  {
   "cell_type": "code",
   "execution_count": null,
   "metadata": {
    "ExecuteTime": {
     "end_time": "2022-11-22T22:17:39.243762Z",
     "start_time": "2022-11-22T22:17:39.243762Z"
    }
   },
   "outputs": [],
   "source": [
    "valid['XGB_SCORE']=xgb_model.predict_proba(valid[xgb_model.feature_names_in_])[:, 1]"
   ]
  },
  {
   "cell_type": "code",
   "execution_count": null,
   "metadata": {
    "ExecuteTime": {
     "end_time": "2022-11-22T22:17:39.243762Z",
     "start_time": "2022-11-22T22:17:39.243762Z"
    }
   },
   "outputs": [],
   "source": [
    "valid['null_flag']=(valid['avg_order_hours_from_click_avg']<99999).apply(int)"
   ]
  },
  {
   "cell_type": "code",
   "execution_count": null,
   "metadata": {
    "ExecuteTime": {
     "end_time": "2022-11-22T22:17:39.244761Z",
     "start_time": "2022-11-22T22:17:39.244761Z"
    }
   },
   "outputs": [],
   "source": [
    "a=valid.groupby('session_id').apply(lambda x : x.sort_values(by = ['in_session','times_in_top20','XGB_SCORE'], ascending = [False, False,False]).head(20).reset_index(drop = True)).reset_index(drop = True)\n",
    "a['session_id']=a['session_id'].apply(lambda x: str(int(x)))\n",
    "a['aid']=a['aid'].apply(lambda x: str(int(x)))\n",
    "    \n",
    "pred_df=pd.DataFrame(a.groupby('session_id')['aid'].apply(list).apply(' '.join)).reset_index(drop=False).rename(columns={'aid':'labels'})"
   ]
  },
  {
   "cell_type": "code",
   "execution_count": null,
   "metadata": {
    "ExecuteTime": {
     "end_time": "2022-11-22T22:17:39.245762Z",
     "start_time": "2022-11-22T22:17:39.245762Z"
    }
   },
   "outputs": [],
   "source": [
    "submission_clicks=pred_df.copy()\n",
    "submission_carts=pred_df.copy()\n",
    "submission_orders=pred_df.copy()\n",
    "\n",
    "submission_clicks['session_type']=submission_clicks['session_id'].apply(lambda x: x+'_clicks')\n",
    "submission_carts['session_type']=submission_carts['session_id'].apply(lambda x: x+'_carts')\n",
    "submission_orders['session_type']=submission_orders['session_id'].apply(lambda x: x+'_orders')      "
   ]
  },
  {
   "cell_type": "code",
   "execution_count": null,
   "metadata": {
    "ExecuteTime": {
     "end_time": "2022-11-22T22:17:39.246761Z",
     "start_time": "2022-11-22T22:17:39.246761Z"
    }
   },
   "outputs": [],
   "source": [
    "submission_final=pd.concat([submission_clicks[['session_type', 'labels']],submission_carts[['session_type', 'labels']],submission_orders[['session_type', 'labels']]])"
   ]
  },
  {
   "cell_type": "code",
   "execution_count": null,
   "metadata": {
    "ExecuteTime": {
     "end_time": "2022-11-22T22:17:39.246761Z",
     "start_time": "2022-11-22T22:17:39.246761Z"
    }
   },
   "outputs": [],
   "source": [
    "submission_final"
   ]
  },
  {
   "cell_type": "code",
   "execution_count": null,
   "metadata": {
    "ExecuteTime": {
     "end_time": "2022-11-22T22:17:39.248762Z",
     "start_time": "2022-11-22T22:17:39.248762Z"
    }
   },
   "outputs": [],
   "source": [
    "# COMPUTE METRIC\n",
    "score = 0\n",
    "weights = {'clicks': 0.10, 'carts': 0.30, 'orders': 0.60}\n",
    "for t in ['clicks','carts','orders']:\n",
    "    sub = submission_final.loc[submission_final.session_type.str.contains(t)].copy()\n",
    "    sub['session'] = sub.session_type.apply(lambda x: int(x.split('_')[0]))\n",
    "    sub.labels = sub.labels.apply(lambda x: [int(i) for i in x.split(' ')[:20]])\n",
    "    test_labels = pd.read_parquet('test_cv_labels.parquet')\n",
    "    test_labels = test_labels.loc[test_labels['type']==t]\n",
    "    test_labels = test_labels.merge(sub, how='inner', on=['session'])\n",
    "    test_labels['hits'] = test_labels.apply(lambda df: len(set(df.ground_truth).intersection(set(df.labels))), axis=1)\n",
    "    test_labels['gt_count'] = test_labels.ground_truth.str.len().clip(0,20)\n",
    "    recall = test_labels['hits'].sum() / test_labels['gt_count'].sum()\n",
    "    score += weights[t]*recall\n",
    "    print(f'{t} recall =',recall)\n",
    "    \n",
    "print('=============')\n",
    "print('Overall Recall =',score)\n",
    "print('=============')"
   ]
  },
  {
   "cell_type": "code",
   "execution_count": null,
   "metadata": {
    "ExecuteTime": {
     "end_time": "2022-11-22T22:17:39.249762Z",
     "start_time": "2022-11-22T22:17:39.249762Z"
    }
   },
   "outputs": [],
   "source": [
    "!pip install jsonlines"
   ]
  },
  {
   "cell_type": "code",
   "execution_count": null,
   "metadata": {
    "ExecuteTime": {
     "end_time": "2022-11-22T22:17:39.249762Z",
     "start_time": "2022-11-22T22:17:39.249762Z"
    }
   },
   "outputs": [],
   "source": [
    "import pandas as pd\n",
    "import jsonlines"
   ]
  },
  {
   "cell_type": "code",
   "execution_count": null,
   "metadata": {
    "ExecuteTime": {
     "end_time": "2022-11-22T22:17:39.250760Z",
     "start_time": "2022-11-22T22:17:39.250760Z"
    },
    "code_folding": [
     9
    ]
   },
   "outputs": [],
   "source": [
    "test_list=[]\n",
    "n=1\n",
    "\n",
    "test_list=[]\n",
    "#Iterate over the json files\n",
    "with jsonlines.open('valid_radek2.jsonl') as reader:\n",
    "    #Iterate over the each line on the reader via enumerate\n",
    "    for idx, result in enumerate(reader):\n",
    "        \n",
    "        for event in result['events']:\n",
    "            test_list.append((result['session'], event['aid'], event['ts'], event['type']))\n",
    "        #print(f\"result: {result['session']}\")\n",
    "        #print(isinstance(result, dict))\n",
    "        if n%1000000==0:\n",
    "            print(n)\n",
    "        n+=1\n",
    "    test=pd.DataFrame(test_list, columns=['session', 'aid', 'ts', 'type'])\n",
    "    test.to_csv('valid_radek2.csv', index=False)\n",
    "    test_list=[]  "
   ]
  },
  {
   "cell_type": "markdown",
   "metadata": {},
   "source": [
    "# Ensembling"
   ]
  },
  {
   "cell_type": "code",
   "execution_count": 3,
   "metadata": {
    "ExecuteTime": {
     "end_time": "2022-12-01T21:45:19.469024Z",
     "start_time": "2022-12-01T21:45:19.438636Z"
    }
   },
   "outputs": [],
   "source": [
    "import pandas as pd\n",
    "import numpy as np\n",
    "import random\n",
    "import mofr\n",
    "import matplotlib.pyplot as plt\n",
    "import seaborn as sns\n",
    "from xgboost import XGBClassifier, plot_tree\n",
    "import math\n",
    "import pickle\n",
    "import lightgbm as lgb\n",
    "from sklearn import linear_model\n",
    "\n",
    "import xgboost as xgb"
   ]
  },
  {
   "cell_type": "code",
   "execution_count": 2,
   "metadata": {
    "ExecuteTime": {
     "end_time": "2022-12-01T21:45:17.918316Z",
     "start_time": "2022-12-01T21:45:17.856447Z"
    }
   },
   "outputs": [],
   "source": [
    "file_name_clicks = \"otto_xgb_model_13_clicks.pkl\"\n",
    "file_name_carts = \"otto_xgb_model_13_cv_576.pkl\"\n",
    "file_name_orders = \"otto_xgb_model_13_cv_576.pkl\"\n",
    "\n",
    "file_name_lgbm=\"otto_lgb_model_13_cv.pkl\"\n",
    "file_name_ridgereg=\"otto_ridgeregression_model_13_cv.pkl\"\n",
    "\n",
    "\n",
    "# load\n",
    "xgb_model_clicks= pickle.load(open(file_name_clicks, \"rb\"))\n",
    "xgb_model_carts= pickle.load(open(file_name_carts, \"rb\"))\n",
    "xgb_model_orders= pickle.load(open(file_name_orders, \"rb\"))\n",
    "\n",
    "lgb_model=pickle.load(open(file_name_lgbm, \"rb\"))\n",
    "rr_model=pickle.load(open(file_name_ridgereg, \"rb\"))"
   ]
  },
  {
   "cell_type": "code",
   "execution_count": 6,
   "metadata": {
    "ExecuteTime": {
     "end_time": "2022-12-01T21:51:08.004759Z",
     "start_time": "2022-12-01T21:47:51.593470Z"
    }
   },
   "outputs": [],
   "source": [
    "valid=pd.read_parquet('valid_sample_full_cv_3targets_experimental.parquet')\n",
    "valid.columns=[x.lower() for x in valid.columns]\n",
    "valid['null_flag']=(valid['avg_order_hours_from_click_avg']<99999).apply(int)\n",
    "valid['in_session_carted_not_ordered']=((valid['in_session_carted']>0)&(valid['in_session_ordered']==0)).apply(int)\n",
    "valid['in_session_clicked_not_carted']=((valid['in_session_clicked']>0)&(valid['in_session_carted']==0)).apply(int)\n",
    "valid['XGB_SCORE_CLICKS']=xgb_model_clicks.predict_proba(valid[xgb_model_clicks.feature_names_in_])[:, 1]\n",
    "valid['XGB_SCORE_CARTS']=xgb_model_carts.predict_proba(valid[xgb_model_carts.feature_names_in_])[:, 1]\n",
    "valid['XGB_SCORE_ORDERS']=xgb_model_orders.predict_proba(valid[xgb_model_orders.feature_names_in_])[:, 1]\n",
    "valid['LGB_SCORE']=lgb_model.predict(valid[lgb_model.feature_name()])\n",
    "valid['RR_SCORE']=rr_model.decision_function(valid[lgb_model.feature_name()].fillna(0))\n",
    "valid['RR_SCORE']=np.exp(valid['RR_SCORE']) / np.sum(np.exp(valid['RR_SCORE']))"
   ]
  },
  {
   "cell_type": "code",
   "execution_count": 9,
   "metadata": {
    "ExecuteTime": {
     "end_time": "2022-12-01T22:01:06.446792Z",
     "start_time": "2022-12-01T22:00:02.298483Z"
    }
   },
   "outputs": [],
   "source": [
    "valid['XGB_RANK']=valid.groupby('session_id')['XGB_SCORE_ORDERS'].rank(method=\"dense\", ascending=False)\n",
    "valid['LGB_RANK']=valid.groupby('session_id')['LGB_SCORE'].rank(method=\"dense\", ascending=False)\n",
    "valid['RR_RANK']=valid.groupby('session_id')['RR_SCORE'].rank(method=\"dense\", ascending=False)"
   ]
  },
  {
   "cell_type": "code",
   "execution_count": 11,
   "metadata": {
    "ExecuteTime": {
     "end_time": "2022-12-01T22:02:14.280684Z",
     "start_time": "2022-12-01T22:01:43.498007Z"
    }
   },
   "outputs": [
    {
     "data": {
      "text/html": [
       "<div>\n",
       "<style scoped>\n",
       "    .dataframe tbody tr th:only-of-type {\n",
       "        vertical-align: middle;\n",
       "    }\n",
       "\n",
       "    .dataframe tbody tr th {\n",
       "        vertical-align: top;\n",
       "    }\n",
       "\n",
       "    .dataframe thead th {\n",
       "        text-align: right;\n",
       "    }\n",
       "</style>\n",
       "<table border=\"1\" class=\"dataframe\">\n",
       "  <thead>\n",
       "    <tr style=\"text-align: right;\">\n",
       "      <th></th>\n",
       "      <th>target</th>\n",
       "      <th>target_clicks</th>\n",
       "      <th>target_carts</th>\n",
       "      <th>target_orders</th>\n",
       "      <th>session_id</th>\n",
       "      <th>aid</th>\n",
       "      <th>min_top20</th>\n",
       "      <th>avg_top20</th>\n",
       "      <th>max_top20</th>\n",
       "      <th>in_session</th>\n",
       "      <th>...</th>\n",
       "      <th>in_session_carted_not_ordered</th>\n",
       "      <th>in_session_clicked_not_carted</th>\n",
       "      <th>XGB_SCORE_CLICKS</th>\n",
       "      <th>XGB_SCORE_CARTS</th>\n",
       "      <th>XGB_SCORE_ORDERS</th>\n",
       "      <th>LGB_SCORE</th>\n",
       "      <th>RR_SCORE</th>\n",
       "      <th>XGB_RANK</th>\n",
       "      <th>LGB_RANK</th>\n",
       "      <th>RR_RANK</th>\n",
       "    </tr>\n",
       "  </thead>\n",
       "  <tbody>\n",
       "    <tr>\n",
       "      <th>0</th>\n",
       "      <td>0.0</td>\n",
       "      <td>0.0</td>\n",
       "      <td>0.0</td>\n",
       "      <td>0.0</td>\n",
       "      <td>11098546.0</td>\n",
       "      <td>605.0</td>\n",
       "      <td>9.0</td>\n",
       "      <td>50.000000</td>\n",
       "      <td>91.0</td>\n",
       "      <td>0.0</td>\n",
       "      <td>...</td>\n",
       "      <td>0</td>\n",
       "      <td>0</td>\n",
       "      <td>0.001949</td>\n",
       "      <td>0.000160</td>\n",
       "      <td>0.000160</td>\n",
       "      <td>0.152916</td>\n",
       "      <td>3.465870e-08</td>\n",
       "      <td>297.0</td>\n",
       "      <td>222.0</td>\n",
       "      <td>620.0</td>\n",
       "    </tr>\n",
       "    <tr>\n",
       "      <th>1</th>\n",
       "      <td>0.0</td>\n",
       "      <td>0.0</td>\n",
       "      <td>0.0</td>\n",
       "      <td>0.0</td>\n",
       "      <td>11098546.0</td>\n",
       "      <td>665.0</td>\n",
       "      <td>71.0</td>\n",
       "      <td>71.000000</td>\n",
       "      <td>71.0</td>\n",
       "      <td>0.0</td>\n",
       "      <td>...</td>\n",
       "      <td>0</td>\n",
       "      <td>0</td>\n",
       "      <td>0.000588</td>\n",
       "      <td>0.000047</td>\n",
       "      <td>0.000047</td>\n",
       "      <td>0.032125</td>\n",
       "      <td>3.462064e-08</td>\n",
       "      <td>945.0</td>\n",
       "      <td>829.0</td>\n",
       "      <td>1789.0</td>\n",
       "    </tr>\n",
       "    <tr>\n",
       "      <th>2</th>\n",
       "      <td>0.0</td>\n",
       "      <td>0.0</td>\n",
       "      <td>0.0</td>\n",
       "      <td>0.0</td>\n",
       "      <td>11098546.0</td>\n",
       "      <td>1089.0</td>\n",
       "      <td>16.0</td>\n",
       "      <td>45.666667</td>\n",
       "      <td>82.0</td>\n",
       "      <td>0.0</td>\n",
       "      <td>...</td>\n",
       "      <td>0</td>\n",
       "      <td>0</td>\n",
       "      <td>0.001342</td>\n",
       "      <td>0.000052</td>\n",
       "      <td>0.000052</td>\n",
       "      <td>0.099905</td>\n",
       "      <td>3.463923e-08</td>\n",
       "      <td>856.0</td>\n",
       "      <td>358.0</td>\n",
       "      <td>1218.0</td>\n",
       "    </tr>\n",
       "    <tr>\n",
       "      <th>3</th>\n",
       "      <td>0.0</td>\n",
       "      <td>0.0</td>\n",
       "      <td>0.0</td>\n",
       "      <td>0.0</td>\n",
       "      <td>11098546.0</td>\n",
       "      <td>1303.0</td>\n",
       "      <td>35.0</td>\n",
       "      <td>60.500000</td>\n",
       "      <td>87.0</td>\n",
       "      <td>0.0</td>\n",
       "      <td>...</td>\n",
       "      <td>0</td>\n",
       "      <td>0</td>\n",
       "      <td>0.000919</td>\n",
       "      <td>0.000076</td>\n",
       "      <td>0.000076</td>\n",
       "      <td>0.060689</td>\n",
       "      <td>3.465171e-08</td>\n",
       "      <td>596.0</td>\n",
       "      <td>534.0</td>\n",
       "      <td>832.0</td>\n",
       "    </tr>\n",
       "    <tr>\n",
       "      <th>4</th>\n",
       "      <td>0.0</td>\n",
       "      <td>0.0</td>\n",
       "      <td>0.0</td>\n",
       "      <td>0.0</td>\n",
       "      <td>11098546.0</td>\n",
       "      <td>1398.0</td>\n",
       "      <td>15.0</td>\n",
       "      <td>15.000000</td>\n",
       "      <td>15.0</td>\n",
       "      <td>0.0</td>\n",
       "      <td>...</td>\n",
       "      <td>0</td>\n",
       "      <td>0</td>\n",
       "      <td>0.000740</td>\n",
       "      <td>0.000677</td>\n",
       "      <td>0.000677</td>\n",
       "      <td>0.183634</td>\n",
       "      <td>3.466962e-08</td>\n",
       "      <td>58.0</td>\n",
       "      <td>174.0</td>\n",
       "      <td>366.0</td>\n",
       "    </tr>\n",
       "    <tr>\n",
       "      <th>...</th>\n",
       "      <td>...</td>\n",
       "      <td>...</td>\n",
       "      <td>...</td>\n",
       "      <td>...</td>\n",
       "      <td>...</td>\n",
       "      <td>...</td>\n",
       "      <td>...</td>\n",
       "      <td>...</td>\n",
       "      <td>...</td>\n",
       "      <td>...</td>\n",
       "      <td>...</td>\n",
       "      <td>...</td>\n",
       "      <td>...</td>\n",
       "      <td>...</td>\n",
       "      <td>...</td>\n",
       "      <td>...</td>\n",
       "      <td>...</td>\n",
       "      <td>...</td>\n",
       "      <td>...</td>\n",
       "      <td>...</td>\n",
       "      <td>...</td>\n",
       "    </tr>\n",
       "    <tr>\n",
       "      <th>4041</th>\n",
       "      <td>0.0</td>\n",
       "      <td>0.0</td>\n",
       "      <td>0.0</td>\n",
       "      <td>0.0</td>\n",
       "      <td>11098546.0</td>\n",
       "      <td>1849590.0</td>\n",
       "      <td>26.0</td>\n",
       "      <td>51.222222</td>\n",
       "      <td>72.0</td>\n",
       "      <td>0.0</td>\n",
       "      <td>...</td>\n",
       "      <td>0</td>\n",
       "      <td>0</td>\n",
       "      <td>0.003546</td>\n",
       "      <td>0.000225</td>\n",
       "      <td>0.000225</td>\n",
       "      <td>0.125579</td>\n",
       "      <td>3.465085e-08</td>\n",
       "      <td>195.0</td>\n",
       "      <td>280.0</td>\n",
       "      <td>856.0</td>\n",
       "    </tr>\n",
       "    <tr>\n",
       "      <th>4042</th>\n",
       "      <td>0.0</td>\n",
       "      <td>0.0</td>\n",
       "      <td>0.0</td>\n",
       "      <td>0.0</td>\n",
       "      <td>11098546.0</td>\n",
       "      <td>1849958.0</td>\n",
       "      <td>0.0</td>\n",
       "      <td>33.027778</td>\n",
       "      <td>96.0</td>\n",
       "      <td>1.0</td>\n",
       "      <td>...</td>\n",
       "      <td>0</td>\n",
       "      <td>1</td>\n",
       "      <td>0.038476</td>\n",
       "      <td>0.000182</td>\n",
       "      <td>0.000182</td>\n",
       "      <td>0.553500</td>\n",
       "      <td>3.575886e-08</td>\n",
       "      <td>256.0</td>\n",
       "      <td>17.0</td>\n",
       "      <td>34.0</td>\n",
       "    </tr>\n",
       "    <tr>\n",
       "      <th>4043</th>\n",
       "      <td>0.0</td>\n",
       "      <td>0.0</td>\n",
       "      <td>0.0</td>\n",
       "      <td>0.0</td>\n",
       "      <td>11098546.0</td>\n",
       "      <td>1851023.0</td>\n",
       "      <td>92.0</td>\n",
       "      <td>92.000000</td>\n",
       "      <td>92.0</td>\n",
       "      <td>0.0</td>\n",
       "      <td>...</td>\n",
       "      <td>0</td>\n",
       "      <td>0</td>\n",
       "      <td>0.000300</td>\n",
       "      <td>0.000022</td>\n",
       "      <td>0.000022</td>\n",
       "      <td>0.021621</td>\n",
       "      <td>3.462334e-08</td>\n",
       "      <td>1742.0</td>\n",
       "      <td>1041.0</td>\n",
       "      <td>1701.0</td>\n",
       "    </tr>\n",
       "    <tr>\n",
       "      <th>4044</th>\n",
       "      <td>0.0</td>\n",
       "      <td>0.0</td>\n",
       "      <td>0.0</td>\n",
       "      <td>0.0</td>\n",
       "      <td>11098546.0</td>\n",
       "      <td>1853067.0</td>\n",
       "      <td>80.0</td>\n",
       "      <td>80.000000</td>\n",
       "      <td>80.0</td>\n",
       "      <td>0.0</td>\n",
       "      <td>...</td>\n",
       "      <td>0</td>\n",
       "      <td>0</td>\n",
       "      <td>0.000257</td>\n",
       "      <td>0.000018</td>\n",
       "      <td>0.000018</td>\n",
       "      <td>0.021666</td>\n",
       "      <td>3.460117e-08</td>\n",
       "      <td>1872.0</td>\n",
       "      <td>1038.0</td>\n",
       "      <td>2197.0</td>\n",
       "    </tr>\n",
       "    <tr>\n",
       "      <th>4045</th>\n",
       "      <td>0.0</td>\n",
       "      <td>0.0</td>\n",
       "      <td>0.0</td>\n",
       "      <td>0.0</td>\n",
       "      <td>11098546.0</td>\n",
       "      <td>1854049.0</td>\n",
       "      <td>71.0</td>\n",
       "      <td>71.000000</td>\n",
       "      <td>71.0</td>\n",
       "      <td>0.0</td>\n",
       "      <td>...</td>\n",
       "      <td>0</td>\n",
       "      <td>0</td>\n",
       "      <td>0.000537</td>\n",
       "      <td>0.000005</td>\n",
       "      <td>0.000005</td>\n",
       "      <td>0.023330</td>\n",
       "      <td>3.461920e-08</td>\n",
       "      <td>2159.0</td>\n",
       "      <td>979.0</td>\n",
       "      <td>1825.0</td>\n",
       "    </tr>\n",
       "  </tbody>\n",
       "</table>\n",
       "<p>2291 rows × 62 columns</p>\n",
       "</div>"
      ],
      "text/plain": [
       "      target  target_clicks  target_carts  target_orders  session_id  \\\n",
       "0        0.0            0.0           0.0            0.0  11098546.0   \n",
       "1        0.0            0.0           0.0            0.0  11098546.0   \n",
       "2        0.0            0.0           0.0            0.0  11098546.0   \n",
       "3        0.0            0.0           0.0            0.0  11098546.0   \n",
       "4        0.0            0.0           0.0            0.0  11098546.0   \n",
       "...      ...            ...           ...            ...         ...   \n",
       "4041     0.0            0.0           0.0            0.0  11098546.0   \n",
       "4042     0.0            0.0           0.0            0.0  11098546.0   \n",
       "4043     0.0            0.0           0.0            0.0  11098546.0   \n",
       "4044     0.0            0.0           0.0            0.0  11098546.0   \n",
       "4045     0.0            0.0           0.0            0.0  11098546.0   \n",
       "\n",
       "            aid  min_top20  avg_top20  max_top20  in_session  ...  \\\n",
       "0         605.0        9.0  50.000000       91.0         0.0  ...   \n",
       "1         665.0       71.0  71.000000       71.0         0.0  ...   \n",
       "2        1089.0       16.0  45.666667       82.0         0.0  ...   \n",
       "3        1303.0       35.0  60.500000       87.0         0.0  ...   \n",
       "4        1398.0       15.0  15.000000       15.0         0.0  ...   \n",
       "...         ...        ...        ...        ...         ...  ...   \n",
       "4041  1849590.0       26.0  51.222222       72.0         0.0  ...   \n",
       "4042  1849958.0        0.0  33.027778       96.0         1.0  ...   \n",
       "4043  1851023.0       92.0  92.000000       92.0         0.0  ...   \n",
       "4044  1853067.0       80.0  80.000000       80.0         0.0  ...   \n",
       "4045  1854049.0       71.0  71.000000       71.0         0.0  ...   \n",
       "\n",
       "      in_session_carted_not_ordered  in_session_clicked_not_carted  \\\n",
       "0                                 0                              0   \n",
       "1                                 0                              0   \n",
       "2                                 0                              0   \n",
       "3                                 0                              0   \n",
       "4                                 0                              0   \n",
       "...                             ...                            ...   \n",
       "4041                              0                              0   \n",
       "4042                              0                              1   \n",
       "4043                              0                              0   \n",
       "4044                              0                              0   \n",
       "4045                              0                              0   \n",
       "\n",
       "      XGB_SCORE_CLICKS  XGB_SCORE_CARTS  XGB_SCORE_ORDERS  LGB_SCORE  \\\n",
       "0             0.001949         0.000160          0.000160   0.152916   \n",
       "1             0.000588         0.000047          0.000047   0.032125   \n",
       "2             0.001342         0.000052          0.000052   0.099905   \n",
       "3             0.000919         0.000076          0.000076   0.060689   \n",
       "4             0.000740         0.000677          0.000677   0.183634   \n",
       "...                ...              ...               ...        ...   \n",
       "4041          0.003546         0.000225          0.000225   0.125579   \n",
       "4042          0.038476         0.000182          0.000182   0.553500   \n",
       "4043          0.000300         0.000022          0.000022   0.021621   \n",
       "4044          0.000257         0.000018          0.000018   0.021666   \n",
       "4045          0.000537         0.000005          0.000005   0.023330   \n",
       "\n",
       "          RR_SCORE  XGB_RANK  LGB_RANK  RR_RANK  \n",
       "0     3.465870e-08     297.0     222.0    620.0  \n",
       "1     3.462064e-08     945.0     829.0   1789.0  \n",
       "2     3.463923e-08     856.0     358.0   1218.0  \n",
       "3     3.465171e-08     596.0     534.0    832.0  \n",
       "4     3.466962e-08      58.0     174.0    366.0  \n",
       "...            ...       ...       ...      ...  \n",
       "4041  3.465085e-08     195.0     280.0    856.0  \n",
       "4042  3.575886e-08     256.0      17.0     34.0  \n",
       "4043  3.462334e-08    1742.0    1041.0   1701.0  \n",
       "4044  3.460117e-08    1872.0    1038.0   2197.0  \n",
       "4045  3.461920e-08    2159.0     979.0   1825.0  \n",
       "\n",
       "[2291 rows x 62 columns]"
      ]
     },
     "execution_count": 11,
     "metadata": {},
     "output_type": "execute_result"
    }
   ],
   "source": [
    "valid[valid['session_id']==11098546.0]"
   ]
  },
  {
   "cell_type": "code",
   "execution_count": 12,
   "metadata": {
    "ExecuteTime": {
     "end_time": "2022-12-01T22:02:35.349856Z",
     "start_time": "2022-12-01T22:02:35.178156Z"
    }
   },
   "outputs": [],
   "source": [
    "valid['SUM_RANKS']=valid['XGB_RANK']+valid['LGB_RANK']+valid['RR_RANK']"
   ]
  },
  {
   "cell_type": "code",
   "execution_count": 18,
   "metadata": {
    "ExecuteTime": {
     "end_time": "2022-12-01T22:09:07.021978Z",
     "start_time": "2022-12-01T22:06:54.844433Z"
    }
   },
   "outputs": [],
   "source": [
    "a=valid.groupby('session_id').apply(lambda x : x.sort_values(by = ['SUM_RANKS'], ascending = [True]).head(20).reset_index(drop = True)).reset_index(drop = True)\n",
    "a['session_id']=a['session_id'].apply(lambda x: str(int(x)))\n",
    "a['aid']=a['aid'].apply(lambda x: str(int(x)))\n",
    "    \n",
    "pred_df=pd.DataFrame(a.groupby('session_id')['aid'].apply(list).apply(' '.join)).reset_index(drop=False).rename(columns={'aid':'labels'})"
   ]
  },
  {
   "cell_type": "code",
   "execution_count": 19,
   "metadata": {
    "ExecuteTime": {
     "end_time": "2022-12-01T22:09:07.163070Z",
     "start_time": "2022-12-01T22:09:07.024989Z"
    }
   },
   "outputs": [],
   "source": [
    "submission_clicks=pred_df.copy()\n",
    "submission_carts=pred_df.copy()\n",
    "submission_orders=pred_df.copy()\n",
    "\n",
    "submission_clicks['session_type']=submission_clicks['session_id'].apply(lambda x: x+'_clicks')\n",
    "submission_carts['session_type']=submission_carts['session_id'].apply(lambda x: x+'_carts')\n",
    "submission_orders['session_type']=submission_orders['session_id'].apply(lambda x: x+'_orders')    "
   ]
  },
  {
   "cell_type": "code",
   "execution_count": 20,
   "metadata": {
    "ExecuteTime": {
     "end_time": "2022-12-01T22:09:07.241904Z",
     "start_time": "2022-12-01T22:09:07.164059Z"
    }
   },
   "outputs": [],
   "source": [
    "submission_final=pd.concat([submission_clicks[['session_type', 'labels']],submission_carts[['session_type', 'labels']],submission_orders[['session_type', 'labels']]])"
   ]
  },
  {
   "cell_type": "code",
   "execution_count": 21,
   "metadata": {
    "ExecuteTime": {
     "end_time": "2022-12-01T22:09:13.852093Z",
     "start_time": "2022-12-01T22:09:07.245151Z"
    }
   },
   "outputs": [
    {
     "name": "stdout",
     "output_type": "stream",
     "text": [
      "clicks recall = 0.49764131826803054\n",
      "carts recall = 0.43548186631534463\n",
      "orders recall = 0.6604910714285714\n",
      "=============\n",
      "Overall Recall = 0.5767033345785493\n",
      "=============\n"
     ]
    }
   ],
   "source": [
    "# COMPUTE METRIC\n",
    "score = 0\n",
    "weights = {'clicks': 0.10, 'carts': 0.30, 'orders': 0.60}\n",
    "for t in ['clicks','carts','orders']:\n",
    "    sub = submission_final.loc[submission_final.session_type.str.contains(t)].copy()\n",
    "    sub['session'] = sub.session_type.apply(lambda x: int(x.split('_')[0]))\n",
    "    sub.labels = sub.labels.apply(lambda x: [int(i) for i in x.split(' ')[:20]])\n",
    "    test_labels = pd.read_parquet('test_cv_labels.parquet')\n",
    "    test_labels = test_labels.loc[test_labels['type']==t]\n",
    "    test_labels = test_labels.merge(sub, how='inner', on=['session'])\n",
    "    test_labels['hits'] = test_labels.apply(lambda df: len(set(df.ground_truth).intersection(set(df.labels))), axis=1)\n",
    "    test_labels['gt_count'] = test_labels.ground_truth.str.len().clip(0,20)\n",
    "    recall = test_labels['hits'].sum() / test_labels['gt_count'].sum()\n",
    "    score += weights[t]*recall\n",
    "    print(f'{t} recall =',recall)\n",
    "    \n",
    "print('=============')\n",
    "print('Overall Recall =',score)\n",
    "print('=============')"
   ]
  }
 ],
 "metadata": {
  "hide_input": false,
  "kernelspec": {
   "display_name": "Python 3 (ipykernel)",
   "language": "python",
   "name": "python3"
  },
  "language_info": {
   "codemirror_mode": {
    "name": "ipython",
    "version": 3
   },
   "file_extension": ".py",
   "mimetype": "text/x-python",
   "name": "python",
   "nbconvert_exporter": "python",
   "pygments_lexer": "ipython3",
   "version": "3.9.13"
  },
  "toc": {
   "base_numbering": 1,
   "nav_menu": {},
   "number_sections": true,
   "sideBar": true,
   "skip_h1_title": false,
   "title_cell": "Table of Contents",
   "title_sidebar": "Contents",
   "toc_cell": false,
   "toc_position": {
    "height": "781px",
    "left": "25px",
    "top": "111.125px",
    "width": "374.594px"
   },
   "toc_section_display": true,
   "toc_window_display": true
  },
  "varInspector": {
   "cols": {
    "lenName": 16,
    "lenType": 16,
    "lenVar": 40
   },
   "kernels_config": {
    "python": {
     "delete_cmd_postfix": "",
     "delete_cmd_prefix": "del ",
     "library": "var_list.py",
     "varRefreshCmd": "print(var_dic_list())"
    },
    "r": {
     "delete_cmd_postfix": ") ",
     "delete_cmd_prefix": "rm(",
     "library": "var_list.r",
     "varRefreshCmd": "cat(var_dic_list()) "
    }
   },
   "types_to_exclude": [
    "module",
    "function",
    "builtin_function_or_method",
    "instance",
    "_Feature"
   ],
   "window_display": false
  }
 },
 "nbformat": 4,
 "nbformat_minor": 2
}
