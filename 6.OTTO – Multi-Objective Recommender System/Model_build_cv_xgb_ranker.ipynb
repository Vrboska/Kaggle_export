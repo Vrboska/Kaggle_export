{
 "cells": [
  {
   "cell_type": "markdown",
   "id": "5d8af747",
   "metadata": {
    "toc": true
   },
   "source": [
    "<h1>Table of Contents<span class=\"tocSkip\"></span></h1>\n",
    "<div class=\"toc\"><ul class=\"toc-item\"><li><span><a href=\"#Data-exploration\" data-toc-modified-id=\"Data-exploration-1\"><span class=\"toc-item-num\">1&nbsp;&nbsp;</span>Data exploration</a></span></li><li><span><a href=\"#XGBoost-model\" data-toc-modified-id=\"XGBoost-model-2\"><span class=\"toc-item-num\">2&nbsp;&nbsp;</span>XGBoost model</a></span><ul class=\"toc-item\"><li><span><a href=\"#Hyperparameter-tuning-with-Hyperopt\" data-toc-modified-id=\"Hyperparameter-tuning-with-Hyperopt-2.1\"><span class=\"toc-item-num\">2.1&nbsp;&nbsp;</span>Hyperparameter tuning with Hyperopt</a></span></li><li><span><a href=\"#Model-fitting\" data-toc-modified-id=\"Model-fitting-2.2\"><span class=\"toc-item-num\">2.2&nbsp;&nbsp;</span>Model fitting</a></span></li></ul></li><li><span><a href=\"#Saving-the-model\" data-toc-modified-id=\"Saving-the-model-3\"><span class=\"toc-item-num\">3&nbsp;&nbsp;</span>Saving the model</a></span></li><li><span><a href=\"#SHAP-values\" data-toc-modified-id=\"SHAP-values-4\"><span class=\"toc-item-num\">4&nbsp;&nbsp;</span>SHAP values</a></span></li><li><span><a href=\"#Validation-check\" data-toc-modified-id=\"Validation-check-5\"><span class=\"toc-item-num\">5&nbsp;&nbsp;</span>Validation check</a></span><ul class=\"toc-item\"><li><span><a href=\"#Submission-XGB-SCORE\" data-toc-modified-id=\"Submission-XGB-SCORE-5.1\"><span class=\"toc-item-num\">5.1&nbsp;&nbsp;</span>Submission XGB SCORE</a></span></li></ul></li><li><span><a href=\"#Misc\" data-toc-modified-id=\"Misc-6\"><span class=\"toc-item-num\">6&nbsp;&nbsp;</span>Misc</a></span></li></ul></div>"
   ]
  },
  {
   "cell_type": "code",
   "execution_count": 1,
   "id": "fe6e2a02",
   "metadata": {
    "ExecuteTime": {
     "end_time": "2022-12-08T19:18:04.775034Z",
     "start_time": "2022-12-08T19:18:04.757527Z"
    }
   },
   "outputs": [],
   "source": [
    "import warnings\n",
    "warnings.filterwarnings('ignore')"
   ]
  },
  {
   "cell_type": "code",
   "execution_count": 2,
   "id": "daec666a",
   "metadata": {
    "ExecuteTime": {
     "end_time": "2022-12-08T19:18:09.119846Z",
     "start_time": "2022-12-08T19:18:04.776043Z"
    }
   },
   "outputs": [],
   "source": [
    "import pandas as pd\n",
    "import numpy as np\n",
    "import random\n",
    "import mofr\n",
    "import matplotlib.pyplot as plt\n",
    "import seaborn as sns\n",
    "from sklearn.model_selection import train_test_split\n",
    "from xgboost import XGBClassifier, plot_tree\n",
    "from lightgbm import LGBMClassifier, plot_tree #LGBMRanker\n",
    "import math\n",
    "import pickle\n",
    "import statsmodels.api as sm\n",
    "\n",
    "\n",
    "import xgboost as xgb"
   ]
  },
  {
   "cell_type": "code",
   "execution_count": 3,
   "id": "f7a31fce",
   "metadata": {
    "ExecuteTime": {
     "end_time": "2022-12-08T19:18:09.129157Z",
     "start_time": "2022-12-08T19:18:09.119846Z"
    }
   },
   "outputs": [],
   "source": [
    "seed=1234"
   ]
  },
  {
   "cell_type": "code",
   "execution_count": 4,
   "id": "2f4ff81c",
   "metadata": {
    "ExecuteTime": {
     "end_time": "2022-12-08T19:18:09.145217Z",
     "start_time": "2022-12-08T19:18:09.129157Z"
    }
   },
   "outputs": [],
   "source": [
    "# file_name = \"otto_xgb_model_14_ranker_cv.pkl\""
   ]
  },
  {
   "cell_type": "code",
   "execution_count": 5,
   "id": "fe3c0294",
   "metadata": {
    "ExecuteTime": {
     "end_time": "2022-12-08T19:18:11.741912Z",
     "start_time": "2022-12-08T19:18:09.146217Z"
    }
   },
   "outputs": [],
   "source": [
    "df=pd.read_parquet('train_sample_full_cv_3targets_experimental_reduced.parquet')#train_sample_full_cv_hidden_targets_float\n",
    "# valid=pd.read_parquet('valid_sample_full_cv_3targets_experimental_reduced.parquet')"
   ]
  },
  {
   "cell_type": "code",
   "execution_count": 6,
   "id": "2cb11bfe",
   "metadata": {
    "ExecuteTime": {
     "end_time": "2022-12-08T19:18:11.763363Z",
     "start_time": "2022-12-08T19:18:11.741912Z"
    },
    "scrolled": true
   },
   "outputs": [],
   "source": [
    "# df=df[df['MIN_TOP20']<=60]\n",
    "# valid=valid[valid['MIN_TOP20']<=60]"
   ]
  },
  {
   "cell_type": "code",
   "execution_count": 7,
   "id": "47678a17",
   "metadata": {
    "ExecuteTime": {
     "end_time": "2022-12-08T19:18:11.779415Z",
     "start_time": "2022-12-08T19:18:11.765396Z"
    }
   },
   "outputs": [],
   "source": [
    "# df=pd.concat([df,valid])"
   ]
  },
  {
   "cell_type": "code",
   "execution_count": 8,
   "id": "e677bf5c",
   "metadata": {
    "ExecuteTime": {
     "end_time": "2022-12-08T19:18:11.795420Z",
     "start_time": "2022-12-08T19:18:11.781410Z"
    }
   },
   "outputs": [],
   "source": [
    "# df=pd.concat([pd.concat([df[df['TARGET']==1],valid[valid['TARGET']==1]]), pd.concat([df[df['TARGET']==0],valid[valid['TARGET']==0]]).sample(20000000)])"
   ]
  },
  {
   "cell_type": "code",
   "execution_count": 9,
   "id": "f3f3eb9f",
   "metadata": {
    "ExecuteTime": {
     "end_time": "2022-12-08T19:18:11.811409Z",
     "start_time": "2022-12-08T19:18:11.797416Z"
    }
   },
   "outputs": [],
   "source": [
    "df.columns=[x.lower() for x in df.columns]\n",
    "# valid.columns=[x.lower() for x in valid.columns]"
   ]
  },
  {
   "cell_type": "code",
   "execution_count": 10,
   "id": "d65e5230",
   "metadata": {
    "ExecuteTime": {
     "end_time": "2022-12-08T19:18:11.827411Z",
     "start_time": "2022-12-08T19:18:11.814401Z"
    }
   },
   "outputs": [],
   "source": [
    "# del valid"
   ]
  },
  {
   "cell_type": "code",
   "execution_count": 11,
   "id": "2546e003",
   "metadata": {
    "ExecuteTime": {
     "end_time": "2022-12-08T19:18:11.843411Z",
     "start_time": "2022-12-08T19:18:11.828402Z"
    }
   },
   "outputs": [],
   "source": [
    "# sessions_with_orders=pd.DataFrame(df.groupby('session_id')['target'].sum()).reset_index()\n",
    "# sessions_with_orders=sessions_with_orders[sessions_with_orders['target']>0]\n",
    "# df=df.merge(sessions_with_orders['session_id'], how='inner', on='session_id')"
   ]
  },
  {
   "cell_type": "code",
   "execution_count": 12,
   "id": "54bfc461",
   "metadata": {
    "ExecuteTime": {
     "end_time": "2022-12-08T19:18:11.870299Z",
     "start_time": "2022-12-08T19:18:11.845403Z"
    }
   },
   "outputs": [
    {
     "name": "stdout",
     "output_type": "stream",
     "text": [
      "<class 'pandas.core.frame.DataFrame'>\n",
      "RangeIndex: 20574641 entries, 0 to 20574640\n",
      "Data columns (total 51 columns):\n",
      " #   Column                          Dtype  \n",
      "---  ------                          -----  \n",
      " 0   target                          float64\n",
      " 1   target_clicks                   float64\n",
      " 2   target_carts                    float64\n",
      " 3   target_orders                   float64\n",
      " 4   session_id                      float64\n",
      " 5   aid                             float64\n",
      " 6   min_top20                       float64\n",
      " 7   avg_top20                       float64\n",
      " 8   max_top20                       float64\n",
      " 9   in_session                      float64\n",
      " 10  in_session_clicked              float64\n",
      " 11  in_session_carted               float64\n",
      " 12  in_session_ordered              float64\n",
      " 13  in_session_score                float64\n",
      " 14  in_session_score_time_weighted  float64\n",
      " 15  times_in_top20                  float64\n",
      " 16  times_in_top20_last_week        float64\n",
      " 17  min_order_hours_from_click_avg  float64\n",
      " 18  avg_order_hours_from_click_avg  float64\n",
      " 19  avg_num_sessions_ordered        float64\n",
      " 20  sum_num_sessions_ordered        float64\n",
      " 21  avg_num_occured_overall         float64\n",
      " 22  sum_num_occured_overall         float64\n",
      " 23  last_num_sessions_ordered       float64\n",
      " 24  last_hour_num_sessions_ordered  float64\n",
      " 25  num_times_ordered_overall       float64\n",
      " 26  sess_num_events                 float64\n",
      " 27  sess_num_clicks                 float64\n",
      " 28  sess_num_carts                  float64\n",
      " 29  sess_num_orders                 float64\n",
      " 30  sess_num_clicks_last_hour       float64\n",
      " 31  sess_num_carts_last_hour        float64\n",
      " 32  sess_num_orders_last_hour       float64\n",
      " 33  sess_duration                   float64\n",
      " 34  sess_days_till_test             float64\n",
      " 35  sess_minute                     float64\n",
      " 36  sess_hour                       float64\n",
      " 37  sess_dayofweek                  float64\n",
      " 38  sess_dayofmonth                 float64\n",
      " 39  number_carts_orders             float64\n",
      " 40  number_carts                    float64\n",
      " 41  number_orders                   float64\n",
      " 42  first_seen                      float64\n",
      " 43  last_seen                       float64\n",
      " 44  first_bought                    float64\n",
      " 45  last_bought                     float64\n",
      " 46  bought_overall                  float64\n",
      " 47  seen_overall                    float64\n",
      " 48  num_clicks_same_day             float64\n",
      " 49  num_carts_same_day              float64\n",
      " 50  num_orders_same_day             float64\n",
      "dtypes: float64(51)\n",
      "memory usage: 7.8 GB\n"
     ]
    }
   ],
   "source": [
    "df.info()"
   ]
  },
  {
   "cell_type": "code",
   "execution_count": 13,
   "id": "55a008cf",
   "metadata": {
    "ExecuteTime": {
     "end_time": "2022-12-08T19:18:11.901644Z",
     "start_time": "2022-12-08T19:18:11.872308Z"
    }
   },
   "outputs": [
    {
     "data": {
      "text/html": [
       "<div>\n",
       "<style scoped>\n",
       "    .dataframe tbody tr th:only-of-type {\n",
       "        vertical-align: middle;\n",
       "    }\n",
       "\n",
       "    .dataframe tbody tr th {\n",
       "        vertical-align: top;\n",
       "    }\n",
       "\n",
       "    .dataframe thead th {\n",
       "        text-align: right;\n",
       "    }\n",
       "</style>\n",
       "<table border=\"1\" class=\"dataframe\">\n",
       "  <thead>\n",
       "    <tr style=\"text-align: right;\">\n",
       "      <th></th>\n",
       "      <th>target</th>\n",
       "      <th>target_clicks</th>\n",
       "      <th>target_carts</th>\n",
       "      <th>target_orders</th>\n",
       "      <th>session_id</th>\n",
       "      <th>aid</th>\n",
       "      <th>min_top20</th>\n",
       "      <th>avg_top20</th>\n",
       "      <th>max_top20</th>\n",
       "      <th>in_session</th>\n",
       "      <th>...</th>\n",
       "      <th>number_orders</th>\n",
       "      <th>first_seen</th>\n",
       "      <th>last_seen</th>\n",
       "      <th>first_bought</th>\n",
       "      <th>last_bought</th>\n",
       "      <th>bought_overall</th>\n",
       "      <th>seen_overall</th>\n",
       "      <th>num_clicks_same_day</th>\n",
       "      <th>num_carts_same_day</th>\n",
       "      <th>num_orders_same_day</th>\n",
       "    </tr>\n",
       "  </thead>\n",
       "  <tbody>\n",
       "    <tr>\n",
       "      <th>0</th>\n",
       "      <td>0.0</td>\n",
       "      <td>0.0</td>\n",
       "      <td>0.0</td>\n",
       "      <td>0.0</td>\n",
       "      <td>8938465.0</td>\n",
       "      <td>564685.0</td>\n",
       "      <td>16.0</td>\n",
       "      <td>16.0</td>\n",
       "      <td>16.0</td>\n",
       "      <td>0.0</td>\n",
       "      <td>...</td>\n",
       "      <td>0.0</td>\n",
       "      <td>491.619506</td>\n",
       "      <td>124.111059</td>\n",
       "      <td>482.864629</td>\n",
       "      <td>124.111059</td>\n",
       "      <td>6.0</td>\n",
       "      <td>39.0</td>\n",
       "      <td>1.0</td>\n",
       "      <td>0.0</td>\n",
       "      <td>0.0</td>\n",
       "    </tr>\n",
       "    <tr>\n",
       "      <th>1</th>\n",
       "      <td>0.0</td>\n",
       "      <td>0.0</td>\n",
       "      <td>0.0</td>\n",
       "      <td>0.0</td>\n",
       "      <td>8938465.0</td>\n",
       "      <td>565316.0</td>\n",
       "      <td>50.0</td>\n",
       "      <td>50.0</td>\n",
       "      <td>50.0</td>\n",
       "      <td>0.0</td>\n",
       "      <td>...</td>\n",
       "      <td>0.0</td>\n",
       "      <td>502.813942</td>\n",
       "      <td>74.272007</td>\n",
       "      <td>502.018061</td>\n",
       "      <td>74.285707</td>\n",
       "      <td>36.0</td>\n",
       "      <td>151.0</td>\n",
       "      <td>NaN</td>\n",
       "      <td>NaN</td>\n",
       "      <td>NaN</td>\n",
       "    </tr>\n",
       "    <tr>\n",
       "      <th>2</th>\n",
       "      <td>0.0</td>\n",
       "      <td>0.0</td>\n",
       "      <td>0.0</td>\n",
       "      <td>0.0</td>\n",
       "      <td>8938465.0</td>\n",
       "      <td>571687.0</td>\n",
       "      <td>98.0</td>\n",
       "      <td>98.0</td>\n",
       "      <td>98.0</td>\n",
       "      <td>0.0</td>\n",
       "      <td>...</td>\n",
       "      <td>0.0</td>\n",
       "      <td>492.177236</td>\n",
       "      <td>27.309626</td>\n",
       "      <td>368.904207</td>\n",
       "      <td>203.731431</td>\n",
       "      <td>6.0</td>\n",
       "      <td>89.0</td>\n",
       "      <td>4.0</td>\n",
       "      <td>0.0</td>\n",
       "      <td>0.0</td>\n",
       "    </tr>\n",
       "    <tr>\n",
       "      <th>3</th>\n",
       "      <td>0.0</td>\n",
       "      <td>0.0</td>\n",
       "      <td>0.0</td>\n",
       "      <td>0.0</td>\n",
       "      <td>8938465.0</td>\n",
       "      <td>573913.0</td>\n",
       "      <td>99.0</td>\n",
       "      <td>99.0</td>\n",
       "      <td>99.0</td>\n",
       "      <td>0.0</td>\n",
       "      <td>...</td>\n",
       "      <td>0.0</td>\n",
       "      <td>503.908608</td>\n",
       "      <td>1.141526</td>\n",
       "      <td>495.855277</td>\n",
       "      <td>14.712022</td>\n",
       "      <td>30.0</td>\n",
       "      <td>654.0</td>\n",
       "      <td>7.0</td>\n",
       "      <td>2.0</td>\n",
       "      <td>2.0</td>\n",
       "    </tr>\n",
       "    <tr>\n",
       "      <th>4</th>\n",
       "      <td>0.0</td>\n",
       "      <td>0.0</td>\n",
       "      <td>0.0</td>\n",
       "      <td>0.0</td>\n",
       "      <td>8938465.0</td>\n",
       "      <td>602226.0</td>\n",
       "      <td>63.0</td>\n",
       "      <td>63.0</td>\n",
       "      <td>63.0</td>\n",
       "      <td>0.0</td>\n",
       "      <td>...</td>\n",
       "      <td>0.0</td>\n",
       "      <td>490.982738</td>\n",
       "      <td>31.480027</td>\n",
       "      <td>489.757147</td>\n",
       "      <td>175.569146</td>\n",
       "      <td>8.0</td>\n",
       "      <td>106.0</td>\n",
       "      <td>1.0</td>\n",
       "      <td>0.0</td>\n",
       "      <td>0.0</td>\n",
       "    </tr>\n",
       "  </tbody>\n",
       "</table>\n",
       "<p>5 rows × 51 columns</p>\n",
       "</div>"
      ],
      "text/plain": [
       "   target  target_clicks  target_carts  target_orders  session_id       aid  \\\n",
       "0     0.0            0.0           0.0            0.0   8938465.0  564685.0   \n",
       "1     0.0            0.0           0.0            0.0   8938465.0  565316.0   \n",
       "2     0.0            0.0           0.0            0.0   8938465.0  571687.0   \n",
       "3     0.0            0.0           0.0            0.0   8938465.0  573913.0   \n",
       "4     0.0            0.0           0.0            0.0   8938465.0  602226.0   \n",
       "\n",
       "   min_top20  avg_top20  max_top20  in_session  ...  number_orders  \\\n",
       "0       16.0       16.0       16.0         0.0  ...            0.0   \n",
       "1       50.0       50.0       50.0         0.0  ...            0.0   \n",
       "2       98.0       98.0       98.0         0.0  ...            0.0   \n",
       "3       99.0       99.0       99.0         0.0  ...            0.0   \n",
       "4       63.0       63.0       63.0         0.0  ...            0.0   \n",
       "\n",
       "   first_seen   last_seen  first_bought  last_bought  bought_overall  \\\n",
       "0  491.619506  124.111059    482.864629   124.111059             6.0   \n",
       "1  502.813942   74.272007    502.018061    74.285707            36.0   \n",
       "2  492.177236   27.309626    368.904207   203.731431             6.0   \n",
       "3  503.908608    1.141526    495.855277    14.712022            30.0   \n",
       "4  490.982738   31.480027    489.757147   175.569146             8.0   \n",
       "\n",
       "   seen_overall  num_clicks_same_day  num_carts_same_day  num_orders_same_day  \n",
       "0          39.0                  1.0                 0.0                  0.0  \n",
       "1         151.0                  NaN                 NaN                  NaN  \n",
       "2          89.0                  4.0                 0.0                  0.0  \n",
       "3         654.0                  7.0                 2.0                  2.0  \n",
       "4         106.0                  1.0                 0.0                  0.0  \n",
       "\n",
       "[5 rows x 51 columns]"
      ]
     },
     "execution_count": 13,
     "metadata": {},
     "output_type": "execute_result"
    }
   ],
   "source": [
    "df.head()"
   ]
  },
  {
   "cell_type": "code",
   "execution_count": 14,
   "id": "d66062f6",
   "metadata": {
    "ExecuteTime": {
     "end_time": "2022-12-08T19:18:31.342423Z",
     "start_time": "2022-12-08T19:18:11.902642Z"
    }
   },
   "outputs": [],
   "source": [
    "df['null_flag']=(df['avg_order_hours_from_click_avg']<99999).apply(int)\n",
    "df['in_session_carted_not_ordered']=((df['in_session_carted']>0)&(df['in_session_ordered']==0)).apply(int)\n",
    "df['in_session_clicked_not_carted']=((df['in_session_clicked']>0)&(df['in_session_carted']==0)).apply(int)\n",
    "\n",
    "df['in_session_clicked_not_ordered']=((df['in_session_clicked']>0)&(df['in_session_ordered']==0)).apply(int)\n",
    "df['min_top20_x_in_session_score_time_weighted']=df['min_top20']*df['in_session_score_time_weighted']\n",
    "df['avg_top20_x_in_session_score_time_weighted']=df['avg_top20']*df['in_session_score_time_weighted']\n",
    "df['num_clicks_same_day_x_num_carts_same_day']=df['num_clicks_same_day']*df['num_carts_same_day']\n",
    "df['num_clicks_same_day_x_num_orders_same_day']=df['num_clicks_same_day']*df['num_orders_same_day']\n",
    "df['num_carts_same_day_x_num_orders_same_day']=df['num_carts_same_day']*df['num_orders_same_day']\n",
    "\n",
    "\n",
    "# valid['null_flag']=(valid['avg_order_hours_from_click_avg']<99999).apply(int)\n",
    "# valid['in_session_carted_not_ordered']=((valid['in_session_carted']>0)&(valid['in_session_ordered']==0)).apply(int)\n",
    "# valid['in_session_clicked_not_carted']=((valid['in_session_clicked']>0)&(valid['in_session_carted']==0)).apply(int)"
   ]
  },
  {
   "cell_type": "code",
   "execution_count": 15,
   "id": "9726a4f1",
   "metadata": {
    "ExecuteTime": {
     "end_time": "2022-12-08T19:18:31.457778Z",
     "start_time": "2022-12-08T19:18:31.342423Z"
    }
   },
   "outputs": [
    {
     "data": {
      "text/plain": [
       "1    0.751868\n",
       "0    0.248132\n",
       "Name: null_flag, dtype: float64"
      ]
     },
     "execution_count": 15,
     "metadata": {},
     "output_type": "execute_result"
    }
   ],
   "source": [
    "df['null_flag'].value_counts(normalize=True)"
   ]
  },
  {
   "cell_type": "code",
   "execution_count": 16,
   "id": "a46ae7eb",
   "metadata": {
    "ExecuteTime": {
     "end_time": "2022-12-08T19:18:31.569784Z",
     "start_time": "2022-12-08T19:18:31.459775Z"
    }
   },
   "outputs": [
    {
     "data": {
      "text/plain": [
       "0.0    20552278\n",
       "1.0       22363\n",
       "Name: target, dtype: int64"
      ]
     },
     "execution_count": 16,
     "metadata": {},
     "output_type": "execute_result"
    }
   ],
   "source": [
    "df['target'].value_counts()"
   ]
  },
  {
   "cell_type": "code",
   "execution_count": 17,
   "id": "c43946b8",
   "metadata": {
    "ExecuteTime": {
     "end_time": "2022-12-08T19:18:31.585786Z",
     "start_time": "2022-12-08T19:18:31.570775Z"
    }
   },
   "outputs": [],
   "source": [
    "#df=df[df['null_flag']==1].reset_index()\n",
    "#valid=valid[valid['null_flag']==1].reset_index()"
   ]
  },
  {
   "cell_type": "code",
   "execution_count": 18,
   "id": "7e20d220",
   "metadata": {
    "ExecuteTime": {
     "end_time": "2022-12-08T19:18:31.713791Z",
     "start_time": "2022-12-08T19:18:31.587776Z"
    }
   },
   "outputs": [
    {
     "data": {
      "text/plain": [
       "0.0    20552278\n",
       "1.0       22363\n",
       "Name: target, dtype: int64"
      ]
     },
     "execution_count": 18,
     "metadata": {},
     "output_type": "execute_result"
    }
   ],
   "source": [
    "df['target'].value_counts()"
   ]
  },
  {
   "cell_type": "code",
   "execution_count": 19,
   "id": "14bd5920",
   "metadata": {
    "ExecuteTime": {
     "end_time": "2022-12-08T19:18:31.728776Z",
     "start_time": "2022-12-08T19:18:31.715775Z"
    }
   },
   "outputs": [],
   "source": [
    "# rand=np.random.randint(1, 11, df.shape[0])\n",
    "\n",
    "# train_mask=(df['sess_days_till_test']+df['sess_duration']/24)>0#rand<=8\n",
    "# valid_mask=(df['sess_days_till_test']+df['sess_duration']/24)>0#rand>8"
   ]
  },
  {
   "cell_type": "code",
   "execution_count": 20,
   "id": "bd81e8e4",
   "metadata": {
    "ExecuteTime": {
     "end_time": "2022-12-08T19:18:31.743781Z",
     "start_time": "2022-12-08T19:18:31.730782Z"
    }
   },
   "outputs": [],
   "source": [
    "# df[train_mask]['target'].value_counts()"
   ]
  },
  {
   "cell_type": "code",
   "execution_count": 21,
   "id": "ae9c452a",
   "metadata": {
    "ExecuteTime": {
     "end_time": "2022-12-08T19:18:31.759787Z",
     "start_time": "2022-12-08T19:18:31.745776Z"
    }
   },
   "outputs": [],
   "source": [
    "# df[valid_mask]['target'].value_counts()"
   ]
  },
  {
   "cell_type": "code",
   "execution_count": 22,
   "id": "a0108774",
   "metadata": {
    "ExecuteTime": {
     "end_time": "2022-12-08T19:18:31.775777Z",
     "start_time": "2022-12-08T19:18:31.761779Z"
    }
   },
   "outputs": [],
   "source": [
    "col_target='target'\n",
    "col_exclude=[\n",
    "'session_id',\n",
    "'aid',\n",
    "# 'num_times_ordered_overall',\n",
    "'number_carts_orders',\n",
    "'number_carts',\n",
    "'number_orders',\n",
    "'sess_days_till_test',\n",
    "'sess_dayofmonth',\n",
    "# 'in_session',\n",
    "# 'in_session_clicked',\n",
    "# 'in_session_carted',\n",
    "#  'in_session_ordered',\n",
    "#  'in_session_score',\n",
    "# 'first_seen',\n",
    "# 'first_bought',\n",
    "\n",
    "'target_clicks',\n",
    "'target_carts',\n",
    "'target_orders',\n",
    "col_target,]"
   ]
  },
  {
   "cell_type": "code",
   "execution_count": 23,
   "id": "c9bc904b",
   "metadata": {
    "ExecuteTime": {
     "end_time": "2022-12-08T19:18:31.791794Z",
     "start_time": "2022-12-08T19:18:31.777775Z"
    }
   },
   "outputs": [],
   "source": [
    "# df[col_target]=df[col_target].apply(int)"
   ]
  },
  {
   "cell_type": "markdown",
   "id": "4f79568a",
   "metadata": {},
   "source": [
    "# Data exploration"
   ]
  },
  {
   "cell_type": "code",
   "execution_count": 24,
   "id": "eb8c02e9",
   "metadata": {
    "ExecuteTime": {
     "end_time": "2022-12-08T19:18:31.807775Z",
     "start_time": "2022-12-08T19:18:31.793784Z"
    }
   },
   "outputs": [],
   "source": [
    "col_preds=[col for col in df.columns[3:] if col not in col_exclude]"
   ]
  },
  {
   "cell_type": "code",
   "execution_count": 25,
   "id": "28f51914",
   "metadata": {
    "ExecuteTime": {
     "end_time": "2022-12-08T19:18:31.822783Z",
     "start_time": "2022-12-08T19:18:31.809776Z"
    }
   },
   "outputs": [
    {
     "data": {
      "text/plain": [
       "49"
      ]
     },
     "execution_count": 25,
     "metadata": {},
     "output_type": "execute_result"
    }
   ],
   "source": [
    "len(col_preds)"
   ]
  },
  {
   "cell_type": "code",
   "execution_count": 26,
   "id": "b8fdb4f3",
   "metadata": {
    "ExecuteTime": {
     "end_time": "2022-12-08T19:18:31.838786Z",
     "start_time": "2022-12-08T19:18:31.824792Z"
    }
   },
   "outputs": [
    {
     "data": {
      "text/plain": [
       "['min_top20',\n",
       " 'avg_top20',\n",
       " 'max_top20',\n",
       " 'in_session',\n",
       " 'in_session_clicked',\n",
       " 'in_session_carted',\n",
       " 'in_session_ordered',\n",
       " 'in_session_score',\n",
       " 'in_session_score_time_weighted',\n",
       " 'times_in_top20',\n",
       " 'times_in_top20_last_week',\n",
       " 'min_order_hours_from_click_avg',\n",
       " 'avg_order_hours_from_click_avg',\n",
       " 'avg_num_sessions_ordered',\n",
       " 'sum_num_sessions_ordered',\n",
       " 'avg_num_occured_overall',\n",
       " 'sum_num_occured_overall',\n",
       " 'last_num_sessions_ordered',\n",
       " 'last_hour_num_sessions_ordered',\n",
       " 'num_times_ordered_overall',\n",
       " 'sess_num_events',\n",
       " 'sess_num_clicks',\n",
       " 'sess_num_carts',\n",
       " 'sess_num_orders',\n",
       " 'sess_num_clicks_last_hour',\n",
       " 'sess_num_carts_last_hour',\n",
       " 'sess_num_orders_last_hour',\n",
       " 'sess_duration',\n",
       " 'sess_minute',\n",
       " 'sess_hour',\n",
       " 'sess_dayofweek',\n",
       " 'first_seen',\n",
       " 'last_seen',\n",
       " 'first_bought',\n",
       " 'last_bought',\n",
       " 'bought_overall',\n",
       " 'seen_overall',\n",
       " 'num_clicks_same_day',\n",
       " 'num_carts_same_day',\n",
       " 'num_orders_same_day',\n",
       " 'null_flag',\n",
       " 'in_session_carted_not_ordered',\n",
       " 'in_session_clicked_not_carted',\n",
       " 'in_session_clicked_not_ordered',\n",
       " 'min_top20_x_in_session_score_time_weighted',\n",
       " 'avg_top20_x_in_session_score_time_weighted',\n",
       " 'num_clicks_same_day_x_num_carts_same_day',\n",
       " 'num_clicks_same_day_x_num_orders_same_day',\n",
       " 'num_carts_same_day_x_num_orders_same_day']"
      ]
     },
     "execution_count": 26,
     "metadata": {},
     "output_type": "execute_result"
    }
   ],
   "source": [
    "col_preds"
   ]
  },
  {
   "cell_type": "markdown",
   "id": "cddd700f",
   "metadata": {
    "ExecuteTime": {
     "end_time": "2022-11-16T09:07:24.490773Z",
     "start_time": "2022-11-16T09:07:24.490773Z"
    }
   },
   "source": [
    "# XGBoost model"
   ]
  },
  {
   "cell_type": "markdown",
   "id": "a2fcaa42",
   "metadata": {},
   "source": [
    "## Hyperparameter tuning with Hyperopt"
   ]
  },
  {
   "cell_type": "code",
   "execution_count": 27,
   "id": "c3cb903d",
   "metadata": {
    "ExecuteTime": {
     "end_time": "2022-12-08T19:18:31.854785Z",
     "start_time": "2022-12-08T19:18:31.840777Z"
    },
    "code_folding": [
     5,
     23
    ],
    "hide_input": false,
    "scrolled": true
   },
   "outputs": [],
   "source": [
    "# from hyperopt import fmin, tpe, hp, anneal, Trials, STATUS_OK\n",
    "\n",
    "# sample_train=df.sample(250000)\n",
    "# sample_valid=df.sample(100000)\n",
    "\n",
    "# space={'max_depth': hp.quniform(\"max_depth\", 3, 6, 1),\n",
    "#         'gamma': hp.uniform ('gamma', 1,9),\n",
    "#         'reg_alpha' : hp.quniform('reg_alpha', 40,180,1),\n",
    "#         'reg_lambda' : hp.uniform('reg_lambda', 0,1),\n",
    "#         'colsample_bytree' : hp.uniform('colsample_bytree', 0.5,1),\n",
    "#         'min_child_weight' : hp.quniform('min_child_weight', 0, 10, 1),\n",
    "#         'n_estimators': 100,\n",
    "#         'seed': 0\n",
    "#     }\n",
    "\n",
    "# def objective(space):\n",
    "#     clf=xgb.XGBClassifier(\n",
    "#                     n_estimators =space['n_estimators'], max_depth = int(space['max_depth']), gamma = space['gamma'],\n",
    "#                     reg_alpha = int(space['reg_alpha']),min_child_weight=int(space['min_child_weight']),\n",
    "#                     colsample_bytree=int(space['colsample_bytree']))\n",
    "    \n",
    "#     evaluation = [( sample_train[col_preds], sample_train[col_target]), ( sample_valid[col_preds], sample_valid[col_target])]\n",
    "    \n",
    "#     clf.fit(sample_train[col_preds], sample_train[col_target],\n",
    "#             eval_set=evaluation, eval_metric=\"auc\",\n",
    "#             early_stopping_rounds=10,verbose=False)\n",
    "    \n",
    "\n",
    "#     pred = clf.predict_proba(sample_valid[col_preds])[:, 1]\n",
    "#     gini = mofr.metrics.gini(sample_valid[col_target], pred)\n",
    "#     print (\"SCORE:\", gini)\n",
    "#     return {'loss': -gini, 'status': STATUS_OK }\n",
    "\n",
    "# trials = Trials()\n",
    "\n",
    "# best_hyperparams = fmin(fn = objective,\n",
    "#                         space = space,\n",
    "#                         algo = tpe.suggest,\n",
    "#                         max_evals = 33,\n",
    "#                         trials = trials)\n",
    "\n",
    "# del sample_train\n",
    "# del sample_valid\n",
    "\n",
    "# hyperparams_name = \"best_hyperparams_cv.pkl\"\n",
    "\n",
    "# # save\n",
    "# pickle.dump(best_hyperparams, open(hyperparams_name, \"wb\"))"
   ]
  },
  {
   "cell_type": "markdown",
   "id": "df29fbd8",
   "metadata": {},
   "source": [
    "## Model fitting"
   ]
  },
  {
   "cell_type": "code",
   "execution_count": 28,
   "id": "1873f8f5",
   "metadata": {
    "ExecuteTime": {
     "end_time": "2022-12-08T19:18:45.054881Z",
     "start_time": "2022-12-08T19:18:31.859775Z"
    }
   },
   "outputs": [],
   "source": [
    "df=df.sort_values(by='session_id', ascending=True)"
   ]
  },
  {
   "cell_type": "code",
   "execution_count": 29,
   "id": "23500419",
   "metadata": {
    "ExecuteTime": {
     "end_time": "2022-12-08T19:18:45.070214Z",
     "start_time": "2022-12-08T19:18:45.061882Z"
    }
   },
   "outputs": [],
   "source": [
    "# def non_decreasing(L):\n",
    "#     return all(x<=y for x, y in zip(L, L[1:]))\n",
    "\n",
    "# non_decreasing(list(X_valid['session_id']))"
   ]
  },
  {
   "cell_type": "code",
   "execution_count": 30,
   "id": "36c5ecc0",
   "metadata": {
    "ExecuteTime": {
     "end_time": "2022-12-08T19:26:55.985182Z",
     "start_time": "2022-12-08T19:18:45.072212Z"
    }
   },
   "outputs": [
    {
     "name": "stdout",
     "output_type": "stream",
     "text": [
      "[0]\ttrain-map:0.93540\n",
      "[100]\ttrain-map:0.94666\n",
      "[200]\ttrain-map:0.95061\n",
      "[300]\ttrain-map:0.95400\n",
      "[400]\ttrain-map:0.95747\n",
      "[500]\ttrain-map:0.96127\n",
      "[600]\ttrain-map:0.96495\n",
      "[700]\ttrain-map:0.96801\n",
      "[800]\ttrain-map:0.97130\n",
      "[900]\ttrain-map:0.97418\n",
      "[1000]\ttrain-map:0.97683\n",
      "[1100]\ttrain-map:0.97970\n",
      "[1200]\ttrain-map:0.98211\n",
      "[1300]\ttrain-map:0.98417\n",
      "[1400]\ttrain-map:0.98631\n",
      "[1500]\ttrain-map:0.98797\n",
      "[1600]\ttrain-map:0.98947\n",
      "[1700]\ttrain-map:0.99084\n",
      "[1800]\ttrain-map:0.99197\n",
      "[1900]\ttrain-map:0.99312\n",
      "[1999]\ttrain-map:0.99397\n"
     ]
    }
   ],
   "source": [
    "dtrain = xgb.DMatrix(df[col_preds], df[col_target], qid=list(df['session_id']) ) \n",
    "\n",
    "xgb_parms = {'objective':'rank:ndcg', 'tree_method':'gpu_hist'}\n",
    "xgb_model = xgb.train(xgb_parms, \n",
    "    dtrain=dtrain,\n",
    "    evals=[(dtrain,'train')],\n",
    "    num_boost_round=2000,\n",
    "    verbose_eval=100)\n",
    "xgb_model.save_model(f'XGB_ranker_cv.xgb')"
   ]
  },
  {
   "cell_type": "code",
   "execution_count": 31,
   "id": "b4ad4343",
   "metadata": {
    "ExecuteTime": {
     "end_time": "2022-12-08T19:26:56.000782Z",
     "start_time": "2022-12-08T19:26:55.992271Z"
    },
    "code_folding": []
   },
   "outputs": [],
   "source": [
    "# from sklearn.model_selection import GroupKFold\n",
    "\n",
    "# skf = GroupKFold(n_splits=5)\n",
    "# for fold,(train_idx, valid_idx) in enumerate(skf.split(df, df[col_target], groups=df['session_id'] )):\n",
    "\n",
    "#     X_train = df.sort_values(by='session_id', ascending=True).loc[train_idx, col_preds+['session_id']]\n",
    "#     y_train = df.sort_values(by='session_id', ascending=True).loc[train_idx, col_target]\n",
    "#     X_valid = df.sort_values(by='session_id', ascending=True).loc[valid_idx, col_preds+['session_id']]\n",
    "#     y_valid = df.sort_values(by='session_id', ascending=True).loc[valid_idx, col_target]\n",
    "\n",
    "#     # IF YOU HAVE 50 CANDIDATE WE USE 50 BELOW\n",
    "#     dtrain = xgb.DMatrix(X_train[col_preds], y_train, qid=list(X_train['session_id']) ) \n",
    "#     dvalid = xgb.DMatrix(X_valid[col_preds], y_valid, qid=list(X_valid['session_id']) ) \n",
    "\n",
    "#     xgb_parms = {'objective':'rank:pairwise', 'tree_method':'gpu_hist'}\n",
    "#     model = xgb.train(xgb_parms, \n",
    "#         dtrain=dtrain,\n",
    "#         evals=[(dtrain,'train'),(dvalid,'valid')],\n",
    "#         num_boost_round=1000,\n",
    "#         verbose_eval=100)\n",
    "#     model.save_model(f'XGB_fold{fold}_click.xgb')"
   ]
  },
  {
   "cell_type": "code",
   "execution_count": 32,
   "id": "681848e9",
   "metadata": {
    "ExecuteTime": {
     "end_time": "2022-12-08T19:28:21.357133Z",
     "start_time": "2022-12-08T19:26:56.003792Z"
    }
   },
   "outputs": [],
   "source": [
    "df['XGB_SCORE']=xgb_model.predict(dtrain)\n",
    "# train['XGB_SCORE']=xgb_model.predict_proba(train[col_preds])[:, 1]\n",
    "# valid['XGB_SCORE']=xgb_model.predict_proba(valid[col_preds])[:, 1]"
   ]
  },
  {
   "cell_type": "code",
   "execution_count": 33,
   "id": "2de71a52",
   "metadata": {
    "ExecuteTime": {
     "end_time": "2022-12-08T19:28:33.550600Z",
     "start_time": "2022-12-08T19:28:21.358128Z"
    },
    "hide_input": false
   },
   "outputs": [
    {
     "name": "stdout",
     "output_type": "stream",
     "text": [
      "The Lift on the train set is: 9.961991272543619\n",
      "The gini on the train set is: 0.9920797815757019\n",
      "\n",
      "\n"
     ]
    }
   ],
   "source": [
    "print('The Lift on the train set is: '+ str(mofr.metrics.lift(df[col_target], df['XGB_SCORE'])))\n",
    "print('The gini on the train set is: '+ str(mofr.metrics.gini(df[col_target].apply(int), df['XGB_SCORE'])))\n",
    "# print('The accuracy on the train set is: '+ str(mofr.metrics.accuracy_score(train[col_target].apply(int), train['XGB_SCORE'].apply(lambda x: int(x>0.5)))))\n",
    "print('\\n')\n",
    "# print('The Lift on the valid set is: '+ str(mofr.metrics.lift(valid[col_target], valid['XGB_SCORE'])))\n",
    "# print('The gini on the valid set is: '+ str(mofr.metrics.gini(valid[col_target].apply(int), valid['XGB_SCORE'])))\n",
    "# # print('The accuracy on the valid set is: '+ str(mofr.metrics.accuracy_score(df[valid_mask][col_target].apply(int), df[valid_mask]['XGB_SCORE'].apply(lambda x: int(x>0.5)))))\n",
    "# print('\\n')"
   ]
  },
  {
   "cell_type": "code",
   "execution_count": 34,
   "id": "a806c730",
   "metadata": {
    "ExecuteTime": {
     "end_time": "2022-12-08T19:28:33.566606Z",
     "start_time": "2022-12-08T19:28:33.552600Z"
    },
    "hide_input": true
   },
   "outputs": [],
   "source": [
    "# from mofr.basic_evaluators.ROCCurve import ROCCurveEvaluator\n",
    "# df['one']=1\n",
    "\n",
    "# rce=ROCCurveEvaluator()\n",
    "# rce.d(df[valid_mask]).t([(col_target,'one')]).s(['XGB_SCORE'])\n",
    "# rce.get_graph()\n",
    "\n",
    "# del df['one']"
   ]
  },
  {
   "cell_type": "code",
   "execution_count": 35,
   "id": "94553bef",
   "metadata": {
    "ExecuteTime": {
     "end_time": "2022-12-08T19:28:35.886063Z",
     "start_time": "2022-12-08T19:28:33.567598Z"
    },
    "hide_input": true
   },
   "outputs": [
    {
     "data": {
      "image/png": "[encoded data removed]",
      "text/plain": [
       "<Figure size 4000x4000 with 1 Axes>"
      ]
     },
     "metadata": {},
     "output_type": "display_data"
    }
   ],
   "source": [
    "import os\n",
    "os.environ[\"PATH\"] += os.pathsep + 'c:/Program Files/Graphviz/bin/'\n",
    "\n",
    "from xgboost import plot_tree\n",
    "plt.rcParams[\"figure.figsize\"] = (40,40)\n",
    "plot_tree(xgb_model)\n",
    "plt.show()"
   ]
  },
  {
   "cell_type": "code",
   "execution_count": 36,
   "id": "0eacf0b5",
   "metadata": {
    "ExecuteTime": {
     "end_time": "2022-12-08T19:28:35.902062Z",
     "start_time": "2022-12-08T19:28:35.887061Z"
    },
    "hide_input": true
   },
   "outputs": [],
   "source": [
    "# results=[]\n",
    "# for col in col_preds:\n",
    "#     results.append((col, np.abs(mofr.metrics.gini(df[valid_mask][col_target], df[valid_mask][col]))))\n",
    "  \n",
    "# pd.DataFrame(results, columns=['Predictor', 'GINI']).sort_values(by='GINI', ascending=False)[0:30]"
   ]
  },
  {
   "cell_type": "markdown",
   "id": "1bf5594e",
   "metadata": {},
   "source": [
    "# Validation check"
   ]
  },
  {
   "cell_type": "code",
   "execution_count": 37,
   "id": "f8bf9003",
   "metadata": {
    "ExecuteTime": {
     "end_time": "2022-12-08T19:28:36.599983Z",
     "start_time": "2022-12-08T19:28:35.903061Z"
    },
    "hide_input": true
   },
   "outputs": [],
   "source": [
    "del df\n",
    "# del train"
   ]
  },
  {
   "cell_type": "code",
   "execution_count": 38,
   "id": "f8e91196",
   "metadata": {
    "ExecuteTime": {
     "end_time": "2022-12-08T19:28:36.615985Z",
     "start_time": "2022-12-08T19:28:36.600980Z"
    },
    "hide_input": true
   },
   "outputs": [],
   "source": [
    "import pandas as pd\n",
    "import numpy as np\n",
    "import random\n",
    "import mofr\n",
    "import matplotlib.pyplot as plt\n",
    "import seaborn as sns\n",
    "from xgboost import XGBClassifier, plot_tree\n",
    "import math\n",
    "import pickle\n",
    "\n",
    "\n",
    "import xgboost as xgb"
   ]
  },
  {
   "cell_type": "code",
   "execution_count": 39,
   "id": "3089bba7",
   "metadata": {
    "ExecuteTime": {
     "end_time": "2022-12-08T19:28:36.631986Z",
     "start_time": "2022-12-08T19:28:36.617981Z"
    }
   },
   "outputs": [],
   "source": [
    "# file_name = \"otto_xgb_model_13_experimenting_lb_586.pkl\"\n",
    "\n",
    "# #load\n",
    "# xgb_model= pickle.load(open(file_name, \"rb\"))"
   ]
  },
  {
   "cell_type": "code",
   "execution_count": 40,
   "id": "f837bc0b",
   "metadata": {
    "ExecuteTime": {
     "end_time": "2022-12-08T19:28:36.647513Z",
     "start_time": "2022-12-08T19:28:36.632997Z"
    },
    "hide_input": true
   },
   "outputs": [],
   "source": [
    "col_target='target'"
   ]
  },
  {
   "cell_type": "code",
   "execution_count": 41,
   "id": "fdc6f287",
   "metadata": {
    "ExecuteTime": {
     "end_time": "2022-12-08T19:30:45.646280Z",
     "start_time": "2022-12-08T19:28:36.649519Z"
    }
   },
   "outputs": [
    {
     "ename": "XGBoostError",
     "evalue": "bad allocation",
     "output_type": "error",
     "traceback": [
      "\u001b[1;31m---------------------------------------------------------------------------\u001b[0m",
      "\u001b[1;31mXGBoostError\u001b[0m                              Traceback (most recent call last)",
      "\u001b[1;32m~\\AppData\\Local\\Temp\\ipykernel_13528\\2066503056.py\u001b[0m in \u001b[0;36m<module>\u001b[1;34m\u001b[0m\n\u001b[0;32m     12\u001b[0m \u001b[0mvalid\u001b[0m\u001b[1;33m[\u001b[0m\u001b[1;34m'num_carts_same_day_x_num_orders_same_day'\u001b[0m\u001b[1;33m]\u001b[0m\u001b[1;33m=\u001b[0m\u001b[0mvalid\u001b[0m\u001b[1;33m[\u001b[0m\u001b[1;34m'num_carts_same_day'\u001b[0m\u001b[1;33m]\u001b[0m\u001b[1;33m*\u001b[0m\u001b[0mvalid\u001b[0m\u001b[1;33m[\u001b[0m\u001b[1;34m'num_orders_same_day'\u001b[0m\u001b[1;33m]\u001b[0m\u001b[1;33m\u001b[0m\u001b[1;33m\u001b[0m\u001b[0m\n\u001b[0;32m     13\u001b[0m \u001b[1;33m\u001b[0m\u001b[0m\n\u001b[1;32m---> 14\u001b[1;33m \u001b[0mvalid\u001b[0m\u001b[1;33m[\u001b[0m\u001b[1;34m'XGB_SCORE'\u001b[0m\u001b[1;33m]\u001b[0m\u001b[1;33m=\u001b[0m\u001b[0mxgb_model\u001b[0m\u001b[1;33m.\u001b[0m\u001b[0mpredict\u001b[0m\u001b[1;33m(\u001b[0m\u001b[0mxgb\u001b[0m\u001b[1;33m.\u001b[0m\u001b[0mDMatrix\u001b[0m\u001b[1;33m(\u001b[0m\u001b[0mvalid\u001b[0m\u001b[1;33m[\u001b[0m\u001b[0mxgb_model\u001b[0m\u001b[1;33m.\u001b[0m\u001b[0mfeature_names\u001b[0m\u001b[1;33m]\u001b[0m\u001b[1;33m)\u001b[0m\u001b[1;33m)\u001b[0m\u001b[1;33m\u001b[0m\u001b[1;33m\u001b[0m\u001b[0m\n\u001b[0m",
      "\u001b[1;32m~\\anaconda3\\lib\\site-packages\\xgboost\\core.py\u001b[0m in \u001b[0;36minner_f\u001b[1;34m(*args, **kwargs)\u001b[0m\n\u001b[0;32m    618\u001b[0m             \u001b[1;32mfor\u001b[0m \u001b[0mk\u001b[0m\u001b[1;33m,\u001b[0m \u001b[0marg\u001b[0m \u001b[1;32min\u001b[0m \u001b[0mzip\u001b[0m\u001b[1;33m(\u001b[0m\u001b[0msig\u001b[0m\u001b[1;33m.\u001b[0m\u001b[0mparameters\u001b[0m\u001b[1;33m,\u001b[0m \u001b[0margs\u001b[0m\u001b[1;33m)\u001b[0m\u001b[1;33m:\u001b[0m\u001b[1;33m\u001b[0m\u001b[1;33m\u001b[0m\u001b[0m\n\u001b[0;32m    619\u001b[0m                 \u001b[0mkwargs\u001b[0m\u001b[1;33m[\u001b[0m\u001b[0mk\u001b[0m\u001b[1;33m]\u001b[0m \u001b[1;33m=\u001b[0m \u001b[0marg\u001b[0m\u001b[1;33m\u001b[0m\u001b[1;33m\u001b[0m\u001b[0m\n\u001b[1;32m--> 620\u001b[1;33m             \u001b[1;32mreturn\u001b[0m \u001b[0mfunc\u001b[0m\u001b[1;33m(\u001b[0m\u001b[1;33m**\u001b[0m\u001b[0mkwargs\u001b[0m\u001b[1;33m)\u001b[0m\u001b[1;33m\u001b[0m\u001b[1;33m\u001b[0m\u001b[0m\n\u001b[0m\u001b[0;32m    621\u001b[0m \u001b[1;33m\u001b[0m\u001b[0m\n\u001b[0;32m    622\u001b[0m         \u001b[1;32mreturn\u001b[0m \u001b[0minner_f\u001b[0m\u001b[1;33m\u001b[0m\u001b[1;33m\u001b[0m\u001b[0m\n",
      "\u001b[1;32m~\\anaconda3\\lib\\site-packages\\xgboost\\core.py\u001b[0m in \u001b[0;36m__init__\u001b[1;34m(self, data, label, weight, base_margin, missing, silent, feature_names, feature_types, nthread, group, qid, label_lower_bound, label_upper_bound, feature_weights, enable_categorical)\u001b[0m\n\u001b[0;32m    741\u001b[0m             \u001b[1;32mreturn\u001b[0m\u001b[1;33m\u001b[0m\u001b[1;33m\u001b[0m\u001b[0m\n\u001b[0;32m    742\u001b[0m \u001b[1;33m\u001b[0m\u001b[0m\n\u001b[1;32m--> 743\u001b[1;33m         handle, feature_names, feature_types = dispatch_data_backend(\n\u001b[0m\u001b[0;32m    744\u001b[0m             \u001b[0mdata\u001b[0m\u001b[1;33m,\u001b[0m\u001b[1;33m\u001b[0m\u001b[1;33m\u001b[0m\u001b[0m\n\u001b[0;32m    745\u001b[0m             \u001b[0mmissing\u001b[0m\u001b[1;33m=\u001b[0m\u001b[0mself\u001b[0m\u001b[1;33m.\u001b[0m\u001b[0mmissing\u001b[0m\u001b[1;33m,\u001b[0m\u001b[1;33m\u001b[0m\u001b[1;33m\u001b[0m\u001b[0m\n",
      "\u001b[1;32m~\\anaconda3\\lib\\site-packages\\xgboost\\data.py\u001b[0m in \u001b[0;36mdispatch_data_backend\u001b[1;34m(data, missing, threads, feature_names, feature_types, enable_categorical)\u001b[0m\n\u001b[0;32m    955\u001b[0m         \u001b[1;32mreturn\u001b[0m \u001b[0m_from_tuple\u001b[0m\u001b[1;33m(\u001b[0m\u001b[0mdata\u001b[0m\u001b[1;33m,\u001b[0m \u001b[0mmissing\u001b[0m\u001b[1;33m,\u001b[0m \u001b[0mthreads\u001b[0m\u001b[1;33m,\u001b[0m \u001b[0mfeature_names\u001b[0m\u001b[1;33m,\u001b[0m \u001b[0mfeature_types\u001b[0m\u001b[1;33m)\u001b[0m\u001b[1;33m\u001b[0m\u001b[1;33m\u001b[0m\u001b[0m\n\u001b[0;32m    956\u001b[0m     \u001b[1;32mif\u001b[0m \u001b[0m_is_pandas_df\u001b[0m\u001b[1;33m(\u001b[0m\u001b[0mdata\u001b[0m\u001b[1;33m)\u001b[0m\u001b[1;33m:\u001b[0m\u001b[1;33m\u001b[0m\u001b[1;33m\u001b[0m\u001b[0m\n\u001b[1;32m--> 957\u001b[1;33m         return _from_pandas_df(data, enable_categorical, missing, threads,\n\u001b[0m\u001b[0;32m    958\u001b[0m                                feature_names, feature_types)\n\u001b[0;32m    959\u001b[0m     \u001b[1;32mif\u001b[0m \u001b[0m_is_pandas_series\u001b[0m\u001b[1;33m(\u001b[0m\u001b[0mdata\u001b[0m\u001b[1;33m)\u001b[0m\u001b[1;33m:\u001b[0m\u001b[1;33m\u001b[0m\u001b[1;33m\u001b[0m\u001b[0m\n",
      "\u001b[1;32m~\\anaconda3\\lib\\site-packages\\xgboost\\data.py\u001b[0m in \u001b[0;36m_from_pandas_df\u001b[1;34m(data, enable_categorical, missing, nthread, feature_names, feature_types)\u001b[0m\n\u001b[0;32m    405\u001b[0m         \u001b[0mdata\u001b[0m\u001b[1;33m,\u001b[0m \u001b[0menable_categorical\u001b[0m\u001b[1;33m,\u001b[0m \u001b[0mfeature_names\u001b[0m\u001b[1;33m,\u001b[0m \u001b[0mfeature_types\u001b[0m\u001b[1;33m\u001b[0m\u001b[1;33m\u001b[0m\u001b[0m\n\u001b[0;32m    406\u001b[0m     )\n\u001b[1;32m--> 407\u001b[1;33m     \u001b[1;32mreturn\u001b[0m \u001b[0m_from_numpy_array\u001b[0m\u001b[1;33m(\u001b[0m\u001b[0mdata\u001b[0m\u001b[1;33m,\u001b[0m \u001b[0mmissing\u001b[0m\u001b[1;33m,\u001b[0m \u001b[0mnthread\u001b[0m\u001b[1;33m,\u001b[0m \u001b[0mfeature_names\u001b[0m\u001b[1;33m,\u001b[0m \u001b[0mfeature_types\u001b[0m\u001b[1;33m)\u001b[0m\u001b[1;33m\u001b[0m\u001b[1;33m\u001b[0m\u001b[0m\n\u001b[0m\u001b[0;32m    408\u001b[0m \u001b[1;33m\u001b[0m\u001b[0m\n\u001b[0;32m    409\u001b[0m \u001b[1;33m\u001b[0m\u001b[0m\n",
      "\u001b[1;32m~\\anaconda3\\lib\\site-packages\\xgboost\\data.py\u001b[0m in \u001b[0;36m_from_numpy_array\u001b[1;34m(data, missing, nthread, feature_names, feature_types)\u001b[0m\n\u001b[0;32m    198\u001b[0m     }\n\u001b[0;32m    199\u001b[0m     \u001b[0mconfig\u001b[0m \u001b[1;33m=\u001b[0m \u001b[0mbytes\u001b[0m\u001b[1;33m(\u001b[0m\u001b[0mjson\u001b[0m\u001b[1;33m.\u001b[0m\u001b[0mdumps\u001b[0m\u001b[1;33m(\u001b[0m\u001b[0margs\u001b[0m\u001b[1;33m)\u001b[0m\u001b[1;33m,\u001b[0m \u001b[1;34m\"utf-8\"\u001b[0m\u001b[1;33m)\u001b[0m\u001b[1;33m\u001b[0m\u001b[1;33m\u001b[0m\u001b[0m\n\u001b[1;32m--> 200\u001b[1;33m     _check_call(\n\u001b[0m\u001b[0;32m    201\u001b[0m         _LIB.XGDMatrixCreateFromDense(\n\u001b[0;32m    202\u001b[0m             \u001b[0m_array_interface\u001b[0m\u001b[1;33m(\u001b[0m\u001b[0mdata\u001b[0m\u001b[1;33m)\u001b[0m\u001b[1;33m,\u001b[0m\u001b[1;33m\u001b[0m\u001b[1;33m\u001b[0m\u001b[0m\n",
      "\u001b[1;32m~\\anaconda3\\lib\\site-packages\\xgboost\\core.py\u001b[0m in \u001b[0;36m_check_call\u001b[1;34m(ret)\u001b[0m\n\u001b[0;32m    277\u001b[0m     \"\"\"\n\u001b[0;32m    278\u001b[0m     \u001b[1;32mif\u001b[0m \u001b[0mret\u001b[0m \u001b[1;33m!=\u001b[0m \u001b[1;36m0\u001b[0m\u001b[1;33m:\u001b[0m\u001b[1;33m\u001b[0m\u001b[1;33m\u001b[0m\u001b[0m\n\u001b[1;32m--> 279\u001b[1;33m         \u001b[1;32mraise\u001b[0m \u001b[0mXGBoostError\u001b[0m\u001b[1;33m(\u001b[0m\u001b[0mpy_str\u001b[0m\u001b[1;33m(\u001b[0m\u001b[0m_LIB\u001b[0m\u001b[1;33m.\u001b[0m\u001b[0mXGBGetLastError\u001b[0m\u001b[1;33m(\u001b[0m\u001b[1;33m)\u001b[0m\u001b[1;33m)\u001b[0m\u001b[1;33m)\u001b[0m\u001b[1;33m\u001b[0m\u001b[1;33m\u001b[0m\u001b[0m\n\u001b[0m\u001b[0;32m    280\u001b[0m \u001b[1;33m\u001b[0m\u001b[0m\n\u001b[0;32m    281\u001b[0m \u001b[1;33m\u001b[0m\u001b[0m\n",
      "\u001b[1;31mXGBoostError\u001b[0m: bad allocation"
     ]
    }
   ],
   "source": [
    "valid=pd.read_parquet('valid_sample_full_cv_3targets_experimental.parquet')\n",
    "valid.columns=[x.lower() for x in valid.columns]\n",
    "valid['null_flag']=(valid['avg_order_hours_from_click_avg']<99999).apply(int)\n",
    "valid['in_session_carted_not_ordered']=((valid['in_session_carted']>0)&(valid['in_session_ordered']==0)).apply(int)\n",
    "valid['in_session_clicked_not_carted']=((valid['in_session_clicked']>0)&(valid['in_session_carted']==0)).apply(int)\n",
    "\n",
    "valid['in_session_clicked_not_ordered']=((valid['in_session_clicked']>0)&(valid['in_session_ordered']==0)).apply(int)\n",
    "valid['min_top20_x_in_session_score_time_weighted']=valid['min_top20']*valid['in_session_score_time_weighted']\n",
    "valid['avg_top20_x_in_session_score_time_weighted']=valid['avg_top20']*valid['in_session_score_time_weighted']\n",
    "valid['num_clicks_same_day_x_num_carts_same_day']=valid['num_clicks_same_day']*valid['num_carts_same_day']\n",
    "valid['num_clicks_same_day_x_num_orders_same_day']=valid['num_clicks_same_day']*valid['num_orders_same_day']\n",
    "valid['num_carts_same_day_x_num_orders_same_day']=valid['num_carts_same_day']*valid['num_orders_same_day']\n",
    "\n",
    "valid['XGB_SCORE']=xgb_model.predict(xgb.DMatrix(valid[xgb_model.feature_names]))"
   ]
  },
  {
   "cell_type": "code",
   "execution_count": null,
   "id": "33b91101",
   "metadata": {
    "ExecuteTime": {
     "end_time": "2022-12-08T19:30:45.689293Z",
     "start_time": "2022-12-08T19:30:45.689293Z"
    }
   },
   "outputs": [],
   "source": [
    "# result=[]\n",
    "# for i in [100,90,80,70,60,50,40,30]:\n",
    "#     valid_=valid[valid['min_top20']<=i]\n",
    "#     gini=mofr.metrics.gini(valid_[col_target], valid_['XGB_SCORE'])\n",
    "#     a=valid_[['session_id', 'aid', 'XGB_SCORE',col_target]].groupby('session_id').apply(lambda x : x.sort_values(by = ['XGB_SCORE'], ascending = [False]).head(20).reset_index(drop = True)).reset_index(drop = True)\n",
    "#     num_captured=np.sum(a[col_target])\n",
    "#     print (i,gini, num_captured)\n",
    "#     result.append((i,gini, num_captured))\n",
    "    \n",
    "# pd.DataFrame(result)"
   ]
  },
  {
   "cell_type": "code",
   "execution_count": null,
   "id": "39c9dccf",
   "metadata": {
    "ExecuteTime": {
     "end_time": "2022-12-08T19:30:45.692220Z",
     "start_time": "2022-12-08T19:30:45.692220Z"
    },
    "hide_input": true
   },
   "outputs": [],
   "source": [
    "valid.head()"
   ]
  },
  {
   "cell_type": "code",
   "execution_count": null,
   "id": "af31e5c9",
   "metadata": {
    "ExecuteTime": {
     "end_time": "2022-12-08T19:30:45.694220Z",
     "start_time": "2022-12-08T19:30:45.694220Z"
    }
   },
   "outputs": [],
   "source": [
    "valid[col_target].value_counts()"
   ]
  },
  {
   "cell_type": "code",
   "execution_count": null,
   "id": "1a22372f",
   "metadata": {
    "ExecuteTime": {
     "end_time": "2022-12-08T19:30:45.696235Z",
     "start_time": "2022-12-08T19:30:45.696235Z"
    }
   },
   "outputs": [],
   "source": [
    "# coverage=(pd.DataFrame(df.groupby('session_id')[col_target].apply(np.sum)).reset_index()).merge(df.groupby('session_id')[['number_carts_orders','number_carts', 'number_orders']].apply(np.mean), how='inner', on='session_id')\n",
    "# target_coverage=np.sum(coverage[coverage['number_carts_orders']>0]['target'])/np.sum(coverage[coverage['number_carts_orders']>0]['number_carts_orders'].apply(lambda x: min([20,x])))\n",
    "# # target_avg_coverage=np.sum(coverage[coverage['number_carts_orders']>0]['target']/coverage[coverage['number_carts_orders']>0]['number_carts_orders'])\n",
    "# target_avg_coverage_carts=np.sum(coverage[coverage['number_carts']>0]['target'])/np.sum(coverage[coverage['number_carts']>0]['number_carts'].apply(lambda x: min([20,x])))\n",
    "# target_avg_coverage_orders=np.sum(coverage[coverage['number_orders']>0]['target'])/np.sum(coverage[coverage['number_orders']>0]['number_orders'].apply(lambda x: min([20,x])))\n",
    "\n",
    "# print(f'The coverage of the target on the train set is: {target_coverage}')\n",
    "# print(f'The mean coverage of carts on the train set is: {target_avg_coverage_carts}')\n",
    "# print(f'The mean coverage of orders on the train set is: {target_avg_coverage_orders}')\n",
    "# print(f'Max score possible with this set is: {0.1*0.5+0.3*target_avg_coverage_carts+0.6*target_avg_coverage_orders}')"
   ]
  },
  {
   "cell_type": "code",
   "execution_count": null,
   "id": "fd5d39ee",
   "metadata": {
    "ExecuteTime": {
     "end_time": "2022-12-08T19:30:45.697221Z",
     "start_time": "2022-12-08T19:30:45.697221Z"
    }
   },
   "outputs": [],
   "source": [
    "# coverage=(pd.DataFrame(valid.groupby('session_id')[col_target].apply(np.sum)).reset_index()).merge(valid.groupby('session_id')[['number_carts_orders','number_carts', 'number_orders']].apply(np.mean), how='inner', on='session_id')\n",
    "# target_coverage=np.sum(coverage[coverage['number_carts_orders']>0]['target'])/np.sum(coverage[coverage['number_carts_orders']>0]['number_carts_orders'].apply(lambda x: min([20,x])))\n",
    "# # target_avg_coverage=np.sum(coverage[coverage['number_carts_orders']>0]['target']/coverage[coverage['number_carts_orders']>0]['number_carts_orders'])\n",
    "# target_avg_coverage_carts=np.sum(coverage[coverage['number_carts']>0]['target'])/np.sum(coverage[coverage['number_carts']>0]['number_carts'].apply(lambda x: min([20,x])))\n",
    "# target_avg_coverage_orders=np.sum(coverage[coverage['number_orders']>0]['target'])/np.sum(coverage[coverage['number_orders']>0]['number_orders'].apply(lambda x: min([20,x])))\n",
    "\n",
    "# print(f'The coverage of the target on the valid set is: {target_coverage}')\n",
    "# print(f'The mean coverage of carts on the valid set is: {target_avg_coverage_carts}')\n",
    "# print(f'The mean coverage of orders on the valid set is: {target_avg_coverage_orders}')\n",
    "# print(f'Max score possible with this set is: {0.1*0.5+0.3*target_avg_coverage_carts+0.6*target_avg_coverage_orders}')"
   ]
  },
  {
   "cell_type": "markdown",
   "id": "ebfdfe65",
   "metadata": {
    "ExecuteTime": {
     "end_time": "2022-11-20T12:44:42.896737Z",
     "start_time": "2022-11-20T12:44:42.882040Z"
    }
   },
   "source": [
    "## Submission XGB SCORE"
   ]
  },
  {
   "cell_type": "code",
   "execution_count": null,
   "id": "bb79eb82",
   "metadata": {
    "ExecuteTime": {
     "end_time": "2022-12-08T19:30:45.698221Z",
     "start_time": "2022-12-08T19:30:45.698221Z"
    },
    "hide_input": false
   },
   "outputs": [],
   "source": [
    "a=valid.groupby('session_id').apply(lambda x : x.sort_values(by = ['XGB_SCORE'], ascending = [False]).head(20).reset_index(drop = True)).reset_index(drop = True)\n",
    "a['session_id']=a['session_id'].apply(lambda x: str(int(x)))\n",
    "a['aid']=a['aid'].apply(lambda x: str(int(x)))\n",
    "    \n",
    "pred_df=pd.DataFrame(a.groupby('session_id')['aid'].apply(list).apply(' '.join)).reset_index(drop=False).rename(columns={'aid':'labels'})"
   ]
  },
  {
   "cell_type": "code",
   "execution_count": null,
   "id": "608d8d84",
   "metadata": {
    "ExecuteTime": {
     "end_time": "2022-12-08T19:30:45.700221Z",
     "start_time": "2022-12-08T19:30:45.700221Z"
    },
    "hide_input": false
   },
   "outputs": [],
   "source": [
    "# a=valid.groupby('session_id').apply(lambda x : x.sort_values(by = ['in_session','times_in_top20','XGB_SCORE'], ascending = [False,False,False]).head(20).reset_index(drop = True)).reset_index(drop = True)\n",
    "# a['session_id']=a['session_id'].apply(lambda x: str(int(x)))\n",
    "# a['aid']=a['aid'].apply(lambda x: str(int(x)))\n",
    "    \n",
    "# pred_df=pd.DataFrame(a.groupby('session_id')['aid'].apply(list).apply(' '.join)).reset_index(drop=False).rename(columns={'aid':'labels'})"
   ]
  },
  {
   "cell_type": "code",
   "execution_count": null,
   "id": "333b1746",
   "metadata": {
    "ExecuteTime": {
     "end_time": "2022-12-08T19:30:45.701220Z",
     "start_time": "2022-12-08T19:30:45.701220Z"
    }
   },
   "outputs": [],
   "source": [
    "# TOP CLICKS AND ORDERS IN TEST\n",
    "top_clicks = ['485256', '1460571','108125','1551213','33343','613493','876493','152547','184976','1236775'\n",
    "              ,'1406660','836852','331708','1531805','29735','554660','634452','986164','959208','832192']\n",
    "\n",
    "top_carts = ['485256', '33343','613493','152547','876493','1406660','1736857','166037','1460571','1236775'\n",
    "             ,'554660','660655','1531805','1022566','231487','122983','1562705','923948','332654','544144']\n",
    "\n",
    "top_orders = ['876493', '1406660','1236775','166037','1460571','1531805','836852','634452','923948','1043508'\n",
    "             ,'832192','258353','801774','332654','1596897','29735','544144','1581568','1462420','1006198']"
   ]
  },
  {
   "cell_type": "code",
   "execution_count": null,
   "id": "45645d8e",
   "metadata": {
    "ExecuteTime": {
     "end_time": "2022-12-08T19:30:45.702220Z",
     "start_time": "2022-12-08T19:30:45.702220Z"
    },
    "hide_input": true
   },
   "outputs": [],
   "source": [
    "submission_clicks_valid=pred_df.copy()\n",
    "submission_carts_valid=pred_df.copy()\n",
    "submission_orders_valid=pred_df.copy()\n",
    "\n",
    "submission_clicks_valid['session_type']=submission_clicks_valid['session_id'].apply(lambda x: x+'_clicks')\n",
    "submission_carts_valid['session_type']=submission_carts_valid['session_id'].apply(lambda x: x+'_carts')\n",
    "submission_orders_valid['session_type']=submission_orders_valid['session_id'].apply(lambda x: x+'_orders')     "
   ]
  },
  {
   "cell_type": "code",
   "execution_count": null,
   "id": "2283a5d9",
   "metadata": {
    "ExecuteTime": {
     "end_time": "2022-12-08T19:30:45.703221Z",
     "start_time": "2022-12-08T19:30:45.703221Z"
    },
    "hide_input": true
   },
   "outputs": [],
   "source": [
    "submission_clicks_valid['labels']=submission_clicks_valid['labels'].apply(lambda x: list(x.split(' ')) + top_clicks).apply(lambda x: ' '.join(list(dict.fromkeys(x))[0:20]))\n",
    "submission_carts_valid['labels']=submission_carts_valid['labels'].apply(lambda x: list(x.split(' ')) + top_carts).apply(lambda x: ' '.join(list(dict.fromkeys(x))[0:20]))\n",
    "submission_orders_valid['labels']=submission_orders_valid['labels'].apply(lambda x: list(x.split(' ')) + top_carts).apply(lambda x: ' '.join(list(dict.fromkeys(x))[0:20]))"
   ]
  },
  {
   "cell_type": "code",
   "execution_count": null,
   "id": "a6e3a72a",
   "metadata": {
    "ExecuteTime": {
     "end_time": "2022-12-08T19:30:45.704221Z",
     "start_time": "2022-12-08T19:30:45.704221Z"
    },
    "hide_input": true
   },
   "outputs": [],
   "source": [
    "submission_final_valid=pd.concat([submission_clicks_valid[['session_type', 'labels']],submission_carts_valid[['session_type', 'labels']],submission_orders_valid[['session_type', 'labels']]])"
   ]
  },
  {
   "cell_type": "code",
   "execution_count": null,
   "id": "4d79747f",
   "metadata": {
    "ExecuteTime": {
     "end_time": "2022-12-08T19:30:45.705221Z",
     "start_time": "2022-12-08T19:30:45.705221Z"
    }
   },
   "outputs": [],
   "source": [
    "# COMPUTE METRIC\n",
    "score = 0\n",
    "weights = {'clicks': 0.10, 'carts': 0.30, 'orders': 0.60}\n",
    "for t in ['clicks','carts','orders']:\n",
    "    sub = submission_final_valid.loc[submission_final_valid.session_type.str.contains(t)].copy()\n",
    "    sub['session'] = sub.session_type.apply(lambda x: int(x.split('_')[0]))\n",
    "    sub.labels = sub.labels.apply(lambda x: [int(i) for i in x.split(' ')[:20]])\n",
    "    test_labels = pd.read_parquet('test_cv_labels.parquet')\n",
    "    test_labels = test_labels.loc[test_labels['type']==t]\n",
    "    test_labels = test_labels.merge(sub, how='inner', on=['session'])\n",
    "    test_labels['hits'] = test_labels.apply(lambda df: len(set(df.ground_truth).intersection(set(df.labels))), axis=1)\n",
    "    test_labels['gt_count'] = test_labels.ground_truth.str.len().clip(0,20)\n",
    "    recall = test_labels['hits'].sum() / test_labels['gt_count'].sum()\n",
    "    score += weights[t]*recall\n",
    "    print(f'{t} recall =',recall)\n",
    "    \n",
    "print('=============')\n",
    "print('Overall Recall =',score)\n",
    "print('=============')"
   ]
  },
  {
   "cell_type": "markdown",
   "id": "a350e793",
   "metadata": {
    "ExecuteTime": {
     "end_time": "2022-11-20T14:47:53.897232Z",
     "start_time": "2022-11-20T14:47:53.887223Z"
    }
   },
   "source": [
    "# Misc"
   ]
  }
 ],
 "metadata": {
  "hide_input": false,
  "kernelspec": {
   "display_name": "Python 3 (ipykernel)",
   "language": "python",
   "name": "python3"
  },
  "language_info": {
   "codemirror_mode": {
    "name": "ipython",
    "version": 3
   },
   "file_extension": ".py",
   "mimetype": "text/x-python",
   "name": "python",
   "nbconvert_exporter": "python",
   "pygments_lexer": "ipython3",
   "version": "3.9.13"
  },
  "toc": {
   "base_numbering": 1,
   "nav_menu": {},
   "number_sections": true,
   "sideBar": true,
   "skip_h1_title": false,
   "title_cell": "Table of Contents",
   "title_sidebar": "Contents",
   "toc_cell": true,
   "toc_position": {
    "height": "calc(100% - 180px)",
    "left": "10px",
    "top": "150px",
    "width": "341.594px"
   },
   "toc_section_display": false,
   "toc_window_display": true
  },
  "varInspector": {
   "cols": {
    "lenName": 16,
    "lenType": 16,
    "lenVar": 40
   },
   "kernels_config": {
    "python": {
     "delete_cmd_postfix": "",
     "delete_cmd_prefix": "del ",
     "library": "var_list.py",
     "varRefreshCmd": "print(var_dic_list())"
    },
    "r": {
     "delete_cmd_postfix": ") ",
     "delete_cmd_prefix": "rm(",
     "library": "var_list.r",
     "varRefreshCmd": "cat(var_dic_list()) "
    }
   },
   "oldHeight": 122.844,
   "position": {
    "height": "144.844px",
    "left": "1503px",
    "right": "20px",
    "top": "120px",
    "width": "350px"
   },
   "types_to_exclude": [
    "module",
    "function",
    "builtin_function_or_method",
    "instance",
    "_Feature"
   ],
   "varInspector_section_display": "block",
   "window_display": false
  }
 },
 "nbformat": 4,
 "nbformat_minor": 5
}
