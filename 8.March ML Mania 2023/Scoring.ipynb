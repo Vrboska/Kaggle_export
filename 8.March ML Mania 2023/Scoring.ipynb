{
 "cells": [
  {
   "cell_type": "code",
   "execution_count": 1,
   "id": "0e1f7c4d",
   "metadata": {
    "ExecuteTime": {
     "end_time": "2023-03-13T19:06:54.753661Z",
     "start_time": "2023-03-13T19:06:54.738662Z"
    }
   },
   "outputs": [],
   "source": [
    "import warnings\n",
    "warnings.filterwarnings('ignore')"
   ]
  },
  {
   "cell_type": "code",
   "execution_count": 2,
   "id": "a9b6a440",
   "metadata": {
    "ExecuteTime": {
     "end_time": "2023-03-13T19:06:57.020626Z",
     "start_time": "2023-03-13T19:06:54.755661Z"
    }
   },
   "outputs": [],
   "source": [
    "import pandas as pd\n",
    "import numpy as np\n",
    "import random\n",
    "import mofr\n",
    "import matplotlib.pyplot as plt\n",
    "import seaborn as sns\n",
    "from sklearn.model_selection import train_test_split\n",
    "from xgboost import XGBClassifier, plot_tree\n",
    "from lightgbm import LGBMClassifier, plot_tree #LGBMRanker\n",
    "import math\n",
    "import pickle\n",
    "import statsmodels.api as sm\n",
    "\n",
    "\n",
    "import xgboost as xgb"
   ]
  },
  {
   "cell_type": "code",
   "execution_count": 3,
   "id": "f77b4db9",
   "metadata": {
    "ExecuteTime": {
     "end_time": "2023-03-13T19:06:57.024544Z",
     "start_time": "2023-03-13T19:06:57.020626Z"
    }
   },
   "outputs": [],
   "source": [
    "seed=1234"
   ]
  },
  {
   "cell_type": "markdown",
   "id": "9d4b692a",
   "metadata": {},
   "source": [
    "# Loading data"
   ]
  },
  {
   "cell_type": "code",
   "execution_count": 4,
   "id": "d2a6b7c4",
   "metadata": {
    "ExecuteTime": {
     "end_time": "2023-03-13T19:06:57.033073Z",
     "start_time": "2023-03-13T19:06:57.024544Z"
    }
   },
   "outputs": [
    {
     "data": {
      "text/plain": [
       "'C:\\\\Users\\\\AZUBA\\\\Documents\\\\Data_science\\\\Kaggle\\\\8.March ML Mania 2023'"
      ]
     },
     "execution_count": 4,
     "metadata": {},
     "output_type": "execute_result"
    }
   ],
   "source": [
    "import os\n",
    "os.getcwd()"
   ]
  },
  {
   "cell_type": "code",
   "execution_count": 5,
   "id": "ff93aa50",
   "metadata": {
    "ExecuteTime": {
     "end_time": "2023-03-13T19:06:57.375130Z",
     "start_time": "2023-03-13T19:06:57.033073Z"
    }
   },
   "outputs": [],
   "source": [
    "Men=pd.read_csv(os.getcwd()+r'\\Dataset_for_scoring.csv')\n",
    "Women=pd.read_csv(os.getcwd()+r'\\Dataset_for_scoring_female.csv')"
   ]
  },
  {
   "cell_type": "code",
   "execution_count": 6,
   "id": "3d7e52ea",
   "metadata": {
    "ExecuteTime": {
     "end_time": "2023-03-13T19:06:57.384495Z",
     "start_time": "2023-03-13T19:06:57.376139Z"
    }
   },
   "outputs": [],
   "source": [
    "Men['last_MOR_ratio']=Men['last_MOR_1']/Men['last_MOR_2']\n",
    "Men['last_SAG_ratio']=Men['last_SAG_1']/Men['last_SAG_2']\n",
    "Men['last_WLK_ratio']=Men['last_WLK_1']/Men['last_WLK_2']"
   ]
  },
  {
   "cell_type": "code",
   "execution_count": 7,
   "id": "c1e8dbc4",
   "metadata": {
    "ExecuteTime": {
     "end_time": "2023-03-13T19:06:57.420249Z",
     "start_time": "2023-03-13T19:06:57.384495Z"
    }
   },
   "outputs": [],
   "source": [
    "xgb_model_male= pickle.load(open('model1_males_lb.pkl', \"rb\"))\n",
    "xgb_model_female= pickle.load(open('model1_females_lb.pkl', \"rb\"))"
   ]
  },
  {
   "cell_type": "code",
   "execution_count": 8,
   "id": "c25082fa",
   "metadata": {
    "ExecuteTime": {
     "end_time": "2023-03-13T19:06:57.481132Z",
     "start_time": "2023-03-13T19:06:57.420249Z"
    }
   },
   "outputs": [],
   "source": [
    "Men['Pred']=xgb_model_male.predict_proba(Men[xgb_model_male.feature_names_in_])[:, 1]\n",
    "Women['Pred']=xgb_model_female.predict_proba(Women[xgb_model_female.feature_names_in_])[:, 1]"
   ]
  },
  {
   "cell_type": "code",
   "execution_count": 9,
   "id": "91922896",
   "metadata": {
    "ExecuteTime": {
     "end_time": "2023-03-13T19:06:57.493666Z",
     "start_time": "2023-03-13T19:06:57.481132Z"
    }
   },
   "outputs": [],
   "source": [
    "submission=pd.concat([Men[['Season', 'TeamID1', 'TeamID2', 'Pred']], Women[['Season', 'TeamID1', 'TeamID2', 'Pred']]])"
   ]
  },
  {
   "cell_type": "code",
   "execution_count": 10,
   "id": "88a6b75c",
   "metadata": {
    "ExecuteTime": {
     "end_time": "2023-03-13T19:06:57.620611Z",
     "start_time": "2023-03-13T19:06:57.493666Z"
    }
   },
   "outputs": [],
   "source": [
    "submission['ID']=submission['Season'].apply(str)+'_'+submission['TeamID1'].apply(str)+'_'+submission['TeamID2'].apply(str)"
   ]
  },
  {
   "cell_type": "code",
   "execution_count": 11,
   "id": "e4be5d1f",
   "metadata": {
    "ExecuteTime": {
     "end_time": "2023-03-13T19:06:57.675016Z",
     "start_time": "2023-03-13T19:06:57.620611Z"
    }
   },
   "outputs": [],
   "source": [
    "sample_submission=pd.read_csv(os.getcwd()+r'\\relevant_data\\SampleSubmission2023.csv')"
   ]
  },
  {
   "cell_type": "code",
   "execution_count": 12,
   "id": "7ae67ed6",
   "metadata": {
    "ExecuteTime": {
     "end_time": "2023-03-13T19:06:57.754070Z",
     "start_time": "2023-03-13T19:06:57.675016Z"
    }
   },
   "outputs": [],
   "source": [
    "submission=submission.merge(sample_submission, how='inner', on='ID').rename(columns={'Pred_x': 'Pred'})"
   ]
  },
  {
   "cell_type": "code",
   "execution_count": 13,
   "id": "dffd6605",
   "metadata": {
    "ExecuteTime": {
     "end_time": "2023-03-13T19:06:57.761951Z",
     "start_time": "2023-03-13T19:06:57.754070Z"
    }
   },
   "outputs": [],
   "source": [
    "submission=submission[['ID','Pred']]"
   ]
  },
  {
   "cell_type": "code",
   "execution_count": 14,
   "id": "30ff075c",
   "metadata": {
    "ExecuteTime": {
     "end_time": "2023-03-13T19:06:57.773816Z",
     "start_time": "2023-03-13T19:06:57.764890Z"
    }
   },
   "outputs": [
    {
     "data": {
      "text/html": [
       "<div>\n",
       "<style scoped>\n",
       "    .dataframe tbody tr th:only-of-type {\n",
       "        vertical-align: middle;\n",
       "    }\n",
       "\n",
       "    .dataframe tbody tr th {\n",
       "        vertical-align: top;\n",
       "    }\n",
       "\n",
       "    .dataframe thead th {\n",
       "        text-align: right;\n",
       "    }\n",
       "</style>\n",
       "<table border=\"1\" class=\"dataframe\">\n",
       "  <thead>\n",
       "    <tr style=\"text-align: right;\">\n",
       "      <th></th>\n",
       "      <th>ID</th>\n",
       "      <th>Pred</th>\n",
       "    </tr>\n",
       "  </thead>\n",
       "  <tbody>\n",
       "    <tr>\n",
       "      <th>0</th>\n",
       "      <td>2023_1101_1102</td>\n",
       "      <td>0.383608</td>\n",
       "    </tr>\n",
       "    <tr>\n",
       "      <th>1</th>\n",
       "      <td>2023_1101_1103</td>\n",
       "      <td>0.350918</td>\n",
       "    </tr>\n",
       "    <tr>\n",
       "      <th>2</th>\n",
       "      <td>2023_1101_1104</td>\n",
       "      <td>0.166467</td>\n",
       "    </tr>\n",
       "    <tr>\n",
       "      <th>3</th>\n",
       "      <td>2023_1101_1105</td>\n",
       "      <td>0.479274</td>\n",
       "    </tr>\n",
       "    <tr>\n",
       "      <th>4</th>\n",
       "      <td>2023_1101_1106</td>\n",
       "      <td>0.479274</td>\n",
       "    </tr>\n",
       "    <tr>\n",
       "      <th>...</th>\n",
       "      <td>...</td>\n",
       "      <td>...</td>\n",
       "    </tr>\n",
       "    <tr>\n",
       "      <th>130678</th>\n",
       "      <td>2023_3474_3476</td>\n",
       "      <td>0.967709</td>\n",
       "    </tr>\n",
       "    <tr>\n",
       "      <th>130679</th>\n",
       "      <td>2023_3474_3477</td>\n",
       "      <td>0.961978</td>\n",
       "    </tr>\n",
       "    <tr>\n",
       "      <th>130680</th>\n",
       "      <td>2023_3475_3476</td>\n",
       "      <td>0.967709</td>\n",
       "    </tr>\n",
       "    <tr>\n",
       "      <th>130681</th>\n",
       "      <td>2023_3475_3477</td>\n",
       "      <td>0.961978</td>\n",
       "    </tr>\n",
       "    <tr>\n",
       "      <th>130682</th>\n",
       "      <td>2023_3476_3477</td>\n",
       "      <td>0.961978</td>\n",
       "    </tr>\n",
       "  </tbody>\n",
       "</table>\n",
       "<p>130683 rows × 2 columns</p>\n",
       "</div>"
      ],
      "text/plain": [
       "                    ID      Pred\n",
       "0       2023_1101_1102  0.383608\n",
       "1       2023_1101_1103  0.350918\n",
       "2       2023_1101_1104  0.166467\n",
       "3       2023_1101_1105  0.479274\n",
       "4       2023_1101_1106  0.479274\n",
       "...                ...       ...\n",
       "130678  2023_3474_3476  0.967709\n",
       "130679  2023_3474_3477  0.961978\n",
       "130680  2023_3475_3476  0.967709\n",
       "130681  2023_3475_3477  0.961978\n",
       "130682  2023_3476_3477  0.961978\n",
       "\n",
       "[130683 rows x 2 columns]"
      ]
     },
     "execution_count": 14,
     "metadata": {},
     "output_type": "execute_result"
    }
   ],
   "source": [
    "submission"
   ]
  },
  {
   "cell_type": "code",
   "execution_count": 15,
   "id": "64c7844a",
   "metadata": {
    "ExecuteTime": {
     "end_time": "2023-03-13T19:06:57.959761Z",
     "start_time": "2023-03-13T19:06:57.773816Z"
    }
   },
   "outputs": [],
   "source": [
    "submission.to_csv('submission.csv', index=False)"
   ]
  }
 ],
 "metadata": {
  "hide_input": false,
  "kernelspec": {
   "display_name": "Python 3 (ipykernel)",
   "language": "python",
   "name": "python3"
  },
  "language_info": {
   "codemirror_mode": {
    "name": "ipython",
    "version": 3
   },
   "file_extension": ".py",
   "mimetype": "text/x-python",
   "name": "python",
   "nbconvert_exporter": "python",
   "pygments_lexer": "ipython3",
   "version": "3.9.13"
  },
  "toc": {
   "base_numbering": 1,
   "nav_menu": {},
   "number_sections": true,
   "sideBar": true,
   "skip_h1_title": false,
   "title_cell": "Table of Contents",
   "title_sidebar": "Contents",
   "toc_cell": false,
   "toc_position": {},
   "toc_section_display": true,
   "toc_window_display": false
  },
  "varInspector": {
   "cols": {
    "lenName": 16,
    "lenType": 16,
    "lenVar": 40
   },
   "kernels_config": {
    "python": {
     "delete_cmd_postfix": "",
     "delete_cmd_prefix": "del ",
     "library": "var_list.py",
     "varRefreshCmd": "print(var_dic_list())"
    },
    "r": {
     "delete_cmd_postfix": ") ",
     "delete_cmd_prefix": "rm(",
     "library": "var_list.r",
     "varRefreshCmd": "cat(var_dic_list()) "
    }
   },
   "types_to_exclude": [
    "module",
    "function",
    "builtin_function_or_method",
    "instance",
    "_Feature"
   ],
   "window_display": false
  }
 },
 "nbformat": 4,
 "nbformat_minor": 5
}
