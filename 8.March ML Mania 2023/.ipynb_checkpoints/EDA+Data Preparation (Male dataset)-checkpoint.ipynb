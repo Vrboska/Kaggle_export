{
 "cells": [
  {
   "cell_type": "code",
   "execution_count": 1,
   "id": "47aacc93",
   "metadata": {
    "ExecuteTime": {
     "end_time": "2023-02-24T13:11:22.501294Z",
     "start_time": "2023-02-24T13:11:22.474577Z"
    }
   },
   "outputs": [],
   "source": [
    "import warnings\n",
    "warnings.filterwarnings('ignore')"
   ]
  },
  {
   "cell_type": "code",
   "execution_count": 2,
   "id": "5ab6be25",
   "metadata": {
    "ExecuteTime": {
     "end_time": "2023-02-24T13:11:25.144194Z",
     "start_time": "2023-02-24T13:11:22.502934Z"
    }
   },
   "outputs": [],
   "source": [
    "import pandas as pd\n",
    "import numpy as np\n",
    "import random\n",
    "import mofr\n",
    "import matplotlib.pyplot as plt\n",
    "import seaborn as sns\n",
    "from sklearn.model_selection import train_test_split\n",
    "from xgboost import XGBClassifier, plot_tree\n",
    "from lightgbm import LGBMClassifier, plot_tree #LGBMRanker\n",
    "import math\n",
    "import pickle\n",
    "import statsmodels.api as sm\n",
    "\n",
    "\n",
    "import xgboost as xgb"
   ]
  },
  {
   "cell_type": "code",
   "execution_count": 3,
   "id": "5f33d6ca",
   "metadata": {
    "ExecuteTime": {
     "end_time": "2023-02-24T13:11:25.166094Z",
     "start_time": "2023-02-24T13:11:25.144194Z"
    }
   },
   "outputs": [],
   "source": [
    "seed=1234"
   ]
  },
  {
   "cell_type": "markdown",
   "id": "f7d0e2ef",
   "metadata": {
    "ExecuteTime": {
     "end_time": "2023-02-23T16:12:00.346762Z",
     "start_time": "2023-02-23T16:12:00.335167Z"
    }
   },
   "source": [
    "# Loading data"
   ]
  },
  {
   "cell_type": "code",
   "execution_count": 4,
   "id": "8af9fe82",
   "metadata": {
    "ExecuteTime": {
     "end_time": "2023-02-24T13:11:25.181724Z",
     "start_time": "2023-02-24T13:11:25.166094Z"
    }
   },
   "outputs": [
    {
     "data": {
      "text/plain": [
       "'C:\\\\Users\\\\AZUBA\\\\Documents\\\\Data_science\\\\Kaggle\\\\8.March ML Mania 2023'"
      ]
     },
     "execution_count": 4,
     "metadata": {},
     "output_type": "execute_result"
    }
   ],
   "source": [
    "import os\n",
    "os.getcwd()"
   ]
  },
  {
   "cell_type": "code",
   "execution_count": 5,
   "id": "2c33790b",
   "metadata": {
    "ExecuteTime": {
     "end_time": "2023-02-24T13:11:26.455018Z",
     "start_time": "2023-02-24T13:11:25.182443Z"
    }
   },
   "outputs": [],
   "source": [
    "MMasseyOrdinals=pd.read_csv(os.getcwd()+r'\\relevant_data\\MMasseyOrdinals.csv')\n",
    "\n",
    "MNCAATourneyCompactResults=pd.read_csv(os.getcwd()+r'\\relevant_data\\MNCAATourneyCompactResults.csv')\n",
    "MNCAATourneyDetailedResults=pd.read_csv(os.getcwd()+r'\\relevant_data\\MNCAATourneyDetailedResults.csv')\n",
    "\n",
    "MNCAATourneySeeds=pd.read_csv(os.getcwd()+r'\\relevant_data\\MNCAATourneySeeds.csv')\n",
    "\n",
    "MRegularSeasonCompactResults=pd.read_csv(os.getcwd()+r'\\relevant_data\\MRegularSeasonCompactResults.csv')\n",
    "MRegularSeasonDetailedResults=pd.read_csv(os.getcwd()+r'\\relevant_data\\MRegularSeasonDetailedResults.csv')\n",
    "\n",
    "MTeams=pd.read_csv(os.getcwd()+r'\\relevant_data\\MTeams.csv')"
   ]
  },
  {
   "cell_type": "markdown",
   "id": "2a7a6832",
   "metadata": {},
   "source": [
    "# Table by table"
   ]
  },
  {
   "cell_type": "markdown",
   "id": "07adf027",
   "metadata": {
    "ExecuteTime": {
     "end_time": "2023-02-23T16:19:43.207819Z",
     "start_time": "2023-02-23T16:19:43.192578Z"
    }
   },
   "source": [
    "## MMasseyOrdinals"
   ]
  },
  {
   "cell_type": "code",
   "execution_count": 6,
   "id": "4f3d9ffb",
   "metadata": {
    "ExecuteTime": {
     "end_time": "2023-02-24T13:11:26.472836Z",
     "start_time": "2023-02-24T13:11:26.455018Z"
    }
   },
   "outputs": [
    {
     "data": {
      "text/plain": [
       "(4834892, 5)"
      ]
     },
     "execution_count": 6,
     "metadata": {},
     "output_type": "execute_result"
    }
   ],
   "source": [
    "MMasseyOrdinals.shape"
   ]
  },
  {
   "cell_type": "code",
   "execution_count": 7,
   "id": "7937e717",
   "metadata": {
    "ExecuteTime": {
     "end_time": "2023-02-24T13:11:26.492217Z",
     "start_time": "2023-02-24T13:11:26.474215Z"
    }
   },
   "outputs": [
    {
     "data": {
      "text/html": [
       "<div>\n",
       "<style scoped>\n",
       "    .dataframe tbody tr th:only-of-type {\n",
       "        vertical-align: middle;\n",
       "    }\n",
       "\n",
       "    .dataframe tbody tr th {\n",
       "        vertical-align: top;\n",
       "    }\n",
       "\n",
       "    .dataframe thead th {\n",
       "        text-align: right;\n",
       "    }\n",
       "</style>\n",
       "<table border=\"1\" class=\"dataframe\">\n",
       "  <thead>\n",
       "    <tr style=\"text-align: right;\">\n",
       "      <th></th>\n",
       "      <th>Season</th>\n",
       "      <th>RankingDayNum</th>\n",
       "      <th>SystemName</th>\n",
       "      <th>TeamID</th>\n",
       "      <th>OrdinalRank</th>\n",
       "    </tr>\n",
       "  </thead>\n",
       "  <tbody>\n",
       "    <tr>\n",
       "      <th>0</th>\n",
       "      <td>2003</td>\n",
       "      <td>35</td>\n",
       "      <td>SEL</td>\n",
       "      <td>1102</td>\n",
       "      <td>159</td>\n",
       "    </tr>\n",
       "    <tr>\n",
       "      <th>1</th>\n",
       "      <td>2003</td>\n",
       "      <td>35</td>\n",
       "      <td>SEL</td>\n",
       "      <td>1103</td>\n",
       "      <td>229</td>\n",
       "    </tr>\n",
       "    <tr>\n",
       "      <th>2</th>\n",
       "      <td>2003</td>\n",
       "      <td>35</td>\n",
       "      <td>SEL</td>\n",
       "      <td>1104</td>\n",
       "      <td>12</td>\n",
       "    </tr>\n",
       "    <tr>\n",
       "      <th>3</th>\n",
       "      <td>2003</td>\n",
       "      <td>35</td>\n",
       "      <td>SEL</td>\n",
       "      <td>1105</td>\n",
       "      <td>314</td>\n",
       "    </tr>\n",
       "    <tr>\n",
       "      <th>4</th>\n",
       "      <td>2003</td>\n",
       "      <td>35</td>\n",
       "      <td>SEL</td>\n",
       "      <td>1106</td>\n",
       "      <td>260</td>\n",
       "    </tr>\n",
       "  </tbody>\n",
       "</table>\n",
       "</div>"
      ],
      "text/plain": [
       "   Season  RankingDayNum SystemName  TeamID  OrdinalRank\n",
       "0    2003             35        SEL    1102          159\n",
       "1    2003             35        SEL    1103          229\n",
       "2    2003             35        SEL    1104           12\n",
       "3    2003             35        SEL    1105          314\n",
       "4    2003             35        SEL    1106          260"
      ]
     },
     "execution_count": 7,
     "metadata": {},
     "output_type": "execute_result"
    }
   ],
   "source": [
    "MMasseyOrdinals.head()"
   ]
  },
  {
   "cell_type": "code",
   "execution_count": 8,
   "id": "9625fa77",
   "metadata": {
    "ExecuteTime": {
     "end_time": "2023-02-24T13:11:26.530744Z",
     "start_time": "2023-02-24T13:11:26.493549Z"
    },
    "scrolled": true
   },
   "outputs": [
    {
     "data": {
      "text/plain": [
       "2019    328599\n",
       "2017    315310\n",
       "2020    299967\n",
       "2018    292119\n",
       "2014    292111\n",
       "2016    291589\n",
       "2022    284488\n",
       "2013    282987\n",
       "2015    281269\n",
       "2012    248467\n",
       "2011    232165\n",
       "2010    223601\n",
       "2021    219104\n",
       "2023    210414\n",
       "2009    183704\n",
       "2008    169764\n",
       "2005    139395\n",
       "2007    139384\n",
       "2004    136024\n",
       "2006    132896\n",
       "2003    131535\n",
       "Name: Season, dtype: int64"
      ]
     },
     "execution_count": 8,
     "metadata": {},
     "output_type": "execute_result"
    }
   ],
   "source": [
    "MMasseyOrdinals['Season'].value_counts()"
   ]
  },
  {
   "cell_type": "code",
   "execution_count": 9,
   "id": "050a362a",
   "metadata": {
    "ExecuteTime": {
     "end_time": "2023-02-24T13:11:26.570460Z",
     "start_time": "2023-02-24T13:11:26.532531Z"
    }
   },
   "outputs": [
    {
     "data": {
      "text/plain": [
       "133    332137\n",
       "100    244393\n",
       "93     243944\n",
       "86     231259\n",
       "128    230092\n",
       "        ...  \n",
       "54         25\n",
       "75         25\n",
       "89         25\n",
       "103        25\n",
       "53         25\n",
       "Name: RankingDayNum, Length: 90, dtype: int64"
      ]
     },
     "execution_count": 9,
     "metadata": {},
     "output_type": "execute_result"
    }
   ],
   "source": [
    "MMasseyOrdinals['RankingDayNum'].value_counts()"
   ]
  },
  {
   "cell_type": "code",
   "execution_count": 10,
   "id": "0fcac335",
   "metadata": {
    "ExecuteTime": {
     "end_time": "2023-02-24T13:11:26.629280Z",
     "start_time": "2023-02-24T13:11:26.573952Z"
    }
   },
   "outputs": [
    {
     "data": {
      "text/plain": [
       "{'AP',\n",
       " 'ARG',\n",
       " 'BIH',\n",
       " 'COL',\n",
       " 'DOL',\n",
       " 'DUN',\n",
       " 'MAS',\n",
       " 'MOR',\n",
       " 'POM',\n",
       " 'RTH',\n",
       " 'SAG',\n",
       " 'SEL',\n",
       " 'USA',\n",
       " 'WLK',\n",
       " 'WOB',\n",
       " 'WOL'}"
      ]
     },
     "execution_count": 10,
     "metadata": {},
     "output_type": "execute_result"
    }
   ],
   "source": [
    "set(MMasseyOrdinals[MMasseyOrdinals['Season']==2003]['SystemName']).intersection(set(MMasseyOrdinals[MMasseyOrdinals['Season']==2023]['SystemName']))"
   ]
  },
  {
   "cell_type": "code",
   "execution_count": 11,
   "id": "784590c3",
   "metadata": {
    "ExecuteTime": {
     "end_time": "2023-02-24T13:11:26.807722Z",
     "start_time": "2023-02-24T13:11:26.630638Z"
    }
   },
   "outputs": [
    {
     "data": {
      "text/plain": [
       "SAG    128556\n",
       "MOR    127566\n",
       "POM    125075\n",
       "DOK    111779\n",
       "WLK    102467\n",
       "MAS    101473\n",
       "DOL     99269\n",
       "WIL     96828\n",
       "PGH     95564\n",
       "COL     92654\n",
       "Name: SystemName, dtype: int64"
      ]
     },
     "execution_count": 11,
     "metadata": {},
     "output_type": "execute_result"
    }
   ],
   "source": [
    "MMasseyOrdinals['SystemName'].value_counts()[0:10]"
   ]
  },
  {
   "cell_type": "markdown",
   "id": "ca00b31f",
   "metadata": {},
   "source": [
    "## MNCAATourneyCompactResults"
   ]
  },
  {
   "cell_type": "code",
   "execution_count": 12,
   "id": "174b10ab",
   "metadata": {
    "ExecuteTime": {
     "end_time": "2023-02-24T13:11:26.822745Z",
     "start_time": "2023-02-24T13:11:26.807722Z"
    }
   },
   "outputs": [
    {
     "data": {
      "text/plain": [
       "(2384, 8)"
      ]
     },
     "execution_count": 12,
     "metadata": {},
     "output_type": "execute_result"
    }
   ],
   "source": [
    "MNCAATourneyCompactResults.shape"
   ]
  },
  {
   "cell_type": "code",
   "execution_count": 13,
   "id": "1408b79d",
   "metadata": {
    "ExecuteTime": {
     "end_time": "2023-02-24T13:11:26.841849Z",
     "start_time": "2023-02-24T13:11:26.824150Z"
    }
   },
   "outputs": [
    {
     "data": {
      "text/html": [
       "<div>\n",
       "<style scoped>\n",
       "    .dataframe tbody tr th:only-of-type {\n",
       "        vertical-align: middle;\n",
       "    }\n",
       "\n",
       "    .dataframe tbody tr th {\n",
       "        vertical-align: top;\n",
       "    }\n",
       "\n",
       "    .dataframe thead th {\n",
       "        text-align: right;\n",
       "    }\n",
       "</style>\n",
       "<table border=\"1\" class=\"dataframe\">\n",
       "  <thead>\n",
       "    <tr style=\"text-align: right;\">\n",
       "      <th></th>\n",
       "      <th>Season</th>\n",
       "      <th>DayNum</th>\n",
       "      <th>WTeamID</th>\n",
       "      <th>WScore</th>\n",
       "      <th>LTeamID</th>\n",
       "      <th>LScore</th>\n",
       "      <th>WLoc</th>\n",
       "      <th>NumOT</th>\n",
       "    </tr>\n",
       "  </thead>\n",
       "  <tbody>\n",
       "    <tr>\n",
       "      <th>0</th>\n",
       "      <td>1985</td>\n",
       "      <td>136</td>\n",
       "      <td>1116</td>\n",
       "      <td>63</td>\n",
       "      <td>1234</td>\n",
       "      <td>54</td>\n",
       "      <td>N</td>\n",
       "      <td>0</td>\n",
       "    </tr>\n",
       "    <tr>\n",
       "      <th>1</th>\n",
       "      <td>1985</td>\n",
       "      <td>136</td>\n",
       "      <td>1120</td>\n",
       "      <td>59</td>\n",
       "      <td>1345</td>\n",
       "      <td>58</td>\n",
       "      <td>N</td>\n",
       "      <td>0</td>\n",
       "    </tr>\n",
       "    <tr>\n",
       "      <th>2</th>\n",
       "      <td>1985</td>\n",
       "      <td>136</td>\n",
       "      <td>1207</td>\n",
       "      <td>68</td>\n",
       "      <td>1250</td>\n",
       "      <td>43</td>\n",
       "      <td>N</td>\n",
       "      <td>0</td>\n",
       "    </tr>\n",
       "    <tr>\n",
       "      <th>3</th>\n",
       "      <td>1985</td>\n",
       "      <td>136</td>\n",
       "      <td>1229</td>\n",
       "      <td>58</td>\n",
       "      <td>1425</td>\n",
       "      <td>55</td>\n",
       "      <td>N</td>\n",
       "      <td>0</td>\n",
       "    </tr>\n",
       "    <tr>\n",
       "      <th>4</th>\n",
       "      <td>1985</td>\n",
       "      <td>136</td>\n",
       "      <td>1242</td>\n",
       "      <td>49</td>\n",
       "      <td>1325</td>\n",
       "      <td>38</td>\n",
       "      <td>N</td>\n",
       "      <td>0</td>\n",
       "    </tr>\n",
       "  </tbody>\n",
       "</table>\n",
       "</div>"
      ],
      "text/plain": [
       "   Season  DayNum  WTeamID  WScore  LTeamID  LScore WLoc  NumOT\n",
       "0    1985     136     1116      63     1234      54    N      0\n",
       "1    1985     136     1120      59     1345      58    N      0\n",
       "2    1985     136     1207      68     1250      43    N      0\n",
       "3    1985     136     1229      58     1425      55    N      0\n",
       "4    1985     136     1242      49     1325      38    N      0"
      ]
     },
     "execution_count": 13,
     "metadata": {},
     "output_type": "execute_result"
    }
   ],
   "source": [
    "MNCAATourneyCompactResults.head()"
   ]
  },
  {
   "cell_type": "markdown",
   "id": "16ae6c09",
   "metadata": {},
   "source": [
    "## MNCAATourneyDetailedResults"
   ]
  },
  {
   "cell_type": "code",
   "execution_count": 14,
   "id": "c6c2f630",
   "metadata": {
    "ExecuteTime": {
     "end_time": "2023-02-24T13:11:26.861349Z",
     "start_time": "2023-02-24T13:11:26.843514Z"
    }
   },
   "outputs": [
    {
     "data": {
      "text/plain": [
       "(1248, 34)"
      ]
     },
     "execution_count": 14,
     "metadata": {},
     "output_type": "execute_result"
    }
   ],
   "source": [
    "MNCAATourneyDetailedResults.shape"
   ]
  },
  {
   "cell_type": "code",
   "execution_count": 15,
   "id": "110871ec",
   "metadata": {
    "ExecuteTime": {
     "end_time": "2023-02-24T13:11:26.881399Z",
     "start_time": "2023-02-24T13:11:26.864590Z"
    }
   },
   "outputs": [
    {
     "data": {
      "text/html": [
       "<div>\n",
       "<style scoped>\n",
       "    .dataframe tbody tr th:only-of-type {\n",
       "        vertical-align: middle;\n",
       "    }\n",
       "\n",
       "    .dataframe tbody tr th {\n",
       "        vertical-align: top;\n",
       "    }\n",
       "\n",
       "    .dataframe thead th {\n",
       "        text-align: right;\n",
       "    }\n",
       "</style>\n",
       "<table border=\"1\" class=\"dataframe\">\n",
       "  <thead>\n",
       "    <tr style=\"text-align: right;\">\n",
       "      <th></th>\n",
       "      <th>Season</th>\n",
       "      <th>DayNum</th>\n",
       "      <th>WTeamID</th>\n",
       "      <th>WScore</th>\n",
       "      <th>LTeamID</th>\n",
       "      <th>LScore</th>\n",
       "      <th>WLoc</th>\n",
       "      <th>NumOT</th>\n",
       "      <th>WFGM</th>\n",
       "      <th>WFGA</th>\n",
       "      <th>...</th>\n",
       "      <th>LFGA3</th>\n",
       "      <th>LFTM</th>\n",
       "      <th>LFTA</th>\n",
       "      <th>LOR</th>\n",
       "      <th>LDR</th>\n",
       "      <th>LAst</th>\n",
       "      <th>LTO</th>\n",
       "      <th>LStl</th>\n",
       "      <th>LBlk</th>\n",
       "      <th>LPF</th>\n",
       "    </tr>\n",
       "  </thead>\n",
       "  <tbody>\n",
       "    <tr>\n",
       "      <th>0</th>\n",
       "      <td>2003</td>\n",
       "      <td>134</td>\n",
       "      <td>1421</td>\n",
       "      <td>92</td>\n",
       "      <td>1411</td>\n",
       "      <td>84</td>\n",
       "      <td>N</td>\n",
       "      <td>1</td>\n",
       "      <td>32</td>\n",
       "      <td>69</td>\n",
       "      <td>...</td>\n",
       "      <td>31</td>\n",
       "      <td>14</td>\n",
       "      <td>31</td>\n",
       "      <td>17</td>\n",
       "      <td>28</td>\n",
       "      <td>16</td>\n",
       "      <td>15</td>\n",
       "      <td>5</td>\n",
       "      <td>0</td>\n",
       "      <td>22</td>\n",
       "    </tr>\n",
       "    <tr>\n",
       "      <th>1</th>\n",
       "      <td>2003</td>\n",
       "      <td>136</td>\n",
       "      <td>1112</td>\n",
       "      <td>80</td>\n",
       "      <td>1436</td>\n",
       "      <td>51</td>\n",
       "      <td>N</td>\n",
       "      <td>0</td>\n",
       "      <td>31</td>\n",
       "      <td>66</td>\n",
       "      <td>...</td>\n",
       "      <td>16</td>\n",
       "      <td>7</td>\n",
       "      <td>7</td>\n",
       "      <td>8</td>\n",
       "      <td>26</td>\n",
       "      <td>12</td>\n",
       "      <td>17</td>\n",
       "      <td>10</td>\n",
       "      <td>3</td>\n",
       "      <td>15</td>\n",
       "    </tr>\n",
       "    <tr>\n",
       "      <th>2</th>\n",
       "      <td>2003</td>\n",
       "      <td>136</td>\n",
       "      <td>1113</td>\n",
       "      <td>84</td>\n",
       "      <td>1272</td>\n",
       "      <td>71</td>\n",
       "      <td>N</td>\n",
       "      <td>0</td>\n",
       "      <td>31</td>\n",
       "      <td>59</td>\n",
       "      <td>...</td>\n",
       "      <td>28</td>\n",
       "      <td>14</td>\n",
       "      <td>21</td>\n",
       "      <td>20</td>\n",
       "      <td>22</td>\n",
       "      <td>11</td>\n",
       "      <td>12</td>\n",
       "      <td>2</td>\n",
       "      <td>5</td>\n",
       "      <td>18</td>\n",
       "    </tr>\n",
       "    <tr>\n",
       "      <th>3</th>\n",
       "      <td>2003</td>\n",
       "      <td>136</td>\n",
       "      <td>1141</td>\n",
       "      <td>79</td>\n",
       "      <td>1166</td>\n",
       "      <td>73</td>\n",
       "      <td>N</td>\n",
       "      <td>0</td>\n",
       "      <td>29</td>\n",
       "      <td>53</td>\n",
       "      <td>...</td>\n",
       "      <td>17</td>\n",
       "      <td>12</td>\n",
       "      <td>17</td>\n",
       "      <td>14</td>\n",
       "      <td>17</td>\n",
       "      <td>20</td>\n",
       "      <td>21</td>\n",
       "      <td>6</td>\n",
       "      <td>6</td>\n",
       "      <td>21</td>\n",
       "    </tr>\n",
       "    <tr>\n",
       "      <th>4</th>\n",
       "      <td>2003</td>\n",
       "      <td>136</td>\n",
       "      <td>1143</td>\n",
       "      <td>76</td>\n",
       "      <td>1301</td>\n",
       "      <td>74</td>\n",
       "      <td>N</td>\n",
       "      <td>1</td>\n",
       "      <td>27</td>\n",
       "      <td>64</td>\n",
       "      <td>...</td>\n",
       "      <td>21</td>\n",
       "      <td>15</td>\n",
       "      <td>20</td>\n",
       "      <td>10</td>\n",
       "      <td>26</td>\n",
       "      <td>16</td>\n",
       "      <td>14</td>\n",
       "      <td>5</td>\n",
       "      <td>8</td>\n",
       "      <td>19</td>\n",
       "    </tr>\n",
       "  </tbody>\n",
       "</table>\n",
       "<p>5 rows × 34 columns</p>\n",
       "</div>"
      ],
      "text/plain": [
       "   Season  DayNum  WTeamID  WScore  LTeamID  LScore WLoc  NumOT  WFGM  WFGA  \\\n",
       "0    2003     134     1421      92     1411      84    N      1    32    69   \n",
       "1    2003     136     1112      80     1436      51    N      0    31    66   \n",
       "2    2003     136     1113      84     1272      71    N      0    31    59   \n",
       "3    2003     136     1141      79     1166      73    N      0    29    53   \n",
       "4    2003     136     1143      76     1301      74    N      1    27    64   \n",
       "\n",
       "   ...  LFGA3  LFTM  LFTA  LOR  LDR  LAst  LTO  LStl  LBlk  LPF  \n",
       "0  ...     31    14    31   17   28    16   15     5     0   22  \n",
       "1  ...     16     7     7    8   26    12   17    10     3   15  \n",
       "2  ...     28    14    21   20   22    11   12     2     5   18  \n",
       "3  ...     17    12    17   14   17    20   21     6     6   21  \n",
       "4  ...     21    15    20   10   26    16   14     5     8   19  \n",
       "\n",
       "[5 rows x 34 columns]"
      ]
     },
     "execution_count": 15,
     "metadata": {},
     "output_type": "execute_result"
    }
   ],
   "source": [
    "MNCAATourneyDetailedResults.head()"
   ]
  },
  {
   "cell_type": "markdown",
   "id": "ee15d672",
   "metadata": {},
   "source": [
    "## MNCAATourneySeeds"
   ]
  },
  {
   "cell_type": "code",
   "execution_count": 16,
   "id": "bdd5aa79",
   "metadata": {
    "ExecuteTime": {
     "end_time": "2023-02-24T13:11:26.903322Z",
     "start_time": "2023-02-24T13:11:26.882679Z"
    }
   },
   "outputs": [
    {
     "data": {
      "text/plain": [
       "(2422, 3)"
      ]
     },
     "execution_count": 16,
     "metadata": {},
     "output_type": "execute_result"
    }
   ],
   "source": [
    "MNCAATourneySeeds.shape"
   ]
  },
  {
   "cell_type": "code",
   "execution_count": 17,
   "id": "0246826e",
   "metadata": {
    "ExecuteTime": {
     "end_time": "2023-02-24T13:11:26.919477Z",
     "start_time": "2023-02-24T13:11:26.903322Z"
    }
   },
   "outputs": [
    {
     "data": {
      "text/html": [
       "<div>\n",
       "<style scoped>\n",
       "    .dataframe tbody tr th:only-of-type {\n",
       "        vertical-align: middle;\n",
       "    }\n",
       "\n",
       "    .dataframe tbody tr th {\n",
       "        vertical-align: top;\n",
       "    }\n",
       "\n",
       "    .dataframe thead th {\n",
       "        text-align: right;\n",
       "    }\n",
       "</style>\n",
       "<table border=\"1\" class=\"dataframe\">\n",
       "  <thead>\n",
       "    <tr style=\"text-align: right;\">\n",
       "      <th></th>\n",
       "      <th>Season</th>\n",
       "      <th>Seed</th>\n",
       "      <th>TeamID</th>\n",
       "    </tr>\n",
       "  </thead>\n",
       "  <tbody>\n",
       "    <tr>\n",
       "      <th>0</th>\n",
       "      <td>1985</td>\n",
       "      <td>W01</td>\n",
       "      <td>1207</td>\n",
       "    </tr>\n",
       "    <tr>\n",
       "      <th>1</th>\n",
       "      <td>1985</td>\n",
       "      <td>W02</td>\n",
       "      <td>1210</td>\n",
       "    </tr>\n",
       "    <tr>\n",
       "      <th>2</th>\n",
       "      <td>1985</td>\n",
       "      <td>W03</td>\n",
       "      <td>1228</td>\n",
       "    </tr>\n",
       "    <tr>\n",
       "      <th>3</th>\n",
       "      <td>1985</td>\n",
       "      <td>W04</td>\n",
       "      <td>1260</td>\n",
       "    </tr>\n",
       "    <tr>\n",
       "      <th>4</th>\n",
       "      <td>1985</td>\n",
       "      <td>W05</td>\n",
       "      <td>1374</td>\n",
       "    </tr>\n",
       "  </tbody>\n",
       "</table>\n",
       "</div>"
      ],
      "text/plain": [
       "   Season Seed  TeamID\n",
       "0    1985  W01    1207\n",
       "1    1985  W02    1210\n",
       "2    1985  W03    1228\n",
       "3    1985  W04    1260\n",
       "4    1985  W05    1374"
      ]
     },
     "execution_count": 17,
     "metadata": {},
     "output_type": "execute_result"
    }
   ],
   "source": [
    "MNCAATourneySeeds.head()"
   ]
  },
  {
   "cell_type": "markdown",
   "id": "44ef5ca3",
   "metadata": {},
   "source": [
    "## MRegularSeasonCompactResults"
   ]
  },
  {
   "cell_type": "code",
   "execution_count": 18,
   "id": "18d57316",
   "metadata": {
    "ExecuteTime": {
     "end_time": "2023-02-24T13:11:26.936199Z",
     "start_time": "2023-02-24T13:11:26.920679Z"
    }
   },
   "outputs": [
    {
     "data": {
      "text/plain": [
       "(180189, 8)"
      ]
     },
     "execution_count": 18,
     "metadata": {},
     "output_type": "execute_result"
    }
   ],
   "source": [
    "MRegularSeasonCompactResults.shape"
   ]
  },
  {
   "cell_type": "code",
   "execution_count": 19,
   "id": "433880de",
   "metadata": {
    "ExecuteTime": {
     "end_time": "2023-02-24T13:11:26.951869Z",
     "start_time": "2023-02-24T13:11:26.936850Z"
    }
   },
   "outputs": [
    {
     "data": {
      "text/html": [
       "<div>\n",
       "<style scoped>\n",
       "    .dataframe tbody tr th:only-of-type {\n",
       "        vertical-align: middle;\n",
       "    }\n",
       "\n",
       "    .dataframe tbody tr th {\n",
       "        vertical-align: top;\n",
       "    }\n",
       "\n",
       "    .dataframe thead th {\n",
       "        text-align: right;\n",
       "    }\n",
       "</style>\n",
       "<table border=\"1\" class=\"dataframe\">\n",
       "  <thead>\n",
       "    <tr style=\"text-align: right;\">\n",
       "      <th></th>\n",
       "      <th>Season</th>\n",
       "      <th>DayNum</th>\n",
       "      <th>WTeamID</th>\n",
       "      <th>WScore</th>\n",
       "      <th>LTeamID</th>\n",
       "      <th>LScore</th>\n",
       "      <th>WLoc</th>\n",
       "      <th>NumOT</th>\n",
       "    </tr>\n",
       "  </thead>\n",
       "  <tbody>\n",
       "    <tr>\n",
       "      <th>0</th>\n",
       "      <td>1985</td>\n",
       "      <td>20</td>\n",
       "      <td>1228</td>\n",
       "      <td>81</td>\n",
       "      <td>1328</td>\n",
       "      <td>64</td>\n",
       "      <td>N</td>\n",
       "      <td>0</td>\n",
       "    </tr>\n",
       "    <tr>\n",
       "      <th>1</th>\n",
       "      <td>1985</td>\n",
       "      <td>25</td>\n",
       "      <td>1106</td>\n",
       "      <td>77</td>\n",
       "      <td>1354</td>\n",
       "      <td>70</td>\n",
       "      <td>H</td>\n",
       "      <td>0</td>\n",
       "    </tr>\n",
       "    <tr>\n",
       "      <th>2</th>\n",
       "      <td>1985</td>\n",
       "      <td>25</td>\n",
       "      <td>1112</td>\n",
       "      <td>63</td>\n",
       "      <td>1223</td>\n",
       "      <td>56</td>\n",
       "      <td>H</td>\n",
       "      <td>0</td>\n",
       "    </tr>\n",
       "    <tr>\n",
       "      <th>3</th>\n",
       "      <td>1985</td>\n",
       "      <td>25</td>\n",
       "      <td>1165</td>\n",
       "      <td>70</td>\n",
       "      <td>1432</td>\n",
       "      <td>54</td>\n",
       "      <td>H</td>\n",
       "      <td>0</td>\n",
       "    </tr>\n",
       "    <tr>\n",
       "      <th>4</th>\n",
       "      <td>1985</td>\n",
       "      <td>25</td>\n",
       "      <td>1192</td>\n",
       "      <td>86</td>\n",
       "      <td>1447</td>\n",
       "      <td>74</td>\n",
       "      <td>H</td>\n",
       "      <td>0</td>\n",
       "    </tr>\n",
       "  </tbody>\n",
       "</table>\n",
       "</div>"
      ],
      "text/plain": [
       "   Season  DayNum  WTeamID  WScore  LTeamID  LScore WLoc  NumOT\n",
       "0    1985      20     1228      81     1328      64    N      0\n",
       "1    1985      25     1106      77     1354      70    H      0\n",
       "2    1985      25     1112      63     1223      56    H      0\n",
       "3    1985      25     1165      70     1432      54    H      0\n",
       "4    1985      25     1192      86     1447      74    H      0"
      ]
     },
     "execution_count": 19,
     "metadata": {},
     "output_type": "execute_result"
    }
   ],
   "source": [
    "MRegularSeasonCompactResults.head()"
   ]
  },
  {
   "cell_type": "markdown",
   "id": "8bd5ab90",
   "metadata": {},
   "source": [
    "## MRegularSeasonDetailedResults"
   ]
  },
  {
   "cell_type": "code",
   "execution_count": 20,
   "id": "de4db276",
   "metadata": {
    "ExecuteTime": {
     "end_time": "2023-02-24T13:11:26.967882Z",
     "start_time": "2023-02-24T13:11:26.952863Z"
    }
   },
   "outputs": [
    {
     "data": {
      "text/plain": [
       "(106141, 34)"
      ]
     },
     "execution_count": 20,
     "metadata": {},
     "output_type": "execute_result"
    }
   ],
   "source": [
    "MRegularSeasonDetailedResults.shape"
   ]
  },
  {
   "cell_type": "code",
   "execution_count": 21,
   "id": "6befc289",
   "metadata": {
    "ExecuteTime": {
     "end_time": "2023-02-24T13:11:26.984430Z",
     "start_time": "2023-02-24T13:11:26.969411Z"
    }
   },
   "outputs": [
    {
     "data": {
      "text/html": [
       "<div>\n",
       "<style scoped>\n",
       "    .dataframe tbody tr th:only-of-type {\n",
       "        vertical-align: middle;\n",
       "    }\n",
       "\n",
       "    .dataframe tbody tr th {\n",
       "        vertical-align: top;\n",
       "    }\n",
       "\n",
       "    .dataframe thead th {\n",
       "        text-align: right;\n",
       "    }\n",
       "</style>\n",
       "<table border=\"1\" class=\"dataframe\">\n",
       "  <thead>\n",
       "    <tr style=\"text-align: right;\">\n",
       "      <th></th>\n",
       "      <th>Season</th>\n",
       "      <th>DayNum</th>\n",
       "      <th>WTeamID</th>\n",
       "      <th>WScore</th>\n",
       "      <th>LTeamID</th>\n",
       "      <th>LScore</th>\n",
       "      <th>WLoc</th>\n",
       "      <th>NumOT</th>\n",
       "      <th>WFGM</th>\n",
       "      <th>WFGA</th>\n",
       "      <th>...</th>\n",
       "      <th>LFGA3</th>\n",
       "      <th>LFTM</th>\n",
       "      <th>LFTA</th>\n",
       "      <th>LOR</th>\n",
       "      <th>LDR</th>\n",
       "      <th>LAst</th>\n",
       "      <th>LTO</th>\n",
       "      <th>LStl</th>\n",
       "      <th>LBlk</th>\n",
       "      <th>LPF</th>\n",
       "    </tr>\n",
       "  </thead>\n",
       "  <tbody>\n",
       "    <tr>\n",
       "      <th>0</th>\n",
       "      <td>2003</td>\n",
       "      <td>10</td>\n",
       "      <td>1104</td>\n",
       "      <td>68</td>\n",
       "      <td>1328</td>\n",
       "      <td>62</td>\n",
       "      <td>N</td>\n",
       "      <td>0</td>\n",
       "      <td>27</td>\n",
       "      <td>58</td>\n",
       "      <td>...</td>\n",
       "      <td>10</td>\n",
       "      <td>16</td>\n",
       "      <td>22</td>\n",
       "      <td>10</td>\n",
       "      <td>22</td>\n",
       "      <td>8</td>\n",
       "      <td>18</td>\n",
       "      <td>9</td>\n",
       "      <td>2</td>\n",
       "      <td>20</td>\n",
       "    </tr>\n",
       "    <tr>\n",
       "      <th>1</th>\n",
       "      <td>2003</td>\n",
       "      <td>10</td>\n",
       "      <td>1272</td>\n",
       "      <td>70</td>\n",
       "      <td>1393</td>\n",
       "      <td>63</td>\n",
       "      <td>N</td>\n",
       "      <td>0</td>\n",
       "      <td>26</td>\n",
       "      <td>62</td>\n",
       "      <td>...</td>\n",
       "      <td>24</td>\n",
       "      <td>9</td>\n",
       "      <td>20</td>\n",
       "      <td>20</td>\n",
       "      <td>25</td>\n",
       "      <td>7</td>\n",
       "      <td>12</td>\n",
       "      <td>8</td>\n",
       "      <td>6</td>\n",
       "      <td>16</td>\n",
       "    </tr>\n",
       "    <tr>\n",
       "      <th>2</th>\n",
       "      <td>2003</td>\n",
       "      <td>11</td>\n",
       "      <td>1266</td>\n",
       "      <td>73</td>\n",
       "      <td>1437</td>\n",
       "      <td>61</td>\n",
       "      <td>N</td>\n",
       "      <td>0</td>\n",
       "      <td>24</td>\n",
       "      <td>58</td>\n",
       "      <td>...</td>\n",
       "      <td>26</td>\n",
       "      <td>14</td>\n",
       "      <td>23</td>\n",
       "      <td>31</td>\n",
       "      <td>22</td>\n",
       "      <td>9</td>\n",
       "      <td>12</td>\n",
       "      <td>2</td>\n",
       "      <td>5</td>\n",
       "      <td>23</td>\n",
       "    </tr>\n",
       "    <tr>\n",
       "      <th>3</th>\n",
       "      <td>2003</td>\n",
       "      <td>11</td>\n",
       "      <td>1296</td>\n",
       "      <td>56</td>\n",
       "      <td>1457</td>\n",
       "      <td>50</td>\n",
       "      <td>N</td>\n",
       "      <td>0</td>\n",
       "      <td>18</td>\n",
       "      <td>38</td>\n",
       "      <td>...</td>\n",
       "      <td>22</td>\n",
       "      <td>8</td>\n",
       "      <td>15</td>\n",
       "      <td>17</td>\n",
       "      <td>20</td>\n",
       "      <td>9</td>\n",
       "      <td>19</td>\n",
       "      <td>4</td>\n",
       "      <td>3</td>\n",
       "      <td>23</td>\n",
       "    </tr>\n",
       "    <tr>\n",
       "      <th>4</th>\n",
       "      <td>2003</td>\n",
       "      <td>11</td>\n",
       "      <td>1400</td>\n",
       "      <td>77</td>\n",
       "      <td>1208</td>\n",
       "      <td>71</td>\n",
       "      <td>N</td>\n",
       "      <td>0</td>\n",
       "      <td>30</td>\n",
       "      <td>61</td>\n",
       "      <td>...</td>\n",
       "      <td>16</td>\n",
       "      <td>17</td>\n",
       "      <td>27</td>\n",
       "      <td>21</td>\n",
       "      <td>15</td>\n",
       "      <td>12</td>\n",
       "      <td>10</td>\n",
       "      <td>7</td>\n",
       "      <td>1</td>\n",
       "      <td>14</td>\n",
       "    </tr>\n",
       "  </tbody>\n",
       "</table>\n",
       "<p>5 rows × 34 columns</p>\n",
       "</div>"
      ],
      "text/plain": [
       "   Season  DayNum  WTeamID  WScore  LTeamID  LScore WLoc  NumOT  WFGM  WFGA  \\\n",
       "0    2003      10     1104      68     1328      62    N      0    27    58   \n",
       "1    2003      10     1272      70     1393      63    N      0    26    62   \n",
       "2    2003      11     1266      73     1437      61    N      0    24    58   \n",
       "3    2003      11     1296      56     1457      50    N      0    18    38   \n",
       "4    2003      11     1400      77     1208      71    N      0    30    61   \n",
       "\n",
       "   ...  LFGA3  LFTM  LFTA  LOR  LDR  LAst  LTO  LStl  LBlk  LPF  \n",
       "0  ...     10    16    22   10   22     8   18     9     2   20  \n",
       "1  ...     24     9    20   20   25     7   12     8     6   16  \n",
       "2  ...     26    14    23   31   22     9   12     2     5   23  \n",
       "3  ...     22     8    15   17   20     9   19     4     3   23  \n",
       "4  ...     16    17    27   21   15    12   10     7     1   14  \n",
       "\n",
       "[5 rows x 34 columns]"
      ]
     },
     "execution_count": 21,
     "metadata": {},
     "output_type": "execute_result"
    }
   ],
   "source": [
    "MRegularSeasonDetailedResults.head()"
   ]
  },
  {
   "cell_type": "markdown",
   "id": "6c7987a3",
   "metadata": {},
   "source": [
    "## MTeams"
   ]
  },
  {
   "cell_type": "code",
   "execution_count": 22,
   "id": "1da65df2",
   "metadata": {
    "ExecuteTime": {
     "end_time": "2023-02-24T13:11:27.000264Z",
     "start_time": "2023-02-24T13:11:26.985244Z"
    }
   },
   "outputs": [
    {
     "data": {
      "text/plain": [
       "(377, 4)"
      ]
     },
     "execution_count": 22,
     "metadata": {},
     "output_type": "execute_result"
    }
   ],
   "source": [
    "MTeams.shape"
   ]
  },
  {
   "cell_type": "code",
   "execution_count": 23,
   "id": "a658a095",
   "metadata": {
    "ExecuteTime": {
     "end_time": "2023-02-24T13:11:27.012794Z",
     "start_time": "2023-02-24T13:11:27.001487Z"
    }
   },
   "outputs": [
    {
     "data": {
      "text/html": [
       "<div>\n",
       "<style scoped>\n",
       "    .dataframe tbody tr th:only-of-type {\n",
       "        vertical-align: middle;\n",
       "    }\n",
       "\n",
       "    .dataframe tbody tr th {\n",
       "        vertical-align: top;\n",
       "    }\n",
       "\n",
       "    .dataframe thead th {\n",
       "        text-align: right;\n",
       "    }\n",
       "</style>\n",
       "<table border=\"1\" class=\"dataframe\">\n",
       "  <thead>\n",
       "    <tr style=\"text-align: right;\">\n",
       "      <th></th>\n",
       "      <th>TeamID</th>\n",
       "      <th>TeamName</th>\n",
       "      <th>FirstD1Season</th>\n",
       "      <th>LastD1Season</th>\n",
       "    </tr>\n",
       "  </thead>\n",
       "  <tbody>\n",
       "    <tr>\n",
       "      <th>0</th>\n",
       "      <td>1101</td>\n",
       "      <td>Abilene Chr</td>\n",
       "      <td>2014</td>\n",
       "      <td>2023</td>\n",
       "    </tr>\n",
       "    <tr>\n",
       "      <th>1</th>\n",
       "      <td>1102</td>\n",
       "      <td>Air Force</td>\n",
       "      <td>1985</td>\n",
       "      <td>2023</td>\n",
       "    </tr>\n",
       "    <tr>\n",
       "      <th>2</th>\n",
       "      <td>1103</td>\n",
       "      <td>Akron</td>\n",
       "      <td>1985</td>\n",
       "      <td>2023</td>\n",
       "    </tr>\n",
       "    <tr>\n",
       "      <th>3</th>\n",
       "      <td>1104</td>\n",
       "      <td>Alabama</td>\n",
       "      <td>1985</td>\n",
       "      <td>2023</td>\n",
       "    </tr>\n",
       "    <tr>\n",
       "      <th>4</th>\n",
       "      <td>1105</td>\n",
       "      <td>Alabama A&amp;M</td>\n",
       "      <td>2000</td>\n",
       "      <td>2023</td>\n",
       "    </tr>\n",
       "  </tbody>\n",
       "</table>\n",
       "</div>"
      ],
      "text/plain": [
       "   TeamID     TeamName  FirstD1Season  LastD1Season\n",
       "0    1101  Abilene Chr           2014          2023\n",
       "1    1102    Air Force           1985          2023\n",
       "2    1103        Akron           1985          2023\n",
       "3    1104      Alabama           1985          2023\n",
       "4    1105  Alabama A&M           2000          2023"
      ]
     },
     "execution_count": 23,
     "metadata": {},
     "output_type": "execute_result"
    }
   ],
   "source": [
    "MTeams.head()"
   ]
  },
  {
   "cell_type": "code",
   "execution_count": 24,
   "id": "3e543c6c",
   "metadata": {
    "ExecuteTime": {
     "end_time": "2023-02-24T13:11:27.028728Z",
     "start_time": "2023-02-24T13:11:27.013709Z"
    }
   },
   "outputs": [
    {
     "name": "stdout",
     "output_type": "stream",
     "text": [
      "<class 'pandas.core.frame.DataFrame'>\n",
      "RangeIndex: 377 entries, 0 to 376\n",
      "Data columns (total 4 columns):\n",
      " #   Column         Non-Null Count  Dtype \n",
      "---  ------         --------------  ----- \n",
      " 0   TeamID         377 non-null    int64 \n",
      " 1   TeamName       377 non-null    object\n",
      " 2   FirstD1Season  377 non-null    int64 \n",
      " 3   LastD1Season   377 non-null    int64 \n",
      "dtypes: int64(3), object(1)\n",
      "memory usage: 11.9+ KB\n"
     ]
    }
   ],
   "source": [
    "MTeams.info()"
   ]
  },
  {
   "cell_type": "markdown",
   "id": "687821f9",
   "metadata": {
    "ExecuteTime": {
     "end_time": "2023-02-23T16:56:35.484817Z",
     "start_time": "2023-02-23T16:56:35.464751Z"
    }
   },
   "source": [
    "# Data preparation"
   ]
  },
  {
   "cell_type": "code",
   "execution_count": 39,
   "id": "9648da3c",
   "metadata": {
    "ExecuteTime": {
     "end_time": "2023-02-24T13:22:22.096546Z",
     "start_time": "2023-02-24T13:22:22.076865Z"
    }
   },
   "outputs": [],
   "source": [
    "def winning_team(WTeamID, LTeamID, Season, DayNum):\n",
    "    if WTeamID<LTeamID:\n",
    "        return (1,WTeamID, LTeamID, Season, DayNum)\n",
    "    else:\n",
    "        return (0,LTeamID,WTeamID, Season, DayNum)        "
   ]
  },
  {
   "cell_type": "code",
   "execution_count": 49,
   "id": "abec7b6b",
   "metadata": {
    "ExecuteTime": {
     "end_time": "2023-02-24T13:25:11.656309Z",
     "start_time": "2023-02-24T13:25:11.612478Z"
    }
   },
   "outputs": [],
   "source": [
    "target_df=pd.DataFrame(list(MNCAATourneyCompactResults.apply(lambda x: winning_team(x['WTeamID'], x['LTeamID'], x['Season'], x['DayNum']), axis=1)), columns=['Target','TeamID1', 'TeamID2', 'Season', 'DayNum'])"
   ]
  },
  {
   "cell_type": "code",
   "execution_count": 50,
   "id": "4524aadf",
   "metadata": {
    "ExecuteTime": {
     "end_time": "2023-02-24T13:25:12.187305Z",
     "start_time": "2023-02-24T13:25:12.166526Z"
    },
    "scrolled": true
   },
   "outputs": [
    {
     "data": {
      "text/html": [
       "<div>\n",
       "<style scoped>\n",
       "    .dataframe tbody tr th:only-of-type {\n",
       "        vertical-align: middle;\n",
       "    }\n",
       "\n",
       "    .dataframe tbody tr th {\n",
       "        vertical-align: top;\n",
       "    }\n",
       "\n",
       "    .dataframe thead th {\n",
       "        text-align: right;\n",
       "    }\n",
       "</style>\n",
       "<table border=\"1\" class=\"dataframe\">\n",
       "  <thead>\n",
       "    <tr style=\"text-align: right;\">\n",
       "      <th></th>\n",
       "      <th>Target</th>\n",
       "      <th>TeamID1</th>\n",
       "      <th>TeamID2</th>\n",
       "      <th>Season</th>\n",
       "      <th>DayNum</th>\n",
       "    </tr>\n",
       "  </thead>\n",
       "  <tbody>\n",
       "    <tr>\n",
       "      <th>0</th>\n",
       "      <td>1</td>\n",
       "      <td>1116</td>\n",
       "      <td>1234</td>\n",
       "      <td>1985</td>\n",
       "      <td>136</td>\n",
       "    </tr>\n",
       "    <tr>\n",
       "      <th>1</th>\n",
       "      <td>1</td>\n",
       "      <td>1120</td>\n",
       "      <td>1345</td>\n",
       "      <td>1985</td>\n",
       "      <td>136</td>\n",
       "    </tr>\n",
       "    <tr>\n",
       "      <th>2</th>\n",
       "      <td>1</td>\n",
       "      <td>1207</td>\n",
       "      <td>1250</td>\n",
       "      <td>1985</td>\n",
       "      <td>136</td>\n",
       "    </tr>\n",
       "    <tr>\n",
       "      <th>3</th>\n",
       "      <td>1</td>\n",
       "      <td>1229</td>\n",
       "      <td>1425</td>\n",
       "      <td>1985</td>\n",
       "      <td>136</td>\n",
       "    </tr>\n",
       "    <tr>\n",
       "      <th>4</th>\n",
       "      <td>1</td>\n",
       "      <td>1242</td>\n",
       "      <td>1325</td>\n",
       "      <td>1985</td>\n",
       "      <td>136</td>\n",
       "    </tr>\n",
       "    <tr>\n",
       "      <th>...</th>\n",
       "      <td>...</td>\n",
       "      <td>...</td>\n",
       "      <td>...</td>\n",
       "      <td>...</td>\n",
       "      <td>...</td>\n",
       "    </tr>\n",
       "    <tr>\n",
       "      <th>2379</th>\n",
       "      <td>1</td>\n",
       "      <td>1242</td>\n",
       "      <td>1274</td>\n",
       "      <td>2022</td>\n",
       "      <td>146</td>\n",
       "    </tr>\n",
       "    <tr>\n",
       "      <th>2380</th>\n",
       "      <td>1</td>\n",
       "      <td>1314</td>\n",
       "      <td>1389</td>\n",
       "      <td>2022</td>\n",
       "      <td>146</td>\n",
       "    </tr>\n",
       "    <tr>\n",
       "      <th>2381</th>\n",
       "      <td>1</td>\n",
       "      <td>1242</td>\n",
       "      <td>1437</td>\n",
       "      <td>2022</td>\n",
       "      <td>152</td>\n",
       "    </tr>\n",
       "    <tr>\n",
       "      <th>2382</th>\n",
       "      <td>0</td>\n",
       "      <td>1181</td>\n",
       "      <td>1314</td>\n",
       "      <td>2022</td>\n",
       "      <td>152</td>\n",
       "    </tr>\n",
       "    <tr>\n",
       "      <th>2383</th>\n",
       "      <td>1</td>\n",
       "      <td>1242</td>\n",
       "      <td>1314</td>\n",
       "      <td>2022</td>\n",
       "      <td>154</td>\n",
       "    </tr>\n",
       "  </tbody>\n",
       "</table>\n",
       "<p>2384 rows × 5 columns</p>\n",
       "</div>"
      ],
      "text/plain": [
       "      Target  TeamID1  TeamID2  Season  DayNum\n",
       "0          1     1116     1234    1985     136\n",
       "1          1     1120     1345    1985     136\n",
       "2          1     1207     1250    1985     136\n",
       "3          1     1229     1425    1985     136\n",
       "4          1     1242     1325    1985     136\n",
       "...      ...      ...      ...     ...     ...\n",
       "2379       1     1242     1274    2022     146\n",
       "2380       1     1314     1389    2022     146\n",
       "2381       1     1242     1437    2022     152\n",
       "2382       0     1181     1314    2022     152\n",
       "2383       1     1242     1314    2022     154\n",
       "\n",
       "[2384 rows x 5 columns]"
      ]
     },
     "execution_count": 50,
     "metadata": {},
     "output_type": "execute_result"
    }
   ],
   "source": [
    "target_df"
   ]
  },
  {
   "cell_type": "markdown",
   "id": "d04d5191",
   "metadata": {
    "ExecuteTime": {
     "end_time": "2023-02-24T13:26:09.593369Z",
     "start_time": "2023-02-24T13:26:09.584362Z"
    }
   },
   "source": [
    "## Same season rankings"
   ]
  },
  {
   "cell_type": "code",
   "execution_count": 99,
   "id": "3110dd67",
   "metadata": {
    "ExecuteTime": {
     "end_time": "2023-02-24T13:47:33.454849Z",
     "start_time": "2023-02-24T13:47:33.439225Z"
    }
   },
   "outputs": [],
   "source": [
    "systems={'AP',\n",
    " 'ARG',\n",
    " 'BIH',\n",
    " 'COL',\n",
    " 'DOL',\n",
    " 'DUN',\n",
    " 'MAS',\n",
    " 'MOR',\n",
    " 'POM',\n",
    " 'RTH',\n",
    " 'SAG',\n",
    " 'SEL',\n",
    " 'USA',\n",
    " 'WLK',\n",
    " 'WOB',\n",
    " 'WOL'}"
   ]
  },
  {
   "cell_type": "code",
   "execution_count": 104,
   "id": "e3a1a57a",
   "metadata": {
    "ExecuteTime": {
     "end_time": "2023-02-24T13:47:50.676049Z",
     "start_time": "2023-02-24T13:47:50.036447Z"
    }
   },
   "outputs": [],
   "source": [
    "rankings=MMasseyOrdinals[MMasseyOrdinals['SystemName'].apply(lambda x: x in systems)].sort_values(['Season', 'TeamID','RankingDayNum'])"
   ]
  },
  {
   "cell_type": "code",
   "execution_count": 105,
   "id": "4b62d9e2",
   "metadata": {
    "ExecuteTime": {
     "end_time": "2023-02-24T13:47:54.693623Z",
     "start_time": "2023-02-24T13:47:54.509659Z"
    }
   },
   "outputs": [],
   "source": [
    "rankings=rankings.groupby(['TeamID', 'Season', 'SystemName'])['OrdinalRank'].agg([min, max, np.mean,'first', 'last']).reset_index().pivot(index=['TeamID','Season'], columns='SystemName').reset_index()"
   ]
  },
  {
   "cell_type": "code",
   "execution_count": 106,
   "id": "683e222e",
   "metadata": {
    "ExecuteTime": {
     "end_time": "2023-02-24T13:47:56.212580Z",
     "start_time": "2023-02-24T13:47:56.193875Z"
    }
   },
   "outputs": [],
   "source": [
    "rankings.columns=rankings.columns.map('_'.join).str.strip('_')"
   ]
  },
  {
   "cell_type": "code",
   "execution_count": 109,
   "id": "2abf89cf",
   "metadata": {
    "ExecuteTime": {
     "end_time": "2023-02-24T13:49:31.896776Z",
     "start_time": "2023-02-24T13:49:31.864472Z"
    }
   },
   "outputs": [
    {
     "data": {
      "text/html": [
       "<div>\n",
       "<style scoped>\n",
       "    .dataframe tbody tr th:only-of-type {\n",
       "        vertical-align: middle;\n",
       "    }\n",
       "\n",
       "    .dataframe tbody tr th {\n",
       "        vertical-align: top;\n",
       "    }\n",
       "\n",
       "    .dataframe thead th {\n",
       "        text-align: right;\n",
       "    }\n",
       "</style>\n",
       "<table border=\"1\" class=\"dataframe\">\n",
       "  <thead>\n",
       "    <tr style=\"text-align: right;\">\n",
       "      <th></th>\n",
       "      <th>TeamID</th>\n",
       "      <th>Season</th>\n",
       "      <th>min_AP</th>\n",
       "      <th>min_ARG</th>\n",
       "      <th>min_BIH</th>\n",
       "      <th>min_COL</th>\n",
       "      <th>min_DOL</th>\n",
       "      <th>min_DUN</th>\n",
       "      <th>min_MAS</th>\n",
       "      <th>min_MOR</th>\n",
       "      <th>...</th>\n",
       "      <th>last_MAS</th>\n",
       "      <th>last_MOR</th>\n",
       "      <th>last_POM</th>\n",
       "      <th>last_RTH</th>\n",
       "      <th>last_SAG</th>\n",
       "      <th>last_SEL</th>\n",
       "      <th>last_USA</th>\n",
       "      <th>last_WLK</th>\n",
       "      <th>last_WOB</th>\n",
       "      <th>last_WOL</th>\n",
       "    </tr>\n",
       "  </thead>\n",
       "  <tbody>\n",
       "    <tr>\n",
       "      <th>0</th>\n",
       "      <td>1101</td>\n",
       "      <td>2014</td>\n",
       "      <td>NaN</td>\n",
       "      <td>NaN</td>\n",
       "      <td>314.0</td>\n",
       "      <td>308.0</td>\n",
       "      <td>292.0</td>\n",
       "      <td>341.0</td>\n",
       "      <td>331.0</td>\n",
       "      <td>348.0</td>\n",
       "      <td>...</td>\n",
       "      <td>349.0</td>\n",
       "      <td>349.0</td>\n",
       "      <td>348.0</td>\n",
       "      <td>346.0</td>\n",
       "      <td>346.0</td>\n",
       "      <td>337.0</td>\n",
       "      <td>NaN</td>\n",
       "      <td>330.0</td>\n",
       "      <td>323.0</td>\n",
       "      <td>345.0</td>\n",
       "    </tr>\n",
       "    <tr>\n",
       "      <th>1</th>\n",
       "      <td>1101</td>\n",
       "      <td>2015</td>\n",
       "      <td>NaN</td>\n",
       "      <td>NaN</td>\n",
       "      <td>263.0</td>\n",
       "      <td>245.0</td>\n",
       "      <td>263.0</td>\n",
       "      <td>308.0</td>\n",
       "      <td>270.0</td>\n",
       "      <td>303.0</td>\n",
       "      <td>...</td>\n",
       "      <td>331.0</td>\n",
       "      <td>346.0</td>\n",
       "      <td>332.0</td>\n",
       "      <td>325.0</td>\n",
       "      <td>336.0</td>\n",
       "      <td>326.0</td>\n",
       "      <td>NaN</td>\n",
       "      <td>332.0</td>\n",
       "      <td>317.0</td>\n",
       "      <td>319.0</td>\n",
       "    </tr>\n",
       "    <tr>\n",
       "      <th>2</th>\n",
       "      <td>1101</td>\n",
       "      <td>2016</td>\n",
       "      <td>NaN</td>\n",
       "      <td>291.0</td>\n",
       "      <td>276.0</td>\n",
       "      <td>304.0</td>\n",
       "      <td>295.0</td>\n",
       "      <td>298.0</td>\n",
       "      <td>301.0</td>\n",
       "      <td>311.0</td>\n",
       "      <td>...</td>\n",
       "      <td>312.0</td>\n",
       "      <td>311.0</td>\n",
       "      <td>318.0</td>\n",
       "      <td>319.0</td>\n",
       "      <td>320.0</td>\n",
       "      <td>304.0</td>\n",
       "      <td>NaN</td>\n",
       "      <td>304.0</td>\n",
       "      <td>297.0</td>\n",
       "      <td>312.0</td>\n",
       "    </tr>\n",
       "    <tr>\n",
       "      <th>3</th>\n",
       "      <td>1101</td>\n",
       "      <td>2017</td>\n",
       "      <td>NaN</td>\n",
       "      <td>191.0</td>\n",
       "      <td>272.0</td>\n",
       "      <td>207.0</td>\n",
       "      <td>276.0</td>\n",
       "      <td>242.0</td>\n",
       "      <td>235.0</td>\n",
       "      <td>206.0</td>\n",
       "      <td>...</td>\n",
       "      <td>292.0</td>\n",
       "      <td>317.0</td>\n",
       "      <td>300.0</td>\n",
       "      <td>294.0</td>\n",
       "      <td>305.0</td>\n",
       "      <td>291.0</td>\n",
       "      <td>NaN</td>\n",
       "      <td>307.0</td>\n",
       "      <td>266.0</td>\n",
       "      <td>264.0</td>\n",
       "    </tr>\n",
       "    <tr>\n",
       "      <th>4</th>\n",
       "      <td>1101</td>\n",
       "      <td>2018</td>\n",
       "      <td>NaN</td>\n",
       "      <td>199.0</td>\n",
       "      <td>208.0</td>\n",
       "      <td>209.0</td>\n",
       "      <td>211.0</td>\n",
       "      <td>175.0</td>\n",
       "      <td>210.0</td>\n",
       "      <td>213.0</td>\n",
       "      <td>...</td>\n",
       "      <td>259.0</td>\n",
       "      <td>265.0</td>\n",
       "      <td>262.0</td>\n",
       "      <td>271.0</td>\n",
       "      <td>276.0</td>\n",
       "      <td>266.0</td>\n",
       "      <td>NaN</td>\n",
       "      <td>261.0</td>\n",
       "      <td>255.0</td>\n",
       "      <td>260.0</td>\n",
       "    </tr>\n",
       "    <tr>\n",
       "      <th>...</th>\n",
       "      <td>...</td>\n",
       "      <td>...</td>\n",
       "      <td>...</td>\n",
       "      <td>...</td>\n",
       "      <td>...</td>\n",
       "      <td>...</td>\n",
       "      <td>...</td>\n",
       "      <td>...</td>\n",
       "      <td>...</td>\n",
       "      <td>...</td>\n",
       "      <td>...</td>\n",
       "      <td>...</td>\n",
       "      <td>...</td>\n",
       "      <td>...</td>\n",
       "      <td>...</td>\n",
       "      <td>...</td>\n",
       "      <td>...</td>\n",
       "      <td>...</td>\n",
       "      <td>...</td>\n",
       "      <td>...</td>\n",
       "      <td>...</td>\n",
       "    </tr>\n",
       "    <tr>\n",
       "      <th>7260</th>\n",
       "      <td>1473</td>\n",
       "      <td>2023</td>\n",
       "      <td>NaN</td>\n",
       "      <td>288.0</td>\n",
       "      <td>309.0</td>\n",
       "      <td>319.0</td>\n",
       "      <td>305.0</td>\n",
       "      <td>177.0</td>\n",
       "      <td>343.0</td>\n",
       "      <td>318.0</td>\n",
       "      <td>...</td>\n",
       "      <td>348.0</td>\n",
       "      <td>325.0</td>\n",
       "      <td>342.0</td>\n",
       "      <td>339.0</td>\n",
       "      <td>354.0</td>\n",
       "      <td>336.0</td>\n",
       "      <td>NaN</td>\n",
       "      <td>337.0</td>\n",
       "      <td>331.0</td>\n",
       "      <td>334.0</td>\n",
       "    </tr>\n",
       "    <tr>\n",
       "      <th>7261</th>\n",
       "      <td>1474</td>\n",
       "      <td>2023</td>\n",
       "      <td>NaN</td>\n",
       "      <td>99.0</td>\n",
       "      <td>94.0</td>\n",
       "      <td>91.0</td>\n",
       "      <td>96.0</td>\n",
       "      <td>193.0</td>\n",
       "      <td>168.0</td>\n",
       "      <td>94.0</td>\n",
       "      <td>...</td>\n",
       "      <td>210.0</td>\n",
       "      <td>207.0</td>\n",
       "      <td>208.0</td>\n",
       "      <td>200.0</td>\n",
       "      <td>268.0</td>\n",
       "      <td>180.0</td>\n",
       "      <td>NaN</td>\n",
       "      <td>179.0</td>\n",
       "      <td>163.0</td>\n",
       "      <td>149.0</td>\n",
       "    </tr>\n",
       "    <tr>\n",
       "      <th>7262</th>\n",
       "      <td>1475</td>\n",
       "      <td>2023</td>\n",
       "      <td>NaN</td>\n",
       "      <td>184.0</td>\n",
       "      <td>147.0</td>\n",
       "      <td>211.0</td>\n",
       "      <td>185.0</td>\n",
       "      <td>91.0</td>\n",
       "      <td>217.0</td>\n",
       "      <td>179.0</td>\n",
       "      <td>...</td>\n",
       "      <td>285.0</td>\n",
       "      <td>268.0</td>\n",
       "      <td>258.0</td>\n",
       "      <td>267.0</td>\n",
       "      <td>314.0</td>\n",
       "      <td>257.0</td>\n",
       "      <td>NaN</td>\n",
       "      <td>246.0</td>\n",
       "      <td>251.0</td>\n",
       "      <td>249.0</td>\n",
       "    </tr>\n",
       "    <tr>\n",
       "      <th>7263</th>\n",
       "      <td>1476</td>\n",
       "      <td>2023</td>\n",
       "      <td>NaN</td>\n",
       "      <td>221.0</td>\n",
       "      <td>252.0</td>\n",
       "      <td>237.0</td>\n",
       "      <td>264.0</td>\n",
       "      <td>175.0</td>\n",
       "      <td>320.0</td>\n",
       "      <td>312.0</td>\n",
       "      <td>...</td>\n",
       "      <td>320.0</td>\n",
       "      <td>314.0</td>\n",
       "      <td>328.0</td>\n",
       "      <td>320.0</td>\n",
       "      <td>337.0</td>\n",
       "      <td>298.0</td>\n",
       "      <td>NaN</td>\n",
       "      <td>309.0</td>\n",
       "      <td>282.0</td>\n",
       "      <td>278.0</td>\n",
       "    </tr>\n",
       "    <tr>\n",
       "      <th>7264</th>\n",
       "      <td>1477</td>\n",
       "      <td>2023</td>\n",
       "      <td>NaN</td>\n",
       "      <td>175.0</td>\n",
       "      <td>242.0</td>\n",
       "      <td>259.0</td>\n",
       "      <td>246.0</td>\n",
       "      <td>237.0</td>\n",
       "      <td>281.0</td>\n",
       "      <td>253.0</td>\n",
       "      <td>...</td>\n",
       "      <td>300.0</td>\n",
       "      <td>302.0</td>\n",
       "      <td>305.0</td>\n",
       "      <td>307.0</td>\n",
       "      <td>336.0</td>\n",
       "      <td>286.0</td>\n",
       "      <td>NaN</td>\n",
       "      <td>302.0</td>\n",
       "      <td>291.0</td>\n",
       "      <td>281.0</td>\n",
       "    </tr>\n",
       "  </tbody>\n",
       "</table>\n",
       "<p>7265 rows × 82 columns</p>\n",
       "</div>"
      ],
      "text/plain": [
       "      TeamID  Season  min_AP  min_ARG  min_BIH  min_COL  min_DOL  min_DUN  \\\n",
       "0       1101    2014     NaN      NaN    314.0    308.0    292.0    341.0   \n",
       "1       1101    2015     NaN      NaN    263.0    245.0    263.0    308.0   \n",
       "2       1101    2016     NaN    291.0    276.0    304.0    295.0    298.0   \n",
       "3       1101    2017     NaN    191.0    272.0    207.0    276.0    242.0   \n",
       "4       1101    2018     NaN    199.0    208.0    209.0    211.0    175.0   \n",
       "...      ...     ...     ...      ...      ...      ...      ...      ...   \n",
       "7260    1473    2023     NaN    288.0    309.0    319.0    305.0    177.0   \n",
       "7261    1474    2023     NaN     99.0     94.0     91.0     96.0    193.0   \n",
       "7262    1475    2023     NaN    184.0    147.0    211.0    185.0     91.0   \n",
       "7263    1476    2023     NaN    221.0    252.0    237.0    264.0    175.0   \n",
       "7264    1477    2023     NaN    175.0    242.0    259.0    246.0    237.0   \n",
       "\n",
       "      min_MAS  min_MOR  ...  last_MAS  last_MOR  last_POM  last_RTH  last_SAG  \\\n",
       "0       331.0    348.0  ...     349.0     349.0     348.0     346.0     346.0   \n",
       "1       270.0    303.0  ...     331.0     346.0     332.0     325.0     336.0   \n",
       "2       301.0    311.0  ...     312.0     311.0     318.0     319.0     320.0   \n",
       "3       235.0    206.0  ...     292.0     317.0     300.0     294.0     305.0   \n",
       "4       210.0    213.0  ...     259.0     265.0     262.0     271.0     276.0   \n",
       "...       ...      ...  ...       ...       ...       ...       ...       ...   \n",
       "7260    343.0    318.0  ...     348.0     325.0     342.0     339.0     354.0   \n",
       "7261    168.0     94.0  ...     210.0     207.0     208.0     200.0     268.0   \n",
       "7262    217.0    179.0  ...     285.0     268.0     258.0     267.0     314.0   \n",
       "7263    320.0    312.0  ...     320.0     314.0     328.0     320.0     337.0   \n",
       "7264    281.0    253.0  ...     300.0     302.0     305.0     307.0     336.0   \n",
       "\n",
       "      last_SEL  last_USA  last_WLK  last_WOB  last_WOL  \n",
       "0        337.0       NaN     330.0     323.0     345.0  \n",
       "1        326.0       NaN     332.0     317.0     319.0  \n",
       "2        304.0       NaN     304.0     297.0     312.0  \n",
       "3        291.0       NaN     307.0     266.0     264.0  \n",
       "4        266.0       NaN     261.0     255.0     260.0  \n",
       "...        ...       ...       ...       ...       ...  \n",
       "7260     336.0       NaN     337.0     331.0     334.0  \n",
       "7261     180.0       NaN     179.0     163.0     149.0  \n",
       "7262     257.0       NaN     246.0     251.0     249.0  \n",
       "7263     298.0       NaN     309.0     282.0     278.0  \n",
       "7264     286.0       NaN     302.0     291.0     281.0  \n",
       "\n",
       "[7265 rows x 82 columns]"
      ]
     },
     "execution_count": 109,
     "metadata": {},
     "output_type": "execute_result"
    }
   ],
   "source": [
    "rankings"
   ]
  },
  {
   "cell_type": "markdown",
   "id": "25db5ef7",
   "metadata": {
    "ExecuteTime": {
     "end_time": "2023-02-24T13:50:26.254573Z",
     "start_time": "2023-02-24T13:50:26.238501Z"
    }
   },
   "source": [
    "## Same season compact results"
   ]
  },
  {
   "cell_type": "code",
   "execution_count": 114,
   "id": "8d0e6903",
   "metadata": {
    "ExecuteTime": {
     "end_time": "2023-02-24T14:00:06.129739Z",
     "start_time": "2023-02-24T14:00:06.114098Z"
    }
   },
   "outputs": [
    {
     "data": {
      "text/html": [
       "<div>\n",
       "<style scoped>\n",
       "    .dataframe tbody tr th:only-of-type {\n",
       "        vertical-align: middle;\n",
       "    }\n",
       "\n",
       "    .dataframe tbody tr th {\n",
       "        vertical-align: top;\n",
       "    }\n",
       "\n",
       "    .dataframe thead th {\n",
       "        text-align: right;\n",
       "    }\n",
       "</style>\n",
       "<table border=\"1\" class=\"dataframe\">\n",
       "  <thead>\n",
       "    <tr style=\"text-align: right;\">\n",
       "      <th></th>\n",
       "      <th>Season</th>\n",
       "      <th>DayNum</th>\n",
       "      <th>WTeamID</th>\n",
       "      <th>WScore</th>\n",
       "      <th>LTeamID</th>\n",
       "      <th>LScore</th>\n",
       "      <th>WLoc</th>\n",
       "      <th>NumOT</th>\n",
       "    </tr>\n",
       "  </thead>\n",
       "  <tbody>\n",
       "    <tr>\n",
       "      <th>0</th>\n",
       "      <td>1985</td>\n",
       "      <td>20</td>\n",
       "      <td>1228</td>\n",
       "      <td>81</td>\n",
       "      <td>1328</td>\n",
       "      <td>64</td>\n",
       "      <td>N</td>\n",
       "      <td>0</td>\n",
       "    </tr>\n",
       "    <tr>\n",
       "      <th>1</th>\n",
       "      <td>1985</td>\n",
       "      <td>25</td>\n",
       "      <td>1106</td>\n",
       "      <td>77</td>\n",
       "      <td>1354</td>\n",
       "      <td>70</td>\n",
       "      <td>H</td>\n",
       "      <td>0</td>\n",
       "    </tr>\n",
       "    <tr>\n",
       "      <th>2</th>\n",
       "      <td>1985</td>\n",
       "      <td>25</td>\n",
       "      <td>1112</td>\n",
       "      <td>63</td>\n",
       "      <td>1223</td>\n",
       "      <td>56</td>\n",
       "      <td>H</td>\n",
       "      <td>0</td>\n",
       "    </tr>\n",
       "    <tr>\n",
       "      <th>3</th>\n",
       "      <td>1985</td>\n",
       "      <td>25</td>\n",
       "      <td>1165</td>\n",
       "      <td>70</td>\n",
       "      <td>1432</td>\n",
       "      <td>54</td>\n",
       "      <td>H</td>\n",
       "      <td>0</td>\n",
       "    </tr>\n",
       "    <tr>\n",
       "      <th>4</th>\n",
       "      <td>1985</td>\n",
       "      <td>25</td>\n",
       "      <td>1192</td>\n",
       "      <td>86</td>\n",
       "      <td>1447</td>\n",
       "      <td>74</td>\n",
       "      <td>H</td>\n",
       "      <td>0</td>\n",
       "    </tr>\n",
       "  </tbody>\n",
       "</table>\n",
       "</div>"
      ],
      "text/plain": [
       "   Season  DayNum  WTeamID  WScore  LTeamID  LScore WLoc  NumOT\n",
       "0    1985      20     1228      81     1328      64    N      0\n",
       "1    1985      25     1106      77     1354      70    H      0\n",
       "2    1985      25     1112      63     1223      56    H      0\n",
       "3    1985      25     1165      70     1432      54    H      0\n",
       "4    1985      25     1192      86     1447      74    H      0"
      ]
     },
     "execution_count": 114,
     "metadata": {},
     "output_type": "execute_result"
    }
   ],
   "source": [
    "MRegularSeasonCompactResults.head()"
   ]
  },
  {
   "cell_type": "code",
   "execution_count": 115,
   "id": "7ca9405c",
   "metadata": {
    "ExecuteTime": {
     "end_time": "2023-02-24T14:01:13.537651Z",
     "start_time": "2023-02-24T14:01:13.522004Z"
    }
   },
   "outputs": [],
   "source": [
    "def winning_team2(WTeamID, LTeamID, Season, DayNum, WScore, LScore, WLoc):\n",
    "    \n",
    "    def revert_home(x):\n",
    "        if x=='H':\n",
    "            return 'A'\n",
    "        elif x=='A':\n",
    "            return 'H'\n",
    "        else:\n",
    "            return x\n",
    "        \n",
    "    if WTeamID<LTeamID:\n",
    "        return (1,WTeamID, LTeamID, Season, DayNum, WScore, LScore, WLoc)\n",
    "    else:\n",
    "        return (0,LTeamID,WTeamID, Season, DayNum, LScore, WScore, revert_home(WLoc))     \n"
   ]
  },
  {
   "cell_type": "code",
   "execution_count": 116,
   "id": "f53d37ef",
   "metadata": {
    "ExecuteTime": {
     "end_time": "2023-02-24T14:03:23.202619Z",
     "start_time": "2023-02-24T14:03:19.628831Z"
    }
   },
   "outputs": [],
   "source": [
    "reg_season=pd.DataFrame(list(MRegularSeasonCompactResults.apply(lambda x: winning_team2(x['WTeamID'], x['LTeamID'], x['Season'], x['DayNum'], x['WScore'], x['LScore'], x['WLoc']), axis=1)), columns=['Win','TeamID1', 'TeamID2', 'Season', 'DayNum', 'Score1', 'Score2', 'WLoc'])"
   ]
  },
  {
   "cell_type": "code",
   "execution_count": 117,
   "id": "252ac616",
   "metadata": {
    "ExecuteTime": {
     "end_time": "2023-02-24T14:03:24.221973Z",
     "start_time": "2023-02-24T14:03:24.203268Z"
    }
   },
   "outputs": [
    {
     "data": {
      "text/html": [
       "<div>\n",
       "<style scoped>\n",
       "    .dataframe tbody tr th:only-of-type {\n",
       "        vertical-align: middle;\n",
       "    }\n",
       "\n",
       "    .dataframe tbody tr th {\n",
       "        vertical-align: top;\n",
       "    }\n",
       "\n",
       "    .dataframe thead th {\n",
       "        text-align: right;\n",
       "    }\n",
       "</style>\n",
       "<table border=\"1\" class=\"dataframe\">\n",
       "  <thead>\n",
       "    <tr style=\"text-align: right;\">\n",
       "      <th></th>\n",
       "      <th>Win</th>\n",
       "      <th>TeamID1</th>\n",
       "      <th>TeamID2</th>\n",
       "      <th>Season</th>\n",
       "      <th>DayNum</th>\n",
       "      <th>Score1</th>\n",
       "      <th>Score2</th>\n",
       "      <th>WLoc</th>\n",
       "    </tr>\n",
       "  </thead>\n",
       "  <tbody>\n",
       "    <tr>\n",
       "      <th>0</th>\n",
       "      <td>1</td>\n",
       "      <td>1228</td>\n",
       "      <td>1328</td>\n",
       "      <td>1985</td>\n",
       "      <td>20</td>\n",
       "      <td>81</td>\n",
       "      <td>64</td>\n",
       "      <td>N</td>\n",
       "    </tr>\n",
       "    <tr>\n",
       "      <th>1</th>\n",
       "      <td>1</td>\n",
       "      <td>1106</td>\n",
       "      <td>1354</td>\n",
       "      <td>1985</td>\n",
       "      <td>25</td>\n",
       "      <td>77</td>\n",
       "      <td>70</td>\n",
       "      <td>H</td>\n",
       "    </tr>\n",
       "    <tr>\n",
       "      <th>2</th>\n",
       "      <td>1</td>\n",
       "      <td>1112</td>\n",
       "      <td>1223</td>\n",
       "      <td>1985</td>\n",
       "      <td>25</td>\n",
       "      <td>63</td>\n",
       "      <td>56</td>\n",
       "      <td>H</td>\n",
       "    </tr>\n",
       "    <tr>\n",
       "      <th>3</th>\n",
       "      <td>1</td>\n",
       "      <td>1165</td>\n",
       "      <td>1432</td>\n",
       "      <td>1985</td>\n",
       "      <td>25</td>\n",
       "      <td>70</td>\n",
       "      <td>54</td>\n",
       "      <td>H</td>\n",
       "    </tr>\n",
       "    <tr>\n",
       "      <th>4</th>\n",
       "      <td>1</td>\n",
       "      <td>1192</td>\n",
       "      <td>1447</td>\n",
       "      <td>1985</td>\n",
       "      <td>25</td>\n",
       "      <td>86</td>\n",
       "      <td>74</td>\n",
       "      <td>H</td>\n",
       "    </tr>\n",
       "    <tr>\n",
       "      <th>...</th>\n",
       "      <td>...</td>\n",
       "      <td>...</td>\n",
       "      <td>...</td>\n",
       "      <td>...</td>\n",
       "      <td>...</td>\n",
       "      <td>...</td>\n",
       "      <td>...</td>\n",
       "      <td>...</td>\n",
       "    </tr>\n",
       "    <tr>\n",
       "      <th>180184</th>\n",
       "      <td>0</td>\n",
       "      <td>1103</td>\n",
       "      <td>1405</td>\n",
       "      <td>2023</td>\n",
       "      <td>99</td>\n",
       "      <td>74</td>\n",
       "      <td>84</td>\n",
       "      <td>H</td>\n",
       "    </tr>\n",
       "    <tr>\n",
       "      <th>180185</th>\n",
       "      <td>0</td>\n",
       "      <td>1153</td>\n",
       "      <td>1408</td>\n",
       "      <td>2023</td>\n",
       "      <td>99</td>\n",
       "      <td>94</td>\n",
       "      <td>101</td>\n",
       "      <td>A</td>\n",
       "    </tr>\n",
       "    <tr>\n",
       "      <th>180186</th>\n",
       "      <td>0</td>\n",
       "      <td>1190</td>\n",
       "      <td>1422</td>\n",
       "      <td>2023</td>\n",
       "      <td>99</td>\n",
       "      <td>65</td>\n",
       "      <td>91</td>\n",
       "      <td>A</td>\n",
       "    </tr>\n",
       "    <tr>\n",
       "      <th>180187</th>\n",
       "      <td>0</td>\n",
       "      <td>1301</td>\n",
       "      <td>1438</td>\n",
       "      <td>2023</td>\n",
       "      <td>99</td>\n",
       "      <td>50</td>\n",
       "      <td>63</td>\n",
       "      <td>A</td>\n",
       "    </tr>\n",
       "    <tr>\n",
       "      <th>180188</th>\n",
       "      <td>0</td>\n",
       "      <td>1314</td>\n",
       "      <td>1448</td>\n",
       "      <td>2023</td>\n",
       "      <td>99</td>\n",
       "      <td>85</td>\n",
       "      <td>92</td>\n",
       "      <td>A</td>\n",
       "    </tr>\n",
       "  </tbody>\n",
       "</table>\n",
       "<p>180189 rows × 8 columns</p>\n",
       "</div>"
      ],
      "text/plain": [
       "        Win  TeamID1  TeamID2  Season  DayNum  Score1  Score2 WLoc\n",
       "0         1     1228     1328    1985      20      81      64    N\n",
       "1         1     1106     1354    1985      25      77      70    H\n",
       "2         1     1112     1223    1985      25      63      56    H\n",
       "3         1     1165     1432    1985      25      70      54    H\n",
       "4         1     1192     1447    1985      25      86      74    H\n",
       "...     ...      ...      ...     ...     ...     ...     ...  ...\n",
       "180184    0     1103     1405    2023      99      74      84    H\n",
       "180185    0     1153     1408    2023      99      94     101    A\n",
       "180186    0     1190     1422    2023      99      65      91    A\n",
       "180187    0     1301     1438    2023      99      50      63    A\n",
       "180188    0     1314     1448    2023      99      85      92    A\n",
       "\n",
       "[180189 rows x 8 columns]"
      ]
     },
     "execution_count": 117,
     "metadata": {},
     "output_type": "execute_result"
    }
   ],
   "source": [
    "reg_season"
   ]
  },
  {
   "cell_type": "code",
   "execution_count": null,
   "id": "d5f412ee",
   "metadata": {},
   "outputs": [],
   "source": []
  },
  {
   "cell_type": "raw",
   "id": "49d5e843",
   "metadata": {},
   "source": []
  }
 ],
 "metadata": {
  "hide_input": false,
  "kernelspec": {
   "display_name": "Python 3 (ipykernel)",
   "language": "python",
   "name": "python3"
  },
  "language_info": {
   "codemirror_mode": {
    "name": "ipython",
    "version": 3
   },
   "file_extension": ".py",
   "mimetype": "text/x-python",
   "name": "python",
   "nbconvert_exporter": "python",
   "pygments_lexer": "ipython3",
   "version": "3.9.13"
  },
  "toc": {
   "base_numbering": 1,
   "nav_menu": {},
   "number_sections": true,
   "sideBar": true,
   "skip_h1_title": false,
   "title_cell": "Table of Contents",
   "title_sidebar": "Contents",
   "toc_cell": false,
   "toc_position": {
    "height": "calc(100% - 180px)",
    "left": "10px",
    "top": "150px",
    "width": "296.594px"
   },
   "toc_section_display": true,
   "toc_window_display": true
  },
  "varInspector": {
   "cols": {
    "lenName": 16,
    "lenType": 16,
    "lenVar": 40
   },
   "kernels_config": {
    "python": {
     "delete_cmd_postfix": "",
     "delete_cmd_prefix": "del ",
     "library": "var_list.py",
     "varRefreshCmd": "print(var_dic_list())"
    },
    "r": {
     "delete_cmd_postfix": ") ",
     "delete_cmd_prefix": "rm(",
     "library": "var_list.r",
     "varRefreshCmd": "cat(var_dic_list()) "
    }
   },
   "types_to_exclude": [
    "module",
    "function",
    "builtin_function_or_method",
    "instance",
    "_Feature"
   ],
   "window_display": false
  }
 },
 "nbformat": 4,
 "nbformat_minor": 5
}
