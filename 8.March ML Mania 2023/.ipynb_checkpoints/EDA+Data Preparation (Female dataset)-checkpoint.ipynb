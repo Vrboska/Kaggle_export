{
 "cells": [
  {
   "cell_type": "code",
   "execution_count": 1,
   "id": "47aacc93",
   "metadata": {
    "ExecuteTime": {
     "end_time": "2023-02-26T10:16:07.849659Z",
     "start_time": "2023-02-26T10:16:07.841653Z"
    }
   },
   "outputs": [],
   "source": [
    "import warnings\n",
    "warnings.filterwarnings('ignore')"
   ]
  },
  {
   "cell_type": "code",
   "execution_count": 2,
   "id": "5ab6be25",
   "metadata": {
    "ExecuteTime": {
     "end_time": "2023-02-26T10:16:11.381858Z",
     "start_time": "2023-02-26T10:16:07.850653Z"
    }
   },
   "outputs": [],
   "source": [
    "import pandas as pd\n",
    "import numpy as np\n",
    "import random\n",
    "import mofr\n",
    "import matplotlib.pyplot as plt\n",
    "import seaborn as sns\n",
    "from sklearn.model_selection import train_test_split\n",
    "from xgboost import XGBClassifier, plot_tree\n",
    "from lightgbm import LGBMClassifier, plot_tree #LGBMRanker\n",
    "import math\n",
    "import pickle\n",
    "import statsmodels.api as sm\n",
    "\n",
    "\n",
    "import xgboost as xgb"
   ]
  },
  {
   "cell_type": "code",
   "execution_count": 3,
   "id": "5f33d6ca",
   "metadata": {
    "ExecuteTime": {
     "end_time": "2023-02-26T10:16:11.391046Z",
     "start_time": "2023-02-26T10:16:11.381858Z"
    }
   },
   "outputs": [],
   "source": [
    "seed=1234"
   ]
  },
  {
   "cell_type": "markdown",
   "id": "f7d0e2ef",
   "metadata": {
    "ExecuteTime": {
     "end_time": "2023-02-23T16:12:00.346762Z",
     "start_time": "2023-02-23T16:12:00.335167Z"
    }
   },
   "source": [
    "# Loading data"
   ]
  },
  {
   "cell_type": "code",
   "execution_count": 4,
   "id": "8af9fe82",
   "metadata": {
    "ExecuteTime": {
     "end_time": "2023-02-26T10:16:11.401250Z",
     "start_time": "2023-02-26T10:16:11.393155Z"
    }
   },
   "outputs": [
    {
     "data": {
      "text/plain": [
       "'C:\\\\Users\\\\AZUBA\\\\Documents\\\\Data_science\\\\Kaggle\\\\8.March ML Mania 2023'"
      ]
     },
     "execution_count": 4,
     "metadata": {},
     "output_type": "execute_result"
    }
   ],
   "source": [
    "import os\n",
    "os.getcwd()"
   ]
  },
  {
   "cell_type": "code",
   "execution_count": 5,
   "id": "2c33790b",
   "metadata": {
    "ExecuteTime": {
     "end_time": "2023-02-26T10:16:11.616081Z",
     "start_time": "2023-02-26T10:16:11.401250Z"
    }
   },
   "outputs": [],
   "source": [
    "# MMasseyOrdinals=pd.read_csv(os.getcwd()+r'\\relevant_data\\MMasseyOrdinals.csv')\n",
    "\n",
    "MNCAATourneyCompactResults=pd.read_csv(os.getcwd()+r'\\relevant_data\\WNCAATourneyCompactResults.csv')\n",
    "MNCAATourneyDetailedResults=pd.read_csv(os.getcwd()+r'\\relevant_data\\WNCAATourneyDetailedResults.csv')\n",
    "\n",
    "MNCAATourneySeeds=pd.read_csv(os.getcwd()+r'\\relevant_data\\WNCAATourneySeeds.csv')\n",
    "\n",
    "MRegularSeasonCompactResults=pd.read_csv(os.getcwd()+r'\\relevant_data\\WRegularSeasonCompactResults.csv')\n",
    "MRegularSeasonDetailedResults=pd.read_csv(os.getcwd()+r'\\relevant_data\\WRegularSeasonDetailedResults.csv')\n",
    "\n",
    "MTeams=pd.read_csv(os.getcwd()+r'\\relevant_data\\WTeams.csv')"
   ]
  },
  {
   "cell_type": "markdown",
   "id": "2a7a6832",
   "metadata": {},
   "source": [
    "# Table by table"
   ]
  },
  {
   "cell_type": "markdown",
   "id": "ca00b31f",
   "metadata": {},
   "source": [
    "## MNCAATourneyCompactResults"
   ]
  },
  {
   "cell_type": "code",
   "execution_count": 7,
   "id": "174b10ab",
   "metadata": {
    "ExecuteTime": {
     "end_time": "2023-02-26T10:16:21.470857Z",
     "start_time": "2023-02-26T10:16:21.461849Z"
    }
   },
   "outputs": [
    {
     "data": {
      "text/plain": [
       "(1516, 8)"
      ]
     },
     "execution_count": 7,
     "metadata": {},
     "output_type": "execute_result"
    }
   ],
   "source": [
    "MNCAATourneyCompactResults.shape"
   ]
  },
  {
   "cell_type": "code",
   "execution_count": 8,
   "id": "1408b79d",
   "metadata": {
    "ExecuteTime": {
     "end_time": "2023-02-26T10:16:21.625521Z",
     "start_time": "2023-02-26T10:16:21.615232Z"
    }
   },
   "outputs": [
    {
     "data": {
      "text/html": [
       "<div>\n",
       "<style scoped>\n",
       "    .dataframe tbody tr th:only-of-type {\n",
       "        vertical-align: middle;\n",
       "    }\n",
       "\n",
       "    .dataframe tbody tr th {\n",
       "        vertical-align: top;\n",
       "    }\n",
       "\n",
       "    .dataframe thead th {\n",
       "        text-align: right;\n",
       "    }\n",
       "</style>\n",
       "<table border=\"1\" class=\"dataframe\">\n",
       "  <thead>\n",
       "    <tr style=\"text-align: right;\">\n",
       "      <th></th>\n",
       "      <th>Season</th>\n",
       "      <th>DayNum</th>\n",
       "      <th>WTeamID</th>\n",
       "      <th>WScore</th>\n",
       "      <th>LTeamID</th>\n",
       "      <th>LScore</th>\n",
       "      <th>WLoc</th>\n",
       "      <th>NumOT</th>\n",
       "    </tr>\n",
       "  </thead>\n",
       "  <tbody>\n",
       "    <tr>\n",
       "      <th>0</th>\n",
       "      <td>1998</td>\n",
       "      <td>137</td>\n",
       "      <td>3104</td>\n",
       "      <td>94</td>\n",
       "      <td>3422</td>\n",
       "      <td>46</td>\n",
       "      <td>H</td>\n",
       "      <td>0</td>\n",
       "    </tr>\n",
       "    <tr>\n",
       "      <th>1</th>\n",
       "      <td>1998</td>\n",
       "      <td>137</td>\n",
       "      <td>3112</td>\n",
       "      <td>75</td>\n",
       "      <td>3365</td>\n",
       "      <td>63</td>\n",
       "      <td>H</td>\n",
       "      <td>0</td>\n",
       "    </tr>\n",
       "    <tr>\n",
       "      <th>2</th>\n",
       "      <td>1998</td>\n",
       "      <td>137</td>\n",
       "      <td>3163</td>\n",
       "      <td>93</td>\n",
       "      <td>3193</td>\n",
       "      <td>52</td>\n",
       "      <td>H</td>\n",
       "      <td>0</td>\n",
       "    </tr>\n",
       "    <tr>\n",
       "      <th>3</th>\n",
       "      <td>1998</td>\n",
       "      <td>137</td>\n",
       "      <td>3198</td>\n",
       "      <td>59</td>\n",
       "      <td>3266</td>\n",
       "      <td>45</td>\n",
       "      <td>H</td>\n",
       "      <td>0</td>\n",
       "    </tr>\n",
       "    <tr>\n",
       "      <th>4</th>\n",
       "      <td>1998</td>\n",
       "      <td>137</td>\n",
       "      <td>3203</td>\n",
       "      <td>74</td>\n",
       "      <td>3208</td>\n",
       "      <td>72</td>\n",
       "      <td>A</td>\n",
       "      <td>0</td>\n",
       "    </tr>\n",
       "  </tbody>\n",
       "</table>\n",
       "</div>"
      ],
      "text/plain": [
       "   Season  DayNum  WTeamID  WScore  LTeamID  LScore WLoc  NumOT\n",
       "0    1998     137     3104      94     3422      46    H      0\n",
       "1    1998     137     3112      75     3365      63    H      0\n",
       "2    1998     137     3163      93     3193      52    H      0\n",
       "3    1998     137     3198      59     3266      45    H      0\n",
       "4    1998     137     3203      74     3208      72    A      0"
      ]
     },
     "execution_count": 8,
     "metadata": {},
     "output_type": "execute_result"
    }
   ],
   "source": [
    "MNCAATourneyCompactResults.head()"
   ]
  },
  {
   "cell_type": "markdown",
   "id": "16ae6c09",
   "metadata": {},
   "source": [
    "## MNCAATourneyDetailedResults"
   ]
  },
  {
   "cell_type": "code",
   "execution_count": 9,
   "id": "c6c2f630",
   "metadata": {
    "ExecuteTime": {
     "end_time": "2023-02-26T10:16:29.017481Z",
     "start_time": "2023-02-26T10:16:28.990076Z"
    }
   },
   "outputs": [
    {
     "data": {
      "text/plain": [
       "(760, 34)"
      ]
     },
     "execution_count": 9,
     "metadata": {},
     "output_type": "execute_result"
    }
   ],
   "source": [
    "MNCAATourneyDetailedResults.shape"
   ]
  },
  {
   "cell_type": "code",
   "execution_count": 10,
   "id": "110871ec",
   "metadata": {
    "ExecuteTime": {
     "end_time": "2023-02-26T10:16:29.381243Z",
     "start_time": "2023-02-26T10:16:29.344945Z"
    }
   },
   "outputs": [
    {
     "data": {
      "text/html": [
       "<div>\n",
       "<style scoped>\n",
       "    .dataframe tbody tr th:only-of-type {\n",
       "        vertical-align: middle;\n",
       "    }\n",
       "\n",
       "    .dataframe tbody tr th {\n",
       "        vertical-align: top;\n",
       "    }\n",
       "\n",
       "    .dataframe thead th {\n",
       "        text-align: right;\n",
       "    }\n",
       "</style>\n",
       "<table border=\"1\" class=\"dataframe\">\n",
       "  <thead>\n",
       "    <tr style=\"text-align: right;\">\n",
       "      <th></th>\n",
       "      <th>Season</th>\n",
       "      <th>DayNum</th>\n",
       "      <th>WTeamID</th>\n",
       "      <th>WScore</th>\n",
       "      <th>LTeamID</th>\n",
       "      <th>LScore</th>\n",
       "      <th>WLoc</th>\n",
       "      <th>NumOT</th>\n",
       "      <th>WFGM</th>\n",
       "      <th>WFGA</th>\n",
       "      <th>...</th>\n",
       "      <th>LFGA3</th>\n",
       "      <th>LFTM</th>\n",
       "      <th>LFTA</th>\n",
       "      <th>LOR</th>\n",
       "      <th>LDR</th>\n",
       "      <th>LAst</th>\n",
       "      <th>LTO</th>\n",
       "      <th>LStl</th>\n",
       "      <th>LBlk</th>\n",
       "      <th>LPF</th>\n",
       "    </tr>\n",
       "  </thead>\n",
       "  <tbody>\n",
       "    <tr>\n",
       "      <th>0</th>\n",
       "      <td>2010</td>\n",
       "      <td>138</td>\n",
       "      <td>3124</td>\n",
       "      <td>69</td>\n",
       "      <td>3201</td>\n",
       "      <td>55</td>\n",
       "      <td>N</td>\n",
       "      <td>0</td>\n",
       "      <td>28</td>\n",
       "      <td>57</td>\n",
       "      <td>...</td>\n",
       "      <td>34</td>\n",
       "      <td>3</td>\n",
       "      <td>5</td>\n",
       "      <td>17</td>\n",
       "      <td>19</td>\n",
       "      <td>12</td>\n",
       "      <td>18</td>\n",
       "      <td>4</td>\n",
       "      <td>1</td>\n",
       "      <td>18</td>\n",
       "    </tr>\n",
       "    <tr>\n",
       "      <th>1</th>\n",
       "      <td>2010</td>\n",
       "      <td>138</td>\n",
       "      <td>3173</td>\n",
       "      <td>67</td>\n",
       "      <td>3395</td>\n",
       "      <td>66</td>\n",
       "      <td>N</td>\n",
       "      <td>0</td>\n",
       "      <td>23</td>\n",
       "      <td>59</td>\n",
       "      <td>...</td>\n",
       "      <td>27</td>\n",
       "      <td>14</td>\n",
       "      <td>15</td>\n",
       "      <td>18</td>\n",
       "      <td>26</td>\n",
       "      <td>8</td>\n",
       "      <td>8</td>\n",
       "      <td>8</td>\n",
       "      <td>6</td>\n",
       "      <td>22</td>\n",
       "    </tr>\n",
       "    <tr>\n",
       "      <th>2</th>\n",
       "      <td>2010</td>\n",
       "      <td>138</td>\n",
       "      <td>3181</td>\n",
       "      <td>72</td>\n",
       "      <td>3214</td>\n",
       "      <td>37</td>\n",
       "      <td>H</td>\n",
       "      <td>0</td>\n",
       "      <td>26</td>\n",
       "      <td>57</td>\n",
       "      <td>...</td>\n",
       "      <td>15</td>\n",
       "      <td>3</td>\n",
       "      <td>8</td>\n",
       "      <td>10</td>\n",
       "      <td>21</td>\n",
       "      <td>4</td>\n",
       "      <td>16</td>\n",
       "      <td>6</td>\n",
       "      <td>4</td>\n",
       "      <td>20</td>\n",
       "    </tr>\n",
       "    <tr>\n",
       "      <th>3</th>\n",
       "      <td>2010</td>\n",
       "      <td>138</td>\n",
       "      <td>3199</td>\n",
       "      <td>75</td>\n",
       "      <td>3256</td>\n",
       "      <td>61</td>\n",
       "      <td>H</td>\n",
       "      <td>0</td>\n",
       "      <td>25</td>\n",
       "      <td>63</td>\n",
       "      <td>...</td>\n",
       "      <td>20</td>\n",
       "      <td>17</td>\n",
       "      <td>22</td>\n",
       "      <td>16</td>\n",
       "      <td>21</td>\n",
       "      <td>13</td>\n",
       "      <td>16</td>\n",
       "      <td>5</td>\n",
       "      <td>4</td>\n",
       "      <td>24</td>\n",
       "    </tr>\n",
       "    <tr>\n",
       "      <th>4</th>\n",
       "      <td>2010</td>\n",
       "      <td>138</td>\n",
       "      <td>3207</td>\n",
       "      <td>62</td>\n",
       "      <td>3265</td>\n",
       "      <td>42</td>\n",
       "      <td>N</td>\n",
       "      <td>0</td>\n",
       "      <td>24</td>\n",
       "      <td>68</td>\n",
       "      <td>...</td>\n",
       "      <td>26</td>\n",
       "      <td>11</td>\n",
       "      <td>17</td>\n",
       "      <td>16</td>\n",
       "      <td>22</td>\n",
       "      <td>9</td>\n",
       "      <td>10</td>\n",
       "      <td>3</td>\n",
       "      <td>4</td>\n",
       "      <td>12</td>\n",
       "    </tr>\n",
       "  </tbody>\n",
       "</table>\n",
       "<p>5 rows × 34 columns</p>\n",
       "</div>"
      ],
      "text/plain": [
       "   Season  DayNum  WTeamID  WScore  LTeamID  LScore WLoc  NumOT  WFGM  WFGA  \\\n",
       "0    2010     138     3124      69     3201      55    N      0    28    57   \n",
       "1    2010     138     3173      67     3395      66    N      0    23    59   \n",
       "2    2010     138     3181      72     3214      37    H      0    26    57   \n",
       "3    2010     138     3199      75     3256      61    H      0    25    63   \n",
       "4    2010     138     3207      62     3265      42    N      0    24    68   \n",
       "\n",
       "   ...  LFGA3  LFTM  LFTA  LOR  LDR  LAst  LTO  LStl  LBlk  LPF  \n",
       "0  ...     34     3     5   17   19    12   18     4     1   18  \n",
       "1  ...     27    14    15   18   26     8    8     8     6   22  \n",
       "2  ...     15     3     8   10   21     4   16     6     4   20  \n",
       "3  ...     20    17    22   16   21    13   16     5     4   24  \n",
       "4  ...     26    11    17   16   22     9   10     3     4   12  \n",
       "\n",
       "[5 rows x 34 columns]"
      ]
     },
     "execution_count": 10,
     "metadata": {},
     "output_type": "execute_result"
    }
   ],
   "source": [
    "MNCAATourneyDetailedResults.head()"
   ]
  },
  {
   "cell_type": "markdown",
   "id": "ee15d672",
   "metadata": {},
   "source": [
    "## MNCAATourneySeeds"
   ]
  },
  {
   "cell_type": "code",
   "execution_count": 11,
   "id": "bdd5aa79",
   "metadata": {
    "ExecuteTime": {
     "end_time": "2023-02-26T10:16:41.608077Z",
     "start_time": "2023-02-26T10:16:41.595799Z"
    }
   },
   "outputs": [
    {
     "data": {
      "text/plain": [
       "(1540, 3)"
      ]
     },
     "execution_count": 11,
     "metadata": {},
     "output_type": "execute_result"
    }
   ],
   "source": [
    "MNCAATourneySeeds.shape"
   ]
  },
  {
   "cell_type": "code",
   "execution_count": 12,
   "id": "0246826e",
   "metadata": {
    "ExecuteTime": {
     "end_time": "2023-02-26T10:16:42.282770Z",
     "start_time": "2023-02-26T10:16:42.274791Z"
    }
   },
   "outputs": [
    {
     "data": {
      "text/html": [
       "<div>\n",
       "<style scoped>\n",
       "    .dataframe tbody tr th:only-of-type {\n",
       "        vertical-align: middle;\n",
       "    }\n",
       "\n",
       "    .dataframe tbody tr th {\n",
       "        vertical-align: top;\n",
       "    }\n",
       "\n",
       "    .dataframe thead th {\n",
       "        text-align: right;\n",
       "    }\n",
       "</style>\n",
       "<table border=\"1\" class=\"dataframe\">\n",
       "  <thead>\n",
       "    <tr style=\"text-align: right;\">\n",
       "      <th></th>\n",
       "      <th>Season</th>\n",
       "      <th>Seed</th>\n",
       "      <th>TeamID</th>\n",
       "    </tr>\n",
       "  </thead>\n",
       "  <tbody>\n",
       "    <tr>\n",
       "      <th>0</th>\n",
       "      <td>1998</td>\n",
       "      <td>W01</td>\n",
       "      <td>3330</td>\n",
       "    </tr>\n",
       "    <tr>\n",
       "      <th>1</th>\n",
       "      <td>1998</td>\n",
       "      <td>W02</td>\n",
       "      <td>3163</td>\n",
       "    </tr>\n",
       "    <tr>\n",
       "      <th>2</th>\n",
       "      <td>1998</td>\n",
       "      <td>W03</td>\n",
       "      <td>3112</td>\n",
       "    </tr>\n",
       "    <tr>\n",
       "      <th>3</th>\n",
       "      <td>1998</td>\n",
       "      <td>W04</td>\n",
       "      <td>3301</td>\n",
       "    </tr>\n",
       "    <tr>\n",
       "      <th>4</th>\n",
       "      <td>1998</td>\n",
       "      <td>W05</td>\n",
       "      <td>3272</td>\n",
       "    </tr>\n",
       "  </tbody>\n",
       "</table>\n",
       "</div>"
      ],
      "text/plain": [
       "   Season Seed  TeamID\n",
       "0    1998  W01    3330\n",
       "1    1998  W02    3163\n",
       "2    1998  W03    3112\n",
       "3    1998  W04    3301\n",
       "4    1998  W05    3272"
      ]
     },
     "execution_count": 12,
     "metadata": {},
     "output_type": "execute_result"
    }
   ],
   "source": [
    "MNCAATourneySeeds.head()"
   ]
  },
  {
   "cell_type": "code",
   "execution_count": 13,
   "id": "fd4ae9a0",
   "metadata": {
    "ExecuteTime": {
     "end_time": "2023-02-26T10:16:42.449694Z",
     "start_time": "2023-02-26T10:16:42.441696Z"
    }
   },
   "outputs": [],
   "source": [
    "MNCAATourneySeeds['Seed_number']=MNCAATourneySeeds['Seed'].str.extract('(\\d+)')"
   ]
  },
  {
   "cell_type": "code",
   "execution_count": 14,
   "id": "7e7ce49e",
   "metadata": {
    "ExecuteTime": {
     "end_time": "2023-02-26T10:16:43.023238Z",
     "start_time": "2023-02-26T10:16:43.007517Z"
    }
   },
   "outputs": [],
   "source": [
    "MNCAATourneySeeds['Seed_number']=MNCAATourneySeeds['Seed_number'].apply(int)"
   ]
  },
  {
   "cell_type": "code",
   "execution_count": 15,
   "id": "303fc05e",
   "metadata": {
    "ExecuteTime": {
     "end_time": "2023-02-26T10:16:43.558327Z",
     "start_time": "2023-02-26T10:16:43.527316Z"
    }
   },
   "outputs": [
    {
     "data": {
      "text/plain": [
       "11    98\n",
       "16    98\n",
       "1     96\n",
       "2     96\n",
       "3     96\n",
       "4     96\n",
       "5     96\n",
       "6     96\n",
       "7     96\n",
       "8     96\n",
       "9     96\n",
       "10    96\n",
       "12    96\n",
       "13    96\n",
       "14    96\n",
       "15    96\n",
       "Name: Seed_number, dtype: int64"
      ]
     },
     "execution_count": 15,
     "metadata": {},
     "output_type": "execute_result"
    }
   ],
   "source": [
    "MNCAATourneySeeds['Seed_number'].value_counts()"
   ]
  },
  {
   "cell_type": "code",
   "execution_count": 16,
   "id": "74d43ac6",
   "metadata": {
    "ExecuteTime": {
     "end_time": "2023-02-26T10:16:47.846829Z",
     "start_time": "2023-02-26T10:16:47.827878Z"
    }
   },
   "outputs": [],
   "source": [
    "seeds=MNCAATourneySeeds[['Season', 'TeamID', 'Seed_number']]"
   ]
  },
  {
   "cell_type": "markdown",
   "id": "44ef5ca3",
   "metadata": {},
   "source": [
    "## MRegularSeasonCompactResults"
   ]
  },
  {
   "cell_type": "code",
   "execution_count": 17,
   "id": "18d57316",
   "metadata": {
    "ExecuteTime": {
     "end_time": "2023-02-26T10:16:53.055249Z",
     "start_time": "2023-02-26T10:16:53.039559Z"
    }
   },
   "outputs": [
    {
     "data": {
      "text/plain": [
       "(124709, 8)"
      ]
     },
     "execution_count": 17,
     "metadata": {},
     "output_type": "execute_result"
    }
   ],
   "source": [
    "MRegularSeasonCompactResults.shape"
   ]
  },
  {
   "cell_type": "code",
   "execution_count": 18,
   "id": "433880de",
   "metadata": {
    "ExecuteTime": {
     "end_time": "2023-02-26T10:16:53.512539Z",
     "start_time": "2023-02-26T10:16:53.503547Z"
    }
   },
   "outputs": [
    {
     "data": {
      "text/html": [
       "<div>\n",
       "<style scoped>\n",
       "    .dataframe tbody tr th:only-of-type {\n",
       "        vertical-align: middle;\n",
       "    }\n",
       "\n",
       "    .dataframe tbody tr th {\n",
       "        vertical-align: top;\n",
       "    }\n",
       "\n",
       "    .dataframe thead th {\n",
       "        text-align: right;\n",
       "    }\n",
       "</style>\n",
       "<table border=\"1\" class=\"dataframe\">\n",
       "  <thead>\n",
       "    <tr style=\"text-align: right;\">\n",
       "      <th></th>\n",
       "      <th>Season</th>\n",
       "      <th>DayNum</th>\n",
       "      <th>WTeamID</th>\n",
       "      <th>WScore</th>\n",
       "      <th>LTeamID</th>\n",
       "      <th>LScore</th>\n",
       "      <th>WLoc</th>\n",
       "      <th>NumOT</th>\n",
       "    </tr>\n",
       "  </thead>\n",
       "  <tbody>\n",
       "    <tr>\n",
       "      <th>0</th>\n",
       "      <td>1998</td>\n",
       "      <td>18</td>\n",
       "      <td>3104</td>\n",
       "      <td>91</td>\n",
       "      <td>3202</td>\n",
       "      <td>41</td>\n",
       "      <td>H</td>\n",
       "      <td>0</td>\n",
       "    </tr>\n",
       "    <tr>\n",
       "      <th>1</th>\n",
       "      <td>1998</td>\n",
       "      <td>18</td>\n",
       "      <td>3163</td>\n",
       "      <td>87</td>\n",
       "      <td>3221</td>\n",
       "      <td>76</td>\n",
       "      <td>H</td>\n",
       "      <td>0</td>\n",
       "    </tr>\n",
       "    <tr>\n",
       "      <th>2</th>\n",
       "      <td>1998</td>\n",
       "      <td>18</td>\n",
       "      <td>3222</td>\n",
       "      <td>66</td>\n",
       "      <td>3261</td>\n",
       "      <td>59</td>\n",
       "      <td>H</td>\n",
       "      <td>0</td>\n",
       "    </tr>\n",
       "    <tr>\n",
       "      <th>3</th>\n",
       "      <td>1998</td>\n",
       "      <td>18</td>\n",
       "      <td>3307</td>\n",
       "      <td>69</td>\n",
       "      <td>3365</td>\n",
       "      <td>62</td>\n",
       "      <td>H</td>\n",
       "      <td>0</td>\n",
       "    </tr>\n",
       "    <tr>\n",
       "      <th>4</th>\n",
       "      <td>1998</td>\n",
       "      <td>18</td>\n",
       "      <td>3349</td>\n",
       "      <td>115</td>\n",
       "      <td>3411</td>\n",
       "      <td>35</td>\n",
       "      <td>H</td>\n",
       "      <td>0</td>\n",
       "    </tr>\n",
       "  </tbody>\n",
       "</table>\n",
       "</div>"
      ],
      "text/plain": [
       "   Season  DayNum  WTeamID  WScore  LTeamID  LScore WLoc  NumOT\n",
       "0    1998      18     3104      91     3202      41    H      0\n",
       "1    1998      18     3163      87     3221      76    H      0\n",
       "2    1998      18     3222      66     3261      59    H      0\n",
       "3    1998      18     3307      69     3365      62    H      0\n",
       "4    1998      18     3349     115     3411      35    H      0"
      ]
     },
     "execution_count": 18,
     "metadata": {},
     "output_type": "execute_result"
    }
   ],
   "source": [
    "MRegularSeasonCompactResults.head()"
   ]
  },
  {
   "cell_type": "markdown",
   "id": "8bd5ab90",
   "metadata": {},
   "source": [
    "## MRegularSeasonDetailedResults"
   ]
  },
  {
   "cell_type": "code",
   "execution_count": 19,
   "id": "de4db276",
   "metadata": {
    "ExecuteTime": {
     "end_time": "2023-02-26T10:16:54.591233Z",
     "start_time": "2023-02-26T10:16:54.585233Z"
    }
   },
   "outputs": [
    {
     "data": {
      "text/plain": [
       "(69319, 34)"
      ]
     },
     "execution_count": 19,
     "metadata": {},
     "output_type": "execute_result"
    }
   ],
   "source": [
    "MRegularSeasonDetailedResults.shape"
   ]
  },
  {
   "cell_type": "code",
   "execution_count": 20,
   "id": "6befc289",
   "metadata": {
    "ExecuteTime": {
     "end_time": "2023-02-26T10:16:54.801565Z",
     "start_time": "2023-02-26T10:16:54.791581Z"
    }
   },
   "outputs": [
    {
     "data": {
      "text/html": [
       "<div>\n",
       "<style scoped>\n",
       "    .dataframe tbody tr th:only-of-type {\n",
       "        vertical-align: middle;\n",
       "    }\n",
       "\n",
       "    .dataframe tbody tr th {\n",
       "        vertical-align: top;\n",
       "    }\n",
       "\n",
       "    .dataframe thead th {\n",
       "        text-align: right;\n",
       "    }\n",
       "</style>\n",
       "<table border=\"1\" class=\"dataframe\">\n",
       "  <thead>\n",
       "    <tr style=\"text-align: right;\">\n",
       "      <th></th>\n",
       "      <th>Season</th>\n",
       "      <th>DayNum</th>\n",
       "      <th>WTeamID</th>\n",
       "      <th>WScore</th>\n",
       "      <th>LTeamID</th>\n",
       "      <th>LScore</th>\n",
       "      <th>WLoc</th>\n",
       "      <th>NumOT</th>\n",
       "      <th>WFGM</th>\n",
       "      <th>WFGA</th>\n",
       "      <th>...</th>\n",
       "      <th>LFGA3</th>\n",
       "      <th>LFTM</th>\n",
       "      <th>LFTA</th>\n",
       "      <th>LOR</th>\n",
       "      <th>LDR</th>\n",
       "      <th>LAst</th>\n",
       "      <th>LTO</th>\n",
       "      <th>LStl</th>\n",
       "      <th>LBlk</th>\n",
       "      <th>LPF</th>\n",
       "    </tr>\n",
       "  </thead>\n",
       "  <tbody>\n",
       "    <tr>\n",
       "      <th>0</th>\n",
       "      <td>2010</td>\n",
       "      <td>11</td>\n",
       "      <td>3103</td>\n",
       "      <td>63</td>\n",
       "      <td>3237</td>\n",
       "      <td>49</td>\n",
       "      <td>H</td>\n",
       "      <td>0</td>\n",
       "      <td>23</td>\n",
       "      <td>54</td>\n",
       "      <td>...</td>\n",
       "      <td>13</td>\n",
       "      <td>6</td>\n",
       "      <td>10</td>\n",
       "      <td>11</td>\n",
       "      <td>27</td>\n",
       "      <td>11</td>\n",
       "      <td>23</td>\n",
       "      <td>7</td>\n",
       "      <td>6</td>\n",
       "      <td>19</td>\n",
       "    </tr>\n",
       "    <tr>\n",
       "      <th>1</th>\n",
       "      <td>2010</td>\n",
       "      <td>11</td>\n",
       "      <td>3104</td>\n",
       "      <td>73</td>\n",
       "      <td>3399</td>\n",
       "      <td>68</td>\n",
       "      <td>N</td>\n",
       "      <td>0</td>\n",
       "      <td>26</td>\n",
       "      <td>62</td>\n",
       "      <td>...</td>\n",
       "      <td>21</td>\n",
       "      <td>14</td>\n",
       "      <td>27</td>\n",
       "      <td>14</td>\n",
       "      <td>26</td>\n",
       "      <td>7</td>\n",
       "      <td>20</td>\n",
       "      <td>4</td>\n",
       "      <td>2</td>\n",
       "      <td>27</td>\n",
       "    </tr>\n",
       "    <tr>\n",
       "      <th>2</th>\n",
       "      <td>2010</td>\n",
       "      <td>11</td>\n",
       "      <td>3110</td>\n",
       "      <td>71</td>\n",
       "      <td>3224</td>\n",
       "      <td>59</td>\n",
       "      <td>A</td>\n",
       "      <td>0</td>\n",
       "      <td>29</td>\n",
       "      <td>62</td>\n",
       "      <td>...</td>\n",
       "      <td>14</td>\n",
       "      <td>19</td>\n",
       "      <td>23</td>\n",
       "      <td>17</td>\n",
       "      <td>23</td>\n",
       "      <td>8</td>\n",
       "      <td>15</td>\n",
       "      <td>6</td>\n",
       "      <td>0</td>\n",
       "      <td>15</td>\n",
       "    </tr>\n",
       "    <tr>\n",
       "      <th>3</th>\n",
       "      <td>2010</td>\n",
       "      <td>11</td>\n",
       "      <td>3111</td>\n",
       "      <td>63</td>\n",
       "      <td>3267</td>\n",
       "      <td>58</td>\n",
       "      <td>A</td>\n",
       "      <td>0</td>\n",
       "      <td>27</td>\n",
       "      <td>52</td>\n",
       "      <td>...</td>\n",
       "      <td>26</td>\n",
       "      <td>16</td>\n",
       "      <td>25</td>\n",
       "      <td>22</td>\n",
       "      <td>22</td>\n",
       "      <td>15</td>\n",
       "      <td>11</td>\n",
       "      <td>14</td>\n",
       "      <td>5</td>\n",
       "      <td>14</td>\n",
       "    </tr>\n",
       "    <tr>\n",
       "      <th>4</th>\n",
       "      <td>2010</td>\n",
       "      <td>11</td>\n",
       "      <td>3119</td>\n",
       "      <td>74</td>\n",
       "      <td>3447</td>\n",
       "      <td>70</td>\n",
       "      <td>H</td>\n",
       "      <td>1</td>\n",
       "      <td>30</td>\n",
       "      <td>74</td>\n",
       "      <td>...</td>\n",
       "      <td>17</td>\n",
       "      <td>11</td>\n",
       "      <td>21</td>\n",
       "      <td>21</td>\n",
       "      <td>32</td>\n",
       "      <td>12</td>\n",
       "      <td>14</td>\n",
       "      <td>4</td>\n",
       "      <td>2</td>\n",
       "      <td>14</td>\n",
       "    </tr>\n",
       "  </tbody>\n",
       "</table>\n",
       "<p>5 rows × 34 columns</p>\n",
       "</div>"
      ],
      "text/plain": [
       "   Season  DayNum  WTeamID  WScore  LTeamID  LScore WLoc  NumOT  WFGM  WFGA  \\\n",
       "0    2010      11     3103      63     3237      49    H      0    23    54   \n",
       "1    2010      11     3104      73     3399      68    N      0    26    62   \n",
       "2    2010      11     3110      71     3224      59    A      0    29    62   \n",
       "3    2010      11     3111      63     3267      58    A      0    27    52   \n",
       "4    2010      11     3119      74     3447      70    H      1    30    74   \n",
       "\n",
       "   ...  LFGA3  LFTM  LFTA  LOR  LDR  LAst  LTO  LStl  LBlk  LPF  \n",
       "0  ...     13     6    10   11   27    11   23     7     6   19  \n",
       "1  ...     21    14    27   14   26     7   20     4     2   27  \n",
       "2  ...     14    19    23   17   23     8   15     6     0   15  \n",
       "3  ...     26    16    25   22   22    15   11    14     5   14  \n",
       "4  ...     17    11    21   21   32    12   14     4     2   14  \n",
       "\n",
       "[5 rows x 34 columns]"
      ]
     },
     "execution_count": 20,
     "metadata": {},
     "output_type": "execute_result"
    }
   ],
   "source": [
    "MRegularSeasonDetailedResults.head()"
   ]
  },
  {
   "cell_type": "markdown",
   "id": "6c7987a3",
   "metadata": {},
   "source": [
    "## MTeams"
   ]
  },
  {
   "cell_type": "code",
   "execution_count": 21,
   "id": "1da65df2",
   "metadata": {
    "ExecuteTime": {
     "end_time": "2023-02-26T10:16:55.545508Z",
     "start_time": "2023-02-26T10:16:55.536490Z"
    }
   },
   "outputs": [
    {
     "data": {
      "text/plain": [
       "(375, 2)"
      ]
     },
     "execution_count": 21,
     "metadata": {},
     "output_type": "execute_result"
    }
   ],
   "source": [
    "MTeams.shape"
   ]
  },
  {
   "cell_type": "code",
   "execution_count": 22,
   "id": "a658a095",
   "metadata": {
    "ExecuteTime": {
     "end_time": "2023-02-26T10:16:55.770461Z",
     "start_time": "2023-02-26T10:16:55.754615Z"
    }
   },
   "outputs": [
    {
     "data": {
      "text/html": [
       "<div>\n",
       "<style scoped>\n",
       "    .dataframe tbody tr th:only-of-type {\n",
       "        vertical-align: middle;\n",
       "    }\n",
       "\n",
       "    .dataframe tbody tr th {\n",
       "        vertical-align: top;\n",
       "    }\n",
       "\n",
       "    .dataframe thead th {\n",
       "        text-align: right;\n",
       "    }\n",
       "</style>\n",
       "<table border=\"1\" class=\"dataframe\">\n",
       "  <thead>\n",
       "    <tr style=\"text-align: right;\">\n",
       "      <th></th>\n",
       "      <th>TeamID</th>\n",
       "      <th>TeamName</th>\n",
       "    </tr>\n",
       "  </thead>\n",
       "  <tbody>\n",
       "    <tr>\n",
       "      <th>0</th>\n",
       "      <td>3101</td>\n",
       "      <td>Abilene Chr</td>\n",
       "    </tr>\n",
       "    <tr>\n",
       "      <th>1</th>\n",
       "      <td>3102</td>\n",
       "      <td>Air Force</td>\n",
       "    </tr>\n",
       "    <tr>\n",
       "      <th>2</th>\n",
       "      <td>3103</td>\n",
       "      <td>Akron</td>\n",
       "    </tr>\n",
       "    <tr>\n",
       "      <th>3</th>\n",
       "      <td>3104</td>\n",
       "      <td>Alabama</td>\n",
       "    </tr>\n",
       "    <tr>\n",
       "      <th>4</th>\n",
       "      <td>3105</td>\n",
       "      <td>Alabama A&amp;M</td>\n",
       "    </tr>\n",
       "  </tbody>\n",
       "</table>\n",
       "</div>"
      ],
      "text/plain": [
       "   TeamID     TeamName\n",
       "0    3101  Abilene Chr\n",
       "1    3102    Air Force\n",
       "2    3103        Akron\n",
       "3    3104      Alabama\n",
       "4    3105  Alabama A&M"
      ]
     },
     "execution_count": 22,
     "metadata": {},
     "output_type": "execute_result"
    }
   ],
   "source": [
    "MTeams.head()"
   ]
  },
  {
   "cell_type": "code",
   "execution_count": 23,
   "id": "3e543c6c",
   "metadata": {
    "ExecuteTime": {
     "end_time": "2023-02-26T10:16:55.990076Z",
     "start_time": "2023-02-26T10:16:55.979324Z"
    }
   },
   "outputs": [
    {
     "name": "stdout",
     "output_type": "stream",
     "text": [
      "<class 'pandas.core.frame.DataFrame'>\n",
      "RangeIndex: 375 entries, 0 to 374\n",
      "Data columns (total 2 columns):\n",
      " #   Column    Non-Null Count  Dtype \n",
      "---  ------    --------------  ----- \n",
      " 0   TeamID    375 non-null    int64 \n",
      " 1   TeamName  375 non-null    object\n",
      "dtypes: int64(1), object(1)\n",
      "memory usage: 6.0+ KB\n"
     ]
    }
   ],
   "source": [
    "MTeams.info()"
   ]
  },
  {
   "cell_type": "markdown",
   "id": "687821f9",
   "metadata": {
    "ExecuteTime": {
     "end_time": "2023-02-23T16:56:35.484817Z",
     "start_time": "2023-02-23T16:56:35.464751Z"
    }
   },
   "source": [
    "# Data preparation"
   ]
  },
  {
   "cell_type": "code",
   "execution_count": 24,
   "id": "b5b28f18",
   "metadata": {
    "ExecuteTime": {
     "end_time": "2023-02-26T10:16:57.668263Z",
     "start_time": "2023-02-26T10:16:57.663261Z"
    }
   },
   "outputs": [],
   "source": [
    "def winning_team(WTeamID, LTeamID, Season, DayNum):\n",
    "    if WTeamID<LTeamID:\n",
    "        return (1,WTeamID, LTeamID, Season, DayNum)\n",
    "    else:\n",
    "        return (0,LTeamID,WTeamID, Season, DayNum)        "
   ]
  },
  {
   "cell_type": "code",
   "execution_count": 25,
   "id": "abec7b6b",
   "metadata": {
    "ExecuteTime": {
     "end_time": "2023-02-26T10:16:59.605453Z",
     "start_time": "2023-02-26T10:16:59.558956Z"
    }
   },
   "outputs": [],
   "source": [
    "target_df=pd.DataFrame(list(MNCAATourneyCompactResults.apply(lambda x: winning_team(x['WTeamID'], x['LTeamID'], x['Season'], x['DayNum']), axis=1)), columns=['Target','TeamID1', 'TeamID2', 'Season', 'DayNum'])"
   ]
  },
  {
   "cell_type": "code",
   "execution_count": 26,
   "id": "3633a01e",
   "metadata": {
    "ExecuteTime": {
     "end_time": "2023-02-26T10:16:59.981051Z",
     "start_time": "2023-02-26T10:16:59.967819Z"
    },
    "scrolled": true
   },
   "outputs": [
    {
     "data": {
      "text/html": [
       "<div>\n",
       "<style scoped>\n",
       "    .dataframe tbody tr th:only-of-type {\n",
       "        vertical-align: middle;\n",
       "    }\n",
       "\n",
       "    .dataframe tbody tr th {\n",
       "        vertical-align: top;\n",
       "    }\n",
       "\n",
       "    .dataframe thead th {\n",
       "        text-align: right;\n",
       "    }\n",
       "</style>\n",
       "<table border=\"1\" class=\"dataframe\">\n",
       "  <thead>\n",
       "    <tr style=\"text-align: right;\">\n",
       "      <th></th>\n",
       "      <th>Target</th>\n",
       "      <th>TeamID1</th>\n",
       "      <th>TeamID2</th>\n",
       "      <th>Season</th>\n",
       "      <th>DayNum</th>\n",
       "    </tr>\n",
       "  </thead>\n",
       "  <tbody>\n",
       "    <tr>\n",
       "      <th>0</th>\n",
       "      <td>1</td>\n",
       "      <td>3104</td>\n",
       "      <td>3422</td>\n",
       "      <td>1998</td>\n",
       "      <td>137</td>\n",
       "    </tr>\n",
       "    <tr>\n",
       "      <th>1</th>\n",
       "      <td>1</td>\n",
       "      <td>3112</td>\n",
       "      <td>3365</td>\n",
       "      <td>1998</td>\n",
       "      <td>137</td>\n",
       "    </tr>\n",
       "    <tr>\n",
       "      <th>2</th>\n",
       "      <td>1</td>\n",
       "      <td>3163</td>\n",
       "      <td>3193</td>\n",
       "      <td>1998</td>\n",
       "      <td>137</td>\n",
       "    </tr>\n",
       "    <tr>\n",
       "      <th>3</th>\n",
       "      <td>1</td>\n",
       "      <td>3198</td>\n",
       "      <td>3266</td>\n",
       "      <td>1998</td>\n",
       "      <td>137</td>\n",
       "    </tr>\n",
       "    <tr>\n",
       "      <th>4</th>\n",
       "      <td>1</td>\n",
       "      <td>3203</td>\n",
       "      <td>3208</td>\n",
       "      <td>1998</td>\n",
       "      <td>137</td>\n",
       "    </tr>\n",
       "    <tr>\n",
       "      <th>...</th>\n",
       "      <td>...</td>\n",
       "      <td>...</td>\n",
       "      <td>...</td>\n",
       "      <td>...</td>\n",
       "      <td>...</td>\n",
       "    </tr>\n",
       "    <tr>\n",
       "      <th>1511</th>\n",
       "      <td>1</td>\n",
       "      <td>3163</td>\n",
       "      <td>3301</td>\n",
       "      <td>2022</td>\n",
       "      <td>147</td>\n",
       "    </tr>\n",
       "    <tr>\n",
       "      <th>1512</th>\n",
       "      <td>1</td>\n",
       "      <td>3257</td>\n",
       "      <td>3276</td>\n",
       "      <td>2022</td>\n",
       "      <td>147</td>\n",
       "    </tr>\n",
       "    <tr>\n",
       "      <th>1513</th>\n",
       "      <td>1</td>\n",
       "      <td>3163</td>\n",
       "      <td>3390</td>\n",
       "      <td>2022</td>\n",
       "      <td>151</td>\n",
       "    </tr>\n",
       "    <tr>\n",
       "      <th>1514</th>\n",
       "      <td>0</td>\n",
       "      <td>3257</td>\n",
       "      <td>3376</td>\n",
       "      <td>2022</td>\n",
       "      <td>151</td>\n",
       "    </tr>\n",
       "    <tr>\n",
       "      <th>1515</th>\n",
       "      <td>0</td>\n",
       "      <td>3163</td>\n",
       "      <td>3376</td>\n",
       "      <td>2022</td>\n",
       "      <td>153</td>\n",
       "    </tr>\n",
       "  </tbody>\n",
       "</table>\n",
       "<p>1516 rows × 5 columns</p>\n",
       "</div>"
      ],
      "text/plain": [
       "      Target  TeamID1  TeamID2  Season  DayNum\n",
       "0          1     3104     3422    1998     137\n",
       "1          1     3112     3365    1998     137\n",
       "2          1     3163     3193    1998     137\n",
       "3          1     3198     3266    1998     137\n",
       "4          1     3203     3208    1998     137\n",
       "...      ...      ...      ...     ...     ...\n",
       "1511       1     3163     3301    2022     147\n",
       "1512       1     3257     3276    2022     147\n",
       "1513       1     3163     3390    2022     151\n",
       "1514       0     3257     3376    2022     151\n",
       "1515       0     3163     3376    2022     153\n",
       "\n",
       "[1516 rows x 5 columns]"
      ]
     },
     "execution_count": 26,
     "metadata": {},
     "output_type": "execute_result"
    }
   ],
   "source": [
    "target_df"
   ]
  },
  {
   "cell_type": "markdown",
   "id": "9b48c517",
   "metadata": {
    "ExecuteTime": {
     "end_time": "2023-02-24T13:26:09.593369Z",
     "start_time": "2023-02-24T13:26:09.584362Z"
    }
   },
   "source": [
    "## Same season rankings"
   ]
  },
  {
   "cell_type": "code",
   "execution_count": null,
   "id": "df3ae897",
   "metadata": {
    "ExecuteTime": {
     "end_time": "2023-02-26T10:16:12.011273Z",
     "start_time": "2023-02-26T10:16:12.011273Z"
    }
   },
   "outputs": [],
   "source": [
    "systems={#'AP',\n",
    "# 'ARG',\n",
    "# 'BIH',\n",
    "# 'COL',\n",
    "# 'DOL',\n",
    "# 'DUN',\n",
    " #'MAS',\n",
    " 'MOR',\n",
    "# 'POM',\n",
    " #'RTH',\n",
    " 'SAG',\n",
    " #'SEL',\n",
    " #'USA',\n",
    " 'WLK',\n",
    " #'WOB',\n",
    " #'WOL'\n",
    "}"
   ]
  },
  {
   "cell_type": "code",
   "execution_count": null,
   "id": "f02857c7",
   "metadata": {
    "ExecuteTime": {
     "end_time": "2023-02-26T10:16:12.012285Z",
     "start_time": "2023-02-26T10:16:12.012285Z"
    }
   },
   "outputs": [],
   "source": [
    "rankings=MMasseyOrdinals[MMasseyOrdinals['SystemName'].apply(lambda x: x in systems)].sort_values(['Season', 'TeamID','RankingDayNum'])"
   ]
  },
  {
   "cell_type": "code",
   "execution_count": null,
   "id": "7a05ef82",
   "metadata": {
    "ExecuteTime": {
     "end_time": "2023-02-26T10:16:12.013274Z",
     "start_time": "2023-02-26T10:16:12.013274Z"
    }
   },
   "outputs": [],
   "source": [
    "rankings=rankings.groupby(['TeamID', 'Season', 'SystemName'])['OrdinalRank'].agg([min, max, np.mean,'first', 'last']).reset_index().pivot(index=['TeamID','Season'], columns='SystemName').reset_index()"
   ]
  },
  {
   "cell_type": "code",
   "execution_count": null,
   "id": "c7282dec",
   "metadata": {
    "ExecuteTime": {
     "end_time": "2023-02-26T10:16:12.013694Z",
     "start_time": "2023-02-26T10:16:12.013694Z"
    }
   },
   "outputs": [],
   "source": [
    "rankings.columns=rankings.columns.map('_'.join).str.strip('_')"
   ]
  },
  {
   "cell_type": "code",
   "execution_count": null,
   "id": "2ef415db",
   "metadata": {
    "ExecuteTime": {
     "end_time": "2023-02-26T10:16:12.015385Z",
     "start_time": "2023-02-26T10:16:12.015385Z"
    }
   },
   "outputs": [],
   "source": [
    "rankings"
   ]
  },
  {
   "cell_type": "markdown",
   "id": "b2b2a40e",
   "metadata": {
    "ExecuteTime": {
     "end_time": "2023-02-24T13:50:26.254573Z",
     "start_time": "2023-02-24T13:50:26.238501Z"
    }
   },
   "source": [
    "## Same season compact results"
   ]
  },
  {
   "cell_type": "markdown",
   "id": "d15891ed",
   "metadata": {},
   "source": [
    "### By team"
   ]
  },
  {
   "cell_type": "code",
   "execution_count": null,
   "id": "2fa76934",
   "metadata": {
    "ExecuteTime": {
     "end_time": "2023-02-26T10:16:12.016396Z",
     "start_time": "2023-02-26T10:16:12.016396Z"
    }
   },
   "outputs": [],
   "source": [
    "MRegularSeasonCompactResults.head()"
   ]
  },
  {
   "cell_type": "code",
   "execution_count": null,
   "id": "8572d733",
   "metadata": {
    "ExecuteTime": {
     "end_time": "2023-02-26T10:16:12.017395Z",
     "start_time": "2023-02-26T10:16:12.017395Z"
    }
   },
   "outputs": [],
   "source": [
    "def winning_team2(WTeamID, LTeamID, Season, DayNum, WScore, LScore, WLoc):\n",
    "    \n",
    "    def revert_home(x):\n",
    "        if x=='H':\n",
    "            return 'A'\n",
    "        elif x=='A':\n",
    "            return 'H'\n",
    "        else:\n",
    "            return x\n",
    "        \n",
    "    if WTeamID<LTeamID:\n",
    "        return (1,WTeamID, LTeamID, Season, DayNum, WScore, LScore, WLoc)\n",
    "    else:\n",
    "        return (0,LTeamID,WTeamID, Season, DayNum, LScore, WScore, revert_home(WLoc))     \n"
   ]
  },
  {
   "cell_type": "code",
   "execution_count": null,
   "id": "93af5e9b",
   "metadata": {
    "ExecuteTime": {
     "end_time": "2023-02-26T10:16:12.018394Z",
     "start_time": "2023-02-26T10:16:12.018394Z"
    }
   },
   "outputs": [],
   "source": [
    "reg_season=pd.DataFrame(list(MRegularSeasonCompactResults.apply(lambda x: winning_team2(x['WTeamID'], x['LTeamID'], x['Season'], x['DayNum'], x['WScore'], x['LScore'], x['WLoc']), axis=1)), columns=['Win','TeamID1', 'TeamID2', 'Season', 'DayNum', 'Score1', 'Score2', 'WLoc'])"
   ]
  },
  {
   "cell_type": "code",
   "execution_count": null,
   "id": "79030365",
   "metadata": {
    "ExecuteTime": {
     "end_time": "2023-02-26T10:16:12.019392Z",
     "start_time": "2023-02-26T10:16:12.019392Z"
    }
   },
   "outputs": [],
   "source": [
    "reg_season"
   ]
  },
  {
   "cell_type": "code",
   "execution_count": null,
   "id": "b9ee1e14",
   "metadata": {
    "ExecuteTime": {
     "end_time": "2023-02-26T10:16:12.020393Z",
     "start_time": "2023-02-26T10:16:12.020393Z"
    },
    "code_folding": []
   },
   "outputs": [],
   "source": [
    "reg_season_by_team_win=MRegularSeasonCompactResults.groupby(['Season', 'WTeamID']).agg({'NumOT':'count','WScore': 'sum'}).reset_index().rename(columns=\n",
    "                                                                                                                  {'WTeamID':'TeamID','NumOT':'Wins', 'WScore':'Points'})\n",
    "\n",
    "reg_season_by_team_loss=MRegularSeasonCompactResults.groupby(['Season', 'LTeamID']).agg({'NumOT':'count','LScore': 'sum'}).reset_index().rename(columns=\n",
    "{'LTeamID':'TeamID','NumOT':'Losses', 'LScore':'Points'})\n"
   ]
  },
  {
   "cell_type": "code",
   "execution_count": null,
   "id": "5e688237",
   "metadata": {
    "ExecuteTime": {
     "end_time": "2023-02-26T10:16:12.021392Z",
     "start_time": "2023-02-26T10:16:12.021392Z"
    }
   },
   "outputs": [],
   "source": [
    "reg_season_by_team=reg_season_by_team_win.merge(reg_season_by_team_loss, how='left', on=['Season','TeamID'])"
   ]
  },
  {
   "cell_type": "code",
   "execution_count": null,
   "id": "54593c27",
   "metadata": {
    "ExecuteTime": {
     "end_time": "2023-02-26T10:16:12.022392Z",
     "start_time": "2023-02-26T10:16:12.022392Z"
    }
   },
   "outputs": [],
   "source": [
    "reg_season_by_team['Matches']=reg_season_by_team['Wins']+reg_season_by_team['Losses']\n",
    "reg_season_by_team['Points']=reg_season_by_team['Points_x']+reg_season_by_team['Points_y']\n",
    "reg_season_by_team['Avg_points_per_game']=reg_season_by_team['Points']/reg_season_by_team['Matches']\n",
    "\n",
    "reg_season_by_team=reg_season_by_team[['Season','TeamID','Wins','Losses','Matches','Points','Avg_points_per_game']]"
   ]
  },
  {
   "cell_type": "code",
   "execution_count": null,
   "id": "41b9ebfc",
   "metadata": {
    "ExecuteTime": {
     "end_time": "2023-02-26T10:16:12.023392Z",
     "start_time": "2023-02-26T10:16:12.023392Z"
    }
   },
   "outputs": [],
   "source": [
    "reg_season_by_team"
   ]
  },
  {
   "cell_type": "markdown",
   "id": "d5693b5c",
   "metadata": {},
   "source": [
    "### By pairs of teams"
   ]
  },
  {
   "cell_type": "code",
   "execution_count": null,
   "id": "e06810c8",
   "metadata": {
    "ExecuteTime": {
     "end_time": "2023-02-26T10:16:12.023392Z",
     "start_time": "2023-02-26T10:16:12.023392Z"
    }
   },
   "outputs": [],
   "source": [
    "reg_season.head()"
   ]
  },
  {
   "cell_type": "code",
   "execution_count": null,
   "id": "6bd65f56",
   "metadata": {
    "ExecuteTime": {
     "end_time": "2023-02-26T10:16:12.024402Z",
     "start_time": "2023-02-26T10:16:12.024402Z"
    }
   },
   "outputs": [],
   "source": [
    "reg_season=reg_season.groupby(['TeamID1','TeamID2','Season'])['Win'].agg(['count',sum, np.mean]).reset_index().rename(columns={\n",
    "    'count': 'together_matches_played',\n",
    "    'sum':'together_number_of_wins',\n",
    "    'mean': 'together_winning_percentage'\n",
    "})"
   ]
  },
  {
   "cell_type": "markdown",
   "id": "675cd8cf",
   "metadata": {},
   "source": [
    "## Putting it all together"
   ]
  },
  {
   "cell_type": "code",
   "execution_count": null,
   "id": "645d323c",
   "metadata": {
    "ExecuteTime": {
     "end_time": "2023-02-26T10:16:12.025392Z",
     "start_time": "2023-02-26T10:16:12.025392Z"
    }
   },
   "outputs": [],
   "source": [
    "target_df.head()"
   ]
  },
  {
   "cell_type": "code",
   "execution_count": null,
   "id": "2f18ebdc",
   "metadata": {
    "ExecuteTime": {
     "end_time": "2023-02-26T10:16:12.026392Z",
     "start_time": "2023-02-26T10:16:12.026392Z"
    }
   },
   "outputs": [],
   "source": [
    "rankings.head()"
   ]
  },
  {
   "cell_type": "code",
   "execution_count": null,
   "id": "494506d0",
   "metadata": {
    "ExecuteTime": {
     "end_time": "2023-02-26T10:16:12.026392Z",
     "start_time": "2023-02-26T10:16:12.026392Z"
    }
   },
   "outputs": [],
   "source": [
    "reg_season_by_team.head()"
   ]
  },
  {
   "cell_type": "code",
   "execution_count": null,
   "id": "a6dad4f6",
   "metadata": {
    "ExecuteTime": {
     "end_time": "2023-02-26T10:16:12.027392Z",
     "start_time": "2023-02-26T10:16:12.027392Z"
    }
   },
   "outputs": [],
   "source": [
    "reg_season.head()"
   ]
  },
  {
   "cell_type": "code",
   "execution_count": null,
   "id": "05bf4c7e",
   "metadata": {
    "ExecuteTime": {
     "end_time": "2023-02-26T10:16:12.028405Z",
     "start_time": "2023-02-26T10:16:12.028405Z"
    }
   },
   "outputs": [],
   "source": [
    "df=target_df.merge(rankings, how='left', left_on=['Season', 'TeamID1'], right_on=['Season', 'TeamID']).merge(rankings, how='left', left_on=['Season', 'TeamID2'], right_on=['Season', 'TeamID'])"
   ]
  },
  {
   "cell_type": "code",
   "execution_count": null,
   "id": "ec1ece2d",
   "metadata": {
    "ExecuteTime": {
     "end_time": "2023-02-26T10:16:12.029403Z",
     "start_time": "2023-02-26T10:16:12.029403Z"
    }
   },
   "outputs": [],
   "source": [
    "df=df.drop(columns=['TeamID_x', 'TeamID_y'])"
   ]
  },
  {
   "cell_type": "code",
   "execution_count": null,
   "id": "5c319a99",
   "metadata": {
    "ExecuteTime": {
     "end_time": "2023-02-26T10:16:12.030392Z",
     "start_time": "2023-02-26T10:16:12.030392Z"
    }
   },
   "outputs": [],
   "source": [
    "df=df.merge(reg_season_by_team, how='left', left_on=['Season', 'TeamID1'], right_on=['Season', 'TeamID']).merge(reg_season_by_team, how='left', left_on=['Season', 'TeamID2'], right_on=['Season', 'TeamID'])"
   ]
  },
  {
   "cell_type": "code",
   "execution_count": null,
   "id": "1f6a5dea",
   "metadata": {
    "ExecuteTime": {
     "end_time": "2023-02-26T10:16:12.031392Z",
     "start_time": "2023-02-26T10:16:12.031392Z"
    }
   },
   "outputs": [],
   "source": [
    "df=df.drop(columns=['TeamID_x', 'TeamID_y'])"
   ]
  },
  {
   "cell_type": "code",
   "execution_count": null,
   "id": "8edccecd",
   "metadata": {
    "ExecuteTime": {
     "end_time": "2023-02-26T10:16:12.032392Z",
     "start_time": "2023-02-26T10:16:12.032392Z"
    }
   },
   "outputs": [],
   "source": [
    "df=df.merge(reg_season, how='left', on=['Season', 'TeamID1','TeamID2'])"
   ]
  },
  {
   "cell_type": "code",
   "execution_count": null,
   "id": "347c7a82",
   "metadata": {
    "ExecuteTime": {
     "end_time": "2023-02-26T10:16:12.033393Z",
     "start_time": "2023-02-26T10:16:12.033393Z"
    }
   },
   "outputs": [],
   "source": [
    "df=df.merge(seeds, how='left', left_on=['Season', 'TeamID1'], right_on=['Season', 'TeamID']).merge(seeds, how='left', left_on=['Season', 'TeamID2'], right_on=['Season', 'TeamID'])"
   ]
  },
  {
   "cell_type": "code",
   "execution_count": null,
   "id": "58fd6ad8",
   "metadata": {
    "ExecuteTime": {
     "end_time": "2023-02-26T10:16:12.033393Z",
     "start_time": "2023-02-26T10:16:12.033393Z"
    }
   },
   "outputs": [],
   "source": [
    "df=df.drop(columns=['TeamID_x', 'TeamID_y'])"
   ]
  },
  {
   "cell_type": "code",
   "execution_count": null,
   "id": "e0eb0b92",
   "metadata": {
    "ExecuteTime": {
     "end_time": "2023-02-26T10:16:12.034393Z",
     "start_time": "2023-02-26T10:16:12.034393Z"
    }
   },
   "outputs": [],
   "source": [
    "df.columns=[x.replace('_x', '_1').replace('_y','_2') for x in df.columns]"
   ]
  },
  {
   "cell_type": "code",
   "execution_count": null,
   "id": "1c34e48d",
   "metadata": {
    "ExecuteTime": {
     "end_time": "2023-02-26T10:16:12.035406Z",
     "start_time": "2023-02-26T10:16:12.035406Z"
    }
   },
   "outputs": [],
   "source": [
    "df"
   ]
  },
  {
   "cell_type": "code",
   "execution_count": null,
   "id": "904a8872",
   "metadata": {
    "ExecuteTime": {
     "end_time": "2023-02-26T10:16:12.036146Z",
     "start_time": "2023-02-26T10:16:12.036146Z"
    }
   },
   "outputs": [],
   "source": [
    "df['Avg_points_difference']=df['Avg_points_per_game_1']-df['Avg_points_per_game_2']\n",
    "df['Avg_points_ratio']=df['Avg_points_per_game_1']/df['Avg_points_per_game_2']\n",
    "\n",
    "df['Wins_difference']=df['Wins_1']/df['Wins_2']\n",
    "df['Wins_percentage_ratio']=(df['Wins_1']*df['Matches_2'])/(df['Wins_2']*df['Matches_1'])\n",
    "\n",
    "df['Seeds_difference']=df['Seed_number_1']-df['Seed_number_2']\n",
    "df['Seeds_ratio']=df['Seed_number_1']/df['Seed_number_2']"
   ]
  },
  {
   "cell_type": "code",
   "execution_count": null,
   "id": "07bf436a",
   "metadata": {
    "ExecuteTime": {
     "end_time": "2023-02-26T10:16:12.036146Z",
     "start_time": "2023-02-26T10:16:12.036146Z"
    }
   },
   "outputs": [],
   "source": [
    "df"
   ]
  },
  {
   "cell_type": "code",
   "execution_count": null,
   "id": "2d400571",
   "metadata": {
    "ExecuteTime": {
     "end_time": "2023-02-26T10:16:12.036146Z",
     "start_time": "2023-02-26T10:16:12.036146Z"
    }
   },
   "outputs": [],
   "source": [
    "df.to_csv('Dataset_for_modelling.csv', index=False)"
   ]
  }
 ],
 "metadata": {
  "hide_input": false,
  "kernelspec": {
   "display_name": "Python 3 (ipykernel)",
   "language": "python",
   "name": "python3"
  },
  "language_info": {
   "codemirror_mode": {
    "name": "ipython",
    "version": 3
   },
   "file_extension": ".py",
   "mimetype": "text/x-python",
   "name": "python",
   "nbconvert_exporter": "python",
   "pygments_lexer": "ipython3",
   "version": "3.9.13"
  },
  "toc": {
   "base_numbering": 1,
   "nav_menu": {},
   "number_sections": true,
   "sideBar": true,
   "skip_h1_title": false,
   "title_cell": "Table of Contents",
   "title_sidebar": "Contents",
   "toc_cell": false,
   "toc_position": {
    "height": "calc(100% - 180px)",
    "left": "10px",
    "top": "150px",
    "width": "296.594px"
   },
   "toc_section_display": true,
   "toc_window_display": true
  },
  "varInspector": {
   "cols": {
    "lenName": 16,
    "lenType": 16,
    "lenVar": 40
   },
   "kernels_config": {
    "python": {
     "delete_cmd_postfix": "",
     "delete_cmd_prefix": "del ",
     "library": "var_list.py",
     "varRefreshCmd": "print(var_dic_list())"
    },
    "r": {
     "delete_cmd_postfix": ") ",
     "delete_cmd_prefix": "rm(",
     "library": "var_list.r",
     "varRefreshCmd": "cat(var_dic_list()) "
    }
   },
   "types_to_exclude": [
    "module",
    "function",
    "builtin_function_or_method",
    "instance",
    "_Feature"
   ],
   "window_display": false
  }
 },
 "nbformat": 4,
 "nbformat_minor": 5
}
